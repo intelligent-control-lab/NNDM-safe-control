{
 "cells": [
  {
   "cell_type": "code",
   "execution_count": 1,
   "metadata": {},
   "outputs": [
    {
     "name": "stderr",
     "output_type": "stream",
     "text": [
      "┌ Info: Precompiling NeuralVerification [146f25fa-00e7-11e9-3ae5-fdbac6e12fa7]\n",
      "└ @ Base loading.jl:1278\n",
      "┌ Warning: Package NeuralVerification does not have CPLEX in its dependencies:\n",
      "│ - If you have NeuralVerification checked out for development and have\n",
      "│   added CPLEX as a dependency but haven't updated your primary\n",
      "│   environment's manifest file, try `Pkg.resolve()`.\n",
      "│ - Otherwise you may need to report an issue with NeuralVerification\n",
      "└ Loading CPLEX into NeuralVerification from project dependency, future warnings for NeuralVerification are suppressed.\n"
     ]
    },
    {
     "data": {
      "text/plain": [
       "grad_phi (generic function with 2 methods)"
      ]
     },
     "execution_count": 1,
     "metadata": {},
     "output_type": "execute_result"
    }
   ],
   "source": [
    "using Plots\n",
    "using LinearAlgebra\n",
    "using Revise\n",
    "using NeuralVerification\n",
    "using NeuralVerification:Network, Layer, ReLU, Id, read_nnet, compute_output\n",
    "using LazySets\n",
    "using Random\n",
    "using BlackBoxOptim\n",
    "include(\"unicycle_env.jl\")\n",
    "include(\"controller.jl\")\n",
    "include(\"problem.jl\")\n",
    "include(\"safe_set.jl\")"
   ]
  },
  {
   "cell_type": "code",
   "execution_count": 2,
   "metadata": {},
   "outputs": [
    {
     "data": {
      "text/plain": [
       "0.5"
      ]
     },
     "execution_count": 2,
     "metadata": {},
     "output_type": "execute_result"
    }
   ],
   "source": [
    "net_path = \"../nnet/unicycle-FC3-100-rk4/epoch_1000.nnet\"\n",
    "net = read_nnet(net_path);\n",
    "obs_radius = 0.5"
   ]
  },
  {
   "cell_type": "code",
   "execution_count": 3,
   "metadata": {},
   "outputs": [
    {
     "data": {
      "text/plain": [
       "tracking (generic function with 1 method)"
      ]
     },
     "execution_count": 3,
     "metadata": {},
     "output_type": "execute_result"
    }
   ],
   "source": [
    "function generate_moving_target(;fps=10, tf=2, v=nothing, v_lim=0.5)\n",
    "    T = tf*fps\n",
    "    v = isnothing(v) ? [rand(), rand()]*v_lim*2 .- v_lim : v\n",
    "    p = [0, 1.5]\n",
    "    return [Obstacle(p+v*(i/fps), v, obs_radius) for i in 0:T-1]\n",
    "end\n",
    "\n",
    "function get_Xref(x0, xg, T, dt)\n",
    "    tf = T*dt\n",
    "    dp = [xg[1]-x0[1], xg[2]-x0[2]]\n",
    "    da = xg[4]-x0[4]\n",
    "    a = atan(dp[2], dp[1])\n",
    "    v = norm(dp)/tf\n",
    "    v = max(min(v, 1),-1)\n",
    "    vx = v * cos(a)\n",
    "    vy = v * sin(a)\n",
    "    Xref = [[x0[1]+vx*k*dt, x0[2]+vy*k*dt, v, a] for k = 1:T]\n",
    "    Xref[end][3] = 0\n",
    "    return Xref\n",
    "end\n",
    "\n",
    "function tracking(rp::RP, ctrl; fps=10, tf=2, obstacles=nothing, safety_index=nothing, verbose=false)\n",
    "    T=Int(ceil(fps*tf))\n",
    "    dt=1.0/fps\n",
    "    x = rp.x0\n",
    "    X = [copy(rp.x0) for k = 1:T]\n",
    "    U = [zeros(2) for k = 1:T-1]\n",
    "    safe_sets = []\n",
    "    Xrefs = []\n",
    "    tot_time = 0\n",
    "    col_cnt = 0\n",
    "    infeas=false\n",
    "    for i in 1:T-1\n",
    "        Xref = get_Xref(x, rp.xg, fps, dt)\n",
    "        xref = Xref[1]\n",
    "        push!(Xrefs, Xref)\n",
    "        timed_result = @timed get_control(ctrl, xref, x, rp.net, rp.obj_cost, dt, obstacles=obstacles, safety_index=safety_index)\n",
    "        u, safe_set = timed_result.value\n",
    "        if isnothing(u)\n",
    "            u = i == 1 ? [0.,0.] : U[i-1]\n",
    "            infeas=true\n",
    "#             return X[1:i], U[1:i-1], safe_sets, Xrefs, true\n",
    "        end\n",
    "        push!(safe_sets, safe_set)\n",
    "        tot_time += timed_result.time\n",
    "        if verbose\n",
    "            @show x\n",
    "            @show xref\n",
    "            @show u\n",
    "            p = phi(x, obstacle)\n",
    "            @show p\n",
    "        end\n",
    "        x = forward(rp.net, x, u, dt)\n",
    "        X[i+1] = x\n",
    "        U[i] = u\n",
    "        if norm(x[1:2] - rp.xg[1:2]) < 0.1\n",
    "            return X[1:i+1], U[1:i], safe_sets[1:i], Xrefs[1:i], infeas\n",
    "        end\n",
    "    end\n",
    "    push!(Xrefs, Xrefs[end])\n",
    "    return X, U, safe_sets, Xrefs, infeas\n",
    "end"
   ]
  },
  {
   "cell_type": "code",
   "execution_count": 4,
   "metadata": {},
   "outputs": [],
   "source": [
    "function collision_samples()\n",
    "    nx = 20\n",
    "    ny = 20\n",
    "    nv = 10\n",
    "    nt = 10\n",
    "    xs = range(0,stop=5,length=nx)\n",
    "    ys = range(0,stop=5,length=ny)\n",
    "    vs = range(-2,stop=2,length=nv)\n",
    "    θs = range(-π,stop=π,length=nt)\n",
    "    samples = [([x,y,v,θ],[Obstacle([0.0, 0.0],[0,0],obs_radius)]) for x in xs, y in ys, v in vs, θ in θs];\n",
    "    return samples\n",
    "end\n",
    "col_samples = collision_samples();"
   ]
  },
  {
   "cell_type": "code",
   "execution_count": 5,
   "metadata": {},
   "outputs": [
    {
     "data": {
      "text/plain": [
       "eval_collision_index (generic function with 1 method)"
      ]
     },
     "execution_count": 5,
     "metadata": {},
     "output_type": "execute_result"
    }
   ],
   "source": [
    "function exists_valid_control(safety_index, ctrl::ShootingController, x, obs, net, dt)\n",
    "    safe_set = phi_safe_set(safety_index, x, obs, dt)\n",
    "    for j in 1:ctrl.num_sample\n",
    "        u_cand = rand(2) .* ctrl.u_lim * 2 - ctrl.u_lim\n",
    "        dot_x_cand = compute_output(net, [x; u_cand])\n",
    "        dot_x_cand ∈ safe_set && (return true)\n",
    "    end\n",
    "    return false\n",
    "end\n",
    "\n",
    "function eval_collision_index(coes)\n",
    "    margin, gamma, phi_power, dot_phi_coe = coes\n",
    "    index = CollisionIndex(margin, gamma, phi_power, dot_phi_coe)\n",
    "    valid = 0\n",
    "    net_path = \"../nnet/unicycle-FC3-100-rk4/epoch_1000.nnet\"\n",
    "    net = read_nnet(net_path);\n",
    "    dt = 0.1\n",
    "    for sample in col_samples\n",
    "        x, obs = sample\n",
    "        if norm(x[1:2]) < 1e-8 # overlaped with the obstacle\n",
    "            valid += 1\n",
    "            continue\n",
    "        end\n",
    "        ctrl = ShootingController(1000)\n",
    "        valid += exists_valid_control(index, ctrl, x, obs, net, dt)\n",
    "    end\n",
    "    return Float64(length(col_samples)-valid)\n",
    "end"
   ]
  },
  {
   "cell_type": "code",
   "execution_count": 82,
   "metadata": {},
   "outputs": [
    {
     "name": "stdout",
     "output_type": "stream",
     "text": [
      "Starting optimization with optimizer DiffEvoOpt{FitPopulation{Float64},RadiusLimitedSelector,BlackBoxOptim.AdaptiveDiffEvoRandBin{3},RandomBound{ContinuousRectSearchSpace}}\n",
      "0.00 secs, 0 evals, 0 steps\n",
      "DE modify state:\n",
      "23.38 secs, 2 evals, 1 steps, fitness=0.000000000\n",
      "DE modify state:\n",
      "49.63 secs, 4 evals, 2 steps, improv/step: 0.500 (last = 1.0000), fitness=0.000000000\n",
      "DE modify state:\n",
      "80.77 secs, 6 evals, 3 steps, improv/step: 0.667 (last = 1.0000), fitness=0.000000000\n",
      "DE modify state:\n",
      "114.57 secs, 8 evals, 4 steps, improv/step: 0.750 (last = 1.0000), fitness=0.000000000\n",
      "DE modify state:\n",
      "151.59 secs, 10 evals, 5 steps, improv/step: 0.800 (last = 1.0000), fitness=0.000000000\n",
      "DE modify state:\n",
      "\n",
      "Optimization stopped after 6 steps and 154.26 seconds\n",
      "Termination reason: Max number of function evaluations (10) reached\n",
      "Steps per second = 0.04\n",
      "Function evals per second = 0.08\n",
      "Improvements/step = Inf\n",
      "Total function evaluations = 12\n",
      "\n",
      "\n",
      "Best candidate found: [0.728854, 0.00915763, 0.277308, 1.05736]\n",
      "\n",
      "Fitness: 0.000000000\n",
      "\n"
     ]
    }
   ],
   "source": [
    "Random.seed!(1)\n",
    "res = bboptimize(eval_collision_index; SearchRange = [(0.1, 0.5), (1e-3, 2e-2), (0.5, 3.0), (0.1, 2.0)], TraceMode=:verbose, MaxFuncEvals=10);"
   ]
  },
  {
   "cell_type": "code",
   "execution_count": 6,
   "metadata": {},
   "outputs": [
    {
     "data": {
      "text/plain": [
       "find_infeas_states (generic function with 1 method)"
      ]
     },
     "execution_count": 6,
     "metadata": {},
     "output_type": "execute_result"
    }
   ],
   "source": [
    "function draw_heat_plot(coes)\n",
    "    margin, gamma, phi_power, dot_phi_coe = coes\n",
    "    index = CollisionIndex(margin, gamma, phi_power, dot_phi_coe)\n",
    "    valid = 0\n",
    "    net_path = \"../nnet/unicycle-FC3-100-rk4/epoch_1000.nnet\"\n",
    "    net = read_nnet(net_path);\n",
    "    dt = 0.1\n",
    "    for sample in col_samples\n",
    "        x, obs = sample\n",
    "        if norm(x[1:2]) < 1e-8 # overlaped with the obstacle\n",
    "            valid += 1\n",
    "            continue\n",
    "        end\n",
    "        ctrl = ShootingController(1000)\n",
    "        valid += exists_valid_control(index, ctrl, x, obs, net, dt)\n",
    "    end\n",
    "    return Float64(length(col_samples)-valid)\n",
    "end\n",
    "\n",
    "function find_infeas_states(coes)\n",
    "    margin, gamma, phi_power, dot_phi_coe = coes\n",
    "    index = CollisionIndex(margin, gamma, phi_power, dot_phi_coe)\n",
    "    valid = 0\n",
    "    net_path = \"../nnet/unicycle-FC3-100-rk4/epoch_1000.nnet\"\n",
    "    net = read_nnet(net_path);\n",
    "    dt = 0.1\n",
    "    infeas_states = Dict()\n",
    "    infeas_map = zeros(size(col_samples)[1:2])\n",
    "    for (idx, sample) in pairs(col_samples)\n",
    "        x, obs = sample\n",
    "        if norm(x[1:2]) < 1e-8 # overlaped with the obstacle\n",
    "            valid += 1\n",
    "            continue\n",
    "        end\n",
    "        ctrl = ShootingController(1000)\n",
    "        feas = exists_valid_control(index, ctrl, x, obs, net, dt)\n",
    "        valid += feas\n",
    "        feas && continue\n",
    "        haskey(infeas_states, (idx[1], idx[2])) || (infeas_states[(idx[1], idx[2])] = [])\n",
    "        push!(infeas_states[(idx[1], idx[2])], sample)\n",
    "        infeas_map[idx[1], idx[2]] += 1\n",
    "    end\n",
    "    return Float64(length(col_samples)-valid), infeas_states, infeas_map\n",
    "end"
   ]
  },
  {
   "cell_type": "code",
   "execution_count": 13,
   "metadata": {},
   "outputs": [
    {
     "data": {
      "text/plain": [
       "4-element Array{Float64,1}:\n",
       " 0.4414972796097171\n",
       " 0.009026466785366772\n",
       " 0.5477213165593641\n",
       " 2.8919496714508557"
      ]
     },
     "execution_count": 13,
     "metadata": {},
     "output_type": "execute_result"
    }
   ],
   "source": [
    "best_candidate(res)"
   ]
  },
  {
   "cell_type": "code",
   "execution_count": 23,
   "metadata": {},
   "outputs": [],
   "source": [
    "infeas_cnt0, infeas_states0, infeas_map0 = find_infeas_states([0.0, 1e-3, 1, 0]);"
   ]
  },
  {
   "cell_type": "code",
   "execution_count": 36,
   "metadata": {},
   "outputs": [
    {
     "name": "stdout",
     "output_type": "stream",
     "text": [
      "infeas_cnt0 = 256.0\n"
     ]
    }
   ],
   "source": [
    "@show infeas_cnt0\n",
    "infeas_map = infeas_map0[1:15, 1:15]\n",
    "heatmap((1:size(infeas_map,1))*0.25, (1:size(infeas_map,2))*0.25, infeas_map, clim=(0,50))\n",
    "savefig(\"../results/heatmap0.png\")"
   ]
  },
  {
   "cell_type": "code",
   "execution_count": 35,
   "metadata": {},
   "outputs": [
    {
     "name": "stdout",
     "output_type": "stream",
     "text": [
      "infeas_cnt1 = 477.0\n"
     ]
    }
   ],
   "source": [
    "@show infeas_cnt1\n",
    "infeas_map = infeas_map1[1:15, 1:15]\n",
    "heatmap((1:size(infeas_map,1))*0.25, (1:size(infeas_map,2))*0.25, infeas_map, clim=(0,50))\n",
    "savefig(\"../results/heatmap1.png\")"
   ]
  },
  {
   "cell_type": "code",
   "execution_count": 21,
   "metadata": {},
   "outputs": [],
   "source": [
    "infeas_cnt2, infeas_states2, infeas_map2 = find_infeas_states([0.4414972796097171, 0.009026466785366772, 0.5477213165593641, 2.8919496714508557]);"
   ]
  },
  {
   "cell_type": "code",
   "execution_count": 32,
   "metadata": {},
   "outputs": [
    {
     "name": "stdout",
     "output_type": "stream",
     "text": [
      "infeas_cnt2 = 0.0\n"
     ]
    }
   ],
   "source": [
    "@show infeas_cnt2\n",
    "infeas_map = infeas_map2[1:15, 1:15]\n",
    "heatmap((1:size(infeas_map,1))*0.25, (1:size(infeas_map,2))*0.25, infeas_map, clim=(0,50))\n",
    "savefig(\"../results/heatmap2.png\")"
   ]
  },
  {
   "cell_type": "code",
   "execution_count": 119,
   "metadata": {},
   "outputs": [
    {
     "data": {
      "text/plain": [
       "collision_stat (generic function with 1 method)"
      ]
     },
     "execution_count": 119,
     "metadata": {},
     "output_type": "execute_result"
    }
   ],
   "source": [
    "function collision_stat(num, ci; ctrl=nothing, verbose=false)\n",
    "    Random.seed!(127)\n",
    "    success = 0\n",
    "    phi0_vio_cnt = 0\n",
    "    infeas_cnt = 0\n",
    "    x0 = [0,-1.5,1+rand(),π/2+rand()*π/2-π/4]\n",
    "    xg = [0,5,0,-π]\n",
    "    obj_cost = [1,1,1,0.1]\n",
    "    rp = RP(net, obj_cost, x0, xg)\n",
    "    n = 2\n",
    "    for j in 1:num\n",
    "        obstacles = [Obstacle([0, rand()-0.5], [0, 0], obs_radius)]\n",
    "        ctrl = isnothing(ctrl) ? ShootingController(1000) : ctrl\n",
    "        Xtrack, Utrack, safe_sets, Xrefs, infeas = tracking(rp, ctrl, fps=10, tf=10, obstacles=obstacles, safety_index=ci, verbose=false);\n",
    "        infeas_cnt += infeas\n",
    "        vio=false\n",
    "        for obs in obstacles\n",
    "            for x in Xtrack\n",
    "                if norm(x[1:2]-obs.center) < obs.radius\n",
    "                    vio=true\n",
    "                    break\n",
    "                end \n",
    "            end\n",
    "        end\n",
    "        phi0_vio_cnt += vio\n",
    "#         success += norm(xg[1:2] - Xtrack[end][1:2]) < 0.1\n",
    "        success += 1-(vio|infeas)\n",
    "        if verbose\n",
    "            @show j, success, phi0_vio_cnt, infeas_cnt\n",
    "        end\n",
    "    end\n",
    "#     return success*1.0/num, phi0_vio_cnt, infeas_cnt*1.0/num\n",
    "    return success*1.0/num, phi0_vio_cnt*1.0/num, infeas_cnt*1.0/num\n",
    "end"
   ]
  },
  {
   "cell_type": "code",
   "execution_count": 121,
   "metadata": {},
   "outputs": [
    {
     "data": {
      "text/plain": [
       "(0.0, 1.0, 1.0)"
      ]
     },
     "execution_count": 121,
     "metadata": {},
     "output_type": "execute_result"
    }
   ],
   "source": [
    "ci = CollisionIndex(0.0, 1e-3, 1, 0)\n",
    "collision_stat(100, ci)"
   ]
  },
  {
   "cell_type": "code",
   "execution_count": 120,
   "metadata": {},
   "outputs": [
    {
     "data": {
      "text/plain": [
       "(0.72, 0.0, 0.28)"
      ]
     },
     "execution_count": 120,
     "metadata": {},
     "output_type": "execute_result"
    }
   ],
   "source": [
    "ci = CollisionIndex(0.1, 1e-3, 2, 1)\n",
    "collision_stat(100, ci)"
   ]
  },
  {
   "cell_type": "code",
   "execution_count": 118,
   "metadata": {},
   "outputs": [
    {
     "data": {
      "text/plain": [
       "(1.0, 0.0, 0.0)"
      ]
     },
     "execution_count": 118,
     "metadata": {},
     "output_type": "execute_result"
    }
   ],
   "source": [
    "ci = CollisionIndex(0.728854, 0.00915763, 0.277308, 1.05736)\n",
    "collision_stat(100, ci)"
   ]
  }
 ],
 "metadata": {
  "kernelspec": {
   "display_name": "Julia 1.5.3",
   "language": "julia",
   "name": "julia-1.5"
  },
  "language_info": {
   "file_extension": ".jl",
   "mimetype": "application/julia",
   "name": "julia",
   "version": "1.5.3"
  }
 },
 "nbformat": 4,
 "nbformat_minor": 4
}
