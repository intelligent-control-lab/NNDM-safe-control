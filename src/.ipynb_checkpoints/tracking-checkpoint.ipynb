{
 "cells": [
  {
   "cell_type": "code",
   "execution_count": 1,
   "metadata": {},
   "outputs": [
    {
     "name": "stderr",
     "output_type": "stream",
     "text": [
      "┌ Info: Precompiling NeuralVerification [146f25fa-00e7-11e9-3ae5-fdbac6e12fa7]\n",
      "└ @ Base loading.jl:1278\n",
      "┌ Warning: Package NeuralVerification does not have CPLEX in its dependencies:\n",
      "│ - If you have NeuralVerification checked out for development and have\n",
      "│   added CPLEX as a dependency but haven't updated your primary\n",
      "│   environment's manifest file, try `Pkg.resolve()`.\n",
      "│ - Otherwise you may need to report an issue with NeuralVerification\n",
      "└ Loading CPLEX into NeuralVerification from project dependency, future warnings for NeuralVerification are suppressed.\n"
     ]
    }
   ],
   "source": [
    "using Plots\n",
    "using LinearAlgebra\n",
    "using Revise\n",
    "using NeuralVerification\n",
    "using NeuralVerification:Network, Layer, ReLU, Id, read_nnet, compute_output\n",
    "using LazySets"
   ]
  },
  {
   "cell_type": "code",
   "execution_count": 151,
   "metadata": {},
   "outputs": [
    {
     "data": {
      "text/plain": [
       "\"../nnet/unicycle-FC3-100-rk4/epoch_1000.nnet\""
      ]
     },
     "execution_count": 151,
     "metadata": {},
     "output_type": "execute_result"
    }
   ],
   "source": [
    "include(\"unicycle_env.jl\")\n",
    "include(\"problem.jl\")\n",
    "include(\"controller.jl\")\n",
    "include(\"safe_set.jl\")\n",
    "net_path = \"../nnet/unicycle-FC3-100-rk4/epoch_1000.nnet\""
   ]
  },
  {
   "cell_type": "code",
   "execution_count": 152,
   "metadata": {},
   "outputs": [],
   "source": [
    "function get_big_curve_tp(net_path)\n",
    "    obj_cost = [1,1,0.01,0.01]\n",
    "    tf = 3\n",
    "    T = 30\n",
    "    dt = tf/T\n",
    "    r = 3\n",
    "    x0 = [r,0,r*π/2/T/dt,π/2]\n",
    "    Xref = [[r*cos(k/T*π/2), r*sin(k/T*π/2), r*π/2/T/dt, k/T*π/2+π/2] for k=0:T]\n",
    "    Xref[1][3] = 0\n",
    "    Xref[end][3] = 0\n",
    "    net = read_nnet(net_path)\n",
    "    curve_tp = TrackingProblem(net, obj_cost, tf, x0, Xref);\n",
    "    curve_Uref = [[0,π/2*k*(1/T)] for k = 1:T-1]\n",
    "    curve_X0 = simulate(curve_tp, curve_Uref, dt);\n",
    "    return curve_tp, curve_Uref, curve_X0\n",
    "end\n",
    "curve_tp, curve_Uref, curve_X0 = get_big_curve_tp(net_path);"
   ]
  },
  {
   "cell_type": "code",
   "execution_count": 153,
   "metadata": {},
   "outputs": [],
   "source": [
    "function get_curve_tp(net_path)\n",
    "    obj_cost = [1,1,0.1,0.1]\n",
    "    tf = 2\n",
    "    T = 20\n",
    "    dt = tf/T\n",
    "    r = 1\n",
    "    x0 = [r,0,r*π/2/T/dt,π/2]\n",
    "    Xref = [[r*cos(k/T*π/2), r*sin(k/T*π/2), r*π/2/T/dt, k/T*π/2+π/2] for k=0:T]\n",
    "    Xref[1][3] = 0\n",
    "    Xref[end][3] = 0\n",
    "    net = read_nnet(net_path);\n",
    "    curve_tp = TrackingProblem(net, obj_cost, tf, x0, Xref);\n",
    "    curve_Uref = [[0,π/2*k*(1/T)] for k = 1:T-1]\n",
    "    curve_X0 = simulate(curve_tp, curve_Uref, dt);\n",
    "    return curve_tp, curve_Uref, curve_X0\n",
    "end\n",
    "curve_tp, curve_Uref, curve_X0 = get_curve_tp(net_path);"
   ]
  },
  {
   "cell_type": "code",
   "execution_count": 154,
   "metadata": {},
   "outputs": [],
   "source": [
    "function get_straight_tp(net_path)\n",
    "    obj_cost = [1,1,0.1,0.1]\n",
    "    tf = 4\n",
    "    T = 40\n",
    "    dt = tf/T\n",
    "    x0 = [1,0,1,π/2]\n",
    "    xg = [1,4,1,π/2]\n",
    "    Xref = [[x0[1],x0[2]+(xg[2]-x0[2])/tf*dt*k,1,π/2] for k = 0:T-1]\n",
    "    Xref[1][3] = 0\n",
    "    Xref[end][3] = 0\n",
    "    net = read_nnet(net_path);\n",
    "    straight_tp = TrackingProblem(net, obj_cost, tf, x0, Xref)\n",
    "    straight_Uref = [zeros(2) for k = 1:T-1]\n",
    "    straight_X0 = simulate(straight_tp, straight_Uref, dt);\n",
    "    return straight_tp, straight_Uref, straight_X0\n",
    "end\n",
    "straight_tp, straight_Uref, straight_X0 = get_straight_tp(net_path);"
   ]
  },
  {
   "cell_type": "code",
   "execution_count": 155,
   "metadata": {},
   "outputs": [
    {
     "data": {
      "image/svg+xml": [
       "<?xml version=\"1.0\" encoding=\"utf-8\"?>\n",
       "<svg xmlns=\"http://www.w3.org/2000/svg\" xmlns:xlink=\"http://www.w3.org/1999/xlink\" width=\"600\" height=\"400\" viewBox=\"0 0 2400 1600\">\n",
       "<defs>\n",
       "  <clipPath id=\"clip6800\">\n",
       "    <rect x=\"0\" y=\"0\" width=\"2400\" height=\"1600\"/>\n",
       "  </clipPath>\n",
       "</defs>\n",
       "<path clip-path=\"url(#clip6800)\" d=\"\n",
       "M0 1600 L2400 1600 L2400 0 L0 0  Z\n",
       "  \" fill=\"#ffffff\" fill-rule=\"evenodd\" fill-opacity=\"1\"/>\n",
       "<defs>\n",
       "  <clipPath id=\"clip6801\">\n",
       "    <rect x=\"480\" y=\"0\" width=\"1681\" height=\"1600\"/>\n",
       "  </clipPath>\n",
       "</defs>\n",
       "<path clip-path=\"url(#clip6800)\" d=\"\n",
       "M527.195 1487.47 L1967.43 1487.47 L1967.43 47.2441 L527.195 47.2441  Z\n",
       "  \" fill=\"#ffffff\" fill-rule=\"evenodd\" fill-opacity=\"1\"/>\n",
       "<defs>\n",
       "  <clipPath id=\"clip6802\">\n",
       "    <rect x=\"527\" y=\"47\" width=\"1441\" height=\"1441\"/>\n",
       "  </clipPath>\n",
       "</defs>\n",
       "<polyline clip-path=\"url(#clip6802)\" style=\"stroke:#000000; stroke-width:2; stroke-opacity:0.1; fill:none\" points=\"\n",
       "  527.195,1487.47 527.195,47.2441 \n",
       "  \"/>\n",
       "<polyline clip-path=\"url(#clip6802)\" style=\"stroke:#000000; stroke-width:2; stroke-opacity:0.1; fill:none\" points=\"\n",
       "  815.241,1487.47 815.241,47.2441 \n",
       "  \"/>\n",
       "<polyline clip-path=\"url(#clip6802)\" style=\"stroke:#000000; stroke-width:2; stroke-opacity:0.1; fill:none\" points=\"\n",
       "  1103.29,1487.47 1103.29,47.2441 \n",
       "  \"/>\n",
       "<polyline clip-path=\"url(#clip6802)\" style=\"stroke:#000000; stroke-width:2; stroke-opacity:0.1; fill:none\" points=\"\n",
       "  1391.33,1487.47 1391.33,47.2441 \n",
       "  \"/>\n",
       "<polyline clip-path=\"url(#clip6802)\" style=\"stroke:#000000; stroke-width:2; stroke-opacity:0.1; fill:none\" points=\"\n",
       "  1679.38,1487.47 1679.38,47.2441 \n",
       "  \"/>\n",
       "<polyline clip-path=\"url(#clip6802)\" style=\"stroke:#000000; stroke-width:2; stroke-opacity:0.1; fill:none\" points=\"\n",
       "  1967.43,1487.47 1967.43,47.2441 \n",
       "  \"/>\n",
       "<polyline clip-path=\"url(#clip6802)\" style=\"stroke:#000000; stroke-width:2; stroke-opacity:0.1; fill:none\" points=\"\n",
       "  527.195,1487.47 1967.43,1487.47 \n",
       "  \"/>\n",
       "<polyline clip-path=\"url(#clip6802)\" style=\"stroke:#000000; stroke-width:2; stroke-opacity:0.1; fill:none\" points=\"\n",
       "  527.195,1199.43 1967.43,1199.43 \n",
       "  \"/>\n",
       "<polyline clip-path=\"url(#clip6802)\" style=\"stroke:#000000; stroke-width:2; stroke-opacity:0.1; fill:none\" points=\"\n",
       "  527.195,911.382 1967.43,911.382 \n",
       "  \"/>\n",
       "<polyline clip-path=\"url(#clip6802)\" style=\"stroke:#000000; stroke-width:2; stroke-opacity:0.1; fill:none\" points=\"\n",
       "  527.195,623.336 1967.43,623.336 \n",
       "  \"/>\n",
       "<polyline clip-path=\"url(#clip6802)\" style=\"stroke:#000000; stroke-width:2; stroke-opacity:0.1; fill:none\" points=\"\n",
       "  527.195,335.29 1967.43,335.29 \n",
       "  \"/>\n",
       "<polyline clip-path=\"url(#clip6802)\" style=\"stroke:#000000; stroke-width:2; stroke-opacity:0.1; fill:none\" points=\"\n",
       "  527.195,47.2441 1967.43,47.2441 \n",
       "  \"/>\n",
       "<polyline clip-path=\"url(#clip6800)\" style=\"stroke:#000000; stroke-width:4; stroke-opacity:1; fill:none\" points=\"\n",
       "  527.195,1487.47 1967.43,1487.47 \n",
       "  \"/>\n",
       "<polyline clip-path=\"url(#clip6800)\" style=\"stroke:#000000; stroke-width:4; stroke-opacity:1; fill:none\" points=\"\n",
       "  527.195,1487.47 527.195,47.2441 \n",
       "  \"/>\n",
       "<polyline clip-path=\"url(#clip6800)\" style=\"stroke:#000000; stroke-width:4; stroke-opacity:1; fill:none\" points=\"\n",
       "  527.195,1487.47 527.195,1470.19 \n",
       "  \"/>\n",
       "<polyline clip-path=\"url(#clip6800)\" style=\"stroke:#000000; stroke-width:4; stroke-opacity:1; fill:none\" points=\"\n",
       "  815.241,1487.47 815.241,1470.19 \n",
       "  \"/>\n",
       "<polyline clip-path=\"url(#clip6800)\" style=\"stroke:#000000; stroke-width:4; stroke-opacity:1; fill:none\" points=\"\n",
       "  1103.29,1487.47 1103.29,1470.19 \n",
       "  \"/>\n",
       "<polyline clip-path=\"url(#clip6800)\" style=\"stroke:#000000; stroke-width:4; stroke-opacity:1; fill:none\" points=\"\n",
       "  1391.33,1487.47 1391.33,1470.19 \n",
       "  \"/>\n",
       "<polyline clip-path=\"url(#clip6800)\" style=\"stroke:#000000; stroke-width:4; stroke-opacity:1; fill:none\" points=\"\n",
       "  1679.38,1487.47 1679.38,1470.19 \n",
       "  \"/>\n",
       "<polyline clip-path=\"url(#clip6800)\" style=\"stroke:#000000; stroke-width:4; stroke-opacity:1; fill:none\" points=\"\n",
       "  1967.43,1487.47 1967.43,1470.19 \n",
       "  \"/>\n",
       "<polyline clip-path=\"url(#clip6800)\" style=\"stroke:#000000; stroke-width:4; stroke-opacity:1; fill:none\" points=\"\n",
       "  527.195,1487.47 544.478,1487.47 \n",
       "  \"/>\n",
       "<polyline clip-path=\"url(#clip6800)\" style=\"stroke:#000000; stroke-width:4; stroke-opacity:1; fill:none\" points=\"\n",
       "  527.195,1199.43 544.478,1199.43 \n",
       "  \"/>\n",
       "<polyline clip-path=\"url(#clip6800)\" style=\"stroke:#000000; stroke-width:4; stroke-opacity:1; fill:none\" points=\"\n",
       "  527.195,911.382 544.478,911.382 \n",
       "  \"/>\n",
       "<polyline clip-path=\"url(#clip6800)\" style=\"stroke:#000000; stroke-width:4; stroke-opacity:1; fill:none\" points=\"\n",
       "  527.195,623.336 544.478,623.336 \n",
       "  \"/>\n",
       "<polyline clip-path=\"url(#clip6800)\" style=\"stroke:#000000; stroke-width:4; stroke-opacity:1; fill:none\" points=\"\n",
       "  527.195,335.29 544.478,335.29 \n",
       "  \"/>\n",
       "<polyline clip-path=\"url(#clip6800)\" style=\"stroke:#000000; stroke-width:4; stroke-opacity:1; fill:none\" points=\"\n",
       "  527.195,47.2441 544.478,47.2441 \n",
       "  \"/>\n",
       "<g clip-path=\"url(#clip6800)\">\n",
       "<text style=\"fill:#000000; fill-opacity:1; font-family:Arial,Helvetica Neue,Helvetica,sans-serif; font-size:48px; text-anchor:middle;\" transform=\"rotate(0, 527.195, 1541.47)\" x=\"527.195\" y=\"1541.47\">-1</text>\n",
       "</g>\n",
       "<g clip-path=\"url(#clip6800)\">\n",
       "<text style=\"fill:#000000; fill-opacity:1; font-family:Arial,Helvetica Neue,Helvetica,sans-serif; font-size:48px; text-anchor:middle;\" transform=\"rotate(0, 815.241, 1541.47)\" x=\"815.241\" y=\"1541.47\">0</text>\n",
       "</g>\n",
       "<g clip-path=\"url(#clip6800)\">\n",
       "<text style=\"fill:#000000; fill-opacity:1; font-family:Arial,Helvetica Neue,Helvetica,sans-serif; font-size:48px; text-anchor:middle;\" transform=\"rotate(0, 1103.29, 1541.47)\" x=\"1103.29\" y=\"1541.47\">1</text>\n",
       "</g>\n",
       "<g clip-path=\"url(#clip6800)\">\n",
       "<text style=\"fill:#000000; fill-opacity:1; font-family:Arial,Helvetica Neue,Helvetica,sans-serif; font-size:48px; text-anchor:middle;\" transform=\"rotate(0, 1391.33, 1541.47)\" x=\"1391.33\" y=\"1541.47\">2</text>\n",
       "</g>\n",
       "<g clip-path=\"url(#clip6800)\">\n",
       "<text style=\"fill:#000000; fill-opacity:1; font-family:Arial,Helvetica Neue,Helvetica,sans-serif; font-size:48px; text-anchor:middle;\" transform=\"rotate(0, 1679.38, 1541.47)\" x=\"1679.38\" y=\"1541.47\">3</text>\n",
       "</g>\n",
       "<g clip-path=\"url(#clip6800)\">\n",
       "<text style=\"fill:#000000; fill-opacity:1; font-family:Arial,Helvetica Neue,Helvetica,sans-serif; font-size:48px; text-anchor:middle;\" transform=\"rotate(0, 1967.43, 1541.47)\" x=\"1967.43\" y=\"1541.47\">4</text>\n",
       "</g>\n",
       "<g clip-path=\"url(#clip6800)\">\n",
       "<text style=\"fill:#000000; fill-opacity:1; font-family:Arial,Helvetica Neue,Helvetica,sans-serif; font-size:48px; text-anchor:end;\" transform=\"rotate(0, 503.195, 1504.97)\" x=\"503.195\" y=\"1504.97\">-1</text>\n",
       "</g>\n",
       "<g clip-path=\"url(#clip6800)\">\n",
       "<text style=\"fill:#000000; fill-opacity:1; font-family:Arial,Helvetica Neue,Helvetica,sans-serif; font-size:48px; text-anchor:end;\" transform=\"rotate(0, 503.195, 1216.93)\" x=\"503.195\" y=\"1216.93\">0</text>\n",
       "</g>\n",
       "<g clip-path=\"url(#clip6800)\">\n",
       "<text style=\"fill:#000000; fill-opacity:1; font-family:Arial,Helvetica Neue,Helvetica,sans-serif; font-size:48px; text-anchor:end;\" transform=\"rotate(0, 503.195, 928.882)\" x=\"503.195\" y=\"928.882\">1</text>\n",
       "</g>\n",
       "<g clip-path=\"url(#clip6800)\">\n",
       "<text style=\"fill:#000000; fill-opacity:1; font-family:Arial,Helvetica Neue,Helvetica,sans-serif; font-size:48px; text-anchor:end;\" transform=\"rotate(0, 503.195, 640.836)\" x=\"503.195\" y=\"640.836\">2</text>\n",
       "</g>\n",
       "<g clip-path=\"url(#clip6800)\">\n",
       "<text style=\"fill:#000000; fill-opacity:1; font-family:Arial,Helvetica Neue,Helvetica,sans-serif; font-size:48px; text-anchor:end;\" transform=\"rotate(0, 503.195, 352.79)\" x=\"503.195\" y=\"352.79\">3</text>\n",
       "</g>\n",
       "<g clip-path=\"url(#clip6800)\">\n",
       "<text style=\"fill:#000000; fill-opacity:1; font-family:Arial,Helvetica Neue,Helvetica,sans-serif; font-size:48px; text-anchor:end;\" transform=\"rotate(0, 503.195, 64.7441)\" x=\"503.195\" y=\"64.7441\">4</text>\n",
       "</g>\n",
       "<polyline clip-path=\"url(#clip6802)\" style=\"stroke:#009af9; stroke-width:4; stroke-opacity:1; fill:none\" points=\"\n",
       "  1103.29,76.0487 1103.29,364.095 \n",
       "  \"/>\n",
       "<circle clip-path=\"url(#clip6802)\" cx=\"1103.29\" cy=\"76.0487\" r=\"14\" fill=\"#e26f46\" fill-rule=\"evenodd\" fill-opacity=\"1\" stroke=\"#000000\" stroke-opacity=\"1\" stroke-width=\"3.2\"/>\n",
       "<polyline clip-path=\"url(#clip6802)\" style=\"stroke:#3da44d; stroke-width:4; stroke-opacity:1; fill:none\" points=\"\n",
       "  1103.29,1199.43 1103.29,1170.62 1103.29,1141.82 1103.29,1113.01 1103.29,1084.21 1103.29,1055.41 1103.29,1026.6 1103.29,997.796 1103.29,968.992 1103.29,940.187 \n",
       "  1103.29,911.382 1103.29,882.578 1103.29,853.773 1103.29,824.969 1103.29,796.164 1103.29,767.359 1103.29,738.555 1103.29,709.75 1103.29,680.946 1103.29,652.141 \n",
       "  1103.29,623.336 1103.29,594.532 1103.29,565.727 1103.29,536.923 1103.29,508.118 1103.29,479.313 1103.29,450.509 1103.29,421.704 1103.29,392.899 1103.29,364.095 \n",
       "  1103.29,335.29 1103.29,306.486 1103.29,277.681 1103.29,248.876 1103.29,220.072 1103.29,191.267 1103.29,162.463 1103.29,133.658 1103.29,104.853 1103.29,76.0487 \n",
       "  \n",
       "  \"/>\n",
       "<path clip-path=\"url(#clip6800)\" d=\"\n",
       "M1623.32 251.724 L1895.43 251.724 L1895.43 130.764 L1623.32 130.764  Z\n",
       "  \" fill=\"#ffffff\" fill-rule=\"evenodd\" fill-opacity=\"1\"/>\n",
       "<polyline clip-path=\"url(#clip6800)\" style=\"stroke:#000000; stroke-width:4; stroke-opacity:1; fill:none\" points=\"\n",
       "  1623.32,251.724 1895.43,251.724 1895.43,130.764 1623.32,130.764 1623.32,251.724 \n",
       "  \"/>\n",
       "<polyline clip-path=\"url(#clip6800)\" style=\"stroke:#3da44d; stroke-width:4; stroke-opacity:1; fill:none\" points=\"\n",
       "  1647.32,191.244 1791.32,191.244 \n",
       "  \"/>\n",
       "<g clip-path=\"url(#clip6800)\">\n",
       "<text style=\"fill:#000000; fill-opacity:1; font-family:Arial,Helvetica Neue,Helvetica,sans-serif; font-size:48px; text-anchor:start;\" transform=\"rotate(0, 1815.32, 208.744)\" x=\"1815.32\" y=\"208.744\">X</text>\n",
       "</g>\n",
       "</svg>\n"
      ]
     },
     "metadata": {},
     "output_type": "display_data"
    }
   ],
   "source": [
    "visualize(straight_tp.Xref)"
   ]
  },
  {
   "cell_type": "code",
   "execution_count": null,
   "metadata": {},
   "outputs": [],
   "source": []
  },
  {
   "cell_type": "code",
   "execution_count": 139,
   "metadata": {},
   "outputs": [
    {
     "data": {
      "text/plain": [
       "get_control (generic function with 2 methods)"
      ]
     },
     "execution_count": 139,
     "metadata": {},
     "output_type": "execute_result"
    }
   ],
   "source": [
    "\n",
    "function phi_safe_set(x, obs, dt)\n",
    "    p = phi(x, obs)\n",
    "    # C dot_x < d\n",
    "    # phi(x_k) > 0 -> con: dot_phi(x_k) < -k*phi(x): C = self.grad_phi(x, o)  d = -phi/dt*self.coe[0]\n",
    "    # phi(x_k) < 0 -> con: phi(x_k+1) < 0:           C = self.grad_phi(x, o)  d = -phi/dt\n",
    "#     @show p\n",
    "#     @show dot_p\n",
    "    C = grad_phi(x, obs)\n",
    "    d = p < 0 ? -p/dt : -p/dt*4\n",
    "#     d = -p/dt\n",
    "    @show C\n",
    "    @show d\n",
    "    return HalfSpace(C, d)\n",
    "end\n",
    "\n",
    "function x_set_to_dot_x_set(x_set, x, dt)\n",
    "    return HalfSpace(dt .* x_safe_set.a, x_safe_set.b - x_safe_set.a'x)\n",
    "end\n",
    "\n",
    "function ball2_dot_x_safe_set(obstacle, x, dt)\n",
    "    xc, yc = obstacle.center\n",
    "    r = obstacle.radius\n",
    "    x0, y0 = pos(x)\n",
    "    if x0 == xc\n",
    "        sign = y0 < yc ? 1 : -1\n",
    "        A = sign * [0.0, 1.0, 0.0, 0.0]\n",
    "        b = sign * yc - r\n",
    "        return x_set_to_dot_x_set(HalfSpace(A, b), x, dt)\n",
    "    end\n",
    "    if y0 == yc\n",
    "        sign = x0 < xc ? 1 : -1\n",
    "        A = sign * [1.0, 0.0, 0.0, 0.0]\n",
    "        b = sign * xc - r\n",
    "        return x_set_to_dot_x_set(HalfSpace(A, b), x, dt)\n",
    "    end\n",
    "    \n",
    "    θ = atan(y0-yc, x0-xc)\n",
    "    xr = xc + cos(θ) * r\n",
    "    yr = yc + sin(θ) * r\n",
    "    k = (y0-yc)/(x0-xc)\n",
    "    k = -1/k\n",
    "    sign = y0 < yc ? -1 : 1\n",
    "    A = sign * [k, -1, 0, 0]\n",
    "    b = sign * (k*xr-yr)\n",
    "    return x_set_to_dot_x_set(HalfSpace(A, b), x, dt)\n",
    "end\n",
    "\n",
    "function pos(x)\n",
    "    return x[1:2]\n",
    "end\n",
    "\n",
    "\n",
    "function get_mpc(ctrl::ShootingController, tp, x, k, h)\n",
    "    min_loss=1e9\n",
    "    X = [copy(x) for i = 1:h+1]\n",
    "    U = [zeros(size(tp.u_lim)) for i = 1:h]\n",
    "    for j in 1:ctrl.num_sample\n",
    "        U_cand = [rand(2) .* ctrl.u_lim * 2 - ctrl.u_lim  for i = 1:h]\n",
    "        X_cand = forward(net, x, U_cand, tp.dt)\n",
    "        mpc_cost = sum([sum(abs.(X_cand[i] - tp.Xref[min(k+i, tp.T)]).*tp.obj_cost) for i = 1:h])\n",
    "        if mpc_cost < min_loss\n",
    "            min_loss = mpc_cost\n",
    "            U = U_cand\n",
    "        end\n",
    "    end\n",
    "    X[2:h+1] = forward(net, x, U, tp.dt)\n",
    "    return X, U\n",
    "end\n",
    "\n",
    "\n",
    "function get_control(ctrl::ShootingController, xref, x, net, obj_cost, dt; obstacle=nothing)\n",
    "    min_loss=1e9\n",
    "    u = zeros(2)\n",
    "    \n",
    "    safe_set = isnothing(obstacle) ? HalfSpace(zero(x).+1.0,Inf) : phi_safe_set(x, obstacle, dt)\n",
    "    \n",
    "    for j in 1:ctrl.num_sample\n",
    "        u_cand = rand(2) .* ctrl.u_lim * 2 - ctrl.u_lim\n",
    "        dot_x_cand = compute_output(net, [x; u_cand])\n",
    "        dot_x_cand ∈ safe_set || continue\n",
    "        x_cand = forward(net, x, u_cand, dt)\n",
    "#         @show u_cand\n",
    "#         @show x_cand - xref\n",
    "#         @show sum(abs.(x_cand - xref).*obj_cost)\n",
    "        if linear_cost(x_cand, xref, obj_cost) < min_loss\n",
    "            min_loss = linear_cost(x_cand, xref, obj_cost)\n",
    "            u = u_cand\n",
    "        end\n",
    "    end\n",
    "    \n",
    "    return u, safe_set\n",
    "end\n",
    "\n",
    "\n",
    "function linear_cost(x, xref, obj_cost)\n",
    "    sum(abs.(x_cand - xref).*obj_cost)\n",
    "end\n",
    "function quad_cost(x, xref, obj_cost)\n",
    "    sum((x_cand - xref).^2 .* obj_cost)\n",
    "end\n"
   ]
  },
  {
   "cell_type": "code",
   "execution_count": 161,
   "metadata": {},
   "outputs": [
    {
     "data": {
      "text/plain": [
       "costs (generic function with 1 method)"
      ]
     },
     "execution_count": 161,
     "metadata": {},
     "output_type": "execute_result"
    }
   ],
   "source": [
    "function tracking(rp::ReachingProblem, ctrl; T=20, dt=0.1, obstacle=nothing)\n",
    "    x = rp.x0\n",
    "    X = [copy(rp.x0) for k = 1:T]\n",
    "    U = [zeros(2) for k = 1:T-1]\n",
    "    safe_sets = []\n",
    "    tot_time = 0\n",
    "    for i in 1:T-1\n",
    "        dx = (rp.xg - x)\n",
    "        k = norm(dx) * dt\n",
    "        if norm(dx) < 1\n",
    "            k = dt\n",
    "        end\n",
    "        xref = x + dx/norm(dx)*dt\n",
    "        @show x\n",
    "        @show xref\n",
    "        timed_result = @timed get_control(ctrl, xref, x, rp.net, rp.obj_cost, dt, obstacle=obstacle)\n",
    "        u, safe_set = timed_result.value\n",
    "        push!(safe_sets, safe_set)\n",
    "        tot_time += timed_result.time\n",
    "        x = forward(net, x, u, dt)\n",
    "        X[i+1] = x\n",
    "        U[i] = u\n",
    "        \n",
    "#         p = phi(x, obstacle)\n",
    "#         grad_p = grad_phi(x, obstacle)\n",
    "#         dot_x = compute_output(rp.net, [x;u])\n",
    "#         dot_p = grad_p'dot_x\n",
    "        \n",
    "#         @show rp.xg-x\n",
    "#         @show p\n",
    "#         @show grad_p\n",
    "#         @show dot_x\n",
    "#         @show dot_p\n",
    "        \n",
    "    end\n",
    "    @show tot_time\n",
    "    return X, U, safe_sets\n",
    "end\n",
    "\n",
    "function tracking(tp::TrackingProblem, ctrl; obstacle=nothing)\n",
    "    x = tp.x0\n",
    "    X = [copy(tp.x0) for k = 1:tp.T]\n",
    "    U = [zeros(2) for k = 1:tp.T-1]\n",
    "    safe_sets = []\n",
    "    tot_time = 0\n",
    "    for i in 1:tp.T-1\n",
    "        xref = tp.Xref[i+1]\n",
    "        timed_result = @timed get_control(ctrl, xref, x, tp.net, tp.obj_cost, tp.dt, obstacle=obstacle)\n",
    "        u, safe_set = timed_result.value\n",
    "        push!(safe_sets, safe_set)\n",
    "        tot_time += timed_result.time\n",
    "        \n",
    "#         p = phi(x, obstacle)\n",
    "#         grad_p = grad_phi(x, obstacle)\n",
    "#         dot_x = compute_output(tp.net, [x;u])\n",
    "#         dot_p = grad_p'dot_x\n",
    "#         @show p\n",
    "#         @show grad_p\n",
    "#         @show dot_x\n",
    "#         @show dot_p\n",
    "        \n",
    "        x = forward(tp.net, x, u, tp.dt)\n",
    "        X[i+1] = x\n",
    "        U[i] = u\n",
    "        @show xref-x\n",
    "        @show x\n",
    "    end\n",
    "    @show tot_time\n",
    "    tot_error = sum(costs(tp,X))\n",
    "    @show tot_error\n",
    "    return X, U, safe_sets\n",
    "end\n",
    "\n",
    "\n",
    "function mpc_tracking(tp, ctrl, h)\n",
    "    x = tp.x0\n",
    "    X = [copy(tp.x0) for k = 1:tp.T]\n",
    "    U = [zeros(2) for k = 1:tp.T-1]\n",
    "    for k in 1:tp.T-1\n",
    "        Xmpc, Umpc = get_mpc(ctrl, tp, x, k, h);\n",
    "        x = forward(net, x, Umpc[1], tp.dt)\n",
    "        X[k+1] = x\n",
    "        U[k] = Umpc[1]\n",
    "    end\n",
    "    return X, U\n",
    "end\n",
    "\n",
    "function costs(tp, X)\n",
    "    return [sum(abs.(X[i] - tp.Xref[i]).*tp.obj_cost) for i = 1:tp.T]\n",
    "#     return [sum(abs.(X[i] - tp.Xref[i]).*tp.obj_cost) for i = 1:tp.T]\n",
    "end"
   ]
  },
  {
   "cell_type": "code",
   "execution_count": 162,
   "metadata": {},
   "outputs": [
    {
     "data": {
      "text/plain": [
       "Ball2{Float64,Array{Float64,1}}([1.4, 1.4], 0.1)"
      ]
     },
     "execution_count": 162,
     "metadata": {},
     "output_type": "execute_result"
    }
   ],
   "source": [
    "obstacle = Ball2([1.4,1.4],0.1)"
   ]
  },
  {
   "cell_type": "code",
   "execution_count": 163,
   "metadata": {},
   "outputs": [
    {
     "data": {
      "text/plain": [
       "grad_phi (generic function with 1 method)"
      ]
     },
     "execution_count": 163,
     "metadata": {},
     "output_type": "execute_result"
    }
   ],
   "source": [
    "function phi(x, obs)\n",
    "    o = obs.center\n",
    "    d = (x[1]-o[1])^2 + (x[2]-o[2])^2\n",
    "    vx = x[3] * cos(x[4])\n",
    "    vy = x[3] * sin(x[4])\n",
    "    dot_d = 2*(x[1]-o[1])*vx + 2*(x[2]-o[2])*vy\n",
    "    return obs.radius - d^2 - 0.5*dot_d\n",
    "end\n",
    "\n",
    "function grad_phi(x, obs)\n",
    "    o = obs.center\n",
    "    d = (x[1]-o[1])^2 + (x[2]-o[2])^2\n",
    "    vx = x[3] * cos(x[4])\n",
    "    vy = x[3] * sin(x[4])\n",
    "    dot_d = 2*(x[1]-o[1])*vx + 2*(x[2]-o[2])*vy\n",
    "    grad_d = [2*(x[1]-o[1]), 2*(x[2]-o[2]), 0, 0]\n",
    "    grad_dot_d = [2*vx, 2*vy, 2*(x[1]-o[1])*cos(x[4]) + 2*(x[2]-o[2])*sin(x[4]), 2*(x[1]-o[1])*x[3]*(-sin(x[4])) + 2*(x[2]-o[2])*x[3]*(cos(x[4]))]\n",
    "    return -2*d*grad_d - 0.5*grad_dot_d\n",
    "end"
   ]
  },
  {
   "cell_type": "code",
   "execution_count": 164,
   "metadata": {},
   "outputs": [
    {
     "data": {
      "text/plain": [
       "Ball2{Float64,Array{Float64,1}}([1.8, 2.0], 1.0)"
      ]
     },
     "execution_count": 164,
     "metadata": {},
     "output_type": "execute_result"
    }
   ],
   "source": [
    "obstacle = Ball2([1.8,2.0],1.0)"
   ]
  },
  {
   "cell_type": "code",
   "execution_count": 165,
   "metadata": {},
   "outputs": [],
   "source": [
    "function get_rp()\n",
    "    obj_cost = [1000,1000,0.001,0.001]\n",
    "    x0 = [1,0,0,π/2]\n",
    "    xg = [1,4,0,π/2]\n",
    "    curve_rp = ReachingProblem(net, obj_cost, x0, xg);\n",
    "    return curve_rp\n",
    "end\n",
    "rp = get_rp();"
   ]
  },
  {
   "cell_type": "code",
   "execution_count": 166,
   "metadata": {
    "scrolled": true
   },
   "outputs": [
    {
     "name": "stdout",
     "output_type": "stream",
     "text": [
      "x = [1.0, 0.0, 0.0, 1.5707963267948966]\n",
      "xref = [1.0, 0.1, 0.0, 1.5707963267948966]\n",
      "x = [1.0045075010743447, -0.001797806323938206, -0.13416187921027137, 1.8023521962799682]\n",
      "xref = [1.004395115262002, 0.09797927411972003, -0.1308168125021829, 1.7965787989883053]\n",
      "x = [1.0116036966538149, -0.014936913171284243, -0.3192137921157905, 2.039226790463374]\n",
      "xref = [1.0113175228300615, 0.08408065707801875, -0.31134124647710804, 2.0276742188174675]\n",
      "x = [1.0237618969695745, -0.04120911882394597, -0.300641325683423, 2.1119201989822436]\n",
      "xref = [1.0231806962398082, 0.05763625922000416, -0.2932878320583615, 2.098684656811011]\n",
      "x = [1.0384178985448038, -0.06451425029213742, -0.48918085257121213, 2.087232516016619]\n",
      "xref = [1.0374868873723055, 0.03398432253811369, -0.47732614795781664, 2.074717311378678]\n",
      "x = [1.061709449811455, -0.10481456103347356, -0.6537253741817421, 1.9210057086082888]\n",
      "xref = [1.0602302198494622, -0.006418534077191465, -0.6380550001408263, 1.912610880715119]\n",
      "x = [1.0875655141258098, -0.1627505050203807, -0.6104796731577382, 1.6130120551727927]\n",
      "xref = [1.08548478219169, -0.06383521860837293, -0.5959734538572349, 1.6120089249447007]\n",
      "x = [1.0884481681946516, -0.22184605746453423, -0.5728863112639417, 1.677256753766922]\n",
      "xref = [1.0863732768046697, -0.12280644801570674, -0.5594470631829175, 1.6747593156875722]\n",
      "x = [1.0928365044010802, -0.2770428009066966, -0.6697292149422729, 1.6163672290018716]\n",
      "xref = [1.090692670234807, -0.1782748588525349, -0.654263441188647, 1.6153148794140721]\n",
      "x = [1.0933359869001953, -0.3414056767020168, -0.5000076395637751, 1.811576032970541]\n",
      "xref = [1.0912039220649896, -0.24223537073465246, -0.4885860138751969, 1.8060759256526941]\n",
      "x = [1.103990091778845, -0.3886502815476703, -0.6093409984095963, 1.4858944322922067]\n",
      "xref = [1.1016441596898072, -0.28964589231275367, -0.5955947599278046, 1.4878097501395795]\n",
      "x = [1.0981116431799538, -0.45030223139925496, -0.5436333280802571, 1.153995824561561]\n",
      "xref = [1.09593321654655, -0.35148972970875897, -0.531562739082743, 1.163250274751696]\n",
      "x = [1.0784939457034068, -0.5017647864269099, -0.6817803061079086, 0.8943154693636948]\n",
      "xref = [1.0767889448883146, -0.4039800138380298, -0.6669710623221502, 0.9090096015413878]\n",
      "x = [1.0338536910954916, -0.5532821689527958, -0.5326156237761716, 0.5752087663341507]\n",
      "xref = [1.0331320657045528, -0.45622439123643005, -0.5212623873848016, 0.5964307140533719]\n",
      "x = [0.992624570454987, -0.5832015599396388, -0.4227613261941471, 0.5024761882538992]\n",
      "xref = [0.992780663499335, -0.4862030217547623, -0.41381403681452134, 0.5250860365000902]\n",
      "x = [0.9580515431228193, -0.6008500906174425, -0.48535033577217057, 0.6767948137018177]\n",
      "xref = [0.9589417616244956, -0.5032121277693989, -0.4750503657407521, 0.6957670655253416]\n",
      "x = [0.9225883433862352, -0.6299928590112662, -0.6812075433603034, 0.8435091092643549]\n",
      "xref = [0.9242226570753974, -0.5322445218589019, -0.6668259003110015, 0.8588635856772973]\n",
      "x = [0.8771333599951261, -0.679984345492243, -0.48912114788483707, 1.235251836224585]\n",
      "xref = [0.8797370056365656, -0.5808116095676448, -0.4787562665405134, 1.2423623012812333]\n",
      "x = [0.8654109906504133, -0.7295929355076258, -0.5184964174006331, 1.04964201820317]\n",
      "xref = [0.8682217926998985, -0.6308185290341703, -0.5076679641731116, 1.0605259797225153]\n",
      "x = [0.8397935281592105, -0.774113419928576, -0.659332576579683, 0.8292575589060742]\n",
      "xref = [0.8430772734303842, -0.6762586192666104, -0.6458182646695755, 0.8444568476393456]\n",
      "x = [0.7956302013433768, -0.8210909828494658, -0.7141619273046812, 0.878414591840921]\n",
      "xref = [0.7997782620528019, -0.7232380798570737, -0.6996666983114915, 0.8924677517968675]\n",
      "x = [0.7484297301415842, -0.8735957364006758, -0.5898580074673132, 0.9629314287288376]\n",
      "xref = [0.7535088333525236, -0.7751997861657598, -0.577949010027307, 0.9752039780937616]\n",
      "x = [0.7136902356599184, -0.9212099388127513, -0.7183062886810623, 0.7199663889290037]\n",
      "xref = [0.7193555548860399, -0.8238321027951866, -0.7040928913947753, 0.7368020816140282]\n",
      "x = [0.6634085958168837, -0.9708289037451363, -0.8843065420970793, 0.6048831251015955]\n",
      "xref = [0.6699425136802732, -0.8743350914659505, -0.8671403689853711, 0.6236334480290168]\n",
      "x = [0.592377965485025, -1.0200403229961714, -0.8510569167875147, 0.32182031670862116]\n",
      "xref = [0.6001297316639765, -0.9245739951292821, -0.8348723299268799, 0.34557214848785495]\n",
      "x = [0.511706270845514, -1.0464899268326198, -0.8923085838353854, 0.5273572891744115]\n",
      "xref = [0.5210023880341754, -0.9504150461814425, -0.8753208474207776, 0.5472222413410924]\n",
      "x = [0.4378217721738305, -1.0908994473077183, -0.9145641366592151, 0.8810991998803633]\n",
      "xref = [0.44853324997130084, -0.9938998594548567, -0.897138464587089, 0.8942403624089991]\n",
      "x = [0.3804960866245798, -1.1612472355682075, -1.0993000058462434, 0.7858268695187209]\n",
      "xref = [0.3920304734509849, -1.0651512774371383, -1.0788324168093748, 0.8004420174970516]\n",
      "x = [0.3026467914307794, -1.2366043809716174, -1.1458337125828526, 0.9529936702937951]\n",
      "xref = [0.3154637613965118, -1.1403584610438344, -1.1247739166294792, 0.9643485446900435]\n",
      "x = [0.23951935260688417, -1.3311105589200554, -1.165174661521483, 0.8573685803004643]\n",
      "xref = [0.2532076751375852, -1.2351528760684616, -1.1442020218807774, 0.87020997097864]\n",
      "x = [0.16532353963626667, -1.4182918549960857, -1.1630925692340315, 0.9832389076992436]\n",
      "xref = [0.18013604974942893, -1.3221366299365225, -1.1424518524264493, 0.9936659421559542]\n",
      "x = [0.10369442968887348, -1.516421893533248, -1.2905290817882735, 0.741619785363146]\n",
      "xref = [0.11916009907244804, -1.4212365460227079, -1.2682611223222877, 0.7559271495870991]\n",
      "x = [0.008941448487100864, -1.5997055372235542, -1.1161100255179202, 0.7249145601440099]\n",
      "xref = [0.025863441616424166, -1.5040924390040014, -1.0970528203159151, 0.7393577082522979]\n",
      "x = [-0.07564528297686164, -1.6706469505949082, -1.2644741850504493, 0.9564888315147546]\n",
      "xref = [-0.0575382950489188, -1.5751895191321081, -1.2431885259523687, 0.9668298413040586]\n",
      "x = [-0.14596192395720897, -1.773536918307473, -1.1715960119104474, 1.1653167619951932]\n",
      "xref = [-0.12691118388855727, -1.6775562850874577, -1.1521191247453828, 1.1720575494774461]\n",
      "x = [-0.19064812742473275, -1.8795873805091239, -1.047726708923285, 1.5366825018146564]\n",
      "xref = [-0.17109672412574728, -1.7830398099379634, -1.0305221906769209, 1.5372426783562365]\n",
      "x = [-0.19568781567919008, -1.984488570772942, -1.1572794966655713, 1.429552549933704]\n",
      "xref = [-0.17644329176950588, -1.8881685850063796, -1.1386531523541867, 1.4318258600780875]\n",
      "x = [-0.21178522786514714, -2.097342405627444, -1.0881848138795145, 1.58652836241711]\n",
      "xref = [-0.19258447261881856, -2.0007299230757574, -1.070942509060465, 1.5862790880749555]\n",
      "x = [-0.214139752076673, -2.2053403886849914, -1.1595580015927662, 1.4591922990852202]\n",
      "xref = [-0.19525562033036095, -2.1088255803771268, -1.1415228075122537, 1.4609281331678157]\n",
      "tot_time = 0.8771165959999998\n"
     ]
    }
   ],
   "source": [
    "shoot_ctrl = ShootingController(1000)\n",
    "# Xshoot, Ushoot, safe_sets = tracking(rp, shoot_ctrl, obstacle=obstacle);\n",
    "# Xshoot, Ushoot, safe_sets = tracking(curve_tp, shoot_ctrl, obstacle=obstacle);\n",
    "# Xshoot, Ushoot, safe_sets = tracking(straight_tp, shoot_ctrl, obstacle=obstacle);\n",
    "# Xshoot, Ushoot, safe_sets = tracking(straight_tp, shoot_ctrl);\n",
    "# Xshoot, Ushoot, safe_sets = tracking(curve_tp, shoot_ctrl);\n",
    "Xshoot, Ushoot, safe_sets = tracking(rp, shoot_ctrl, T=40);\n",
    "# Xshoot, Ushoot, safe_sets = mpc_tracking(straight_tp, shoot_ctrl, 20)"
   ]
  },
  {
   "cell_type": "code",
   "execution_count": 160,
   "metadata": {
    "scrolled": false
   },
   "outputs": [
    {
     "data": {
      "image/svg+xml": [
       "<?xml version=\"1.0\" encoding=\"utf-8\"?>\n",
       "<svg xmlns=\"http://www.w3.org/2000/svg\" xmlns:xlink=\"http://www.w3.org/1999/xlink\" width=\"600\" height=\"400\" viewBox=\"0 0 2400 1600\">\n",
       "<defs>\n",
       "  <clipPath id=\"clip8800\">\n",
       "    <rect x=\"0\" y=\"0\" width=\"2400\" height=\"1600\"/>\n",
       "  </clipPath>\n",
       "</defs>\n",
       "<path clip-path=\"url(#clip8800)\" d=\"\n",
       "M0 1600 L2400 1600 L2400 0 L0 0  Z\n",
       "  \" fill=\"#ffffff\" fill-rule=\"evenodd\" fill-opacity=\"1\"/>\n",
       "<defs>\n",
       "  <clipPath id=\"clip8801\">\n",
       "    <rect x=\"480\" y=\"0\" width=\"1681\" height=\"1600\"/>\n",
       "  </clipPath>\n",
       "</defs>\n",
       "<path clip-path=\"url(#clip8800)\" d=\"\n",
       "M527.195 1487.47 L1967.43 1487.47 L1967.43 47.2441 L527.195 47.2441  Z\n",
       "  \" fill=\"#ffffff\" fill-rule=\"evenodd\" fill-opacity=\"1\"/>\n",
       "<defs>\n",
       "  <clipPath id=\"clip8802\">\n",
       "    <rect x=\"527\" y=\"47\" width=\"1441\" height=\"1441\"/>\n",
       "  </clipPath>\n",
       "</defs>\n",
       "<polyline clip-path=\"url(#clip8802)\" style=\"stroke:#000000; stroke-width:2; stroke-opacity:0.1; fill:none\" points=\"\n",
       "  527.195,1487.47 527.195,47.2441 \n",
       "  \"/>\n",
       "<polyline clip-path=\"url(#clip8802)\" style=\"stroke:#000000; stroke-width:2; stroke-opacity:0.1; fill:none\" points=\"\n",
       "  815.241,1487.47 815.241,47.2441 \n",
       "  \"/>\n",
       "<polyline clip-path=\"url(#clip8802)\" style=\"stroke:#000000; stroke-width:2; stroke-opacity:0.1; fill:none\" points=\"\n",
       "  1103.29,1487.47 1103.29,47.2441 \n",
       "  \"/>\n",
       "<polyline clip-path=\"url(#clip8802)\" style=\"stroke:#000000; stroke-width:2; stroke-opacity:0.1; fill:none\" points=\"\n",
       "  1391.33,1487.47 1391.33,47.2441 \n",
       "  \"/>\n",
       "<polyline clip-path=\"url(#clip8802)\" style=\"stroke:#000000; stroke-width:2; stroke-opacity:0.1; fill:none\" points=\"\n",
       "  1679.38,1487.47 1679.38,47.2441 \n",
       "  \"/>\n",
       "<polyline clip-path=\"url(#clip8802)\" style=\"stroke:#000000; stroke-width:2; stroke-opacity:0.1; fill:none\" points=\"\n",
       "  1967.43,1487.47 1967.43,47.2441 \n",
       "  \"/>\n",
       "<polyline clip-path=\"url(#clip8802)\" style=\"stroke:#000000; stroke-width:2; stroke-opacity:0.1; fill:none\" points=\"\n",
       "  527.195,1487.47 1967.43,1487.47 \n",
       "  \"/>\n",
       "<polyline clip-path=\"url(#clip8802)\" style=\"stroke:#000000; stroke-width:2; stroke-opacity:0.1; fill:none\" points=\"\n",
       "  527.195,1199.43 1967.43,1199.43 \n",
       "  \"/>\n",
       "<polyline clip-path=\"url(#clip8802)\" style=\"stroke:#000000; stroke-width:2; stroke-opacity:0.1; fill:none\" points=\"\n",
       "  527.195,911.382 1967.43,911.382 \n",
       "  \"/>\n",
       "<polyline clip-path=\"url(#clip8802)\" style=\"stroke:#000000; stroke-width:2; stroke-opacity:0.1; fill:none\" points=\"\n",
       "  527.195,623.336 1967.43,623.336 \n",
       "  \"/>\n",
       "<polyline clip-path=\"url(#clip8802)\" style=\"stroke:#000000; stroke-width:2; stroke-opacity:0.1; fill:none\" points=\"\n",
       "  527.195,335.29 1967.43,335.29 \n",
       "  \"/>\n",
       "<polyline clip-path=\"url(#clip8802)\" style=\"stroke:#000000; stroke-width:2; stroke-opacity:0.1; fill:none\" points=\"\n",
       "  527.195,47.2441 1967.43,47.2441 \n",
       "  \"/>\n",
       "<polyline clip-path=\"url(#clip8800)\" style=\"stroke:#000000; stroke-width:4; stroke-opacity:1; fill:none\" points=\"\n",
       "  527.195,1487.47 1967.43,1487.47 \n",
       "  \"/>\n",
       "<polyline clip-path=\"url(#clip8800)\" style=\"stroke:#000000; stroke-width:4; stroke-opacity:1; fill:none\" points=\"\n",
       "  527.195,1487.47 527.195,47.2441 \n",
       "  \"/>\n",
       "<polyline clip-path=\"url(#clip8800)\" style=\"stroke:#000000; stroke-width:4; stroke-opacity:1; fill:none\" points=\"\n",
       "  527.195,1487.47 527.195,1470.19 \n",
       "  \"/>\n",
       "<polyline clip-path=\"url(#clip8800)\" style=\"stroke:#000000; stroke-width:4; stroke-opacity:1; fill:none\" points=\"\n",
       "  815.241,1487.47 815.241,1470.19 \n",
       "  \"/>\n",
       "<polyline clip-path=\"url(#clip8800)\" style=\"stroke:#000000; stroke-width:4; stroke-opacity:1; fill:none\" points=\"\n",
       "  1103.29,1487.47 1103.29,1470.19 \n",
       "  \"/>\n",
       "<polyline clip-path=\"url(#clip8800)\" style=\"stroke:#000000; stroke-width:4; stroke-opacity:1; fill:none\" points=\"\n",
       "  1391.33,1487.47 1391.33,1470.19 \n",
       "  \"/>\n",
       "<polyline clip-path=\"url(#clip8800)\" style=\"stroke:#000000; stroke-width:4; stroke-opacity:1; fill:none\" points=\"\n",
       "  1679.38,1487.47 1679.38,1470.19 \n",
       "  \"/>\n",
       "<polyline clip-path=\"url(#clip8800)\" style=\"stroke:#000000; stroke-width:4; stroke-opacity:1; fill:none\" points=\"\n",
       "  1967.43,1487.47 1967.43,1470.19 \n",
       "  \"/>\n",
       "<polyline clip-path=\"url(#clip8800)\" style=\"stroke:#000000; stroke-width:4; stroke-opacity:1; fill:none\" points=\"\n",
       "  527.195,1487.47 544.478,1487.47 \n",
       "  \"/>\n",
       "<polyline clip-path=\"url(#clip8800)\" style=\"stroke:#000000; stroke-width:4; stroke-opacity:1; fill:none\" points=\"\n",
       "  527.195,1199.43 544.478,1199.43 \n",
       "  \"/>\n",
       "<polyline clip-path=\"url(#clip8800)\" style=\"stroke:#000000; stroke-width:4; stroke-opacity:1; fill:none\" points=\"\n",
       "  527.195,911.382 544.478,911.382 \n",
       "  \"/>\n",
       "<polyline clip-path=\"url(#clip8800)\" style=\"stroke:#000000; stroke-width:4; stroke-opacity:1; fill:none\" points=\"\n",
       "  527.195,623.336 544.478,623.336 \n",
       "  \"/>\n",
       "<polyline clip-path=\"url(#clip8800)\" style=\"stroke:#000000; stroke-width:4; stroke-opacity:1; fill:none\" points=\"\n",
       "  527.195,335.29 544.478,335.29 \n",
       "  \"/>\n",
       "<polyline clip-path=\"url(#clip8800)\" style=\"stroke:#000000; stroke-width:4; stroke-opacity:1; fill:none\" points=\"\n",
       "  527.195,47.2441 544.478,47.2441 \n",
       "  \"/>\n",
       "<g clip-path=\"url(#clip8800)\">\n",
       "<text style=\"fill:#000000; fill-opacity:1; font-family:Arial,Helvetica Neue,Helvetica,sans-serif; font-size:48px; text-anchor:middle;\" transform=\"rotate(0, 527.195, 1541.47)\" x=\"527.195\" y=\"1541.47\">-1</text>\n",
       "</g>\n",
       "<g clip-path=\"url(#clip8800)\">\n",
       "<text style=\"fill:#000000; fill-opacity:1; font-family:Arial,Helvetica Neue,Helvetica,sans-serif; font-size:48px; text-anchor:middle;\" transform=\"rotate(0, 815.241, 1541.47)\" x=\"815.241\" y=\"1541.47\">0</text>\n",
       "</g>\n",
       "<g clip-path=\"url(#clip8800)\">\n",
       "<text style=\"fill:#000000; fill-opacity:1; font-family:Arial,Helvetica Neue,Helvetica,sans-serif; font-size:48px; text-anchor:middle;\" transform=\"rotate(0, 1103.29, 1541.47)\" x=\"1103.29\" y=\"1541.47\">1</text>\n",
       "</g>\n",
       "<g clip-path=\"url(#clip8800)\">\n",
       "<text style=\"fill:#000000; fill-opacity:1; font-family:Arial,Helvetica Neue,Helvetica,sans-serif; font-size:48px; text-anchor:middle;\" transform=\"rotate(0, 1391.33, 1541.47)\" x=\"1391.33\" y=\"1541.47\">2</text>\n",
       "</g>\n",
       "<g clip-path=\"url(#clip8800)\">\n",
       "<text style=\"fill:#000000; fill-opacity:1; font-family:Arial,Helvetica Neue,Helvetica,sans-serif; font-size:48px; text-anchor:middle;\" transform=\"rotate(0, 1679.38, 1541.47)\" x=\"1679.38\" y=\"1541.47\">3</text>\n",
       "</g>\n",
       "<g clip-path=\"url(#clip8800)\">\n",
       "<text style=\"fill:#000000; fill-opacity:1; font-family:Arial,Helvetica Neue,Helvetica,sans-serif; font-size:48px; text-anchor:middle;\" transform=\"rotate(0, 1967.43, 1541.47)\" x=\"1967.43\" y=\"1541.47\">4</text>\n",
       "</g>\n",
       "<g clip-path=\"url(#clip8800)\">\n",
       "<text style=\"fill:#000000; fill-opacity:1; font-family:Arial,Helvetica Neue,Helvetica,sans-serif; font-size:48px; text-anchor:end;\" transform=\"rotate(0, 503.195, 1504.97)\" x=\"503.195\" y=\"1504.97\">-1</text>\n",
       "</g>\n",
       "<g clip-path=\"url(#clip8800)\">\n",
       "<text style=\"fill:#000000; fill-opacity:1; font-family:Arial,Helvetica Neue,Helvetica,sans-serif; font-size:48px; text-anchor:end;\" transform=\"rotate(0, 503.195, 1216.93)\" x=\"503.195\" y=\"1216.93\">0</text>\n",
       "</g>\n",
       "<g clip-path=\"url(#clip8800)\">\n",
       "<text style=\"fill:#000000; fill-opacity:1; font-family:Arial,Helvetica Neue,Helvetica,sans-serif; font-size:48px; text-anchor:end;\" transform=\"rotate(0, 503.195, 928.882)\" x=\"503.195\" y=\"928.882\">1</text>\n",
       "</g>\n",
       "<g clip-path=\"url(#clip8800)\">\n",
       "<text style=\"fill:#000000; fill-opacity:1; font-family:Arial,Helvetica Neue,Helvetica,sans-serif; font-size:48px; text-anchor:end;\" transform=\"rotate(0, 503.195, 640.836)\" x=\"503.195\" y=\"640.836\">2</text>\n",
       "</g>\n",
       "<g clip-path=\"url(#clip8800)\">\n",
       "<text style=\"fill:#000000; fill-opacity:1; font-family:Arial,Helvetica Neue,Helvetica,sans-serif; font-size:48px; text-anchor:end;\" transform=\"rotate(0, 503.195, 352.79)\" x=\"503.195\" y=\"352.79\">3</text>\n",
       "</g>\n",
       "<g clip-path=\"url(#clip8800)\">\n",
       "<text style=\"fill:#000000; fill-opacity:1; font-family:Arial,Helvetica Neue,Helvetica,sans-serif; font-size:48px; text-anchor:end;\" transform=\"rotate(0, 503.195, 64.7441)\" x=\"503.195\" y=\"64.7441\">4</text>\n",
       "</g>\n",
       "<polyline clip-path=\"url(#clip8802)\" style=\"stroke:#009af9; stroke-width:4; stroke-opacity:1; fill:none\" points=\"\n",
       "  1467.69,515.843 1362.81,784.116 \n",
       "  \"/>\n",
       "<circle clip-path=\"url(#clip8802)\" cx=\"1467.69\" cy=\"515.843\" r=\"14\" fill=\"#e26f46\" fill-rule=\"evenodd\" fill-opacity=\"1\" stroke=\"#000000\" stroke-opacity=\"1\" stroke-width=\"3.2\"/>\n",
       "<polyline clip-path=\"url(#clip8802)\" style=\"stroke:#3da44d; stroke-width:4; stroke-opacity:1; fill:none\" points=\"\n",
       "  1103.29,1199.43 1103.29,1170.62 1103.29,1141.82 1103.29,1113.01 1103.29,1084.21 1103.29,1055.41 1103.29,1026.6 1103.29,997.796 1103.29,968.992 1103.29,940.187 \n",
       "  1103.29,911.382 1103.29,882.578 1103.29,853.773 1103.29,824.969 1103.29,796.164 1103.29,767.359 1103.29,738.555 1103.29,709.75 1103.29,680.946 1103.29,652.141 \n",
       "  1103.29,623.336 1103.29,594.532 1103.29,565.727 1103.29,536.923 1103.29,508.118 1103.29,479.313 1103.29,450.509 1103.29,421.704 1103.29,392.899 1103.29,364.095 \n",
       "  1103.29,335.29 1103.29,306.486 1103.29,277.681 1103.29,248.876 1103.29,220.072 1103.29,191.267 1103.29,162.463 1103.29,133.658 1103.29,104.853 1103.29,76.0487 \n",
       "  \n",
       "  \"/>\n",
       "<circle clip-path=\"url(#clip8802)\" cx=\"1103.29\" cy=\"76.0487\" r=\"14\" fill=\"#c271d2\" fill-rule=\"evenodd\" fill-opacity=\"1\" stroke=\"#000000\" stroke-opacity=\"1\" stroke-width=\"3.2\"/>\n",
       "<polyline clip-path=\"url(#clip8802)\" style=\"stroke:#ac8d18; stroke-width:4; stroke-opacity:1; fill:none\" points=\"\n",
       "  1103.29,1199.43 1104.43,1200.05 1103.34,1195.19 1101.04,1193.51 1102.1,1193.5 1103.3,1193.79 1101.91,1190.48 1099.3,1184.06 1101.64,1175.35 1104.01,1162.59 \n",
       "  1102.59,1146.02 1105.05,1132.04 1108.78,1116.82 1110.65,1106.09 1112.91,1092.92 1119.22,1074.55 1121.53,1058.03 1124.16,1042.62 1126.23,1032.9 1128.07,1023.39 \n",
       "  1130.18,1008.85 1132.89,992.164 1141.88,972.289 1154.66,948.532 1178.15,927.528 1206.28,912.543 1232.07,895.125 1259.64,881.349 1289.82,862.17 1322.91,844.974 \n",
       "  1350.81,824.792 1366.83,796.141 1384.51,763.099 1410.63,729.503 1426.79,688.579 1438.34,653.062 1441.05,617.224 1449.61,582.737 1451.71,548.338 1467.69,515.843 \n",
       "  \n",
       "  \"/>\n",
       "<path clip-path=\"url(#clip8802)\" d=\"\n",
       "M1045.68 630.407 L1046.37 644.533 L1047.76 658.607 L1049.83 672.596 L1052.59 686.467 L1056.03 700.185 L1060.13 713.718 L1064.9 727.034 L1070.31 740.1 L1076.36 752.884 \n",
       "  L1083.02 765.357 L1090.29 777.487 L1098.15 789.246 L1106.58 800.605 L1115.55 811.537 L1125.04 822.016 L1135.04 832.016 L1145.52 841.513 L1156.46 850.485 L1167.81 858.909 \n",
       "  L1179.57 866.766 L1191.7 874.037 L1204.18 880.704 L1216.96 886.75 L1230.03 892.162 L1243.34 896.927 L1256.88 901.032 L1270.59 904.468 L1284.46 907.227 L1298.45 909.302 \n",
       "  L1312.53 910.689 L1326.65 911.382 L1340.8 911.382 L1354.92 910.689 L1368.99 909.302 L1382.98 907.227 L1396.85 904.468 L1410.57 901.032 L1424.11 896.927 L1437.42 892.162 \n",
       "  L1450.49 886.75 L1463.27 880.704 L1475.74 874.037 L1487.87 866.766 L1499.63 858.909 L1510.99 850.485 L1521.92 841.513 L1532.4 832.016 L1542.4 822.016 L1551.9 811.537 \n",
       "  L1560.87 800.605 L1569.3 789.246 L1577.15 777.487 L1584.42 765.357 L1591.09 752.884 L1597.14 740.1 L1602.55 727.034 L1607.31 713.718 L1611.42 700.185 L1614.86 686.467 \n",
       "  L1617.61 672.596 L1619.69 658.607 L1621.08 644.533 L1621.77 630.407 L1621.77 616.265 L1621.08 602.14 L1619.69 588.066 L1617.61 574.077 L1614.86 560.206 L1611.42 546.488 \n",
       "  L1607.31 532.954 L1602.55 519.639 L1597.14 506.573 L1591.09 493.789 L1584.42 481.316 L1577.15 469.186 L1569.3 457.427 L1560.87 446.068 L1551.9 435.136 L1542.4 424.657 \n",
       "  L1532.4 414.657 L1521.92 405.16 L1510.99 396.188 L1499.63 387.763 L1487.87 379.906 L1475.74 372.636 L1463.27 365.969 L1450.49 359.922 L1437.42 354.51 L1424.11 349.746 \n",
       "  L1410.57 345.641 L1396.85 342.204 L1382.98 339.445 L1368.99 337.37 L1354.92 335.984 L1340.8 335.29 L1326.65 335.29 L1312.53 335.984 L1298.45 337.37 L1284.46 339.445 \n",
       "  L1270.59 342.204 L1256.88 345.641 L1243.34 349.746 L1230.03 354.51 L1216.96 359.922 L1204.18 365.969 L1191.7 372.636 L1179.57 379.906 L1167.81 387.763 L1156.46 396.188 \n",
       "  L1145.52 405.16 L1135.04 414.657 L1125.04 424.657 L1115.55 435.136 L1106.58 446.068 L1098.15 457.427 L1090.29 469.186 L1083.02 481.316 L1076.36 493.789 L1070.31 506.573 \n",
       "  L1064.9 519.639 L1060.13 532.954 L1056.03 546.488 L1052.59 560.206 L1049.83 574.077 L1047.76 588.066 L1046.37 602.14 L1045.68 616.265 L1045.68 630.407 L1045.68 630.407 \n",
       "   Z\n",
       "  \" fill=\"#00a9ad\" fill-rule=\"evenodd\" fill-opacity=\"0.5\"/>\n",
       "<polyline clip-path=\"url(#clip8802)\" style=\"stroke:#000000; stroke-width:4; stroke-opacity:0.5; fill:none\" points=\"\n",
       "  1045.68,630.407 1046.37,644.533 1047.76,658.607 1049.83,672.596 1052.59,686.467 1056.03,700.185 1060.13,713.718 1064.9,727.034 1070.31,740.1 1076.36,752.884 \n",
       "  1083.02,765.357 1090.29,777.487 1098.15,789.246 1106.58,800.605 1115.55,811.537 1125.04,822.016 1135.04,832.016 1145.52,841.513 1156.46,850.485 1167.81,858.909 \n",
       "  1179.57,866.766 1191.7,874.037 1204.18,880.704 1216.96,886.75 1230.03,892.162 1243.34,896.927 1256.88,901.032 1270.59,904.468 1284.46,907.227 1298.45,909.302 \n",
       "  1312.53,910.689 1326.65,911.382 1340.8,911.382 1354.92,910.689 1368.99,909.302 1382.98,907.227 1396.85,904.468 1410.57,901.032 1424.11,896.927 1437.42,892.162 \n",
       "  1450.49,886.75 1463.27,880.704 1475.74,874.037 1487.87,866.766 1499.63,858.909 1510.99,850.485 1521.92,841.513 1532.4,832.016 1542.4,822.016 1551.9,811.537 \n",
       "  1560.87,800.605 1569.3,789.246 1577.15,777.487 1584.42,765.357 1591.09,752.884 1597.14,740.1 1602.55,727.034 1607.31,713.718 1611.42,700.185 1614.86,686.467 \n",
       "  1617.61,672.596 1619.69,658.607 1621.08,644.533 1621.77,630.407 1621.77,616.265 1621.08,602.14 1619.69,588.066 1617.61,574.077 1614.86,560.206 1611.42,546.488 \n",
       "  1607.31,532.954 1602.55,519.639 1597.14,506.573 1591.09,493.789 1584.42,481.316 1577.15,469.186 1569.3,457.427 1560.87,446.068 1551.9,435.136 1542.4,424.657 \n",
       "  1532.4,414.657 1521.92,405.16 1510.99,396.188 1499.63,387.763 1487.87,379.906 1475.74,372.636 1463.27,365.969 1450.49,359.922 1437.42,354.51 1424.11,349.746 \n",
       "  1410.57,345.641 1396.85,342.204 1382.98,339.445 1368.99,337.37 1354.92,335.984 1340.8,335.29 1326.65,335.29 1312.53,335.984 1298.45,337.37 1284.46,339.445 \n",
       "  1270.59,342.204 1256.88,345.641 1243.34,349.746 1230.03,354.51 1216.96,359.922 1204.18,365.969 1191.7,372.636 1179.57,379.906 1167.81,387.763 1156.46,396.188 \n",
       "  1145.52,405.16 1135.04,414.657 1125.04,424.657 1115.55,435.136 1106.58,446.068 1098.15,457.427 1090.29,469.186 1083.02,481.316 1076.36,493.789 1070.31,506.573 \n",
       "  1064.9,519.639 1060.13,532.954 1056.03,546.488 1052.59,560.206 1049.83,574.077 1047.76,588.066 1046.37,602.14 1045.68,616.265 1045.68,630.407 \n",
       "  \n",
       "  \"/>\n",
       "<path clip-path=\"url(#clip8800)\" d=\"\n",
       "M1436.08 433.164 L1895.43 433.164 L1895.43 130.764 L1436.08 130.764  Z\n",
       "  \" fill=\"#ffffff\" fill-rule=\"evenodd\" fill-opacity=\"1\"/>\n",
       "<polyline clip-path=\"url(#clip8800)\" style=\"stroke:#000000; stroke-width:4; stroke-opacity:1; fill:none\" points=\"\n",
       "  1436.08,433.164 1895.43,433.164 1895.43,130.764 1436.08,130.764 1436.08,433.164 \n",
       "  \"/>\n",
       "<polyline clip-path=\"url(#clip8800)\" style=\"stroke:#3da44d; stroke-width:4; stroke-opacity:1; fill:none\" points=\"\n",
       "  1460.08,191.244 1604.08,191.244 \n",
       "  \"/>\n",
       "<g clip-path=\"url(#clip8800)\">\n",
       "<text style=\"fill:#000000; fill-opacity:1; font-family:Arial,Helvetica Neue,Helvetica,sans-serif; font-size:48px; text-anchor:start;\" transform=\"rotate(0, 1628.08, 208.744)\" x=\"1628.08\" y=\"208.744\">Xref</text>\n",
       "</g>\n",
       "<circle clip-path=\"url(#clip8800)\" cx=\"1544.08\" cy=\"251.724\" r=\"21\" fill=\"#c271d2\" fill-rule=\"evenodd\" fill-opacity=\"1\" stroke=\"#000000\" stroke-opacity=\"1\" stroke-width=\"3.2\"/>\n",
       "<g clip-path=\"url(#clip8800)\">\n",
       "<text style=\"fill:#000000; fill-opacity:1; font-family:Arial,Helvetica Neue,Helvetica,sans-serif; font-size:48px; text-anchor:start;\" transform=\"rotate(0, 1628.08, 269.224)\" x=\"1628.08\" y=\"269.224\">current ref</text>\n",
       "</g>\n",
       "<polyline clip-path=\"url(#clip8800)\" style=\"stroke:#ac8d18; stroke-width:4; stroke-opacity:1; fill:none\" points=\"\n",
       "  1460.08,312.204 1604.08,312.204 \n",
       "  \"/>\n",
       "<g clip-path=\"url(#clip8800)\">\n",
       "<text style=\"fill:#000000; fill-opacity:1; font-family:Arial,Helvetica Neue,Helvetica,sans-serif; font-size:48px; text-anchor:start;\" transform=\"rotate(0, 1628.08, 329.704)\" x=\"1628.08\" y=\"329.704\">X</text>\n",
       "</g>\n",
       "<path clip-path=\"url(#clip8800)\" d=\"\n",
       "M1460.08 396.876 L1604.08 396.876 L1604.08 348.492 L1460.08 348.492 L1460.08 396.876  Z\n",
       "  \" fill=\"#00a9ad\" fill-rule=\"evenodd\" fill-opacity=\"0.5\"/>\n",
       "<polyline clip-path=\"url(#clip8800)\" style=\"stroke:#000000; stroke-width:4; stroke-opacity:1; fill:none\" points=\"\n",
       "  1460.08,396.876 1604.08,396.876 1604.08,348.492 1460.08,348.492 1460.08,396.876 \n",
       "  \"/>\n",
       "<g clip-path=\"url(#clip8800)\">\n",
       "<text style=\"fill:#000000; fill-opacity:1; font-family:Arial,Helvetica Neue,Helvetica,sans-serif; font-size:48px; text-anchor:start;\" transform=\"rotate(0, 1628.08, 390.184)\" x=\"1628.08\" y=\"390.184\">obstacle</text>\n",
       "</g>\n",
       "</svg>\n"
      ]
     },
     "metadata": {},
     "output_type": "display_data"
    }
   ],
   "source": [
    "visualize(Xshoot, Xref=straight_tp.Xref, obstacle=obstacle)\n",
    "# visualize(Xshoot)"
   ]
  },
  {
   "cell_type": "code",
   "execution_count": 134,
   "metadata": {},
   "outputs": [
    {
     "data": {
      "text/plain": [
       "0.1"
      ]
     },
     "execution_count": 134,
     "metadata": {},
     "output_type": "execute_result"
    }
   ],
   "source": [
    "x = Xshoot[1]\n",
    "u_cand = Ushoot[1]\n",
    "dt = 0.1"
   ]
  },
  {
   "cell_type": "code",
   "execution_count": 138,
   "metadata": {},
   "outputs": [
    {
     "data": {
      "text/plain": [
       "39-element Array{Array{Float64,1},1}:\n",
       " [1.0369009504170617, 1.4717892922210964]\n",
       " [-1.6374613195630277, 2.30896649302964]\n",
       " [-1.5597707046101625, 0.322076002778406]\n",
       " [-0.44294159555717894, 1.3872374131937164]\n",
       " [0.3952037816373988, 0.7328836974714861]\n",
       " [-1.6073779049696375, -3.41461852055256]\n",
       " [0.9422038512969779, 1.3904519943847795]\n",
       " [0.3038358603720699, -1.318005050410763]\n",
       " [-0.1779551383603435, -2.170357679119837]\n",
       " [-0.9194340346186083, 2.6580734833345208]\n",
       " [1.1573814892851217, 3.9688959934742183]\n",
       " [0.6972854269710762, -0.6342790097767299]\n",
       " [-1.6932429429635256, -0.050934523130614195]\n",
       " ⋮\n",
       " [-0.7085520184460545, -2.517482450964815]\n",
       " [0.8428490303413945, 2.671776894970325]\n",
       " [0.5725492992128984, 2.5334290729025994]\n",
       " [1.020498079501678, 2.7429848509790755]\n",
       " [-1.192029636434369, -3.7868528164565163]\n",
       " [-1.8361887600952267, -0.5951399901114236]\n",
       " [1.523245795182687, 2.4324017191592997]\n",
       " [0.14888958612485226, 2.124031441310546]\n",
       " [-1.5235720579379715, 2.7397018429741173]\n",
       " [-0.755903781789141, 0.5113131187442157]\n",
       " [0.7470656916369407, -1.701003451499096]\n",
       " [-0.44638550524406817, 2.8777696495213902]"
      ]
     },
     "execution_count": 138,
     "metadata": {},
     "output_type": "execute_result"
    }
   ],
   "source": [
    "Ushoot"
   ]
  },
  {
   "cell_type": "code",
   "execution_count": 137,
   "metadata": {},
   "outputs": [
    {
     "data": {
      "text/plain": [
       "4-element Array{Float64,1}:\n",
       " 1.0\n",
       " 0.0\n",
       " 0.0\n",
       " 1.5707963267948966"
      ]
     },
     "execution_count": 137,
     "metadata": {},
     "output_type": "execute_result"
    }
   ],
   "source": [
    "x"
   ]
  },
  {
   "cell_type": "code",
   "execution_count": 136,
   "metadata": {},
   "outputs": [
    {
     "data": {
      "text/plain": [
       "2-element Array{Float64,1}:\n",
       " 1.0369009504170617\n",
       " 1.4717892922210964"
      ]
     },
     "execution_count": 136,
     "metadata": {},
     "output_type": "execute_result"
    }
   ],
   "source": [
    "u_cand"
   ]
  },
  {
   "cell_type": "code",
   "execution_count": 135,
   "metadata": {},
   "outputs": [
    {
     "name": "stdout",
     "output_type": "stream",
     "text": [
      "C = [14.848000000000003, 37.120000000000005, 2.0, -0.0]\n",
      "d = 205.29600000000005\n",
      "dot_x_cand = [0.03971521189722817, -0.016433644513221227, 1.0353279204713859, 1.4699546050927625]\n",
      "safe_set = HalfSpace{Float64,Array{Float64,1}}([14.848000000000003, 37.120000000000005, 2.0, -0.0], 205.29600000000005)\n",
      "dot_x_cand ∈ safe_set = true\n",
      "x_cand = [1.0039715211897229, -0.0016433644513221227, 0.1035327920471386, 1.7177917873041728]\n",
      "cost = 4005.6151361692973\n"
     ]
    },
    {
     "data": {
      "text/plain": [
       "4005.6151361692973"
      ]
     },
     "execution_count": 135,
     "metadata": {},
     "output_type": "execute_result"
    }
   ],
   "source": [
    "safe_set = isnothing(obstacle) ? HalfSpace(zero(x).+1.0,Inf) : phi_safe_set(x, obstacle, dt)\n",
    "\n",
    "dot_x_cand = compute_output(net, [x; u_cand])\n",
    "@show dot_x_cand\n",
    "@show safe_set\n",
    "@show dot_x_cand ∈ safe_set\n",
    "x_cand = forward(net, x, u_cand, dt)\n",
    "cost = sum(abs.(x_cand - rp.xg).*rp.obj_cost)\n",
    "@show x_cand\n",
    "@show cost"
   ]
  },
  {
   "cell_type": "code",
   "execution_count": 79,
   "metadata": {},
   "outputs": [
    {
     "data": {
      "text/plain": [
       "0.1"
      ]
     },
     "execution_count": 79,
     "metadata": {},
     "output_type": "execute_result"
    }
   ],
   "source": [
    "x = [0.7151803140632867, 3.0295064931179514, 0.9922598714551204, 1.5790849992558857]\n",
    "# u_cand = [0.9671312205118925, -1.5849882795646603]\n",
    "u_cand = [0.9671312205118925, -4.0]\n",
    "dt = 0.1"
   ]
  },
  {
   "cell_type": "code",
   "execution_count": 80,
   "metadata": {},
   "outputs": [
    {
     "name": "stdout",
     "output_type": "stream",
     "text": [
      "C = [9.713964563903986, -10.203086010739842, -1.0384627407939917, -1.067918969299223]\n",
      "d = 50.33329500596455\n",
      "dot_x_cand = [-0.06184920121921861, 1.0174099313702905, 0.9608074246798955, -3.99708681577496]\n",
      "safe_set = HalfSpace{Float64,Array{Float64,1}}([9.713964563903986, -10.203086010739842, -1.0384627407939917, -1.067918969299223], 50.33329500596455)\n",
      "dot_x_cand ∈ safe_set = true\n",
      "x_cand = [0.7089953939413649, 3.1312474862549804, 1.08834061392311, 1.1793763176783898]\n",
      "cost = 29187.337336998637\n"
     ]
    },
    {
     "data": {
      "text/plain": [
       "29187.337336998637"
      ]
     },
     "execution_count": 80,
     "metadata": {},
     "output_type": "execute_result"
    }
   ],
   "source": [
    "safe_set = isnothing(obstacle) ? HalfSpace(zero(x).+1.0,Inf) : phi_safe_set(x, obstacle, dt)\n",
    "\n",
    "dot_x_cand = compute_output(net, [x; u_cand])\n",
    "@show dot_x_cand\n",
    "@show safe_set\n",
    "@show dot_x_cand ∈ safe_set\n",
    "x_cand = forward(net, x, u_cand, dt)\n",
    "cost = sum(abs.(x_cand - rp.xg).*rp.obj_cost)\n",
    "@show x_cand\n",
    "@show cost"
   ]
  },
  {
   "cell_type": "code",
   "execution_count": 76,
   "metadata": {},
   "outputs": [
    {
     "name": "stdout",
     "output_type": "stream",
     "text": [
      "C = [9.713964563903986, -10.203086010739842, -1.0384627407939917, -1.067918969299223]\n",
      "d = 50.33329500596455\n",
      "dot_x_cand = [-0.05408414513288179, 1.0129514997859765, 0.9615238517998896, -1.5901309815455342]\n",
      "safe_set = HalfSpace{Float64,Array{Float64,1}}([9.713964563903986, -10.203086010739842, -1.0384627407939917, -1.067918969299223], 50.33329500596455)\n",
      "dot_x_cand ∈ safe_set = true\n",
      "x_cand = [0.7097718995499985, 3.130801643096549, 1.0884122566351093, 1.4200719011013323]\n",
      "cost = 29109.731119827175\n"
     ]
    },
    {
     "data": {
      "text/plain": [
       "29109.731119827175"
      ]
     },
     "execution_count": 76,
     "metadata": {},
     "output_type": "execute_result"
    }
   ],
   "source": [
    "safe_set = isnothing(obstacle) ? HalfSpace(zero(x).+1.0,Inf) : phi_safe_set(x, obstacle, dt)\n",
    "\n",
    "dot_x_cand = compute_output(net, [x; u_cand])\n",
    "@show dot_x_cand\n",
    "@show safe_set\n",
    "@show dot_x_cand ∈ safe_set\n",
    "x_cand = forward(net, x, u_cand, dt)\n",
    "cost = sum(abs.(x_cand - rp.xg).*rp.obj_cost)\n",
    "@show x_cand\n",
    "@show cost\n"
   ]
  },
  {
   "cell_type": "code",
   "execution_count": 88,
   "metadata": {},
   "outputs": [
    {
     "data": {
      "text/plain": [
       "4-element Array{Float64,1}:\n",
       " -0.3803775330272849\n",
       " -0.36224763603458804\n",
       " 14.423770415416886\n",
       " -0.07468962256386412"
      ]
     },
     "execution_count": 88,
     "metadata": {},
     "output_type": "execute_result"
    }
   ],
   "source": [
    "dot_x = compute_output(net, [[0,0,0,π/2]; [20,0]])"
   ]
  },
  {
   "cell_type": "code",
   "execution_count": null,
   "metadata": {},
   "outputs": [],
   "source": []
  },
  {
   "cell_type": "code",
   "execution_count": 161,
   "metadata": {},
   "outputs": [
    {
     "ename": "LoadError",
     "evalue": "\u001b[91mMethodError: no method matching AbstractFloat(::Hyperrectangle{Float64,Array{Float64,1},Array{Float64,1}})\u001b[39m\n\u001b[91m\u001b[0mClosest candidates are:\u001b[39m\n\u001b[91m\u001b[0m  AbstractFloat(\u001b[91m::Bool\u001b[39m) at float.jl:258\u001b[39m\n\u001b[91m\u001b[0m  AbstractFloat(\u001b[91m::Int8\u001b[39m) at float.jl:259\u001b[39m\n\u001b[91m\u001b[0m  AbstractFloat(\u001b[91m::Int16\u001b[39m) at float.jl:260\u001b[39m\n\u001b[91m\u001b[0m  ...\u001b[39m",
     "output_type": "error",
     "traceback": [
      "\u001b[91mMethodError: no method matching AbstractFloat(::Hyperrectangle{Float64,Array{Float64,1},Array{Float64,1}})\u001b[39m\n\u001b[91m\u001b[0mClosest candidates are:\u001b[39m\n\u001b[91m\u001b[0m  AbstractFloat(\u001b[91m::Bool\u001b[39m) at float.jl:258\u001b[39m\n\u001b[91m\u001b[0m  AbstractFloat(\u001b[91m::Int8\u001b[39m) at float.jl:259\u001b[39m\n\u001b[91m\u001b[0m  AbstractFloat(\u001b[91m::Int16\u001b[39m) at float.jl:260\u001b[39m\n\u001b[91m\u001b[0m  ...\u001b[39m",
      "",
      "Stacktrace:",
      " [1] float(::Hyperrectangle{Float64,Array{Float64,1},Array{Float64,1}}) at ./float.jl:277",
      " [2] TrackingProblem(::Network, ::Hyperrectangle{Float64,Array{Float64,1},Array{Float64,1}}, ::Hyperrectangle{Float64,Array{Float64,1},Array{Float64,1}}, ::Array{Float64,1}, ::Array{Float64,1}; u_lim::Array{Int64,1}) at ./In[3]:14",
      " [3] TrackingProblem(::Network, ::Hyperrectangle{Float64,Array{Float64,1},Array{Float64,1}}, ::Hyperrectangle{Float64,Array{Float64,1},Array{Float64,1}}, ::Array{Float64,1}, ::Array{Float64,1}) at ./In[3]:13",
      " [4] get_control(::NvController, ::Array{Float64,1}, ::Array{Float64,1}, ::Network, ::Array{Float64,1}, ::Float64; obstacle::Nothing) at ./In[153]:127",
      " [5] macro expansion at ./timing.jl:310 [inlined]",
      " [6] #tracking#237 at ./In[154]:35 [inlined]",
      " [7] tracking(::TrackingProblem{Network,Float64}, ::NvController) at ./In[154]:28",
      " [8] top-level scope at In[161]:5",
      " [9] include_string(::Function, ::Module, ::String, ::String) at ./loading.jl:1091"
     ]
    }
   ],
   "source": [
    "# dx_bound = [0.15, 0.15, 0.05, 0.08]\n",
    "dx_bound = [10, 10, 10, 10]\n",
    "nv_ctrl = NvController(dx_bound, warm_start=true)\n",
    "# Xnv, Unv = tracking(curve_tp, nv_ctrl, obstacle=obstacle);\n",
    "Xnv, Unv = tracking(curve_tp, nv_ctrl);"
   ]
  },
  {
   "cell_type": "code",
   "execution_count": 20,
   "metadata": {},
   "outputs": [
    {
     "ename": "LoadError",
     "evalue": "\u001b[91mUndefVarError: Xnv not defined\u001b[39m",
     "output_type": "error",
     "traceback": [
      "\u001b[91mUndefVarError: Xnv not defined\u001b[39m",
      "",
      "Stacktrace:",
      " [1] top-level scope at In[20]:2",
      " [2] include_string(::Function, ::Module, ::String, ::String) at ./loading.jl:1091"
     ]
    }
   ],
   "source": [
    "# visualize(Xnv, Xref=curve_tp.Xref, obstacle=obstacle)\n",
    "visualize(Xnv, Xref=curve_tp.Xref)"
   ]
  },
  {
   "cell_type": "code",
   "execution_count": 21,
   "metadata": {},
   "outputs": [],
   "source": [
    "# dx_bound = [10, 10, 10, 10]"
   ]
  },
  {
   "cell_type": "code",
   "execution_count": 22,
   "metadata": {},
   "outputs": [
    {
     "data": {
      "text/plain": [
       "Ball2{Float64,Array{Float64,1}}([1.0, 1.0], 1.0)"
      ]
     },
     "execution_count": 22,
     "metadata": {},
     "output_type": "execute_result"
    }
   ],
   "source": [
    "dx_bound = [10, 10, 10, 10]\n",
    "obstacle = Ball2([1.0,1.0],1.0)"
   ]
  },
  {
   "cell_type": "code",
   "execution_count": 23,
   "metadata": {},
   "outputs": [
    {
     "ename": "LoadError",
     "evalue": "\u001b[91mMethodError: no method matching get_control(::NvController, ::Array{Float64,1}, ::Array{Float64,1}, ::Network, ::Array{Float64,1}, ::Float64; obstacle=Ball2{Float64,Array{Float64,1}}([1.0, 1.0], 1.0))\u001b[39m\n\u001b[91m\u001b[0mClosest candidates are:\u001b[39m\n\u001b[91m\u001b[0m  get_control(\u001b[91m::ShootingController\u001b[39m, ::Any, ::Any, ::Any, ::Any, ::Any; obstacle) at In[12]:90\u001b[39m",
     "output_type": "error",
     "traceback": [
      "\u001b[91mMethodError: no method matching get_control(::NvController, ::Array{Float64,1}, ::Array{Float64,1}, ::Network, ::Array{Float64,1}, ::Float64; obstacle=Ball2{Float64,Array{Float64,1}}([1.0, 1.0], 1.0))\u001b[39m\n\u001b[91m\u001b[0mClosest candidates are:\u001b[39m\n\u001b[91m\u001b[0m  get_control(\u001b[91m::ShootingController\u001b[39m, ::Any, ::Any, ::Any, ::Any, ::Any; obstacle) at In[12]:90\u001b[39m",
      "",
      "Stacktrace:",
      " [1] macro expansion at ./timing.jl:310 [inlined]",
      " [2] tracking(::TrackingProblem{Network,Float64}, ::NvController; obstacle::Ball2{Float64,Array{Float64,1}}) at ./In[13]:9",
      " [3] top-level scope at In[23]:1",
      " [4] include_string(::Function, ::Module, ::String, ::String) at ./loading.jl:1091"
     ]
    }
   ],
   "source": [
    "Xnv, Unv = tracking(curve_tp, nv_ctrl, obstacle=obstacle);\n",
    "visualize(curve_tp.Xref, Xnv, obstacle=obstacle)"
   ]
  },
  {
   "cell_type": "code",
   "execution_count": 24,
   "metadata": {
    "scrolled": true
   },
   "outputs": [
    {
     "name": "stdout",
     "output_type": "stream",
     "text": [
      "(d, dot_d) = (1.0, -1.5707963267948966)\n",
      "p = 1.5707963267948966\n",
      "C = [-9.618353468608949e-17, 2.4292036732051034, 2.0, 9.618353468608949e-17]\n",
      "xref - x = [-0.007972177176106432, 0.0006776983782132984, 6.456055397663363e-5, 0.0783289534045708]\n",
      "(d, dot_d) = (0.8505110583913295, -1.4485001028389328)\n",
      "p = 1.7251310423929933\n",
      "C = [-0.016303136898997282, 1.5667613084648346, 1.8444392263291958, 0.007374359619905769]\n",
      "xref - x = [-0.02207094978912183, 0.0008595205882551693, 0.0001337394086718957, 0.15665216449198738]\n",
      "(d, dot_d) = (0.7131489181860882, -1.3262003404364748)\n",
      "p = 1.817618960926487\n",
      "C = [-0.027167958419575488, 0.838274554926272, 1.6888583003671513, 0.014760339994314985]\n",
      "xref - x = [-0.04223379780406478, 6.156316057076561e-5, 0.00020755284498807924, 0.23496803540123556]\n",
      "(d, dot_d) = (0.5879136656216464, -1.2038943668870612)\n",
      "p = 1.8582518886623802\n",
      "C = [-0.03331993435823543, 0.2324356715151792, 1.5332510994241273, 0.02214917639195119]\n",
      "xref - x = [-0.06835157461968844, -0.0021805051507155504, 0.00016177736207767524, 0.3132167302957152]\n",
      "(d, dot_d) = (0.4748255586526578, -1.0817738201826055)\n",
      "p = 1.856314509032797\n",
      "C = [-0.03538160500967268, -0.2622279461322041, 1.377640974642606, 0.029460281820403972]\n",
      "xref - x = [-0.10034036937069857, -0.00633375546534759, 0.00011759467886218733, 0.39145732341302186]\n",
      "(d, dot_d) = (0.37388660041380006, -0.9596323556408798)\n",
      "p = 1.8198411656718911\n",
      "C = [-0.0342717303036349, -0.656806780349879, 1.2220248327381884, 0.03684723393432842]\n",
      "xref - x = [-0.13803213505269707, -0.01285236542335888, 7.500315723285578e-5, 0.4696898091048536]\n",
      "(d, dot_d) = (0.2850997741582183, -0.8374709404104523)\n",
      "p = 1.7561890591853853\n",
      "C = [-0.030682590905357507, -0.9626325210276628, 1.0664029571651572, 0.04431220000896871]\n",
      "xref - x = [-0.1812237062892591, -0.02217596661054888, 3.400119544771929e-5, 0.5479141817561721]\n",
      "(d, dot_d) = (0.20846804415769415, -0.7152905434781172)\n",
      "p = 1.671831618043183\n",
      "C = [-0.02530946701821198, -1.1910423544622963, 0.910775634926591, 0.0518573491542078]\n",
      "xref - x = [-0.22967804887979804, -0.03472693407830718, -5.412771792889792e-6, 0.6261304357852211]\n",
      "(d, dot_d) = (0.14399435581105513, -0.593092135759968)\n",
      "p = 1.5723577612545272\n",
      "C = [-0.01885039887849988, -1.3533789338163484, 0.7551431566593307, 0.05948485224276854]\n",
      "xref - x = [-0.2831267544497974, -0.05090386861627838, -4.2576204023814235e-5, 0.7043413981181899]\n",
      "(d, dot_d) = (0.0916840713925967, -0.4708822536879799)\n",
      "p = 1.4624762847408572\n",
      "C = [-0.012011203753271877, -1.4609846784560385, 0.5995134068636454, 0.06719977118414858]\n",
      "xref - x = [-0.3412698040155261, -0.07108673628980045, -7.747404994329354e-5, 0.7825471312522934]\n",
      "(d, dot_d) = (0.051538409685328676, -0.34866243067767644)\n",
      "p = 1.3460062230047836\n",
      "C = [-0.005494182553699297, -1.5252186767826115, 0.44388700814546733, 0.07500351657574691]\n",
      "xref - x = [-0.40377392650707, -0.0956246569159408, -9.495327396658038e-5, 0.8607410592394691]\n",
      "(d, dot_d) = (0.023559760258715846, -0.2264400515004022)\n",
      "p = 1.225884989196954\n",
      "C = [6.721665442324838e-6, -1.5574106693013605, 0.2882775758239087, 0.08288750373883783]\n",
      "xref - x = [-0.4702903330201662, -0.1248448655344272, -0.0001100336359050047, 0.9389308305440776]\n",
      "(d, dot_d) = (0.0077470271840528356, -0.10422706503587142)\n",
      "p = 1.104167048605681\n",
      "C = [0.003772676764495897, -1.568957015749594, 0.1326874314354811, 0.0908685791956627]\n",
      "xref - x = [-0.5404385745309227, -0.1590469155263321, -0.0001227154405483155, 1.0171164430538244]\n",
      "(d, dot_d) = (0.004097671332711525, 0.017975016346704373)\n",
      "p = 0.9820081927429447\n",
      "C = [0.005097301581729504, -1.5712213620015105, -0.022882926260718126, 0.09894775021870864]\n",
      "xref - x = [-0.6138158592396953, -0.19849960856385396, -0.00013299897741136935, 1.0952978946884684]\n",
      "(d, dot_d) = (0.012609050118280195, 0.1401646789858568)\n",
      "p = 0.8596763328692578\n",
      "C = [0.0032720781441712386, -1.5755624216391957, -0.1784329962952755, 0.10712602221661921]\n",
      "xref - x = [-0.6899995342061498, -0.2434393364337848, -0.00014088452069271895, 1.1734751833998505]\n",
      "(d, dot_d) = (0.03327841753465396, 0.2623404079119272)\n",
      "p = 0.736552139014462\n",
      "C = [-0.002413502403684668, -1.5933337427673087, -0.33396227546827817, 0.11540439867000368]\n",
      "xref - x = [-0.7685496894331465, -0.2940686226792951, -0.00014637232923320198, 1.2516483071719244]\n",
      "(d, dot_d) = (0.06610292419422759, 0.3845006868312313)\n",
      "p = 0.6111297165817409\n",
      "C = [-0.012671793685358401, -1.6358834750403461, -0.48947025832920127, 0.12378388106716147]\n",
      "xref - x = [-0.8490118683444181, -0.35055487305128485, -0.00014946264647475171, 1.3298172640207868]\n",
      "(d, dot_d) = (0.11107961736619248, 0.5066439981103231)\n",
      "p = 0.4810173204954572\n",
      "C = [-0.02821684779779699, -1.7145541369027348, -0.6449564371568666, 0.13226546883972992]\n",
      "xref - x = [-0.930868715735578, -0.4130600265808346, -0.00015139583104439858, 1.4079811868035692]\n",
      "(d, dot_d) = (0.16822109916778158, 0.6288183614375478)\n",
      "p = 0.3428833003572356\n",
      "C = [-0.04973394704683985, -1.8407306003190067, -0.80048210077939, 0.14077083828697612]\n",
      "xref - x = [-1.013640592599237, -0.4816812173017079, -0.00015227756770330725, 1.4861400003228356]\n",
      "(d, dot_d) = (0.23753892564259, 0.7510274995778895)\n",
      "p = 0.19254775922667455\n",
      "C = [-0.07789944952451237, -2.0258146357551414, -0.9560525466132435, 0.14929433289264657]\n",
      "xref - x = [-1.0968463440733365, -0.55647538696044, -0.785550269044454, 1.5642937046939716]\n",
      "tot_time = 2.108464765\n",
      "tot_error = 13.71106490403117\n"
     ]
    }
   ],
   "source": [
    "Xshoot, Ushoot = tracking(curve_tp, shoot_ctrl, obstacle=obstacle);\n",
    "# Xshoot_mpc1, Ushoot_mpc1 = mpc_tracking(curve_tp, shoot_ctrl, 1);\n",
    "# Xshoot_mpc3, Ushoot_mpc3 = mpc_tracking(curve_tp, shoot_ctrl, 3);\n",
    "# Xshoot_mpc10, Ushoot_mpc10 = mpc_tracking(curve_tp, shoot_ctrl, 10);"
   ]
  },
  {
   "cell_type": "code",
   "execution_count": 25,
   "metadata": {},
   "outputs": [
    {
     "ename": "LoadError",
     "evalue": "\u001b[91mUndefVarError: Xshoot_mpc1 not defined\u001b[39m",
     "output_type": "error",
     "traceback": [
      "\u001b[91mUndefVarError: Xshoot_mpc1 not defined\u001b[39m",
      "",
      "Stacktrace:",
      " [1] top-level scope at In[25]:1",
      " [2] include_string(::Function, ::Module, ::String, ::String) at ./loading.jl:1091"
     ]
    }
   ],
   "source": [
    "mpc1_costs = costs(curve_tp, Xshoot_mpc1);\n",
    "mpc3_costs = costs(curve_tp, Xshoot_mpc3);\n",
    "mpc10_costs = costs(curve_tp, Xshoot_mpc10);\n",
    "plot(mpc1_costs, label=\"horizon=1\", ylim=(0,0.15))\n",
    "plot!(mpc3_costs, label=\"horizon=3\")\n",
    "plot!(mpc10_costs, label=\"horizon=10\")"
   ]
  },
  {
   "cell_type": "code",
   "execution_count": 26,
   "metadata": {},
   "outputs": [
    {
     "ename": "LoadError",
     "evalue": "\u001b[91mUndefVarError: Xnv not defined\u001b[39m",
     "output_type": "error",
     "traceback": [
      "\u001b[91mUndefVarError: Xnv not defined\u001b[39m",
      "",
      "Stacktrace:",
      " [1] top-level scope at In[26]:1",
      " [2] include_string(::Function, ::Module, ::String, ::String) at ./loading.jl:1091"
     ]
    }
   ],
   "source": [
    "nv_costs = costs(curve_tp, Xnv);\n",
    "plot(nv_costs, label=\"horizon=1\", ylim=(0,0.15))"
   ]
  },
  {
   "cell_type": "code",
   "execution_count": 27,
   "metadata": {},
   "outputs": [
    {
     "data": {
      "text/plain": [
       "Complement{Float64,Ball2{Float64,Array{Float64,1}}}(Ball2{Float64,Array{Float64,1}}([1.0, 1.0], 1.0))"
      ]
     },
     "execution_count": 27,
     "metadata": {},
     "output_type": "execute_result"
    }
   ],
   "source": [
    "C = Complement(obstacle)"
   ]
  },
  {
   "cell_type": "code",
   "execution_count": 28,
   "metadata": {},
   "outputs": [
    {
     "data": {
      "text/plain": [
       "2-element Array{Float64,1}:\n",
       " 1.0\n",
       " 0.0"
      ]
     },
     "execution_count": 28,
     "metadata": {},
     "output_type": "execute_result"
    }
   ],
   "source": [
    "x0 = curve_tp.x0[1:2]"
   ]
  },
  {
   "cell_type": "code",
   "execution_count": 29,
   "metadata": {},
   "outputs": [
    {
     "data": {
      "image/svg+xml": [
       "<?xml version=\"1.0\" encoding=\"utf-8\"?>\n",
       "<svg xmlns=\"http://www.w3.org/2000/svg\" xmlns:xlink=\"http://www.w3.org/1999/xlink\" width=\"600\" height=\"400\" viewBox=\"0 0 2400 1600\">\n",
       "<defs>\n",
       "  <clipPath id=\"clip5100\">\n",
       "    <rect x=\"0\" y=\"0\" width=\"2400\" height=\"1600\"/>\n",
       "  </clipPath>\n",
       "</defs>\n",
       "<path clip-path=\"url(#clip5100)\" d=\"\n",
       "M0 1600 L2400 1600 L2400 0 L0 0  Z\n",
       "  \" fill=\"#ffffff\" fill-rule=\"evenodd\" fill-opacity=\"1\"/>\n",
       "<defs>\n",
       "  <clipPath id=\"clip5101\">\n",
       "    <rect x=\"480\" y=\"0\" width=\"1681\" height=\"1600\"/>\n",
       "  </clipPath>\n",
       "</defs>\n",
       "<path clip-path=\"url(#clip5100)\" d=\"\n",
       "M153.898 1487.47 L2352.76 1487.47 L2352.76 47.2441 L153.898 47.2441  Z\n",
       "  \" fill=\"#ffffff\" fill-rule=\"evenodd\" fill-opacity=\"1\"/>\n",
       "<defs>\n",
       "  <clipPath id=\"clip5102\">\n",
       "    <rect x=\"153\" y=\"47\" width=\"2200\" height=\"1441\"/>\n",
       "  </clipPath>\n",
       "</defs>\n",
       "<polyline clip-path=\"url(#clip5102)\" style=\"stroke:#000000; stroke-width:2; stroke-opacity:0.1; fill:none\" points=\"\n",
       "  234.296,1487.47 234.296,47.2441 \n",
       "  \"/>\n",
       "<polyline clip-path=\"url(#clip5102)\" style=\"stroke:#000000; stroke-width:2; stroke-opacity:0.1; fill:none\" points=\"\n",
       "  573.973,1487.47 573.973,47.2441 \n",
       "  \"/>\n",
       "<polyline clip-path=\"url(#clip5102)\" style=\"stroke:#000000; stroke-width:2; stroke-opacity:0.1; fill:none\" points=\"\n",
       "  913.65,1487.47 913.65,47.2441 \n",
       "  \"/>\n",
       "<polyline clip-path=\"url(#clip5102)\" style=\"stroke:#000000; stroke-width:2; stroke-opacity:0.1; fill:none\" points=\"\n",
       "  1253.33,1487.47 1253.33,47.2441 \n",
       "  \"/>\n",
       "<polyline clip-path=\"url(#clip5102)\" style=\"stroke:#000000; stroke-width:2; stroke-opacity:0.1; fill:none\" points=\"\n",
       "  1593,1487.47 1593,47.2441 \n",
       "  \"/>\n",
       "<polyline clip-path=\"url(#clip5102)\" style=\"stroke:#000000; stroke-width:2; stroke-opacity:0.1; fill:none\" points=\"\n",
       "  1932.68,1487.47 1932.68,47.2441 \n",
       "  \"/>\n",
       "<polyline clip-path=\"url(#clip5102)\" style=\"stroke:#000000; stroke-width:2; stroke-opacity:0.1; fill:none\" points=\"\n",
       "  2272.36,1487.47 2272.36,47.2441 \n",
       "  \"/>\n",
       "<polyline clip-path=\"url(#clip5102)\" style=\"stroke:#000000; stroke-width:2; stroke-opacity:0.1; fill:none\" points=\"\n",
       "  153.898,1310.84 2352.76,1310.84 \n",
       "  \"/>\n",
       "<polyline clip-path=\"url(#clip5102)\" style=\"stroke:#000000; stroke-width:2; stroke-opacity:0.1; fill:none\" points=\"\n",
       "  153.898,1039.1 2352.76,1039.1 \n",
       "  \"/>\n",
       "<polyline clip-path=\"url(#clip5102)\" style=\"stroke:#000000; stroke-width:2; stroke-opacity:0.1; fill:none\" points=\"\n",
       "  153.898,767.359 2352.76,767.359 \n",
       "  \"/>\n",
       "<polyline clip-path=\"url(#clip5102)\" style=\"stroke:#000000; stroke-width:2; stroke-opacity:0.1; fill:none\" points=\"\n",
       "  153.898,495.618 2352.76,495.618 \n",
       "  \"/>\n",
       "<polyline clip-path=\"url(#clip5102)\" style=\"stroke:#000000; stroke-width:2; stroke-opacity:0.1; fill:none\" points=\"\n",
       "  153.898,223.876 2352.76,223.876 \n",
       "  \"/>\n",
       "<polyline clip-path=\"url(#clip5100)\" style=\"stroke:#000000; stroke-width:4; stroke-opacity:1; fill:none\" points=\"\n",
       "  153.898,1487.47 2352.76,1487.47 \n",
       "  \"/>\n",
       "<polyline clip-path=\"url(#clip5100)\" style=\"stroke:#000000; stroke-width:4; stroke-opacity:1; fill:none\" points=\"\n",
       "  153.898,1487.47 153.898,47.2441 \n",
       "  \"/>\n",
       "<polyline clip-path=\"url(#clip5100)\" style=\"stroke:#000000; stroke-width:4; stroke-opacity:1; fill:none\" points=\"\n",
       "  234.296,1487.47 234.296,1470.19 \n",
       "  \"/>\n",
       "<polyline clip-path=\"url(#clip5100)\" style=\"stroke:#000000; stroke-width:4; stroke-opacity:1; fill:none\" points=\"\n",
       "  573.973,1487.47 573.973,1470.19 \n",
       "  \"/>\n",
       "<polyline clip-path=\"url(#clip5100)\" style=\"stroke:#000000; stroke-width:4; stroke-opacity:1; fill:none\" points=\"\n",
       "  913.65,1487.47 913.65,1470.19 \n",
       "  \"/>\n",
       "<polyline clip-path=\"url(#clip5100)\" style=\"stroke:#000000; stroke-width:4; stroke-opacity:1; fill:none\" points=\"\n",
       "  1253.33,1487.47 1253.33,1470.19 \n",
       "  \"/>\n",
       "<polyline clip-path=\"url(#clip5100)\" style=\"stroke:#000000; stroke-width:4; stroke-opacity:1; fill:none\" points=\"\n",
       "  1593,1487.47 1593,1470.19 \n",
       "  \"/>\n",
       "<polyline clip-path=\"url(#clip5100)\" style=\"stroke:#000000; stroke-width:4; stroke-opacity:1; fill:none\" points=\"\n",
       "  1932.68,1487.47 1932.68,1470.19 \n",
       "  \"/>\n",
       "<polyline clip-path=\"url(#clip5100)\" style=\"stroke:#000000; stroke-width:4; stroke-opacity:1; fill:none\" points=\"\n",
       "  2272.36,1487.47 2272.36,1470.19 \n",
       "  \"/>\n",
       "<polyline clip-path=\"url(#clip5100)\" style=\"stroke:#000000; stroke-width:4; stroke-opacity:1; fill:none\" points=\"\n",
       "  153.898,1310.84 180.284,1310.84 \n",
       "  \"/>\n",
       "<polyline clip-path=\"url(#clip5100)\" style=\"stroke:#000000; stroke-width:4; stroke-opacity:1; fill:none\" points=\"\n",
       "  153.898,1039.1 180.284,1039.1 \n",
       "  \"/>\n",
       "<polyline clip-path=\"url(#clip5100)\" style=\"stroke:#000000; stroke-width:4; stroke-opacity:1; fill:none\" points=\"\n",
       "  153.898,767.359 180.284,767.359 \n",
       "  \"/>\n",
       "<polyline clip-path=\"url(#clip5100)\" style=\"stroke:#000000; stroke-width:4; stroke-opacity:1; fill:none\" points=\"\n",
       "  153.898,495.618 180.284,495.618 \n",
       "  \"/>\n",
       "<polyline clip-path=\"url(#clip5100)\" style=\"stroke:#000000; stroke-width:4; stroke-opacity:1; fill:none\" points=\"\n",
       "  153.898,223.876 180.284,223.876 \n",
       "  \"/>\n",
       "<g clip-path=\"url(#clip5100)\">\n",
       "<text style=\"fill:#000000; fill-opacity:1; font-family:Arial,Helvetica Neue,Helvetica,sans-serif; font-size:48px; text-anchor:middle;\" transform=\"rotate(0, 234.296, 1541.47)\" x=\"234.296\" y=\"1541.47\">0.25</text>\n",
       "</g>\n",
       "<g clip-path=\"url(#clip5100)\">\n",
       "<text style=\"fill:#000000; fill-opacity:1; font-family:Arial,Helvetica Neue,Helvetica,sans-serif; font-size:48px; text-anchor:middle;\" transform=\"rotate(0, 573.973, 1541.47)\" x=\"573.973\" y=\"1541.47\">0.50</text>\n",
       "</g>\n",
       "<g clip-path=\"url(#clip5100)\">\n",
       "<text style=\"fill:#000000; fill-opacity:1; font-family:Arial,Helvetica Neue,Helvetica,sans-serif; font-size:48px; text-anchor:middle;\" transform=\"rotate(0, 913.65, 1541.47)\" x=\"913.65\" y=\"1541.47\">0.75</text>\n",
       "</g>\n",
       "<g clip-path=\"url(#clip5100)\">\n",
       "<text style=\"fill:#000000; fill-opacity:1; font-family:Arial,Helvetica Neue,Helvetica,sans-serif; font-size:48px; text-anchor:middle;\" transform=\"rotate(0, 1253.33, 1541.47)\" x=\"1253.33\" y=\"1541.47\">1.00</text>\n",
       "</g>\n",
       "<g clip-path=\"url(#clip5100)\">\n",
       "<text style=\"fill:#000000; fill-opacity:1; font-family:Arial,Helvetica Neue,Helvetica,sans-serif; font-size:48px; text-anchor:middle;\" transform=\"rotate(0, 1593, 1541.47)\" x=\"1593\" y=\"1541.47\">1.25</text>\n",
       "</g>\n",
       "<g clip-path=\"url(#clip5100)\">\n",
       "<text style=\"fill:#000000; fill-opacity:1; font-family:Arial,Helvetica Neue,Helvetica,sans-serif; font-size:48px; text-anchor:middle;\" transform=\"rotate(0, 1932.68, 1541.47)\" x=\"1932.68\" y=\"1541.47\">1.50</text>\n",
       "</g>\n",
       "<g clip-path=\"url(#clip5100)\">\n",
       "<text style=\"fill:#000000; fill-opacity:1; font-family:Arial,Helvetica Neue,Helvetica,sans-serif; font-size:48px; text-anchor:middle;\" transform=\"rotate(0, 2272.36, 1541.47)\" x=\"2272.36\" y=\"1541.47\">1.75</text>\n",
       "</g>\n",
       "<g clip-path=\"url(#clip5100)\">\n",
       "<text style=\"fill:#000000; fill-opacity:1; font-family:Arial,Helvetica Neue,Helvetica,sans-serif; font-size:48px; text-anchor:end;\" transform=\"rotate(0, 129.898, 1328.34)\" x=\"129.898\" y=\"1328.34\">0.6</text>\n",
       "</g>\n",
       "<g clip-path=\"url(#clip5100)\">\n",
       "<text style=\"fill:#000000; fill-opacity:1; font-family:Arial,Helvetica Neue,Helvetica,sans-serif; font-size:48px; text-anchor:end;\" transform=\"rotate(0, 129.898, 1056.6)\" x=\"129.898\" y=\"1056.6\">0.8</text>\n",
       "</g>\n",
       "<g clip-path=\"url(#clip5100)\">\n",
       "<text style=\"fill:#000000; fill-opacity:1; font-family:Arial,Helvetica Neue,Helvetica,sans-serif; font-size:48px; text-anchor:end;\" transform=\"rotate(0, 129.898, 784.859)\" x=\"129.898\" y=\"784.859\">1.0</text>\n",
       "</g>\n",
       "<g clip-path=\"url(#clip5100)\">\n",
       "<text style=\"fill:#000000; fill-opacity:1; font-family:Arial,Helvetica Neue,Helvetica,sans-serif; font-size:48px; text-anchor:end;\" transform=\"rotate(0, 129.898, 513.118)\" x=\"129.898\" y=\"513.118\">1.2</text>\n",
       "</g>\n",
       "<g clip-path=\"url(#clip5100)\">\n",
       "<text style=\"fill:#000000; fill-opacity:1; font-family:Arial,Helvetica Neue,Helvetica,sans-serif; font-size:48px; text-anchor:end;\" transform=\"rotate(0, 129.898, 241.376)\" x=\"129.898\" y=\"241.376\">1.4</text>\n",
       "</g>\n",
       "<path clip-path=\"url(#clip5102)\" d=\"\n",
       "M573.973 800.734 L580.515 867.162 L593.538 932.628 L612.914 996.503 L638.457 1058.17 L669.923 1117.04 L707.007 1172.54 L749.352 1224.14 L796.55 1271.33 L848.148 1313.68 \n",
       "  L903.648 1350.76 L962.515 1382.23 L1024.18 1407.77 L1088.06 1427.15 L1153.52 1440.17 L1219.95 1446.71 L1286.7 1446.71 L1353.13 1440.17 L1418.6 1427.15 L1482.47 1407.77 \n",
       "  L1544.14 1382.23 L1603.01 1350.76 L1658.51 1313.68 L1710.1 1271.33 L1757.3 1224.14 L1799.65 1172.54 L1836.73 1117.04 L1868.2 1058.17 L1893.74 996.503 L1913.12 932.628 \n",
       "  L1926.14 867.162 L1932.68 800.734 L1932.68 733.985 L1926.14 667.557 L1913.12 602.091 L1893.74 538.216 L1868.2 476.548 L1836.73 417.68 L1799.65 362.181 L1757.3 310.583 \n",
       "  L1710.1 263.384 L1658.51 221.039 L1603.01 183.955 L1544.14 152.49 L1482.47 126.946 L1418.6 107.57 L1353.13 94.5479 L1286.7 88.0053 L1219.95 88.0053 L1153.52 94.5479 \n",
       "  L1088.06 107.57 L1024.18 126.946 L962.515 152.49 L903.648 183.955 L848.148 221.039 L796.55 263.384 L749.352 310.583 L707.007 362.181 L669.923 417.68 L638.457 476.548 \n",
       "  L612.914 538.216 L593.538 602.091 L580.515 667.557 L573.973 733.985 L573.973 800.734 L573.973 800.734  Z\n",
       "  \" fill=\"#009af9\" fill-rule=\"evenodd\" fill-opacity=\"0.5\"/>\n",
       "<polyline clip-path=\"url(#clip5102)\" style=\"stroke:#000000; stroke-width:4; stroke-opacity:0.5; fill:none\" points=\"\n",
       "  573.973,800.734 580.515,867.162 593.538,932.628 612.914,996.503 638.457,1058.17 669.923,1117.04 707.007,1172.54 749.352,1224.14 796.55,1271.33 848.148,1313.68 \n",
       "  903.648,1350.76 962.515,1382.23 1024.18,1407.77 1088.06,1427.15 1153.52,1440.17 1219.95,1446.71 1286.7,1446.71 1353.13,1440.17 1418.6,1427.15 1482.47,1407.77 \n",
       "  1544.14,1382.23 1603.01,1350.76 1658.51,1313.68 1710.1,1271.33 1757.3,1224.14 1799.65,1172.54 1836.73,1117.04 1868.2,1058.17 1893.74,996.503 1913.12,932.628 \n",
       "  1926.14,867.162 1932.68,800.734 1932.68,733.985 1926.14,667.557 1913.12,602.091 1893.74,538.216 1868.2,476.548 1836.73,417.68 1799.65,362.181 1757.3,310.583 \n",
       "  1710.1,263.384 1658.51,221.039 1603.01,183.955 1544.14,152.49 1482.47,126.946 1418.6,107.57 1353.13,94.5479 1286.7,88.0053 1219.95,88.0053 1153.52,94.5479 \n",
       "  1088.06,107.57 1024.18,126.946 962.515,152.49 903.648,183.955 848.148,221.039 796.55,263.384 749.352,310.583 707.007,362.181 669.923,417.68 638.457,476.548 \n",
       "  612.914,538.216 593.538,602.091 580.515,667.557 573.973,733.985 573.973,800.734 \n",
       "  \"/>\n",
       "</svg>\n"
      ]
     },
     "execution_count": 29,
     "metadata": {},
     "output_type": "execute_result"
    }
   ],
   "source": [
    "obstacle = Ball2([1.0,1.0],0.5)\n",
    "plot(obstacle, aspect_ratio=:equal)"
   ]
  },
  {
   "cell_type": "code",
   "execution_count": 30,
   "metadata": {},
   "outputs": [
    {
     "data": {
      "text/plain": [
       "2-element Array{Float64,1}:\n",
       " 1.0\n",
       " 1.0"
      ]
     },
     "execution_count": 30,
     "metadata": {},
     "output_type": "execute_result"
    }
   ],
   "source": [
    "xc, yc = obstacle.center"
   ]
  },
  {
   "cell_type": "code",
   "execution_count": null,
   "metadata": {},
   "outputs": [],
   "source": []
  },
  {
   "cell_type": "code",
   "execution_count": 31,
   "metadata": {},
   "outputs": [
    {
     "ename": "LoadError",
     "evalue": "\u001b[91mUndefVarError: obstacle_2_x_cons not defined\u001b[39m",
     "output_type": "error",
     "traceback": [
      "\u001b[91mUndefVarError: obstacle_2_x_cons not defined\u001b[39m",
      "",
      "Stacktrace:",
      " [1] top-level scope at In[31]:4",
      " [2] include_string(::Function, ::Module, ::String, ::String) at ./loading.jl:1091"
     ]
    }
   ],
   "source": [
    "# p = [1,1.8]\n",
    "# p = [0.4,1]\n",
    "p = [0.2,1.0]\n",
    "hp = obstacle_2_x_cons(obstacle, p)\n",
    "plot(obstacle, aspect_ratio=:equal, xlim=(0,2), ylim=(0,2))\n",
    "plot!(hp)\n",
    "plot!(Ball2(p,0.01))"
   ]
  },
  {
   "cell_type": "code",
   "execution_count": null,
   "metadata": {},
   "outputs": [],
   "source": []
  },
  {
   "cell_type": "code",
   "execution_count": null,
   "metadata": {},
   "outputs": [],
   "source": []
  }
 ],
 "metadata": {
  "kernelspec": {
   "display_name": "Julia 1.5.3",
   "language": "julia",
   "name": "julia-1.5"
  },
  "language_info": {
   "file_extension": ".jl",
   "mimetype": "application/julia",
   "name": "julia",
   "version": "1.5.3"
  }
 },
 "nbformat": 4,
 "nbformat_minor": 4
}
