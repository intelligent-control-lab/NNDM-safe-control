{
 "cells": [
  {
   "cell_type": "code",
   "execution_count": 1,
   "metadata": {},
   "outputs": [
    {
     "name": "stderr",
     "output_type": "stream",
     "text": [
      "┌ Info: Precompiling NeuralVerification [146f25fa-00e7-11e9-3ae5-fdbac6e12fa7]\n",
      "└ @ Base loading.jl:1278\n",
      "┌ Warning: Package NeuralVerification does not have CPLEX in its dependencies:\n",
      "│ - If you have NeuralVerification checked out for development and have\n",
      "│   added CPLEX as a dependency but haven't updated your primary\n",
      "│   environment's manifest file, try `Pkg.resolve()`.\n",
      "│ - Otherwise you may need to report an issue with NeuralVerification\n",
      "└ Loading CPLEX into NeuralVerification from project dependency, future warnings for NeuralVerification are suppressed.\n"
     ]
    },
    {
     "data": {
      "text/plain": [
       "grad_phi (generic function with 2 methods)"
      ]
     },
     "execution_count": 1,
     "metadata": {},
     "output_type": "execute_result"
    }
   ],
   "source": [
    "using Plots\n",
    "using LinearAlgebra\n",
    "using Revise\n",
    "using NeuralVerification\n",
    "using NeuralVerification:Network, Layer, ReLU, Id, read_nnet, compute_output\n",
    "using LazySets\n",
    "using Random\n",
    "using BlackBoxOptim\n",
    "include(\"unicycle_env.jl\")\n",
    "include(\"controller.jl\")\n",
    "include(\"problem.jl\")\n",
    "include(\"safe_set.jl\")"
   ]
  },
  {
   "cell_type": "code",
   "execution_count": 2,
   "metadata": {},
   "outputs": [
    {
     "data": {
      "text/plain": [
       "0.5"
      ]
     },
     "execution_count": 2,
     "metadata": {},
     "output_type": "execute_result"
    }
   ],
   "source": [
    "net_path = \"../nnet/unicycle-FC3-100-rk4/epoch_1000.nnet\"\n",
    "net = read_nnet(net_path);\n",
    "obs_radius = 0.5"
   ]
  },
  {
   "cell_type": "code",
   "execution_count": 3,
   "metadata": {},
   "outputs": [
    {
     "data": {
      "text/plain": [
       "following (generic function with 1 method)"
      ]
     },
     "execution_count": 3,
     "metadata": {},
     "output_type": "execute_result"
    }
   ],
   "source": [
    "function generate_moving_target(;fps=10, tf=2, v=nothing, v_lim=0.5, pos=nothing)\n",
    "    T = tf*fps\n",
    "    v = isnothing(v) ? [rand(), rand()]*v_lim*2 .- v_lim : v\n",
    "    p = isnothing(pos) ? [0, 1.5] : pos\n",
    "    return [Obstacle(p+v*(i/fps), v, obs_radius) for i in 0:T-1]\n",
    "end\n",
    "\n",
    "function get_Xref(x0, xg, T, dt)\n",
    "    tf = T*dt\n",
    "    dp = [xg[1]-x0[1], xg[2]-x0[2]]\n",
    "    da = xg[4]-x0[4]\n",
    "    a = atan(dp[2], dp[1])\n",
    "    v = norm(dp)/tf\n",
    "    v = max(min(v, 1),-1)\n",
    "    vx = v * cos(a)\n",
    "    vy = v * sin(a)\n",
    "    Xref = [[x0[1]+vx*k*dt, x0[2]+vy*k*dt, v, a] for k = 1:T]\n",
    "    Xref[end][3] = 0\n",
    "    return Xref\n",
    "end\n",
    "\n",
    "function following(rp::RP, ctrl; fps=10, tf=2, targets=nothing, safety_index=nothing, verbose=false)\n",
    "    T=Int(ceil(fps*tf))\n",
    "    dt=1.0/fps\n",
    "    x = rp.x0\n",
    "    X = [copy(rp.x0) for k = 1:T]\n",
    "    U = [zeros(2) for k = 1:T-1]\n",
    "    safe_sets = []\n",
    "    Xrefs = []\n",
    "    tot_time = 0\n",
    "    infeas=false\n",
    "    for i in 1:T-1\n",
    "        xg = [targets[i].center..., norm(targets[i].vel), 0]\n",
    "        @show\n",
    "        Xref = get_Xref(x, xg, fps, dt)\n",
    "#         Xref = get_Xref(x, [targets[i].center..., norm(targets[i].vel), 0], fps, dt)\n",
    "#         Xref = get_Xref(x, [targets[i].center..., norm(targets[i].vel), 0], fps, dt)\n",
    "#         Xref = get_Xref(x, rp.xg, fps, dt)\n",
    "        xref = Xref[1]\n",
    "        push!(Xrefs, Xref)\n",
    "        timed_result = @timed get_control(ctrl, xref, x, rp.net, rp.obj_cost, dt, obstacles=[targets[i]], safety_index=safety_index)\n",
    "        u, safe_set = timed_result.value\n",
    "        dot_x = compute_output(net, [x; u])\n",
    "        if !(dot_x ∈ safe_set)\n",
    "            infeas=true\n",
    "        end\n",
    "        push!(safe_sets, safe_set)\n",
    "        tot_time += timed_result.time\n",
    "        if verbose\n",
    "            @show x\n",
    "            @show xref\n",
    "            @show u\n",
    "            p = phi(safety_index, x, targets[i])\n",
    "            @show p\n",
    "        end\n",
    "        x = forward(rp.net, x, u, dt)\n",
    "        X[i+1] = x\n",
    "        U[i] = u\n",
    "    end\n",
    "    push!(Xrefs, Xrefs[end])\n",
    "    return X, U, safe_sets, Xrefs, infeas\n",
    "end"
   ]
  },
  {
   "cell_type": "code",
   "execution_count": 4,
   "metadata": {},
   "outputs": [],
   "source": [
    "\n",
    "function following_samples()\n",
    "    nx = 20\n",
    "    ny = 20\n",
    "    nv = 10\n",
    "    nt = 10\n",
    "    nov = 1\n",
    "    xs = range(0,stop=5,length=nx)\n",
    "    ys = range(0,stop=5,length=ny)\n",
    "    vs = range(-1,stop=1,length=nv)\n",
    "    θs = range(-π,stop=π,length=nt)\n",
    "    ov1s = range(-0.,stop=0.,length=nov)\n",
    "    ov2s = range(-0.,stop=0.,length=nov)\n",
    "    samples = [([x,y,v,θ],[Obstacle([0.0, 0.0],[ov1,ov2],obs_radius)]) for x in xs, y in ys, v in vs, θ in θs, ov1 in ov1s, ov2 in ov2s];\n",
    "    return samples\n",
    "end\n",
    "fol_samples = following_samples();"
   ]
  },
  {
   "cell_type": "code",
   "execution_count": 5,
   "metadata": {},
   "outputs": [
    {
     "data": {
      "text/plain": [
       "eval_following_index (generic function with 1 method)"
      ]
     },
     "execution_count": 5,
     "metadata": {},
     "output_type": "execute_result"
    }
   ],
   "source": [
    "\n",
    "function exists_valid_control(safety_index, ctrl::ShootingController, x, obs, net, dt)\n",
    "    safe_set = phi_safe_set(safety_index, x, obs, dt)\n",
    "    phi_now = phi(safety_index, x, obs[1])\n",
    "    phi_next_con = max(0, phi_now - safety_index.gamma * dt)\n",
    "    for j in 1:ctrl.num_sample\n",
    "        u_cand = rand(2) .* ctrl.u_lim * 2 - ctrl.u_lim\n",
    "        x_cand = forward(net, x, u_cand, dt)\n",
    "        phi_next = phi(safety_index, x_cand, obs[1])\n",
    "        if phi_next < phi_next_con\n",
    "            return true\n",
    "        end\n",
    "    end\n",
    "    return false\n",
    "end\n",
    "function eval_following_index(coes)\n",
    "    Random.seed!(1)\n",
    "    margin, gamma, phi_power, dot_phi_coe = coes\n",
    "    d_max = 2\n",
    "    d_min = 1\n",
    "    index = FollowingIndex(d_min, d_max, margin, gamma, phi_power, dot_phi_coe)\n",
    "    cnt = 0\n",
    "    valid = 0\n",
    "    net_path = \"../nnet/unicycle-FC3-100-rk4/epoch_1000.nnet\"\n",
    "    net = read_nnet(net_path);\n",
    "    dt = 0.1\n",
    "    for sample in fol_samples\n",
    "        x, obs = sample\n",
    "        if norm(x[1:2]) < 1e-6 # overlaped with the obstacle\n",
    "            valid += 1\n",
    "            continue\n",
    "        end\n",
    "        ctrl = ShootingController(1000)\n",
    "        evc = exists_valid_control(index, ctrl, x, obs, net, dt)\n",
    "        cnt += 1\n",
    "        valid += evc\n",
    "        # if !evc\n",
    "        #     @show sample\n",
    "        # end\n",
    "    end\n",
    "    @show coes, valid/cnt\n",
    "    return 1-valid/cnt\n",
    "#     success_rate, phi0_vio_rate, infeas_rate  = following_stat(100, index)\n",
    "#     infeas_cnt = length(fol_samples)-valid\n",
    "#     @show coes, infeas_cnt, success_rate, phi0_vio_rate, infeas_rate\n",
    "#     return Float64(length(fol_samples)-valid) - success_rate\n",
    "end"
   ]
  },
  {
   "cell_type": "code",
   "execution_count": 110,
   "metadata": {},
   "outputs": [
    {
     "name": "stdout",
     "output_type": "stream",
     "text": [
      "(coes, valid / cnt) = ([0.41200010648072877, 1.0, 1.7292014015234838, 1.8555555800160193], 0.9949624060150376)\n",
      "Starting optimization with optimizer DiffEvoOpt{FitPopulation{Float64},RadiusLimitedSelector,BlackBoxOptim.AdaptiveDiffEvoRandBin{3},RandomBound{ContinuousRectSearchSpace}}\n",
      "0.00 secs, 0 evals, 0 steps\n",
      "DE modify state:\n",
      "(coes, valid / cnt) = ([0.16373910495418376, 1.0, 5.093514930259684, 7.546208898747808], 0.9981704260651629)\n",
      "(coes, valid / cnt) = ([0.16373910495418376, 1.0, 4.134584631901263, 7.546208898747808], 0.9980451127819548)\n",
      "7.14 secs, 2 evals, 1 steps, improv/step: 1.000 (last = 1.0000), fitness=0.001829574\n",
      "DE modify state:\n",
      "(coes, valid / cnt) = ([0.15362978964599225, 1.0, 3.2002861702466867, 2.515825418081089], 0.9935588972431078)\n",
      "(coes, valid / cnt) = ([0.32436836651078, 1.0, 3.2002861702466867, 2.515825418081089], 0.9963408521303259)\n",
      "17.39 secs, 4 evals, 2 steps, improv/step: 0.500 (last = 0.0000), fitness=0.001829574\n",
      "DE modify state:\n",
      "(coes, valid / cnt) = ([0.06984187748510794, 1.0, 7.046787830455664, 7.3458563995771105], 0.9982205513784461)\n",
      "(coes, valid / cnt) = ([0.06984187748510794, 1.0, 7.046787830455664, 5.639388936850747], 0.9976942355889724)\n",
      "24.72 secs, 6 evals, 3 steps, improv/step: 0.667 (last = 1.0000), fitness=0.001779449\n",
      "DE modify state:\n",
      "(coes, valid / cnt) = ([0.1917643409099068, 1.0, 6.739962089124539, 6.5445201969779925], 0.9979448621553885)\n",
      "(coes, valid / cnt) = ([0.4898039863822162, 1.0, 8.092237178143593, 9.826084444469092], 0.9985964912280701)\n",
      "31.60 secs, 8 evals, 4 steps, improv/step: 0.500 (last = 0.0000), fitness=0.001403509\n",
      "DE modify state:\n",
      "(coes, valid / cnt) = ([0.10294105167614147, 1.0, 3.063868373885587, 3.000449817702216], 0.9932581453634085)\n",
      "(coes, valid / cnt) = ([0.4898039863822162, 1.0, 8.092237178143593, 9.826084444469092], 0.9985964912280701)\n",
      "40.71 secs, 10 evals, 5 steps, improv/step: 0.400 (last = 0.0000), fitness=0.001403509\n",
      "DE modify state:\n",
      "(coes, valid / cnt) = ([0.10294105167614147, 1.0, 3.063868373885587, 3.000449817702216], 0.9932581453634085)\n",
      "(coes, valid / cnt) = ([0.4898039863822162, 1.0, 8.092237178143593, 9.826084444469092], 0.9985964912280701)\n",
      "49.83 secs, 12 evals, 6 steps, improv/step: 0.333 (last = 0.0000), fitness=0.001403509\n",
      "DE modify state:\n",
      "(coes, valid / cnt) = ([0.10294105167614147, 1.0, 3.063868373885587, 3.000449817702216], 0.9932581453634085)\n",
      "(coes, valid / cnt) = ([0.4898039863822162, 1.0, 8.092237178143593, 9.826084444469092], 0.9985964912280701)\n",
      "58.98 secs, 14 evals, 7 steps, improv/step: 0.286 (last = 0.0000), fitness=0.001403509\n",
      "DE modify state:\n",
      "(coes, valid / cnt) = ([0.10294105167614147, 1.0, 3.063868373885587, 3.000449817702216], 0.9932581453634085)\n",
      "(coes, valid / cnt) = ([0.4898039863822162, 1.0, 8.092237178143593, 9.826084444469092], 0.9985964912280701)\n",
      "68.10 secs, 16 evals, 8 steps, improv/step: 0.250 (last = 0.0000), fitness=0.001403509\n",
      "DE modify state:\n",
      "(coes, valid / cnt) = ([0.10294105167614147, 1.0, 3.063868373885587, 3.000449817702216], 0.9932581453634085)\n",
      "(coes, valid / cnt) = ([0.4898039863822162, 1.0, 8.092237178143593, 9.826084444469092], 0.9985964912280701)\n",
      "77.28 secs, 18 evals, 9 steps, improv/step: 0.222 (last = 0.0000), fitness=0.001403509\n",
      "DE modify state:\n",
      "(coes, valid / cnt) = ([0.10294105167614147, 1.0, 3.063868373885587, 3.000449817702216], 0.9932581453634085)\n",
      "(coes, valid / cnt) = ([0.4898039863822162, 1.0, 8.092237178143593, 9.826084444469092], 0.9985964912280701)\n",
      "86.41 secs, 20 evals, 10 steps, improv/step: 0.200 (last = 0.0000), fitness=0.001403509\n",
      "DE modify state:\n",
      "(coes, valid / cnt) = ([0.10294105167614147, 1.0, 3.063868373885587, 3.000449817702216], 0.9932581453634085)\n",
      "(coes, valid / cnt) = ([0.4898039863822162, 1.0, 8.092237178143593, 9.826084444469092], 0.9985964912280701)\n",
      "95.55 secs, 22 evals, 11 steps, improv/step: 0.182 (last = 0.0000), fitness=0.001403509\n",
      "DE modify state:\n",
      "(coes, valid / cnt) = ([0.10294105167614147, 1.0, 3.063868373885587, 3.000449817702216], 0.9932581453634085)\n",
      "(coes, valid / cnt) = ([0.4898039863822162, 1.0, 8.092237178143593, 9.826084444469092], 0.9985964912280701)\n",
      "104.66 secs, 24 evals, 12 steps, improv/step: 0.167 (last = 0.0000), fitness=0.001403509\n",
      "DE modify state:\n",
      "(coes, valid / cnt) = ([0.10294105167614147, 1.0, 3.063868373885587, 3.000449817702216], 0.9932581453634085)\n",
      "(coes, valid / cnt) = ([0.4898039863822162, 1.0, 8.092237178143593, 9.826084444469092], 0.9985964912280701)\n",
      "113.85 secs, 26 evals, 13 steps, improv/step: 0.154 (last = 0.0000), fitness=0.001403509\n",
      "DE modify state:\n",
      "(coes, valid / cnt) = ([0.10294105167614147, 1.0, 3.063868373885587, 3.000449817702216], 0.9932581453634085)\n",
      "(coes, valid / cnt) = ([0.4898039863822162, 1.0, 8.092237178143593, 9.826084444469092], 0.9985964912280701)\n",
      "123.03 secs, 28 evals, 14 steps, improv/step: 0.143 (last = 0.0000), fitness=0.001403509\n",
      "DE modify state:\n",
      "(coes, valid / cnt) = ([0.10294105167614147, 1.0, 3.063868373885587, 3.000449817702216], 0.9932581453634085)\n",
      "(coes, valid / cnt) = ([0.4898039863822162, 1.0, 8.092237178143593, 9.826084444469092], 0.9985964912280701)\n",
      "132.24 secs, 30 evals, 15 steps, improv/step: 0.133 (last = 0.0000), fitness=0.001403509\n",
      "DE modify state:\n",
      "(coes, valid / cnt) = ([0.10294105167614147, 1.0, 3.063868373885587, 3.000449817702216], 0.9932581453634085)\n",
      "(coes, valid / cnt) = ([0.4898039863822162, 1.0, 8.092237178143593, 9.826084444469092], 0.9985964912280701)\n",
      "141.35 secs, 32 evals, 16 steps, improv/step: 0.125 (last = 0.0000), fitness=0.001403509\n",
      "DE modify state:\n",
      "(coes, valid / cnt) = ([0.10294105167614147, 1.0, 3.063868373885587, 3.000449817702216], 0.9932581453634085)\n",
      "(coes, valid / cnt) = ([0.4898039863822162, 1.0, 8.092237178143593, 9.826084444469092], 0.9985964912280701)\n",
      "150.55 secs, 34 evals, 17 steps, improv/step: 0.118 (last = 0.0000), fitness=0.001403509\n",
      "DE modify state:\n",
      "(coes, valid / cnt) = ([0.10294105167614147, 1.0, 3.063868373885587, 3.000449817702216], 0.9932581453634085)\n",
      "(coes, valid / cnt) = ([0.4898039863822162, 1.0, 8.092237178143593, 9.826084444469092], 0.9985964912280701)\n",
      "159.80 secs, 36 evals, 18 steps, improv/step: 0.111 (last = 0.0000), fitness=0.001403509\n",
      "DE modify state:\n",
      "(coes, valid / cnt) = ([0.10294105167614147, 1.0, 3.063868373885587, 3.000449817702216], 0.9932581453634085)\n",
      "(coes, valid / cnt) = ([0.4898039863822162, 1.0, 8.092237178143593, 9.826084444469092], 0.9985964912280701)\n",
      "169.01 secs, 38 evals, 19 steps, improv/step: 0.105 (last = 0.0000), fitness=0.001403509\n",
      "DE modify state:\n",
      "(coes, valid / cnt) = ([0.10294105167614147, 1.0, 3.063868373885587, 3.000449817702216], 0.9932581453634085)\n",
      "(coes, valid / cnt) = ([0.4898039863822162, 1.0, 8.092237178143593, 9.826084444469092], 0.9985964912280701)\n",
      "178.21 secs, 40 evals, 20 steps, improv/step: 0.100 (last = 0.0000), fitness=0.001403509\n",
      "DE modify state:\n",
      "(coes, valid / cnt) = ([0.10294105167614147, 1.0, 3.063868373885587, 3.000449817702216], 0.9932581453634085)\n",
      "(coes, valid / cnt) = ([0.4898039863822162, 1.0, 8.092237178143593, 9.826084444469092], 0.9985964912280701)\n",
      "187.40 secs, 42 evals, 21 steps, improv/step: 0.095 (last = 0.0000), fitness=0.001403509\n",
      "DE modify state:\n",
      "(coes, valid / cnt) = ([0.10294105167614147, 1.0, 3.063868373885587, 3.000449817702216], 0.9932581453634085)\n",
      "(coes, valid / cnt) = ([0.4898039863822162, 1.0, 8.092237178143593, 9.826084444469092], 0.9985964912280701)\n",
      "196.67 secs, 44 evals, 22 steps, improv/step: 0.091 (last = 0.0000), fitness=0.001403509\n",
      "DE modify state:\n",
      "(coes, valid / cnt) = ([0.10294105167614147, 1.0, 3.063868373885587, 3.000449817702216], 0.9932581453634085)\n",
      "(coes, valid / cnt) = ([0.4898039863822162, 1.0, 8.092237178143593, 9.826084444469092], 0.9985964912280701)\n",
      "205.80 secs, 46 evals, 23 steps, improv/step: 0.087 (last = 0.0000), fitness=0.001403509\n",
      "DE modify state:\n",
      "(coes, valid / cnt) = ([0.10294105167614147, 1.0, 3.063868373885587, 3.000449817702216], 0.9932581453634085)\n",
      "(coes, valid / cnt) = ([0.4898039863822162, 1.0, 8.092237178143593, 9.826084444469092], 0.9985964912280701)\n",
      "214.99 secs, 48 evals, 24 steps, improv/step: 0.083 (last = 0.0000), fitness=0.001403509\n",
      "DE modify state:\n",
      "(coes, valid / cnt) = ([0.10294105167614147, 1.0, 3.063868373885587, 3.000449817702216], 0.9932581453634085)\n",
      "(coes, valid / cnt) = ([0.4898039863822162, 1.0, 8.092237178143593, 9.826084444469092], 0.9985964912280701)\n",
      "224.17 secs, 50 evals, 25 steps, improv/step: 0.080 (last = 0.0000), fitness=0.001403509\n",
      "DE modify state:\n",
      "(coes, valid / cnt) = ([0.10294105167614147, 1.0, 3.063868373885587, 3.000449817702216], 0.9932581453634085)\n",
      "(coes, valid / cnt) = ([0.4898039863822162, 1.0, 8.092237178143593, 9.826084444469092], 0.9985964912280701)\n",
      "233.36 secs, 52 evals, 26 steps, improv/step: 0.077 (last = 0.0000), fitness=0.001403509\n",
      "DE modify state:\n",
      "(coes, valid / cnt) = ([0.10294105167614147, 1.0, 3.063868373885587, 3.000449817702216], 0.9932581453634085)\n",
      "(coes, valid / cnt) = ([0.4898039863822162, 1.0, 8.092237178143593, 9.826084444469092], 0.9985964912280701)\n",
      "242.51 secs, 54 evals, 27 steps, improv/step: 0.074 (last = 0.0000), fitness=0.001403509\n",
      "DE modify state:\n",
      "(coes, valid / cnt) = ([0.10294105167614147, 1.0, 3.063868373885587, 3.000449817702216], 0.9932581453634085)\n",
      "(coes, valid / cnt) = ([0.4898039863822162, 1.0, 8.092237178143593, 9.826084444469092], 0.9985964912280701)\n",
      "251.51 secs, 56 evals, 28 steps, improv/step: 0.071 (last = 0.0000), fitness=0.001403509\n",
      "DE modify state:\n",
      "(coes, valid / cnt) = ([0.10294105167614147, 1.0, 3.063868373885587, 3.000449817702216], 0.9932581453634085)\n",
      "(coes, valid / cnt) = ([0.4898039863822162, 1.0, 8.092237178143593, 9.826084444469092], 0.9985964912280701)\n",
      "260.72 secs, 58 evals, 29 steps, improv/step: 0.069 (last = 0.0000), fitness=0.001403509\n",
      "DE modify state:\n",
      "(coes, valid / cnt) = ([0.10294105167614147, 1.0, 3.063868373885587, 3.000449817702216], 0.9932581453634085)\n",
      "(coes, valid / cnt) = ([0.4898039863822162, 1.0, 8.092237178143593, 9.826084444469092], 0.9985964912280701)\n",
      "270.01 secs, 60 evals, 30 steps, improv/step: 0.067 (last = 0.0000), fitness=0.001403509\n",
      "DE modify state:\n",
      "(coes, valid / cnt) = ([0.10294105167614147, 1.0, 3.063868373885587, 3.000449817702216], 0.9932581453634085)\n",
      "(coes, valid / cnt) = ([0.4898039863822162, 1.0, 8.092237178143593, 9.826084444469092], 0.9985964912280701)\n",
      "279.28 secs, 62 evals, 31 steps, improv/step: 0.065 (last = 0.0000), fitness=0.001403509\n",
      "DE modify state:\n",
      "(coes, valid / cnt) = ([0.10294105167614147, 1.0, 3.063868373885587, 3.000449817702216], 0.9932581453634085)\n",
      "(coes, valid / cnt) = ([0.4898039863822162, 1.0, 8.092237178143593, 9.826084444469092], 0.9985964912280701)\n",
      "288.55 secs, 64 evals, 32 steps, improv/step: 0.063 (last = 0.0000), fitness=0.001403509\n",
      "DE modify state:\n",
      "(coes, valid / cnt) = ([0.10294105167614147, 1.0, 3.063868373885587, 3.000449817702216], 0.9932581453634085)\n",
      "(coes, valid / cnt) = ([0.4898039863822162, 1.0, 8.092237178143593, 9.826084444469092], 0.9985964912280701)\n",
      "297.81 secs, 66 evals, 33 steps, improv/step: 0.061 (last = 0.0000), fitness=0.001403509\n",
      "DE modify state:\n",
      "(coes, valid / cnt) = ([0.10294105167614147, 1.0, 3.063868373885587, 3.000449817702216], 0.9932581453634085)\n",
      "(coes, valid / cnt) = ([0.4898039863822162, 1.0, 8.092237178143593, 9.826084444469092], 0.9985964912280701)\n",
      "307.10 secs, 68 evals, 34 steps, improv/step: 0.059 (last = 0.0000), fitness=0.001403509\n",
      "DE modify state:\n",
      "(coes, valid / cnt) = ([0.10294105167614147, 1.0, 3.063868373885587, 3.000449817702216], 0.9932581453634085)\n",
      "(coes, valid / cnt) = ([0.4898039863822162, 1.0, 8.092237178143593, 9.826084444469092], 0.9985964912280701)\n",
      "316.19 secs, 70 evals, 35 steps, improv/step: 0.057 (last = 0.0000), fitness=0.001403509\n",
      "DE modify state:\n",
      "(coes, valid / cnt) = ([0.10294105167614147, 1.0, 3.063868373885587, 3.000449817702216], 0.9932581453634085)\n",
      "(coes, valid / cnt) = ([0.4898039863822162, 1.0, 8.092237178143593, 9.826084444469092], 0.9985964912280701)\n",
      "325.35 secs, 72 evals, 36 steps, improv/step: 0.056 (last = 0.0000), fitness=0.001403509\n",
      "DE modify state:\n",
      "(coes, valid / cnt) = ([0.10294105167614147, 1.0, 3.063868373885587, 3.000449817702216], 0.9932581453634085)\n",
      "(coes, valid / cnt) = ([0.4898039863822162, 1.0, 8.092237178143593, 9.826084444469092], 0.9985964912280701)\n",
      "334.66 secs, 74 evals, 37 steps, improv/step: 0.054 (last = 0.0000), fitness=0.001403509\n",
      "DE modify state:\n",
      "(coes, valid / cnt) = ([0.10294105167614147, 1.0, 3.063868373885587, 3.000449817702216], 0.9932581453634085)\n",
      "(coes, valid / cnt) = ([0.4898039863822162, 1.0, 8.092237178143593, 9.826084444469092], 0.9985964912280701)\n",
      "344.11 secs, 76 evals, 38 steps, improv/step: 0.053 (last = 0.0000), fitness=0.001403509\n",
      "DE modify state:\n",
      "(coes, valid / cnt) = ([0.10294105167614147, 1.0, 3.063868373885587, 3.000449817702216], 0.9932581453634085)\n",
      "(coes, valid / cnt) = ([0.4898039863822162, 1.0, 8.092237178143593, 9.826084444469092], 0.9985964912280701)\n",
      "353.34 secs, 78 evals, 39 steps, improv/step: 0.051 (last = 0.0000), fitness=0.001403509\n",
      "DE modify state:\n",
      "(coes, valid / cnt) = ([0.10294105167614147, 1.0, 3.063868373885587, 3.000449817702216], 0.9932581453634085)\n",
      "(coes, valid / cnt) = ([0.4898039863822162, 1.0, 8.092237178143593, 9.826084444469092], 0.9985964912280701)\n",
      "362.54 secs, 80 evals, 40 steps, improv/step: 0.050 (last = 0.0000), fitness=0.001403509\n",
      "DE modify state:\n",
      "(coes, valid / cnt) = ([0.10294105167614147, 1.0, 3.063868373885587, 3.000449817702216], 0.9932581453634085)\n",
      "(coes, valid / cnt) = ([0.4898039863822162, 1.0, 8.092237178143593, 9.826084444469092], 0.9985964912280701)\n",
      "371.95 secs, 82 evals, 41 steps, improv/step: 0.049 (last = 0.0000), fitness=0.001403509\n",
      "DE modify state:\n",
      "(coes, valid / cnt) = ([0.10294105167614147, 1.0, 3.063868373885587, 3.000449817702216], 0.9932581453634085)\n",
      "(coes, valid / cnt) = ([0.4898039863822162, 1.0, 8.092237178143593, 9.826084444469092], 0.9985964912280701)\n",
      "381.21 secs, 84 evals, 42 steps, improv/step: 0.048 (last = 0.0000), fitness=0.001403509\n",
      "DE modify state:\n",
      "(coes, valid / cnt) = ([0.10294105167614147, 1.0, 3.063868373885587, 3.000449817702216], 0.9932581453634085)\n",
      "(coes, valid / cnt) = ([0.4898039863822162, 1.0, 8.092237178143593, 9.826084444469092], 0.9985964912280701)\n",
      "390.56 secs, 86 evals, 43 steps, improv/step: 0.047 (last = 0.0000), fitness=0.001403509\n",
      "DE modify state:\n",
      "(coes, valid / cnt) = ([0.10294105167614147, 1.0, 3.063868373885587, 3.000449817702216], 0.9932581453634085)\n",
      "(coes, valid / cnt) = ([0.4898039863822162, 1.0, 8.092237178143593, 9.826084444469092], 0.9985964912280701)\n",
      "399.73 secs, 88 evals, 44 steps, improv/step: 0.045 (last = 0.0000), fitness=0.001403509\n",
      "DE modify state:\n",
      "(coes, valid / cnt) = ([0.10294105167614147, 1.0, 3.063868373885587, 3.000449817702216], 0.9932581453634085)\n",
      "(coes, valid / cnt) = ([0.4898039863822162, 1.0, 8.092237178143593, 9.826084444469092], 0.9985964912280701)\n",
      "408.88 secs, 90 evals, 45 steps, improv/step: 0.044 (last = 0.0000), fitness=0.001403509\n",
      "DE modify state:\n",
      "(coes, valid / cnt) = ([0.10294105167614147, 1.0, 3.063868373885587, 3.000449817702216], 0.9932581453634085)\n",
      "(coes, valid / cnt) = ([0.4898039863822162, 1.0, 8.092237178143593, 9.826084444469092], 0.9985964912280701)\n",
      "418.08 secs, 92 evals, 46 steps, improv/step: 0.043 (last = 0.0000), fitness=0.001403509\n",
      "DE modify state:\n",
      "(coes, valid / cnt) = ([0.10294105167614147, 1.0, 3.063868373885587, 3.000449817702216], 0.9932581453634085)\n",
      "(coes, valid / cnt) = ([0.4898039863822162, 1.0, 8.092237178143593, 9.826084444469092], 0.9985964912280701)\n",
      "427.24 secs, 94 evals, 47 steps, improv/step: 0.043 (last = 0.0000), fitness=0.001403509\n",
      "DE modify state:\n",
      "(coes, valid / cnt) = ([0.10294105167614147, 1.0, 3.063868373885587, 3.000449817702216], 0.9932581453634085)\n",
      "(coes, valid / cnt) = ([0.4898039863822162, 1.0, 8.092237178143593, 9.826084444469092], 0.9985964912280701)\n",
      "436.35 secs, 96 evals, 48 steps, improv/step: 0.042 (last = 0.0000), fitness=0.001403509\n",
      "DE modify state:\n",
      "(coes, valid / cnt) = ([0.10294105167614147, 1.0, 3.063868373885587, 3.000449817702216], 0.9932581453634085)\n",
      "(coes, valid / cnt) = ([0.4898039863822162, 1.0, 8.092237178143593, 9.826084444469092], 0.9985964912280701)\n",
      "445.52 secs, 98 evals, 49 steps, improv/step: 0.041 (last = 0.0000), fitness=0.001403509\n",
      "DE modify state:\n",
      "(coes, valid / cnt) = ([0.10294105167614147, 1.0, 3.063868373885587, 3.000449817702216], 0.9932581453634085)\n",
      "(coes, valid / cnt) = ([0.4898039863822162, 1.0, 8.092237178143593, 9.826084444469092], 0.9985964912280701)\n",
      "454.66 secs, 100 evals, 50 steps, improv/step: 0.040 (last = 0.0000), fitness=0.001403509\n",
      "DE modify state:\n",
      "(coes, valid / cnt) = ([0.10294105167614147, 1.0, 3.063868373885587, 3.000449817702216], 0.9932581453634085)\n",
      "(coes, valid / cnt) = ([0.4898039863822162, 1.0, 8.092237178143593, 9.826084444469092], 0.9985964912280701)\n",
      "\n",
      "Optimization stopped after 51 steps and 463.83 seconds\n",
      "Termination reason: Max number of function evaluations (100) reached\n",
      "Steps per second = 0.11\n",
      "Function evals per second = 0.22\n",
      "Improvements/step = Inf\n",
      "Total function evaluations = 102\n",
      "\n",
      "\n",
      "Best candidate found: [0.489804, 1.0, 8.09224, 9.82608]\n",
      "\n",
      "Fitness: 0.001403509\n",
      "\n"
     ]
    }
   ],
   "source": [
    "include(\"safe_set.jl\")\n",
    "Random.seed!(0)\n",
    "bboptimize(eval_following_index; SearchRange = [(1e-3, 0.5), (1., 1.), (0.1,10.), (0.1, 10)], TraceMode=:verbose, MaxFuncEvals=100);"
   ]
  },
  {
   "cell_type": "code",
   "execution_count": 6,
   "metadata": {},
   "outputs": [
    {
     "data": {
      "text/plain": [
       "find_infeas_states (generic function with 1 method)"
      ]
     },
     "execution_count": 6,
     "metadata": {},
     "output_type": "execute_result"
    }
   ],
   "source": [
    "function draw_heat_plot(coes)\n",
    "    margin, gamma, phi_power, dot_phi_coe = coes\n",
    "    index = CollisionIndex(margin, gamma, phi_power, dot_phi_coe)\n",
    "    valid = 0\n",
    "    net_path = \"../nnet/unicycle-FC3-100-rk4/epoch_1000.nnet\"\n",
    "    net = read_nnet(net_path);\n",
    "    dt = 0.1\n",
    "    for sample in col_samples\n",
    "        x, obs = sample\n",
    "        if norm(x[1:2]) < 1e-8 # overlaped with the obstacle\n",
    "            valid += 1\n",
    "            continue\n",
    "        end\n",
    "        ctrl = ShootingController(1000)\n",
    "        valid += exists_valid_control(index, ctrl, x, obs, net, dt)\n",
    "    end\n",
    "    return Float64(length(col_samples)-valid)\n",
    "end\n",
    "\n",
    "\n",
    "function find_infeas_states(coes)\n",
    "    margin, gamma, phi_power, dot_phi_coe = coes\n",
    "    d_min = 1\n",
    "    d_max = 2\n",
    "    index = FollowingIndex(d_min, d_max, margin, gamma, phi_power, dot_phi_coe)\n",
    "    valid = 0\n",
    "    net_path = \"../nnet/unicycle-FC3-100-rk4/epoch_1000.nnet\"\n",
    "    net = read_nnet(net_path);\n",
    "    dt = 0.1\n",
    "    infeas_states = Dict()\n",
    "    infeas_map = zeros(size(fol_samples)[1:2])\n",
    "    for (idx, sample) in pairs(fol_samples)\n",
    "        x, obs = sample\n",
    "        if norm(x[1:2]) < 1e-8 # overlaped with the obstacle\n",
    "            valid += 1\n",
    "            continue\n",
    "        end\n",
    "        ctrl = ShootingController(1000)\n",
    "        feas = exists_valid_control(index, ctrl, x, obs, net, dt)\n",
    "        valid += feas\n",
    "        feas && continue\n",
    "        haskey(infeas_states, (idx[1], idx[2])) || (infeas_states[(idx[1], idx[2])] = [])\n",
    "        push!(infeas_states[(idx[1], idx[2])], sample)\n",
    "        infeas_map[idx[1], idx[2]] += 1\n",
    "    end\n",
    "    return Float64(length(fol_samples)-valid), infeas_states, infeas_map\n",
    "end"
   ]
  },
  {
   "cell_type": "code",
   "execution_count": 92,
   "metadata": {},
   "outputs": [
    {
     "data": {
      "text/plain": [
       "following_stat (generic function with 1 method)"
      ]
     },
     "execution_count": 92,
     "metadata": {},
     "output_type": "execute_result"
    }
   ],
   "source": [
    "\n",
    "function following_stat(num, fi; )\n",
    "    Random.seed!(0)\n",
    "    success = 0\n",
    "    phi0_vio_cnt = 0\n",
    "    infeas_cnt = 0\n",
    "    fps = 10\n",
    "    tf = 1\n",
    "    j = 0\n",
    "    while j < num\n",
    "        j+=1\n",
    "        x0 = [1.1+rand()*0.3, 0, rand()*1.5-0.5, -π+rand()*π/2-π/4]\n",
    "        xg = [0,0,0,-π]\n",
    "        obj_cost = [1,1,0.1,0.1]\n",
    "        rp = RP(net, obj_cost, x0, xg)\n",
    "        obs = Obstacle([0, 0], [0,0], obs_radius)\n",
    "        p = phi(fi, x0, obs)\n",
    "        # @show x0, p\n",
    "        if p > 0\n",
    "            j -= 1\n",
    "            continue\n",
    "        end\n",
    "        targets = [obs for i in 1:Int(tf*fps)]\n",
    "\n",
    "        ctrl = ShootingController(1000)\n",
    "        Xtrack, Utrack, safe_sets, Xrefs, infeas = following(rp, ctrl, fps=fps, tf=tf, targets=targets, safety_index=fi, verbose=false);\n",
    "        vio = false\n",
    "        infeas_cnt += infeas\n",
    "        for obs in targets\n",
    "            for x in Xtrack\n",
    "                if norm(x[1:2]-obs.center) < fi.d_min || norm(x[1:2]-obs.center) > fi.d_max\n",
    "                    vio = true\n",
    "                    break\n",
    "                end \n",
    "            end\n",
    "        end\n",
    "        phi0_vio_cnt += vio\n",
    "        success += 1 - (vio|infeas)\n",
    "    end\n",
    "    return success*1.0/num, phi0_vio_cnt*1.0/num, infeas_cnt*1.0/num\n",
    "end"
   ]
  },
  {
   "cell_type": "code",
   "execution_count": 95,
   "metadata": {},
   "outputs": [
    {
     "data": {
      "text/plain": [
       "(0.43, 0.56, 0.57)"
      ]
     },
     "execution_count": 95,
     "metadata": {},
     "output_type": "execute_result"
    }
   ],
   "source": [
    "fi = FollowingIndex(1, 2, 0.0, 1e-3, 1, 0)\n",
    "following_stat(100, fi)"
   ]
  },
  {
   "cell_type": "code",
   "execution_count": 96,
   "metadata": {},
   "outputs": [
    {
     "data": {
      "text/plain": [
       "(0.82, 0.0, 0.18)"
      ]
     },
     "execution_count": 96,
     "metadata": {},
     "output_type": "execute_result"
    }
   ],
   "source": [
    "fi = FollowingIndex(1, 2, 0.01, 1, 2, 1)\n",
    "following_stat(100, fi)"
   ]
  },
  {
   "cell_type": "code",
   "execution_count": 97,
   "metadata": {},
   "outputs": [
    {
     "data": {
      "text/plain": [
       "(1.0, 0.0, 0.0)"
      ]
     },
     "execution_count": 97,
     "metadata": {},
     "output_type": "execute_result"
    }
   ],
   "source": [
    "fi = FollowingIndex(1, 2, 0.489804, 1.0, 8.09224, 9.82608)\n",
    "following_stat(100, fi)"
   ]
  },
  {
   "cell_type": "code",
   "execution_count": null,
   "metadata": {},
   "outputs": [],
   "source": []
  }
 ],
 "metadata": {
  "kernelspec": {
   "display_name": "Julia 1.5.3",
   "language": "julia",
   "name": "julia-1.5"
  },
  "language_info": {
   "file_extension": ".jl",
   "mimetype": "application/julia",
   "name": "julia",
   "version": "1.5.3"
  }
 },
 "nbformat": 4,
 "nbformat_minor": 4
}
