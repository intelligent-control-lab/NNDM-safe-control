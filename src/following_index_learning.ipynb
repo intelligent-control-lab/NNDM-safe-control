{
 "cells": [
  {
   "cell_type": "code",
   "execution_count": 1,
   "metadata": {},
   "outputs": [
    {
     "name": "stderr",
     "output_type": "stream",
     "text": [
      "┌ Info: Precompiling NeuralVerification [146f25fa-00e7-11e9-3ae5-fdbac6e12fa7]\n",
      "└ @ Base loading.jl:1278\n",
      "┌ Warning: Package NeuralVerification does not have CPLEX in its dependencies:\n",
      "│ - If you have NeuralVerification checked out for development and have\n",
      "│   added CPLEX as a dependency but haven't updated your primary\n",
      "│   environment's manifest file, try `Pkg.resolve()`.\n",
      "│ - Otherwise you may need to report an issue with NeuralVerification\n",
      "└ Loading CPLEX into NeuralVerification from project dependency, future warnings for NeuralVerification are suppressed.\n"
     ]
    },
    {
     "data": {
      "text/plain": [
       "grad_phi (generic function with 2 methods)"
      ]
     },
     "execution_count": 1,
     "metadata": {},
     "output_type": "execute_result"
    }
   ],
   "source": [
    "using Plots\n",
    "using LinearAlgebra\n",
    "using Revise\n",
    "using NeuralVerification\n",
    "using NeuralVerification:Network, Layer, ReLU, Id, read_nnet, compute_output\n",
    "using LazySets\n",
    "using Random\n",
    "using BlackBoxOptim\n",
    "include(\"unicycle_env.jl\")\n",
    "include(\"controller.jl\")\n",
    "include(\"problem.jl\")\n",
    "include(\"safe_set.jl\")"
   ]
  },
  {
   "cell_type": "code",
   "execution_count": 2,
   "metadata": {},
   "outputs": [
    {
     "data": {
      "text/plain": [
       "0.5"
      ]
     },
     "execution_count": 2,
     "metadata": {},
     "output_type": "execute_result"
    }
   ],
   "source": [
    "net_path = \"../nnet/unicycle-FC3-100-rk4/epoch_1000.nnet\"\n",
    "net = read_nnet(net_path);\n",
    "obs_radius = 0.5"
   ]
  },
  {
   "cell_type": "code",
   "execution_count": 3,
   "metadata": {},
   "outputs": [
    {
     "data": {
      "text/plain": [
       "following (generic function with 1 method)"
      ]
     },
     "execution_count": 3,
     "metadata": {},
     "output_type": "execute_result"
    }
   ],
   "source": [
    "function generate_moving_target(;fps=10, tf=2, v=nothing, v_lim=0.5, pos=nothing)\n",
    "    T = tf*fps\n",
    "    v = isnothing(v) ? [rand(), rand()]*v_lim*2 .- v_lim : v\n",
    "    p = isnothing(pos) ? [0, 1.5] : pos\n",
    "    return [Obstacle(p+v*(i/fps), v, obs_radius) for i in 0:T-1]\n",
    "end\n",
    "\n",
    "function get_Xref(x0, xg, T, dt)\n",
    "    tf = T*dt\n",
    "    dp = [xg[1]-x0[1], xg[2]-x0[2]]\n",
    "    da = xg[4]-x0[4]\n",
    "    a = atan(dp[2], dp[1])\n",
    "    v = norm(dp)/tf\n",
    "    v = max(min(v, 1),-1)\n",
    "    vx = v * cos(a)\n",
    "    vy = v * sin(a)\n",
    "    Xref = [[x0[1]+vx*k*dt, x0[2]+vy*k*dt, v, a] for k = 1:T]\n",
    "    Xref[end][3] = 0\n",
    "    return Xref\n",
    "end\n",
    "\n",
    "function following(rp::RP, ctrl; fps=10, tf=2, targets=nothing, safety_index=nothing, verbose=false)\n",
    "    T=Int(ceil(fps*tf))\n",
    "    dt=1.0/fps\n",
    "    x = rp.x0\n",
    "    X = [copy(rp.x0) for k = 1:T]\n",
    "    U = [zeros(2) for k = 1:T-1]\n",
    "    safe_sets = []\n",
    "    Xrefs = []\n",
    "    tot_time = 0\n",
    "    infeas=false\n",
    "    for i in 1:T-1\n",
    "        xg = [targets[i].center..., norm(targets[i].vel), 0]\n",
    "        @show\n",
    "        Xref = get_Xref(x, xg, fps, dt)\n",
    "#         Xref = get_Xref(x, [targets[i].center..., norm(targets[i].vel), 0], fps, dt)\n",
    "#         Xref = get_Xref(x, [targets[i].center..., norm(targets[i].vel), 0], fps, dt)\n",
    "#         Xref = get_Xref(x, rp.xg, fps, dt)\n",
    "        xref = Xref[1]\n",
    "        push!(Xrefs, Xref)\n",
    "        timed_result = @timed get_control(ctrl, xref, x, rp.net, rp.obj_cost, dt, obstacles=[targets[i]], safety_index=safety_index)\n",
    "        u, safe_set = timed_result.value\n",
    "        if isnothing(u)\n",
    "            u = i == 1 ? [0.,0.] : U[i-1]\n",
    "            infeas=true\n",
    "#             return X[1:i], U[1:i-1], safe_sets, Xrefs, true\n",
    "        end\n",
    "        push!(safe_sets, safe_set)\n",
    "        tot_time += timed_result.time\n",
    "        if verbose\n",
    "            @show x\n",
    "            @show xref\n",
    "            @show u\n",
    "            p = phi(safety_index, x, targets[i])\n",
    "            @show p\n",
    "        end\n",
    "        x = forward(rp.net, x, u, dt)\n",
    "        X[i+1] = x\n",
    "        U[i] = u\n",
    "    end\n",
    "    push!(Xrefs, Xrefs[end])\n",
    "    return X, U, safe_sets, Xrefs, infeas\n",
    "end"
   ]
  },
  {
   "cell_type": "code",
   "execution_count": 4,
   "metadata": {},
   "outputs": [],
   "source": [
    "\n",
    "function following_samples()\n",
    "    nx = 20\n",
    "    ny = 20\n",
    "    nv = 10\n",
    "    nt = 10\n",
    "    nov = 1\n",
    "    xs = range(0,stop=5,length=nx)\n",
    "    ys = range(0,stop=5,length=ny)\n",
    "    vs = range(-1,stop=1,length=nv)\n",
    "    θs = range(-π,stop=π,length=nt)\n",
    "    ov1s = range(-0.,stop=0.,length=nov)\n",
    "    ov2s = range(-0.,stop=0.,length=nov)\n",
    "    samples = [([x,y,v,θ],[Obstacle([0.0, 0.0],[ov1,ov2],obs_radius)]) for x in xs, y in ys, v in vs, θ in θs, ov1 in ov1s, ov2 in ov2s];\n",
    "    return samples\n",
    "end\n",
    "fol_samples = following_samples();"
   ]
  },
  {
   "cell_type": "code",
   "execution_count": 5,
   "metadata": {},
   "outputs": [
    {
     "data": {
      "text/plain": [
       "eval_following_index (generic function with 1 method)"
      ]
     },
     "execution_count": 5,
     "metadata": {},
     "output_type": "execute_result"
    }
   ],
   "source": [
    "function exists_valid_control(safety_index, ctrl::ShootingController, x, obs, net, dt)\n",
    "    safe_set = phi_safe_set(safety_index, x, obs, dt)\n",
    "    for j in 1:ctrl.num_sample\n",
    "        u_cand = rand(2) .* ctrl.u_lim * 2 - ctrl.u_lim\n",
    "        dot_x_cand = compute_output(net, [x; u_cand])\n",
    "        dot_x_cand ∈ safe_set && (return true)\n",
    "    end\n",
    "    return false\n",
    "end\n",
    "\n",
    "function eval_following_index(coes)\n",
    "    Random.seed!(1)\n",
    "    margin, gamma, phi_power, dot_phi_coe = coes\n",
    "    d_max = 2\n",
    "    d_min = 1\n",
    "    index = FollowingIndex(d_min, d_max, margin, gamma, phi_power, dot_phi_coe)\n",
    "    \n",
    "    valid = 0\n",
    "    net_path = \"../nnet/unicycle-FC3-100-rk4/epoch_1000.nnet\"\n",
    "    net = read_nnet(net_path);\n",
    "    dt = 0.1\n",
    "    for sample in fol_samples\n",
    "        x, obs = sample\n",
    "        if norm(x[1:2]) < 1e-8 # overlaped with the obstacle\n",
    "            valid += 1\n",
    "            continue\n",
    "        end\n",
    "        ctrl = ShootingController(1000)\n",
    "        valid += exists_valid_control(index, ctrl, x, obs, net, dt)\n",
    "    end\n",
    "    return Float64(length(fol_samples)-valid)\n",
    "#     success_rate, phi0_vio_rate, infeas_rate  = following_stat(100, index)\n",
    "#     infeas_cnt = length(fol_samples)-valid\n",
    "#     @show coes, infeas_cnt, success_rate, phi0_vio_rate, infeas_rate\n",
    "#     return Float64(length(fol_samples)-valid) - success_rate\n",
    "end"
   ]
  },
  {
   "cell_type": "code",
   "execution_count": 283,
   "metadata": {
    "scrolled": false
   },
   "outputs": [
    {
     "name": "stdout",
     "output_type": "stream",
     "text": [
      "Starting optimization with optimizer DiffEvoOpt{FitPopulation{Float64},RadiusLimitedSelector,BlackBoxOptim.AdaptiveDiffEvoRandBin{3},RandomBound{ContinuousRectSearchSpace}}\n",
      "0.00 secs, 0 evals, 0 steps\n",
      "DE modify state:\n",
      "2.96 secs, 2 evals, 1 steps, improv/step: 1.000 (last = 1.0000), fitness=2.000000000\n",
      "DE modify state:\n",
      "7.18 secs, 4 evals, 2 steps, improv/step: 0.500 (last = 0.0000), fitness=2.000000000\n",
      "DE modify state:\n",
      "10.64 secs, 6 evals, 3 steps, improv/step: 0.333 (last = 0.0000), fitness=2.000000000\n",
      "DE modify state:\n",
      "14.03 secs, 8 evals, 4 steps, improv/step: 0.500 (last = 1.0000), fitness=2.000000000\n",
      "DE modify state:\n",
      "18.45 secs, 10 evals, 5 steps, improv/step: 0.400 (last = 0.0000), fitness=2.000000000\n",
      "DE modify state:\n",
      "21.48 secs, 12 evals, 6 steps, improv/step: 0.333 (last = 0.0000), fitness=2.000000000\n",
      "DE modify state:\n",
      "25.40 secs, 14 evals, 7 steps, improv/step: 0.429 (last = 1.0000), fitness=2.000000000\n",
      "DE modify state:\n",
      "28.51 secs, 16 evals, 8 steps, improv/step: 0.375 (last = 0.0000), fitness=2.000000000\n",
      "DE modify state:\n",
      "30.09 secs, 17 evals, 9 steps, improv/step: 0.444 (last = 1.0000), fitness=1.000000000\n",
      "DE modify state:\n",
      "33.95 secs, 19 evals, 10 steps, improv/step: 0.500 (last = 1.0000), fitness=1.000000000\n",
      "DE modify state:\n",
      "41.22 secs, 20 evals, 11 steps, improv/step: 0.455 (last = 0.0000), fitness=1.000000000\n",
      "DE modify state:\n",
      "\n",
      "Optimization stopped after 12 steps and 47.07 seconds\n",
      "Termination reason: Max number of function evaluations (20) reached\n",
      "Steps per second = 0.25\n",
      "Function evals per second = 0.47\n",
      "Improvements/step = Inf\n",
      "Total function evaluations = 22\n",
      "\n",
      "\n",
      "Best candidate found: [0.0511271, 0.0368391, 1.0, 1.19797]\n",
      "\n",
      "Fitness: 1.000000000\n",
      "\n"
     ]
    }
   ],
   "source": [
    "Random.seed!(1)\n",
    "bboptimize(eval_following_index; SearchRange = [(0.01,0.5), (1e-3, 1.), (1.,1.), (0.1, 10)], TraceMode=:verbose, MaxFuncEvals=20);"
   ]
  },
  {
   "cell_type": "code",
   "execution_count": 6,
   "metadata": {},
   "outputs": [
    {
     "data": {
      "text/plain": [
       "find_infeas_states (generic function with 1 method)"
      ]
     },
     "execution_count": 6,
     "metadata": {},
     "output_type": "execute_result"
    }
   ],
   "source": [
    "function draw_heat_plot(coes)\n",
    "    margin, gamma, phi_power, dot_phi_coe = coes\n",
    "    index = CollisionIndex(margin, gamma, phi_power, dot_phi_coe)\n",
    "    valid = 0\n",
    "    net_path = \"../nnet/unicycle-FC3-100-rk4/epoch_1000.nnet\"\n",
    "    net = read_nnet(net_path);\n",
    "    dt = 0.1\n",
    "    for sample in col_samples\n",
    "        x, obs = sample\n",
    "        if norm(x[1:2]) < 1e-8 # overlaped with the obstacle\n",
    "            valid += 1\n",
    "            continue\n",
    "        end\n",
    "        ctrl = ShootingController(1000)\n",
    "        valid += exists_valid_control(index, ctrl, x, obs, net, dt)\n",
    "    end\n",
    "    return Float64(length(col_samples)-valid)\n",
    "end\n",
    "\n",
    "\n",
    "\n",
    "function find_infeas_states(coes)\n",
    "    margin, gamma, phi_power, dot_phi_coe = coes\n",
    "    d_min = 1\n",
    "    d_max = 2\n",
    "    index = FollowingIndex(d_min, d_max, margin, gamma, phi_power, dot_phi_coe)\n",
    "    valid = 0\n",
    "    net_path = \"../nnet/unicycle-FC3-100-rk4/epoch_1000.nnet\"\n",
    "    net = read_nnet(net_path);\n",
    "    dt = 0.1\n",
    "    infeas_states = Dict()\n",
    "    infeas_map = zeros(size(fol_samples)[1:2])\n",
    "    for (idx, sample) in pairs(fol_samples)\n",
    "        x, obs = sample\n",
    "        if norm(x[1:2]) < 1e-8 # overlaped with the obstacle\n",
    "            valid += 1\n",
    "            continue\n",
    "        end\n",
    "        ctrl = ShootingController(1000)\n",
    "        feas = exists_valid_control(index, ctrl, x, obs, net, dt)\n",
    "        valid += feas\n",
    "        feas && continue\n",
    "        haskey(infeas_states, (idx[1], idx[2])) || (infeas_states[(idx[1], idx[2])] = [])\n",
    "        push!(infeas_states[(idx[1], idx[2])], sample)\n",
    "        infeas_map[idx[1], idx[2]] += 1\n",
    "    end\n",
    "    return Float64(length(fol_samples)-valid), infeas_states, infeas_map\n",
    "end"
   ]
  },
  {
   "cell_type": "code",
   "execution_count": 7,
   "metadata": {},
   "outputs": [
    {
     "data": {
      "text/plain": [
       "following_stat (generic function with 1 method)"
      ]
     },
     "execution_count": 7,
     "metadata": {},
     "output_type": "execute_result"
    }
   ],
   "source": [
    "\n",
    "function following_stat(num, fi; )\n",
    "    Random.seed!(127)\n",
    "    success = 0\n",
    "    phi0_vio_cnt = 0\n",
    "    infeas_cnt = 0\n",
    "    fps = 10\n",
    "    tf = 1\n",
    "    x0 = [1.2+rand()*0.6, rand()*0.2-0.1, rand()*2-1, -π+rand()*π/2-π/4]\n",
    "    xg = [0,0,0,-π]\n",
    "    obj_cost = [1,1,0.1,0.1]\n",
    "    rp = RP(net, obj_cost, x0, xg)\n",
    "    for j in 1:num\n",
    "        obs = Obstacle([0, 0], [0,0], obs_radius)\n",
    "        targets = [obs for i in 1:Int(tf*fps)]\n",
    "        \n",
    "        ctrl = ShootingController(1000)\n",
    "        Xtrack, Utrack, safe_sets, Xrefs, infeas = following(rp, ctrl, fps=fps, tf=tf, targets=targets, safety_index=fi, verbose=false);\n",
    "        vio = false\n",
    "        infeas_cnt += infeas\n",
    "        for obs in targets\n",
    "            for x in Xtrack\n",
    "                if norm(x[1:2]-obs.center) < fi.d_min || norm(x[1:2]-obs.center) > fi.d_max\n",
    "                    vio = true\n",
    "                    break\n",
    "                end \n",
    "            end\n",
    "        end\n",
    "        phi0_vio_cnt += vio\n",
    "        success += 1 - (vio|infeas)\n",
    "#         if j < 10\n",
    "#             visualize(Xtrack, targets=targets, xlims=[-3,3], ylims=[-1,5], fps=1000)\n",
    "#         end\n",
    "    end\n",
    "    return success*1.0/num, phi0_vio_cnt*1.0/num, infeas_cnt*1.0/num\n",
    "end"
   ]
  },
  {
   "cell_type": "code",
   "execution_count": 305,
   "metadata": {},
   "outputs": [
    {
     "data": {
      "text/plain": [
       "(0.0, 1.0, 1.0)"
      ]
     },
     "execution_count": 305,
     "metadata": {},
     "output_type": "execute_result"
    }
   ],
   "source": [
    "fi = FollowingIndex(1, 2, 0.1, 1e-3, 1, 0)\n",
    "following_stat(100, fi)"
   ]
  },
  {
   "cell_type": "code",
   "execution_count": 16,
   "metadata": {},
   "outputs": [
    {
     "data": {
      "text/plain": [
       "(0.82, 0.0, 0.18)"
      ]
     },
     "execution_count": 16,
     "metadata": {},
     "output_type": "execute_result"
    }
   ],
   "source": [
    "fi = FollowingIndex(1, 2, 0.45, 0.55, 1, 1)\n",
    "following_stat(100, fi)"
   ]
  },
  {
   "cell_type": "code",
   "execution_count": 307,
   "metadata": {},
   "outputs": [
    {
     "data": {
      "text/plain": [
       "(1.0, 0.0, 0.0)"
      ]
     },
     "execution_count": 307,
     "metadata": {},
     "output_type": "execute_result"
    }
   ],
   "source": [
    "fi = FollowingIndex(1, 2, 0.0511271, 0.0368391, 1.0, 1.19797)\n",
    "following_stat(100, fi)"
   ]
  },
  {
   "cell_type": "code",
   "execution_count": 35,
   "metadata": {},
   "outputs": [
    {
     "name": "stdout",
     "output_type": "stream",
     "text": [
      "(i, j, res1, res2) = (0.1, 0.4, (0.98, 0.0, 0.02), (1.0, 0.0, 0.0))\n",
      "(i, j, res1, res2) = (0.1, 0.5, (0.36, 0.02, 0.64), (1.0, 0.0, 0.0))\n",
      "(i, j, res1, res2) = (0.1, 0.6, (0.53, 0.0, 0.47), (0.81, 0.0, 0.19))\n",
      "(i, j, res1, res2) = (0.1, 0.7, (0.8, 0.0, 0.2), (1.0, 0.0, 0.0))\n",
      "(i, j, res1, res2) = (0.2, 0.4, (0.43, 0.0, 0.57), (0.45, 0.0, 0.55))\n",
      "(i, j, res1, res2) = (0.2, 0.5, (0.33, 0.02, 0.67), (0.48, 0.27, 0.52))\n",
      "(i, j, res1, res2) = (0.2, 0.6, (0.99, 0.0, 0.01), (0.99, 0.01, 0.01))\n",
      "(i, j, res1, res2) = (0.2, 0.7, (1.0, 0.0, 0.0), (1.0, 0.0, 0.0))\n",
      "(i, j, res1, res2) = (0.3, 0.4, (0.06, 0.0, 0.94), (0.05, 0.0, 0.95))\n",
      "(i, j, res1, res2) = (0.3, 0.5, (0.33, 0.02, 0.67), (0.48, 0.27, 0.52))\n",
      "(i, j, res1, res2) = (0.3, 0.6, (0.99, 0.0, 0.01), (0.99, 0.01, 0.01))\n",
      "(i, j, res1, res2) = (0.3, 0.7, (1.0, 0.0, 0.0), (1.0, 0.0, 0.0))\n"
     ]
    }
   ],
   "source": [
    "for i = 0.1:0.1:0.3\n",
    "    for j = 0.4:0.1:0.7\n",
    "        fi = FollowingIndex(1, 2, i, j, 1, 1)\n",
    "        res1 = following_stat(100, fi)\n",
    "        res2 = gt_following_stat(100, fi)\n",
    "        @show i, j, res1, res2\n",
    "    end\n",
    "end"
   ]
  },
  {
   "cell_type": "code",
   "execution_count": 33,
   "metadata": {},
   "outputs": [
    {
     "name": "stdout",
     "output_type": "stream",
     "text": [
      "(i, j, res1, res2) = (0.1, 0.6, (0.53, 0.0, 0.47), (0.81, 0.0, 0.19))\n",
      "(i, j, res1, res2) = (0.1, 0.65, (0.61, 0.0, 0.39), (0.91, 0.0, 0.09))\n",
      "(i, j, res1, res2) = (0.1, 0.7, (0.8, 0.0, 0.2), (1.0, 0.0, 0.0))\n",
      "(i, j, res1, res2) = (0.1, 0.75, (0.37, 0.0, 0.63), (0.94, 0.0, 0.06))\n",
      "(i, j, res1, res2) = (0.1, 0.8, (0.1, 0.0, 0.9), (0.91, 0.0, 0.09))\n"
     ]
    }
   ],
   "source": [
    "for i = 0.1:0.1:0.1\n",
    "    for j = 0.6:0.05:0.8\n",
    "        fi = FollowingIndex(1, 2, i, j, 1, 1)\n",
    "        res1 = following_stat(100, fi)\n",
    "        res2 = gt_following_stat(100, fi)\n",
    "        @show i, j, res1, res2\n",
    "    end\n",
    "end"
   ]
  },
  {
   "cell_type": "code",
   "execution_count": 25,
   "metadata": {},
   "outputs": [
    {
     "data": {
      "text/plain": [
       "(0.99, 0.0, 0.01)"
      ]
     },
     "execution_count": 25,
     "metadata": {},
     "output_type": "execute_result"
    }
   ],
   "source": [
    "fi = FollowingIndex(1, 2, 0.5, 0.6, 1, 1)\n",
    "following_stat(100, fi)"
   ]
  },
  {
   "cell_type": "code",
   "execution_count": 15,
   "metadata": {},
   "outputs": [
    {
     "data": {
      "text/plain": [
       "gt_following_stat (generic function with 1 method)"
      ]
     },
     "execution_count": 15,
     "metadata": {},
     "output_type": "execute_result"
    }
   ],
   "source": [
    "function gt_following(rp::RP, ctrl; fps=10, tf=2, targets=nothing, safety_index=nothing, verbose=false)\n",
    "    T=Int(ceil(fps*tf))\n",
    "    dt=1.0/fps\n",
    "    x = rp.x0\n",
    "    X = [copy(rp.x0) for k = 1:T]\n",
    "    U = [zeros(2) for k = 1:T-1]\n",
    "    safe_sets = []\n",
    "    Xrefs = []\n",
    "    tot_time = 0\n",
    "    infeas=false\n",
    "    for i in 1:T-1\n",
    "        xg = [targets[i].center..., norm(targets[i].vel), 0]\n",
    "        @show\n",
    "        Xref = get_Xref(x, xg, fps, dt)\n",
    "#         Xref = get_Xref(x, [targets[i].center..., norm(targets[i].vel), 0], fps, dt)\n",
    "#         Xref = get_Xref(x, [targets[i].center..., norm(targets[i].vel), 0], fps, dt)\n",
    "#         Xref = get_Xref(x, rp.xg, fps, dt)\n",
    "        xref = Xref[1]\n",
    "        push!(Xrefs, Xref)\n",
    "        timed_result = @timed get_control(ctrl, xref, x, rp.net, rp.obj_cost, dt, obstacles=[targets[i]], safety_index=safety_index)\n",
    "        u, safe_set = timed_result.value\n",
    "        if isnothing(u)\n",
    "            u = i == 1 ? [0.,0.] : U[i-1]\n",
    "            infeas=true\n",
    "#             return X[1:i], U[1:i-1], safe_sets, Xrefs, true\n",
    "        end\n",
    "        push!(safe_sets, safe_set)\n",
    "        tot_time += timed_result.time\n",
    "        if verbose\n",
    "            @show x\n",
    "            @show xref\n",
    "            @show u\n",
    "            p = phi(safety_index, x, targets[i])\n",
    "            @show p\n",
    "        end\n",
    "        x = forward(x, u, dt)\n",
    "        X[i+1] = x\n",
    "        U[i] = u\n",
    "    end\n",
    "    push!(Xrefs, Xrefs[end])\n",
    "    return X, U, safe_sets, Xrefs, infeas\n",
    "end\n",
    "\n",
    "function gt_following_stat(num, fi; )\n",
    "    Random.seed!(127)\n",
    "    success = 0\n",
    "    phi0_vio_cnt = 0\n",
    "    infeas_cnt = 0\n",
    "    fps = 10\n",
    "    tf = 1\n",
    "    x0 = [1.2+rand()*0.6, rand()*0.2-0.1, rand()*2-1, -π+rand()*π/2-π/4]\n",
    "    xg = [0,0,0,-π]\n",
    "    obj_cost = [1,1,0.1,0.1]\n",
    "    rp = RP(net, obj_cost, x0, xg)\n",
    "    for j in 1:num\n",
    "        obs = Obstacle([0, 0], [0,0], obs_radius)\n",
    "        targets = [obs for i in 1:Int(tf*fps)]\n",
    "        \n",
    "        ctrl = ShootingController(1000)\n",
    "        Xtrack, Utrack, safe_sets, Xrefs, infeas = gt_following(rp, ctrl, fps=fps, tf=tf, targets=targets, safety_index=fi, verbose=false);\n",
    "        vio = false\n",
    "        infeas_cnt += infeas\n",
    "        for obs in targets\n",
    "            for x in Xtrack\n",
    "                if norm(x[1:2]-obs.center) < fi.d_min || norm(x[1:2]-obs.center) > fi.d_max\n",
    "                    vio = true\n",
    "                    break\n",
    "                end \n",
    "            end\n",
    "        end\n",
    "        phi0_vio_cnt += vio\n",
    "        success += 1 - (vio|infeas)\n",
    "#         if j < 10\n",
    "#             visualize(Xtrack, targets=targets, xlims=[-3,3], ylims=[-1,5], fps=1000)\n",
    "#         end\n",
    "    end\n",
    "    return success*1.0/num, phi0_vio_cnt*1.0/num, infeas_cnt*1.0/num\n",
    "end"
   ]
  },
  {
   "cell_type": "code",
   "execution_count": 16,
   "metadata": {},
   "outputs": [
    {
     "data": {
      "text/plain": [
       "(0.0, 1.0, 1.0)"
      ]
     },
     "execution_count": 16,
     "metadata": {},
     "output_type": "execute_result"
    }
   ],
   "source": [
    "fi = FollowingIndex(1, 2, 0.1, 1e-3, 1, 0)\n",
    "gt_following_stat(100, fi)"
   ]
  },
  {
   "cell_type": "code",
   "execution_count": 34,
   "metadata": {},
   "outputs": [
    {
     "data": {
      "text/plain": [
       "(0.81, 0.0, 0.19)"
      ]
     },
     "execution_count": 34,
     "metadata": {},
     "output_type": "execute_result"
    }
   ],
   "source": [
    "fi = FollowingIndex(1, 2, 0.1, 0.6, 1, 1)\n",
    "gt_following_stat(100, fi)"
   ]
  },
  {
   "cell_type": "code",
   "execution_count": 18,
   "metadata": {},
   "outputs": [
    {
     "data": {
      "text/plain": [
       "(1.0, 0.0, 0.0)"
      ]
     },
     "execution_count": 18,
     "metadata": {},
     "output_type": "execute_result"
    }
   ],
   "source": [
    "fi = FollowingIndex(1, 2, 0.0511271, 0.0368391, 1.0, 1.19797)\n",
    "gt_following_stat(100, fi)"
   ]
  },
  {
   "cell_type": "code",
   "execution_count": null,
   "metadata": {},
   "outputs": [],
   "source": []
  }
 ],
 "metadata": {
  "kernelspec": {
   "display_name": "Julia 1.5.3",
   "language": "julia",
   "name": "julia-1.5"
  },
  "language_info": {
   "file_extension": ".jl",
   "mimetype": "application/julia",
   "name": "julia",
   "version": "1.5.3"
  }
 },
 "nbformat": 4,
 "nbformat_minor": 4
}
