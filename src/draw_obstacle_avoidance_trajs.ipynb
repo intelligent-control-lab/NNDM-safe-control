{
 "cells": [
  {
   "cell_type": "code",
   "execution_count": 2,
   "metadata": {},
   "outputs": [
    {
     "name": "stderr",
     "output_type": "stream",
     "text": [
      "┌ Info: Precompiling NeuralVerification [146f25fa-00e7-11e9-3ae5-fdbac6e12fa7]\n",
      "└ @ Base loading.jl:1278\n",
      "┌ Warning: Package NeuralVerification does not have CPLEX in its dependencies:\n",
      "│ - If you have NeuralVerification checked out for development and have\n",
      "│   added CPLEX as a dependency but haven't updated your primary\n",
      "│   environment's manifest file, try `Pkg.resolve()`.\n",
      "│ - Otherwise you may need to report an issue with NeuralVerification\n",
      "└ Loading CPLEX into NeuralVerification from project dependency, future warnings for NeuralVerification are suppressed.\n"
     ]
    }
   ],
   "source": [
    "using Plots\n",
    "using LinearAlgebra\n",
    "using Revise\n",
    "using NeuralVerification\n",
    "using NeuralVerification:Network, Layer, ReLU, Id, read_nnet, compute_output\n",
    "using LazySets\n",
    "using Evolutionary\n",
    "using Random\n",
    "using BlackBoxOptim"
   ]
  },
  {
   "cell_type": "code",
   "execution_count": 3,
   "metadata": {},
   "outputs": [
    {
     "data": {
      "text/plain": [
       "costs (generic function with 1 method)"
      ]
     },
     "execution_count": 3,
     "metadata": {},
     "output_type": "execute_result"
    }
   ],
   "source": [
    "include(\"unicycle_env.jl\")\n",
    "include(\"controller.jl\")\n",
    "include(\"problem.jl\")"
   ]
  },
  {
   "cell_type": "code",
   "execution_count": 4,
   "metadata": {},
   "outputs": [
    {
     "data": {
      "text/plain": [
       "0.5"
      ]
     },
     "execution_count": 4,
     "metadata": {},
     "output_type": "execute_result"
    }
   ],
   "source": [
    "net_path = \"../nnet/unicycle-FC3-100-rk4/epoch_1000.nnet\"\n",
    "net = read_nnet(net_path);\n",
    "obs_radius = 0.5"
   ]
  },
  {
   "cell_type": "code",
   "execution_count": 5,
   "metadata": {},
   "outputs": [],
   "source": [
    "mutable struct CollisionIndex\n",
    "    margin\n",
    "    gamma\n",
    "    phi_power\n",
    "    dot_phi_coe\n",
    "end\n",
    "mutable struct FollowingIndex\n",
    "    d_min\n",
    "    d_max\n",
    "    margin\n",
    "    gamma\n",
    "    phi_power\n",
    "    dot_phi_coe\n",
    "end"
   ]
  },
  {
   "cell_type": "code",
   "execution_count": 6,
   "metadata": {},
   "outputs": [
    {
     "data": {
      "text/plain": [
       "grad_phi (generic function with 1 method)"
      ]
     },
     "execution_count": 6,
     "metadata": {},
     "output_type": "execute_result"
    }
   ],
   "source": [
    "function phi_safe_set(index, x, obstacles, dt)\n",
    "    safe_set = nothing\n",
    "    for obs in obstacles\n",
    "        p = phi(index, x, obs)\n",
    "        p_phi_p_x, p_phi_p_o = grad_phi(index, x, obs)\n",
    "#         gamma = 1e-3\n",
    "        dot_o = [obs.vel; [0.,0.]]\n",
    "#         @show p_phi_p_o'dot_o\n",
    "        d = p < 0 ? (-p-p_phi_p_o'dot_o)/dt : (-index.gamma-p_phi_p_o'dot_o)/dt\n",
    "        safe_set = isnothing(safe_set) ? HalfSpace(p_phi_p_x, d) : intersection(HalfSpace(p_phi_p_x, d), safe_set)\n",
    "    end\n",
    "    return safe_set\n",
    "end\n",
    "\n",
    "function phi(index::CollisionIndex, x, obs)\n",
    "    o = [obs.center; [0,0]]\n",
    "    d = sqrt((x[1]-o[1])^2 + (x[2]-o[2])^2)\n",
    "    dM = [x[1]-o[1], x[2]-o[2], x[3]*cos(x[4])-o[3], x[3]*sin(x[4])-o[4]]\n",
    "    dim = 2\n",
    "    dp = dM[[1,dim]]\n",
    "    dv = dM[[dim+1,dim*2]]\n",
    "    dot_d = dp'dv / d\n",
    "    return (index.margin + obs.radius)^index.phi_power - d^index.phi_power - index.dot_phi_coe*dot_d\n",
    "end\n",
    "\n",
    "function grad_phi(index::CollisionIndex, x, obs)\n",
    "    o = [obs.center; [0,0]]\n",
    "    d = (x[1]-o[1])^2 + (x[2]-o[2])^2\n",
    "    grad_d = [2*(x[1]-o[1]), 2*(x[2]-o[2]), 0, 0]\n",
    "\n",
    "    d = sqrt((x[1]-o[1])^2 + (x[2]-o[2])^2)\n",
    "    dM = [x[1]-o[1], x[2]-o[2], x[3]*cos(x[4])-o[3], x[3]*sin(x[4])-o[4]]\n",
    "    dim = 2\n",
    "    dp = dM[[1,dim]]\n",
    "    dv = dM[[dim+1,dim*2]]\n",
    "    dot_d = dp'dv / d\n",
    "    p_dot_d_p_dp = dv / d - (dp'dv) * dp / (d^3)\n",
    "    p_dot_d_p_dv = dp / d\n",
    "    p_dp_p_M = hcat(I(dim), zeros(dim,dim))\n",
    "    p_dv_p_M = hcat(zeros(dim,dim), I(dim))\n",
    "    p_dot_d_p_M = p_dp_p_M'p_dot_d_p_dp + p_dv_p_M'p_dot_d_p_dv\n",
    "    p_M_p_X = [\n",
    "        1 0 0 0\n",
    "        0 1 0 0\n",
    "        0 0 cos(x[4]) -x[3]*sin(x[4])\n",
    "        0 0 sin(x[4]) x[3]*cos(x[4])\n",
    "    ]\n",
    "    p_dot_d_p_X = p_M_p_X'p_dot_d_p_M\n",
    "    grad_dot_d = vec(p_dot_d_p_X)\n",
    "    return -index.phi_power*d^(index.phi_power-1)*grad_d - index.dot_phi_coe*grad_dot_d, zeros(4)\n",
    "end"
   ]
  },
  {
   "cell_type": "code",
   "execution_count": 7,
   "metadata": {},
   "outputs": [
    {
     "data": {
      "text/plain": [
       "grad_phi (generic function with 2 methods)"
      ]
     },
     "execution_count": 7,
     "metadata": {},
     "output_type": "execute_result"
    }
   ],
   "source": [
    "mutable struct Obstacle\n",
    "    center\n",
    "    vel\n",
    "    radius\n",
    "end\n",
    "\n",
    "function phi(index::FollowingIndex, x, target)\n",
    "    o = [target.center; target.vel]\n",
    "    d = sqrt((x[1]-o[1])^2 + (x[2]-o[2])^2)\n",
    "    dM = [x[1]-o[1], x[2]-o[2], x[3]*cos(x[4])-o[3], x[3]*sin(x[4])-o[4]]\n",
    "    dim = 2\n",
    "    dp = dM[[1,dim]]\n",
    "    dv = dM[[dim+1,dim*2]]\n",
    "    dot_d = dp'dv / d\n",
    "    phi_0 = (d-index.d_min)^index.phi_power*(d-index.d_max)^index.phi_power \n",
    "    dot_phi_0 = index.dot_phi_coe*(2*d*dot_d + dot_d*(index.d_min+index.d_max))\n",
    "    return (d-(index.d_min+index.margin))^index.phi_power*(d-(index.d_max-index.margin))^index.phi_power + index.dot_phi_coe*(2*d*dot_d - dot_d*(index.d_min+index.d_max))\n",
    "end\n",
    "\n",
    "function grad_phi(index::FollowingIndex, x, target)\n",
    "    o = [target.center; target.vel]\n",
    "    d = (x[1]-o[1])^2 + (x[2]-o[2])^2\n",
    "    grad_d = [2*(x[1]-o[1]), 2*(x[2]-o[2]), 0, 0]\n",
    "\n",
    "    d = sqrt((x[1]-o[1])^2 + (x[2]-o[2])^2)\n",
    "    dM = [x[1]-o[1], x[2]-o[2], x[3]*cos(x[4])-o[3], x[3]*sin(x[4])-o[4]]\n",
    "    dim = 2\n",
    "    dp = dM[[1,dim]]\n",
    "    dv = dM[[dim+1,dim*2]]\n",
    "    \n",
    "    p_Mr_p_Xr = [\n",
    "        1 0 0 0\n",
    "        0 1 0 0\n",
    "        0 0 cos(x[4]) -x[3]*sin(x[4])\n",
    "        0 0 sin(x[4]) x[3]*cos(x[4])\n",
    "    ]\n",
    "    p_Mh_p_Xh = I(4)\n",
    "    #dot_d is the component of velocity lies in the dp direction\n",
    "    dot_d = dp'dv / d\n",
    "\n",
    "    p_dot_d_p_dp = dv / d - (dp'dv) * dp / (d^3)\n",
    "    p_dot_d_p_dv = dp / d\n",
    "\n",
    "    p_dp_p_Mr = hcat(I(dim), zeros(dim,dim))\n",
    "    p_dp_p_Mh = -p_dp_p_Mr\n",
    "\n",
    "    p_dv_p_Mr = hcat(zeros(dim,dim), I(dim))\n",
    "    p_dv_p_Mh = -p_dv_p_Mr\n",
    "\n",
    "    p_dot_d_p_Mr = p_dp_p_Mr'p_dot_d_p_dp + p_dv_p_Mr'p_dot_d_p_dv\n",
    "    p_dot_d_p_Mh = p_dp_p_Mh'p_dot_d_p_dp + p_dv_p_Mh'p_dot_d_p_dv\n",
    "\n",
    "    p_dot_d_p_Xr = p_Mr_p_Xr'p_dot_d_p_Mr\n",
    "    p_dot_d_p_Xh = p_Mh_p_Xh'p_dot_d_p_Mh\n",
    "\n",
    "    d = (d == 0) ? 1e-3 : d\n",
    "    dot_d = (dot_d == 0) ? 1e-3 : dot_d\n",
    "\n",
    "    p_d_p_Mr = vcat(dp / d, zeros(dim))\n",
    "    p_d_p_Mh = vcat(-dp / d, zeros(dim))\n",
    "\n",
    "    p_d_p_Xr = p_Mr_p_Xr'p_d_p_Mr\n",
    "    p_d_p_Xh = p_Mh_p_Xh'p_d_p_Mh\n",
    "    \n",
    "    p_phi_p_x = index.phi_power*p_d_p_Xr*(d-(index.d_min+index.margin))^(index.phi_power-1)*(d-(index.d_max-index.margin))^(index.phi_power-1)*(d-index.d_max+d-index.d_min) +\n",
    "                index.dot_phi_coe*(2*p_d_p_Xr*dot_d + 2*d*p_dot_d_p_Mr - p_dot_d_p_Xr*(index.d_min+index.d_max))\n",
    "\n",
    "    p_phi_p_o = index.phi_power*p_d_p_Mh*(d-(index.d_min+index.margin))^(index.phi_power-1)*(d-(index.d_max-index.margin))^(index.phi_power-1)*(d-index.d_max+d-index.d_min) +\n",
    "                index.dot_phi_coe*(2*p_d_p_Mh*dot_d + 2*d*p_dot_d_p_Mh - p_dot_d_p_Xh*(index.d_min+index.d_max))\n",
    "\n",
    "    return p_phi_p_x, p_phi_p_o\n",
    "end"
   ]
  },
  {
   "cell_type": "code",
   "execution_count": 8,
   "metadata": {},
   "outputs": [
    {
     "data": {
      "text/plain": [
       "following (generic function with 1 method)"
      ]
     },
     "execution_count": 8,
     "metadata": {},
     "output_type": "execute_result"
    }
   ],
   "source": [
    "function generate_moving_target(;fps=10, tf=2, v=nothing, v_lim=0.5)\n",
    "    T = tf*fps\n",
    "    v = isnothing(v) ? [rand(), rand()]*v_lim*2 .- v_lim : v\n",
    "    p = [0, 1.5]\n",
    "    return [Obstacle(p+v*(i/fps), v, obs_radius) for i in 0:T-1]\n",
    "end\n",
    "\n",
    "function get_Xref(x0, xg, T, dt)\n",
    "    tf = T*dt\n",
    "    dp = [xg[1]-x0[1], xg[2]-x0[2]]\n",
    "    da = xg[4]-x0[4]\n",
    "    a = atan(dp[2], dp[1])\n",
    "    v = norm(dp)/tf\n",
    "    v = max(min(v, 1),-1)\n",
    "    vx = v * cos(a)\n",
    "    vy = v * sin(a)\n",
    "    Xref = [[x0[1]+vx*k*dt, x0[2]+vy*k*dt, v, a] for k = 1:T]\n",
    "    Xref[end][3] = 0\n",
    "    return Xref\n",
    "end\n",
    "\n",
    "function tracking(rp::RP, ctrl; fps=10, tf=2, obstacles=nothing, safety_index=nothing, verbose=false)\n",
    "    T=Int(ceil(fps*tf))\n",
    "    dt=1.0/fps\n",
    "    x = rp.x0\n",
    "    X = [copy(rp.x0) for k = 1:T]\n",
    "    U = [zeros(2) for k = 1:T-1]\n",
    "    safe_sets = []\n",
    "    Xrefs = []\n",
    "    tot_time = 0\n",
    "    col_cnt = 0\n",
    "    infeas=false\n",
    "    for i in 1:T-1\n",
    "        Xref = get_Xref(x, rp.xg, fps, dt)\n",
    "        xref = Xref[1]\n",
    "        push!(Xrefs, Xref)\n",
    "        timed_result = @timed get_control(ctrl, xref, x, rp.net, rp.obj_cost, dt, obstacles=obstacles, safety_index=safety_index)\n",
    "        u, safe_set = timed_result.value\n",
    "        if isnothing(u)\n",
    "            u = i == 1 ? [0.,0.] : U[i-1]\n",
    "            infeas=true\n",
    "            return X[1:i], U[1:i-1], safe_sets, Xrefs, true\n",
    "        end\n",
    "        push!(safe_sets, safe_set)\n",
    "        tot_time += timed_result.time\n",
    "        if verbose\n",
    "            @show x\n",
    "            @show xref\n",
    "            @show u\n",
    "            p = phi(x, obstacle)\n",
    "            @show p\n",
    "        end\n",
    "        x = forward(rp.net, x, u, dt)\n",
    "        X[i+1] = x\n",
    "        U[i] = u\n",
    "        if norm(x[1:2] - rp.xg[1:2]) < 0.1\n",
    "            return X[1:i+1], U[1:i], safe_sets[1:i], Xrefs[1:i], infeas\n",
    "        end\n",
    "    end\n",
    "#     @show length(Xrefs)\n",
    "    push!(Xrefs, Xrefs[end])\n",
    "#     @show length(Xrefs)\n",
    "    return X, U, safe_sets, Xrefs, infeas\n",
    "end\n",
    "\n",
    "function following(rp::RP, ctrl; fps=10, tf=2, targets=nothing, safety_index=nothing, verbose=false)\n",
    "    T=Int(ceil(fps*tf))\n",
    "    dt=1.0/fps\n",
    "    x = rp.x0\n",
    "    X = [copy(rp.x0) for k = 1:T]\n",
    "    U = [zeros(2) for k = 1:T-1]\n",
    "    safe_sets = []\n",
    "    Xrefs = []\n",
    "    tot_time = 0\n",
    "    infeas=false\n",
    "    for i in 1:T-1\n",
    "        xg = [targets[i].center..., norm(targets[i].vel), 0]\n",
    "        @show\n",
    "        Xref = get_Xref(x, xg, fps, dt)\n",
    "#         Xref = get_Xref(x, [targets[i].center..., norm(targets[i].vel), 0], fps, dt)\n",
    "#         Xref = get_Xref(x, [targets[i].center..., norm(targets[i].vel), 0], fps, dt)\n",
    "#         Xref = get_Xref(x, rp.xg, fps, dt)\n",
    "        xref = Xref[1]\n",
    "        push!(Xrefs, Xref)\n",
    "        timed_result = @timed get_control(ctrl, xref, x, rp.net, rp.obj_cost, dt, obstacles=[targets[i]], safety_index=safety_index)\n",
    "        u, safe_set = timed_result.value\n",
    "        if isnothing(u)\n",
    "            u = i == 1 ? [0.,0.] : U[i-1]\n",
    "            infeas=true\n",
    "#             return X[1:i], U[1:i-1], safe_sets, Xrefs, true\n",
    "        end\n",
    "        push!(safe_sets, safe_set)\n",
    "        tot_time += timed_result.time\n",
    "        if verbose\n",
    "            @show x\n",
    "            @show xref\n",
    "            @show u\n",
    "            p = phi(safety_index, x, targets[i])\n",
    "            @show p\n",
    "        end\n",
    "        x = forward(rp.net, x, u, dt)\n",
    "        X[i+1] = x\n",
    "        U[i] = u\n",
    "    end\n",
    "    push!(Xrefs, Xrefs[end])\n",
    "    return X, U, safe_sets, Xrefs, infeas\n",
    "end"
   ]
  },
  {
   "cell_type": "code",
   "execution_count": 9,
   "metadata": {},
   "outputs": [
    {
     "data": {
      "text/plain": [
       "generate_random_traj (generic function with 1 method)"
      ]
     },
     "execution_count": 9,
     "metadata": {},
     "output_type": "execute_result"
    }
   ],
   "source": [
    "include(\"unicycle_env.jl\")"
   ]
  },
  {
   "cell_type": "code",
   "execution_count": 123,
   "metadata": {
    "scrolled": true
   },
   "outputs": [],
   "source": [
    "Random.seed!(1)\n",
    "n = 1\n",
    "obstacles0 = [Obstacle([0.2, 2], [0,0], obs_radius) for i in 1:n]\n",
    "x0=[0,0,0,π/2]\n",
    "xg=[0,5,0,π/2]\n",
    "obj_cost = [1,1,1,0.1]\n",
    "rp = RP(net, obj_cost, x0, xg)\n",
    "# shoot_ctrl = ShootingController(1000)\n",
    "\n",
    "err_bound = [1, 1, 0.1, 0.1]*10\n",
    "ctrl = NvController(err_bound, warm_start=true, bin_precision=1e-1)\n",
    "# ctrl = ShootingController(1000)\n",
    "ci = CollisionIndex(0.0, 1e-3, 1, 0)\n",
    "\n",
    "Xexec0, Uexec, safe_sets, Xrefs, infeas = tracking(rp, ctrl, fps=10, tf=20, obstacles=obstacles0, safety_index=ci, verbose=false);"
   ]
  },
  {
   "cell_type": "code",
   "execution_count": 131,
   "metadata": {},
   "outputs": [
    {
     "data": {
      "image/svg+xml": "<?xml version=\"1.0\" encoding=\"utf-8\"?>\n<svg xmlns=\"http://www.w3.org/2000/svg\" xmlns:xlink=\"http://www.w3.org/1999/xlink\" width=\"1800\" height=\"1200\" viewBox=\"0 0 7200 4800\">\n<defs>\n  <clipPath id=\"clip000\">\n    <rect x=\"0\" y=\"0\" width=\"7200\" height=\"4800\"/>\n  </clipPath>\n</defs>\n<path clip-path=\"url(#clip000)\" d=\"\nM0 4800 L7200 4800 L7200 0 L0 0  Z\n  \" fill=\"#ffffff\" fill-rule=\"evenodd\" fill-opacity=\"1\"/>\n<defs>\n  <clipPath id=\"clip001\">\n    <rect x=\"1440\" y=\"0\" width=\"5041\" height=\"4800\"/>\n  </clipPath>\n</defs>\n<path clip-path=\"url(#clip000)\" d=\"\nM638.509 4381.58 L6998.29 4381.58 L6998.29 141.732 L638.509 141.732  Z\n  \" fill=\"#ffffff\" fill-rule=\"evenodd\" fill-opacity=\"1\"/>\n<defs>\n  <clipPath id=\"clip002\">\n    <rect x=\"638\" y=\"141\" width=\"6361\" height=\"4241\"/>\n  </clipPath>\n</defs>\n<polyline clip-path=\"url(#clip002)\" style=\"stroke:#000000; stroke-linecap:butt; stroke-linejoin:round; stroke-width:6; stroke-opacity:0.1; fill:none\" points=\"\n  1168.49,4381.58 1168.49,141.732 \n  \"/>\n<polyline clip-path=\"url(#clip002)\" style=\"stroke:#000000; stroke-linecap:butt; stroke-linejoin:round; stroke-width:6; stroke-opacity:0.1; fill:none\" points=\"\n  2228.45,4381.58 2228.45,141.732 \n  \"/>\n<polyline clip-path=\"url(#clip002)\" style=\"stroke:#000000; stroke-linecap:butt; stroke-linejoin:round; stroke-width:6; stroke-opacity:0.1; fill:none\" points=\"\n  3288.42,4381.58 3288.42,141.732 \n  \"/>\n<polyline clip-path=\"url(#clip002)\" style=\"stroke:#000000; stroke-linecap:butt; stroke-linejoin:round; stroke-width:6; stroke-opacity:0.1; fill:none\" points=\"\n  4348.38,4381.58 4348.38,141.732 \n  \"/>\n<polyline clip-path=\"url(#clip002)\" style=\"stroke:#000000; stroke-linecap:butt; stroke-linejoin:round; stroke-width:6; stroke-opacity:0.1; fill:none\" points=\"\n  5408.34,4381.58 5408.34,141.732 \n  \"/>\n<polyline clip-path=\"url(#clip002)\" style=\"stroke:#000000; stroke-linecap:butt; stroke-linejoin:round; stroke-width:6; stroke-opacity:0.1; fill:none\" points=\"\n  6468.3,4381.58 6468.3,141.732 \n  \"/>\n<polyline clip-path=\"url(#clip000)\" style=\"stroke:#000000; stroke-linecap:butt; stroke-linejoin:round; stroke-width:12; stroke-opacity:1; fill:none\" points=\"\n  638.509,4381.58 6998.29,4381.58 \n  \"/>\n<polyline clip-path=\"url(#clip000)\" style=\"stroke:#000000; stroke-linecap:butt; stroke-linejoin:round; stroke-width:12; stroke-opacity:1; fill:none\" points=\"\n  1168.49,4381.58 1168.49,4330.71 \n  \"/>\n<polyline clip-path=\"url(#clip000)\" style=\"stroke:#000000; stroke-linecap:butt; stroke-linejoin:round; stroke-width:12; stroke-opacity:1; fill:none\" points=\"\n  2228.45,4381.58 2228.45,4330.71 \n  \"/>\n<polyline clip-path=\"url(#clip000)\" style=\"stroke:#000000; stroke-linecap:butt; stroke-linejoin:round; stroke-width:12; stroke-opacity:1; fill:none\" points=\"\n  3288.42,4381.58 3288.42,4330.71 \n  \"/>\n<polyline clip-path=\"url(#clip000)\" style=\"stroke:#000000; stroke-linecap:butt; stroke-linejoin:round; stroke-width:12; stroke-opacity:1; fill:none\" points=\"\n  4348.38,4381.58 4348.38,4330.71 \n  \"/>\n<polyline clip-path=\"url(#clip000)\" style=\"stroke:#000000; stroke-linecap:butt; stroke-linejoin:round; stroke-width:12; stroke-opacity:1; fill:none\" points=\"\n  5408.34,4381.58 5408.34,4330.71 \n  \"/>\n<polyline clip-path=\"url(#clip000)\" style=\"stroke:#000000; stroke-linecap:butt; stroke-linejoin:round; stroke-width:12; stroke-opacity:1; fill:none\" points=\"\n  6468.3,4381.58 6468.3,4330.71 \n  \"/>\n<path clip-path=\"url(#clip000)\" d=\"M1168.49 4491.63 Q1149.53 4491.63 1139.93 4510.35 Q1130.45 4528.94 1130.45 4566.37 Q1130.45 4603.68 1139.93 4622.4 Q1149.53 4640.99 1168.49 4640.99 Q1187.57 4640.99 1197.05 4622.4 Q1206.65 4603.68 1206.65 4566.37 Q1206.65 4528.94 1197.05 4510.35 Q1187.57 4491.63 1168.49 4491.63 M1168.49 4472.19 Q1198.99 4472.19 1215.04 4496.37 Q1231.2 4520.44 1231.2 4566.37 Q1231.2 4612.19 1215.04 4636.37 Q1198.99 4660.44 1168.49 4660.44 Q1137.99 4660.44 1121.82 4636.37 Q1105.78 4612.19 1105.78 4566.37 Q1105.78 4520.44 1121.82 4496.37 Q1137.99 4472.19 1168.49 4472.19 Z\" fill=\"#000000\" fill-rule=\"evenodd\" fill-opacity=\"1\" /><path clip-path=\"url(#clip000)\" d=\"M2177.96 4636.25 L2218.06 4636.25 L2218.06 4497.83 L2174.43 4506.58 L2174.43 4484.22 L2217.82 4475.47 L2242.37 4475.47 L2242.37 4636.25 L2282.47 4636.25 L2282.47 4656.91 L2177.96 4656.91 L2177.96 4636.25 Z\" fill=\"#000000\" fill-rule=\"evenodd\" fill-opacity=\"1\" /><path clip-path=\"url(#clip000)\" d=\"M3260.34 4636.25 L3346.02 4636.25 L3346.02 4656.91 L3230.81 4656.91 L3230.81 4636.25 Q3244.79 4621.79 3268.85 4597.48 Q3293.03 4573.06 3299.23 4566.01 Q3311.02 4552.76 3315.64 4543.65 Q3320.38 4534.41 3320.38 4525.54 Q3320.38 4511.08 3310.17 4501.96 Q3300.08 4492.85 3283.8 4492.85 Q3272.25 4492.85 3259.37 4496.86 Q3246.61 4500.87 3232.03 4509.01 L3232.03 4484.22 Q3246.85 4478.27 3259.74 4475.23 Q3272.62 4472.19 3283.31 4472.19 Q3311.51 4472.19 3328.28 4486.29 Q3345.05 4500.38 3345.05 4523.96 Q3345.05 4535.14 3340.79 4545.23 Q3336.66 4555.19 3325.6 4568.8 Q3322.56 4572.33 3306.28 4589.22 Q3290 4605.99 3260.34 4636.25 Z\" fill=\"#000000\" fill-rule=\"evenodd\" fill-opacity=\"1\" /><path clip-path=\"url(#clip000)\" d=\"M4370.68 4559.08 Q4388.3 4562.85 4398.14 4574.76 Q4408.11 4586.67 4408.11 4604.17 Q4408.11 4631.03 4389.64 4645.73 Q4371.16 4660.44 4337.14 4660.44 Q4325.71 4660.44 4313.56 4658.13 Q4301.53 4655.94 4288.65 4651.44 L4288.65 4627.75 Q4298.86 4633.7 4311.01 4636.74 Q4323.16 4639.78 4336.41 4639.78 Q4359.5 4639.78 4371.53 4630.66 Q4383.68 4621.55 4383.68 4604.17 Q4383.68 4588.13 4372.38 4579.13 Q4361.2 4570.02 4341.15 4570.02 L4320 4570.02 L4320 4549.85 L4342.12 4549.85 Q4360.23 4549.85 4369.83 4542.68 Q4379.43 4535.38 4379.43 4521.77 Q4379.43 4507.8 4369.46 4500.38 Q4359.62 4492.85 4341.15 4492.85 Q4331.06 4492.85 4319.52 4495.04 Q4307.97 4497.22 4294.12 4501.84 L4294.12 4479.97 Q4308.09 4476.08 4320.25 4474.13 Q4332.52 4472.19 4343.34 4472.19 Q4371.29 4472.19 4387.57 4484.95 Q4403.86 4497.59 4403.86 4519.22 Q4403.86 4534.29 4395.23 4544.74 Q4386.6 4555.07 4370.68 4559.08 Z\" fill=\"#000000\" fill-rule=\"evenodd\" fill-opacity=\"1\" /><path clip-path=\"url(#clip000)\" d=\"M5424.14 4496.86 L5362.16 4593.72 L5424.14 4593.72 L5424.14 4496.86 M5417.7 4475.47 L5448.57 4475.47 L5448.57 4593.72 L5474.45 4593.72 L5474.45 4614.13 L5448.57 4614.13 L5448.57 4656.91 L5424.14 4656.91 L5424.14 4614.13 L5342.23 4614.13 L5342.23 4590.44 L5417.7 4475.47 Z\" fill=\"#000000\" fill-rule=\"evenodd\" fill-opacity=\"1\" /><path clip-path=\"url(#clip000)\" d=\"M6417.26 4475.47 L6513.63 4475.47 L6513.63 4496.13 L6439.75 4496.13 L6439.75 4540.61 Q6445.09 4538.79 6450.44 4537.94 Q6455.79 4536.96 6461.13 4536.96 Q6491.52 4536.96 6509.26 4553.61 Q6527 4570.26 6527 4598.7 Q6527 4627.99 6508.77 4644.27 Q6490.54 4660.44 6457.37 4660.44 Q6445.94 4660.44 6434.03 4658.49 Q6422.25 4656.55 6409.61 4652.66 L6409.61 4627.99 Q6420.54 4633.94 6432.21 4636.86 Q6443.88 4639.78 6456.88 4639.78 Q6477.9 4639.78 6490.18 4628.72 Q6502.45 4617.66 6502.45 4598.7 Q6502.45 4579.74 6490.18 4568.68 Q6477.9 4557.62 6456.88 4557.62 Q6447.04 4557.62 6437.19 4559.81 Q6427.47 4562 6417.26 4566.62 L6417.26 4475.47 Z\" fill=\"#000000\" fill-rule=\"evenodd\" fill-opacity=\"1\" /><polyline clip-path=\"url(#clip002)\" style=\"stroke:#000000; stroke-linecap:butt; stroke-linejoin:round; stroke-width:6; stroke-opacity:0.1; fill:none\" points=\"\n  638.509,4381.58 6998.29,4381.58 \n  \"/>\n<polyline clip-path=\"url(#clip002)\" style=\"stroke:#000000; stroke-linecap:butt; stroke-linejoin:round; stroke-width:6; stroke-opacity:0.1; fill:none\" points=\"\n  638.509,3321.62 6998.29,3321.62 \n  \"/>\n<polyline clip-path=\"url(#clip002)\" style=\"stroke:#000000; stroke-linecap:butt; stroke-linejoin:round; stroke-width:6; stroke-opacity:0.1; fill:none\" points=\"\n  638.509,2261.66 6998.29,2261.66 \n  \"/>\n<polyline clip-path=\"url(#clip002)\" style=\"stroke:#000000; stroke-linecap:butt; stroke-linejoin:round; stroke-width:6; stroke-opacity:0.1; fill:none\" points=\"\n  638.509,1201.7 6998.29,1201.7 \n  \"/>\n<polyline clip-path=\"url(#clip002)\" style=\"stroke:#000000; stroke-linecap:butt; stroke-linejoin:round; stroke-width:6; stroke-opacity:0.1; fill:none\" points=\"\n  638.509,141.732 6998.29,141.732 \n  \"/>\n<polyline clip-path=\"url(#clip000)\" style=\"stroke:#000000; stroke-linecap:butt; stroke-linejoin:round; stroke-width:12; stroke-opacity:1; fill:none\" points=\"\n  638.509,4381.58 638.509,141.732 \n  \"/>\n<polyline clip-path=\"url(#clip000)\" style=\"stroke:#000000; stroke-linecap:butt; stroke-linejoin:round; stroke-width:12; stroke-opacity:1; fill:none\" points=\"\n  638.509,4381.58 714.826,4381.58 \n  \"/>\n<polyline clip-path=\"url(#clip000)\" style=\"stroke:#000000; stroke-linecap:butt; stroke-linejoin:round; stroke-width:12; stroke-opacity:1; fill:none\" points=\"\n  638.509,3321.62 714.826,3321.62 \n  \"/>\n<polyline clip-path=\"url(#clip000)\" style=\"stroke:#000000; stroke-linecap:butt; stroke-linejoin:round; stroke-width:12; stroke-opacity:1; fill:none\" points=\"\n  638.509,2261.66 714.826,2261.66 \n  \"/>\n<polyline clip-path=\"url(#clip000)\" style=\"stroke:#000000; stroke-linecap:butt; stroke-linejoin:round; stroke-width:12; stroke-opacity:1; fill:none\" points=\"\n  638.509,1201.7 714.826,1201.7 \n  \"/>\n<polyline clip-path=\"url(#clip000)\" style=\"stroke:#000000; stroke-linecap:butt; stroke-linejoin:round; stroke-width:12; stroke-opacity:1; fill:none\" points=\"\n  638.509,141.732 714.826,141.732 \n  \"/>\n<path clip-path=\"url(#clip000)\" d=\"M214.903 4383.95 L370.701 4383.95 L370.701 4404.61 L214.903 4404.61 L214.903 4383.95 Z\" fill=\"#000000\" fill-rule=\"evenodd\" fill-opacity=\"1\" /><path clip-path=\"url(#clip000)\" d=\"M444.832 4451.64 L530.509 4451.64 L530.509 4472.3 L415.301 4472.3 L415.301 4451.64 Q429.277 4437.18 453.339 4412.88 Q477.523 4388.45 483.721 4381.4 Q495.509 4368.15 500.127 4359.04 Q504.867 4349.8 504.867 4340.93 Q504.867 4326.47 494.658 4317.36 Q484.571 4308.24 468.287 4308.24 Q456.742 4308.24 443.86 4312.25 Q431.1 4316.26 416.516 4324.41 L416.516 4299.61 Q431.343 4293.66 444.224 4290.62 Q457.106 4287.58 467.801 4287.58 Q495.995 4287.58 512.766 4301.68 Q529.537 4315.78 529.537 4339.35 Q529.537 4350.53 525.283 4360.62 Q521.151 4370.59 510.092 4384.2 Q507.054 4387.72 490.769 4404.61 Q474.485 4421.38 444.832 4451.64 Z\" fill=\"#000000\" fill-rule=\"evenodd\" fill-opacity=\"1\" /><path clip-path=\"url(#clip000)\" d=\"M212.958 3323.99 L368.756 3323.99 L368.756 3344.65 L212.958 3344.65 L212.958 3323.99 Z\" fill=\"#000000\" fill-rule=\"evenodd\" fill-opacity=\"1\" /><path clip-path=\"url(#clip000)\" d=\"M425.995 3391.68 L466.099 3391.68 L466.099 3253.26 L422.471 3262.01 L422.471 3239.65 L465.856 3230.9 L490.405 3230.9 L490.405 3391.68 L530.509 3391.68 L530.509 3412.34 L425.995 3412.34 L425.995 3391.68 Z\" fill=\"#000000\" fill-rule=\"evenodd\" fill-opacity=\"1\" /><path clip-path=\"url(#clip000)\" d=\"M467.801 2187.1 Q448.843 2187.1 439.242 2205.82 Q429.763 2224.41 429.763 2261.84 Q429.763 2299.15 439.242 2317.86 Q448.843 2336.46 467.801 2336.46 Q486.88 2336.46 496.36 2317.86 Q505.96 2299.15 505.96 2261.84 Q505.96 2224.41 496.36 2205.82 Q486.88 2187.1 467.801 2187.1 M467.801 2167.66 Q498.304 2167.66 514.346 2191.84 Q530.509 2215.9 530.509 2261.84 Q530.509 2307.66 514.346 2331.84 Q498.304 2355.9 467.801 2355.9 Q437.297 2355.9 421.134 2331.84 Q405.093 2307.66 405.093 2261.84 Q405.093 2215.9 421.134 2191.84 Q437.297 2167.66 467.801 2167.66 Z\" fill=\"#000000\" fill-rule=\"evenodd\" fill-opacity=\"1\" /><path clip-path=\"url(#clip000)\" d=\"M425.995 1271.76 L466.099 1271.76 L466.099 1133.34 L422.471 1142.09 L422.471 1119.73 L465.856 1110.98 L490.405 1110.98 L490.405 1271.76 L530.509 1271.76 L530.509 1292.42 L425.995 1292.42 L425.995 1271.76 Z\" fill=\"#000000\" fill-rule=\"evenodd\" fill-opacity=\"1\" /><path clip-path=\"url(#clip000)\" d=\"M444.832 211.793 L530.509 211.793 L530.509 232.452 L415.301 232.452 L415.301 211.793 Q429.277 197.331 453.339 173.026 Q477.523 148.599 483.721 141.55 Q495.509 128.304 500.127 119.189 Q504.867 109.953 504.867 101.081 Q504.867 86.6197 494.658 77.5052 Q484.571 68.3907 468.287 68.3907 Q456.742 68.3907 443.86 72.4011 Q431.1 76.4115 416.516 84.5538 L416.516 59.7622 Q431.343 53.8074 444.224 50.7692 Q457.106 47.7311 467.801 47.7311 Q495.995 47.7311 512.766 61.8282 Q529.537 75.9253 529.537 99.5016 Q529.537 110.682 525.283 120.769 Q521.151 130.734 510.092 144.345 Q507.054 147.869 490.769 164.762 Q474.485 181.532 444.832 211.793 Z\" fill=\"#000000\" fill-rule=\"evenodd\" fill-opacity=\"1\" /><polyline clip-path=\"url(#clip002)\" style=\"stroke:#000000; stroke-linecap:butt; stroke-linejoin:round; stroke-width:516; stroke-opacity:1; fill:none\" points=\"\n  2654.28,2200.66 2512.96,2198.69 \n  \"/>\n<polyline clip-path=\"url(#clip002)\" style=\"stroke:#000000; stroke-linecap:butt; stroke-linejoin:round; stroke-width:516; stroke-opacity:1; fill:none\" points=\"\n  2230.34,2194.75 2089.02,2192.78 \n  \"/>\n<polyline clip-path=\"url(#clip002)\" style=\"stroke:#e26f46; stroke-linecap:butt; stroke-linejoin:round; stroke-width:408; stroke-opacity:1; fill:none\" points=\"\n  2795.59,2202.63 1947.71,2190.81 \n  \"/>\n<path clip-path=\"url(#clip002)\" d=\"\nM2758.43 2447.61 L2758.43 2499.69 L2763.54 2551.51 L2773.7 2602.58 L2788.81 2652.41 L2808.74 2700.52 L2833.29 2746.44 L2862.22 2789.74 L2895.25 2829.99 L2932.07 2866.81 \n  L2972.33 2899.85 L3015.62 2928.78 L3061.55 2953.33 L3109.66 2973.25 L3159.49 2988.37 L3210.56 2998.53 L3262.38 3003.63 L3314.45 3003.63 L3366.27 2998.53 L3417.35 2988.37 \n  L3467.18 2973.25 L3515.29 2953.33 L3561.21 2928.78 L3604.51 2899.85 L3644.76 2866.81 L3681.58 2829.99 L3714.61 2789.74 L3743.54 2746.44 L3768.09 2700.52 L3788.02 2652.41 \n  L3803.13 2602.58 L3813.29 2551.51 L3818.4 2499.69 L3818.4 2447.61 L3813.29 2395.79 L3803.13 2344.72 L3788.02 2294.89 L3768.09 2246.78 L3743.54 2200.86 L3714.61 2157.56 \n  L3681.58 2117.31 L3644.76 2080.49 L3604.51 2047.45 L3561.21 2018.52 L3515.29 1993.98 L3467.18 1974.05 L3417.35 1958.93 L3366.27 1948.77 L3314.45 1943.67 L3262.38 1943.67 \n  L3210.56 1948.77 L3159.49 1958.93 L3109.66 1974.05 L3061.55 1993.98 L3015.62 2018.52 L2972.33 2047.45 L2932.07 2080.49 L2895.25 2117.31 L2862.22 2157.56 L2833.29 2200.86 \n  L2808.74 2246.78 L2788.81 2294.89 L2773.7 2344.72 L2763.54 2395.79 L2758.43 2447.61 L2758.43 2447.61  Z\n  \" fill=\"#c271d2\" fill-rule=\"evenodd\" fill-opacity=\"0.5\"/>\n<polyline clip-path=\"url(#clip002)\" style=\"stroke:#000000; stroke-linecap:butt; stroke-linejoin:round; stroke-width:12; stroke-opacity:0.5; fill:none\" points=\"\n  2758.43,2447.61 2758.43,2499.69 2763.54,2551.51 2773.7,2602.58 2788.81,2652.41 2808.74,2700.52 2833.29,2746.44 2862.22,2789.74 2895.25,2829.99 2932.07,2866.81 \n  2972.33,2899.85 3015.62,2928.78 3061.55,2953.33 3109.66,2973.25 3159.49,2988.37 3210.56,2998.53 3262.38,3003.63 3314.45,3003.63 3366.27,2998.53 3417.35,2988.37 \n  3467.18,2973.25 3515.29,2953.33 3561.21,2928.78 3604.51,2899.85 3644.76,2866.81 3681.58,2829.99 3714.61,2789.74 3743.54,2746.44 3768.09,2700.52 3788.02,2652.41 \n  3803.13,2602.58 3813.29,2551.51 3818.4,2499.69 3818.4,2447.61 3813.29,2395.79 3803.13,2344.72 3788.02,2294.89 3768.09,2246.78 3743.54,2200.86 3714.61,2157.56 \n  3681.58,2117.31 3644.76,2080.49 3604.51,2047.45 3561.21,2018.52 3515.29,1993.98 3467.18,1974.05 3417.35,1958.93 3366.27,1948.77 3314.45,1943.67 3262.38,1943.67 \n  3210.56,1948.77 3159.49,1958.93 3109.66,1974.05 3061.55,1993.98 3015.62,2018.52 2972.33,2047.45 2932.07,2080.49 2895.25,2117.31 2862.22,2157.56 2833.29,2200.86 \n  2808.74,2246.78 2788.81,2294.89 2773.7,2344.72 2763.54,2395.79 2758.43,2447.61 \n  \"/>\n<polyline clip-path=\"url(#clip002)\" style=\"stroke:#3da44d; stroke-linecap:butt; stroke-linejoin:round; stroke-width:12; stroke-opacity:1; fill:none\" points=\"\n  1168.49,2261.66 1165.24,2266.79 1206.27,2273.04 1291.47,2269.15 1399.44,2260.9 1507.54,2252.95 1615.6,2244.98 1723.7,2237.16 1831.84,2229.54 1939.91,2222.25 \n  2047.93,2215.32 2155.9,2208.76 2263.8,2202.56 2371.65,2196.72 \n  \"/>\n<path clip-path=\"url(#clip000)\" d=\"\nM3632.87 4240.26 L6782.29 4240.26 L6782.29 3605.22 L3632.87 3605.22  Z\n  \" fill=\"#ffffff\" fill-rule=\"evenodd\" fill-opacity=\"1\"/>\n<polyline clip-path=\"url(#clip000)\" style=\"stroke:#000000; stroke-linecap:butt; stroke-linejoin:round; stroke-width:12; stroke-opacity:1; fill:none\" points=\"\n  3632.87,4240.26 6782.29,4240.26 6782.29,3605.22 3632.87,3605.22 3632.87,4240.26 \n  \"/>\n<polyline clip-path=\"url(#clip000)\" style=\"stroke:#3da44d; stroke-linecap:butt; stroke-linejoin:round; stroke-width:21; stroke-opacity:1; fill:none\" points=\"\n  3704.87,3922.74 4136.85,3922.74 \n  \"/>\n<path clip-path=\"url(#clip000)\" d=\"M4208.85 3832.02 L4323.57 3832.02 L4323.57 3852.67 L4233.4 3852.67 L4233.4 3906.39 L4319.81 3906.39 L4319.81 3927.05 L4233.4 3927.05 L4233.4 3992.8 L4325.76 3992.8 L4325.76 4013.46 L4208.85 4013.46 L4208.85 3832.02 Z\" fill=\"#000000\" fill-rule=\"evenodd\" fill-opacity=\"1\" /><path clip-path=\"url(#clip000)\" d=\"M4478.28 3877.34 L4429.06 3943.58 L4480.83 4013.46 L4454.46 4013.46 L4414.84 3959.98 L4375.22 4013.46 L4348.85 4013.46 L4401.71 3942.24 L4353.35 3877.34 L4379.72 3877.34 L4415.81 3925.83 L4451.91 3877.34 L4478.28 3877.34 Z\" fill=\"#000000\" fill-rule=\"evenodd\" fill-opacity=\"1\" /><path clip-path=\"url(#clip000)\" d=\"M4621.19 3939.81 L4621.19 3950.75 L4518.38 3950.75 Q4519.84 3973.84 4532.24 3985.99 Q4544.75 3998.02 4566.99 3998.02 Q4579.87 3998.02 4591.9 3994.86 Q4604.06 3991.7 4615.97 3985.38 L4615.97 4006.53 Q4603.94 4011.63 4591.3 4014.31 Q4578.66 4016.98 4565.65 4016.98 Q4533.09 4016.98 4514.01 3998.02 Q4495.05 3979.06 4495.05 3946.74 Q4495.05 3913.32 4513.03 3893.75 Q4531.14 3874.06 4561.77 3874.06 Q4589.23 3874.06 4605.15 3891.81 Q4621.19 3909.43 4621.19 3939.81 M4598.83 3933.25 Q4598.59 3914.9 4588.5 3903.96 Q4578.54 3893.02 4562.01 3893.02 Q4543.29 3893.02 4531.99 3903.59 Q4520.81 3914.17 4519.11 3933.37 L4598.83 3933.25 Z\" fill=\"#000000\" fill-rule=\"evenodd\" fill-opacity=\"1\" /><path clip-path=\"url(#clip000)\" d=\"M4755.84 3882.57 L4755.84 3903.47 Q4746.37 3898.25 4736.77 3895.7 Q4727.29 3893.02 4717.56 3893.02 Q4695.81 3893.02 4683.78 3906.88 Q4671.75 3920.61 4671.75 3945.52 Q4671.75 3970.43 4683.78 3984.29 Q4695.81 3998.02 4717.56 3998.02 Q4727.29 3998.02 4736.77 3995.47 Q4746.37 3992.8 4755.84 3987.57 L4755.84 4008.23 Q4746.49 4012.6 4736.4 4014.79 Q4726.44 4016.98 4715.13 4016.98 Q4684.39 4016.98 4666.28 3997.66 Q4648.17 3978.33 4648.17 3945.52 Q4648.17 3912.22 4666.4 3893.14 Q4684.75 3874.06 4716.59 3874.06 Q4726.92 3874.06 4736.77 3876.25 Q4746.61 3878.32 4755.84 3882.57 Z\" fill=\"#000000\" fill-rule=\"evenodd\" fill-opacity=\"1\" /><path clip-path=\"url(#clip000)\" d=\"M4792.42 3959.74 L4792.42 3877.34 L4814.79 3877.34 L4814.79 3958.89 Q4814.79 3978.21 4822.32 3987.93 Q4829.85 3997.54 4844.92 3997.54 Q4863.03 3997.54 4873.48 3985.99 Q4884.06 3974.45 4884.06 3954.51 L4884.06 3877.34 L4906.42 3877.34 L4906.42 4013.46 L4884.06 4013.46 L4884.06 3992.55 Q4875.91 4004.95 4865.1 4011.02 Q4854.4 4016.98 4840.18 4016.98 Q4816.73 4016.98 4804.58 4002.4 Q4792.42 3987.81 4792.42 3959.74 M4848.69 3874.06 L4848.69 3874.06 Z\" fill=\"#000000\" fill-rule=\"evenodd\" fill-opacity=\"1\" /><path clip-path=\"url(#clip000)\" d=\"M4974.59 3838.7 L4974.59 3877.34 L5020.65 3877.34 L5020.65 3894.72 L4974.59 3894.72 L4974.59 3968.61 Q4974.59 3985.26 4979.09 3990 Q4983.71 3994.74 4997.68 3994.74 L5020.65 3994.74 L5020.65 4013.46 L4997.68 4013.46 Q4971.8 4013.46 4961.95 4003.85 Q4952.11 3994.13 4952.11 3968.61 L4952.11 3894.72 L4935.71 3894.72 L4935.71 3877.34 L4952.11 3877.34 L4952.11 3838.7 L4974.59 3838.7 Z\" fill=\"#000000\" fill-rule=\"evenodd\" fill-opacity=\"1\" /><path clip-path=\"url(#clip000)\" d=\"M5166.49 3939.81 L5166.49 3950.75 L5063.67 3950.75 Q5065.13 3973.84 5077.53 3985.99 Q5090.04 3998.02 5112.28 3998.02 Q5125.17 3998.02 5137.2 3994.86 Q5149.35 3991.7 5161.26 3985.38 L5161.26 4006.53 Q5149.23 4011.63 5136.59 4014.31 Q5123.95 4016.98 5110.95 4016.98 Q5078.38 4016.98 5059.3 3998.02 Q5040.34 3979.06 5040.34 3946.74 Q5040.34 3913.32 5058.33 3893.75 Q5076.43 3874.06 5107.06 3874.06 Q5134.52 3874.06 5150.44 3891.81 Q5166.49 3909.43 5166.49 3939.81 M5144.12 3933.25 Q5143.88 3914.9 5133.79 3903.96 Q5123.83 3893.02 5107.3 3893.02 Q5088.59 3893.02 5077.28 3903.59 Q5066.1 3914.17 5064.4 3933.37 L5144.12 3933.25 Z\" fill=\"#000000\" fill-rule=\"evenodd\" fill-opacity=\"1\" /><path clip-path=\"url(#clip000)\" d=\"M5292.75 3898 L5292.75 3824.36 L5315.11 3824.36 L5315.11 4013.46 L5292.75 4013.46 L5292.75 3993.04 Q5285.7 4005.19 5274.89 4011.15 Q5264.19 4016.98 5249.12 4016.98 Q5224.45 4016.98 5208.9 3997.29 Q5193.46 3977.6 5193.46 3945.52 Q5193.46 3913.44 5208.9 3893.75 Q5224.45 3874.06 5249.12 3874.06 Q5264.19 3874.06 5274.89 3880.02 Q5285.7 3885.85 5292.75 3898 M5216.55 3945.52 Q5216.55 3970.19 5226.64 3984.29 Q5236.85 3998.26 5254.59 3998.26 Q5272.34 3998.26 5282.54 3984.29 Q5292.75 3970.19 5292.75 3945.52 Q5292.75 3920.85 5282.54 3906.88 Q5272.34 3892.78 5254.59 3892.78 Q5236.85 3892.78 5226.64 3906.88 Q5216.55 3920.85 5216.55 3945.52 Z\" fill=\"#000000\" fill-rule=\"evenodd\" fill-opacity=\"1\" /><path clip-path=\"url(#clip000)\" d=\"M5416.1 3832.02 L5569.59 3832.02 L5569.59 3852.67 L5505.18 3852.67 L5505.18 4013.46 L5480.51 4013.46 L5480.51 3852.67 L5416.1 3852.67 L5416.1 3832.02 Z\" fill=\"#000000\" fill-rule=\"evenodd\" fill-opacity=\"1\" /><path clip-path=\"url(#clip000)\" d=\"M5634.61 3898.25 Q5630.84 3896.06 5626.34 3895.09 Q5621.97 3893.99 5616.62 3893.99 Q5597.66 3893.99 5587.46 3906.39 Q5577.37 3918.66 5577.37 3941.75 L5577.37 4013.46 L5554.89 4013.46 L5554.89 3877.34 L5577.37 3877.34 L5577.37 3898.49 Q5584.42 3886.09 5595.72 3880.14 Q5607.02 3874.06 5623.18 3874.06 Q5625.49 3874.06 5628.29 3874.43 Q5631.08 3874.67 5634.49 3875.28 L5634.61 3898.25 Z\" fill=\"#000000\" fill-rule=\"evenodd\" fill-opacity=\"1\" /><path clip-path=\"url(#clip000)\" d=\"M5719.92 3945.04 Q5692.82 3945.04 5682.37 3951.23 Q5671.92 3957.43 5671.92 3972.38 Q5671.92 3984.29 5679.69 3991.34 Q5687.59 3998.26 5701.08 3998.26 Q5719.68 3998.26 5730.86 3985.14 Q5742.16 3971.89 5742.16 3950.02 L5742.16 3945.04 L5719.92 3945.04 M5764.52 3935.8 L5764.52 4013.46 L5742.16 4013.46 L5742.16 3992.8 Q5734.5 4005.19 5723.08 4011.15 Q5711.66 4016.98 5695.13 4016.98 Q5674.23 4016.98 5661.83 4005.31 Q5649.56 3993.52 5649.56 3973.84 Q5649.56 3950.87 5664.87 3939.2 Q5680.3 3927.54 5710.81 3927.54 L5742.16 3927.54 L5742.16 3925.35 Q5742.16 3909.91 5731.95 3901.53 Q5721.86 3893.02 5703.51 3893.02 Q5691.85 3893.02 5680.79 3895.82 Q5669.73 3898.61 5659.52 3904.2 L5659.52 3883.54 Q5671.79 3878.8 5683.34 3876.49 Q5694.89 3874.06 5705.82 3874.06 Q5735.35 3874.06 5749.94 3889.38 Q5764.52 3904.69 5764.52 3935.8 Z\" fill=\"#000000\" fill-rule=\"evenodd\" fill-opacity=\"1\" /><path clip-path=\"url(#clip000)\" d=\"M5810.58 3877.34 L5832.94 3877.34 L5832.94 4015.89 Q5832.94 4041.89 5822.97 4053.56 Q5813.13 4065.23 5791.13 4065.23 L5782.63 4065.23 L5782.63 4046.27 L5788.58 4046.27 Q5801.34 4046.27 5805.96 4040.31 Q5810.58 4034.48 5810.58 4015.89 L5810.58 3877.34 M5810.58 3824.36 L5832.94 3824.36 L5832.94 3852.67 L5810.58 3852.67 L5810.58 3824.36 Z\" fill=\"#000000\" fill-rule=\"evenodd\" fill-opacity=\"1\" /><path clip-path=\"url(#clip000)\" d=\"M5996.15 3939.81 L5996.15 3950.75 L5893.34 3950.75 Q5894.8 3973.84 5907.19 3985.99 Q5919.71 3998.02 5941.95 3998.02 Q5954.83 3998.02 5966.86 3994.86 Q5979.02 3991.7 5990.93 3985.38 L5990.93 4006.53 Q5978.89 4011.63 5966.26 4014.31 Q5953.62 4016.98 5940.61 4016.98 Q5908.04 4016.98 5888.96 3998.02 Q5870.01 3979.06 5870.01 3946.74 Q5870.01 3913.32 5887.99 3893.75 Q5906.1 3874.06 5936.72 3874.06 Q5964.19 3874.06 5980.11 3891.81 Q5996.15 3909.43 5996.15 3939.81 M5973.79 3933.25 Q5973.55 3914.9 5963.46 3903.96 Q5953.49 3893.02 5936.97 3893.02 Q5918.25 3893.02 5906.95 3903.59 Q5895.77 3914.17 5894.07 3933.37 L5973.79 3933.25 Z\" fill=\"#000000\" fill-rule=\"evenodd\" fill-opacity=\"1\" /><path clip-path=\"url(#clip000)\" d=\"M6130.8 3882.57 L6130.8 3903.47 Q6121.32 3898.25 6111.72 3895.7 Q6102.24 3893.02 6092.52 3893.02 Q6070.77 3893.02 6058.74 3906.88 Q6046.71 3920.61 6046.71 3945.52 Q6046.71 3970.43 6058.74 3984.29 Q6070.77 3998.02 6092.52 3998.02 Q6102.24 3998.02 6111.72 3995.47 Q6121.32 3992.8 6130.8 3987.57 L6130.8 4008.23 Q6121.45 4012.6 6111.36 4014.79 Q6101.39 4016.98 6090.09 4016.98 Q6059.34 4016.98 6041.24 3997.66 Q6023.13 3978.33 6023.13 3945.52 Q6023.13 3912.22 6041.36 3893.14 Q6059.71 3874.06 6091.55 3874.06 Q6101.88 3874.06 6111.72 3876.25 Q6121.57 3878.32 6130.8 3882.57 Z\" fill=\"#000000\" fill-rule=\"evenodd\" fill-opacity=\"1\" /><path clip-path=\"url(#clip000)\" d=\"M6191.81 3838.7 L6191.81 3877.34 L6237.87 3877.34 L6237.87 3894.72 L6191.81 3894.72 L6191.81 3968.61 Q6191.81 3985.26 6196.31 3990 Q6200.92 3994.74 6214.9 3994.74 L6237.87 3994.74 L6237.87 4013.46 L6214.9 4013.46 Q6189.01 4013.46 6179.17 4003.85 Q6169.33 3994.13 6169.33 3968.61 L6169.33 3894.72 L6152.92 3894.72 L6152.92 3877.34 L6169.33 3877.34 L6169.33 3838.7 L6191.81 3838.7 Z\" fill=\"#000000\" fill-rule=\"evenodd\" fill-opacity=\"1\" /><path clip-path=\"url(#clip000)\" d=\"M6320.02 3893.02 Q6302.03 3893.02 6291.58 3907.12 Q6281.13 3921.09 6281.13 3945.52 Q6281.13 3969.95 6291.46 3984.05 Q6301.91 3998.02 6320.02 3998.02 Q6337.89 3998.02 6348.34 3983.92 Q6358.79 3969.83 6358.79 3945.52 Q6358.79 3921.34 6348.34 3907.24 Q6337.89 3893.02 6320.02 3893.02 M6320.02 3874.06 Q6349.19 3874.06 6365.84 3893.02 Q6382.49 3911.98 6382.49 3945.52 Q6382.49 3978.94 6365.84 3998.02 Q6349.19 4016.98 6320.02 4016.98 Q6290.73 4016.98 6274.08 3998.02 Q6257.56 3978.94 6257.56 3945.52 Q6257.56 3911.98 6274.08 3893.02 Q6290.73 3874.06 6320.02 3874.06 Z\" fill=\"#000000\" fill-rule=\"evenodd\" fill-opacity=\"1\" /><path clip-path=\"url(#clip000)\" d=\"M6498.42 3898.25 Q6494.66 3896.06 6490.16 3895.09 Q6485.78 3893.99 6480.44 3893.99 Q6461.48 3893.99 6451.27 3906.39 Q6441.18 3918.66 6441.18 3941.75 L6441.18 4013.46 L6418.7 4013.46 L6418.7 3877.34 L6441.18 3877.34 L6441.18 3898.49 Q6448.23 3886.09 6459.53 3880.14 Q6470.84 3874.06 6487 3874.06 Q6489.31 3874.06 6492.1 3874.43 Q6494.9 3874.67 6498.3 3875.28 L6498.42 3898.25 Z\" fill=\"#000000\" fill-rule=\"evenodd\" fill-opacity=\"1\" /><path clip-path=\"url(#clip000)\" d=\"M6578.51 4026.09 Q6569.03 4050.4 6560.04 4057.81 Q6551.04 4065.23 6535.97 4065.23 L6518.11 4065.23 L6518.11 4046.51 L6531.23 4046.51 Q6540.47 4046.51 6545.57 4042.14 Q6550.68 4037.76 6556.88 4021.48 L6560.89 4011.27 L6505.84 3877.34 L6529.53 3877.34 L6572.07 3983.8 L6614.6 3877.34 L6638.3 3877.34 L6578.51 4026.09 Z\" fill=\"#000000\" fill-rule=\"evenodd\" fill-opacity=\"1\" /></svg>\n"
     },
     "metadata": {},
     "output_type": "display_data"
    },
    {
     "data": {
      "text/plain": [
       "true"
      ]
     },
     "execution_count": 131,
     "metadata": {},
     "output_type": "execute_result"
    }
   ],
   "source": [
    "include(\"unicycle_env.jl\")\n",
    "XX = [[x[2], -x[1], x[3], x[4]-pi/2] for x in Xexec0]\n",
    "XX = XX[1:end-3]\n",
    "OO = [Obstacle([x.center[2], -x.center[1]], x.vel, x.radius) for x in obstacles0]\n",
    "\n",
    "visualize(XX, obstacles=OO, xlims=[-0.5,5.5], ylims=[-2,2], fps=100, save_frame=(length(XX)-1, \"../results/phi_collision_0.png\"))\n",
    "# visualize(Xexec0, obstacles=obstacles0, xlims=[-3,3], ylims=[0,5.5], fps=100, save_frame=(length(Xexec0)-1, \"../results/collision_0.png\"))"
   ]
  },
  {
   "cell_type": "code",
   "execution_count": 124,
   "metadata": {},
   "outputs": [],
   "source": [
    "Random.seed!(1)\n",
    "n = 1\n",
    "# obstacles1 = [Obstacle([rand()*1-0.5, 3], [0,0], obs_radius) for i in 1:n]\n",
    "obstacles1 = [Obstacle([0.2, 2], [0,0], obs_radius)]\n",
    "x0=[0,0,0,π/2]\n",
    "xg=[0,5,0,π/2]\n",
    "obj_cost = [1,1,1,0.1]\n",
    "rp = RP(net, obj_cost, x0, xg)\n",
    "err_bound = [1, 1, 0.1, 0.1]*10\n",
    "ctrl = NvController(err_bound, warm_start=true, bin_precision=1e-1)\n",
    "# ctrl = ShootingController(1000)\n",
    "# ci = CollisionIndex(0.3148358231569248, 0.006552565247571583, 0.10640599850882151, 0.23565863823469912)\n",
    "ci = CollisionIndex(0.0931661, 0.00528955, 0.382115, 1.33407)\n",
    "# ci = CollisionIndex(0.227832, 0.0173348, 0.117145, 0.526275)\n",
    "Xexec1, Uexec, safe_sets, Xrefs, infeas = tracking(rp, ctrl, fps=10, tf=20, obstacles=obstacles1, safety_index=ci, verbose=false);"
   ]
  },
  {
   "cell_type": "code",
   "execution_count": 130,
   "metadata": {},
   "outputs": [
    {
     "data": {
      "image/svg+xml": "<?xml version=\"1.0\" encoding=\"utf-8\"?>\n<svg xmlns=\"http://www.w3.org/2000/svg\" xmlns:xlink=\"http://www.w3.org/1999/xlink\" width=\"1800\" height=\"1200\" viewBox=\"0 0 7200 4800\">\n<defs>\n  <clipPath id=\"clip580\">\n    <rect x=\"0\" y=\"0\" width=\"7200\" height=\"4800\"/>\n  </clipPath>\n</defs>\n<path clip-path=\"url(#clip580)\" d=\"\nM0 4800 L7200 4800 L7200 0 L0 0  Z\n  \" fill=\"#ffffff\" fill-rule=\"evenodd\" fill-opacity=\"1\"/>\n<defs>\n  <clipPath id=\"clip581\">\n    <rect x=\"1440\" y=\"0\" width=\"5041\" height=\"4800\"/>\n  </clipPath>\n</defs>\n<path clip-path=\"url(#clip580)\" d=\"\nM638.509 4381.58 L6998.29 4381.58 L6998.29 141.732 L638.509 141.732  Z\n  \" fill=\"#ffffff\" fill-rule=\"evenodd\" fill-opacity=\"1\"/>\n<defs>\n  <clipPath id=\"clip582\">\n    <rect x=\"638\" y=\"141\" width=\"6361\" height=\"4241\"/>\n  </clipPath>\n</defs>\n<polyline clip-path=\"url(#clip582)\" style=\"stroke:#000000; stroke-linecap:butt; stroke-linejoin:round; stroke-width:6; stroke-opacity:0.1; fill:none\" points=\"\n  1168.49,4381.58 1168.49,141.732 \n  \"/>\n<polyline clip-path=\"url(#clip582)\" style=\"stroke:#000000; stroke-linecap:butt; stroke-linejoin:round; stroke-width:6; stroke-opacity:0.1; fill:none\" points=\"\n  2228.45,4381.58 2228.45,141.732 \n  \"/>\n<polyline clip-path=\"url(#clip582)\" style=\"stroke:#000000; stroke-linecap:butt; stroke-linejoin:round; stroke-width:6; stroke-opacity:0.1; fill:none\" points=\"\n  3288.42,4381.58 3288.42,141.732 \n  \"/>\n<polyline clip-path=\"url(#clip582)\" style=\"stroke:#000000; stroke-linecap:butt; stroke-linejoin:round; stroke-width:6; stroke-opacity:0.1; fill:none\" points=\"\n  4348.38,4381.58 4348.38,141.732 \n  \"/>\n<polyline clip-path=\"url(#clip582)\" style=\"stroke:#000000; stroke-linecap:butt; stroke-linejoin:round; stroke-width:6; stroke-opacity:0.1; fill:none\" points=\"\n  5408.34,4381.58 5408.34,141.732 \n  \"/>\n<polyline clip-path=\"url(#clip582)\" style=\"stroke:#000000; stroke-linecap:butt; stroke-linejoin:round; stroke-width:6; stroke-opacity:0.1; fill:none\" points=\"\n  6468.3,4381.58 6468.3,141.732 \n  \"/>\n<polyline clip-path=\"url(#clip580)\" style=\"stroke:#000000; stroke-linecap:butt; stroke-linejoin:round; stroke-width:12; stroke-opacity:1; fill:none\" points=\"\n  638.509,4381.58 6998.29,4381.58 \n  \"/>\n<polyline clip-path=\"url(#clip580)\" style=\"stroke:#000000; stroke-linecap:butt; stroke-linejoin:round; stroke-width:12; stroke-opacity:1; fill:none\" points=\"\n  1168.49,4381.58 1168.49,4330.71 \n  \"/>\n<polyline clip-path=\"url(#clip580)\" style=\"stroke:#000000; stroke-linecap:butt; stroke-linejoin:round; stroke-width:12; stroke-opacity:1; fill:none\" points=\"\n  2228.45,4381.58 2228.45,4330.71 \n  \"/>\n<polyline clip-path=\"url(#clip580)\" style=\"stroke:#000000; stroke-linecap:butt; stroke-linejoin:round; stroke-width:12; stroke-opacity:1; fill:none\" points=\"\n  3288.42,4381.58 3288.42,4330.71 \n  \"/>\n<polyline clip-path=\"url(#clip580)\" style=\"stroke:#000000; stroke-linecap:butt; stroke-linejoin:round; stroke-width:12; stroke-opacity:1; fill:none\" points=\"\n  4348.38,4381.58 4348.38,4330.71 \n  \"/>\n<polyline clip-path=\"url(#clip580)\" style=\"stroke:#000000; stroke-linecap:butt; stroke-linejoin:round; stroke-width:12; stroke-opacity:1; fill:none\" points=\"\n  5408.34,4381.58 5408.34,4330.71 \n  \"/>\n<polyline clip-path=\"url(#clip580)\" style=\"stroke:#000000; stroke-linecap:butt; stroke-linejoin:round; stroke-width:12; stroke-opacity:1; fill:none\" points=\"\n  6468.3,4381.58 6468.3,4330.71 \n  \"/>\n<path clip-path=\"url(#clip580)\" d=\"M1168.49 4491.63 Q1149.53 4491.63 1139.93 4510.35 Q1130.45 4528.94 1130.45 4566.37 Q1130.45 4603.68 1139.93 4622.4 Q1149.53 4640.99 1168.49 4640.99 Q1187.57 4640.99 1197.05 4622.4 Q1206.65 4603.68 1206.65 4566.37 Q1206.65 4528.94 1197.05 4510.35 Q1187.57 4491.63 1168.49 4491.63 M1168.49 4472.19 Q1198.99 4472.19 1215.04 4496.37 Q1231.2 4520.44 1231.2 4566.37 Q1231.2 4612.19 1215.04 4636.37 Q1198.99 4660.44 1168.49 4660.44 Q1137.99 4660.44 1121.82 4636.37 Q1105.78 4612.19 1105.78 4566.37 Q1105.78 4520.44 1121.82 4496.37 Q1137.99 4472.19 1168.49 4472.19 Z\" fill=\"#000000\" fill-rule=\"evenodd\" fill-opacity=\"1\" /><path clip-path=\"url(#clip580)\" d=\"M2177.96 4636.25 L2218.06 4636.25 L2218.06 4497.83 L2174.43 4506.58 L2174.43 4484.22 L2217.82 4475.47 L2242.37 4475.47 L2242.37 4636.25 L2282.47 4636.25 L2282.47 4656.91 L2177.96 4656.91 L2177.96 4636.25 Z\" fill=\"#000000\" fill-rule=\"evenodd\" fill-opacity=\"1\" /><path clip-path=\"url(#clip580)\" d=\"M3260.34 4636.25 L3346.02 4636.25 L3346.02 4656.91 L3230.81 4656.91 L3230.81 4636.25 Q3244.79 4621.79 3268.85 4597.48 Q3293.03 4573.06 3299.23 4566.01 Q3311.02 4552.76 3315.64 4543.65 Q3320.38 4534.41 3320.38 4525.54 Q3320.38 4511.08 3310.17 4501.96 Q3300.08 4492.85 3283.8 4492.85 Q3272.25 4492.85 3259.37 4496.86 Q3246.61 4500.87 3232.03 4509.01 L3232.03 4484.22 Q3246.85 4478.27 3259.74 4475.23 Q3272.62 4472.19 3283.31 4472.19 Q3311.51 4472.19 3328.28 4486.29 Q3345.05 4500.38 3345.05 4523.96 Q3345.05 4535.14 3340.79 4545.23 Q3336.66 4555.19 3325.6 4568.8 Q3322.56 4572.33 3306.28 4589.22 Q3290 4605.99 3260.34 4636.25 Z\" fill=\"#000000\" fill-rule=\"evenodd\" fill-opacity=\"1\" /><path clip-path=\"url(#clip580)\" d=\"M4370.68 4559.08 Q4388.3 4562.85 4398.14 4574.76 Q4408.11 4586.67 4408.11 4604.17 Q4408.11 4631.03 4389.64 4645.73 Q4371.16 4660.44 4337.14 4660.44 Q4325.71 4660.44 4313.56 4658.13 Q4301.53 4655.94 4288.65 4651.44 L4288.65 4627.75 Q4298.86 4633.7 4311.01 4636.74 Q4323.16 4639.78 4336.41 4639.78 Q4359.5 4639.78 4371.53 4630.66 Q4383.68 4621.55 4383.68 4604.17 Q4383.68 4588.13 4372.38 4579.13 Q4361.2 4570.02 4341.15 4570.02 L4320 4570.02 L4320 4549.85 L4342.12 4549.85 Q4360.23 4549.85 4369.83 4542.68 Q4379.43 4535.38 4379.43 4521.77 Q4379.43 4507.8 4369.46 4500.38 Q4359.62 4492.85 4341.15 4492.85 Q4331.06 4492.85 4319.52 4495.04 Q4307.97 4497.22 4294.12 4501.84 L4294.12 4479.97 Q4308.09 4476.08 4320.25 4474.13 Q4332.52 4472.19 4343.34 4472.19 Q4371.29 4472.19 4387.57 4484.95 Q4403.86 4497.59 4403.86 4519.22 Q4403.86 4534.29 4395.23 4544.74 Q4386.6 4555.07 4370.68 4559.08 Z\" fill=\"#000000\" fill-rule=\"evenodd\" fill-opacity=\"1\" /><path clip-path=\"url(#clip580)\" d=\"M5424.14 4496.86 L5362.16 4593.72 L5424.14 4593.72 L5424.14 4496.86 M5417.7 4475.47 L5448.57 4475.47 L5448.57 4593.72 L5474.45 4593.72 L5474.45 4614.13 L5448.57 4614.13 L5448.57 4656.91 L5424.14 4656.91 L5424.14 4614.13 L5342.23 4614.13 L5342.23 4590.44 L5417.7 4475.47 Z\" fill=\"#000000\" fill-rule=\"evenodd\" fill-opacity=\"1\" /><path clip-path=\"url(#clip580)\" d=\"M6417.26 4475.47 L6513.63 4475.47 L6513.63 4496.13 L6439.75 4496.13 L6439.75 4540.61 Q6445.09 4538.79 6450.44 4537.94 Q6455.79 4536.96 6461.13 4536.96 Q6491.52 4536.96 6509.26 4553.61 Q6527 4570.26 6527 4598.7 Q6527 4627.99 6508.77 4644.27 Q6490.54 4660.44 6457.37 4660.44 Q6445.94 4660.44 6434.03 4658.49 Q6422.25 4656.55 6409.61 4652.66 L6409.61 4627.99 Q6420.54 4633.94 6432.21 4636.86 Q6443.88 4639.78 6456.88 4639.78 Q6477.9 4639.78 6490.18 4628.72 Q6502.45 4617.66 6502.45 4598.7 Q6502.45 4579.74 6490.18 4568.68 Q6477.9 4557.62 6456.88 4557.62 Q6447.04 4557.62 6437.19 4559.81 Q6427.47 4562 6417.26 4566.62 L6417.26 4475.47 Z\" fill=\"#000000\" fill-rule=\"evenodd\" fill-opacity=\"1\" /><polyline clip-path=\"url(#clip582)\" style=\"stroke:#000000; stroke-linecap:butt; stroke-linejoin:round; stroke-width:6; stroke-opacity:0.1; fill:none\" points=\"\n  638.509,4381.58 6998.29,4381.58 \n  \"/>\n<polyline clip-path=\"url(#clip582)\" style=\"stroke:#000000; stroke-linecap:butt; stroke-linejoin:round; stroke-width:6; stroke-opacity:0.1; fill:none\" points=\"\n  638.509,3321.62 6998.29,3321.62 \n  \"/>\n<polyline clip-path=\"url(#clip582)\" style=\"stroke:#000000; stroke-linecap:butt; stroke-linejoin:round; stroke-width:6; stroke-opacity:0.1; fill:none\" points=\"\n  638.509,2261.66 6998.29,2261.66 \n  \"/>\n<polyline clip-path=\"url(#clip582)\" style=\"stroke:#000000; stroke-linecap:butt; stroke-linejoin:round; stroke-width:6; stroke-opacity:0.1; fill:none\" points=\"\n  638.509,1201.7 6998.29,1201.7 \n  \"/>\n<polyline clip-path=\"url(#clip582)\" style=\"stroke:#000000; stroke-linecap:butt; stroke-linejoin:round; stroke-width:6; stroke-opacity:0.1; fill:none\" points=\"\n  638.509,141.732 6998.29,141.732 \n  \"/>\n<polyline clip-path=\"url(#clip580)\" style=\"stroke:#000000; stroke-linecap:butt; stroke-linejoin:round; stroke-width:12; stroke-opacity:1; fill:none\" points=\"\n  638.509,4381.58 638.509,141.732 \n  \"/>\n<polyline clip-path=\"url(#clip580)\" style=\"stroke:#000000; stroke-linecap:butt; stroke-linejoin:round; stroke-width:12; stroke-opacity:1; fill:none\" points=\"\n  638.509,4381.58 714.826,4381.58 \n  \"/>\n<polyline clip-path=\"url(#clip580)\" style=\"stroke:#000000; stroke-linecap:butt; stroke-linejoin:round; stroke-width:12; stroke-opacity:1; fill:none\" points=\"\n  638.509,3321.62 714.826,3321.62 \n  \"/>\n<polyline clip-path=\"url(#clip580)\" style=\"stroke:#000000; stroke-linecap:butt; stroke-linejoin:round; stroke-width:12; stroke-opacity:1; fill:none\" points=\"\n  638.509,2261.66 714.826,2261.66 \n  \"/>\n<polyline clip-path=\"url(#clip580)\" style=\"stroke:#000000; stroke-linecap:butt; stroke-linejoin:round; stroke-width:12; stroke-opacity:1; fill:none\" points=\"\n  638.509,1201.7 714.826,1201.7 \n  \"/>\n<polyline clip-path=\"url(#clip580)\" style=\"stroke:#000000; stroke-linecap:butt; stroke-linejoin:round; stroke-width:12; stroke-opacity:1; fill:none\" points=\"\n  638.509,141.732 714.826,141.732 \n  \"/>\n<path clip-path=\"url(#clip580)\" d=\"M214.903 4383.95 L370.701 4383.95 L370.701 4404.61 L214.903 4404.61 L214.903 4383.95 Z\" fill=\"#000000\" fill-rule=\"evenodd\" fill-opacity=\"1\" /><path clip-path=\"url(#clip580)\" d=\"M444.832 4451.64 L530.509 4451.64 L530.509 4472.3 L415.301 4472.3 L415.301 4451.64 Q429.277 4437.18 453.339 4412.88 Q477.523 4388.45 483.721 4381.4 Q495.509 4368.15 500.127 4359.04 Q504.867 4349.8 504.867 4340.93 Q504.867 4326.47 494.658 4317.36 Q484.571 4308.24 468.287 4308.24 Q456.742 4308.24 443.86 4312.25 Q431.1 4316.26 416.516 4324.41 L416.516 4299.61 Q431.343 4293.66 444.224 4290.62 Q457.106 4287.58 467.801 4287.58 Q495.995 4287.58 512.766 4301.68 Q529.537 4315.78 529.537 4339.35 Q529.537 4350.53 525.283 4360.62 Q521.151 4370.59 510.092 4384.2 Q507.054 4387.72 490.769 4404.61 Q474.485 4421.38 444.832 4451.64 Z\" fill=\"#000000\" fill-rule=\"evenodd\" fill-opacity=\"1\" /><path clip-path=\"url(#clip580)\" d=\"M212.958 3323.99 L368.756 3323.99 L368.756 3344.65 L212.958 3344.65 L212.958 3323.99 Z\" fill=\"#000000\" fill-rule=\"evenodd\" fill-opacity=\"1\" /><path clip-path=\"url(#clip580)\" d=\"M425.995 3391.68 L466.099 3391.68 L466.099 3253.26 L422.471 3262.01 L422.471 3239.65 L465.856 3230.9 L490.405 3230.9 L490.405 3391.68 L530.509 3391.68 L530.509 3412.34 L425.995 3412.34 L425.995 3391.68 Z\" fill=\"#000000\" fill-rule=\"evenodd\" fill-opacity=\"1\" /><path clip-path=\"url(#clip580)\" d=\"M467.801 2187.1 Q448.843 2187.1 439.242 2205.82 Q429.763 2224.41 429.763 2261.84 Q429.763 2299.15 439.242 2317.86 Q448.843 2336.46 467.801 2336.46 Q486.88 2336.46 496.36 2317.86 Q505.96 2299.15 505.96 2261.84 Q505.96 2224.41 496.36 2205.82 Q486.88 2187.1 467.801 2187.1 M467.801 2167.66 Q498.304 2167.66 514.346 2191.84 Q530.509 2215.9 530.509 2261.84 Q530.509 2307.66 514.346 2331.84 Q498.304 2355.9 467.801 2355.9 Q437.297 2355.9 421.134 2331.84 Q405.093 2307.66 405.093 2261.84 Q405.093 2215.9 421.134 2191.84 Q437.297 2167.66 467.801 2167.66 Z\" fill=\"#000000\" fill-rule=\"evenodd\" fill-opacity=\"1\" /><path clip-path=\"url(#clip580)\" d=\"M425.995 1271.76 L466.099 1271.76 L466.099 1133.34 L422.471 1142.09 L422.471 1119.73 L465.856 1110.98 L490.405 1110.98 L490.405 1271.76 L530.509 1271.76 L530.509 1292.42 L425.995 1292.42 L425.995 1271.76 Z\" fill=\"#000000\" fill-rule=\"evenodd\" fill-opacity=\"1\" /><path clip-path=\"url(#clip580)\" d=\"M444.832 211.793 L530.509 211.793 L530.509 232.452 L415.301 232.452 L415.301 211.793 Q429.277 197.331 453.339 173.026 Q477.523 148.599 483.721 141.55 Q495.509 128.304 500.127 119.189 Q504.867 109.953 504.867 101.081 Q504.867 86.6197 494.658 77.5052 Q484.571 68.3907 468.287 68.3907 Q456.742 68.3907 443.86 72.4011 Q431.1 76.4115 416.516 84.5538 L416.516 59.7622 Q431.343 53.8074 444.224 50.7692 Q457.106 47.7311 467.801 47.7311 Q495.995 47.7311 512.766 61.8282 Q529.537 75.9253 529.537 99.5016 Q529.537 110.682 525.283 120.769 Q521.151 130.734 510.092 144.345 Q507.054 147.869 490.769 164.762 Q474.485 181.532 444.832 211.793 Z\" fill=\"#000000\" fill-rule=\"evenodd\" fill-opacity=\"1\" /><polyline clip-path=\"url(#clip582)\" style=\"stroke:#000000; stroke-linecap:butt; stroke-linejoin:round; stroke-width:516; stroke-opacity:1; fill:none\" points=\"\n  6613.32,2346.39 6491.35,2275 \n  \"/>\n<polyline clip-path=\"url(#clip582)\" style=\"stroke:#000000; stroke-linecap:butt; stroke-linejoin:round; stroke-width:516; stroke-opacity:1; fill:none\" points=\"\n  6247.4,2132.23 6125.42,2060.85 \n  \"/>\n<polyline clip-path=\"url(#clip582)\" style=\"stroke:#e26f46; stroke-linecap:butt; stroke-linejoin:round; stroke-width:408; stroke-opacity:1; fill:none\" points=\"\n  6735.3,2417.77 6003.45,1989.46 \n  \"/>\n<path clip-path=\"url(#clip582)\" d=\"\nM2758.43 2447.61 L2758.43 2499.69 L2763.54 2551.51 L2773.7 2602.58 L2788.81 2652.41 L2808.74 2700.52 L2833.29 2746.44 L2862.22 2789.74 L2895.25 2829.99 L2932.07 2866.81 \n  L2972.33 2899.85 L3015.62 2928.78 L3061.55 2953.33 L3109.66 2973.25 L3159.49 2988.37 L3210.56 2998.53 L3262.38 3003.63 L3314.45 3003.63 L3366.27 2998.53 L3417.35 2988.37 \n  L3467.18 2973.25 L3515.29 2953.33 L3561.21 2928.78 L3604.51 2899.85 L3644.76 2866.81 L3681.58 2829.99 L3714.61 2789.74 L3743.54 2746.44 L3768.09 2700.52 L3788.02 2652.41 \n  L3803.13 2602.58 L3813.29 2551.51 L3818.4 2499.69 L3818.4 2447.61 L3813.29 2395.79 L3803.13 2344.72 L3788.02 2294.89 L3768.09 2246.78 L3743.54 2200.86 L3714.61 2157.56 \n  L3681.58 2117.31 L3644.76 2080.49 L3604.51 2047.45 L3561.21 2018.52 L3515.29 1993.98 L3467.18 1974.05 L3417.35 1958.93 L3366.27 1948.77 L3314.45 1943.67 L3262.38 1943.67 \n  L3210.56 1948.77 L3159.49 1958.93 L3109.66 1974.05 L3061.55 1993.98 L3015.62 2018.52 L2972.33 2047.45 L2932.07 2080.49 L2895.25 2117.31 L2862.22 2157.56 L2833.29 2200.86 \n  L2808.74 2246.78 L2788.81 2294.89 L2773.7 2344.72 L2763.54 2395.79 L2758.43 2447.61 L2758.43 2447.61  Z\n  \" fill=\"#c271d2\" fill-rule=\"evenodd\" fill-opacity=\"0.5\"/>\n<polyline clip-path=\"url(#clip582)\" style=\"stroke:#000000; stroke-linecap:butt; stroke-linejoin:round; stroke-width:12; stroke-opacity:0.5; fill:none\" points=\"\n  2758.43,2447.61 2758.43,2499.69 2763.54,2551.51 2773.7,2602.58 2788.81,2652.41 2808.74,2700.52 2833.29,2746.44 2862.22,2789.74 2895.25,2829.99 2932.07,2866.81 \n  2972.33,2899.85 3015.62,2928.78 3061.55,2953.33 3109.66,2973.25 3159.49,2988.37 3210.56,2998.53 3262.38,3003.63 3314.45,3003.63 3366.27,2998.53 3417.35,2988.37 \n  3467.18,2973.25 3515.29,2953.33 3561.21,2928.78 3604.51,2899.85 3644.76,2866.81 3681.58,2829.99 3714.61,2789.74 3743.54,2746.44 3768.09,2700.52 3788.02,2652.41 \n  3803.13,2602.58 3813.29,2551.51 3818.4,2499.69 3818.4,2447.61 3813.29,2395.79 3803.13,2344.72 3788.02,2294.89 3768.09,2246.78 3743.54,2200.86 3714.61,2157.56 \n  3681.58,2117.31 3644.76,2080.49 3604.51,2047.45 3561.21,2018.52 3515.29,1993.98 3467.18,1974.05 3417.35,1958.93 3366.27,1948.77 3314.45,1943.67 3262.38,1943.67 \n  3210.56,1948.77 3159.49,1958.93 3109.66,1974.05 3061.55,1993.98 3015.62,2018.52 2972.33,2047.45 2932.07,2080.49 2895.25,2117.31 2862.22,2157.56 2833.29,2200.86 \n  2808.74,2246.78 2788.81,2294.89 2773.7,2344.72 2763.54,2395.79 2758.43,2447.61 \n  \"/>\n<polyline clip-path=\"url(#clip582)\" style=\"stroke:#3da44d; stroke-linecap:butt; stroke-linejoin:round; stroke-width:12; stroke-opacity:1; fill:none\" points=\"\n  1168.49,2261.66 1165.37,2266.8 1203.86,2275.95 1235.9,2271.04 1274.8,2248.02 1313.9,2210.82 1358.74,2152.09 1410.68,2085.8 1465.39,2017.4 1523.63,1946.18 \n  1586.41,1870.96 1654.6,1790.81 1725.48,1711.79 1798.84,1634.46 1874.79,1558.94 1953.38,1485.67 2035.22,1416.28 2120.77,1354.97 2209.86,1301.42 2303.35,1255.71 \n  2401.33,1217.82 2501.48,1185.08 2602.61,1156.27 2704.76,1131.6 2807.95,1111.2 2912.53,1095.25 3018.73,1083.92 3125.14,1080 3230.06,1086.53 3333.52,1103.26 \n  3435.81,1130.58 3536.99,1167.16 3636.95,1206.81 3736.85,1246.53 3836.71,1286.22 3936.54,1325.88 4036.34,1365.51 4136.11,1405.11 4235.85,1444.68 4335.57,1484.2 \n  4435.26,1523.67 4534.94,1563.09 4634.59,1602.46 4734.24,1641.76 4833.87,1680.98 4933.46,1720.11 5032.96,1759.15 5132.48,1798.07 5232.05,1836.86 5331.66,1875.4 \n  5431.32,1913.75 5531.07,1951.87 5630.41,1989.72 5723.05,2023.79 5806.46,2052.75 5881.29,2077 5948.39,2097.17 6008.45,2113.91 6062.18,2127.7 6110.23,2139.01 \n  6153.12,2148.28 6191.32,2155.95 6225.26,2162.44 6255.28,2168.21 6281.73,2173.58 6304.91,2178.87 6325.06,2184.36 6342.27,2190.4 6356.92,2196.88 6369.37,2203.62 \n  \n  \"/>\n<path clip-path=\"url(#clip580)\" d=\"\nM3632.87 4240.26 L6782.29 4240.26 L6782.29 3605.22 L3632.87 3605.22  Z\n  \" fill=\"#ffffff\" fill-rule=\"evenodd\" fill-opacity=\"1\"/>\n<polyline clip-path=\"url(#clip580)\" style=\"stroke:#000000; stroke-linecap:butt; stroke-linejoin:round; stroke-width:12; stroke-opacity:1; fill:none\" points=\"\n  3632.87,4240.26 6782.29,4240.26 6782.29,3605.22 3632.87,3605.22 3632.87,4240.26 \n  \"/>\n<polyline clip-path=\"url(#clip580)\" style=\"stroke:#3da44d; stroke-linecap:butt; stroke-linejoin:round; stroke-width:21; stroke-opacity:1; fill:none\" points=\"\n  3704.87,3922.74 4136.85,3922.74 \n  \"/>\n<path clip-path=\"url(#clip580)\" d=\"M4208.85 3832.02 L4323.57 3832.02 L4323.57 3852.67 L4233.4 3852.67 L4233.4 3906.39 L4319.81 3906.39 L4319.81 3927.05 L4233.4 3927.05 L4233.4 3992.8 L4325.76 3992.8 L4325.76 4013.46 L4208.85 4013.46 L4208.85 3832.02 Z\" fill=\"#000000\" fill-rule=\"evenodd\" fill-opacity=\"1\" /><path clip-path=\"url(#clip580)\" d=\"M4478.28 3877.34 L4429.06 3943.58 L4480.83 4013.46 L4454.46 4013.46 L4414.84 3959.98 L4375.22 4013.46 L4348.85 4013.46 L4401.71 3942.24 L4353.35 3877.34 L4379.72 3877.34 L4415.81 3925.83 L4451.91 3877.34 L4478.28 3877.34 Z\" fill=\"#000000\" fill-rule=\"evenodd\" fill-opacity=\"1\" /><path clip-path=\"url(#clip580)\" d=\"M4621.19 3939.81 L4621.19 3950.75 L4518.38 3950.75 Q4519.84 3973.84 4532.24 3985.99 Q4544.75 3998.02 4566.99 3998.02 Q4579.87 3998.02 4591.9 3994.86 Q4604.06 3991.7 4615.97 3985.38 L4615.97 4006.53 Q4603.94 4011.63 4591.3 4014.31 Q4578.66 4016.98 4565.65 4016.98 Q4533.09 4016.98 4514.01 3998.02 Q4495.05 3979.06 4495.05 3946.74 Q4495.05 3913.32 4513.03 3893.75 Q4531.14 3874.06 4561.77 3874.06 Q4589.23 3874.06 4605.15 3891.81 Q4621.19 3909.43 4621.19 3939.81 M4598.83 3933.25 Q4598.59 3914.9 4588.5 3903.96 Q4578.54 3893.02 4562.01 3893.02 Q4543.29 3893.02 4531.99 3903.59 Q4520.81 3914.17 4519.11 3933.37 L4598.83 3933.25 Z\" fill=\"#000000\" fill-rule=\"evenodd\" fill-opacity=\"1\" /><path clip-path=\"url(#clip580)\" d=\"M4755.84 3882.57 L4755.84 3903.47 Q4746.37 3898.25 4736.77 3895.7 Q4727.29 3893.02 4717.56 3893.02 Q4695.81 3893.02 4683.78 3906.88 Q4671.75 3920.61 4671.75 3945.52 Q4671.75 3970.43 4683.78 3984.29 Q4695.81 3998.02 4717.56 3998.02 Q4727.29 3998.02 4736.77 3995.47 Q4746.37 3992.8 4755.84 3987.57 L4755.84 4008.23 Q4746.49 4012.6 4736.4 4014.79 Q4726.44 4016.98 4715.13 4016.98 Q4684.39 4016.98 4666.28 3997.66 Q4648.17 3978.33 4648.17 3945.52 Q4648.17 3912.22 4666.4 3893.14 Q4684.75 3874.06 4716.59 3874.06 Q4726.92 3874.06 4736.77 3876.25 Q4746.61 3878.32 4755.84 3882.57 Z\" fill=\"#000000\" fill-rule=\"evenodd\" fill-opacity=\"1\" /><path clip-path=\"url(#clip580)\" d=\"M4792.42 3959.74 L4792.42 3877.34 L4814.79 3877.34 L4814.79 3958.89 Q4814.79 3978.21 4822.32 3987.93 Q4829.85 3997.54 4844.92 3997.54 Q4863.03 3997.54 4873.48 3985.99 Q4884.06 3974.45 4884.06 3954.51 L4884.06 3877.34 L4906.42 3877.34 L4906.42 4013.46 L4884.06 4013.46 L4884.06 3992.55 Q4875.91 4004.95 4865.1 4011.02 Q4854.4 4016.98 4840.18 4016.98 Q4816.73 4016.98 4804.58 4002.4 Q4792.42 3987.81 4792.42 3959.74 M4848.69 3874.06 L4848.69 3874.06 Z\" fill=\"#000000\" fill-rule=\"evenodd\" fill-opacity=\"1\" /><path clip-path=\"url(#clip580)\" d=\"M4974.59 3838.7 L4974.59 3877.34 L5020.65 3877.34 L5020.65 3894.72 L4974.59 3894.72 L4974.59 3968.61 Q4974.59 3985.26 4979.09 3990 Q4983.71 3994.74 4997.68 3994.74 L5020.65 3994.74 L5020.65 4013.46 L4997.68 4013.46 Q4971.8 4013.46 4961.95 4003.85 Q4952.11 3994.13 4952.11 3968.61 L4952.11 3894.72 L4935.71 3894.72 L4935.71 3877.34 L4952.11 3877.34 L4952.11 3838.7 L4974.59 3838.7 Z\" fill=\"#000000\" fill-rule=\"evenodd\" fill-opacity=\"1\" /><path clip-path=\"url(#clip580)\" d=\"M5166.49 3939.81 L5166.49 3950.75 L5063.67 3950.75 Q5065.13 3973.84 5077.53 3985.99 Q5090.04 3998.02 5112.28 3998.02 Q5125.17 3998.02 5137.2 3994.86 Q5149.35 3991.7 5161.26 3985.38 L5161.26 4006.53 Q5149.23 4011.63 5136.59 4014.31 Q5123.95 4016.98 5110.95 4016.98 Q5078.38 4016.98 5059.3 3998.02 Q5040.34 3979.06 5040.34 3946.74 Q5040.34 3913.32 5058.33 3893.75 Q5076.43 3874.06 5107.06 3874.06 Q5134.52 3874.06 5150.44 3891.81 Q5166.49 3909.43 5166.49 3939.81 M5144.12 3933.25 Q5143.88 3914.9 5133.79 3903.96 Q5123.83 3893.02 5107.3 3893.02 Q5088.59 3893.02 5077.28 3903.59 Q5066.1 3914.17 5064.4 3933.37 L5144.12 3933.25 Z\" fill=\"#000000\" fill-rule=\"evenodd\" fill-opacity=\"1\" /><path clip-path=\"url(#clip580)\" d=\"M5292.75 3898 L5292.75 3824.36 L5315.11 3824.36 L5315.11 4013.46 L5292.75 4013.46 L5292.75 3993.04 Q5285.7 4005.19 5274.89 4011.15 Q5264.19 4016.98 5249.12 4016.98 Q5224.45 4016.98 5208.9 3997.29 Q5193.46 3977.6 5193.46 3945.52 Q5193.46 3913.44 5208.9 3893.75 Q5224.45 3874.06 5249.12 3874.06 Q5264.19 3874.06 5274.89 3880.02 Q5285.7 3885.85 5292.75 3898 M5216.55 3945.52 Q5216.55 3970.19 5226.64 3984.29 Q5236.85 3998.26 5254.59 3998.26 Q5272.34 3998.26 5282.54 3984.29 Q5292.75 3970.19 5292.75 3945.52 Q5292.75 3920.85 5282.54 3906.88 Q5272.34 3892.78 5254.59 3892.78 Q5236.85 3892.78 5226.64 3906.88 Q5216.55 3920.85 5216.55 3945.52 Z\" fill=\"#000000\" fill-rule=\"evenodd\" fill-opacity=\"1\" /><path clip-path=\"url(#clip580)\" d=\"M5416.1 3832.02 L5569.59 3832.02 L5569.59 3852.67 L5505.18 3852.67 L5505.18 4013.46 L5480.51 4013.46 L5480.51 3852.67 L5416.1 3852.67 L5416.1 3832.02 Z\" fill=\"#000000\" fill-rule=\"evenodd\" fill-opacity=\"1\" /><path clip-path=\"url(#clip580)\" d=\"M5634.61 3898.25 Q5630.84 3896.06 5626.34 3895.09 Q5621.97 3893.99 5616.62 3893.99 Q5597.66 3893.99 5587.46 3906.39 Q5577.37 3918.66 5577.37 3941.75 L5577.37 4013.46 L5554.89 4013.46 L5554.89 3877.34 L5577.37 3877.34 L5577.37 3898.49 Q5584.42 3886.09 5595.72 3880.14 Q5607.02 3874.06 5623.18 3874.06 Q5625.49 3874.06 5628.29 3874.43 Q5631.08 3874.67 5634.49 3875.28 L5634.61 3898.25 Z\" fill=\"#000000\" fill-rule=\"evenodd\" fill-opacity=\"1\" /><path clip-path=\"url(#clip580)\" d=\"M5719.92 3945.04 Q5692.82 3945.04 5682.37 3951.23 Q5671.92 3957.43 5671.92 3972.38 Q5671.92 3984.29 5679.69 3991.34 Q5687.59 3998.26 5701.08 3998.26 Q5719.68 3998.26 5730.86 3985.14 Q5742.16 3971.89 5742.16 3950.02 L5742.16 3945.04 L5719.92 3945.04 M5764.52 3935.8 L5764.52 4013.46 L5742.16 4013.46 L5742.16 3992.8 Q5734.5 4005.19 5723.08 4011.15 Q5711.66 4016.98 5695.13 4016.98 Q5674.23 4016.98 5661.83 4005.31 Q5649.56 3993.52 5649.56 3973.84 Q5649.56 3950.87 5664.87 3939.2 Q5680.3 3927.54 5710.81 3927.54 L5742.16 3927.54 L5742.16 3925.35 Q5742.16 3909.91 5731.95 3901.53 Q5721.86 3893.02 5703.51 3893.02 Q5691.85 3893.02 5680.79 3895.82 Q5669.73 3898.61 5659.52 3904.2 L5659.52 3883.54 Q5671.79 3878.8 5683.34 3876.49 Q5694.89 3874.06 5705.82 3874.06 Q5735.35 3874.06 5749.94 3889.38 Q5764.52 3904.69 5764.52 3935.8 Z\" fill=\"#000000\" fill-rule=\"evenodd\" fill-opacity=\"1\" /><path clip-path=\"url(#clip580)\" d=\"M5810.58 3877.34 L5832.94 3877.34 L5832.94 4015.89 Q5832.94 4041.89 5822.97 4053.56 Q5813.13 4065.23 5791.13 4065.23 L5782.63 4065.23 L5782.63 4046.27 L5788.58 4046.27 Q5801.34 4046.27 5805.96 4040.31 Q5810.58 4034.48 5810.58 4015.89 L5810.58 3877.34 M5810.58 3824.36 L5832.94 3824.36 L5832.94 3852.67 L5810.58 3852.67 L5810.58 3824.36 Z\" fill=\"#000000\" fill-rule=\"evenodd\" fill-opacity=\"1\" /><path clip-path=\"url(#clip580)\" d=\"M5996.15 3939.81 L5996.15 3950.75 L5893.34 3950.75 Q5894.8 3973.84 5907.19 3985.99 Q5919.71 3998.02 5941.95 3998.02 Q5954.83 3998.02 5966.86 3994.86 Q5979.02 3991.7 5990.93 3985.38 L5990.93 4006.53 Q5978.89 4011.63 5966.26 4014.31 Q5953.62 4016.98 5940.61 4016.98 Q5908.04 4016.98 5888.96 3998.02 Q5870.01 3979.06 5870.01 3946.74 Q5870.01 3913.32 5887.99 3893.75 Q5906.1 3874.06 5936.72 3874.06 Q5964.19 3874.06 5980.11 3891.81 Q5996.15 3909.43 5996.15 3939.81 M5973.79 3933.25 Q5973.55 3914.9 5963.46 3903.96 Q5953.49 3893.02 5936.97 3893.02 Q5918.25 3893.02 5906.95 3903.59 Q5895.77 3914.17 5894.07 3933.37 L5973.79 3933.25 Z\" fill=\"#000000\" fill-rule=\"evenodd\" fill-opacity=\"1\" /><path clip-path=\"url(#clip580)\" d=\"M6130.8 3882.57 L6130.8 3903.47 Q6121.32 3898.25 6111.72 3895.7 Q6102.24 3893.02 6092.52 3893.02 Q6070.77 3893.02 6058.74 3906.88 Q6046.71 3920.61 6046.71 3945.52 Q6046.71 3970.43 6058.74 3984.29 Q6070.77 3998.02 6092.52 3998.02 Q6102.24 3998.02 6111.72 3995.47 Q6121.32 3992.8 6130.8 3987.57 L6130.8 4008.23 Q6121.45 4012.6 6111.36 4014.79 Q6101.39 4016.98 6090.09 4016.98 Q6059.34 4016.98 6041.24 3997.66 Q6023.13 3978.33 6023.13 3945.52 Q6023.13 3912.22 6041.36 3893.14 Q6059.71 3874.06 6091.55 3874.06 Q6101.88 3874.06 6111.72 3876.25 Q6121.57 3878.32 6130.8 3882.57 Z\" fill=\"#000000\" fill-rule=\"evenodd\" fill-opacity=\"1\" /><path clip-path=\"url(#clip580)\" d=\"M6191.81 3838.7 L6191.81 3877.34 L6237.87 3877.34 L6237.87 3894.72 L6191.81 3894.72 L6191.81 3968.61 Q6191.81 3985.26 6196.31 3990 Q6200.92 3994.74 6214.9 3994.74 L6237.87 3994.74 L6237.87 4013.46 L6214.9 4013.46 Q6189.01 4013.46 6179.17 4003.85 Q6169.33 3994.13 6169.33 3968.61 L6169.33 3894.72 L6152.92 3894.72 L6152.92 3877.34 L6169.33 3877.34 L6169.33 3838.7 L6191.81 3838.7 Z\" fill=\"#000000\" fill-rule=\"evenodd\" fill-opacity=\"1\" /><path clip-path=\"url(#clip580)\" d=\"M6320.02 3893.02 Q6302.03 3893.02 6291.58 3907.12 Q6281.13 3921.09 6281.13 3945.52 Q6281.13 3969.95 6291.46 3984.05 Q6301.91 3998.02 6320.02 3998.02 Q6337.89 3998.02 6348.34 3983.92 Q6358.79 3969.83 6358.79 3945.52 Q6358.79 3921.34 6348.34 3907.24 Q6337.89 3893.02 6320.02 3893.02 M6320.02 3874.06 Q6349.19 3874.06 6365.84 3893.02 Q6382.49 3911.98 6382.49 3945.52 Q6382.49 3978.94 6365.84 3998.02 Q6349.19 4016.98 6320.02 4016.98 Q6290.73 4016.98 6274.08 3998.02 Q6257.56 3978.94 6257.56 3945.52 Q6257.56 3911.98 6274.08 3893.02 Q6290.73 3874.06 6320.02 3874.06 Z\" fill=\"#000000\" fill-rule=\"evenodd\" fill-opacity=\"1\" /><path clip-path=\"url(#clip580)\" d=\"M6498.42 3898.25 Q6494.66 3896.06 6490.16 3895.09 Q6485.78 3893.99 6480.44 3893.99 Q6461.48 3893.99 6451.27 3906.39 Q6441.18 3918.66 6441.18 3941.75 L6441.18 4013.46 L6418.7 4013.46 L6418.7 3877.34 L6441.18 3877.34 L6441.18 3898.49 Q6448.23 3886.09 6459.53 3880.14 Q6470.84 3874.06 6487 3874.06 Q6489.31 3874.06 6492.1 3874.43 Q6494.9 3874.67 6498.3 3875.28 L6498.42 3898.25 Z\" fill=\"#000000\" fill-rule=\"evenodd\" fill-opacity=\"1\" /><path clip-path=\"url(#clip580)\" d=\"M6578.51 4026.09 Q6569.03 4050.4 6560.04 4057.81 Q6551.04 4065.23 6535.97 4065.23 L6518.11 4065.23 L6518.11 4046.51 L6531.23 4046.51 Q6540.47 4046.51 6545.57 4042.14 Q6550.68 4037.76 6556.88 4021.48 L6560.89 4011.27 L6505.84 3877.34 L6529.53 3877.34 L6572.07 3983.8 L6614.6 3877.34 L6638.3 3877.34 L6578.51 4026.09 Z\" fill=\"#000000\" fill-rule=\"evenodd\" fill-opacity=\"1\" /></svg>\n"
     },
     "metadata": {},
     "output_type": "display_data"
    },
    {
     "data": {
      "text/plain": [
       "true"
      ]
     },
     "execution_count": 130,
     "metadata": {},
     "output_type": "execute_result"
    }
   ],
   "source": [
    "# visualize(Xexec1, obstacles=obstacles1, xlims=[-3,3], ylims=[-1,6], fps=100)\n",
    "XX = [[x[2], -x[1], x[3], x[4]-pi/2] for x in Xexec1]\n",
    "OO = [Obstacle([x.center[2], -x.center[1]], x.vel, x.radius) for x in obstacles1]\n",
    "visualize(XX, obstacles=OO, xlims=[-0.5,5.5], ylims=[-2,2], fps=100, save_frame=(length(XX)-1, \"../results/phi_collision_1.png\"))\n",
    "# visualize(Xexec1, obstacles=obstacles1, xlims=[-3,3], ylims=[-1,6], fps=100, save_frame=(length(Xexec1)-1, \"../results/phi_collision_1.png\"))"
   ]
  },
  {
   "cell_type": "code",
   "execution_count": 126,
   "metadata": {},
   "outputs": [],
   "source": [
    "Random.seed!(5)\n",
    "n = 2\n",
    "obstacles2 = [Obstacle([rand()*3-1, rand()*1+i*2-1.5], [0,0], obs_radius) for i in 1:n]\n",
    "obstacles2 = [Obstacle([x, y], [0,0], obs_radius) for (x,y) in [(0.5,1), (-1.4,2), (-0.3,3)]]\n",
    "x0=[0,0,0,π/2]\n",
    "xg=[0,5,0,π/2]\n",
    "obj_cost = [1,1,1,0.1]\n",
    "rp = RP(net, obj_cost, x0, xg)\n",
    "\n",
    "err_bound = [1, 1, 0.1, 0.1]*10\n",
    "ctrl = NvController(err_bound, warm_start=true, bin_precision=1e-1)\n",
    "# ctrl = ShootingController(100)\n",
    "# ci = CollisionIndex(0.3148358231569248, 0.006552565247571583, 0.10640599850882151, 0.23565863823469912)\n",
    "ci = CollisionIndex(0.0931661, 0.00528955, 0.382115, 1.33407)\n",
    "Xexec2, Uexec, safe_sets, Xrefs, infeas = tracking(rp, ctrl, fps=10, tf=100, obstacles=obstacles2, safety_index=ci, verbose=false);"
   ]
  },
  {
   "cell_type": "code",
   "execution_count": 127,
   "metadata": {},
   "outputs": [
    {
     "data": {
      "image/svg+xml": "<?xml version=\"1.0\" encoding=\"utf-8\"?>\n<svg xmlns=\"http://www.w3.org/2000/svg\" xmlns:xlink=\"http://www.w3.org/1999/xlink\" width=\"1800\" height=\"1200\" viewBox=\"0 0 7200 4800\">\n<defs>\n  <clipPath id=\"clip380\">\n    <rect x=\"0\" y=\"0\" width=\"7200\" height=\"4800\"/>\n  </clipPath>\n</defs>\n<path clip-path=\"url(#clip380)\" d=\"\nM0 4800 L7200 4800 L7200 0 L0 0  Z\n  \" fill=\"#ffffff\" fill-rule=\"evenodd\" fill-opacity=\"1\"/>\n<defs>\n  <clipPath id=\"clip381\">\n    <rect x=\"1440\" y=\"0\" width=\"5041\" height=\"4800\"/>\n  </clipPath>\n</defs>\n<path clip-path=\"url(#clip380)\" d=\"\nM716.067 4381.58 L6920.73 4381.58 L6920.73 141.732 L716.067 141.732  Z\n  \" fill=\"#ffffff\" fill-rule=\"evenodd\" fill-opacity=\"1\"/>\n<defs>\n  <clipPath id=\"clip382\">\n    <rect x=\"716\" y=\"141\" width=\"6206\" height=\"4241\"/>\n  </clipPath>\n</defs>\n<polyline clip-path=\"url(#clip382)\" style=\"stroke:#000000; stroke-linecap:butt; stroke-linejoin:round; stroke-width:6; stroke-opacity:0.1; fill:none\" points=\"\n  1233.12,4381.58 1233.12,141.732 \n  \"/>\n<polyline clip-path=\"url(#clip382)\" style=\"stroke:#000000; stroke-linecap:butt; stroke-linejoin:round; stroke-width:6; stroke-opacity:0.1; fill:none\" points=\"\n  2267.23,4381.58 2267.23,141.732 \n  \"/>\n<polyline clip-path=\"url(#clip382)\" style=\"stroke:#000000; stroke-linecap:butt; stroke-linejoin:round; stroke-width:6; stroke-opacity:0.1; fill:none\" points=\"\n  3301.34,4381.58 3301.34,141.732 \n  \"/>\n<polyline clip-path=\"url(#clip382)\" style=\"stroke:#000000; stroke-linecap:butt; stroke-linejoin:round; stroke-width:6; stroke-opacity:0.1; fill:none\" points=\"\n  4335.45,4381.58 4335.45,141.732 \n  \"/>\n<polyline clip-path=\"url(#clip382)\" style=\"stroke:#000000; stroke-linecap:butt; stroke-linejoin:round; stroke-width:6; stroke-opacity:0.1; fill:none\" points=\"\n  5369.56,4381.58 5369.56,141.732 \n  \"/>\n<polyline clip-path=\"url(#clip382)\" style=\"stroke:#000000; stroke-linecap:butt; stroke-linejoin:round; stroke-width:6; stroke-opacity:0.1; fill:none\" points=\"\n  6403.67,4381.58 6403.67,141.732 \n  \"/>\n<polyline clip-path=\"url(#clip380)\" style=\"stroke:#000000; stroke-linecap:butt; stroke-linejoin:round; stroke-width:12; stroke-opacity:1; fill:none\" points=\"\n  716.067,4381.58 6920.73,4381.58 \n  \"/>\n<polyline clip-path=\"url(#clip380)\" style=\"stroke:#000000; stroke-linecap:butt; stroke-linejoin:round; stroke-width:12; stroke-opacity:1; fill:none\" points=\"\n  1233.12,4381.58 1233.12,4330.71 \n  \"/>\n<polyline clip-path=\"url(#clip380)\" style=\"stroke:#000000; stroke-linecap:butt; stroke-linejoin:round; stroke-width:12; stroke-opacity:1; fill:none\" points=\"\n  2267.23,4381.58 2267.23,4330.71 \n  \"/>\n<polyline clip-path=\"url(#clip380)\" style=\"stroke:#000000; stroke-linecap:butt; stroke-linejoin:round; stroke-width:12; stroke-opacity:1; fill:none\" points=\"\n  3301.34,4381.58 3301.34,4330.71 \n  \"/>\n<polyline clip-path=\"url(#clip380)\" style=\"stroke:#000000; stroke-linecap:butt; stroke-linejoin:round; stroke-width:12; stroke-opacity:1; fill:none\" points=\"\n  4335.45,4381.58 4335.45,4330.71 \n  \"/>\n<polyline clip-path=\"url(#clip380)\" style=\"stroke:#000000; stroke-linecap:butt; stroke-linejoin:round; stroke-width:12; stroke-opacity:1; fill:none\" points=\"\n  5369.56,4381.58 5369.56,4330.71 \n  \"/>\n<polyline clip-path=\"url(#clip380)\" style=\"stroke:#000000; stroke-linecap:butt; stroke-linejoin:round; stroke-width:12; stroke-opacity:1; fill:none\" points=\"\n  6403.67,4381.58 6403.67,4330.71 \n  \"/>\n<path clip-path=\"url(#clip380)\" d=\"M1233.12 4491.63 Q1214.16 4491.63 1204.56 4510.35 Q1195.08 4528.94 1195.08 4566.37 Q1195.08 4603.68 1204.56 4622.4 Q1214.16 4640.99 1233.12 4640.99 Q1252.2 4640.99 1261.68 4622.4 Q1271.28 4603.68 1271.28 4566.37 Q1271.28 4528.94 1261.68 4510.35 Q1252.2 4491.63 1233.12 4491.63 M1233.12 4472.19 Q1263.63 4472.19 1279.67 4496.37 Q1295.83 4520.44 1295.83 4566.37 Q1295.83 4612.19 1279.67 4636.37 Q1263.63 4660.44 1233.12 4660.44 Q1202.62 4660.44 1186.46 4636.37 Q1170.41 4612.19 1170.41 4566.37 Q1170.41 4520.44 1186.46 4496.37 Q1202.62 4472.19 1233.12 4472.19 Z\" fill=\"#000000\" fill-rule=\"evenodd\" fill-opacity=\"1\" /><path clip-path=\"url(#clip380)\" d=\"M2216.74 4636.25 L2256.84 4636.25 L2256.84 4497.83 L2213.21 4506.58 L2213.21 4484.22 L2256.6 4475.47 L2281.15 4475.47 L2281.15 4636.25 L2321.25 4636.25 L2321.25 4656.91 L2216.74 4656.91 L2216.74 4636.25 Z\" fill=\"#000000\" fill-rule=\"evenodd\" fill-opacity=\"1\" /><path clip-path=\"url(#clip380)\" d=\"M3273.27 4636.25 L3358.95 4636.25 L3358.95 4656.91 L3243.74 4656.91 L3243.74 4636.25 Q3257.71 4621.79 3281.78 4597.48 Q3305.96 4573.06 3312.16 4566.01 Q3323.95 4552.76 3328.56 4543.65 Q3333.3 4534.41 3333.3 4525.54 Q3333.3 4511.08 3323.1 4501.96 Q3313.01 4492.85 3296.72 4492.85 Q3285.18 4492.85 3272.3 4496.86 Q3259.54 4500.87 3244.95 4509.01 L3244.95 4484.22 Q3259.78 4478.27 3272.66 4475.23 Q3285.54 4472.19 3296.24 4472.19 Q3324.43 4472.19 3341.2 4486.29 Q3357.97 4500.38 3357.97 4523.96 Q3357.97 4535.14 3353.72 4545.23 Q3349.59 4555.19 3338.53 4568.8 Q3335.49 4572.33 3319.21 4589.22 Q3302.92 4605.99 3273.27 4636.25 Z\" fill=\"#000000\" fill-rule=\"evenodd\" fill-opacity=\"1\" /><path clip-path=\"url(#clip380)\" d=\"M4357.75 4559.08 Q4375.37 4562.85 4385.22 4574.76 Q4395.18 4586.67 4395.18 4604.17 Q4395.18 4631.03 4376.71 4645.73 Q4358.24 4660.44 4324.21 4660.44 Q4312.79 4660.44 4300.63 4658.13 Q4288.6 4655.94 4275.72 4651.44 L4275.72 4627.75 Q4285.93 4633.7 4298.08 4636.74 Q4310.24 4639.78 4323.48 4639.78 Q4346.57 4639.78 4358.6 4630.66 Q4370.76 4621.55 4370.76 4604.17 Q4370.76 4588.13 4359.45 4579.13 Q4348.27 4570.02 4328.22 4570.02 L4307.08 4570.02 L4307.08 4549.85 L4329.19 4549.85 Q4347.3 4549.85 4356.9 4542.68 Q4366.5 4535.38 4366.5 4521.77 Q4366.5 4507.8 4356.54 4500.38 Q4346.69 4492.85 4328.22 4492.85 Q4318.13 4492.85 4306.59 4495.04 Q4295.04 4497.22 4281.19 4501.84 L4281.19 4479.97 Q4295.17 4476.08 4307.32 4474.13 Q4319.59 4472.19 4330.41 4472.19 Q4358.36 4472.19 4374.64 4484.95 Q4390.93 4497.59 4390.93 4519.22 Q4390.93 4534.29 4382.3 4544.74 Q4373.67 4555.07 4357.75 4559.08 Z\" fill=\"#000000\" fill-rule=\"evenodd\" fill-opacity=\"1\" /><path clip-path=\"url(#clip380)\" d=\"M5385.36 4496.86 L5323.38 4593.72 L5385.36 4593.72 L5385.36 4496.86 M5378.92 4475.47 L5409.79 4475.47 L5409.79 4593.72 L5435.67 4593.72 L5435.67 4614.13 L5409.79 4614.13 L5409.79 4656.91 L5385.36 4656.91 L5385.36 4614.13 L5303.45 4614.13 L5303.45 4590.44 L5378.92 4475.47 Z\" fill=\"#000000\" fill-rule=\"evenodd\" fill-opacity=\"1\" /><path clip-path=\"url(#clip380)\" d=\"M6352.63 4475.47 L6449 4475.47 L6449 4496.13 L6375.11 4496.13 L6375.11 4540.61 Q6380.46 4538.79 6385.81 4537.94 Q6391.16 4536.96 6396.5 4536.96 Q6426.88 4536.96 6444.63 4553.61 Q6462.37 4570.26 6462.37 4598.7 Q6462.37 4627.99 6444.14 4644.27 Q6425.91 4660.44 6392.74 4660.44 Q6381.31 4660.44 6369.4 4658.49 Q6357.61 4656.55 6344.97 4652.66 L6344.97 4627.99 Q6355.91 4633.94 6367.58 4636.86 Q6379.25 4639.78 6392.25 4639.78 Q6413.27 4639.78 6425.55 4628.72 Q6437.82 4617.66 6437.82 4598.7 Q6437.82 4579.74 6425.55 4568.68 Q6413.27 4557.62 6392.25 4557.62 Q6382.41 4557.62 6372.56 4559.81 Q6362.84 4562 6352.63 4566.62 L6352.63 4475.47 Z\" fill=\"#000000\" fill-rule=\"evenodd\" fill-opacity=\"1\" /><polyline clip-path=\"url(#clip382)\" style=\"stroke:#000000; stroke-linecap:butt; stroke-linejoin:round; stroke-width:6; stroke-opacity:0.1; fill:none\" points=\"\n  716.067,4381.58 6920.73,4381.58 \n  \"/>\n<polyline clip-path=\"url(#clip382)\" style=\"stroke:#000000; stroke-linecap:butt; stroke-linejoin:round; stroke-width:6; stroke-opacity:0.1; fill:none\" points=\"\n  716.067,3347.47 6920.73,3347.47 \n  \"/>\n<polyline clip-path=\"url(#clip382)\" style=\"stroke:#000000; stroke-linecap:butt; stroke-linejoin:round; stroke-width:6; stroke-opacity:0.1; fill:none\" points=\"\n  716.067,2313.36 6920.73,2313.36 \n  \"/>\n<polyline clip-path=\"url(#clip382)\" style=\"stroke:#000000; stroke-linecap:butt; stroke-linejoin:round; stroke-width:6; stroke-opacity:0.1; fill:none\" points=\"\n  716.067,1279.25 6920.73,1279.25 \n  \"/>\n<polyline clip-path=\"url(#clip382)\" style=\"stroke:#000000; stroke-linecap:butt; stroke-linejoin:round; stroke-width:6; stroke-opacity:0.1; fill:none\" points=\"\n  716.067,245.143 6920.73,245.143 \n  \"/>\n<polyline clip-path=\"url(#clip380)\" style=\"stroke:#000000; stroke-linecap:butt; stroke-linejoin:round; stroke-width:12; stroke-opacity:1; fill:none\" points=\"\n  716.067,4381.58 716.067,141.732 \n  \"/>\n<polyline clip-path=\"url(#clip380)\" style=\"stroke:#000000; stroke-linecap:butt; stroke-linejoin:round; stroke-width:12; stroke-opacity:1; fill:none\" points=\"\n  716.067,4381.58 790.523,4381.58 \n  \"/>\n<polyline clip-path=\"url(#clip380)\" style=\"stroke:#000000; stroke-linecap:butt; stroke-linejoin:round; stroke-width:12; stroke-opacity:1; fill:none\" points=\"\n  716.067,3347.47 790.523,3347.47 \n  \"/>\n<polyline clip-path=\"url(#clip380)\" style=\"stroke:#000000; stroke-linecap:butt; stroke-linejoin:round; stroke-width:12; stroke-opacity:1; fill:none\" points=\"\n  716.067,2313.36 790.523,2313.36 \n  \"/>\n<polyline clip-path=\"url(#clip380)\" style=\"stroke:#000000; stroke-linecap:butt; stroke-linejoin:round; stroke-width:12; stroke-opacity:1; fill:none\" points=\"\n  716.067,1279.25 790.523,1279.25 \n  \"/>\n<polyline clip-path=\"url(#clip380)\" style=\"stroke:#000000; stroke-linecap:butt; stroke-linejoin:round; stroke-width:12; stroke-opacity:1; fill:none\" points=\"\n  716.067,245.143 790.523,245.143 \n  \"/>\n<path clip-path=\"url(#clip380)\" d=\"M292.461 4383.95 L448.259 4383.95 L448.259 4404.61 L292.461 4404.61 L292.461 4383.95 Z\" fill=\"#000000\" fill-rule=\"evenodd\" fill-opacity=\"1\" /><path clip-path=\"url(#clip380)\" d=\"M522.39 4451.64 L608.067 4451.64 L608.067 4472.3 L492.859 4472.3 L492.859 4451.64 Q506.835 4437.18 530.897 4412.88 Q555.081 4388.45 561.279 4381.4 Q573.067 4368.15 577.685 4359.04 Q582.425 4349.8 582.425 4340.93 Q582.425 4326.47 572.216 4317.36 Q562.13 4308.24 545.845 4308.24 Q534.3 4308.24 521.418 4312.25 Q508.658 4316.26 494.075 4324.41 L494.075 4299.61 Q508.901 4293.66 521.783 4290.62 Q534.665 4287.58 545.359 4287.58 Q573.553 4287.58 590.324 4301.68 Q607.095 4315.78 607.095 4339.35 Q607.095 4350.53 602.841 4360.62 Q598.709 4370.59 587.65 4384.2 Q584.612 4387.72 568.328 4404.61 Q552.043 4421.38 522.39 4451.64 Z\" fill=\"#000000\" fill-rule=\"evenodd\" fill-opacity=\"1\" /><path clip-path=\"url(#clip380)\" d=\"M290.517 3349.84 L446.314 3349.84 L446.314 3370.5 L290.517 3370.5 L290.517 3349.84 Z\" fill=\"#000000\" fill-rule=\"evenodd\" fill-opacity=\"1\" /><path clip-path=\"url(#clip380)\" d=\"M503.554 3417.53 L543.658 3417.53 L543.658 3279.11 L500.029 3287.86 L500.029 3265.5 L543.415 3256.75 L567.963 3256.75 L567.963 3417.53 L608.067 3417.53 L608.067 3438.19 L503.554 3438.19 L503.554 3417.53 Z\" fill=\"#000000\" fill-rule=\"evenodd\" fill-opacity=\"1\" /><path clip-path=\"url(#clip380)\" d=\"M545.359 2238.81 Q526.401 2238.81 516.8 2257.52 Q507.321 2276.12 507.321 2313.55 Q507.321 2350.85 516.8 2369.57 Q526.401 2388.16 545.359 2388.16 Q564.439 2388.16 573.918 2369.57 Q583.519 2350.85 583.519 2313.55 Q583.519 2276.12 573.918 2257.52 Q564.439 2238.81 545.359 2238.81 M545.359 2219.36 Q575.862 2219.36 591.904 2243.55 Q608.067 2267.61 608.067 2313.55 Q608.067 2359.36 591.904 2383.55 Q575.862 2407.61 545.359 2407.61 Q514.856 2407.61 498.693 2383.55 Q482.651 2359.36 482.651 2313.55 Q482.651 2267.61 498.693 2243.55 Q514.856 2219.36 545.359 2219.36 Z\" fill=\"#000000\" fill-rule=\"evenodd\" fill-opacity=\"1\" /><path clip-path=\"url(#clip380)\" d=\"M503.554 1349.31 L543.658 1349.31 L543.658 1210.89 L500.029 1219.64 L500.029 1197.28 L543.415 1188.53 L567.963 1188.53 L567.963 1349.31 L608.067 1349.31 L608.067 1369.97 L503.554 1369.97 L503.554 1349.31 Z\" fill=\"#000000\" fill-rule=\"evenodd\" fill-opacity=\"1\" /><path clip-path=\"url(#clip380)\" d=\"M522.39 315.204 L608.067 315.204 L608.067 335.863 L492.859 335.863 L492.859 315.204 Q506.835 300.742 530.897 276.437 Q555.081 252.01 561.279 244.961 Q573.067 231.715 577.685 222.6 Q582.425 213.364 582.425 204.492 Q582.425 190.031 572.216 180.916 Q562.13 171.802 545.845 171.802 Q534.3 171.802 521.418 175.812 Q508.658 179.822 494.075 187.965 L494.075 163.173 Q508.901 157.218 521.783 154.18 Q534.665 151.142 545.359 151.142 Q573.553 151.142 590.324 165.239 Q607.095 179.336 607.095 202.913 Q607.095 214.093 602.841 224.18 Q598.709 234.145 587.65 247.756 Q584.612 251.28 568.328 268.173 Q552.043 284.943 522.39 315.204 Z\" fill=\"#000000\" fill-rule=\"evenodd\" fill-opacity=\"1\" /><polyline clip-path=\"url(#clip382)\" style=\"stroke:#000000; stroke-linecap:butt; stroke-linejoin:round; stroke-width:516; stroke-opacity:1; fill:none\" points=\"\n  6527.8,2195.47 6433.34,2295.91 \n  \"/>\n<polyline clip-path=\"url(#clip382)\" style=\"stroke:#000000; stroke-linecap:butt; stroke-linejoin:round; stroke-width:516; stroke-opacity:1; fill:none\" points=\"\n  6244.42,2496.8 6149.96,2597.24 \n  \"/>\n<polyline clip-path=\"url(#clip382)\" style=\"stroke:#e26f46; stroke-linecap:butt; stroke-linejoin:round; stroke-width:408; stroke-opacity:1; fill:none\" points=\"\n  6622.25,2095.03 6055.5,2697.69 \n  \"/>\n<path clip-path=\"url(#clip382)\" d=\"\nM1750.18 2855.82 L1755.16 2906.38 L1765.07 2956.2 L1779.81 3004.82 L1799.26 3051.75 L1823.2 3096.56 L1851.43 3138.8 L1883.66 3178.07 L1919.58 3213.99 L1958.85 3246.22 \n  L2001.09 3274.45 L2045.9 3298.39 L2092.83 3317.84 L2141.45 3332.58 L2191.27 3342.49 L2241.83 3347.47 L2292.63 3347.47 L2343.19 3342.49 L2393.02 3332.58 L2441.63 3317.84 \n  L2488.57 3298.39 L2533.37 3274.45 L2575.61 3246.22 L2614.88 3213.99 L2650.81 3178.07 L2683.04 3138.8 L2711.26 3096.56 L2735.21 3051.75 L2754.65 3004.82 L2769.4 2956.2 \n  L2779.31 2906.38 L2784.29 2855.82 L2784.29 2805.02 L2779.31 2754.46 L2769.4 2704.63 L2754.65 2656.02 L2735.21 2609.08 L2711.26 2564.28 L2683.04 2522.04 L2650.81 2482.77 \n  L2614.88 2446.84 L2575.61 2414.62 L2533.37 2386.39 L2488.57 2362.44 L2441.63 2343 L2393.02 2328.25 L2343.19 2318.34 L2292.63 2313.36 L2241.83 2313.36 L2191.27 2318.34 \n  L2141.45 2328.25 L2092.83 2343 L2045.9 2362.44 L2001.09 2386.39 L1958.85 2414.62 L1919.58 2446.84 L1883.66 2482.77 L1851.43 2522.04 L1823.2 2564.28 L1799.26 2609.08 \n  L1779.81 2656.02 L1765.07 2704.63 L1755.16 2754.46 L1750.18 2805.02 L1750.18 2855.82 L1750.18 2855.82  Z\n  \" fill=\"#c271d2\" fill-rule=\"evenodd\" fill-opacity=\"0.5\"/>\n<polyline clip-path=\"url(#clip382)\" style=\"stroke:#000000; stroke-linecap:butt; stroke-linejoin:round; stroke-width:12; stroke-opacity:0.5; fill:none\" points=\"\n  1750.18,2855.82 1755.16,2906.38 1765.07,2956.2 1779.81,3004.82 1799.26,3051.75 1823.2,3096.56 1851.43,3138.8 1883.66,3178.07 1919.58,3213.99 1958.85,3246.22 \n  2001.09,3274.45 2045.9,3298.39 2092.83,3317.84 2141.45,3332.58 2191.27,3342.49 2241.83,3347.47 2292.63,3347.47 2343.19,3342.49 2393.02,3332.58 2441.63,3317.84 \n  2488.57,3298.39 2533.37,3274.45 2575.61,3246.22 2614.88,3213.99 2650.81,3178.07 2683.04,3138.8 2711.26,3096.56 2735.21,3051.75 2754.65,3004.82 2769.4,2956.2 \n  2779.31,2906.38 2784.29,2855.82 2784.29,2805.02 2779.31,2754.46 2769.4,2704.63 2754.65,2656.02 2735.21,2609.08 2711.26,2564.28 2683.04,2522.04 2650.81,2482.77 \n  2614.88,2446.84 2575.61,2414.62 2533.37,2386.39 2488.57,2362.44 2441.63,2343 2393.02,2328.25 2343.19,2318.34 2292.63,2313.36 2241.83,2313.36 2191.27,2318.34 \n  2141.45,2328.25 2092.83,2343 2045.9,2362.44 2001.09,2386.39 1958.85,2414.62 1919.58,2446.84 1883.66,2482.77 1851.43,2522.04 1823.2,2564.28 1799.26,2609.08 \n  1779.81,2656.02 1765.07,2704.63 1755.16,2754.46 1750.18,2805.02 1750.18,2855.82 \n  \"/>\n<path clip-path=\"url(#clip382)\" d=\"\nM2784.29 891.011 L2789.27 941.569 L2799.18 991.395 L2813.92 1040.01 L2833.37 1086.95 L2857.31 1131.75 L2885.54 1173.99 L2917.77 1213.26 L2953.69 1249.18 L2992.96 1281.41 \n  L3035.2 1309.64 L3080.01 1333.59 L3126.94 1353.03 L3175.56 1367.77 L3225.38 1377.68 L3275.94 1382.66 L3326.74 1382.66 L3377.3 1377.68 L3427.13 1367.77 L3475.74 1353.03 \n  L3522.68 1333.59 L3567.48 1309.64 L3609.72 1281.41 L3648.99 1249.18 L3684.92 1213.26 L3717.15 1173.99 L3745.37 1131.75 L3769.32 1086.95 L3788.76 1040.01 L3803.51 991.395 \n  L3813.42 941.569 L3818.4 891.011 L3818.4 840.208 L3813.42 789.65 L3803.51 739.824 L3788.76 691.209 L3769.32 644.273 L3745.37 599.469 L3717.15 557.229 L3684.92 517.958 \n  L3648.99 482.035 L3609.72 449.806 L3567.48 421.582 L3522.68 397.633 L3475.74 378.192 L3427.13 363.445 L3377.3 353.534 L3326.74 348.554 L3275.94 348.554 L3225.38 353.534 \n  L3175.56 363.445 L3126.94 378.192 L3080.01 397.633 L3035.2 421.582 L2992.96 449.806 L2953.69 482.035 L2917.77 517.958 L2885.54 557.229 L2857.31 599.469 L2833.37 644.273 \n  L2813.92 691.209 L2799.18 739.824 L2789.27 789.65 L2784.29 840.208 L2784.29 891.011 L2784.29 891.011  Z\n  \" fill=\"#ac8d18\" fill-rule=\"evenodd\" fill-opacity=\"0.5\"/>\n<polyline clip-path=\"url(#clip382)\" style=\"stroke:#000000; stroke-linecap:butt; stroke-linejoin:round; stroke-width:12; stroke-opacity:0.5; fill:none\" points=\"\n  2784.29,891.011 2789.27,941.569 2799.18,991.395 2813.92,1040.01 2833.37,1086.95 2857.31,1131.75 2885.54,1173.99 2917.77,1213.26 2953.69,1249.18 2992.96,1281.41 \n  3035.2,1309.64 3080.01,1333.59 3126.94,1353.03 3175.56,1367.77 3225.38,1377.68 3275.94,1382.66 3326.74,1382.66 3377.3,1377.68 3427.13,1367.77 3475.74,1353.03 \n  3522.68,1333.59 3567.48,1309.64 3609.72,1281.41 3648.99,1249.18 3684.92,1213.26 3717.15,1173.99 3745.37,1131.75 3769.32,1086.95 3788.76,1040.01 3803.51,991.395 \n  3813.42,941.569 3818.4,891.011 3818.4,840.208 3813.42,789.65 3803.51,739.824 3788.76,691.209 3769.32,644.273 3745.37,599.469 3717.15,557.229 3684.92,517.958 \n  3648.99,482.035 3609.72,449.806 3567.48,421.582 3522.68,397.633 3475.74,378.192 3427.13,363.445 3377.3,353.534 3326.74,348.554 3275.94,348.554 3225.38,353.534 \n  3175.56,363.445 3126.94,378.192 3080.01,397.633 3035.2,421.582 2992.96,449.806 2953.69,482.035 2917.77,517.958 2885.54,557.229 2857.31,599.469 2833.37,644.273 \n  2813.92,691.209 2799.18,739.824 2789.27,789.65 2784.29,840.208 2784.29,891.011 \n  \"/>\n<path clip-path=\"url(#clip382)\" d=\"\nM3818.4 2028.53 L3823.38 2079.09 L3833.29 2128.92 L3848.04 2177.53 L3867.48 2224.47 L3891.42 2269.27 L3919.65 2311.51 L3951.88 2350.78 L3987.8 2386.7 L4027.07 2418.93 \n  L4069.31 2447.16 L4114.12 2471.11 L4161.05 2490.55 L4209.67 2505.29 L4259.49 2515.21 L4310.05 2520.19 L4360.85 2520.19 L4411.41 2515.21 L4461.24 2505.29 L4509.85 2490.55 \n  L4556.79 2471.11 L4601.59 2447.16 L4643.83 2418.93 L4683.1 2386.7 L4719.03 2350.78 L4751.26 2311.51 L4779.48 2269.27 L4803.43 2224.47 L4822.87 2177.53 L4837.62 2128.92 \n  L4847.53 2079.09 L4852.51 2028.53 L4852.51 1977.73 L4847.53 1927.17 L4837.62 1877.34 L4822.87 1828.73 L4803.43 1781.79 L4779.48 1736.99 L4751.26 1694.75 L4719.03 1655.48 \n  L4683.1 1619.56 L4643.83 1587.33 L4601.59 1559.1 L4556.79 1535.15 L4509.85 1515.71 L4461.24 1500.97 L4411.41 1491.05 L4360.85 1486.08 L4310.05 1486.08 L4259.49 1491.05 \n  L4209.67 1500.97 L4161.05 1515.71 L4114.12 1535.15 L4069.31 1559.1 L4027.07 1587.33 L3987.8 1619.56 L3951.88 1655.48 L3919.65 1694.75 L3891.42 1736.99 L3867.48 1781.79 \n  L3848.04 1828.73 L3833.29 1877.34 L3823.38 1927.17 L3818.4 1977.73 L3818.4 2028.53 L3818.4 2028.53  Z\n  \" fill=\"#00a9ad\" fill-rule=\"evenodd\" fill-opacity=\"0.5\"/>\n<polyline clip-path=\"url(#clip382)\" style=\"stroke:#000000; stroke-linecap:butt; stroke-linejoin:round; stroke-width:12; stroke-opacity:0.5; fill:none\" points=\"\n  3818.4,2028.53 3823.38,2079.09 3833.29,2128.92 3848.04,2177.53 3867.48,2224.47 3891.42,2269.27 3919.65,2311.51 3951.88,2350.78 3987.8,2386.7 4027.07,2418.93 \n  4069.31,2447.16 4114.12,2471.11 4161.05,2490.55 4209.67,2505.29 4259.49,2515.21 4310.05,2520.19 4360.85,2520.19 4411.41,2515.21 4461.24,2505.29 4509.85,2490.55 \n  4556.79,2471.11 4601.59,2447.16 4643.83,2418.93 4683.1,2386.7 4719.03,2350.78 4751.26,2311.51 4779.48,2269.27 4803.43,2224.47 4822.87,2177.53 4837.62,2128.92 \n  4847.53,2079.09 4852.51,2028.53 4852.51,1977.73 4847.53,1927.17 4837.62,1877.34 4822.87,1828.73 4803.43,1781.79 4779.48,1736.99 4751.26,1694.75 4719.03,1655.48 \n  4683.1,1619.56 4643.83,1587.33 4601.59,1559.1 4556.79,1535.15 4509.85,1515.71 4461.24,1500.97 4411.41,1491.05 4360.85,1486.08 4310.05,1486.08 4259.49,1491.05 \n  4209.67,1500.97 4161.05,1515.71 4114.12,1535.15 4069.31,1559.1 4027.07,1587.33 3987.8,1619.56 3951.88,1655.48 3919.65,1694.75 3891.42,1736.99 3867.48,1781.79 \n  3848.04,1828.73 3833.29,1877.34 3823.38,1927.17 3818.4,1977.73 3818.4,2028.53 \n  \"/>\n<polyline clip-path=\"url(#clip382)\" style=\"stroke:#3da44d; stroke-linecap:butt; stroke-linejoin:round; stroke-width:12; stroke-opacity:1; fill:none\" points=\"\n  1233.12,2313.36 1230.98,2318.3 1248.58,2326.36 1267.89,2319.28 1299.08,2305.22 1335.47,2278.58 1374.08,2256.09 1413.5,2235.05 1453.19,2214.95 1491.56,2193.87 \n  1528.55,2171.56 1564.32,2149.24 1599.25,2129.08 1633.49,2110.86 1667.1,2094.49 1700.13,2079.9 1732.65,2067 1764.72,2055.71 1796.43,2045.88 1827.83,2037.44 \n  1859.13,2030.42 1890.85,2024.97 1923.02,2021.04 1955.72,2018.58 1989.03,2017.61 2023.05,2018.11 2057.92,2020.07 2093.79,2023.51 2130.72,2028.23 2167.52,2035.67 \n  2204.43,2044.42 2241.58,2052 2279.13,2058.3 2317.18,2063.28 2355.9,2066.82 2394.36,2070.79 2431.59,2077.16 2467.8,2085.84 2503.12,2096.78 2537.43,2110.24 \n  2570.78,2126.35 2603.38,2145.13 2635.42,2166.57 2667.12,2190.75 2699,2217.62 2733.01,2245.63 2767.21,2276.68 2800.52,2312.72 2833.88,2355.21 2869.23,2407.37 \n  2910.24,2473.25 2958.23,2547.44 3013,2630.4 3071.64,2711.44 3136.55,2786.3 3207.72,2854.95 3285.14,2917.43 3368.81,2973.7 3458.87,3023.67 3550.79,3069.87 \n  3644.6,3112.06 3740.32,3150.08 3838.32,3184.13 3938.57,3207.55 4040.47,3220.04 4143.91,3221.9 4248.18,3214.3 4350.91,3201.31 4452.03,3182.67 4551.58,3158.62 \n  4649.58,3129.14 4744,3092.07 4837.85,3054.12 4931.38,3015.73 5024.6,2976.94 5117.51,2937.73 5210.1,2898.08 5302.37,2858 5394.31,2817.44 5485.9,2776.41 \n  5577.12,2734.85 5667.38,2692.89 5750.24,2655.82 5825.78,2623.76 5894.48,2595.88 5955.79,2569.99 6010.44,2545.55 6059.19,2522.24 6102.64,2499.9 6141.31,2478.44 \n  6175.88,2459.55 6206.75,2443.34 6234.35,2429.56 6259.26,2418.26 6281.92,2409.37 6302.84,2403.07 6322.64,2399.74 6338.88,2396.36 \n  \"/>\n<path clip-path=\"url(#clip380)\" d=\"\nM3555.32 4240.26 L6704.74 4240.26 L6704.74 3605.22 L3555.32 3605.22  Z\n  \" fill=\"#ffffff\" fill-rule=\"evenodd\" fill-opacity=\"1\"/>\n<polyline clip-path=\"url(#clip380)\" style=\"stroke:#000000; stroke-linecap:butt; stroke-linejoin:round; stroke-width:12; stroke-opacity:1; fill:none\" points=\"\n  3555.32,4240.26 6704.74,4240.26 6704.74,3605.22 3555.32,3605.22 3555.32,4240.26 \n  \"/>\n<polyline clip-path=\"url(#clip380)\" style=\"stroke:#3da44d; stroke-linecap:butt; stroke-linejoin:round; stroke-width:21; stroke-opacity:1; fill:none\" points=\"\n  3627.31,3922.74 4059.3,3922.74 \n  \"/>\n<path clip-path=\"url(#clip380)\" d=\"M4131.29 3832.02 L4246.01 3832.02 L4246.01 3852.67 L4155.84 3852.67 L4155.84 3906.39 L4242.25 3906.39 L4242.25 3927.05 L4155.84 3927.05 L4155.84 3992.8 L4248.2 3992.8 L4248.2 4013.46 L4131.29 4013.46 L4131.29 3832.02 Z\" fill=\"#000000\" fill-rule=\"evenodd\" fill-opacity=\"1\" /><path clip-path=\"url(#clip380)\" d=\"M4400.72 3877.34 L4351.5 3943.58 L4403.27 4013.46 L4376.9 4013.46 L4337.28 3959.98 L4297.66 4013.46 L4271.29 4013.46 L4324.16 3942.24 L4275.79 3877.34 L4302.16 3877.34 L4338.25 3925.83 L4374.35 3877.34 L4400.72 3877.34 Z\" fill=\"#000000\" fill-rule=\"evenodd\" fill-opacity=\"1\" /><path clip-path=\"url(#clip380)\" d=\"M4543.63 3939.81 L4543.63 3950.75 L4440.82 3950.75 Q4442.28 3973.84 4454.68 3985.99 Q4467.19 3998.02 4489.43 3998.02 Q4502.32 3998.02 4514.35 3994.86 Q4526.5 3991.7 4538.41 3985.38 L4538.41 4006.53 Q4526.38 4011.63 4513.74 4014.31 Q4501.1 4016.98 4488.1 4016.98 Q4455.53 4016.98 4436.45 3998.02 Q4417.49 3979.06 4417.49 3946.74 Q4417.49 3913.32 4435.48 3893.75 Q4453.58 3874.06 4484.21 3874.06 Q4511.67 3874.06 4527.59 3891.81 Q4543.63 3909.43 4543.63 3939.81 M4521.27 3933.25 Q4521.03 3914.9 4510.94 3903.96 Q4500.98 3893.02 4484.45 3893.02 Q4465.74 3893.02 4454.43 3903.59 Q4443.25 3914.17 4441.55 3933.37 L4521.27 3933.25 Z\" fill=\"#000000\" fill-rule=\"evenodd\" fill-opacity=\"1\" /><path clip-path=\"url(#clip380)\" d=\"M4678.29 3882.57 L4678.29 3903.47 Q4668.81 3898.25 4659.21 3895.7 Q4649.73 3893.02 4640.01 3893.02 Q4618.25 3893.02 4606.22 3906.88 Q4594.19 3920.61 4594.19 3945.52 Q4594.19 3970.43 4606.22 3984.29 Q4618.25 3998.02 4640.01 3998.02 Q4649.73 3998.02 4659.21 3995.47 Q4668.81 3992.8 4678.29 3987.57 L4678.29 4008.23 Q4668.93 4012.6 4658.84 4014.79 Q4648.88 4016.98 4637.58 4016.98 Q4606.83 4016.98 4588.72 3997.66 Q4570.61 3978.33 4570.61 3945.52 Q4570.61 3912.22 4588.84 3893.14 Q4607.19 3874.06 4639.03 3874.06 Q4649.36 3874.06 4659.21 3876.25 Q4669.05 3878.32 4678.29 3882.57 Z\" fill=\"#000000\" fill-rule=\"evenodd\" fill-opacity=\"1\" /><path clip-path=\"url(#clip380)\" d=\"M4714.87 3959.74 L4714.87 3877.34 L4737.23 3877.34 L4737.23 3958.89 Q4737.23 3978.21 4744.76 3987.93 Q4752.3 3997.54 4767.37 3997.54 Q4785.47 3997.54 4795.92 3985.99 Q4806.5 3974.45 4806.5 3954.51 L4806.5 3877.34 L4828.86 3877.34 L4828.86 4013.46 L4806.5 4013.46 L4806.5 3992.55 Q4798.36 4004.95 4787.54 4011.02 Q4776.85 4016.98 4762.63 4016.98 Q4739.17 4016.98 4727.02 4002.4 Q4714.87 3987.81 4714.87 3959.74 M4771.13 3874.06 L4771.13 3874.06 Z\" fill=\"#000000\" fill-rule=\"evenodd\" fill-opacity=\"1\" /><path clip-path=\"url(#clip380)\" d=\"M4897.04 3838.7 L4897.04 3877.34 L4943.09 3877.34 L4943.09 3894.72 L4897.04 3894.72 L4897.04 3968.61 Q4897.04 3985.26 4901.53 3990 Q4906.15 3994.74 4920.13 3994.74 L4943.09 3994.74 L4943.09 4013.46 L4920.13 4013.46 Q4894.24 4013.46 4884.4 4003.85 Q4874.55 3994.13 4874.55 3968.61 L4874.55 3894.72 L4858.15 3894.72 L4858.15 3877.34 L4874.55 3877.34 L4874.55 3838.7 L4897.04 3838.7 Z\" fill=\"#000000\" fill-rule=\"evenodd\" fill-opacity=\"1\" /><path clip-path=\"url(#clip380)\" d=\"M5088.93 3939.81 L5088.93 3950.75 L4986.11 3950.75 Q4987.57 3973.84 4999.97 3985.99 Q5012.49 3998.02 5034.73 3998.02 Q5047.61 3998.02 5059.64 3994.86 Q5071.79 3991.7 5083.7 3985.38 L5083.7 4006.53 Q5071.67 4011.63 5059.03 4014.31 Q5046.39 4016.98 5033.39 4016.98 Q5000.82 4016.98 4981.74 3998.02 Q4962.78 3979.06 4962.78 3946.74 Q4962.78 3913.32 4980.77 3893.75 Q4998.88 3874.06 5029.5 3874.06 Q5056.97 3874.06 5072.89 3891.81 Q5088.93 3909.43 5088.93 3939.81 M5066.57 3933.25 Q5066.32 3914.9 5056.24 3903.96 Q5046.27 3893.02 5029.74 3893.02 Q5011.03 3893.02 4999.73 3903.59 Q4988.55 3914.17 4986.84 3933.37 L5066.57 3933.25 Z\" fill=\"#000000\" fill-rule=\"evenodd\" fill-opacity=\"1\" /><path clip-path=\"url(#clip380)\" d=\"M5215.19 3898 L5215.19 3824.36 L5237.55 3824.36 L5237.55 4013.46 L5215.19 4013.46 L5215.19 3993.04 Q5208.14 4005.19 5197.33 4011.15 Q5186.63 4016.98 5171.57 4016.98 Q5146.9 4016.98 5131.34 3997.29 Q5115.91 3977.6 5115.91 3945.52 Q5115.91 3913.44 5131.34 3893.75 Q5146.9 3874.06 5171.57 3874.06 Q5186.63 3874.06 5197.33 3880.02 Q5208.14 3885.85 5215.19 3898 M5139 3945.52 Q5139 3970.19 5149.08 3984.29 Q5159.29 3998.26 5177.03 3998.26 Q5194.78 3998.26 5204.99 3984.29 Q5215.19 3970.19 5215.19 3945.52 Q5215.19 3920.85 5204.99 3906.88 Q5194.78 3892.78 5177.03 3892.78 Q5159.29 3892.78 5149.08 3906.88 Q5139 3920.85 5139 3945.52 Z\" fill=\"#000000\" fill-rule=\"evenodd\" fill-opacity=\"1\" /><path clip-path=\"url(#clip380)\" d=\"M5338.54 3832.02 L5492.03 3832.02 L5492.03 3852.67 L5427.62 3852.67 L5427.62 4013.46 L5402.95 4013.46 L5402.95 3852.67 L5338.54 3852.67 L5338.54 3832.02 Z\" fill=\"#000000\" fill-rule=\"evenodd\" fill-opacity=\"1\" /><path clip-path=\"url(#clip380)\" d=\"M5557.05 3898.25 Q5553.28 3896.06 5548.79 3895.09 Q5544.41 3893.99 5539.06 3893.99 Q5520.11 3893.99 5509.9 3906.39 Q5499.81 3918.66 5499.81 3941.75 L5499.81 4013.46 L5477.33 4013.46 L5477.33 3877.34 L5499.81 3877.34 L5499.81 3898.49 Q5506.86 3886.09 5518.16 3880.14 Q5529.46 3874.06 5545.63 3874.06 Q5547.93 3874.06 5550.73 3874.43 Q5553.53 3874.67 5556.93 3875.28 L5557.05 3898.25 Z\" fill=\"#000000\" fill-rule=\"evenodd\" fill-opacity=\"1\" /><path clip-path=\"url(#clip380)\" d=\"M5642.36 3945.04 Q5615.26 3945.04 5604.81 3951.23 Q5594.36 3957.43 5594.36 3972.38 Q5594.36 3984.29 5602.14 3991.34 Q5610.04 3998.26 5623.52 3998.26 Q5642.12 3998.26 5653.3 3985.14 Q5664.6 3971.89 5664.6 3950.02 L5664.6 3945.04 L5642.36 3945.04 M5686.96 3935.8 L5686.96 4013.46 L5664.6 4013.46 L5664.6 3992.8 Q5656.94 4005.19 5645.52 4011.15 Q5634.1 4016.98 5617.57 4016.98 Q5596.67 4016.98 5584.27 4005.31 Q5572 3993.52 5572 3973.84 Q5572 3950.87 5587.31 3939.2 Q5602.74 3927.54 5633.25 3927.54 L5664.6 3927.54 L5664.6 3925.35 Q5664.6 3909.91 5654.39 3901.53 Q5644.31 3893.02 5625.96 3893.02 Q5614.29 3893.02 5603.23 3895.82 Q5592.17 3898.61 5581.96 3904.2 L5581.96 3883.54 Q5594.24 3878.8 5605.78 3876.49 Q5617.33 3874.06 5628.26 3874.06 Q5657.8 3874.06 5672.38 3889.38 Q5686.96 3904.69 5686.96 3935.8 Z\" fill=\"#000000\" fill-rule=\"evenodd\" fill-opacity=\"1\" /><path clip-path=\"url(#clip380)\" d=\"M5733.02 3877.34 L5755.38 3877.34 L5755.38 4015.89 Q5755.38 4041.89 5745.42 4053.56 Q5735.57 4065.23 5713.58 4065.23 L5705.07 4065.23 L5705.07 4046.27 L5711.02 4046.27 Q5723.78 4046.27 5728.4 4040.31 Q5733.02 4034.48 5733.02 4015.89 L5733.02 3877.34 M5733.02 3824.36 L5755.38 3824.36 L5755.38 3852.67 L5733.02 3852.67 L5733.02 3824.36 Z\" fill=\"#000000\" fill-rule=\"evenodd\" fill-opacity=\"1\" /><path clip-path=\"url(#clip380)\" d=\"M5918.59 3939.81 L5918.59 3950.75 L5815.78 3950.75 Q5817.24 3973.84 5829.63 3985.99 Q5842.15 3998.02 5864.39 3998.02 Q5877.27 3998.02 5889.3 3994.86 Q5901.46 3991.7 5913.37 3985.38 L5913.37 4006.53 Q5901.34 4011.63 5888.7 4014.31 Q5876.06 4016.98 5863.05 4016.98 Q5830.49 4016.98 5811.41 3998.02 Q5792.45 3979.06 5792.45 3946.74 Q5792.45 3913.32 5810.43 3893.75 Q5828.54 3874.06 5859.17 3874.06 Q5886.63 3874.06 5902.55 3891.81 Q5918.59 3909.43 5918.59 3939.81 M5896.23 3933.25 Q5895.99 3914.9 5885.9 3903.96 Q5875.94 3893.02 5859.41 3893.02 Q5840.69 3893.02 5829.39 3903.59 Q5818.21 3914.17 5816.51 3933.37 L5896.23 3933.25 Z\" fill=\"#000000\" fill-rule=\"evenodd\" fill-opacity=\"1\" /><path clip-path=\"url(#clip380)\" d=\"M6053.24 3882.57 L6053.24 3903.47 Q6043.77 3898.25 6034.16 3895.7 Q6024.69 3893.02 6014.96 3893.02 Q5993.21 3893.02 5981.18 3906.88 Q5969.15 3920.61 5969.15 3945.52 Q5969.15 3970.43 5981.18 3984.29 Q5993.21 3998.02 6014.96 3998.02 Q6024.69 3998.02 6034.16 3995.47 Q6043.77 3992.8 6053.24 3987.57 L6053.24 4008.23 Q6043.89 4012.6 6033.8 4014.79 Q6023.84 4016.98 6012.53 4016.98 Q5981.79 4016.98 5963.68 3997.66 Q5945.57 3978.33 5945.57 3945.52 Q5945.57 3912.22 5963.8 3893.14 Q5982.15 3874.06 6013.99 3874.06 Q6024.32 3874.06 6034.16 3876.25 Q6044.01 3878.32 6053.24 3882.57 Z\" fill=\"#000000\" fill-rule=\"evenodd\" fill-opacity=\"1\" /><path clip-path=\"url(#clip380)\" d=\"M6114.25 3838.7 L6114.25 3877.34 L6160.31 3877.34 L6160.31 3894.72 L6114.25 3894.72 L6114.25 3968.61 Q6114.25 3985.26 6118.75 3990 Q6123.37 3994.74 6137.34 3994.74 L6160.31 3994.74 L6160.31 4013.46 L6137.34 4013.46 Q6111.46 4013.46 6101.61 4003.85 Q6091.77 3994.13 6091.77 3968.61 L6091.77 3894.72 L6075.36 3894.72 L6075.36 3877.34 L6091.77 3877.34 L6091.77 3838.7 L6114.25 3838.7 Z\" fill=\"#000000\" fill-rule=\"evenodd\" fill-opacity=\"1\" /><path clip-path=\"url(#clip380)\" d=\"M6242.46 3893.02 Q6224.48 3893.02 6214.02 3907.12 Q6203.57 3921.09 6203.57 3945.52 Q6203.57 3969.95 6213.9 3984.05 Q6224.35 3998.02 6242.46 3998.02 Q6260.33 3998.02 6270.78 3983.92 Q6281.23 3969.83 6281.23 3945.52 Q6281.23 3921.34 6270.78 3907.24 Q6260.33 3893.02 6242.46 3893.02 M6242.46 3874.06 Q6271.63 3874.06 6288.28 3893.02 Q6304.93 3911.98 6304.93 3945.52 Q6304.93 3978.94 6288.28 3998.02 Q6271.63 4016.98 6242.46 4016.98 Q6213.17 4016.98 6196.53 3998.02 Q6180 3978.94 6180 3945.52 Q6180 3911.98 6196.53 3893.02 Q6213.17 3874.06 6242.46 3874.06 Z\" fill=\"#000000\" fill-rule=\"evenodd\" fill-opacity=\"1\" /><path clip-path=\"url(#clip380)\" d=\"M6420.86 3898.25 Q6417.1 3896.06 6412.6 3895.09 Q6408.23 3893.99 6402.88 3893.99 Q6383.92 3893.99 6373.71 3906.39 Q6363.62 3918.66 6363.62 3941.75 L6363.62 4013.46 L6341.14 4013.46 L6341.14 3877.34 L6363.62 3877.34 L6363.62 3898.49 Q6370.67 3886.09 6381.98 3880.14 Q6393.28 3874.06 6409.44 3874.06 Q6411.75 3874.06 6414.54 3874.43 Q6417.34 3874.67 6420.74 3875.28 L6420.86 3898.25 Z\" fill=\"#000000\" fill-rule=\"evenodd\" fill-opacity=\"1\" /><path clip-path=\"url(#clip380)\" d=\"M6500.95 4026.09 Q6491.47 4050.4 6482.48 4057.81 Q6473.49 4065.23 6458.42 4065.23 L6440.55 4065.23 L6440.55 4046.51 L6453.68 4046.51 Q6462.91 4046.51 6468.02 4042.14 Q6473.12 4037.76 6479.32 4021.48 L6483.33 4011.27 L6428.28 3877.34 L6451.98 3877.34 L6494.51 3983.8 L6537.04 3877.34 L6560.74 3877.34 L6500.95 4026.09 Z\" fill=\"#000000\" fill-rule=\"evenodd\" fill-opacity=\"1\" /></svg>\n"
     },
     "metadata": {},
     "output_type": "display_data"
    },
    {
     "data": {
      "text/plain": [
       "true"
      ]
     },
     "execution_count": 127,
     "metadata": {},
     "output_type": "execute_result"
    }
   ],
   "source": [
    "# visualize(Xexec2, obstacles=obstacles2, xlims=[-3,3], ylims=[-1,6], fps=100)\n",
    "XX = [[x[2], -x[1], x[3], x[4]-pi/2] for x in Xexec2]\n",
    "OO = [Obstacle([x.center[2], -x.center[1]], x.vel, x.radius) for x in obstacles2]\n",
    "visualize(XX, obstacles=OO, xlims=[-0.5,5.5], ylims=[-2,2], fps=100, save_frame=(length(Xexec2)-1, \"../results/phi_collision_2.png\"))"
   ]
  },
  {
   "cell_type": "code",
   "execution_count": 80,
   "metadata": {},
   "outputs": [],
   "source": [
    "Random.seed!(7)\n",
    "n = 3\n",
    "obstacles3 = [Obstacle([rand()*1.2-0.6, rand()*3+1], [0,0], obs_radius) for i in 1:n]\n",
    "x0=[0,0,0,π/2]\n",
    "xg=[0,5,0,π/2]\n",
    "obj_cost = [1,1,1,0.1]\n",
    "rp = RP(net, obj_cost, x0, xg)\n",
    "\n",
    "err_bound = [1, 1, 0.1, 0.1]*10\n",
    "# ctrl = NvController(err_bound, warm_start=true, bin_precision=1e-1)\n",
    "ctrl = ShootingController(100)\n",
    "ci = CollisionIndex(0.728854, 0.00915763, 0.277308, 1.05736)\n",
    "Xexec3, Uexec, safe_sets, Xrefs, infeas = tracking(rp, ctrl, fps=10, tf=100, obstacles=obstacles3, safety_index=ci, verbose=false);"
   ]
  },
  {
   "cell_type": "code",
   "execution_count": 81,
   "metadata": {},
   "outputs": [
    {
     "data": {
      "image/svg+xml": "<?xml version=\"1.0\" encoding=\"utf-8\"?>\n<svg xmlns=\"http://www.w3.org/2000/svg\" xmlns:xlink=\"http://www.w3.org/1999/xlink\" width=\"600\" height=\"400\" viewBox=\"0 0 2400 1600\">\n<defs>\n  <clipPath id=\"clip400\">\n    <rect x=\"0\" y=\"0\" width=\"2400\" height=\"1600\"/>\n  </clipPath>\n</defs>\n<path clip-path=\"url(#clip400)\" d=\"\nM0 1600 L2400 1600 L2400 0 L0 0  Z\n  \" fill=\"#ffffff\" fill-rule=\"evenodd\" fill-opacity=\"1\"/>\n<defs>\n  <clipPath id=\"clip401\">\n    <rect x=\"480\" y=\"0\" width=\"1681\" height=\"1600\"/>\n  </clipPath>\n</defs>\n<path clip-path=\"url(#clip400)\" d=\"\nM667.106 1460.53 L1878.49 1460.53 L1878.49 47.2441 L667.106 47.2441  Z\n  \" fill=\"#ffffff\" fill-rule=\"evenodd\" fill-opacity=\"1\"/>\n<defs>\n  <clipPath id=\"clip402\">\n    <rect x=\"667\" y=\"47\" width=\"1212\" height=\"1414\"/>\n  </clipPath>\n</defs>\n<polyline clip-path=\"url(#clip402)\" style=\"stroke:#000000; stroke-linecap:butt; stroke-linejoin:round; stroke-width:2; stroke-opacity:0.1; fill:none\" points=\"\n  667.106,1460.53 667.106,47.2441 \n  \"/>\n<polyline clip-path=\"url(#clip402)\" style=\"stroke:#000000; stroke-linecap:butt; stroke-linejoin:round; stroke-width:2; stroke-opacity:0.1; fill:none\" points=\"\n  869.004,1460.53 869.004,47.2441 \n  \"/>\n<polyline clip-path=\"url(#clip402)\" style=\"stroke:#000000; stroke-linecap:butt; stroke-linejoin:round; stroke-width:2; stroke-opacity:0.1; fill:none\" points=\"\n  1070.9,1460.53 1070.9,47.2441 \n  \"/>\n<polyline clip-path=\"url(#clip402)\" style=\"stroke:#000000; stroke-linecap:butt; stroke-linejoin:round; stroke-width:2; stroke-opacity:0.1; fill:none\" points=\"\n  1272.8,1460.53 1272.8,47.2441 \n  \"/>\n<polyline clip-path=\"url(#clip402)\" style=\"stroke:#000000; stroke-linecap:butt; stroke-linejoin:round; stroke-width:2; stroke-opacity:0.1; fill:none\" points=\"\n  1474.7,1460.53 1474.7,47.2441 \n  \"/>\n<polyline clip-path=\"url(#clip402)\" style=\"stroke:#000000; stroke-linecap:butt; stroke-linejoin:round; stroke-width:2; stroke-opacity:0.1; fill:none\" points=\"\n  1676.59,1460.53 1676.59,47.2441 \n  \"/>\n<polyline clip-path=\"url(#clip402)\" style=\"stroke:#000000; stroke-linecap:butt; stroke-linejoin:round; stroke-width:2; stroke-opacity:0.1; fill:none\" points=\"\n  1878.49,1460.53 1878.49,47.2441 \n  \"/>\n<polyline clip-path=\"url(#clip400)\" style=\"stroke:#000000; stroke-linecap:butt; stroke-linejoin:round; stroke-width:4; stroke-opacity:1; fill:none\" points=\"\n  667.106,1460.53 1878.49,1460.53 \n  \"/>\n<polyline clip-path=\"url(#clip400)\" style=\"stroke:#000000; stroke-linecap:butt; stroke-linejoin:round; stroke-width:4; stroke-opacity:1; fill:none\" points=\"\n  667.106,1460.53 667.106,1443.57 \n  \"/>\n<polyline clip-path=\"url(#clip400)\" style=\"stroke:#000000; stroke-linecap:butt; stroke-linejoin:round; stroke-width:4; stroke-opacity:1; fill:none\" points=\"\n  869.004,1460.53 869.004,1443.57 \n  \"/>\n<polyline clip-path=\"url(#clip400)\" style=\"stroke:#000000; stroke-linecap:butt; stroke-linejoin:round; stroke-width:4; stroke-opacity:1; fill:none\" points=\"\n  1070.9,1460.53 1070.9,1443.57 \n  \"/>\n<polyline clip-path=\"url(#clip400)\" style=\"stroke:#000000; stroke-linecap:butt; stroke-linejoin:round; stroke-width:4; stroke-opacity:1; fill:none\" points=\"\n  1272.8,1460.53 1272.8,1443.57 \n  \"/>\n<polyline clip-path=\"url(#clip400)\" style=\"stroke:#000000; stroke-linecap:butt; stroke-linejoin:round; stroke-width:4; stroke-opacity:1; fill:none\" points=\"\n  1474.7,1460.53 1474.7,1443.57 \n  \"/>\n<polyline clip-path=\"url(#clip400)\" style=\"stroke:#000000; stroke-linecap:butt; stroke-linejoin:round; stroke-width:4; stroke-opacity:1; fill:none\" points=\"\n  1676.59,1460.53 1676.59,1443.57 \n  \"/>\n<polyline clip-path=\"url(#clip400)\" style=\"stroke:#000000; stroke-linecap:butt; stroke-linejoin:round; stroke-width:4; stroke-opacity:1; fill:none\" points=\"\n  1878.49,1460.53 1878.49,1443.57 \n  \"/>\n<path clip-path=\"url(#clip400)\" d=\"M613.675 1522.85 L665.607 1522.85 L665.607 1529.74 L613.675 1529.74 L613.675 1522.85 Z\" fill=\"#000000\" fill-rule=\"evenodd\" fill-opacity=\"1\" /><path clip-path=\"url(#clip400)\" d=\"M708.061 1519.69 Q713.934 1520.95 717.216 1524.92 Q720.537 1528.89 720.537 1534.72 Q720.537 1543.68 714.38 1548.58 Q708.223 1553.48 696.88 1553.48 Q693.072 1553.48 689.021 1552.71 Q685.011 1551.98 680.717 1550.48 L680.717 1542.58 Q684.12 1544.57 688.171 1545.58 Q692.222 1546.59 696.637 1546.59 Q704.334 1546.59 708.344 1543.55 Q712.395 1540.52 712.395 1534.72 Q712.395 1529.38 708.628 1526.38 Q704.901 1523.34 698.217 1523.34 L691.168 1523.34 L691.168 1516.62 L698.541 1516.62 Q704.577 1516.62 707.777 1514.23 Q710.977 1511.79 710.977 1507.26 Q710.977 1502.6 707.656 1500.13 Q704.374 1497.62 698.217 1497.62 Q694.855 1497.62 691.006 1498.35 Q687.158 1499.07 682.54 1500.61 L682.54 1493.32 Q687.199 1492.03 691.249 1491.38 Q695.341 1490.73 698.946 1490.73 Q708.263 1490.73 713.691 1494.98 Q719.12 1499.2 719.12 1506.41 Q719.12 1511.43 716.243 1514.91 Q713.367 1518.36 708.061 1519.69 Z\" fill=\"#000000\" fill-rule=\"evenodd\" fill-opacity=\"1\" /><path clip-path=\"url(#clip400)\" d=\"M816.403 1522.85 L868.335 1522.85 L868.335 1529.74 L816.403 1529.74 L816.403 1522.85 Z\" fill=\"#000000\" fill-rule=\"evenodd\" fill-opacity=\"1\" /><path clip-path=\"url(#clip400)\" d=\"M893.046 1545.42 L921.605 1545.42 L921.605 1552.3 L883.202 1552.3 L883.202 1545.42 Q887.861 1540.6 895.881 1532.49 Q903.943 1524.35 906.009 1522 Q909.938 1517.59 911.477 1514.55 Q913.057 1511.47 913.057 1508.51 Q913.057 1503.69 909.655 1500.65 Q906.292 1497.62 900.864 1497.62 Q897.016 1497.62 892.722 1498.95 Q888.468 1500.29 883.607 1503 L883.607 1494.74 Q888.549 1492.76 892.843 1491.74 Q897.137 1490.73 900.702 1490.73 Q910.1 1490.73 915.69 1495.43 Q921.281 1500.13 921.281 1507.99 Q921.281 1511.71 919.863 1515.08 Q918.486 1518.4 914.799 1522.93 Q913.786 1524.11 908.358 1529.74 Q902.93 1535.33 893.046 1545.42 Z\" fill=\"#000000\" fill-rule=\"evenodd\" fill-opacity=\"1\" /><path clip-path=\"url(#clip400)\" d=\"M1017.98 1522.85 L1069.91 1522.85 L1069.91 1529.74 L1017.98 1529.74 L1017.98 1522.85 Z\" fill=\"#000000\" fill-rule=\"evenodd\" fill-opacity=\"1\" /><path clip-path=\"url(#clip400)\" d=\"M1088.99 1545.42 L1102.36 1545.42 L1102.36 1499.28 L1087.81 1502.19 L1087.81 1494.74 L1102.28 1491.82 L1110.46 1491.82 L1110.46 1545.42 L1123.83 1545.42 L1123.83 1552.3 L1088.99 1552.3 L1088.99 1545.42 Z\" fill=\"#000000\" fill-rule=\"evenodd\" fill-opacity=\"1\" /><path clip-path=\"url(#clip400)\" d=\"M1272.8 1497.21 Q1266.48 1497.21 1263.28 1503.45 Q1260.12 1509.65 1260.12 1522.12 Q1260.12 1534.56 1263.28 1540.8 Q1266.48 1547 1272.8 1547 Q1279.16 1547 1282.32 1540.8 Q1285.52 1534.56 1285.52 1522.12 Q1285.52 1509.65 1282.32 1503.45 Q1279.16 1497.21 1272.8 1497.21 M1272.8 1490.73 Q1282.97 1490.73 1288.31 1498.79 Q1293.7 1506.81 1293.7 1522.12 Q1293.7 1537.4 1288.31 1545.46 Q1282.97 1553.48 1272.8 1553.48 Q1262.63 1553.48 1257.24 1545.46 Q1251.9 1537.4 1251.9 1522.12 Q1251.9 1506.81 1257.24 1498.79 Q1262.63 1490.73 1272.8 1490.73 Z\" fill=\"#000000\" fill-rule=\"evenodd\" fill-opacity=\"1\" /><path clip-path=\"url(#clip400)\" d=\"M1457.87 1545.42 L1471.23 1545.42 L1471.23 1499.28 L1456.69 1502.19 L1456.69 1494.74 L1471.15 1491.82 L1479.34 1491.82 L1479.34 1545.42 L1492.7 1545.42 L1492.7 1552.3 L1457.87 1552.3 L1457.87 1545.42 Z\" fill=\"#000000\" fill-rule=\"evenodd\" fill-opacity=\"1\" /><path clip-path=\"url(#clip400)\" d=\"M1667.24 1545.42 L1695.8 1545.42 L1695.8 1552.3 L1657.39 1552.3 L1657.39 1545.42 Q1662.05 1540.6 1670.07 1532.49 Q1678.13 1524.35 1680.2 1522 Q1684.13 1517.59 1685.67 1514.55 Q1687.25 1511.47 1687.25 1508.51 Q1687.25 1503.69 1683.85 1500.65 Q1680.48 1497.62 1675.06 1497.62 Q1671.21 1497.62 1666.91 1498.95 Q1662.66 1500.29 1657.8 1503 L1657.8 1494.74 Q1662.74 1492.76 1667.03 1491.74 Q1671.33 1490.73 1674.89 1490.73 Q1684.29 1490.73 1689.88 1495.43 Q1695.47 1500.13 1695.47 1507.99 Q1695.47 1511.71 1694.05 1515.08 Q1692.68 1518.4 1688.99 1522.93 Q1687.98 1524.11 1682.55 1529.74 Q1677.12 1535.33 1667.24 1545.42 Z\" fill=\"#000000\" fill-rule=\"evenodd\" fill-opacity=\"1\" /><path clip-path=\"url(#clip400)\" d=\"M1885.93 1519.69 Q1891.8 1520.95 1895.08 1524.92 Q1898.4 1528.89 1898.4 1534.72 Q1898.4 1543.68 1892.24 1548.58 Q1886.09 1553.48 1874.75 1553.48 Q1870.94 1553.48 1866.89 1552.71 Q1862.88 1551.98 1858.58 1550.48 L1858.58 1542.58 Q1861.98 1544.57 1866.04 1545.58 Q1870.09 1546.59 1874.5 1546.59 Q1882.2 1546.59 1886.21 1543.55 Q1890.26 1540.52 1890.26 1534.72 Q1890.26 1529.38 1886.49 1526.38 Q1882.77 1523.34 1876.08 1523.34 L1869.03 1523.34 L1869.03 1516.62 L1876.41 1516.62 Q1882.44 1516.62 1885.64 1514.23 Q1888.84 1511.79 1888.84 1507.26 Q1888.84 1502.6 1885.52 1500.13 Q1882.24 1497.62 1876.08 1497.62 Q1872.72 1497.62 1868.87 1498.35 Q1865.02 1499.07 1860.4 1500.61 L1860.4 1493.32 Q1865.06 1492.03 1869.11 1491.38 Q1873.21 1490.73 1876.81 1490.73 Q1886.13 1490.73 1891.56 1494.98 Q1896.98 1499.2 1896.98 1506.41 Q1896.98 1511.43 1894.11 1514.91 Q1891.23 1518.36 1885.93 1519.69 Z\" fill=\"#000000\" fill-rule=\"evenodd\" fill-opacity=\"1\" /><polyline clip-path=\"url(#clip402)\" style=\"stroke:#000000; stroke-linecap:butt; stroke-linejoin:round; stroke-width:2; stroke-opacity:0.1; fill:none\" points=\"\n  667.106,1460.53 1878.49,1460.53 \n  \"/>\n<polyline clip-path=\"url(#clip402)\" style=\"stroke:#000000; stroke-linecap:butt; stroke-linejoin:round; stroke-width:2; stroke-opacity:0.1; fill:none\" points=\"\n  667.106,1258.63 1878.49,1258.63 \n  \"/>\n<polyline clip-path=\"url(#clip402)\" style=\"stroke:#000000; stroke-linecap:butt; stroke-linejoin:round; stroke-width:2; stroke-opacity:0.1; fill:none\" points=\"\n  667.106,1056.73 1878.49,1056.73 \n  \"/>\n<polyline clip-path=\"url(#clip402)\" style=\"stroke:#000000; stroke-linecap:butt; stroke-linejoin:round; stroke-width:2; stroke-opacity:0.1; fill:none\" points=\"\n  667.106,854.835 1878.49,854.835 \n  \"/>\n<polyline clip-path=\"url(#clip402)\" style=\"stroke:#000000; stroke-linecap:butt; stroke-linejoin:round; stroke-width:2; stroke-opacity:0.1; fill:none\" points=\"\n  667.106,652.937 1878.49,652.937 \n  \"/>\n<polyline clip-path=\"url(#clip402)\" style=\"stroke:#000000; stroke-linecap:butt; stroke-linejoin:round; stroke-width:2; stroke-opacity:0.1; fill:none\" points=\"\n  667.106,451.039 1878.49,451.039 \n  \"/>\n<polyline clip-path=\"url(#clip402)\" style=\"stroke:#000000; stroke-linecap:butt; stroke-linejoin:round; stroke-width:2; stroke-opacity:0.1; fill:none\" points=\"\n  667.106,249.142 1878.49,249.142 \n  \"/>\n<polyline clip-path=\"url(#clip402)\" style=\"stroke:#000000; stroke-linecap:butt; stroke-linejoin:round; stroke-width:2; stroke-opacity:0.1; fill:none\" points=\"\n  667.106,47.2441 1878.49,47.2441 \n  \"/>\n<polyline clip-path=\"url(#clip400)\" style=\"stroke:#000000; stroke-linecap:butt; stroke-linejoin:round; stroke-width:4; stroke-opacity:1; fill:none\" points=\"\n  667.106,1460.53 667.106,47.2441 \n  \"/>\n<polyline clip-path=\"url(#clip400)\" style=\"stroke:#000000; stroke-linecap:butt; stroke-linejoin:round; stroke-width:4; stroke-opacity:1; fill:none\" points=\"\n  667.106,1460.53 681.643,1460.53 \n  \"/>\n<polyline clip-path=\"url(#clip400)\" style=\"stroke:#000000; stroke-linecap:butt; stroke-linejoin:round; stroke-width:4; stroke-opacity:1; fill:none\" points=\"\n  667.106,1258.63 681.643,1258.63 \n  \"/>\n<polyline clip-path=\"url(#clip400)\" style=\"stroke:#000000; stroke-linecap:butt; stroke-linejoin:round; stroke-width:4; stroke-opacity:1; fill:none\" points=\"\n  667.106,1056.73 681.643,1056.73 \n  \"/>\n<polyline clip-path=\"url(#clip400)\" style=\"stroke:#000000; stroke-linecap:butt; stroke-linejoin:round; stroke-width:4; stroke-opacity:1; fill:none\" points=\"\n  667.106,854.835 681.643,854.835 \n  \"/>\n<polyline clip-path=\"url(#clip400)\" style=\"stroke:#000000; stroke-linecap:butt; stroke-linejoin:round; stroke-width:4; stroke-opacity:1; fill:none\" points=\"\n  667.106,652.937 681.643,652.937 \n  \"/>\n<polyline clip-path=\"url(#clip400)\" style=\"stroke:#000000; stroke-linecap:butt; stroke-linejoin:round; stroke-width:4; stroke-opacity:1; fill:none\" points=\"\n  667.106,451.039 681.643,451.039 \n  \"/>\n<polyline clip-path=\"url(#clip400)\" style=\"stroke:#000000; stroke-linecap:butt; stroke-linejoin:round; stroke-width:4; stroke-opacity:1; fill:none\" points=\"\n  667.106,249.142 681.643,249.142 \n  \"/>\n<polyline clip-path=\"url(#clip400)\" style=\"stroke:#000000; stroke-linecap:butt; stroke-linejoin:round; stroke-width:4; stroke-opacity:1; fill:none\" points=\"\n  667.106,47.2441 681.643,47.2441 \n  \"/>\n<path clip-path=\"url(#clip400)\" d=\"M525.256 1461.32 L577.188 1461.32 L577.188 1468.2 L525.256 1468.2 L525.256 1461.32 Z\" fill=\"#000000\" fill-rule=\"evenodd\" fill-opacity=\"1\" /><path clip-path=\"url(#clip400)\" d=\"M596.268 1483.88 L609.636 1483.88 L609.636 1437.74 L595.093 1440.66 L595.093 1433.2 L609.555 1430.29 L617.738 1430.29 L617.738 1483.88 L631.106 1483.88 L631.106 1490.77 L596.268 1490.77 L596.268 1483.88 Z\" fill=\"#000000\" fill-rule=\"evenodd\" fill-opacity=\"1\" /><path clip-path=\"url(#clip400)\" d=\"M610.203 1233.78 Q603.884 1233.78 600.684 1240.02 Q597.524 1246.21 597.524 1258.69 Q597.524 1271.13 600.684 1277.37 Q603.884 1283.56 610.203 1283.56 Q616.563 1283.56 619.723 1277.37 Q622.923 1271.13 622.923 1258.69 Q622.923 1246.21 619.723 1240.02 Q616.563 1233.78 610.203 1233.78 M610.203 1227.3 Q620.371 1227.3 625.718 1235.36 Q631.106 1243.38 631.106 1258.69 Q631.106 1273.96 625.718 1282.02 Q620.371 1290.04 610.203 1290.04 Q600.036 1290.04 594.648 1282.02 Q589.301 1273.96 589.301 1258.69 Q589.301 1243.38 594.648 1235.36 Q600.036 1227.3 610.203 1227.3 Z\" fill=\"#000000\" fill-rule=\"evenodd\" fill-opacity=\"1\" /><path clip-path=\"url(#clip400)\" d=\"M596.268 1080.09 L609.636 1080.09 L609.636 1033.95 L595.093 1036.86 L595.093 1029.41 L609.555 1026.49 L617.738 1026.49 L617.738 1080.09 L631.106 1080.09 L631.106 1086.97 L596.268 1086.97 L596.268 1080.09 Z\" fill=\"#000000\" fill-rule=\"evenodd\" fill-opacity=\"1\" /><path clip-path=\"url(#clip400)\" d=\"M602.547 878.188 L631.106 878.188 L631.106 885.075 L592.703 885.075 L592.703 878.188 Q597.362 873.368 605.383 865.266 Q613.444 857.124 615.51 854.774 Q619.439 850.359 620.979 847.32 Q622.559 844.242 622.559 841.285 Q622.559 836.464 619.156 833.426 Q615.794 830.388 610.365 830.388 Q606.517 830.388 602.223 831.724 Q597.97 833.061 593.109 835.775 L593.109 827.511 Q598.051 825.527 602.345 824.514 Q606.639 823.501 610.203 823.501 Q619.601 823.501 625.192 828.2 Q630.782 832.899 630.782 840.758 Q630.782 844.485 629.364 847.847 Q627.987 851.169 624.301 855.706 Q623.288 856.881 617.86 862.511 Q612.431 868.102 602.547 878.188 Z\" fill=\"#000000\" fill-rule=\"evenodd\" fill-opacity=\"1\" /><path clip-path=\"url(#clip400)\" d=\"M618.629 650.567 Q624.503 651.823 627.784 655.793 Q631.106 659.763 631.106 665.596 Q631.106 674.549 624.949 679.45 Q618.791 684.352 607.449 684.352 Q603.641 684.352 599.59 683.582 Q595.58 682.853 591.286 681.354 L591.286 673.455 Q594.688 675.44 598.739 676.453 Q602.79 677.465 607.206 677.465 Q614.902 677.465 618.913 674.427 Q622.964 671.389 622.964 665.596 Q622.964 660.249 619.196 657.251 Q615.47 654.213 608.786 654.213 L601.737 654.213 L601.737 647.489 L609.11 647.489 Q615.145 647.489 618.346 645.099 Q621.546 642.668 621.546 638.131 Q621.546 633.473 618.224 631.001 Q614.943 628.49 608.786 628.49 Q605.423 628.49 601.575 629.219 Q597.727 629.948 593.109 631.488 L593.109 624.196 Q597.767 622.9 601.818 622.252 Q605.909 621.603 609.515 621.603 Q618.832 621.603 624.26 625.857 Q629.688 630.07 629.688 637.28 Q629.688 642.304 626.812 645.787 Q623.936 649.231 618.629 650.567 Z\" fill=\"#000000\" fill-rule=\"evenodd\" fill-opacity=\"1\" /><path clip-path=\"url(#clip400)\" d=\"M614.335 427.929 L593.676 460.215 L614.335 460.215 L614.335 427.929 M612.188 420.799 L622.478 420.799 L622.478 460.215 L631.106 460.215 L631.106 467.02 L622.478 467.02 L622.478 481.279 L614.335 481.279 L614.335 467.02 L587.032 467.02 L587.032 459.121 L612.188 420.799 Z\" fill=\"#000000\" fill-rule=\"evenodd\" fill-opacity=\"1\" /><path clip-path=\"url(#clip400)\" d=\"M594.526 218.902 L626.65 218.902 L626.65 225.788 L602.021 225.788 L602.021 240.615 Q603.803 240.007 605.585 239.723 Q607.368 239.399 609.15 239.399 Q619.277 239.399 625.192 244.949 Q631.106 250.499 631.106 259.978 Q631.106 269.741 625.03 275.169 Q618.953 280.557 607.894 280.557 Q604.086 280.557 600.117 279.908 Q596.187 279.26 591.974 277.964 L591.974 269.741 Q595.62 271.726 599.509 272.698 Q603.398 273.67 607.732 273.67 Q614.74 273.67 618.832 269.984 Q622.923 266.297 622.923 259.978 Q622.923 253.659 618.832 249.972 Q614.74 246.286 607.732 246.286 Q604.451 246.286 601.17 247.015 Q597.929 247.744 594.526 249.284 L594.526 218.902 Z\" fill=\"#000000\" fill-rule=\"evenodd\" fill-opacity=\"1\" /><path clip-path=\"url(#clip400)\" d=\"M610.933 43.9831 Q605.423 43.9831 602.183 47.7505 Q598.982 51.5178 598.982 58.0803 Q598.982 64.6022 602.183 68.4101 Q605.423 72.1774 610.933 72.1774 Q616.442 72.1774 619.642 68.4101 Q622.883 64.6022 622.883 58.0803 Q622.883 51.5178 619.642 47.7505 Q616.442 43.9831 610.933 43.9831 M627.177 18.3409 L627.177 25.7946 Q624.098 24.3362 620.938 23.5666 Q617.819 22.7969 614.74 22.7969 Q606.639 22.7969 602.345 28.2656 Q598.091 33.7343 597.484 44.7933 Q599.874 41.269 603.479 39.4056 Q607.084 37.5017 611.419 37.5017 Q620.533 37.5017 625.799 43.0514 Q631.106 48.5606 631.106 58.0803 Q631.106 67.3973 625.597 73.0281 Q620.088 78.6589 610.933 78.6589 Q600.441 78.6589 594.891 70.6381 Q589.341 62.5768 589.341 47.3049 Q589.341 32.9647 596.147 24.4578 Q602.952 15.9104 614.416 15.9104 Q617.495 15.9104 620.614 16.518 Q623.774 17.1256 627.177 18.3409 Z\" fill=\"#000000\" fill-rule=\"evenodd\" fill-opacity=\"1\" /><polyline clip-path=\"url(#clip402)\" style=\"stroke:#000000; stroke-linecap:butt; stroke-linejoin:round; stroke-width:72; stroke-opacity:1; fill:none\" points=\"\n  1267.49,247.873 1280.78,249.983 \n  \"/>\n<polyline clip-path=\"url(#clip402)\" style=\"stroke:#000000; stroke-linecap:butt; stroke-linejoin:round; stroke-width:72; stroke-opacity:1; fill:none\" points=\"\n  1307.37,254.203 1320.66,256.314 \n  \"/>\n<polyline clip-path=\"url(#clip402)\" style=\"stroke:#e26f46; stroke-linecap:butt; stroke-linejoin:round; stroke-width:60; stroke-opacity:1; fill:none\" points=\"\n  1254.19,245.762 1333.95,258.424 \n  \"/>\n<path clip-path=\"url(#clip402)\" d=\"\nM1247.55 664.977 L1248.52 674.847 L1250.45 684.575 L1253.33 694.067 L1257.13 703.23 L1261.8 711.978 L1267.32 720.225 L1273.61 727.892 L1280.62 734.906 L1288.29 741.198 \n  L1296.54 746.708 L1305.28 751.384 L1314.45 755.18 L1323.94 758.059 L1333.67 759.994 L1343.54 760.966 L1353.46 760.966 L1363.33 759.994 L1373.05 758.059 L1382.55 755.18 \n  L1391.71 751.384 L1400.46 746.708 L1408.7 741.198 L1416.37 734.906 L1423.38 727.892 L1429.68 720.225 L1435.19 711.978 L1439.86 703.23 L1443.66 694.067 L1446.54 684.575 \n  L1448.47 674.847 L1449.44 664.977 L1449.44 655.058 L1448.47 645.187 L1446.54 635.459 L1443.66 625.968 L1439.86 616.804 L1435.19 608.057 L1429.68 599.81 L1423.38 592.142 \n  L1416.37 585.129 L1408.7 578.837 L1400.46 573.326 L1391.71 568.65 L1382.55 564.855 L1373.05 561.976 L1363.33 560.041 L1353.46 559.068 L1343.54 559.068 L1333.67 560.041 \n  L1323.94 561.976 L1314.45 564.855 L1305.28 568.65 L1296.54 573.326 L1288.29 578.837 L1280.62 585.129 L1273.61 592.142 L1267.32 599.81 L1261.8 608.057 L1257.13 616.804 \n  L1253.33 625.968 L1250.45 635.459 L1248.52 645.187 L1247.55 655.058 L1247.55 664.977 L1247.55 664.977  Z\n  \" fill=\"#c271d2\" fill-rule=\"evenodd\" fill-opacity=\"0.5\"/>\n<polyline clip-path=\"url(#clip402)\" style=\"stroke:#000000; stroke-linecap:butt; stroke-linejoin:round; stroke-width:4; stroke-opacity:0.5; fill:none\" points=\"\n  1247.55,664.977 1248.52,674.847 1250.45,684.575 1253.33,694.067 1257.13,703.23 1261.8,711.978 1267.32,720.225 1273.61,727.892 1280.62,734.906 1288.29,741.198 \n  1296.54,746.708 1305.28,751.384 1314.45,755.18 1323.94,758.059 1333.67,759.994 1343.54,760.966 1353.46,760.966 1363.33,759.994 1373.05,758.059 1382.55,755.18 \n  1391.71,751.384 1400.46,746.708 1408.7,741.198 1416.37,734.906 1423.38,727.892 1429.68,720.225 1435.19,711.978 1439.86,703.23 1443.66,694.067 1446.54,684.575 \n  1448.47,674.847 1449.44,664.977 1449.44,655.058 1448.47,645.187 1446.54,635.459 1443.66,625.968 1439.86,616.804 1435.19,608.057 1429.68,599.81 1423.38,592.142 \n  1416.37,585.129 1408.7,578.837 1400.46,573.326 1391.71,568.65 1382.55,564.855 1373.05,561.976 1363.33,560.041 1353.46,559.068 1343.54,559.068 1333.67,560.041 \n  1323.94,561.976 1314.45,564.855 1305.28,568.65 1296.54,573.326 1288.29,578.837 1280.62,585.129 1273.61,592.142 1267.32,599.81 1261.8,608.057 1257.13,616.804 \n  1253.33,625.968 1250.45,635.459 1248.52,645.187 1247.55,655.058 1247.55,664.977 \n  \"/>\n<path clip-path=\"url(#clip402)\" d=\"\nM1169.33 1013.99 L1170.31 1023.86 L1172.24 1033.59 L1175.12 1043.08 L1178.92 1052.24 L1183.59 1060.99 L1189.1 1069.24 L1195.39 1076.9 L1202.41 1083.92 L1210.07 1090.21 \n  L1218.32 1095.72 L1227.07 1100.4 L1236.23 1104.19 L1245.72 1107.07 L1255.45 1109.01 L1265.32 1109.98 L1275.24 1109.98 L1285.11 1109.01 L1294.84 1107.07 L1304.33 1104.19 \n  L1313.5 1100.4 L1322.24 1095.72 L1330.49 1090.21 L1338.16 1083.92 L1345.17 1076.9 L1351.46 1069.24 L1356.97 1060.99 L1361.65 1052.24 L1365.45 1043.08 L1368.32 1033.59 \n  L1370.26 1023.86 L1371.23 1013.99 L1371.23 1004.07 L1370.26 994.198 L1368.32 984.47 L1365.45 974.979 L1361.65 965.815 L1356.97 957.068 L1351.46 948.821 L1345.17 941.154 \n  L1338.16 934.14 L1330.49 927.848 L1322.24 922.337 L1313.5 917.662 L1304.33 913.866 L1294.84 910.987 L1285.11 909.052 L1275.24 908.08 L1265.32 908.08 L1255.45 909.052 \n  L1245.72 910.987 L1236.23 913.866 L1227.07 917.662 L1218.32 922.337 L1210.07 927.848 L1202.41 934.14 L1195.39 941.154 L1189.1 948.821 L1183.59 957.068 L1178.92 965.815 \n  L1175.12 974.979 L1172.24 984.47 L1170.31 994.198 L1169.33 1004.07 L1169.33 1013.99 L1169.33 1013.99  Z\n  \" fill=\"#ac8d18\" fill-rule=\"evenodd\" fill-opacity=\"0.5\"/>\n<polyline clip-path=\"url(#clip402)\" style=\"stroke:#000000; stroke-linecap:butt; stroke-linejoin:round; stroke-width:4; stroke-opacity:0.5; fill:none\" points=\"\n  1169.33,1013.99 1170.31,1023.86 1172.24,1033.59 1175.12,1043.08 1178.92,1052.24 1183.59,1060.99 1189.1,1069.24 1195.39,1076.9 1202.41,1083.92 1210.07,1090.21 \n  1218.32,1095.72 1227.07,1100.4 1236.23,1104.19 1245.72,1107.07 1255.45,1109.01 1265.32,1109.98 1275.24,1109.98 1285.11,1109.01 1294.84,1107.07 1304.33,1104.19 \n  1313.5,1100.4 1322.24,1095.72 1330.49,1090.21 1338.16,1083.92 1345.17,1076.9 1351.46,1069.24 1356.97,1060.99 1361.65,1052.24 1365.45,1043.08 1368.32,1033.59 \n  1370.26,1023.86 1371.23,1013.99 1371.23,1004.07 1370.26,994.198 1368.32,984.47 1365.45,974.979 1361.65,965.815 1356.97,957.068 1351.46,948.821 1345.17,941.154 \n  1338.16,934.14 1330.49,927.848 1322.24,922.337 1313.5,917.662 1304.33,913.866 1294.84,910.987 1285.11,909.052 1275.24,908.08 1265.32,908.08 1255.45,909.052 \n  1245.72,910.987 1236.23,913.866 1227.07,917.662 1218.32,922.337 1210.07,927.848 1202.41,934.14 1195.39,941.154 1189.1,948.821 1183.59,957.068 1178.92,965.815 \n  1175.12,974.979 1172.24,984.47 1170.31,994.198 1169.33,1004.07 1169.33,1013.99 \n  \"/>\n<path clip-path=\"url(#clip402)\" d=\"\nM1191.62 895.472 L1191.62 905.391 L1192.59 915.262 L1194.53 924.99 L1197.4 934.481 L1201.2 943.645 L1205.88 952.392 L1211.39 960.639 L1217.68 968.306 L1224.69 975.32 \n  L1232.36 981.612 L1240.61 987.123 L1249.35 991.798 L1258.52 995.594 L1268.01 998.473 L1277.74 1000.41 L1287.61 1001.38 L1297.53 1001.38 L1307.4 1000.41 L1317.12 998.473 \n  L1326.62 995.594 L1335.78 991.798 L1344.53 987.123 L1352.77 981.612 L1360.44 975.32 L1367.45 968.306 L1373.75 960.639 L1379.26 952.392 L1383.93 943.645 L1387.73 934.481 \n  L1390.61 924.99 L1392.54 915.262 L1393.52 905.391 L1393.52 895.472 L1392.54 885.601 L1390.61 875.873 L1387.73 866.382 L1383.93 857.218 L1379.26 848.471 L1373.75 840.224 \n  L1367.45 832.557 L1360.44 825.543 L1352.77 819.251 L1344.53 813.74 L1335.78 809.065 L1326.62 805.269 L1317.12 802.39 L1307.4 800.455 L1297.53 799.483 L1287.61 799.483 \n  L1277.74 800.455 L1268.01 802.39 L1258.52 805.269 L1249.35 809.065 L1240.61 813.74 L1232.36 819.251 L1224.69 825.543 L1217.68 832.557 L1211.39 840.224 L1205.88 848.471 \n  L1201.2 857.218 L1197.4 866.382 L1194.53 875.873 L1192.59 885.601 L1191.62 895.472 L1191.62 895.472  Z\n  \" fill=\"#00a9ad\" fill-rule=\"evenodd\" fill-opacity=\"0.5\"/>\n<polyline clip-path=\"url(#clip402)\" style=\"stroke:#000000; stroke-linecap:butt; stroke-linejoin:round; stroke-width:4; stroke-opacity:0.5; fill:none\" points=\"\n  1191.62,895.472 1191.62,905.391 1192.59,915.262 1194.53,924.99 1197.4,934.481 1201.2,943.645 1205.88,952.392 1211.39,960.639 1217.68,968.306 1224.69,975.32 \n  1232.36,981.612 1240.61,987.123 1249.35,991.798 1258.52,995.594 1268.01,998.473 1277.74,1000.41 1287.61,1001.38 1297.53,1001.38 1307.4,1000.41 1317.12,998.473 \n  1326.62,995.594 1335.78,991.798 1344.53,987.123 1352.77,981.612 1360.44,975.32 1367.45,968.306 1373.75,960.639 1379.26,952.392 1383.93,943.645 1387.73,934.481 \n  1390.61,924.99 1392.54,915.262 1393.52,905.391 1393.52,895.472 1392.54,885.601 1390.61,875.873 1387.73,866.382 1383.93,857.218 1379.26,848.471 1373.75,840.224 \n  1367.45,832.557 1360.44,825.543 1352.77,819.251 1344.53,813.74 1335.78,809.065 1326.62,805.269 1317.12,802.39 1307.4,800.455 1297.53,799.483 1287.61,799.483 \n  1277.74,800.455 1268.01,802.39 1258.52,805.269 1249.35,809.065 1240.61,813.74 1232.36,819.251 1224.69,825.543 1217.68,832.557 1211.39,840.224 1205.88,848.471 \n  1201.2,857.218 1197.4,866.382 1194.53,875.873 1192.59,885.601 1191.62,895.472 \n  \"/>\n<polyline clip-path=\"url(#clip402)\" style=\"stroke:#3da44d; stroke-linecap:butt; stroke-linejoin:round; stroke-width:4; stroke-opacity:1; fill:none\" points=\"\n  1272.8,1258.63 1273.74,1259 1274.43,1259.37 1275.84,1259.88 1276.43,1260.23 1277.09,1260.63 1277.54,1260.97 1277.79,1261.16 1278.53,1261.47 1279.54,1261.81 \n  1279.14,1261.46 1278.58,1261.44 1278.36,1261.32 1279.91,1261.81 1280.76,1262.36 1280.25,1261.85 1280.5,1262.05 1281.01,1262.13 1282.63,1262.64 1282.81,1262.66 \n  1283.18,1262.72 1283.96,1263.03 1285,1263.34 1284.31,1262.83 1285.26,1263.44 1284.57,1262.92 1285.21,1263.43 1284.7,1262.87 1283.59,1261.97 1283.36,1261.98 \n  1282.92,1261.72 1282.25,1261.14 1282.91,1261.45 1283.06,1261.5 1283.1,1261.41 1284.15,1261.88 1285.24,1262.21 1286.24,1262.68 1286.76,1262.83 1286.27,1262.37 \n  1286.43,1262.51 1286.55,1262.43 1288.2,1262.72 1287.47,1262.53 1288.19,1261.35 1289.51,1259.75 1288.94,1259.5 1288.83,1258.94 1288.11,1258.59 1287.36,1258.3 \n  1286.28,1258.14 1287.4,1258.61 1287.77,1258.69 1287.91,1258.88 1287.46,1258.41 1286.68,1258.11 1286.38,1258.01 1285.86,1257.73 1284.94,1257.26 1285.29,1257.71 \n  1286.58,1258.63 1286.74,1258.88 1287.78,1259.53 1287.51,1259.82 1289.21,1260.52 1290.85,1261.15 1291.57,1261.33 1290.85,1260.71 1290.53,1260.67 1291.6,1261.05 \n  1291.13,1261.02 1291.16,1260.99 1292.34,1261.63 1293.73,1262.73 1293.82,1262.59 1293.59,1262.97 1292.73,1262.23 1293,1262.37 1293.98,1263.19 1294.47,1263.49 \n  1293.97,1262.92 1294.5,1263.26 1294.39,1262.99 1294.32,1263.12 1293.18,1262.29 1292.47,1261.65 1292.64,1261.68 1293.9,1262.17 1293.85,1262.29 1293.59,1262.39 \n  1295.16,1263.33 1295.38,1263.3 1296.04,1263.38 1297.2,1263.87 1297.55,1263.98 1299.07,1264.62 1299.57,1265.09 1300.1,1265.07 1300.75,1265.25 1300.08,1264.58 \n  1300.59,1265.12 1299.58,1264.2 1299.36,1263.92 1298.89,1263.46 1299.03,1263.44 1298.13,1262.57 1297.28,1261.93 1297.22,1261.86 1298.68,1262.65 1298.27,1262.69 \n  1298.91,1262.72 1298.98,1262.92 1300.49,1263.2 1299.72,1263.25 1301.22,1264.06 1302.04,1264.18 1302.44,1264.09 1302.05,1263.67 1301.12,1263.11 1300.62,1262.42 \n  1301,1262.07 1301.54,1261.88 1302.18,1261.77 1302.71,1261 1303.2,1260.79 1303.62,1260.45 1302.73,1259.7 1302.59,1259.56 1301.48,1259.74 1301.7,1259.63 \n  1301.64,1259.66 1301.26,1259.41 1302.79,1260.03 1302.85,1259.92 1304.22,1260.54 1304.72,1260.93 1305.34,1261.4 1303.98,1261.3 1304.33,1261.49 1305.61,1261.97 \n  1306.57,1262.27 1306.75,1262.48 1307.88,1262.87 1309.41,1263.12 1309.53,1263.41 1310.49,1263.9 1311.1,1264.49 1310.72,1264.37 1312.29,1264.67 1313.86,1265.34 \n  1314.03,1265.19 1313,1264.1 1312.73,1263.79 1313.57,1264.08 1314.45,1264.41 1315.29,1264.83 1316.78,1265.32 1315.67,1265.06 1314.86,1264.88 1313.63,1264.69 \n  1314.91,1264.91 1315.37,1265.16 1316.55,1265.43 1316.79,1265.55 1315.68,1264.46 1315.9,1264.86 1315,1263.91 1314.73,1263.62 1313.57,1262.78 1313.49,1263.25 \n  1314.98,1263.55 1316.57,1264.37 1316.35,1263.88 1317.01,1264.14 1317.62,1264.29 1317.5,1264.1 1317.35,1263.7 1316.97,1263.22 1318.05,1263.44 1318.23,1263.29 \n  1317.63,1262.71 1318.04,1262.54 1317.53,1262.05 1317.93,1262.04 1317.1,1261.12 1317.06,1261.05 1317.43,1260.34 1316.67,1259.75 1316.29,1259.26 1315.36,1258.63 \n  1314.41,1257.96 1313.64,1257.4 1313.78,1257.54 1313.25,1257.32 1313.27,1257.35 1312.82,1256.97 1313.35,1257.48 1313.79,1257.54 1313.73,1257.75 1313.21,1257.5 \n  1314.52,1258.23 1313.74,1258.36 1312.36,1258.22 1314.12,1258.92 1313.51,1259.12 1314.26,1259.89 1315.91,1260.5 1316.79,1260.9 1318.09,1261.5 1319.7,1262.09 \n  1319.43,1261.83 1319.37,1261.83 1319.76,1261.81 1319.29,1261.31 1319.65,1261.4 1320.28,1261.81 1320.96,1262.03 1320.44,1261.81 1321.74,1262.23 1322.9,1262.92 \n  1323.23,1263.19 1322.73,1262.95 1324.15,1263.27 1324.4,1263.13 1325.96,1263.78 1326.89,1263.83 1326.73,1263.43 1327.07,1263.21 1328.15,1263.58 1328.84,1263.48 \n  1330.49,1263.66 1330.79,1263.8 1329.54,1263.38 1329.75,1262.66 1331.02,1261.11 1330.67,1261.65 1330.2,1261.24 1329.64,1262.13 1330.14,1261.7 1330.27,1261.64 \n  1331.54,1260.85 1331.04,1261.78 1331.98,1259.97 1331.38,1259.52 1331.56,1259.74 1332.14,1260.11 1332.61,1260.19 1332.16,1260.24 1333.4,1260.47 1334.96,1260.8 \n  1336.06,1261.06 1336.99,1261.54 1336.94,1261.47 1337.74,1262.17 1338.18,1262.42 1337.56,1262.32 1336.57,1262.12 1336.76,1262.28 1337.7,1262.41 1338.46,1262.55 \n  1338.34,1262.75 1339.76,1263.01 1338.92,1262.93 1340.58,1263.06 1339.95,1263.08 1341.35,1263.3 1342.8,1263.59 1343.47,1263.43 1345.09,1263.81 1345.38,1263.42 \n  1345.06,1263.26 1344.13,1262.21 1343.27,1261.27 1344.21,1261.46 1343.39,1260.51 1344.12,1260.53 1343.73,1260.28 1344.5,1260.73 1345.5,1260.98 1344.06,1260.69 \n  1343.25,1260.6 1344.89,1260.99 1345.78,1261.02 1345.85,1261.25 1347.37,1261.63 1348.09,1261.76 1349.14,1262.1 1350.4,1262.25 1349.62,1261.99 1348.47,1261.84 \n  1347.23,1261.57 1349.02,1261.98 1347.66,1261.91 1346.76,1261.37 1345.29,1260.96 1346.47,1261.36 1346.83,1261.46 1346.92,1261.65 1348.45,1262.06 1348.86,1261.89 \n  1349.17,1261.61 1348.36,1260.5 1347.77,1259.8 1347.64,1259.65 1348.51,1260.01 1349.21,1260.13 1350.14,1260.12 1350.02,1261.03 1351.43,1261.83 1351.82,1262.29 \n  1353.2,1262.34 1353.27,1262.06 1354.25,1262.21 1355.69,1262.53 1356,1262.27 1356.81,1262.2 1355.66,1261.93 1354.3,1261.59 1353.08,1261.35 1352.31,1261.36 \n  1353.59,1261.67 1353.77,1261.6 1354.83,1262.17 1355.9,1263.11 1356.31,1262.83 1355.96,1261.98 1355.3,1260.98 1355.23,1260.88 1356.2,1260.83 1356.75,1260.92 \n  1356.69,1261.03 1357.8,1261.29 1358.69,1261.38 1359.75,1261.62 1360.79,1261.51 1361.78,1261.64 1361.77,1261.71 1363.03,1261.83 1364.11,1261.78 1364.84,1261.7 \n  1366.14,1261.92 1366.53,1262.12 1367.51,1262.2 1368.66,1262.3 1369.66,1262.1 1369.1,1261.14 1368.08,1259.84 1367.89,1259.3 1367.41,1258.73 1367.3,1258.51 \n  1368.12,1258.35 1368.91,1258.36 1368.67,1257.8 1368.44,1257.27 1369.03,1257.28 1369.08,1257.44 1369.35,1256.99 1370.4,1257.04 1370.4,1257.58 1370.72,1257.66 \n  1371.56,1257.97 1372.49,1257.96 1373.82,1258.2 1375.3,1258.25 1375.37,1257.77 1374.44,1256.83 1374.39,1256.47 1373.62,1255.48 1373.04,1254.79 1373.46,1254.59 \n  1372.78,1253.89 1373.47,1254.06 1374.92,1254.24 1375.34,1254.08 1376.48,1254.15 1378.1,1254.26 1379.51,1254.44 1380.85,1254.75 1381.96,1254.7 1383.18,1254.97 \n  1383.94,1254.67 1385.55,1254.82 1386.97,1254.92 1386.81,1254.52 1387.82,1254.57 1387.28,1253.64 1387.18,1252.95 1387.38,1252.21 1387.01,1251.09 1386.06,1249.69 \n  1385.91,1249.13 1385.37,1248.24 1385.21,1247.95 1385.06,1247.27 1385.9,1246.82 1385.57,1245.86 1386.27,1245.2 1385.25,1244.14 1384.27,1243.03 1384.5,1243.02 \n  1385.44,1243.11 1386.01,1243.27 1386.36,1243.27 1386.4,1243.46 1387.44,1243.61 1387.14,1243.35 1388.12,1243.48 1388.57,1243.57 1389.02,1243.31 1389.97,1243.53 \n  1390.83,1243.88 1391.48,1243.89 1392.62,1244.14 1392.48,1243.96 1392.59,1243.87 1391.79,1243.08 1392.51,1242.99 1393.97,1243.48 1394.2,1243.2 1395.45,1243.31 \n  1396.64,1243.48 1398.22,1243.56 1399.53,1243.81 1399.84,1243.94 1400.59,1243.77 1400.57,1243.12 1399.8,1242.02 1400.15,1241.8 1401,1241.76 1400.96,1241.2 \n  1401.28,1241.01 1400.31,1239.8 1400.84,1239.65 1402.18,1239.86 1402.78,1240.05 1404.56,1240.19 1403.05,1239.77 1404.78,1240.05 1403.24,1239.83 1402.1,1239.62 \n  1400.93,1239.29 1400.43,1239.24 1399.52,1239.47 1400.92,1240.11 1399.89,1239.73 1399.8,1238.93 1398.49,1238.81 1398.95,1238.98 1400.51,1239.23 1401.99,1239.54 \n  1402.94,1239.61 1404.33,1239.71 1405.64,1240.17 1406.46,1239.99 1406.34,1239.51 1407.71,1239.62 1408.85,1239.47 1407.82,1239.39 1406.64,1239.01 1406.02,1238.14 \n  1404.85,1237.92 1406.48,1238.54 1407.73,1238.59 1407.24,1238.31 1406.49,1238.83 1407.82,1239.16 1407.92,1239.16 1407.4,1238.96 1406.32,1238.69 1407.51,1238.7 \n  1407.74,1238.57 1406.86,1238.51 1408.12,1238.77 1408.12,1238.68 1409.47,1238.85 1410.75,1239.37 1410.68,1239.54 1411.62,1239.73 1411.86,1239.36 1412.77,1239.17 \n  1411.46,1238.48 1410.87,1238.56 1409.31,1238.21 1407.79,1237.83 1408.64,1237.95 1410.26,1238.38 1411.42,1238.38 1411.96,1238.52 1412.89,1238.37 1411.61,1238.1 \n  1412.15,1236.55 1412.62,1235.57 1412.33,1235.45 1412.8,1234.61 1413.48,1233.12 1412.64,1232.38 1413.13,1232.56 1413.82,1232.68 1413.97,1232.63 1412.66,1232.39 \n  1413.77,1232.58 1415.03,1232.59 1415.84,1232.73 1416.38,1232.45 1417.12,1232.45 1416.88,1231.93 1417.99,1232.34 1418.75,1232.66 1420.26,1232.62 1419.14,1232.3 \n  1419.48,1232.41 1420.28,1232.4 1421.38,1232.29 1421.45,1231.66 1421.28,1230.53 1421.2,1229.31 1422.42,1228.4 1423.66,1226.77 1426.82,1225.05 1436.13,1219.06 \n  1451.92,1212.86 1470.21,1203.46 1486.23,1194.91 1503.82,1185.55 1520.76,1175.74 1539.18,1164.86 1555.57,1155.07 1571.11,1145.18 1585.69,1134.5 1602.33,1122.75 \n  1617.07,1110.43 1631.2,1097.37 1646.49,1083.15 1659.73,1069.82 1672.45,1054.49 1685.42,1038.43 1695.54,1022.73 1706,1006.28 1716.14,987.898 1726.5,969.351 \n  1736.22,950.219 1745.41,932.111 1754.33,912.603 1761.89,893.81 1769.43,874.65 1776.6,854.947 1782.64,835.992 1788.65,815.48 1793.05,795.014 1796.06,775.051 \n  1799.12,755.767 1801.03,735.345 1800.25,714.017 1799.14,693.378 1797.36,673.023 1794.8,653.432 1791.6,633.106 1787.89,612.965 1783.56,594.993 1778.59,575.606 \n  1772.89,555.491 1767.22,538.872 1759.58,521.06 1751.61,503.758 1741.46,486.236 1731.12,469.128 1719.67,453.396 1706.79,437.748 1693.64,423.718 1678.32,408.521 \n  1663.28,394.326 1647.99,380.831 1633.6,366.675 1617.99,354.364 1602.03,341.162 1585.48,329.103 1568.21,318.606 1550.45,309.545 1532.03,302.369 1512.95,296.036 \n  1496.17,286.804 1475.95,283.539 1455.4,280.463 1434.93,277.659 1416.43,275.068 1400.03,272.415 1385.01,269.9 1372.24,267.892 1360.78,265.614 1350.81,263.982 \n  1341.89,261.862 1334.15,260.389 1327.28,258.544 1321.99,257.599 1316.83,256.89 1311.8,255.889 1308.32,254.751 1304.8,253.202 1301.92,251.983 1300.06,251.624 \n  1297.6,251.778 1295.64,251.835 1294.07,252.093 \n  \"/>\n<path clip-path=\"url(#clip400)\" d=\"\nM756.688 1413.42 L1806.5 1413.42 L1806.5 1201.74 L756.688 1201.74  Z\n  \" fill=\"#ffffff\" fill-rule=\"evenodd\" fill-opacity=\"1\"/>\n<polyline clip-path=\"url(#clip400)\" style=\"stroke:#000000; stroke-linecap:butt; stroke-linejoin:round; stroke-width:4; stroke-opacity:1; fill:none\" points=\"\n  756.688,1413.42 1806.5,1413.42 1806.5,1201.74 756.688,1201.74 756.688,1413.42 \n  \"/>\n<polyline clip-path=\"url(#clip400)\" style=\"stroke:#3da44d; stroke-linecap:butt; stroke-linejoin:round; stroke-width:7; stroke-opacity:1; fill:none\" points=\"\n  780.687,1307.58 924.682,1307.58 \n  \"/>\n<path clip-path=\"url(#clip400)\" d=\"M948.681 1277.34 L986.921 1277.34 L986.921 1284.22 L956.863 1284.22 L956.863 1302.13 L985.665 1302.13 L985.665 1309.02 L956.863 1309.02 L956.863 1330.93 L987.65 1330.93 L987.65 1337.82 L948.681 1337.82 L948.681 1277.34 Z\" fill=\"#000000\" fill-rule=\"evenodd\" fill-opacity=\"1\" /><path clip-path=\"url(#clip400)\" d=\"M1038.49 1292.45 L1022.08 1314.53 L1039.34 1337.82 L1030.55 1337.82 L1017.34 1319.99 L1004.14 1337.82 L995.347 1337.82 L1012.97 1314.08 L996.846 1292.45 L1005.64 1292.45 L1017.67 1308.61 L1029.7 1292.45 L1038.49 1292.45 Z\" fill=\"#000000\" fill-rule=\"evenodd\" fill-opacity=\"1\" /><path clip-path=\"url(#clip400)\" d=\"M1086.13 1313.27 L1086.13 1316.92 L1051.86 1316.92 Q1052.34 1324.61 1056.48 1328.66 Q1060.65 1332.67 1068.06 1332.67 Q1072.35 1332.67 1076.37 1331.62 Q1080.42 1330.57 1084.39 1328.46 L1084.39 1335.51 Q1080.38 1337.21 1076.16 1338.1 Q1071.95 1338.99 1067.62 1338.99 Q1056.76 1338.99 1050.4 1332.67 Q1044.08 1326.35 1044.08 1315.58 Q1044.08 1304.44 1050.07 1297.92 Q1056.11 1291.35 1066.32 1291.35 Q1075.47 1291.35 1080.78 1297.27 Q1086.13 1303.14 1086.13 1313.27 M1078.67 1311.08 Q1078.59 1304.97 1075.23 1301.32 Q1071.91 1297.67 1066.4 1297.67 Q1060.16 1297.67 1056.39 1301.2 Q1052.67 1304.72 1052.1 1311.12 L1078.67 1311.08 Z\" fill=\"#000000\" fill-rule=\"evenodd\" fill-opacity=\"1\" /><path clip-path=\"url(#clip400)\" d=\"M1131.01 1294.19 L1131.01 1301.16 Q1127.85 1299.42 1124.65 1298.57 Q1121.49 1297.67 1118.25 1297.67 Q1111 1297.67 1106.99 1302.29 Q1102.98 1306.87 1102.98 1315.17 Q1102.98 1323.48 1106.99 1328.1 Q1111 1332.67 1118.25 1332.67 Q1121.49 1332.67 1124.65 1331.82 Q1127.85 1330.93 1131.01 1329.19 L1131.01 1336.08 Q1127.89 1337.53 1124.53 1338.26 Q1121.21 1338.99 1117.44 1338.99 Q1107.19 1338.99 1101.16 1332.55 Q1095.12 1326.11 1095.12 1315.17 Q1095.12 1304.07 1101.2 1297.71 Q1107.31 1291.35 1117.93 1291.35 Q1121.37 1291.35 1124.65 1292.08 Q1127.93 1292.77 1131.01 1294.19 Z\" fill=\"#000000\" fill-rule=\"evenodd\" fill-opacity=\"1\" /><path clip-path=\"url(#clip400)\" d=\"M1143.21 1319.91 L1143.21 1292.45 L1150.66 1292.45 L1150.66 1319.63 Q1150.66 1326.07 1153.17 1329.31 Q1155.68 1332.51 1160.7 1332.51 Q1166.74 1332.51 1170.22 1328.66 Q1173.75 1324.82 1173.75 1318.17 L1173.75 1292.45 L1181.2 1292.45 L1181.2 1337.82 L1173.75 1337.82 L1173.75 1330.85 Q1171.03 1334.98 1167.43 1337.01 Q1163.86 1338.99 1159.13 1338.99 Q1151.31 1338.99 1147.26 1334.13 Q1143.21 1329.27 1143.21 1319.91 M1161.96 1291.35 L1161.96 1291.35 Z\" fill=\"#000000\" fill-rule=\"evenodd\" fill-opacity=\"1\" /><path clip-path=\"url(#clip400)\" d=\"M1203.93 1279.57 L1203.93 1292.45 L1219.28 1292.45 L1219.28 1298.24 L1203.93 1298.24 L1203.93 1322.87 Q1203.93 1328.42 1205.43 1330 Q1206.97 1331.58 1211.62 1331.58 L1219.28 1331.58 L1219.28 1337.82 L1211.62 1337.82 Q1203 1337.82 1199.72 1334.62 Q1196.43 1331.38 1196.43 1322.87 L1196.43 1298.24 L1190.97 1298.24 L1190.97 1292.45 L1196.43 1292.45 L1196.43 1279.57 L1203.93 1279.57 Z\" fill=\"#000000\" fill-rule=\"evenodd\" fill-opacity=\"1\" /><path clip-path=\"url(#clip400)\" d=\"M1267.89 1313.27 L1267.89 1316.92 L1233.62 1316.92 Q1234.11 1324.61 1238.24 1328.66 Q1242.41 1332.67 1249.82 1332.67 Q1254.12 1332.67 1258.13 1331.62 Q1262.18 1330.57 1266.15 1328.46 L1266.15 1335.51 Q1262.14 1337.21 1257.93 1338.1 Q1253.71 1338.99 1249.38 1338.99 Q1238.52 1338.99 1232.16 1332.67 Q1225.84 1326.35 1225.84 1315.58 Q1225.84 1304.44 1231.84 1297.92 Q1237.87 1291.35 1248.08 1291.35 Q1257.24 1291.35 1262.54 1297.27 Q1267.89 1303.14 1267.89 1313.27 M1260.44 1311.08 Q1260.36 1304.97 1256.99 1301.32 Q1253.67 1297.67 1248.16 1297.67 Q1241.93 1297.67 1238.16 1301.2 Q1234.43 1304.72 1233.86 1311.12 L1260.44 1311.08 Z\" fill=\"#000000\" fill-rule=\"evenodd\" fill-opacity=\"1\" /><path clip-path=\"url(#clip400)\" d=\"M1309.98 1299.33 L1309.98 1274.79 L1317.43 1274.79 L1317.43 1337.82 L1309.98 1337.82 L1309.98 1331.01 Q1307.63 1335.06 1304.03 1337.05 Q1300.46 1338.99 1295.44 1338.99 Q1287.21 1338.99 1282.03 1332.43 Q1276.88 1325.87 1276.88 1315.17 Q1276.88 1304.48 1282.03 1297.92 Q1287.21 1291.35 1295.44 1291.35 Q1300.46 1291.35 1304.03 1293.34 Q1307.63 1295.28 1309.98 1299.33 M1284.58 1315.17 Q1284.58 1323.4 1287.94 1328.1 Q1291.35 1332.75 1297.26 1332.75 Q1303.18 1332.75 1306.58 1328.1 Q1309.98 1323.4 1309.98 1315.17 Q1309.98 1306.95 1306.58 1302.29 Q1303.18 1297.59 1297.26 1297.59 Q1291.35 1297.59 1287.94 1302.29 Q1284.58 1306.95 1284.58 1315.17 Z\" fill=\"#000000\" fill-rule=\"evenodd\" fill-opacity=\"1\" /><path clip-path=\"url(#clip400)\" d=\"M1351.1 1277.34 L1402.26 1277.34 L1402.26 1284.22 L1380.79 1284.22 L1380.79 1337.82 L1372.57 1337.82 L1372.57 1284.22 L1351.1 1284.22 L1351.1 1277.34 Z\" fill=\"#000000\" fill-rule=\"evenodd\" fill-opacity=\"1\" /><path clip-path=\"url(#clip400)\" d=\"M1423.93 1299.42 Q1422.68 1298.69 1421.18 1298.36 Q1419.72 1298 1417.94 1298 Q1411.62 1298 1408.22 1302.13 Q1404.85 1306.22 1404.85 1313.92 L1404.85 1337.82 L1397.36 1337.82 L1397.36 1292.45 L1404.85 1292.45 L1404.85 1299.5 Q1407.2 1295.36 1410.97 1293.38 Q1414.74 1291.35 1420.12 1291.35 Q1420.89 1291.35 1421.83 1291.48 Q1422.76 1291.56 1423.89 1291.76 L1423.93 1299.42 Z\" fill=\"#000000\" fill-rule=\"evenodd\" fill-opacity=\"1\" /><path clip-path=\"url(#clip400)\" d=\"M1452.37 1315.01 Q1443.34 1315.01 1439.85 1317.08 Q1436.37 1319.14 1436.37 1324.13 Q1436.37 1328.1 1438.96 1330.45 Q1441.59 1332.75 1446.09 1332.75 Q1452.29 1332.75 1456.02 1328.38 Q1459.78 1323.96 1459.78 1316.67 L1459.78 1315.01 L1452.37 1315.01 M1467.24 1311.93 L1467.24 1337.82 L1459.78 1337.82 L1459.78 1330.93 Q1457.23 1335.06 1453.42 1337.05 Q1449.62 1338.99 1444.11 1338.99 Q1437.14 1338.99 1433.01 1335.1 Q1428.92 1331.17 1428.92 1324.61 Q1428.92 1316.96 1434.02 1313.07 Q1439.16 1309.18 1449.33 1309.18 L1459.78 1309.18 L1459.78 1308.45 Q1459.78 1303.3 1456.38 1300.51 Q1453.02 1297.67 1446.9 1297.67 Q1443.01 1297.67 1439.33 1298.61 Q1435.64 1299.54 1432.24 1301.4 L1432.24 1294.51 Q1436.33 1292.93 1440.18 1292.16 Q1444.03 1291.35 1447.67 1291.35 Q1457.51 1291.35 1462.38 1296.46 Q1467.24 1301.56 1467.24 1311.93 Z\" fill=\"#000000\" fill-rule=\"evenodd\" fill-opacity=\"1\" /><path clip-path=\"url(#clip400)\" d=\"M1482.59 1292.45 L1490.04 1292.45 L1490.04 1338.63 Q1490.04 1347.3 1486.72 1351.19 Q1483.44 1355.08 1476.11 1355.08 L1473.27 1355.08 L1473.27 1348.76 L1475.26 1348.76 Q1479.51 1348.76 1481.05 1346.77 Q1482.59 1344.83 1482.59 1338.63 L1482.59 1292.45 M1482.59 1274.79 L1490.04 1274.79 L1490.04 1284.22 L1482.59 1284.22 L1482.59 1274.79 Z\" fill=\"#000000\" fill-rule=\"evenodd\" fill-opacity=\"1\" /><path clip-path=\"url(#clip400)\" d=\"M1544.45 1313.27 L1544.45 1316.92 L1510.18 1316.92 Q1510.66 1324.61 1514.79 1328.66 Q1518.97 1332.67 1526.38 1332.67 Q1530.67 1332.67 1534.68 1331.62 Q1538.74 1330.57 1542.71 1328.46 L1542.71 1335.51 Q1538.69 1337.21 1534.48 1338.1 Q1530.27 1338.99 1525.93 1338.99 Q1515.08 1338.99 1508.72 1332.67 Q1502.4 1326.35 1502.4 1315.58 Q1502.4 1304.44 1508.39 1297.92 Q1514.43 1291.35 1524.64 1291.35 Q1533.79 1291.35 1539.1 1297.27 Q1544.45 1303.14 1544.45 1313.27 M1536.99 1311.08 Q1536.91 1304.97 1533.55 1301.32 Q1530.23 1297.67 1524.72 1297.67 Q1518.48 1297.67 1514.71 1301.2 Q1510.99 1304.72 1510.42 1311.12 L1536.99 1311.08 Z\" fill=\"#000000\" fill-rule=\"evenodd\" fill-opacity=\"1\" /><path clip-path=\"url(#clip400)\" d=\"M1589.33 1294.19 L1589.33 1301.16 Q1586.17 1299.42 1582.97 1298.57 Q1579.81 1297.67 1576.57 1297.67 Q1569.32 1297.67 1565.31 1302.29 Q1561.3 1306.87 1561.3 1315.17 Q1561.3 1323.48 1565.31 1328.1 Q1569.32 1332.67 1576.57 1332.67 Q1579.81 1332.67 1582.97 1331.82 Q1586.17 1330.93 1589.33 1329.19 L1589.33 1336.08 Q1586.21 1337.53 1582.85 1338.26 Q1579.53 1338.99 1575.76 1338.99 Q1565.51 1338.99 1559.48 1332.55 Q1553.44 1326.11 1553.44 1315.17 Q1553.44 1304.07 1559.52 1297.71 Q1565.63 1291.35 1576.25 1291.35 Q1579.69 1291.35 1582.97 1292.08 Q1586.25 1292.77 1589.33 1294.19 Z\" fill=\"#000000\" fill-rule=\"evenodd\" fill-opacity=\"1\" /><path clip-path=\"url(#clip400)\" d=\"M1609.67 1279.57 L1609.67 1292.45 L1625.02 1292.45 L1625.02 1298.24 L1609.67 1298.24 L1609.67 1322.87 Q1609.67 1328.42 1611.17 1330 Q1612.7 1331.58 1617.36 1331.58 L1625.02 1331.58 L1625.02 1337.82 L1617.36 1337.82 Q1608.73 1337.82 1605.45 1334.62 Q1602.17 1331.38 1602.17 1322.87 L1602.17 1298.24 L1596.7 1298.24 L1596.7 1292.45 L1602.17 1292.45 L1602.17 1279.57 L1609.67 1279.57 Z\" fill=\"#000000\" fill-rule=\"evenodd\" fill-opacity=\"1\" /><path clip-path=\"url(#clip400)\" d=\"M1652.4 1297.67 Q1646.41 1297.67 1642.92 1302.37 Q1639.44 1307.03 1639.44 1315.17 Q1639.44 1323.32 1642.88 1328.02 Q1646.37 1332.67 1652.4 1332.67 Q1658.36 1332.67 1661.84 1327.97 Q1665.33 1323.28 1665.33 1315.17 Q1665.33 1307.11 1661.84 1302.41 Q1658.36 1297.67 1652.4 1297.67 M1652.4 1291.35 Q1662.13 1291.35 1667.68 1297.67 Q1673.23 1303.99 1673.23 1315.17 Q1673.23 1326.31 1667.68 1332.67 Q1662.13 1338.99 1652.4 1338.99 Q1642.64 1338.99 1637.09 1332.67 Q1631.58 1326.31 1631.58 1315.17 Q1631.58 1303.99 1637.09 1297.67 Q1642.64 1291.35 1652.4 1291.35 Z\" fill=\"#000000\" fill-rule=\"evenodd\" fill-opacity=\"1\" /><path clip-path=\"url(#clip400)\" d=\"M1711.87 1299.42 Q1710.62 1298.69 1709.12 1298.36 Q1707.66 1298 1705.88 1298 Q1699.56 1298 1696.15 1302.13 Q1692.79 1306.22 1692.79 1313.92 L1692.79 1337.82 L1685.3 1337.82 L1685.3 1292.45 L1692.79 1292.45 L1692.79 1299.5 Q1695.14 1295.36 1698.91 1293.38 Q1702.68 1291.35 1708.06 1291.35 Q1708.83 1291.35 1709.76 1291.48 Q1710.7 1291.56 1711.83 1291.76 L1711.87 1299.42 Z\" fill=\"#000000\" fill-rule=\"evenodd\" fill-opacity=\"1\" /><path clip-path=\"url(#clip400)\" d=\"M1738.57 1342.03 Q1735.41 1350.13 1732.41 1352.6 Q1729.41 1355.08 1724.39 1355.08 L1718.43 1355.08 L1718.43 1348.84 L1722.81 1348.84 Q1725.89 1348.84 1727.59 1347.38 Q1729.29 1345.92 1731.36 1340.49 L1732.69 1337.09 L1714.34 1292.45 L1722.24 1292.45 L1736.42 1327.93 L1750.6 1292.45 L1758.5 1292.45 L1738.57 1342.03 Z\" fill=\"#000000\" fill-rule=\"evenodd\" fill-opacity=\"1\" /></svg>\n"
     },
     "metadata": {},
     "output_type": "display_data"
    },
    {
     "data": {
      "text/plain": [
       "true"
      ]
     },
     "execution_count": 81,
     "metadata": {},
     "output_type": "execute_result"
    }
   ],
   "source": [
    "visualize(Xexec3, obstacles=obstacles3, xlims=[-3,3], ylims=[-1,6], fps=1000)\n",
    "# visualize(Xexec3, obstacles=obstacles3, xlims=[-3,3], ylims=[-1,6], fps=100, save_frame=(length(Xexec3)-1, \"../results/phi_collision_3.png\"))"
   ]
  },
  {
   "cell_type": "code",
   "execution_count": 158,
   "metadata": {},
   "outputs": [],
   "source": [
    "Random.seed!(1)\n",
    "n = 1\n",
    "obstacles1 = [Obstacle([rand()*1-0.5, 3], [0,0], obs_radius) for i in 1:n]\n",
    "x0=[0,0,0,π/2]\n",
    "xg=[0,5,0,π/2]\n",
    "obj_cost = [1,1,1,0.1]\n",
    "rp = RP(net, obj_cost, x0, xg)\n",
    "err_bound = [1, 1, 0.1, 0.1]*10\n",
    "ctrl = NvController(err_bound, warm_start=true, bin_precision=1e-1)\n",
    "ci = CollisionIndex(0.1, 1e-3, 2, 1)\n",
    "\n",
    "Xexec1, Uexec, safe_sets, Xrefs, infeas = tracking(rp, ctrl, fps=10, tf=20, obstacles=obstacles1, safety_index=ci, verbose=false);"
   ]
  },
  {
   "cell_type": "code",
   "execution_count": 159,
   "metadata": {},
   "outputs": [
    {
     "data": {
      "image/svg+xml": "<?xml version=\"1.0\" encoding=\"utf-8\"?>\n<svg xmlns=\"http://www.w3.org/2000/svg\" xmlns:xlink=\"http://www.w3.org/1999/xlink\" width=\"1800\" height=\"1200\" viewBox=\"0 0 7200 4800\">\n<defs>\n  <clipPath id=\"clip840\">\n    <rect x=\"0\" y=\"0\" width=\"7200\" height=\"4800\"/>\n  </clipPath>\n</defs>\n<path clip-path=\"url(#clip840)\" d=\"\nM0 4800 L7200 4800 L7200 0 L0 0  Z\n  \" fill=\"#ffffff\" fill-rule=\"evenodd\" fill-opacity=\"1\"/>\n<defs>\n  <clipPath id=\"clip841\">\n    <rect x=\"1440\" y=\"0\" width=\"5041\" height=\"4800\"/>\n  </clipPath>\n</defs>\n<path clip-path=\"url(#clip840)\" d=\"\nM1859.45 4506.59 L5641.25 4506.59 L5641.25 94.4882 L1859.45 94.4882  Z\n  \" fill=\"#ffffff\" fill-rule=\"evenodd\" fill-opacity=\"1\"/>\n<defs>\n  <clipPath id=\"clip842\">\n    <rect x=\"1859\" y=\"94\" width=\"3783\" height=\"4413\"/>\n  </clipPath>\n</defs>\n<polyline clip-path=\"url(#clip842)\" style=\"stroke:#000000; stroke-linecap:butt; stroke-linejoin:round; stroke-width:6; stroke-opacity:0.1; fill:none\" points=\"\n  1859.45,4506.59 1859.45,94.4882 \n  \"/>\n<polyline clip-path=\"url(#clip842)\" style=\"stroke:#000000; stroke-linecap:butt; stroke-linejoin:round; stroke-width:6; stroke-opacity:0.1; fill:none\" points=\"\n  2489.75,4506.59 2489.75,94.4882 \n  \"/>\n<polyline clip-path=\"url(#clip842)\" style=\"stroke:#000000; stroke-linecap:butt; stroke-linejoin:round; stroke-width:6; stroke-opacity:0.1; fill:none\" points=\"\n  3120.05,4506.59 3120.05,94.4882 \n  \"/>\n<polyline clip-path=\"url(#clip842)\" style=\"stroke:#000000; stroke-linecap:butt; stroke-linejoin:round; stroke-width:6; stroke-opacity:0.1; fill:none\" points=\"\n  3750.35,4506.59 3750.35,94.4882 \n  \"/>\n<polyline clip-path=\"url(#clip842)\" style=\"stroke:#000000; stroke-linecap:butt; stroke-linejoin:round; stroke-width:6; stroke-opacity:0.1; fill:none\" points=\"\n  4380.65,4506.59 4380.65,94.4882 \n  \"/>\n<polyline clip-path=\"url(#clip842)\" style=\"stroke:#000000; stroke-linecap:butt; stroke-linejoin:round; stroke-width:6; stroke-opacity:0.1; fill:none\" points=\"\n  5010.95,4506.59 5010.95,94.4882 \n  \"/>\n<polyline clip-path=\"url(#clip842)\" style=\"stroke:#000000; stroke-linecap:butt; stroke-linejoin:round; stroke-width:6; stroke-opacity:0.1; fill:none\" points=\"\n  5641.25,4506.59 5641.25,94.4882 \n  \"/>\n<polyline clip-path=\"url(#clip840)\" style=\"stroke:#000000; stroke-linecap:butt; stroke-linejoin:round; stroke-width:12; stroke-opacity:1; fill:none\" points=\"\n  1859.45,4506.59 5641.25,4506.59 \n  \"/>\n<polyline clip-path=\"url(#clip840)\" style=\"stroke:#000000; stroke-linecap:butt; stroke-linejoin:round; stroke-width:12; stroke-opacity:1; fill:none\" points=\"\n  1859.45,4506.59 1859.45,4453.64 \n  \"/>\n<polyline clip-path=\"url(#clip840)\" style=\"stroke:#000000; stroke-linecap:butt; stroke-linejoin:round; stroke-width:12; stroke-opacity:1; fill:none\" points=\"\n  2489.75,4506.59 2489.75,4453.64 \n  \"/>\n<polyline clip-path=\"url(#clip840)\" style=\"stroke:#000000; stroke-linecap:butt; stroke-linejoin:round; stroke-width:12; stroke-opacity:1; fill:none\" points=\"\n  3120.05,4506.59 3120.05,4453.64 \n  \"/>\n<polyline clip-path=\"url(#clip840)\" style=\"stroke:#000000; stroke-linecap:butt; stroke-linejoin:round; stroke-width:12; stroke-opacity:1; fill:none\" points=\"\n  3750.35,4506.59 3750.35,4453.64 \n  \"/>\n<polyline clip-path=\"url(#clip840)\" style=\"stroke:#000000; stroke-linecap:butt; stroke-linejoin:round; stroke-width:12; stroke-opacity:1; fill:none\" points=\"\n  4380.65,4506.59 4380.65,4453.64 \n  \"/>\n<polyline clip-path=\"url(#clip840)\" style=\"stroke:#000000; stroke-linecap:butt; stroke-linejoin:round; stroke-width:12; stroke-opacity:1; fill:none\" points=\"\n  5010.95,4506.59 5010.95,4453.64 \n  \"/>\n<polyline clip-path=\"url(#clip840)\" style=\"stroke:#000000; stroke-linecap:butt; stroke-linejoin:round; stroke-width:12; stroke-opacity:1; fill:none\" points=\"\n  5641.25,4506.59 5641.25,4453.64 \n  \"/>\n<path clip-path=\"url(#clip840)\" d=\"M1767.85 4638.12 L1856.88 4638.12 L1856.88 4649.92 L1767.85 4649.92 L1767.85 4638.12 Z\" fill=\"#000000\" fill-rule=\"evenodd\" fill-opacity=\"1\" /><path clip-path=\"url(#clip840)\" d=\"M1929.66 4632.7 Q1939.73 4634.85 1945.35 4641.66 Q1951.05 4648.47 1951.05 4658.46 Q1951.05 4673.81 1940.49 4682.21 Q1929.94 4690.62 1910.49 4690.62 Q1903.96 4690.62 1897.02 4689.3 Q1890.15 4688.05 1882.78 4685.48 L1882.78 4671.94 Q1888.62 4675.34 1895.56 4677.08 Q1902.51 4678.81 1910.08 4678.81 Q1923.27 4678.81 1930.14 4673.6 Q1937.09 4668.4 1937.09 4658.46 Q1937.09 4649.3 1930.63 4644.16 Q1924.24 4638.95 1912.78 4638.95 L1900.7 4638.95 L1900.7 4627.42 L1913.34 4627.42 Q1923.69 4627.42 1929.17 4623.33 Q1934.66 4619.16 1934.66 4611.38 Q1934.66 4603.4 1928.96 4599.16 Q1923.34 4594.85 1912.78 4594.85 Q1907.02 4594.85 1900.42 4596.1 Q1893.83 4597.35 1885.91 4599.99 L1885.91 4587.49 Q1893.9 4585.27 1900.84 4584.16 Q1907.85 4583.05 1914.03 4583.05 Q1930.01 4583.05 1939.31 4590.34 Q1948.62 4597.56 1948.62 4609.92 Q1948.62 4618.53 1943.69 4624.51 Q1938.76 4630.41 1929.66 4632.7 Z\" fill=\"#000000\" fill-rule=\"evenodd\" fill-opacity=\"1\" /><path clip-path=\"url(#clip840)\" d=\"M2399.58 4638.12 L2488.61 4638.12 L2488.61 4649.92 L2399.58 4649.92 L2399.58 4638.12 Z\" fill=\"#000000\" fill-rule=\"evenodd\" fill-opacity=\"1\" /><path clip-path=\"url(#clip840)\" d=\"M2530.97 4676.8 L2579.92 4676.8 L2579.92 4688.6 L2514.09 4688.6 L2514.09 4676.8 Q2522.08 4668.53 2535.83 4654.65 Q2549.65 4640.69 2553.19 4636.66 Q2559.92 4629.09 2562.56 4623.88 Q2565.27 4618.6 2565.27 4613.53 Q2565.27 4605.27 2559.44 4600.06 Q2553.67 4594.85 2544.37 4594.85 Q2537.77 4594.85 2530.41 4597.15 Q2523.12 4599.44 2514.79 4604.09 L2514.79 4589.92 Q2523.26 4586.52 2530.62 4584.78 Q2537.98 4583.05 2544.09 4583.05 Q2560.2 4583.05 2569.79 4591.1 Q2579.37 4599.16 2579.37 4612.63 Q2579.37 4619.02 2576.94 4624.78 Q2574.58 4630.48 2568.26 4638.26 Q2566.52 4640.27 2557.22 4649.92 Q2547.91 4659.51 2530.97 4676.8 Z\" fill=\"#000000\" fill-rule=\"evenodd\" fill-opacity=\"1\" /><path clip-path=\"url(#clip840)\" d=\"M3029.32 4638.12 L3118.35 4638.12 L3118.35 4649.92 L3029.32 4649.92 L3029.32 4638.12 Z\" fill=\"#000000\" fill-rule=\"evenodd\" fill-opacity=\"1\" /><path clip-path=\"url(#clip840)\" d=\"M3151.06 4676.8 L3173.97 4676.8 L3173.97 4597.7 L3149.04 4602.7 L3149.04 4589.92 L3173.84 4584.92 L3187.86 4584.92 L3187.86 4676.8 L3210.78 4676.8 L3210.78 4688.6 L3151.06 4688.6 L3151.06 4676.8 Z\" fill=\"#000000\" fill-rule=\"evenodd\" fill-opacity=\"1\" /><path clip-path=\"url(#clip840)\" d=\"M3750.35 4594.16 Q3739.52 4594.16 3734.03 4604.85 Q3728.61 4615.48 3728.61 4636.87 Q3728.61 4658.19 3734.03 4668.88 Q3739.52 4679.51 3750.35 4679.51 Q3761.25 4679.51 3766.67 4668.88 Q3772.16 4658.19 3772.16 4636.87 Q3772.16 4615.48 3766.67 4604.85 Q3761.25 4594.16 3750.35 4594.16 M3750.35 4583.05 Q3767.78 4583.05 3776.95 4596.87 Q3786.18 4610.62 3786.18 4636.87 Q3786.18 4663.05 3776.95 4676.87 Q3767.78 4690.62 3750.35 4690.62 Q3732.92 4690.62 3723.68 4676.87 Q3714.52 4663.05 3714.52 4636.87 Q3714.52 4610.62 3723.68 4596.87 Q3732.92 4583.05 3750.35 4583.05 Z\" fill=\"#000000\" fill-rule=\"evenodd\" fill-opacity=\"1\" /><path clip-path=\"url(#clip840)\" d=\"M4351.8 4676.8 L4374.71 4676.8 L4374.71 4597.7 L4349.78 4602.7 L4349.78 4589.92 L4374.57 4584.92 L4388.6 4584.92 L4388.6 4676.8 L4411.52 4676.8 L4411.52 4688.6 L4351.8 4688.6 L4351.8 4676.8 Z\" fill=\"#000000\" fill-rule=\"evenodd\" fill-opacity=\"1\" /><path clip-path=\"url(#clip840)\" d=\"M4994.91 4676.8 L5043.87 4676.8 L5043.87 4688.6 L4978.03 4688.6 L4978.03 4676.8 Q4986.02 4668.53 4999.77 4654.65 Q5013.59 4640.69 5017.13 4636.66 Q5023.87 4629.09 5026.51 4623.88 Q5029.21 4618.6 5029.21 4613.53 Q5029.21 4605.27 5023.38 4600.06 Q5017.62 4594.85 5008.31 4594.85 Q5001.71 4594.85 4994.35 4597.15 Q4987.06 4599.44 4978.73 4604.09 L4978.73 4589.92 Q4987.2 4586.52 4994.56 4584.78 Q5001.92 4583.05 5008.03 4583.05 Q5024.14 4583.05 5033.73 4591.1 Q5043.31 4599.16 5043.31 4612.63 Q5043.31 4619.02 5040.88 4624.78 Q5038.52 4630.48 5032.2 4638.26 Q5030.46 4640.27 5021.16 4649.92 Q5011.85 4659.51 4994.91 4676.8 Z\" fill=\"#000000\" fill-rule=\"evenodd\" fill-opacity=\"1\" /><path clip-path=\"url(#clip840)\" d=\"M5653.99 4632.7 Q5664.06 4634.85 5669.69 4641.66 Q5675.38 4648.47 5675.38 4658.46 Q5675.38 4673.81 5664.83 4682.21 Q5654.27 4690.62 5634.83 4690.62 Q5628.3 4690.62 5621.35 4689.3 Q5614.48 4688.05 5607.12 4685.48 L5607.12 4671.94 Q5612.95 4675.34 5619.9 4677.08 Q5626.84 4678.81 5634.41 4678.81 Q5647.6 4678.81 5654.48 4673.6 Q5661.42 4668.4 5661.42 4658.46 Q5661.42 4649.3 5654.97 4644.16 Q5648.58 4638.95 5637.12 4638.95 L5625.04 4638.95 L5625.04 4627.42 L5637.67 4627.42 Q5648.02 4627.42 5653.51 4623.33 Q5658.99 4619.16 5658.99 4611.38 Q5658.99 4603.4 5653.3 4599.16 Q5647.67 4594.85 5637.12 4594.85 Q5631.35 4594.85 5624.76 4596.1 Q5618.16 4597.35 5610.24 4599.99 L5610.24 4587.49 Q5618.23 4585.27 5625.17 4584.16 Q5632.19 4583.05 5638.37 4583.05 Q5654.34 4583.05 5663.65 4590.34 Q5672.95 4597.56 5672.95 4609.92 Q5672.95 4618.53 5668.02 4624.51 Q5663.09 4630.41 5653.99 4632.7 Z\" fill=\"#000000\" fill-rule=\"evenodd\" fill-opacity=\"1\" /><polyline clip-path=\"url(#clip842)\" style=\"stroke:#000000; stroke-linecap:butt; stroke-linejoin:round; stroke-width:6; stroke-opacity:0.1; fill:none\" points=\"\n  1859.45,4506.59 5641.25,4506.59 \n  \"/>\n<polyline clip-path=\"url(#clip842)\" style=\"stroke:#000000; stroke-linecap:butt; stroke-linejoin:round; stroke-width:6; stroke-opacity:0.1; fill:none\" points=\"\n  1859.45,3876.29 5641.25,3876.29 \n  \"/>\n<polyline clip-path=\"url(#clip842)\" style=\"stroke:#000000; stroke-linecap:butt; stroke-linejoin:round; stroke-width:6; stroke-opacity:0.1; fill:none\" points=\"\n  1859.45,3245.99 5641.25,3245.99 \n  \"/>\n<polyline clip-path=\"url(#clip842)\" style=\"stroke:#000000; stroke-linecap:butt; stroke-linejoin:round; stroke-width:6; stroke-opacity:0.1; fill:none\" points=\"\n  1859.45,2615.69 5641.25,2615.69 \n  \"/>\n<polyline clip-path=\"url(#clip842)\" style=\"stroke:#000000; stroke-linecap:butt; stroke-linejoin:round; stroke-width:6; stroke-opacity:0.1; fill:none\" points=\"\n  1859.45,1985.39 5641.25,1985.39 \n  \"/>\n<polyline clip-path=\"url(#clip842)\" style=\"stroke:#000000; stroke-linecap:butt; stroke-linejoin:round; stroke-width:6; stroke-opacity:0.1; fill:none\" points=\"\n  1859.45,1355.09 5641.25,1355.09 \n  \"/>\n<polyline clip-path=\"url(#clip842)\" style=\"stroke:#000000; stroke-linecap:butt; stroke-linejoin:round; stroke-width:6; stroke-opacity:0.1; fill:none\" points=\"\n  1859.45,724.788 5641.25,724.788 \n  \"/>\n<polyline clip-path=\"url(#clip842)\" style=\"stroke:#000000; stroke-linecap:butt; stroke-linejoin:round; stroke-width:6; stroke-opacity:0.1; fill:none\" points=\"\n  1859.45,94.4882 5641.25,94.4882 \n  \"/>\n<polyline clip-path=\"url(#clip840)\" style=\"stroke:#000000; stroke-linecap:butt; stroke-linejoin:round; stroke-width:12; stroke-opacity:1; fill:none\" points=\"\n  1859.45,4506.59 1859.45,94.4882 \n  \"/>\n<polyline clip-path=\"url(#clip840)\" style=\"stroke:#000000; stroke-linecap:butt; stroke-linejoin:round; stroke-width:12; stroke-opacity:1; fill:none\" points=\"\n  1859.45,4506.59 1904.83,4506.59 \n  \"/>\n<polyline clip-path=\"url(#clip840)\" style=\"stroke:#000000; stroke-linecap:butt; stroke-linejoin:round; stroke-width:12; stroke-opacity:1; fill:none\" points=\"\n  1859.45,3876.29 1904.83,3876.29 \n  \"/>\n<polyline clip-path=\"url(#clip840)\" style=\"stroke:#000000; stroke-linecap:butt; stroke-linejoin:round; stroke-width:12; stroke-opacity:1; fill:none\" points=\"\n  1859.45,3245.99 1904.83,3245.99 \n  \"/>\n<polyline clip-path=\"url(#clip840)\" style=\"stroke:#000000; stroke-linecap:butt; stroke-linejoin:round; stroke-width:12; stroke-opacity:1; fill:none\" points=\"\n  1859.45,2615.69 1904.83,2615.69 \n  \"/>\n<polyline clip-path=\"url(#clip840)\" style=\"stroke:#000000; stroke-linecap:butt; stroke-linejoin:round; stroke-width:12; stroke-opacity:1; fill:none\" points=\"\n  1859.45,1985.39 1904.83,1985.39 \n  \"/>\n<polyline clip-path=\"url(#clip840)\" style=\"stroke:#000000; stroke-linecap:butt; stroke-linejoin:round; stroke-width:12; stroke-opacity:1; fill:none\" points=\"\n  1859.45,1355.09 1904.83,1355.09 \n  \"/>\n<polyline clip-path=\"url(#clip840)\" style=\"stroke:#000000; stroke-linecap:butt; stroke-linejoin:round; stroke-width:12; stroke-opacity:1; fill:none\" points=\"\n  1859.45,724.788 1904.83,724.788 \n  \"/>\n<polyline clip-path=\"url(#clip840)\" style=\"stroke:#000000; stroke-linecap:butt; stroke-linejoin:round; stroke-width:12; stroke-opacity:1; fill:none\" points=\"\n  1859.45,94.4882 1904.83,94.4882 \n  \"/>\n<path clip-path=\"url(#clip840)\" d=\"M1569.99 4507.94 L1659.02 4507.94 L1659.02 4519.75 L1569.99 4519.75 L1569.99 4507.94 Z\" fill=\"#000000\" fill-rule=\"evenodd\" fill-opacity=\"1\" /><path clip-path=\"url(#clip840)\" d=\"M1691.73 4546.62 L1714.65 4546.62 L1714.65 4467.53 L1689.72 4472.53 L1689.72 4459.75 L1714.51 4454.75 L1728.53 4454.75 L1728.53 4546.62 L1751.45 4546.62 L1751.45 4558.43 L1691.73 4558.43 L1691.73 4546.62 Z\" fill=\"#000000\" fill-rule=\"evenodd\" fill-opacity=\"1\" /><path clip-path=\"url(#clip840)\" d=\"M1715.62 3833.68 Q1704.78 3833.68 1699.3 3844.38 Q1693.88 3855 1693.88 3876.39 Q1693.88 3897.71 1699.3 3908.41 Q1704.78 3919.03 1715.62 3919.03 Q1726.52 3919.03 1731.94 3908.41 Q1737.42 3897.71 1737.42 3876.39 Q1737.42 3855 1731.94 3844.38 Q1726.52 3833.68 1715.62 3833.68 M1715.62 3822.57 Q1733.05 3822.57 1742.21 3836.39 Q1751.45 3850.14 1751.45 3876.39 Q1751.45 3902.57 1742.21 3916.39 Q1733.05 3930.14 1715.62 3930.14 Q1698.19 3930.14 1688.95 3916.39 Q1679.78 3902.57 1679.78 3876.39 Q1679.78 3850.14 1688.95 3836.39 Q1698.19 3822.57 1715.62 3822.57 Z\" fill=\"#000000\" fill-rule=\"evenodd\" fill-opacity=\"1\" /><path clip-path=\"url(#clip840)\" d=\"M1691.73 3286.02 L1714.65 3286.02 L1714.65 3206.93 L1689.72 3211.93 L1689.72 3199.15 L1714.51 3194.15 L1728.53 3194.15 L1728.53 3286.02 L1751.45 3286.02 L1751.45 3297.83 L1691.73 3297.83 L1691.73 3286.02 Z\" fill=\"#000000\" fill-rule=\"evenodd\" fill-opacity=\"1\" /><path clip-path=\"url(#clip840)\" d=\"M1702.49 2655.72 L1751.45 2655.72 L1751.45 2667.53 L1685.62 2667.53 L1685.62 2655.72 Q1693.6 2647.46 1707.35 2633.57 Q1721.17 2619.61 1724.71 2615.58 Q1731.45 2608.01 1734.09 2602.81 Q1736.8 2597.53 1736.8 2592.46 Q1736.8 2584.2 1730.96 2578.99 Q1725.2 2573.78 1715.9 2573.78 Q1709.3 2573.78 1701.94 2576.07 Q1694.65 2578.36 1686.31 2583.01 L1686.31 2568.85 Q1694.78 2565.45 1702.15 2563.71 Q1709.51 2561.97 1715.62 2561.97 Q1731.73 2561.97 1741.31 2570.03 Q1750.9 2578.08 1750.9 2591.56 Q1750.9 2597.94 1748.46 2603.71 Q1746.1 2609.4 1739.78 2617.18 Q1738.05 2619.19 1728.74 2628.85 Q1719.44 2638.43 1702.49 2655.72 Z\" fill=\"#000000\" fill-rule=\"evenodd\" fill-opacity=\"1\" /><path clip-path=\"url(#clip840)\" d=\"M1730.06 1981.33 Q1740.13 1983.48 1745.76 1990.28 Q1751.45 1997.09 1751.45 2007.09 Q1751.45 2022.44 1740.9 2030.84 Q1730.34 2039.24 1710.9 2039.24 Q1704.37 2039.24 1697.42 2037.92 Q1690.55 2036.67 1683.19 2034.1 L1683.19 2020.56 Q1689.02 2023.96 1695.97 2025.7 Q1702.91 2027.44 1710.48 2027.44 Q1723.67 2027.44 1730.55 2022.23 Q1737.49 2017.02 1737.49 2007.09 Q1737.49 1997.92 1731.03 1992.78 Q1724.65 1987.58 1713.19 1987.58 L1701.1 1987.58 L1701.1 1976.05 L1713.74 1976.05 Q1724.09 1976.05 1729.58 1971.95 Q1735.06 1967.78 1735.06 1960.01 Q1735.06 1952.02 1729.37 1947.78 Q1723.74 1943.48 1713.19 1943.48 Q1707.42 1943.48 1700.83 1944.73 Q1694.23 1945.98 1686.31 1948.62 L1686.31 1936.12 Q1694.3 1933.9 1701.24 1932.78 Q1708.26 1931.67 1714.44 1931.67 Q1730.41 1931.67 1739.71 1938.96 Q1749.02 1946.19 1749.02 1958.55 Q1749.02 1967.16 1744.09 1973.13 Q1739.16 1979.03 1730.06 1981.33 Z\" fill=\"#000000\" fill-rule=\"evenodd\" fill-opacity=\"1\" /><path clip-path=\"url(#clip840)\" d=\"M1722.7 1315.47 L1687.28 1370.82 L1722.7 1370.82 L1722.7 1315.47 M1719.02 1303.25 L1736.66 1303.25 L1736.66 1370.82 L1751.45 1370.82 L1751.45 1382.48 L1736.66 1382.48 L1736.66 1406.93 L1722.7 1406.93 L1722.7 1382.48 L1675.9 1382.48 L1675.9 1368.94 L1719.02 1303.25 Z\" fill=\"#000000\" fill-rule=\"evenodd\" fill-opacity=\"1\" /><path clip-path=\"url(#clip840)\" d=\"M1688.74 672.948 L1743.81 672.948 L1743.81 684.754 L1701.59 684.754 L1701.59 710.17 Q1704.65 709.128 1707.7 708.642 Q1710.76 708.087 1713.81 708.087 Q1731.17 708.087 1741.31 717.601 Q1751.45 727.114 1751.45 743.364 Q1751.45 760.1 1741.03 769.406 Q1730.62 778.642 1711.66 778.642 Q1705.13 778.642 1698.33 777.531 Q1691.59 776.42 1684.37 774.198 L1684.37 760.1 Q1690.62 763.503 1697.28 765.17 Q1703.95 766.837 1711.38 766.837 Q1723.4 766.837 1730.41 760.517 Q1737.42 754.198 1737.42 743.364 Q1737.42 732.531 1730.41 726.212 Q1723.4 719.892 1711.38 719.892 Q1705.76 719.892 1700.13 721.142 Q1694.58 722.392 1688.74 725.031 L1688.74 672.948 Z\" fill=\"#000000\" fill-rule=\"evenodd\" fill-opacity=\"1\" /><path clip-path=\"url(#clip840)\" d=\"M1716.87 88.8979 Q1707.42 88.8979 1701.87 95.3562 Q1696.38 101.815 1696.38 113.064 Q1696.38 124.245 1701.87 130.773 Q1707.42 137.231 1716.87 137.231 Q1726.31 137.231 1731.8 130.773 Q1737.35 124.245 1737.35 113.064 Q1737.35 101.815 1731.8 95.3562 Q1726.31 88.8979 1716.87 88.8979 M1744.71 44.9398 L1744.71 57.7176 Q1739.44 55.2176 1734.02 53.8981 Q1728.67 52.5787 1723.4 52.5787 Q1709.51 52.5787 1702.15 61.9536 Q1694.85 71.3286 1693.81 90.2868 Q1697.91 84.2452 1704.09 81.0508 Q1710.27 77.7869 1717.7 77.7869 Q1733.33 77.7869 1742.35 87.3007 Q1751.45 96.7451 1751.45 113.064 Q1751.45 129.037 1742.01 138.689 Q1732.56 148.342 1716.87 148.342 Q1698.88 148.342 1689.37 134.592 Q1679.85 120.773 1679.85 94.5924 Q1679.85 70.0092 1691.52 55.4259 Q1703.19 40.7732 1722.84 40.7732 Q1728.12 40.7732 1733.46 41.8149 Q1738.88 42.8565 1744.71 44.9398 Z\" fill=\"#000000\" fill-rule=\"evenodd\" fill-opacity=\"1\" /><polyline clip-path=\"url(#clip842)\" style=\"stroke:#000000; stroke-linecap:butt; stroke-linejoin:round; stroke-width:216; stroke-opacity:1; fill:none\" points=\"\n  3745.3,709.657 3758.69,749.489 \n  \"/>\n<polyline clip-path=\"url(#clip842)\" style=\"stroke:#000000; stroke-linecap:butt; stroke-linejoin:round; stroke-width:216; stroke-opacity:1; fill:none\" points=\"\n  3785.46,829.152 3798.84,868.983 \n  \"/>\n<polyline clip-path=\"url(#clip842)\" style=\"stroke:#e26f46; stroke-linecap:butt; stroke-linejoin:round; stroke-width:180; stroke-opacity:1; fill:none\" points=\"\n  3731.92,669.826 3812.23,908.815 \n  \"/>\n<path clip-path=\"url(#clip842)\" d=\"\nM3268.82 2000.87 L3271.86 2031.69 L3277.9 2062.06 L3286.89 2091.69 L3298.74 2120.29 L3313.33 2147.6 L3330.54 2173.35 L3350.18 2197.29 L3372.08 2219.18 L3396.01 2238.82 \n  L3421.76 2256.03 L3449.07 2270.62 L3477.67 2282.47 L3507.31 2291.46 L3537.67 2297.5 L3568.49 2300.54 L3599.45 2300.54 L3630.27 2297.5 L3660.64 2291.46 L3690.27 2282.47 \n  L3718.88 2270.62 L3746.19 2256.03 L3771.93 2238.82 L3795.87 2219.18 L3817.76 2197.29 L3837.41 2173.35 L3854.61 2147.6 L3869.21 2120.29 L3881.06 2091.69 L3890.05 2062.06 \n  L3896.09 2031.69 L3899.12 2000.87 L3899.12 1969.91 L3896.09 1939.09 L3890.05 1908.72 L3881.06 1879.09 L3869.21 1850.48 L3854.61 1823.17 L3837.41 1797.43 L3817.76 1773.49 \n  L3795.87 1751.6 L3771.93 1731.95 L3746.19 1714.75 L3718.88 1700.15 L3690.27 1688.3 L3660.64 1679.31 L3630.27 1673.27 L3599.45 1670.24 L3568.49 1670.24 L3537.67 1673.27 \n  L3507.31 1679.31 L3477.67 1688.3 L3449.07 1700.15 L3421.76 1714.75 L3396.01 1731.95 L3372.08 1751.6 L3350.18 1773.49 L3330.54 1797.43 L3313.33 1823.17 L3298.74 1850.48 \n  L3286.89 1879.09 L3277.9 1908.72 L3271.86 1939.09 L3268.82 1969.91 L3268.82 2000.87 L3268.82 2000.87  Z\n  \" fill=\"#c271d2\" fill-rule=\"evenodd\" fill-opacity=\"0.5\"/>\n<polyline clip-path=\"url(#clip842)\" style=\"stroke:#000000; stroke-linecap:butt; stroke-linejoin:round; stroke-width:12; stroke-opacity:0.5; fill:none\" points=\"\n  3268.82,2000.87 3271.86,2031.69 3277.9,2062.06 3286.89,2091.69 3298.74,2120.29 3313.33,2147.6 3330.54,2173.35 3350.18,2197.29 3372.08,2219.18 3396.01,2238.82 \n  3421.76,2256.03 3449.07,2270.62 3477.67,2282.47 3507.31,2291.46 3537.67,2297.5 3568.49,2300.54 3599.45,2300.54 3630.27,2297.5 3660.64,2291.46 3690.27,2282.47 \n  3718.88,2270.62 3746.19,2256.03 3771.93,2238.82 3795.87,2219.18 3817.76,2197.29 3837.41,2173.35 3854.61,2147.6 3869.21,2120.29 3881.06,2091.69 3890.05,2062.06 \n  3896.09,2031.69 3899.12,2000.87 3899.12,1969.91 3896.09,1939.09 3890.05,1908.72 3881.06,1879.09 3869.21,1850.48 3854.61,1823.17 3837.41,1797.43 3817.76,1773.49 \n  3795.87,1751.6 3771.93,1731.95 3746.19,1714.75 3718.88,1700.15 3690.27,1688.3 3660.64,1679.31 3630.27,1673.27 3599.45,1670.24 3568.49,1670.24 3537.67,1673.27 \n  3507.31,1679.31 3477.67,1688.3 3449.07,1700.15 3421.76,1714.75 3396.01,1731.95 3372.08,1751.6 3350.18,1773.49 3330.54,1797.43 3313.33,1823.17 3298.74,1850.48 \n  3286.89,1879.09 3277.9,1908.72 3271.86,1939.09 3268.82,1969.91 3268.82,2000.87 \n  \"/>\n<polyline clip-path=\"url(#clip842)\" style=\"stroke:#3da44d; stroke-linecap:butt; stroke-linejoin:round; stroke-width:12; stroke-opacity:1; fill:none\" points=\"\n  3750.35,3876.29 3753.4,3878.22 3757.12,3853.82 3754.84,3803.13 3755.08,3740.68 3750.96,3676.52 3743.78,3613.41 3744.34,3550.54 3740.45,3486.33 3733.51,3423.15 \n  3732.62,3359.95 3727.63,3295.91 3727.61,3232.79 3723.1,3168.58 3716.54,3105.46 3710.63,3042.4 3704.75,2979.27 3698.47,2915.81 3691.91,2851.26 3694.69,2790.71 \n  3708.7,2736.34 3724.47,2685.3 3739.82,2639.07 3755.7,2596.57 3769.06,2558.08 3783.04,2522.7 3798.35,2489.73 3811.81,2459.32 3826.92,2430.45 3840.87,2403.21 \n  3853.49,2377.63 3868.54,2351.73 3883.45,2325.47 3898.15,2298.76 3913.51,2270.74 3924.36,2244.83 3935.62,2217.22 3949.08,2185.21 3960.36,2151.63 3978.27,2104.47 \n  3994.54,2046.38 3998.79,1981.16 3992.67,1919.25 3980.38,1858.31 3968.94,1796.36 3956.52,1734.93 3944.84,1673.14 3932.54,1611.69 3920.55,1550.11 3908.41,1488.61 \n  3896.34,1427.09 3884.23,1365.61 3872.12,1304.15 3859.82,1242.82 3846.93,1186.27 3835.16,1136.61 3825.21,1092.83 3817.17,1054.1 3810.63,1019.81 3805.31,989.453 \n  3801.09,962.349 3797.4,938.093 3794.19,916.419 3792.46,897.043 3789.27,879.195 3787.62,863.517 3784.89,849.091 3782.64,836.238 3780.39,824.696 3778.24,814.361 \n  3776.13,805.107 3774.08,796.791 3772.07,789.32 \n  \"/>\n<path clip-path=\"url(#clip840)\" d=\"\nM2936.66 4359.52 L5417.57 4359.52 L5417.57 3905.92 L2936.66 3905.92  Z\n  \" fill=\"#ffffff\" fill-rule=\"evenodd\" fill-opacity=\"1\"/>\n<polyline clip-path=\"url(#clip840)\" style=\"stroke:#000000; stroke-linecap:butt; stroke-linejoin:round; stroke-width:12; stroke-opacity:1; fill:none\" points=\"\n  2936.66,4359.52 5417.57,4359.52 5417.57,3905.92 2936.66,3905.92 2936.66,4359.52 \n  \"/>\n<polyline clip-path=\"url(#clip840)\" style=\"stroke:#3da44d; stroke-linecap:butt; stroke-linejoin:round; stroke-width:15; stroke-opacity:1; fill:none\" points=\"\n  3011.22,4132.72 3458.58,4132.72 \n  \"/>\n<path clip-path=\"url(#clip840)\" d=\"M3533.13 4067.92 L3615.08 4067.92 L3615.08 4082.67 L3550.67 4082.67 L3550.67 4121.04 L3612.39 4121.04 L3612.39 4135.8 L3550.67 4135.8 L3550.67 4182.76 L3616.64 4182.76 L3616.64 4197.52 L3533.13 4197.52 L3533.13 4067.92 Z\" fill=\"#000000\" fill-rule=\"evenodd\" fill-opacity=\"1\" /><path clip-path=\"url(#clip840)\" d=\"M3725.58 4100.3 L3690.43 4147.6 L3727.4 4197.52 L3708.57 4197.52 L3680.27 4159.32 L3651.97 4197.52 L3633.13 4197.52 L3670.89 4146.65 L3636.35 4100.3 L3655.18 4100.3 L3680.96 4134.93 L3706.74 4100.3 L3725.58 4100.3 Z\" fill=\"#000000\" fill-rule=\"evenodd\" fill-opacity=\"1\" /><path clip-path=\"url(#clip840)\" d=\"M3827.66 4144.91 L3827.66 4152.73 L3754.23 4152.73 Q3755.27 4169.22 3764.12 4177.9 Q3773.06 4186.49 3788.95 4186.49 Q3798.15 4186.49 3806.74 4184.24 Q3815.42 4181.98 3823.93 4177.47 L3823.93 4192.57 Q3815.34 4196.22 3806.31 4198.13 Q3797.28 4200.04 3787.99 4200.04 Q3764.73 4200.04 3751.1 4186.49 Q3737.56 4172.95 3737.56 4149.86 Q3737.56 4125.99 3750.41 4112.01 Q3763.34 4097.95 3785.22 4097.95 Q3804.83 4097.95 3816.21 4110.63 Q3827.66 4123.21 3827.66 4144.91 M3811.69 4140.23 Q3811.52 4127.12 3804.31 4119.31 Q3797.2 4111.49 3785.39 4111.49 Q3772.02 4111.49 3763.95 4119.05 Q3755.96 4126.6 3754.75 4140.31 L3811.69 4140.23 Z\" fill=\"#000000\" fill-rule=\"evenodd\" fill-opacity=\"1\" /><path clip-path=\"url(#clip840)\" d=\"M3923.84 4104.03 L3923.84 4118.96 Q3917.07 4115.23 3910.22 4113.4 Q3903.44 4111.49 3896.5 4111.49 Q3880.96 4111.49 3872.37 4121.39 Q3863.77 4131.2 3863.77 4148.99 Q3863.77 4166.79 3872.37 4176.68 Q3880.96 4186.49 3896.5 4186.49 Q3903.44 4186.49 3910.22 4184.67 Q3917.07 4182.76 3923.84 4179.03 L3923.84 4193.79 Q3917.16 4196.91 3909.96 4198.47 Q3902.84 4200.04 3894.76 4200.04 Q3872.8 4200.04 3859.87 4186.23 Q3846.93 4172.43 3846.93 4148.99 Q3846.93 4125.21 3859.96 4111.58 Q3873.06 4097.95 3895.81 4097.95 Q3903.18 4097.95 3910.22 4099.51 Q3917.25 4100.99 3923.84 4104.03 Z\" fill=\"#000000\" fill-rule=\"evenodd\" fill-opacity=\"1\" /><path clip-path=\"url(#clip840)\" d=\"M3949.97 4159.15 L3949.97 4100.3 L3965.94 4100.3 L3965.94 4158.54 Q3965.94 4172.34 3971.33 4179.29 Q3976.71 4186.15 3987.47 4186.15 Q4000.41 4186.15 4007.87 4177.9 Q4015.42 4169.65 4015.42 4155.42 L4015.42 4100.3 L4031.4 4100.3 L4031.4 4197.52 L4015.42 4197.52 L4015.42 4182.59 Q4009.61 4191.44 4001.88 4195.78 Q3994.24 4200.04 3984.09 4200.04 Q3967.33 4200.04 3958.65 4189.62 Q3949.97 4179.2 3949.97 4159.15 M3990.16 4097.95 L3990.16 4097.95 Z\" fill=\"#000000\" fill-rule=\"evenodd\" fill-opacity=\"1\" /><path clip-path=\"url(#clip840)\" d=\"M4080.09 4072.69 L4080.09 4100.3 L4112.99 4100.3 L4112.99 4112.71 L4080.09 4112.71 L4080.09 4165.49 Q4080.09 4177.38 4083.3 4180.76 Q4086.6 4184.15 4096.59 4184.15 L4112.99 4184.15 L4112.99 4197.52 L4096.59 4197.52 Q4078.1 4197.52 4071.07 4190.66 Q4064.03 4183.72 4064.03 4165.49 L4064.03 4112.71 L4052.32 4112.71 L4052.32 4100.3 L4064.03 4100.3 L4064.03 4072.69 L4080.09 4072.69 Z\" fill=\"#000000\" fill-rule=\"evenodd\" fill-opacity=\"1\" /><path clip-path=\"url(#clip840)\" d=\"M4217.16 4144.91 L4217.16 4152.73 L4143.72 4152.73 Q4144.76 4169.22 4153.62 4177.9 Q4162.56 4186.49 4178.44 4186.49 Q4187.64 4186.49 4196.24 4184.24 Q4204.92 4181.98 4213.43 4177.47 L4213.43 4192.57 Q4204.83 4196.22 4195.8 4198.13 Q4186.78 4200.04 4177.49 4200.04 Q4154.22 4200.04 4140.6 4186.49 Q4127.05 4172.95 4127.05 4149.86 Q4127.05 4125.99 4139.9 4112.01 Q4152.84 4097.95 4174.71 4097.95 Q4194.33 4097.95 4205.7 4110.63 Q4217.16 4123.21 4217.16 4144.91 M4201.19 4140.23 Q4201.01 4127.12 4193.81 4119.31 Q4186.69 4111.49 4174.88 4111.49 Q4161.52 4111.49 4153.44 4119.05 Q4145.46 4126.6 4144.24 4140.31 L4201.19 4140.23 Z\" fill=\"#000000\" fill-rule=\"evenodd\" fill-opacity=\"1\" /><path clip-path=\"url(#clip840)\" d=\"M4307.35 4115.05 L4307.35 4062.45 L4323.32 4062.45 L4323.32 4197.52 L4307.35 4197.52 L4307.35 4182.93 Q4302.31 4191.61 4294.59 4195.87 Q4286.95 4200.04 4276.19 4200.04 Q4258.56 4200.04 4247.45 4185.97 Q4236.43 4171.91 4236.43 4148.99 Q4236.43 4126.08 4247.45 4112.01 Q4258.56 4097.95 4276.19 4097.95 Q4286.95 4097.95 4294.59 4102.21 Q4302.31 4106.37 4307.35 4115.05 M4252.92 4148.99 Q4252.92 4166.62 4260.13 4176.68 Q4267.42 4186.67 4280.09 4186.67 Q4292.77 4186.67 4300.06 4176.68 Q4307.35 4166.62 4307.35 4148.99 Q4307.35 4131.37 4300.06 4121.39 Q4292.77 4111.32 4280.09 4111.32 Q4267.42 4111.32 4260.13 4121.39 Q4252.92 4131.37 4252.92 4148.99 Z\" fill=\"#000000\" fill-rule=\"evenodd\" fill-opacity=\"1\" /><path clip-path=\"url(#clip840)\" d=\"M4395.46 4067.92 L4505.09 4067.92 L4505.09 4082.67 L4459.08 4082.67 L4459.08 4197.52 L4441.46 4197.52 L4441.46 4082.67 L4395.46 4082.67 L4395.46 4067.92 Z\" fill=\"#000000\" fill-rule=\"evenodd\" fill-opacity=\"1\" /><path clip-path=\"url(#clip840)\" d=\"M4551.53 4115.23 Q4548.84 4113.66 4545.63 4112.97 Q4542.5 4112.19 4538.68 4112.19 Q4525.14 4112.19 4517.85 4121.04 Q4510.65 4129.81 4510.65 4146.3 L4510.65 4197.52 L4494.59 4197.52 L4494.59 4100.3 L4510.65 4100.3 L4510.65 4115.4 Q4515.68 4106.55 4523.75 4102.29 Q4531.83 4097.95 4543.37 4097.95 Q4545.02 4097.95 4547.02 4098.21 Q4549.01 4098.39 4551.44 4098.82 L4551.53 4115.23 Z\" fill=\"#000000\" fill-rule=\"evenodd\" fill-opacity=\"1\" /><path clip-path=\"url(#clip840)\" d=\"M4612.47 4148.65 Q4593.11 4148.65 4585.65 4153.07 Q4578.18 4157.5 4578.18 4168.18 Q4578.18 4176.68 4583.74 4181.72 Q4589.38 4186.67 4599.01 4186.67 Q4612.3 4186.67 4620.28 4177.29 Q4628.35 4167.83 4628.35 4152.21 L4628.35 4148.65 L4612.47 4148.65 M4644.33 4142.05 L4644.33 4197.52 L4628.35 4197.52 L4628.35 4182.76 Q4622.89 4191.61 4614.73 4195.87 Q4606.57 4200.04 4594.76 4200.04 Q4579.83 4200.04 4570.98 4191.7 Q4562.21 4183.28 4562.21 4169.22 Q4562.21 4152.81 4573.15 4144.48 Q4584.17 4136.15 4605.96 4136.15 L4628.35 4136.15 L4628.35 4134.58 Q4628.35 4123.56 4621.06 4117.57 Q4613.86 4111.49 4600.75 4111.49 Q4592.42 4111.49 4584.52 4113.49 Q4576.62 4115.49 4569.33 4119.48 L4569.33 4104.72 Q4578.09 4101.34 4586.34 4099.69 Q4594.59 4097.95 4602.4 4097.95 Q4623.49 4097.95 4633.91 4108.89 Q4644.33 4119.83 4644.33 4142.05 Z\" fill=\"#000000\" fill-rule=\"evenodd\" fill-opacity=\"1\" /><path clip-path=\"url(#clip840)\" d=\"M4677.23 4100.3 L4693.2 4100.3 L4693.2 4199.25 Q4693.2 4217.83 4686.08 4226.16 Q4679.05 4234.5 4663.34 4234.5 L4657.26 4234.5 L4657.26 4220.96 L4661.51 4220.96 Q4670.63 4220.96 4673.93 4216.7 Q4677.23 4212.54 4677.23 4199.25 L4677.23 4100.3 M4677.23 4062.45 L4693.2 4062.45 L4693.2 4082.67 L4677.23 4082.67 L4677.23 4062.45 Z\" fill=\"#000000\" fill-rule=\"evenodd\" fill-opacity=\"1\" /><path clip-path=\"url(#clip840)\" d=\"M4809.78 4144.91 L4809.78 4152.73 L4736.34 4152.73 Q4737.38 4169.22 4746.24 4177.9 Q4755.18 4186.49 4771.06 4186.49 Q4780.26 4186.49 4788.86 4184.24 Q4797.54 4181.98 4806.04 4177.47 L4806.04 4192.57 Q4797.45 4196.22 4788.42 4198.13 Q4779.39 4200.04 4770.11 4200.04 Q4746.84 4200.04 4733.21 4186.49 Q4719.67 4172.95 4719.67 4149.86 Q4719.67 4125.99 4732.52 4112.01 Q4745.45 4097.95 4767.33 4097.95 Q4786.95 4097.95 4798.32 4110.63 Q4809.78 4123.21 4809.78 4144.91 M4793.8 4140.23 Q4793.63 4127.12 4786.43 4119.31 Q4779.31 4111.49 4767.5 4111.49 Q4754.13 4111.49 4746.06 4119.05 Q4738.08 4126.6 4736.86 4140.31 L4793.8 4140.23 Z\" fill=\"#000000\" fill-rule=\"evenodd\" fill-opacity=\"1\" /><path clip-path=\"url(#clip840)\" d=\"M4905.96 4104.03 L4905.96 4118.96 Q4899.19 4115.23 4892.33 4113.4 Q4885.56 4111.49 4878.61 4111.49 Q4863.08 4111.49 4854.48 4121.39 Q4845.89 4131.2 4845.89 4148.99 Q4845.89 4166.79 4854.48 4176.68 Q4863.08 4186.49 4878.61 4186.49 Q4885.56 4186.49 4892.33 4184.67 Q4899.19 4182.76 4905.96 4179.03 L4905.96 4193.79 Q4899.27 4196.91 4892.07 4198.47 Q4884.95 4200.04 4876.88 4200.04 Q4854.92 4200.04 4841.98 4186.23 Q4829.05 4172.43 4829.05 4148.99 Q4829.05 4125.21 4842.07 4111.58 Q4855.18 4097.95 4877.92 4097.95 Q4885.3 4097.95 4892.33 4099.51 Q4899.36 4100.99 4905.96 4104.03 Z\" fill=\"#000000\" fill-rule=\"evenodd\" fill-opacity=\"1\" /><path clip-path=\"url(#clip840)\" d=\"M4949.53 4072.69 L4949.53 4100.3 L4982.43 4100.3 L4982.43 4112.71 L4949.53 4112.71 L4949.53 4165.49 Q4949.53 4177.38 4952.74 4180.76 Q4956.04 4184.15 4966.03 4184.15 L4982.43 4184.15 L4982.43 4197.52 L4966.03 4197.52 Q4947.54 4197.52 4940.51 4190.66 Q4933.47 4183.72 4933.47 4165.49 L4933.47 4112.71 L4921.76 4112.71 L4921.76 4100.3 L4933.47 4100.3 L4933.47 4072.69 L4949.53 4072.69 Z\" fill=\"#000000\" fill-rule=\"evenodd\" fill-opacity=\"1\" /><path clip-path=\"url(#clip840)\" d=\"M5041.11 4111.49 Q5028.27 4111.49 5020.8 4121.56 Q5013.33 4131.55 5013.33 4148.99 Q5013.33 4166.44 5020.71 4176.51 Q5028.18 4186.49 5041.11 4186.49 Q5053.87 4186.49 5061.34 4176.42 Q5068.8 4166.35 5068.8 4148.99 Q5068.8 4131.72 5061.34 4121.65 Q5053.87 4111.49 5041.11 4111.49 M5041.11 4097.95 Q5061.95 4097.95 5073.84 4111.49 Q5085.73 4125.04 5085.73 4148.99 Q5085.73 4172.87 5073.84 4186.49 Q5061.95 4200.04 5041.11 4200.04 Q5020.19 4200.04 5008.3 4186.49 Q4996.49 4172.87 4996.49 4148.99 Q4996.49 4125.04 5008.3 4111.49 Q5020.19 4097.95 5041.11 4097.95 Z\" fill=\"#000000\" fill-rule=\"evenodd\" fill-opacity=\"1\" /><path clip-path=\"url(#clip840)\" d=\"M5168.54 4115.23 Q5165.85 4113.66 5162.64 4112.97 Q5159.51 4112.19 5155.7 4112.19 Q5142.15 4112.19 5134.86 4121.04 Q5127.66 4129.81 5127.66 4146.3 L5127.66 4197.52 L5111.6 4197.52 L5111.6 4100.3 L5127.66 4100.3 L5127.66 4115.4 Q5132.69 4106.55 5140.76 4102.29 Q5148.84 4097.95 5160.38 4097.95 Q5162.03 4097.95 5164.03 4098.21 Q5166.02 4098.39 5168.46 4098.82 L5168.54 4115.23 Z\" fill=\"#000000\" fill-rule=\"evenodd\" fill-opacity=\"1\" /><path clip-path=\"url(#clip840)\" d=\"M5225.75 4206.55 Q5218.98 4223.91 5212.55 4229.2 Q5206.13 4234.5 5195.36 4234.5 L5182.6 4234.5 L5182.6 4221.13 L5191.98 4221.13 Q5198.58 4221.13 5202.22 4218 Q5205.87 4214.88 5210.3 4203.25 L5213.16 4195.96 L5173.84 4100.3 L5190.76 4100.3 L5221.15 4176.34 L5251.53 4100.3 L5268.45 4100.3 L5225.75 4206.55 Z\" fill=\"#000000\" fill-rule=\"evenodd\" fill-opacity=\"1\" /></svg>\n"
     },
     "metadata": {},
     "output_type": "display_data"
    },
    {
     "data": {
      "text/plain": [
       "true"
      ]
     },
     "execution_count": 159,
     "metadata": {},
     "output_type": "execute_result"
    }
   ],
   "source": [
    "visualize(Xexec1, obstacles=obstacles1, xlims=[-3,3], ylims=[-1,6], fps=100, save_frame=(length(Xexec1)-1, \"../results/collision_1.png\"))"
   ]
  },
  {
   "cell_type": "code",
   "execution_count": 88,
   "metadata": {},
   "outputs": [],
   "source": [
    "Random.seed!(5)\n",
    "n = 2\n",
    "obstacles2 = [Obstacle([rand()*1.6-0.8, rand()*1+(i-1)*2+1], [0,0], obs_radius) for i in 1:n]\n",
    "x0=[0,0,0,π/2]\n",
    "xg=[0,5,0,π/2]\n",
    "obj_cost = [1,1,1,0.1]\n",
    "rp = RP(net, obj_cost, x0, xg)\n",
    "\n",
    "err_bound = [1, 1, 0.1, 0.1]*10\n",
    "ctrl = NvController(err_bound, warm_start=true, bin_precision=1e-1)\n",
    "ci = CollisionIndex(0.1, 1e-3, 2, 1)\n",
    "\n",
    "Xexec2, Uexec, safe_sets, Xrefs, infeas = tracking(rp, ctrl, fps=10, tf=20, obstacles=obstacles2, safety_index=ci, verbose=false);"
   ]
  },
  {
   "cell_type": "code",
   "execution_count": null,
   "metadata": {},
   "outputs": [],
   "source": []
  },
  {
   "cell_type": "code",
   "execution_count": 152,
   "metadata": {},
   "outputs": [
    {
     "data": {
      "image/svg+xml": "<?xml version=\"1.0\" encoding=\"utf-8\"?>\n<svg xmlns=\"http://www.w3.org/2000/svg\" xmlns:xlink=\"http://www.w3.org/1999/xlink\" width=\"1800\" height=\"1200\" viewBox=\"0 0 7200 4800\">\n<defs>\n  <clipPath id=\"clip600\">\n    <rect x=\"0\" y=\"0\" width=\"7200\" height=\"4800\"/>\n  </clipPath>\n</defs>\n<path clip-path=\"url(#clip600)\" d=\"\nM0 4800 L7200 4800 L7200 0 L0 0  Z\n  \" fill=\"#ffffff\" fill-rule=\"evenodd\" fill-opacity=\"1\"/>\n<defs>\n  <clipPath id=\"clip601\">\n    <rect x=\"1440\" y=\"0\" width=\"5041\" height=\"4800\"/>\n  </clipPath>\n</defs>\n<path clip-path=\"url(#clip600)\" d=\"\nM1859.45 4506.59 L5641.25 4506.59 L5641.25 94.4882 L1859.45 94.4882  Z\n  \" fill=\"#ffffff\" fill-rule=\"evenodd\" fill-opacity=\"1\"/>\n<defs>\n  <clipPath id=\"clip602\">\n    <rect x=\"1859\" y=\"94\" width=\"3783\" height=\"4413\"/>\n  </clipPath>\n</defs>\n<polyline clip-path=\"url(#clip602)\" style=\"stroke:#000000; stroke-linecap:butt; stroke-linejoin:round; stroke-width:6; stroke-opacity:0.1; fill:none\" points=\"\n  1859.45,4506.59 1859.45,94.4882 \n  \"/>\n<polyline clip-path=\"url(#clip602)\" style=\"stroke:#000000; stroke-linecap:butt; stroke-linejoin:round; stroke-width:6; stroke-opacity:0.1; fill:none\" points=\"\n  2489.75,4506.59 2489.75,94.4882 \n  \"/>\n<polyline clip-path=\"url(#clip602)\" style=\"stroke:#000000; stroke-linecap:butt; stroke-linejoin:round; stroke-width:6; stroke-opacity:0.1; fill:none\" points=\"\n  3120.05,4506.59 3120.05,94.4882 \n  \"/>\n<polyline clip-path=\"url(#clip602)\" style=\"stroke:#000000; stroke-linecap:butt; stroke-linejoin:round; stroke-width:6; stroke-opacity:0.1; fill:none\" points=\"\n  3750.35,4506.59 3750.35,94.4882 \n  \"/>\n<polyline clip-path=\"url(#clip602)\" style=\"stroke:#000000; stroke-linecap:butt; stroke-linejoin:round; stroke-width:6; stroke-opacity:0.1; fill:none\" points=\"\n  4380.65,4506.59 4380.65,94.4882 \n  \"/>\n<polyline clip-path=\"url(#clip602)\" style=\"stroke:#000000; stroke-linecap:butt; stroke-linejoin:round; stroke-width:6; stroke-opacity:0.1; fill:none\" points=\"\n  5010.95,4506.59 5010.95,94.4882 \n  \"/>\n<polyline clip-path=\"url(#clip602)\" style=\"stroke:#000000; stroke-linecap:butt; stroke-linejoin:round; stroke-width:6; stroke-opacity:0.1; fill:none\" points=\"\n  5641.25,4506.59 5641.25,94.4882 \n  \"/>\n<polyline clip-path=\"url(#clip600)\" style=\"stroke:#000000; stroke-linecap:butt; stroke-linejoin:round; stroke-width:12; stroke-opacity:1; fill:none\" points=\"\n  1859.45,4506.59 5641.25,4506.59 \n  \"/>\n<polyline clip-path=\"url(#clip600)\" style=\"stroke:#000000; stroke-linecap:butt; stroke-linejoin:round; stroke-width:12; stroke-opacity:1; fill:none\" points=\"\n  1859.45,4506.59 1859.45,4453.64 \n  \"/>\n<polyline clip-path=\"url(#clip600)\" style=\"stroke:#000000; stroke-linecap:butt; stroke-linejoin:round; stroke-width:12; stroke-opacity:1; fill:none\" points=\"\n  2489.75,4506.59 2489.75,4453.64 \n  \"/>\n<polyline clip-path=\"url(#clip600)\" style=\"stroke:#000000; stroke-linecap:butt; stroke-linejoin:round; stroke-width:12; stroke-opacity:1; fill:none\" points=\"\n  3120.05,4506.59 3120.05,4453.64 \n  \"/>\n<polyline clip-path=\"url(#clip600)\" style=\"stroke:#000000; stroke-linecap:butt; stroke-linejoin:round; stroke-width:12; stroke-opacity:1; fill:none\" points=\"\n  3750.35,4506.59 3750.35,4453.64 \n  \"/>\n<polyline clip-path=\"url(#clip600)\" style=\"stroke:#000000; stroke-linecap:butt; stroke-linejoin:round; stroke-width:12; stroke-opacity:1; fill:none\" points=\"\n  4380.65,4506.59 4380.65,4453.64 \n  \"/>\n<polyline clip-path=\"url(#clip600)\" style=\"stroke:#000000; stroke-linecap:butt; stroke-linejoin:round; stroke-width:12; stroke-opacity:1; fill:none\" points=\"\n  5010.95,4506.59 5010.95,4453.64 \n  \"/>\n<polyline clip-path=\"url(#clip600)\" style=\"stroke:#000000; stroke-linecap:butt; stroke-linejoin:round; stroke-width:12; stroke-opacity:1; fill:none\" points=\"\n  5641.25,4506.59 5641.25,4453.64 \n  \"/>\n<path clip-path=\"url(#clip600)\" d=\"M1767.85 4638.12 L1856.88 4638.12 L1856.88 4649.92 L1767.85 4649.92 L1767.85 4638.12 Z\" fill=\"#000000\" fill-rule=\"evenodd\" fill-opacity=\"1\" /><path clip-path=\"url(#clip600)\" d=\"M1929.66 4632.7 Q1939.73 4634.85 1945.35 4641.66 Q1951.05 4648.47 1951.05 4658.46 Q1951.05 4673.81 1940.49 4682.21 Q1929.94 4690.62 1910.49 4690.62 Q1903.96 4690.62 1897.02 4689.3 Q1890.15 4688.05 1882.78 4685.48 L1882.78 4671.94 Q1888.62 4675.34 1895.56 4677.08 Q1902.51 4678.81 1910.08 4678.81 Q1923.27 4678.81 1930.14 4673.6 Q1937.09 4668.4 1937.09 4658.46 Q1937.09 4649.3 1930.63 4644.16 Q1924.24 4638.95 1912.78 4638.95 L1900.7 4638.95 L1900.7 4627.42 L1913.34 4627.42 Q1923.69 4627.42 1929.17 4623.33 Q1934.66 4619.16 1934.66 4611.38 Q1934.66 4603.4 1928.96 4599.16 Q1923.34 4594.85 1912.78 4594.85 Q1907.02 4594.85 1900.42 4596.1 Q1893.83 4597.35 1885.91 4599.99 L1885.91 4587.49 Q1893.9 4585.27 1900.84 4584.16 Q1907.85 4583.05 1914.03 4583.05 Q1930.01 4583.05 1939.31 4590.34 Q1948.62 4597.56 1948.62 4609.92 Q1948.62 4618.53 1943.69 4624.51 Q1938.76 4630.41 1929.66 4632.7 Z\" fill=\"#000000\" fill-rule=\"evenodd\" fill-opacity=\"1\" /><path clip-path=\"url(#clip600)\" d=\"M2399.58 4638.12 L2488.61 4638.12 L2488.61 4649.92 L2399.58 4649.92 L2399.58 4638.12 Z\" fill=\"#000000\" fill-rule=\"evenodd\" fill-opacity=\"1\" /><path clip-path=\"url(#clip600)\" d=\"M2530.97 4676.8 L2579.92 4676.8 L2579.92 4688.6 L2514.09 4688.6 L2514.09 4676.8 Q2522.08 4668.53 2535.83 4654.65 Q2549.65 4640.69 2553.19 4636.66 Q2559.92 4629.09 2562.56 4623.88 Q2565.27 4618.6 2565.27 4613.53 Q2565.27 4605.27 2559.44 4600.06 Q2553.67 4594.85 2544.37 4594.85 Q2537.77 4594.85 2530.41 4597.15 Q2523.12 4599.44 2514.79 4604.09 L2514.79 4589.92 Q2523.26 4586.52 2530.62 4584.78 Q2537.98 4583.05 2544.09 4583.05 Q2560.2 4583.05 2569.79 4591.1 Q2579.37 4599.16 2579.37 4612.63 Q2579.37 4619.02 2576.94 4624.78 Q2574.58 4630.48 2568.26 4638.26 Q2566.52 4640.27 2557.22 4649.92 Q2547.91 4659.51 2530.97 4676.8 Z\" fill=\"#000000\" fill-rule=\"evenodd\" fill-opacity=\"1\" /><path clip-path=\"url(#clip600)\" d=\"M3029.32 4638.12 L3118.35 4638.12 L3118.35 4649.92 L3029.32 4649.92 L3029.32 4638.12 Z\" fill=\"#000000\" fill-rule=\"evenodd\" fill-opacity=\"1\" /><path clip-path=\"url(#clip600)\" d=\"M3151.06 4676.8 L3173.97 4676.8 L3173.97 4597.7 L3149.04 4602.7 L3149.04 4589.92 L3173.84 4584.92 L3187.86 4584.92 L3187.86 4676.8 L3210.78 4676.8 L3210.78 4688.6 L3151.06 4688.6 L3151.06 4676.8 Z\" fill=\"#000000\" fill-rule=\"evenodd\" fill-opacity=\"1\" /><path clip-path=\"url(#clip600)\" d=\"M3750.35 4594.16 Q3739.52 4594.16 3734.03 4604.85 Q3728.61 4615.48 3728.61 4636.87 Q3728.61 4658.19 3734.03 4668.88 Q3739.52 4679.51 3750.35 4679.51 Q3761.25 4679.51 3766.67 4668.88 Q3772.16 4658.19 3772.16 4636.87 Q3772.16 4615.48 3766.67 4604.85 Q3761.25 4594.16 3750.35 4594.16 M3750.35 4583.05 Q3767.78 4583.05 3776.95 4596.87 Q3786.18 4610.62 3786.18 4636.87 Q3786.18 4663.05 3776.95 4676.87 Q3767.78 4690.62 3750.35 4690.62 Q3732.92 4690.62 3723.68 4676.87 Q3714.52 4663.05 3714.52 4636.87 Q3714.52 4610.62 3723.68 4596.87 Q3732.92 4583.05 3750.35 4583.05 Z\" fill=\"#000000\" fill-rule=\"evenodd\" fill-opacity=\"1\" /><path clip-path=\"url(#clip600)\" d=\"M4351.8 4676.8 L4374.71 4676.8 L4374.71 4597.7 L4349.78 4602.7 L4349.78 4589.92 L4374.57 4584.92 L4388.6 4584.92 L4388.6 4676.8 L4411.52 4676.8 L4411.52 4688.6 L4351.8 4688.6 L4351.8 4676.8 Z\" fill=\"#000000\" fill-rule=\"evenodd\" fill-opacity=\"1\" /><path clip-path=\"url(#clip600)\" d=\"M4994.91 4676.8 L5043.87 4676.8 L5043.87 4688.6 L4978.03 4688.6 L4978.03 4676.8 Q4986.02 4668.53 4999.77 4654.65 Q5013.59 4640.69 5017.13 4636.66 Q5023.87 4629.09 5026.51 4623.88 Q5029.21 4618.6 5029.21 4613.53 Q5029.21 4605.27 5023.38 4600.06 Q5017.62 4594.85 5008.31 4594.85 Q5001.71 4594.85 4994.35 4597.15 Q4987.06 4599.44 4978.73 4604.09 L4978.73 4589.92 Q4987.2 4586.52 4994.56 4584.78 Q5001.92 4583.05 5008.03 4583.05 Q5024.14 4583.05 5033.73 4591.1 Q5043.31 4599.16 5043.31 4612.63 Q5043.31 4619.02 5040.88 4624.78 Q5038.52 4630.48 5032.2 4638.26 Q5030.46 4640.27 5021.16 4649.92 Q5011.85 4659.51 4994.91 4676.8 Z\" fill=\"#000000\" fill-rule=\"evenodd\" fill-opacity=\"1\" /><path clip-path=\"url(#clip600)\" d=\"M5653.99 4632.7 Q5664.06 4634.85 5669.69 4641.66 Q5675.38 4648.47 5675.38 4658.46 Q5675.38 4673.81 5664.83 4682.21 Q5654.27 4690.62 5634.83 4690.62 Q5628.3 4690.62 5621.35 4689.3 Q5614.48 4688.05 5607.12 4685.48 L5607.12 4671.94 Q5612.95 4675.34 5619.9 4677.08 Q5626.84 4678.81 5634.41 4678.81 Q5647.6 4678.81 5654.48 4673.6 Q5661.42 4668.4 5661.42 4658.46 Q5661.42 4649.3 5654.97 4644.16 Q5648.58 4638.95 5637.12 4638.95 L5625.04 4638.95 L5625.04 4627.42 L5637.67 4627.42 Q5648.02 4627.42 5653.51 4623.33 Q5658.99 4619.16 5658.99 4611.38 Q5658.99 4603.4 5653.3 4599.16 Q5647.67 4594.85 5637.12 4594.85 Q5631.35 4594.85 5624.76 4596.1 Q5618.16 4597.35 5610.24 4599.99 L5610.24 4587.49 Q5618.23 4585.27 5625.17 4584.16 Q5632.19 4583.05 5638.37 4583.05 Q5654.34 4583.05 5663.65 4590.34 Q5672.95 4597.56 5672.95 4609.92 Q5672.95 4618.53 5668.02 4624.51 Q5663.09 4630.41 5653.99 4632.7 Z\" fill=\"#000000\" fill-rule=\"evenodd\" fill-opacity=\"1\" /><polyline clip-path=\"url(#clip602)\" style=\"stroke:#000000; stroke-linecap:butt; stroke-linejoin:round; stroke-width:6; stroke-opacity:0.1; fill:none\" points=\"\n  1859.45,4506.59 5641.25,4506.59 \n  \"/>\n<polyline clip-path=\"url(#clip602)\" style=\"stroke:#000000; stroke-linecap:butt; stroke-linejoin:round; stroke-width:6; stroke-opacity:0.1; fill:none\" points=\"\n  1859.45,3876.29 5641.25,3876.29 \n  \"/>\n<polyline clip-path=\"url(#clip602)\" style=\"stroke:#000000; stroke-linecap:butt; stroke-linejoin:round; stroke-width:6; stroke-opacity:0.1; fill:none\" points=\"\n  1859.45,3245.99 5641.25,3245.99 \n  \"/>\n<polyline clip-path=\"url(#clip602)\" style=\"stroke:#000000; stroke-linecap:butt; stroke-linejoin:round; stroke-width:6; stroke-opacity:0.1; fill:none\" points=\"\n  1859.45,2615.69 5641.25,2615.69 \n  \"/>\n<polyline clip-path=\"url(#clip602)\" style=\"stroke:#000000; stroke-linecap:butt; stroke-linejoin:round; stroke-width:6; stroke-opacity:0.1; fill:none\" points=\"\n  1859.45,1985.39 5641.25,1985.39 \n  \"/>\n<polyline clip-path=\"url(#clip602)\" style=\"stroke:#000000; stroke-linecap:butt; stroke-linejoin:round; stroke-width:6; stroke-opacity:0.1; fill:none\" points=\"\n  1859.45,1355.09 5641.25,1355.09 \n  \"/>\n<polyline clip-path=\"url(#clip602)\" style=\"stroke:#000000; stroke-linecap:butt; stroke-linejoin:round; stroke-width:6; stroke-opacity:0.1; fill:none\" points=\"\n  1859.45,724.788 5641.25,724.788 \n  \"/>\n<polyline clip-path=\"url(#clip602)\" style=\"stroke:#000000; stroke-linecap:butt; stroke-linejoin:round; stroke-width:6; stroke-opacity:0.1; fill:none\" points=\"\n  1859.45,94.4882 5641.25,94.4882 \n  \"/>\n<polyline clip-path=\"url(#clip600)\" style=\"stroke:#000000; stroke-linecap:butt; stroke-linejoin:round; stroke-width:12; stroke-opacity:1; fill:none\" points=\"\n  1859.45,4506.59 1859.45,94.4882 \n  \"/>\n<polyline clip-path=\"url(#clip600)\" style=\"stroke:#000000; stroke-linecap:butt; stroke-linejoin:round; stroke-width:12; stroke-opacity:1; fill:none\" points=\"\n  1859.45,4506.59 1904.83,4506.59 \n  \"/>\n<polyline clip-path=\"url(#clip600)\" style=\"stroke:#000000; stroke-linecap:butt; stroke-linejoin:round; stroke-width:12; stroke-opacity:1; fill:none\" points=\"\n  1859.45,3876.29 1904.83,3876.29 \n  \"/>\n<polyline clip-path=\"url(#clip600)\" style=\"stroke:#000000; stroke-linecap:butt; stroke-linejoin:round; stroke-width:12; stroke-opacity:1; fill:none\" points=\"\n  1859.45,3245.99 1904.83,3245.99 \n  \"/>\n<polyline clip-path=\"url(#clip600)\" style=\"stroke:#000000; stroke-linecap:butt; stroke-linejoin:round; stroke-width:12; stroke-opacity:1; fill:none\" points=\"\n  1859.45,2615.69 1904.83,2615.69 \n  \"/>\n<polyline clip-path=\"url(#clip600)\" style=\"stroke:#000000; stroke-linecap:butt; stroke-linejoin:round; stroke-width:12; stroke-opacity:1; fill:none\" points=\"\n  1859.45,1985.39 1904.83,1985.39 \n  \"/>\n<polyline clip-path=\"url(#clip600)\" style=\"stroke:#000000; stroke-linecap:butt; stroke-linejoin:round; stroke-width:12; stroke-opacity:1; fill:none\" points=\"\n  1859.45,1355.09 1904.83,1355.09 \n  \"/>\n<polyline clip-path=\"url(#clip600)\" style=\"stroke:#000000; stroke-linecap:butt; stroke-linejoin:round; stroke-width:12; stroke-opacity:1; fill:none\" points=\"\n  1859.45,724.788 1904.83,724.788 \n  \"/>\n<polyline clip-path=\"url(#clip600)\" style=\"stroke:#000000; stroke-linecap:butt; stroke-linejoin:round; stroke-width:12; stroke-opacity:1; fill:none\" points=\"\n  1859.45,94.4882 1904.83,94.4882 \n  \"/>\n<path clip-path=\"url(#clip600)\" d=\"M1569.99 4507.94 L1659.02 4507.94 L1659.02 4519.75 L1569.99 4519.75 L1569.99 4507.94 Z\" fill=\"#000000\" fill-rule=\"evenodd\" fill-opacity=\"1\" /><path clip-path=\"url(#clip600)\" d=\"M1691.73 4546.62 L1714.65 4546.62 L1714.65 4467.53 L1689.72 4472.53 L1689.72 4459.75 L1714.51 4454.75 L1728.53 4454.75 L1728.53 4546.62 L1751.45 4546.62 L1751.45 4558.43 L1691.73 4558.43 L1691.73 4546.62 Z\" fill=\"#000000\" fill-rule=\"evenodd\" fill-opacity=\"1\" /><path clip-path=\"url(#clip600)\" d=\"M1715.62 3833.68 Q1704.78 3833.68 1699.3 3844.38 Q1693.88 3855 1693.88 3876.39 Q1693.88 3897.71 1699.3 3908.41 Q1704.78 3919.03 1715.62 3919.03 Q1726.52 3919.03 1731.94 3908.41 Q1737.42 3897.71 1737.42 3876.39 Q1737.42 3855 1731.94 3844.38 Q1726.52 3833.68 1715.62 3833.68 M1715.62 3822.57 Q1733.05 3822.57 1742.21 3836.39 Q1751.45 3850.14 1751.45 3876.39 Q1751.45 3902.57 1742.21 3916.39 Q1733.05 3930.14 1715.62 3930.14 Q1698.19 3930.14 1688.95 3916.39 Q1679.78 3902.57 1679.78 3876.39 Q1679.78 3850.14 1688.95 3836.39 Q1698.19 3822.57 1715.62 3822.57 Z\" fill=\"#000000\" fill-rule=\"evenodd\" fill-opacity=\"1\" /><path clip-path=\"url(#clip600)\" d=\"M1691.73 3286.02 L1714.65 3286.02 L1714.65 3206.93 L1689.72 3211.93 L1689.72 3199.15 L1714.51 3194.15 L1728.53 3194.15 L1728.53 3286.02 L1751.45 3286.02 L1751.45 3297.83 L1691.73 3297.83 L1691.73 3286.02 Z\" fill=\"#000000\" fill-rule=\"evenodd\" fill-opacity=\"1\" /><path clip-path=\"url(#clip600)\" d=\"M1702.49 2655.72 L1751.45 2655.72 L1751.45 2667.53 L1685.62 2667.53 L1685.62 2655.72 Q1693.6 2647.46 1707.35 2633.57 Q1721.17 2619.61 1724.71 2615.58 Q1731.45 2608.01 1734.09 2602.81 Q1736.8 2597.53 1736.8 2592.46 Q1736.8 2584.2 1730.96 2578.99 Q1725.2 2573.78 1715.9 2573.78 Q1709.3 2573.78 1701.94 2576.07 Q1694.65 2578.36 1686.31 2583.01 L1686.31 2568.85 Q1694.78 2565.45 1702.15 2563.71 Q1709.51 2561.97 1715.62 2561.97 Q1731.73 2561.97 1741.31 2570.03 Q1750.9 2578.08 1750.9 2591.56 Q1750.9 2597.94 1748.46 2603.71 Q1746.1 2609.4 1739.78 2617.18 Q1738.05 2619.19 1728.74 2628.85 Q1719.44 2638.43 1702.49 2655.72 Z\" fill=\"#000000\" fill-rule=\"evenodd\" fill-opacity=\"1\" /><path clip-path=\"url(#clip600)\" d=\"M1730.06 1981.33 Q1740.13 1983.48 1745.76 1990.28 Q1751.45 1997.09 1751.45 2007.09 Q1751.45 2022.44 1740.9 2030.84 Q1730.34 2039.24 1710.9 2039.24 Q1704.37 2039.24 1697.42 2037.92 Q1690.55 2036.67 1683.19 2034.1 L1683.19 2020.56 Q1689.02 2023.96 1695.97 2025.7 Q1702.91 2027.44 1710.48 2027.44 Q1723.67 2027.44 1730.55 2022.23 Q1737.49 2017.02 1737.49 2007.09 Q1737.49 1997.92 1731.03 1992.78 Q1724.65 1987.58 1713.19 1987.58 L1701.1 1987.58 L1701.1 1976.05 L1713.74 1976.05 Q1724.09 1976.05 1729.58 1971.95 Q1735.06 1967.78 1735.06 1960.01 Q1735.06 1952.02 1729.37 1947.78 Q1723.74 1943.48 1713.19 1943.48 Q1707.42 1943.48 1700.83 1944.73 Q1694.23 1945.98 1686.31 1948.62 L1686.31 1936.12 Q1694.3 1933.9 1701.24 1932.78 Q1708.26 1931.67 1714.44 1931.67 Q1730.41 1931.67 1739.71 1938.96 Q1749.02 1946.19 1749.02 1958.55 Q1749.02 1967.16 1744.09 1973.13 Q1739.16 1979.03 1730.06 1981.33 Z\" fill=\"#000000\" fill-rule=\"evenodd\" fill-opacity=\"1\" /><path clip-path=\"url(#clip600)\" d=\"M1722.7 1315.47 L1687.28 1370.82 L1722.7 1370.82 L1722.7 1315.47 M1719.02 1303.25 L1736.66 1303.25 L1736.66 1370.82 L1751.45 1370.82 L1751.45 1382.48 L1736.66 1382.48 L1736.66 1406.93 L1722.7 1406.93 L1722.7 1382.48 L1675.9 1382.48 L1675.9 1368.94 L1719.02 1303.25 Z\" fill=\"#000000\" fill-rule=\"evenodd\" fill-opacity=\"1\" /><path clip-path=\"url(#clip600)\" d=\"M1688.74 672.948 L1743.81 672.948 L1743.81 684.754 L1701.59 684.754 L1701.59 710.17 Q1704.65 709.128 1707.7 708.642 Q1710.76 708.087 1713.81 708.087 Q1731.17 708.087 1741.31 717.601 Q1751.45 727.114 1751.45 743.364 Q1751.45 760.1 1741.03 769.406 Q1730.62 778.642 1711.66 778.642 Q1705.13 778.642 1698.33 777.531 Q1691.59 776.42 1684.37 774.198 L1684.37 760.1 Q1690.62 763.503 1697.28 765.17 Q1703.95 766.837 1711.38 766.837 Q1723.4 766.837 1730.41 760.517 Q1737.42 754.198 1737.42 743.364 Q1737.42 732.531 1730.41 726.212 Q1723.4 719.892 1711.38 719.892 Q1705.76 719.892 1700.13 721.142 Q1694.58 722.392 1688.74 725.031 L1688.74 672.948 Z\" fill=\"#000000\" fill-rule=\"evenodd\" fill-opacity=\"1\" /><path clip-path=\"url(#clip600)\" d=\"M1716.87 88.8979 Q1707.42 88.8979 1701.87 95.3562 Q1696.38 101.815 1696.38 113.064 Q1696.38 124.245 1701.87 130.773 Q1707.42 137.231 1716.87 137.231 Q1726.31 137.231 1731.8 130.773 Q1737.35 124.245 1737.35 113.064 Q1737.35 101.815 1731.8 95.3562 Q1726.31 88.8979 1716.87 88.8979 M1744.71 44.9398 L1744.71 57.7176 Q1739.44 55.2176 1734.02 53.8981 Q1728.67 52.5787 1723.4 52.5787 Q1709.51 52.5787 1702.15 61.9536 Q1694.85 71.3286 1693.81 90.2868 Q1697.91 84.2452 1704.09 81.0508 Q1710.27 77.7869 1717.7 77.7869 Q1733.33 77.7869 1742.35 87.3007 Q1751.45 96.7451 1751.45 113.064 Q1751.45 129.037 1742.01 138.689 Q1732.56 148.342 1716.87 148.342 Q1698.88 148.342 1689.37 134.592 Q1679.85 120.773 1679.85 94.5924 Q1679.85 70.0092 1691.52 55.4259 Q1703.19 40.7732 1722.84 40.7732 Q1728.12 40.7732 1733.46 41.8149 Q1738.88 42.8565 1744.71 44.9398 Z\" fill=\"#000000\" fill-rule=\"evenodd\" fill-opacity=\"1\" /><polyline clip-path=\"url(#clip602)\" style=\"stroke:#000000; stroke-linecap:butt; stroke-linejoin:round; stroke-width:216; stroke-opacity:1; fill:none\" points=\"\n  3746.06,711.669 3761.59,750.714 \n  \"/>\n<polyline clip-path=\"url(#clip602)\" style=\"stroke:#000000; stroke-linecap:butt; stroke-linejoin:round; stroke-width:216; stroke-opacity:1; fill:none\" points=\"\n  3792.65,828.804 3808.18,867.849 \n  \"/>\n<polyline clip-path=\"url(#clip602)\" style=\"stroke:#e26f46; stroke-linecap:butt; stroke-linejoin:round; stroke-width:180; stroke-opacity:1; fill:none\" points=\"\n  3730.53,672.624 3823.71,906.894 \n  \"/>\n<path clip-path=\"url(#clip602)\" d=\"\nM3465.82 2771.72 L3468.86 2802.54 L3474.9 2832.91 L3483.89 2862.54 L3495.74 2891.15 L3510.33 2918.45 L3527.54 2944.2 L3547.18 2968.14 L3569.08 2990.03 L3593.01 3009.68 \n  L3618.76 3026.88 L3646.07 3041.47 L3674.67 3053.32 L3704.31 3062.31 L3734.68 3068.35 L3765.49 3071.39 L3796.46 3071.39 L3827.27 3068.35 L3857.64 3062.31 L3887.27 3053.32 \n  L3915.88 3041.47 L3943.19 3026.88 L3968.93 3009.68 L3992.87 2990.03 L4014.77 2968.14 L4034.41 2944.2 L4051.61 2918.45 L4066.21 2891.15 L4078.06 2862.54 L4087.05 2832.91 \n  L4093.09 2802.54 L4096.12 2771.72 L4096.12 2740.76 L4093.09 2709.94 L4087.05 2679.57 L4078.06 2649.94 L4066.21 2621.33 L4051.61 2594.02 L4034.41 2568.28 L4014.77 2544.34 \n  L3992.87 2522.45 L3968.93 2502.8 L3943.19 2485.6 L3915.88 2471 L3887.27 2459.15 L3857.64 2450.17 L3827.27 2444.12 L3796.46 2441.09 L3765.49 2441.09 L3734.68 2444.12 \n  L3704.31 2450.17 L3674.67 2459.15 L3646.07 2471 L3618.76 2485.6 L3593.01 2502.8 L3569.08 2522.45 L3547.18 2544.34 L3527.54 2568.28 L3510.33 2594.02 L3495.74 2621.33 \n  L3483.89 2649.94 L3474.9 2679.57 L3468.86 2709.94 L3465.82 2740.76 L3465.82 2771.72 L3465.82 2771.72  Z\n  \" fill=\"#c271d2\" fill-rule=\"evenodd\" fill-opacity=\"0.5\"/>\n<polyline clip-path=\"url(#clip602)\" style=\"stroke:#000000; stroke-linecap:butt; stroke-linejoin:round; stroke-width:12; stroke-opacity:0.5; fill:none\" points=\"\n  3465.82,2771.72 3468.86,2802.54 3474.9,2832.91 3483.89,2862.54 3495.74,2891.15 3510.33,2918.45 3527.54,2944.2 3547.18,2968.14 3569.08,2990.03 3593.01,3009.68 \n  3618.76,3026.88 3646.07,3041.47 3674.67,3053.32 3704.31,3062.31 3734.68,3068.35 3765.49,3071.39 3796.46,3071.39 3827.27,3068.35 3857.64,3062.31 3887.27,3053.32 \n  3915.88,3041.47 3943.19,3026.88 3968.93,3009.68 3992.87,2990.03 4014.77,2968.14 4034.41,2944.2 4051.61,2918.45 4066.21,2891.15 4078.06,2862.54 4087.05,2832.91 \n  4093.09,2802.54 4096.12,2771.72 4096.12,2740.76 4093.09,2709.94 4087.05,2679.57 4078.06,2649.94 4066.21,2621.33 4051.61,2594.02 4034.41,2568.28 4014.77,2544.34 \n  3992.87,2522.45 3968.93,2502.8 3943.19,2485.6 3915.88,2471 3887.27,2459.15 3857.64,2450.17 3827.27,2444.12 3796.46,2441.09 3765.49,2441.09 3734.68,2444.12 \n  3704.31,2450.17 3674.67,2459.15 3646.07,2471 3618.76,2485.6 3593.01,2502.8 3569.08,2522.45 3547.18,2544.34 3527.54,2568.28 3510.33,2594.02 3495.74,2621.33 \n  3483.89,2649.94 3474.9,2679.57 3468.86,2709.94 3465.82,2740.76 3465.82,2771.72 \n  \"/>\n<path clip-path=\"url(#clip602)\" d=\"\nM3234.83 1445.36 L3237.86 1476.17 L3243.9 1506.54 L3252.89 1536.17 L3264.74 1564.78 L3279.34 1592.09 L3296.54 1617.83 L3316.18 1641.77 L3338.08 1663.67 L3362.02 1683.31 \n  L3387.76 1700.51 L3415.07 1715.11 L3443.68 1726.96 L3473.31 1735.95 L3503.68 1741.99 L3534.49 1745.02 L3565.46 1745.02 L3596.27 1741.99 L3626.64 1735.95 L3656.28 1726.96 \n  L3684.88 1715.11 L3712.19 1700.51 L3737.94 1683.31 L3761.87 1663.67 L3783.77 1641.77 L3803.41 1617.83 L3820.62 1592.09 L3835.21 1564.78 L3847.06 1536.17 L3856.05 1506.54 \n  L3862.09 1476.17 L3865.13 1445.36 L3865.13 1414.39 L3862.09 1383.58 L3856.05 1353.21 L3847.06 1323.57 L3835.21 1294.97 L3820.62 1267.66 L3803.41 1241.91 L3783.77 1217.98 \n  L3761.87 1196.08 L3737.94 1176.44 L3712.19 1159.23 L3684.88 1144.64 L3656.28 1132.79 L3626.64 1123.8 L3596.27 1117.76 L3565.46 1114.72 L3534.49 1114.72 L3503.68 1117.76 \n  L3473.31 1123.8 L3443.68 1132.79 L3415.07 1144.64 L3387.76 1159.23 L3362.02 1176.44 L3338.08 1196.08 L3316.18 1217.98 L3296.54 1241.91 L3279.34 1267.66 L3264.74 1294.97 \n  L3252.89 1323.57 L3243.9 1353.21 L3237.86 1383.58 L3234.83 1414.39 L3234.83 1445.36 L3234.83 1445.36  Z\n  \" fill=\"#ac8d18\" fill-rule=\"evenodd\" fill-opacity=\"0.5\"/>\n<polyline clip-path=\"url(#clip602)\" style=\"stroke:#000000; stroke-linecap:butt; stroke-linejoin:round; stroke-width:12; stroke-opacity:0.5; fill:none\" points=\"\n  3234.83,1445.36 3237.86,1476.17 3243.9,1506.54 3252.89,1536.17 3264.74,1564.78 3279.34,1592.09 3296.54,1617.83 3316.18,1641.77 3338.08,1663.67 3362.02,1683.31 \n  3387.76,1700.51 3415.07,1715.11 3443.68,1726.96 3473.31,1735.95 3503.68,1741.99 3534.49,1745.02 3565.46,1745.02 3596.27,1741.99 3626.64,1735.95 3656.28,1726.96 \n  3684.88,1715.11 3712.19,1700.51 3737.94,1683.31 3761.87,1663.67 3783.77,1641.77 3803.41,1617.83 3820.62,1592.09 3835.21,1564.78 3847.06,1536.17 3856.05,1506.54 \n  3862.09,1476.17 3865.13,1445.36 3865.13,1414.39 3862.09,1383.58 3856.05,1353.21 3847.06,1323.57 3835.21,1294.97 3820.62,1267.66 3803.41,1241.91 3783.77,1217.98 \n  3761.87,1196.08 3737.94,1176.44 3712.19,1159.23 3684.88,1144.64 3656.28,1132.79 3626.64,1123.8 3596.27,1117.76 3565.46,1114.72 3534.49,1114.72 3503.68,1117.76 \n  3473.31,1123.8 3443.68,1132.79 3415.07,1144.64 3387.76,1159.23 3362.02,1176.44 3338.08,1196.08 3316.18,1217.98 3296.54,1241.91 3279.34,1267.66 3264.74,1294.97 \n  3252.89,1323.57 3243.9,1353.21 3237.86,1383.58 3234.83,1414.39 3234.83,1445.36 \n  \"/>\n<polyline clip-path=\"url(#clip602)\" style=\"stroke:#3da44d; stroke-linecap:butt; stroke-linejoin:round; stroke-width:12; stroke-opacity:1; fill:none\" points=\"\n  3750.35,3876.29 3753.38,3878.29 3757.74,3853.74 3756.2,3802.82 3756.42,3740.35 3752.23,3676.18 3745.28,3613.16 3736.97,3554.63 3727.66,3503.43 3716.92,3456.86 \n  3704.84,3415.7 3691.17,3378.7 3676.5,3344.27 3660.89,3312.2 3644.14,3281.85 3628.68,3254.94 3613.96,3228.22 3600.83,3204.57 3588.78,3181.01 3578.79,3159.55 \n  3568.16,3139.53 3559.13,3120.71 3552.4,3103.14 3544.19,3087.41 3537.05,3072.51 3532.11,3058.75 3525.11,3046.36 3518.2,3034.05 3513.28,3022.1 3499.27,3005.13 \n  3467.47,2968.2 3452.16,2940.67 3424,2893.94 3406.17,2837.08 3393.77,2778.05 3387.91,2716.55 3394.74,2652.63 3400.65,2589.71 3406.8,2526.74 3413.27,2463.73 \n  3431.1,2402.38 3449.19,2342.15 3466.87,2281.99 3483.93,2224.62 3502.36,2175.67 3521.36,2130.33 3539.85,2090.46 3558.56,2054.6 3577.51,2022.64 3596.97,1993.94 \n  3617.47,1967.99 3635.9,1944.71 3654.47,1922.24 3671.12,1902.1 3687.62,1881.63 3702.53,1863.22 3716.18,1846.52 3730.19,1828.8 3743.07,1812.56 3755.02,1797.59 \n  3766.2,1783.72 3778.72,1767.7 3791.23,1751.82 3803.76,1736.06 3816.97,1719.62 3832.72,1700.68 3843.83,1687.67 3859.56,1669.41 3872.09,1650.88 3889.32,1621.94 \n  3911.64,1576.81 3934.29,1521.14 3953.29,1458.77 3952.49,1380.82 3943.03,1320.26 3926.48,1259.12 3908.88,1200.16 3891.99,1148.43 3876.7,1102.8 3866.7,1061.85 \n  3854.99,1025.15 3846.76,992.995 3837.26,963.739 3830.32,938.082 3822.41,914.607 3816.46,894.156 3809.69,875.287 3804.35,858.585 3798.12,843.384 3793.59,830.044 \n  3789.31,818.216 3785.1,807.637 3781.01,798.181 3777.12,789.759 \n  \"/>\n<path clip-path=\"url(#clip600)\" d=\"\nM2936.66 4359.52 L5417.57 4359.52 L5417.57 3905.92 L2936.66 3905.92  Z\n  \" fill=\"#ffffff\" fill-rule=\"evenodd\" fill-opacity=\"1\"/>\n<polyline clip-path=\"url(#clip600)\" style=\"stroke:#000000; stroke-linecap:butt; stroke-linejoin:round; stroke-width:12; stroke-opacity:1; fill:none\" points=\"\n  2936.66,4359.52 5417.57,4359.52 5417.57,3905.92 2936.66,3905.92 2936.66,4359.52 \n  \"/>\n<polyline clip-path=\"url(#clip600)\" style=\"stroke:#3da44d; stroke-linecap:butt; stroke-linejoin:round; stroke-width:15; stroke-opacity:1; fill:none\" points=\"\n  3011.22,4132.72 3458.58,4132.72 \n  \"/>\n<path clip-path=\"url(#clip600)\" d=\"M3533.13 4067.92 L3615.08 4067.92 L3615.08 4082.67 L3550.67 4082.67 L3550.67 4121.04 L3612.39 4121.04 L3612.39 4135.8 L3550.67 4135.8 L3550.67 4182.76 L3616.64 4182.76 L3616.64 4197.52 L3533.13 4197.52 L3533.13 4067.92 Z\" fill=\"#000000\" fill-rule=\"evenodd\" fill-opacity=\"1\" /><path clip-path=\"url(#clip600)\" d=\"M3725.58 4100.3 L3690.43 4147.6 L3727.4 4197.52 L3708.57 4197.52 L3680.27 4159.32 L3651.97 4197.52 L3633.13 4197.52 L3670.89 4146.65 L3636.35 4100.3 L3655.18 4100.3 L3680.96 4134.93 L3706.74 4100.3 L3725.58 4100.3 Z\" fill=\"#000000\" fill-rule=\"evenodd\" fill-opacity=\"1\" /><path clip-path=\"url(#clip600)\" d=\"M3827.66 4144.91 L3827.66 4152.73 L3754.23 4152.73 Q3755.27 4169.22 3764.12 4177.9 Q3773.06 4186.49 3788.95 4186.49 Q3798.15 4186.49 3806.74 4184.24 Q3815.42 4181.98 3823.93 4177.47 L3823.93 4192.57 Q3815.34 4196.22 3806.31 4198.13 Q3797.28 4200.04 3787.99 4200.04 Q3764.73 4200.04 3751.1 4186.49 Q3737.56 4172.95 3737.56 4149.86 Q3737.56 4125.99 3750.41 4112.01 Q3763.34 4097.95 3785.22 4097.95 Q3804.83 4097.95 3816.21 4110.63 Q3827.66 4123.21 3827.66 4144.91 M3811.69 4140.23 Q3811.52 4127.12 3804.31 4119.31 Q3797.2 4111.49 3785.39 4111.49 Q3772.02 4111.49 3763.95 4119.05 Q3755.96 4126.6 3754.75 4140.31 L3811.69 4140.23 Z\" fill=\"#000000\" fill-rule=\"evenodd\" fill-opacity=\"1\" /><path clip-path=\"url(#clip600)\" d=\"M3923.84 4104.03 L3923.84 4118.96 Q3917.07 4115.23 3910.22 4113.4 Q3903.44 4111.49 3896.5 4111.49 Q3880.96 4111.49 3872.37 4121.39 Q3863.77 4131.2 3863.77 4148.99 Q3863.77 4166.79 3872.37 4176.68 Q3880.96 4186.49 3896.5 4186.49 Q3903.44 4186.49 3910.22 4184.67 Q3917.07 4182.76 3923.84 4179.03 L3923.84 4193.79 Q3917.16 4196.91 3909.96 4198.47 Q3902.84 4200.04 3894.76 4200.04 Q3872.8 4200.04 3859.87 4186.23 Q3846.93 4172.43 3846.93 4148.99 Q3846.93 4125.21 3859.96 4111.58 Q3873.06 4097.95 3895.81 4097.95 Q3903.18 4097.95 3910.22 4099.51 Q3917.25 4100.99 3923.84 4104.03 Z\" fill=\"#000000\" fill-rule=\"evenodd\" fill-opacity=\"1\" /><path clip-path=\"url(#clip600)\" d=\"M3949.97 4159.15 L3949.97 4100.3 L3965.94 4100.3 L3965.94 4158.54 Q3965.94 4172.34 3971.33 4179.29 Q3976.71 4186.15 3987.47 4186.15 Q4000.41 4186.15 4007.87 4177.9 Q4015.42 4169.65 4015.42 4155.42 L4015.42 4100.3 L4031.4 4100.3 L4031.4 4197.52 L4015.42 4197.52 L4015.42 4182.59 Q4009.61 4191.44 4001.88 4195.78 Q3994.24 4200.04 3984.09 4200.04 Q3967.33 4200.04 3958.65 4189.62 Q3949.97 4179.2 3949.97 4159.15 M3990.16 4097.95 L3990.16 4097.95 Z\" fill=\"#000000\" fill-rule=\"evenodd\" fill-opacity=\"1\" /><path clip-path=\"url(#clip600)\" d=\"M4080.09 4072.69 L4080.09 4100.3 L4112.99 4100.3 L4112.99 4112.71 L4080.09 4112.71 L4080.09 4165.49 Q4080.09 4177.38 4083.3 4180.76 Q4086.6 4184.15 4096.59 4184.15 L4112.99 4184.15 L4112.99 4197.52 L4096.59 4197.52 Q4078.1 4197.52 4071.07 4190.66 Q4064.03 4183.72 4064.03 4165.49 L4064.03 4112.71 L4052.32 4112.71 L4052.32 4100.3 L4064.03 4100.3 L4064.03 4072.69 L4080.09 4072.69 Z\" fill=\"#000000\" fill-rule=\"evenodd\" fill-opacity=\"1\" /><path clip-path=\"url(#clip600)\" d=\"M4217.16 4144.91 L4217.16 4152.73 L4143.72 4152.73 Q4144.76 4169.22 4153.62 4177.9 Q4162.56 4186.49 4178.44 4186.49 Q4187.64 4186.49 4196.24 4184.24 Q4204.92 4181.98 4213.43 4177.47 L4213.43 4192.57 Q4204.83 4196.22 4195.8 4198.13 Q4186.78 4200.04 4177.49 4200.04 Q4154.22 4200.04 4140.6 4186.49 Q4127.05 4172.95 4127.05 4149.86 Q4127.05 4125.99 4139.9 4112.01 Q4152.84 4097.95 4174.71 4097.95 Q4194.33 4097.95 4205.7 4110.63 Q4217.16 4123.21 4217.16 4144.91 M4201.19 4140.23 Q4201.01 4127.12 4193.81 4119.31 Q4186.69 4111.49 4174.88 4111.49 Q4161.52 4111.49 4153.44 4119.05 Q4145.46 4126.6 4144.24 4140.31 L4201.19 4140.23 Z\" fill=\"#000000\" fill-rule=\"evenodd\" fill-opacity=\"1\" /><path clip-path=\"url(#clip600)\" d=\"M4307.35 4115.05 L4307.35 4062.45 L4323.32 4062.45 L4323.32 4197.52 L4307.35 4197.52 L4307.35 4182.93 Q4302.31 4191.61 4294.59 4195.87 Q4286.95 4200.04 4276.19 4200.04 Q4258.56 4200.04 4247.45 4185.97 Q4236.43 4171.91 4236.43 4148.99 Q4236.43 4126.08 4247.45 4112.01 Q4258.56 4097.95 4276.19 4097.95 Q4286.95 4097.95 4294.59 4102.21 Q4302.31 4106.37 4307.35 4115.05 M4252.92 4148.99 Q4252.92 4166.62 4260.13 4176.68 Q4267.42 4186.67 4280.09 4186.67 Q4292.77 4186.67 4300.06 4176.68 Q4307.35 4166.62 4307.35 4148.99 Q4307.35 4131.37 4300.06 4121.39 Q4292.77 4111.32 4280.09 4111.32 Q4267.42 4111.32 4260.13 4121.39 Q4252.92 4131.37 4252.92 4148.99 Z\" fill=\"#000000\" fill-rule=\"evenodd\" fill-opacity=\"1\" /><path clip-path=\"url(#clip600)\" d=\"M4395.46 4067.92 L4505.09 4067.92 L4505.09 4082.67 L4459.08 4082.67 L4459.08 4197.52 L4441.46 4197.52 L4441.46 4082.67 L4395.46 4082.67 L4395.46 4067.92 Z\" fill=\"#000000\" fill-rule=\"evenodd\" fill-opacity=\"1\" /><path clip-path=\"url(#clip600)\" d=\"M4551.53 4115.23 Q4548.84 4113.66 4545.63 4112.97 Q4542.5 4112.19 4538.68 4112.19 Q4525.14 4112.19 4517.85 4121.04 Q4510.65 4129.81 4510.65 4146.3 L4510.65 4197.52 L4494.59 4197.52 L4494.59 4100.3 L4510.65 4100.3 L4510.65 4115.4 Q4515.68 4106.55 4523.75 4102.29 Q4531.83 4097.95 4543.37 4097.95 Q4545.02 4097.95 4547.02 4098.21 Q4549.01 4098.39 4551.44 4098.82 L4551.53 4115.23 Z\" fill=\"#000000\" fill-rule=\"evenodd\" fill-opacity=\"1\" /><path clip-path=\"url(#clip600)\" d=\"M4612.47 4148.65 Q4593.11 4148.65 4585.65 4153.07 Q4578.18 4157.5 4578.18 4168.18 Q4578.18 4176.68 4583.74 4181.72 Q4589.38 4186.67 4599.01 4186.67 Q4612.3 4186.67 4620.28 4177.29 Q4628.35 4167.83 4628.35 4152.21 L4628.35 4148.65 L4612.47 4148.65 M4644.33 4142.05 L4644.33 4197.52 L4628.35 4197.52 L4628.35 4182.76 Q4622.89 4191.61 4614.73 4195.87 Q4606.57 4200.04 4594.76 4200.04 Q4579.83 4200.04 4570.98 4191.7 Q4562.21 4183.28 4562.21 4169.22 Q4562.21 4152.81 4573.15 4144.48 Q4584.17 4136.15 4605.96 4136.15 L4628.35 4136.15 L4628.35 4134.58 Q4628.35 4123.56 4621.06 4117.57 Q4613.86 4111.49 4600.75 4111.49 Q4592.42 4111.49 4584.52 4113.49 Q4576.62 4115.49 4569.33 4119.48 L4569.33 4104.72 Q4578.09 4101.34 4586.34 4099.69 Q4594.59 4097.95 4602.4 4097.95 Q4623.49 4097.95 4633.91 4108.89 Q4644.33 4119.83 4644.33 4142.05 Z\" fill=\"#000000\" fill-rule=\"evenodd\" fill-opacity=\"1\" /><path clip-path=\"url(#clip600)\" d=\"M4677.23 4100.3 L4693.2 4100.3 L4693.2 4199.25 Q4693.2 4217.83 4686.08 4226.16 Q4679.05 4234.5 4663.34 4234.5 L4657.26 4234.5 L4657.26 4220.96 L4661.51 4220.96 Q4670.63 4220.96 4673.93 4216.7 Q4677.23 4212.54 4677.23 4199.25 L4677.23 4100.3 M4677.23 4062.45 L4693.2 4062.45 L4693.2 4082.67 L4677.23 4082.67 L4677.23 4062.45 Z\" fill=\"#000000\" fill-rule=\"evenodd\" fill-opacity=\"1\" /><path clip-path=\"url(#clip600)\" d=\"M4809.78 4144.91 L4809.78 4152.73 L4736.34 4152.73 Q4737.38 4169.22 4746.24 4177.9 Q4755.18 4186.49 4771.06 4186.49 Q4780.26 4186.49 4788.86 4184.24 Q4797.54 4181.98 4806.04 4177.47 L4806.04 4192.57 Q4797.45 4196.22 4788.42 4198.13 Q4779.39 4200.04 4770.11 4200.04 Q4746.84 4200.04 4733.21 4186.49 Q4719.67 4172.95 4719.67 4149.86 Q4719.67 4125.99 4732.52 4112.01 Q4745.45 4097.95 4767.33 4097.95 Q4786.95 4097.95 4798.32 4110.63 Q4809.78 4123.21 4809.78 4144.91 M4793.8 4140.23 Q4793.63 4127.12 4786.43 4119.31 Q4779.31 4111.49 4767.5 4111.49 Q4754.13 4111.49 4746.06 4119.05 Q4738.08 4126.6 4736.86 4140.31 L4793.8 4140.23 Z\" fill=\"#000000\" fill-rule=\"evenodd\" fill-opacity=\"1\" /><path clip-path=\"url(#clip600)\" d=\"M4905.96 4104.03 L4905.96 4118.96 Q4899.19 4115.23 4892.33 4113.4 Q4885.56 4111.49 4878.61 4111.49 Q4863.08 4111.49 4854.48 4121.39 Q4845.89 4131.2 4845.89 4148.99 Q4845.89 4166.79 4854.48 4176.68 Q4863.08 4186.49 4878.61 4186.49 Q4885.56 4186.49 4892.33 4184.67 Q4899.19 4182.76 4905.96 4179.03 L4905.96 4193.79 Q4899.27 4196.91 4892.07 4198.47 Q4884.95 4200.04 4876.88 4200.04 Q4854.92 4200.04 4841.98 4186.23 Q4829.05 4172.43 4829.05 4148.99 Q4829.05 4125.21 4842.07 4111.58 Q4855.18 4097.95 4877.92 4097.95 Q4885.3 4097.95 4892.33 4099.51 Q4899.36 4100.99 4905.96 4104.03 Z\" fill=\"#000000\" fill-rule=\"evenodd\" fill-opacity=\"1\" /><path clip-path=\"url(#clip600)\" d=\"M4949.53 4072.69 L4949.53 4100.3 L4982.43 4100.3 L4982.43 4112.71 L4949.53 4112.71 L4949.53 4165.49 Q4949.53 4177.38 4952.74 4180.76 Q4956.04 4184.15 4966.03 4184.15 L4982.43 4184.15 L4982.43 4197.52 L4966.03 4197.52 Q4947.54 4197.52 4940.51 4190.66 Q4933.47 4183.72 4933.47 4165.49 L4933.47 4112.71 L4921.76 4112.71 L4921.76 4100.3 L4933.47 4100.3 L4933.47 4072.69 L4949.53 4072.69 Z\" fill=\"#000000\" fill-rule=\"evenodd\" fill-opacity=\"1\" /><path clip-path=\"url(#clip600)\" d=\"M5041.11 4111.49 Q5028.27 4111.49 5020.8 4121.56 Q5013.33 4131.55 5013.33 4148.99 Q5013.33 4166.44 5020.71 4176.51 Q5028.18 4186.49 5041.11 4186.49 Q5053.87 4186.49 5061.34 4176.42 Q5068.8 4166.35 5068.8 4148.99 Q5068.8 4131.72 5061.34 4121.65 Q5053.87 4111.49 5041.11 4111.49 M5041.11 4097.95 Q5061.95 4097.95 5073.84 4111.49 Q5085.73 4125.04 5085.73 4148.99 Q5085.73 4172.87 5073.84 4186.49 Q5061.95 4200.04 5041.11 4200.04 Q5020.19 4200.04 5008.3 4186.49 Q4996.49 4172.87 4996.49 4148.99 Q4996.49 4125.04 5008.3 4111.49 Q5020.19 4097.95 5041.11 4097.95 Z\" fill=\"#000000\" fill-rule=\"evenodd\" fill-opacity=\"1\" /><path clip-path=\"url(#clip600)\" d=\"M5168.54 4115.23 Q5165.85 4113.66 5162.64 4112.97 Q5159.51 4112.19 5155.7 4112.19 Q5142.15 4112.19 5134.86 4121.04 Q5127.66 4129.81 5127.66 4146.3 L5127.66 4197.52 L5111.6 4197.52 L5111.6 4100.3 L5127.66 4100.3 L5127.66 4115.4 Q5132.69 4106.55 5140.76 4102.29 Q5148.84 4097.95 5160.38 4097.95 Q5162.03 4097.95 5164.03 4098.21 Q5166.02 4098.39 5168.46 4098.82 L5168.54 4115.23 Z\" fill=\"#000000\" fill-rule=\"evenodd\" fill-opacity=\"1\" /><path clip-path=\"url(#clip600)\" d=\"M5225.75 4206.55 Q5218.98 4223.91 5212.55 4229.2 Q5206.13 4234.5 5195.36 4234.5 L5182.6 4234.5 L5182.6 4221.13 L5191.98 4221.13 Q5198.58 4221.13 5202.22 4218 Q5205.87 4214.88 5210.3 4203.25 L5213.16 4195.96 L5173.84 4100.3 L5190.76 4100.3 L5221.15 4176.34 L5251.53 4100.3 L5268.45 4100.3 L5225.75 4206.55 Z\" fill=\"#000000\" fill-rule=\"evenodd\" fill-opacity=\"1\" /></svg>\n"
     },
     "metadata": {},
     "output_type": "display_data"
    },
    {
     "data": {
      "text/plain": [
       "true"
      ]
     },
     "execution_count": 152,
     "metadata": {},
     "output_type": "execute_result"
    }
   ],
   "source": [
    "# visualize(Xshoot, obstacles=obstacles, xlims=[-3,3], ylims=[-1,6], fps=100)\n",
    "visualize(Xexec2, obstacles=obstacles2, xlims=[-3,3], ylims=[-1,6], fps=100, save_frame=(length(Xexec2)-1, \"../results/collision_2.png\"))"
   ]
  },
  {
   "cell_type": "code",
   "execution_count": 148,
   "metadata": {},
   "outputs": [],
   "source": [
    "Random.seed!(7)\n",
    "n = 3\n",
    "obstacles3 = [Obstacle([rand()*1.2-0.6, rand()*3+1], [0,0], obs_radius) for i in 1:n]\n",
    "x0=[0,0,0,π/2]\n",
    "xg=[0,5,0,π/2]\n",
    "obj_cost = [1,1,1,0.1]\n",
    "rp = RP(net, obj_cost, x0, xg)\n",
    "\n",
    "err_bound = [1, 1, 0.1, 0.1]*10\n",
    "ctrl = NvController(err_bound, warm_start=true, bin_precision=1e-1)\n",
    "ci = CollisionIndex(0.1, 1e-3, 2, 1)\n",
    "\n",
    "Xexec3, Uexec, safe_sets, Xrefs, infeas = tracking(rp, ctrl, fps=10, tf=50, obstacles=obstacles3, safety_index=ci, verbose=false);"
   ]
  },
  {
   "cell_type": "code",
   "execution_count": 150,
   "metadata": {},
   "outputs": [
    {
     "data": {
      "text/plain": [
       "generate_random_traj (generic function with 1 method)"
      ]
     },
     "execution_count": 150,
     "metadata": {},
     "output_type": "execute_result"
    }
   ],
   "source": [
    "include(\"unicycle_env.jl\")"
   ]
  },
  {
   "cell_type": "code",
   "execution_count": 151,
   "metadata": {},
   "outputs": [
    {
     "data": {
      "image/svg+xml": "<?xml version=\"1.0\" encoding=\"utf-8\"?>\n<svg xmlns=\"http://www.w3.org/2000/svg\" xmlns:xlink=\"http://www.w3.org/1999/xlink\" width=\"1800\" height=\"1200\" viewBox=\"0 0 7200 4800\">\n<defs>\n  <clipPath id=\"clip780\">\n    <rect x=\"0\" y=\"0\" width=\"7200\" height=\"4800\"/>\n  </clipPath>\n</defs>\n<path clip-path=\"url(#clip780)\" d=\"\nM0 4800 L7200 4800 L7200 0 L0 0  Z\n  \" fill=\"#ffffff\" fill-rule=\"evenodd\" fill-opacity=\"1\"/>\n<defs>\n  <clipPath id=\"clip781\">\n    <rect x=\"1440\" y=\"0\" width=\"5041\" height=\"4800\"/>\n  </clipPath>\n</defs>\n<path clip-path=\"url(#clip780)\" d=\"\nM1859.45 4506.59 L5641.25 4506.59 L5641.25 94.4882 L1859.45 94.4882  Z\n  \" fill=\"#ffffff\" fill-rule=\"evenodd\" fill-opacity=\"1\"/>\n<defs>\n  <clipPath id=\"clip782\">\n    <rect x=\"1859\" y=\"94\" width=\"3783\" height=\"4413\"/>\n  </clipPath>\n</defs>\n<polyline clip-path=\"url(#clip782)\" style=\"stroke:#000000; stroke-linecap:butt; stroke-linejoin:round; stroke-width:6; stroke-opacity:0.1; fill:none\" points=\"\n  1859.45,4506.59 1859.45,94.4882 \n  \"/>\n<polyline clip-path=\"url(#clip782)\" style=\"stroke:#000000; stroke-linecap:butt; stroke-linejoin:round; stroke-width:6; stroke-opacity:0.1; fill:none\" points=\"\n  2489.75,4506.59 2489.75,94.4882 \n  \"/>\n<polyline clip-path=\"url(#clip782)\" style=\"stroke:#000000; stroke-linecap:butt; stroke-linejoin:round; stroke-width:6; stroke-opacity:0.1; fill:none\" points=\"\n  3120.05,4506.59 3120.05,94.4882 \n  \"/>\n<polyline clip-path=\"url(#clip782)\" style=\"stroke:#000000; stroke-linecap:butt; stroke-linejoin:round; stroke-width:6; stroke-opacity:0.1; fill:none\" points=\"\n  3750.35,4506.59 3750.35,94.4882 \n  \"/>\n<polyline clip-path=\"url(#clip782)\" style=\"stroke:#000000; stroke-linecap:butt; stroke-linejoin:round; stroke-width:6; stroke-opacity:0.1; fill:none\" points=\"\n  4380.65,4506.59 4380.65,94.4882 \n  \"/>\n<polyline clip-path=\"url(#clip782)\" style=\"stroke:#000000; stroke-linecap:butt; stroke-linejoin:round; stroke-width:6; stroke-opacity:0.1; fill:none\" points=\"\n  5010.95,4506.59 5010.95,94.4882 \n  \"/>\n<polyline clip-path=\"url(#clip782)\" style=\"stroke:#000000; stroke-linecap:butt; stroke-linejoin:round; stroke-width:6; stroke-opacity:0.1; fill:none\" points=\"\n  5641.25,4506.59 5641.25,94.4882 \n  \"/>\n<polyline clip-path=\"url(#clip780)\" style=\"stroke:#000000; stroke-linecap:butt; stroke-linejoin:round; stroke-width:12; stroke-opacity:1; fill:none\" points=\"\n  1859.45,4506.59 5641.25,4506.59 \n  \"/>\n<polyline clip-path=\"url(#clip780)\" style=\"stroke:#000000; stroke-linecap:butt; stroke-linejoin:round; stroke-width:12; stroke-opacity:1; fill:none\" points=\"\n  1859.45,4506.59 1859.45,4453.64 \n  \"/>\n<polyline clip-path=\"url(#clip780)\" style=\"stroke:#000000; stroke-linecap:butt; stroke-linejoin:round; stroke-width:12; stroke-opacity:1; fill:none\" points=\"\n  2489.75,4506.59 2489.75,4453.64 \n  \"/>\n<polyline clip-path=\"url(#clip780)\" style=\"stroke:#000000; stroke-linecap:butt; stroke-linejoin:round; stroke-width:12; stroke-opacity:1; fill:none\" points=\"\n  3120.05,4506.59 3120.05,4453.64 \n  \"/>\n<polyline clip-path=\"url(#clip780)\" style=\"stroke:#000000; stroke-linecap:butt; stroke-linejoin:round; stroke-width:12; stroke-opacity:1; fill:none\" points=\"\n  3750.35,4506.59 3750.35,4453.64 \n  \"/>\n<polyline clip-path=\"url(#clip780)\" style=\"stroke:#000000; stroke-linecap:butt; stroke-linejoin:round; stroke-width:12; stroke-opacity:1; fill:none\" points=\"\n  4380.65,4506.59 4380.65,4453.64 \n  \"/>\n<polyline clip-path=\"url(#clip780)\" style=\"stroke:#000000; stroke-linecap:butt; stroke-linejoin:round; stroke-width:12; stroke-opacity:1; fill:none\" points=\"\n  5010.95,4506.59 5010.95,4453.64 \n  \"/>\n<polyline clip-path=\"url(#clip780)\" style=\"stroke:#000000; stroke-linecap:butt; stroke-linejoin:round; stroke-width:12; stroke-opacity:1; fill:none\" points=\"\n  5641.25,4506.59 5641.25,4453.64 \n  \"/>\n<path clip-path=\"url(#clip780)\" d=\"M1767.85 4638.12 L1856.88 4638.12 L1856.88 4649.92 L1767.85 4649.92 L1767.85 4638.12 Z\" fill=\"#000000\" fill-rule=\"evenodd\" fill-opacity=\"1\" /><path clip-path=\"url(#clip780)\" d=\"M1929.66 4632.7 Q1939.73 4634.85 1945.35 4641.66 Q1951.05 4648.47 1951.05 4658.46 Q1951.05 4673.81 1940.49 4682.21 Q1929.94 4690.62 1910.49 4690.62 Q1903.96 4690.62 1897.02 4689.3 Q1890.15 4688.05 1882.78 4685.48 L1882.78 4671.94 Q1888.62 4675.34 1895.56 4677.08 Q1902.51 4678.81 1910.08 4678.81 Q1923.27 4678.81 1930.14 4673.6 Q1937.09 4668.4 1937.09 4658.46 Q1937.09 4649.3 1930.63 4644.16 Q1924.24 4638.95 1912.78 4638.95 L1900.7 4638.95 L1900.7 4627.42 L1913.34 4627.42 Q1923.69 4627.42 1929.17 4623.33 Q1934.66 4619.16 1934.66 4611.38 Q1934.66 4603.4 1928.96 4599.16 Q1923.34 4594.85 1912.78 4594.85 Q1907.02 4594.85 1900.42 4596.1 Q1893.83 4597.35 1885.91 4599.99 L1885.91 4587.49 Q1893.9 4585.27 1900.84 4584.16 Q1907.85 4583.05 1914.03 4583.05 Q1930.01 4583.05 1939.31 4590.34 Q1948.62 4597.56 1948.62 4609.92 Q1948.62 4618.53 1943.69 4624.51 Q1938.76 4630.41 1929.66 4632.7 Z\" fill=\"#000000\" fill-rule=\"evenodd\" fill-opacity=\"1\" /><path clip-path=\"url(#clip780)\" d=\"M2399.58 4638.12 L2488.61 4638.12 L2488.61 4649.92 L2399.58 4649.92 L2399.58 4638.12 Z\" fill=\"#000000\" fill-rule=\"evenodd\" fill-opacity=\"1\" /><path clip-path=\"url(#clip780)\" d=\"M2530.97 4676.8 L2579.92 4676.8 L2579.92 4688.6 L2514.09 4688.6 L2514.09 4676.8 Q2522.08 4668.53 2535.83 4654.65 Q2549.65 4640.69 2553.19 4636.66 Q2559.92 4629.09 2562.56 4623.88 Q2565.27 4618.6 2565.27 4613.53 Q2565.27 4605.27 2559.44 4600.06 Q2553.67 4594.85 2544.37 4594.85 Q2537.77 4594.85 2530.41 4597.15 Q2523.12 4599.44 2514.79 4604.09 L2514.79 4589.92 Q2523.26 4586.52 2530.62 4584.78 Q2537.98 4583.05 2544.09 4583.05 Q2560.2 4583.05 2569.79 4591.1 Q2579.37 4599.16 2579.37 4612.63 Q2579.37 4619.02 2576.94 4624.78 Q2574.58 4630.48 2568.26 4638.26 Q2566.52 4640.27 2557.22 4649.92 Q2547.91 4659.51 2530.97 4676.8 Z\" fill=\"#000000\" fill-rule=\"evenodd\" fill-opacity=\"1\" /><path clip-path=\"url(#clip780)\" d=\"M3029.32 4638.12 L3118.35 4638.12 L3118.35 4649.92 L3029.32 4649.92 L3029.32 4638.12 Z\" fill=\"#000000\" fill-rule=\"evenodd\" fill-opacity=\"1\" /><path clip-path=\"url(#clip780)\" d=\"M3151.06 4676.8 L3173.97 4676.8 L3173.97 4597.7 L3149.04 4602.7 L3149.04 4589.92 L3173.84 4584.92 L3187.86 4584.92 L3187.86 4676.8 L3210.78 4676.8 L3210.78 4688.6 L3151.06 4688.6 L3151.06 4676.8 Z\" fill=\"#000000\" fill-rule=\"evenodd\" fill-opacity=\"1\" /><path clip-path=\"url(#clip780)\" d=\"M3750.35 4594.16 Q3739.52 4594.16 3734.03 4604.85 Q3728.61 4615.48 3728.61 4636.87 Q3728.61 4658.19 3734.03 4668.88 Q3739.52 4679.51 3750.35 4679.51 Q3761.25 4679.51 3766.67 4668.88 Q3772.16 4658.19 3772.16 4636.87 Q3772.16 4615.48 3766.67 4604.85 Q3761.25 4594.16 3750.35 4594.16 M3750.35 4583.05 Q3767.78 4583.05 3776.95 4596.87 Q3786.18 4610.62 3786.18 4636.87 Q3786.18 4663.05 3776.95 4676.87 Q3767.78 4690.62 3750.35 4690.62 Q3732.92 4690.62 3723.68 4676.87 Q3714.52 4663.05 3714.52 4636.87 Q3714.52 4610.62 3723.68 4596.87 Q3732.92 4583.05 3750.35 4583.05 Z\" fill=\"#000000\" fill-rule=\"evenodd\" fill-opacity=\"1\" /><path clip-path=\"url(#clip780)\" d=\"M4351.8 4676.8 L4374.71 4676.8 L4374.71 4597.7 L4349.78 4602.7 L4349.78 4589.92 L4374.57 4584.92 L4388.6 4584.92 L4388.6 4676.8 L4411.52 4676.8 L4411.52 4688.6 L4351.8 4688.6 L4351.8 4676.8 Z\" fill=\"#000000\" fill-rule=\"evenodd\" fill-opacity=\"1\" /><path clip-path=\"url(#clip780)\" d=\"M4994.91 4676.8 L5043.87 4676.8 L5043.87 4688.6 L4978.03 4688.6 L4978.03 4676.8 Q4986.02 4668.53 4999.77 4654.65 Q5013.59 4640.69 5017.13 4636.66 Q5023.87 4629.09 5026.51 4623.88 Q5029.21 4618.6 5029.21 4613.53 Q5029.21 4605.27 5023.38 4600.06 Q5017.62 4594.85 5008.31 4594.85 Q5001.71 4594.85 4994.35 4597.15 Q4987.06 4599.44 4978.73 4604.09 L4978.73 4589.92 Q4987.2 4586.52 4994.56 4584.78 Q5001.92 4583.05 5008.03 4583.05 Q5024.14 4583.05 5033.73 4591.1 Q5043.31 4599.16 5043.31 4612.63 Q5043.31 4619.02 5040.88 4624.78 Q5038.52 4630.48 5032.2 4638.26 Q5030.46 4640.27 5021.16 4649.92 Q5011.85 4659.51 4994.91 4676.8 Z\" fill=\"#000000\" fill-rule=\"evenodd\" fill-opacity=\"1\" /><path clip-path=\"url(#clip780)\" d=\"M5653.99 4632.7 Q5664.06 4634.85 5669.69 4641.66 Q5675.38 4648.47 5675.38 4658.46 Q5675.38 4673.81 5664.83 4682.21 Q5654.27 4690.62 5634.83 4690.62 Q5628.3 4690.62 5621.35 4689.3 Q5614.48 4688.05 5607.12 4685.48 L5607.12 4671.94 Q5612.95 4675.34 5619.9 4677.08 Q5626.84 4678.81 5634.41 4678.81 Q5647.6 4678.81 5654.48 4673.6 Q5661.42 4668.4 5661.42 4658.46 Q5661.42 4649.3 5654.97 4644.16 Q5648.58 4638.95 5637.12 4638.95 L5625.04 4638.95 L5625.04 4627.42 L5637.67 4627.42 Q5648.02 4627.42 5653.51 4623.33 Q5658.99 4619.16 5658.99 4611.38 Q5658.99 4603.4 5653.3 4599.16 Q5647.67 4594.85 5637.12 4594.85 Q5631.35 4594.85 5624.76 4596.1 Q5618.16 4597.35 5610.24 4599.99 L5610.24 4587.49 Q5618.23 4585.27 5625.17 4584.16 Q5632.19 4583.05 5638.37 4583.05 Q5654.34 4583.05 5663.65 4590.34 Q5672.95 4597.56 5672.95 4609.92 Q5672.95 4618.53 5668.02 4624.51 Q5663.09 4630.41 5653.99 4632.7 Z\" fill=\"#000000\" fill-rule=\"evenodd\" fill-opacity=\"1\" /><polyline clip-path=\"url(#clip782)\" style=\"stroke:#000000; stroke-linecap:butt; stroke-linejoin:round; stroke-width:6; stroke-opacity:0.1; fill:none\" points=\"\n  1859.45,4506.59 5641.25,4506.59 \n  \"/>\n<polyline clip-path=\"url(#clip782)\" style=\"stroke:#000000; stroke-linecap:butt; stroke-linejoin:round; stroke-width:6; stroke-opacity:0.1; fill:none\" points=\"\n  1859.45,3876.29 5641.25,3876.29 \n  \"/>\n<polyline clip-path=\"url(#clip782)\" style=\"stroke:#000000; stroke-linecap:butt; stroke-linejoin:round; stroke-width:6; stroke-opacity:0.1; fill:none\" points=\"\n  1859.45,3245.99 5641.25,3245.99 \n  \"/>\n<polyline clip-path=\"url(#clip782)\" style=\"stroke:#000000; stroke-linecap:butt; stroke-linejoin:round; stroke-width:6; stroke-opacity:0.1; fill:none\" points=\"\n  1859.45,2615.69 5641.25,2615.69 \n  \"/>\n<polyline clip-path=\"url(#clip782)\" style=\"stroke:#000000; stroke-linecap:butt; stroke-linejoin:round; stroke-width:6; stroke-opacity:0.1; fill:none\" points=\"\n  1859.45,1985.39 5641.25,1985.39 \n  \"/>\n<polyline clip-path=\"url(#clip782)\" style=\"stroke:#000000; stroke-linecap:butt; stroke-linejoin:round; stroke-width:6; stroke-opacity:0.1; fill:none\" points=\"\n  1859.45,1355.09 5641.25,1355.09 \n  \"/>\n<polyline clip-path=\"url(#clip782)\" style=\"stroke:#000000; stroke-linecap:butt; stroke-linejoin:round; stroke-width:6; stroke-opacity:0.1; fill:none\" points=\"\n  1859.45,724.788 5641.25,724.788 \n  \"/>\n<polyline clip-path=\"url(#clip782)\" style=\"stroke:#000000; stroke-linecap:butt; stroke-linejoin:round; stroke-width:6; stroke-opacity:0.1; fill:none\" points=\"\n  1859.45,94.4882 5641.25,94.4882 \n  \"/>\n<polyline clip-path=\"url(#clip780)\" style=\"stroke:#000000; stroke-linecap:butt; stroke-linejoin:round; stroke-width:12; stroke-opacity:1; fill:none\" points=\"\n  1859.45,4506.59 1859.45,94.4882 \n  \"/>\n<polyline clip-path=\"url(#clip780)\" style=\"stroke:#000000; stroke-linecap:butt; stroke-linejoin:round; stroke-width:12; stroke-opacity:1; fill:none\" points=\"\n  1859.45,4506.59 1904.83,4506.59 \n  \"/>\n<polyline clip-path=\"url(#clip780)\" style=\"stroke:#000000; stroke-linecap:butt; stroke-linejoin:round; stroke-width:12; stroke-opacity:1; fill:none\" points=\"\n  1859.45,3876.29 1904.83,3876.29 \n  \"/>\n<polyline clip-path=\"url(#clip780)\" style=\"stroke:#000000; stroke-linecap:butt; stroke-linejoin:round; stroke-width:12; stroke-opacity:1; fill:none\" points=\"\n  1859.45,3245.99 1904.83,3245.99 \n  \"/>\n<polyline clip-path=\"url(#clip780)\" style=\"stroke:#000000; stroke-linecap:butt; stroke-linejoin:round; stroke-width:12; stroke-opacity:1; fill:none\" points=\"\n  1859.45,2615.69 1904.83,2615.69 \n  \"/>\n<polyline clip-path=\"url(#clip780)\" style=\"stroke:#000000; stroke-linecap:butt; stroke-linejoin:round; stroke-width:12; stroke-opacity:1; fill:none\" points=\"\n  1859.45,1985.39 1904.83,1985.39 \n  \"/>\n<polyline clip-path=\"url(#clip780)\" style=\"stroke:#000000; stroke-linecap:butt; stroke-linejoin:round; stroke-width:12; stroke-opacity:1; fill:none\" points=\"\n  1859.45,1355.09 1904.83,1355.09 \n  \"/>\n<polyline clip-path=\"url(#clip780)\" style=\"stroke:#000000; stroke-linecap:butt; stroke-linejoin:round; stroke-width:12; stroke-opacity:1; fill:none\" points=\"\n  1859.45,724.788 1904.83,724.788 \n  \"/>\n<polyline clip-path=\"url(#clip780)\" style=\"stroke:#000000; stroke-linecap:butt; stroke-linejoin:round; stroke-width:12; stroke-opacity:1; fill:none\" points=\"\n  1859.45,94.4882 1904.83,94.4882 \n  \"/>\n<path clip-path=\"url(#clip780)\" d=\"M1569.99 4507.94 L1659.02 4507.94 L1659.02 4519.75 L1569.99 4519.75 L1569.99 4507.94 Z\" fill=\"#000000\" fill-rule=\"evenodd\" fill-opacity=\"1\" /><path clip-path=\"url(#clip780)\" d=\"M1691.73 4546.62 L1714.65 4546.62 L1714.65 4467.53 L1689.72 4472.53 L1689.72 4459.75 L1714.51 4454.75 L1728.53 4454.75 L1728.53 4546.62 L1751.45 4546.62 L1751.45 4558.43 L1691.73 4558.43 L1691.73 4546.62 Z\" fill=\"#000000\" fill-rule=\"evenodd\" fill-opacity=\"1\" /><path clip-path=\"url(#clip780)\" d=\"M1715.62 3833.68 Q1704.78 3833.68 1699.3 3844.38 Q1693.88 3855 1693.88 3876.39 Q1693.88 3897.71 1699.3 3908.41 Q1704.78 3919.03 1715.62 3919.03 Q1726.52 3919.03 1731.94 3908.41 Q1737.42 3897.71 1737.42 3876.39 Q1737.42 3855 1731.94 3844.38 Q1726.52 3833.68 1715.62 3833.68 M1715.62 3822.57 Q1733.05 3822.57 1742.21 3836.39 Q1751.45 3850.14 1751.45 3876.39 Q1751.45 3902.57 1742.21 3916.39 Q1733.05 3930.14 1715.62 3930.14 Q1698.19 3930.14 1688.95 3916.39 Q1679.78 3902.57 1679.78 3876.39 Q1679.78 3850.14 1688.95 3836.39 Q1698.19 3822.57 1715.62 3822.57 Z\" fill=\"#000000\" fill-rule=\"evenodd\" fill-opacity=\"1\" /><path clip-path=\"url(#clip780)\" d=\"M1691.73 3286.02 L1714.65 3286.02 L1714.65 3206.93 L1689.72 3211.93 L1689.72 3199.15 L1714.51 3194.15 L1728.53 3194.15 L1728.53 3286.02 L1751.45 3286.02 L1751.45 3297.83 L1691.73 3297.83 L1691.73 3286.02 Z\" fill=\"#000000\" fill-rule=\"evenodd\" fill-opacity=\"1\" /><path clip-path=\"url(#clip780)\" d=\"M1702.49 2655.72 L1751.45 2655.72 L1751.45 2667.53 L1685.62 2667.53 L1685.62 2655.72 Q1693.6 2647.46 1707.35 2633.57 Q1721.17 2619.61 1724.71 2615.58 Q1731.45 2608.01 1734.09 2602.81 Q1736.8 2597.53 1736.8 2592.46 Q1736.8 2584.2 1730.96 2578.99 Q1725.2 2573.78 1715.9 2573.78 Q1709.3 2573.78 1701.94 2576.07 Q1694.65 2578.36 1686.31 2583.01 L1686.31 2568.85 Q1694.78 2565.45 1702.15 2563.71 Q1709.51 2561.97 1715.62 2561.97 Q1731.73 2561.97 1741.31 2570.03 Q1750.9 2578.08 1750.9 2591.56 Q1750.9 2597.94 1748.46 2603.71 Q1746.1 2609.4 1739.78 2617.18 Q1738.05 2619.19 1728.74 2628.85 Q1719.44 2638.43 1702.49 2655.72 Z\" fill=\"#000000\" fill-rule=\"evenodd\" fill-opacity=\"1\" /><path clip-path=\"url(#clip780)\" d=\"M1730.06 1981.33 Q1740.13 1983.48 1745.76 1990.28 Q1751.45 1997.09 1751.45 2007.09 Q1751.45 2022.44 1740.9 2030.84 Q1730.34 2039.24 1710.9 2039.24 Q1704.37 2039.24 1697.42 2037.92 Q1690.55 2036.67 1683.19 2034.1 L1683.19 2020.56 Q1689.02 2023.96 1695.97 2025.7 Q1702.91 2027.44 1710.48 2027.44 Q1723.67 2027.44 1730.55 2022.23 Q1737.49 2017.02 1737.49 2007.09 Q1737.49 1997.92 1731.03 1992.78 Q1724.65 1987.58 1713.19 1987.58 L1701.1 1987.58 L1701.1 1976.05 L1713.74 1976.05 Q1724.09 1976.05 1729.58 1971.95 Q1735.06 1967.78 1735.06 1960.01 Q1735.06 1952.02 1729.37 1947.78 Q1723.74 1943.48 1713.19 1943.48 Q1707.42 1943.48 1700.83 1944.73 Q1694.23 1945.98 1686.31 1948.62 L1686.31 1936.12 Q1694.3 1933.9 1701.24 1932.78 Q1708.26 1931.67 1714.44 1931.67 Q1730.41 1931.67 1739.71 1938.96 Q1749.02 1946.19 1749.02 1958.55 Q1749.02 1967.16 1744.09 1973.13 Q1739.16 1979.03 1730.06 1981.33 Z\" fill=\"#000000\" fill-rule=\"evenodd\" fill-opacity=\"1\" /><path clip-path=\"url(#clip780)\" d=\"M1722.7 1315.47 L1687.28 1370.82 L1722.7 1370.82 L1722.7 1315.47 M1719.02 1303.25 L1736.66 1303.25 L1736.66 1370.82 L1751.45 1370.82 L1751.45 1382.48 L1736.66 1382.48 L1736.66 1406.93 L1722.7 1406.93 L1722.7 1382.48 L1675.9 1382.48 L1675.9 1368.94 L1719.02 1303.25 Z\" fill=\"#000000\" fill-rule=\"evenodd\" fill-opacity=\"1\" /><path clip-path=\"url(#clip780)\" d=\"M1688.74 672.948 L1743.81 672.948 L1743.81 684.754 L1701.59 684.754 L1701.59 710.17 Q1704.65 709.128 1707.7 708.642 Q1710.76 708.087 1713.81 708.087 Q1731.17 708.087 1741.31 717.601 Q1751.45 727.114 1751.45 743.364 Q1751.45 760.1 1741.03 769.406 Q1730.62 778.642 1711.66 778.642 Q1705.13 778.642 1698.33 777.531 Q1691.59 776.42 1684.37 774.198 L1684.37 760.1 Q1690.62 763.503 1697.28 765.17 Q1703.95 766.837 1711.38 766.837 Q1723.4 766.837 1730.41 760.517 Q1737.42 754.198 1737.42 743.364 Q1737.42 732.531 1730.41 726.212 Q1723.4 719.892 1711.38 719.892 Q1705.76 719.892 1700.13 721.142 Q1694.58 722.392 1688.74 725.031 L1688.74 672.948 Z\" fill=\"#000000\" fill-rule=\"evenodd\" fill-opacity=\"1\" /><path clip-path=\"url(#clip780)\" d=\"M1716.87 88.8979 Q1707.42 88.8979 1701.87 95.3562 Q1696.38 101.815 1696.38 113.064 Q1696.38 124.245 1701.87 130.773 Q1707.42 137.231 1716.87 137.231 Q1726.31 137.231 1731.8 130.773 Q1737.35 124.245 1737.35 113.064 Q1737.35 101.815 1731.8 95.3562 Q1726.31 88.8979 1716.87 88.8979 M1744.71 44.9398 L1744.71 57.7176 Q1739.44 55.2176 1734.02 53.8981 Q1728.67 52.5787 1723.4 52.5787 Q1709.51 52.5787 1702.15 61.9536 Q1694.85 71.3286 1693.81 90.2868 Q1697.91 84.2452 1704.09 81.0508 Q1710.27 77.7869 1717.7 77.7869 Q1733.33 77.7869 1742.35 87.3007 Q1751.45 96.7451 1751.45 113.064 Q1751.45 129.037 1742.01 138.689 Q1732.56 148.342 1716.87 148.342 Q1698.88 148.342 1689.37 134.592 Q1679.85 120.773 1679.85 94.5924 Q1679.85 70.0092 1691.52 55.4259 Q1703.19 40.7732 1722.84 40.7732 Q1728.12 40.7732 1733.46 41.8149 Q1738.88 42.8565 1744.71 44.9398 Z\" fill=\"#000000\" fill-rule=\"evenodd\" fill-opacity=\"1\" /><polyline clip-path=\"url(#clip782)\" style=\"stroke:#000000; stroke-linecap:butt; stroke-linejoin:round; stroke-width:216; stroke-opacity:1; fill:none\" points=\"\n  3735.83,714.543 3769.45,739.758 \n  \"/>\n<polyline clip-path=\"url(#clip782)\" style=\"stroke:#000000; stroke-linecap:butt; stroke-linejoin:round; stroke-width:216; stroke-opacity:1; fill:none\" points=\"\n  3836.68,790.187 3870.29,815.402 \n  \"/>\n<polyline clip-path=\"url(#clip782)\" style=\"stroke:#e26f46; stroke-linecap:butt; stroke-linejoin:round; stroke-width:180; stroke-opacity:1; fill:none\" points=\"\n  3702.22,689.328 3903.9,840.617 \n  \"/>\n<path clip-path=\"url(#clip782)\" d=\"\nM3671.52 2022.97 L3674.55 2053.79 L3680.59 2084.16 L3689.58 2113.79 L3701.43 2142.4 L3716.03 2169.71 L3733.23 2195.45 L3752.87 2219.39 L3774.77 2241.28 L3798.71 2260.93 \n  L3824.45 2278.13 L3851.76 2292.73 L3880.37 2304.58 L3910 2313.57 L3940.37 2319.61 L3971.18 2322.64 L4002.15 2322.64 L4032.96 2319.61 L4063.33 2313.57 L4092.97 2304.58 \n  L4121.57 2292.73 L4148.88 2278.13 L4174.63 2260.93 L4198.56 2241.28 L4220.46 2219.39 L4240.1 2195.45 L4257.31 2169.71 L4271.9 2142.4 L4283.75 2113.79 L4292.74 2084.16 \n  L4298.78 2053.79 L4301.82 2022.97 L4301.82 1992.01 L4298.78 1961.19 L4292.74 1930.82 L4283.75 1901.19 L4271.9 1872.58 L4257.31 1845.28 L4240.1 1819.53 L4220.46 1795.59 \n  L4198.56 1773.7 L4174.63 1754.05 L4148.88 1736.85 L4121.57 1722.26 L4092.97 1710.41 L4063.33 1701.42 L4032.96 1695.38 L4002.15 1692.34 L3971.18 1692.34 L3940.37 1695.38 \n  L3910 1701.42 L3880.37 1710.41 L3851.76 1722.26 L3824.45 1736.85 L3798.71 1754.05 L3774.77 1773.7 L3752.87 1795.59 L3733.23 1819.53 L3716.03 1845.28 L3701.43 1872.58 \n  L3689.58 1901.19 L3680.59 1930.82 L3674.55 1961.19 L3671.52 1992.01 L3671.52 2022.97 L3671.52 2022.97  Z\n  \" fill=\"#c271d2\" fill-rule=\"evenodd\" fill-opacity=\"0.5\"/>\n<polyline clip-path=\"url(#clip782)\" style=\"stroke:#000000; stroke-linecap:butt; stroke-linejoin:round; stroke-width:12; stroke-opacity:0.5; fill:none\" points=\"\n  3671.52,2022.97 3674.55,2053.79 3680.59,2084.16 3689.58,2113.79 3701.43,2142.4 3716.03,2169.71 3733.23,2195.45 3752.87,2219.39 3774.77,2241.28 3798.71,2260.93 \n  3824.45,2278.13 3851.76,2292.73 3880.37,2304.58 3910,2313.57 3940.37,2319.61 3971.18,2322.64 4002.15,2322.64 4032.96,2319.61 4063.33,2313.57 4092.97,2304.58 \n  4121.57,2292.73 4148.88,2278.13 4174.63,2260.93 4198.56,2241.28 4220.46,2219.39 4240.1,2195.45 4257.31,2169.71 4271.9,2142.4 4283.75,2113.79 4292.74,2084.16 \n  4298.78,2053.79 4301.82,2022.97 4301.82,1992.01 4298.78,1961.19 4292.74,1930.82 4283.75,1901.19 4271.9,1872.58 4257.31,1845.28 4240.1,1819.53 4220.46,1795.59 \n  4198.56,1773.7 4174.63,1754.05 4148.88,1736.85 4121.57,1722.26 4092.97,1710.41 4063.33,1701.42 4032.96,1695.38 4002.15,1692.34 3971.18,1692.34 3940.37,1695.38 \n  3910,1701.42 3880.37,1710.41 3851.76,1722.26 3824.45,1736.85 3798.71,1754.05 3774.77,1773.7 3752.87,1795.59 3733.23,1819.53 3716.03,1845.28 3701.43,1872.58 \n  3689.58,1901.19 3680.59,1930.82 3674.55,1961.19 3671.52,1992.01 3671.52,2022.97 \n  \"/>\n<path clip-path=\"url(#clip782)\" d=\"\nM3427.34 3112.54 L3430.38 3143.36 L3436.42 3173.73 L3445.41 3203.36 L3457.26 3231.97 L3471.86 3259.28 L3489.06 3285.02 L3508.7 3308.96 L3530.6 3330.85 L3554.53 3350.5 \n  L3580.28 3367.7 L3607.59 3382.3 L3636.2 3394.15 L3665.83 3403.14 L3696.2 3409.18 L3727.01 3412.21 L3757.98 3412.21 L3788.79 3409.18 L3819.16 3403.14 L3848.79 3394.15 \n  L3877.4 3382.3 L3904.71 3367.7 L3930.46 3350.5 L3954.39 3330.85 L3976.29 3308.96 L3995.93 3285.02 L4013.13 3259.28 L4027.73 3231.97 L4039.58 3203.36 L4048.57 3173.73 \n  L4054.61 3143.36 L4057.64 3112.54 L4057.64 3081.58 L4054.61 3050.76 L4048.57 3020.39 L4039.58 2990.76 L4027.73 2962.15 L4013.13 2934.85 L3995.93 2909.1 L3976.29 2885.16 \n  L3954.39 2863.27 L3930.46 2843.63 L3904.71 2826.42 L3877.4 2811.83 L3848.79 2799.98 L3819.16 2790.99 L3788.79 2784.95 L3757.98 2781.91 L3727.01 2781.91 L3696.2 2784.95 \n  L3665.83 2790.99 L3636.2 2799.98 L3607.59 2811.83 L3580.28 2826.42 L3554.53 2843.63 L3530.6 2863.27 L3508.7 2885.16 L3489.06 2909.1 L3471.86 2934.85 L3457.26 2962.15 \n  L3445.41 2990.76 L3436.42 3020.39 L3430.38 3050.76 L3427.34 3081.58 L3427.34 3112.54 L3427.34 3112.54  Z\n  \" fill=\"#ac8d18\" fill-rule=\"evenodd\" fill-opacity=\"0.5\"/>\n<polyline clip-path=\"url(#clip782)\" style=\"stroke:#000000; stroke-linecap:butt; stroke-linejoin:round; stroke-width:12; stroke-opacity:0.5; fill:none\" points=\"\n  3427.34,3112.54 3430.38,3143.36 3436.42,3173.73 3445.41,3203.36 3457.26,3231.97 3471.86,3259.28 3489.06,3285.02 3508.7,3308.96 3530.6,3330.85 3554.53,3350.5 \n  3580.28,3367.7 3607.59,3382.3 3636.2,3394.15 3665.83,3403.14 3696.2,3409.18 3727.01,3412.21 3757.98,3412.21 3788.79,3409.18 3819.16,3403.14 3848.79,3394.15 \n  3877.4,3382.3 3904.71,3367.7 3930.46,3350.5 3954.39,3330.85 3976.29,3308.96 3995.93,3285.02 4013.13,3259.28 4027.73,3231.97 4039.58,3203.36 4048.57,3173.73 \n  4054.61,3143.36 4057.64,3112.54 4057.64,3081.58 4054.61,3050.76 4048.57,3020.39 4039.58,2990.76 4027.73,2962.15 4013.13,2934.85 3995.93,2909.1 3976.29,2885.16 \n  3954.39,2863.27 3930.46,2843.63 3904.71,2826.42 3877.4,2811.83 3848.79,2799.98 3819.16,2790.99 3788.79,2784.95 3757.98,2781.91 3727.01,2781.91 3696.2,2784.95 \n  3665.83,2790.99 3636.2,2799.98 3607.59,2811.83 3580.28,2826.42 3554.53,2843.63 3530.6,2863.27 3508.7,2885.16 3489.06,2909.1 3471.86,2934.85 3457.26,2962.15 \n  3445.41,2990.76 3436.42,3020.39 3430.38,3050.76 3427.34,3081.58 3427.34,3112.54 \n  \"/>\n<path clip-path=\"url(#clip782)\" d=\"\nM3496.91 2742.55 L3496.91 2773.52 L3499.95 2804.33 L3505.99 2834.7 L3514.98 2864.33 L3526.83 2892.94 L3541.42 2920.25 L3558.63 2946 L3578.27 2969.93 L3600.17 2991.83 \n  L3624.1 3011.47 L3649.85 3028.67 L3677.16 3043.27 L3705.76 3055.12 L3735.4 3064.11 L3765.76 3070.15 L3796.58 3073.18 L3827.54 3073.18 L3858.36 3070.15 L3888.73 3064.11 \n  L3918.36 3055.12 L3946.97 3043.27 L3974.28 3028.67 L4000.02 3011.47 L4023.96 2991.83 L4045.85 2969.93 L4065.5 2946 L4082.7 2920.25 L4097.3 2892.94 L4109.15 2864.33 \n  L4118.14 2834.7 L4124.18 2804.33 L4127.21 2773.52 L4127.21 2742.55 L4124.18 2711.74 L4118.14 2681.37 L4109.15 2651.74 L4097.3 2623.13 L4082.7 2595.82 L4065.5 2570.07 \n  L4045.85 2546.14 L4023.96 2524.24 L4000.02 2504.6 L3974.28 2487.4 L3946.97 2472.8 L3918.36 2460.95 L3888.73 2451.96 L3858.36 2445.92 L3827.54 2442.88 L3796.58 2442.88 \n  L3765.76 2445.92 L3735.4 2451.96 L3705.76 2460.95 L3677.16 2472.8 L3649.85 2487.4 L3624.1 2504.6 L3600.17 2524.24 L3578.27 2546.14 L3558.63 2570.07 L3541.42 2595.82 \n  L3526.83 2623.13 L3514.98 2651.74 L3505.99 2681.37 L3499.95 2711.74 L3496.91 2742.55 L3496.91 2742.55  Z\n  \" fill=\"#00a9ad\" fill-rule=\"evenodd\" fill-opacity=\"0.5\"/>\n<polyline clip-path=\"url(#clip782)\" style=\"stroke:#000000; stroke-linecap:butt; stroke-linejoin:round; stroke-width:12; stroke-opacity:0.5; fill:none\" points=\"\n  3496.91,2742.55 3496.91,2773.52 3499.95,2804.33 3505.99,2834.7 3514.98,2864.33 3526.83,2892.94 3541.42,2920.25 3558.63,2946 3578.27,2969.93 3600.17,2991.83 \n  3624.1,3011.47 3649.85,3028.67 3677.16,3043.27 3705.76,3055.12 3735.4,3064.11 3765.76,3070.15 3796.58,3073.18 3827.54,3073.18 3858.36,3070.15 3888.73,3064.11 \n  3918.36,3055.12 3946.97,3043.27 3974.28,3028.67 4000.02,3011.47 4023.96,2991.83 4045.85,2969.93 4065.5,2946 4082.7,2920.25 4097.3,2892.94 4109.15,2864.33 \n  4118.14,2834.7 4124.18,2804.33 4127.21,2773.52 4127.21,2742.55 4124.18,2711.74 4118.14,2681.37 4109.15,2651.74 4097.3,2623.13 4082.7,2595.82 4065.5,2570.07 \n  4045.85,2546.14 4023.96,2524.24 4000.02,2504.6 3974.28,2487.4 3946.97,2472.8 3918.36,2460.95 3888.73,2451.96 3858.36,2445.92 3827.54,2442.88 3796.58,2442.88 \n  3765.76,2445.92 3735.4,2451.96 3705.76,2460.95 3677.16,2472.8 3649.85,2487.4 3624.1,2504.6 3600.17,2524.24 3578.27,2546.14 3558.63,2570.07 3541.42,2595.82 \n  3526.83,2623.13 3514.98,2651.74 3505.99,2681.37 3499.95,2711.74 3496.91,2742.55 \n  \"/>\n<polyline clip-path=\"url(#clip782)\" style=\"stroke:#3da44d; stroke-linecap:butt; stroke-linejoin:round; stroke-width:12; stroke-opacity:1; fill:none\" points=\"\n  3750.35,3876.29 3753.38,3878.29 3757.74,3853.74 3755.51,3802.82 3766.68,3763.77 3779.75,3724.77 3795.03,3691.64 3808.73,3661.48 3823.16,3634.79 3838.68,3610.76 \n  3852.79,3589.18 3868.33,3569.53 3882.84,3551.54 3896.32,3535.09 3910.57,3518.49 3924,3502.94 3936.71,3488.32 3948.85,3474.44 3960.56,3461.16 3971.97,3448.29 \n  3983.24,3435.64 3994.56,3422.97 4006.19,3409.98 4018.53,3396.16 4032.1,3380.5 4047.3,3360.9 4059.4,3341.98 4073.66,3317.88 4085.94,3293.03 4105.56,3252.87 \n  4118.34,3214.32 4129.22,3178.66 4138.65,3145.32 4150.35,3112.19 4161.68,3079.27 4172.69,3046.46 4183.96,3012.66 4196.67,2975.93 4206.51,2939.04 4220.11,2894.58 \n  4235.92,2835.89 4240.21,2770.3 4239.54,2716.82 4239.01,2666.33 4241.97,2620.91 4247.84,2578.08 4254.37,2538.89 4261.26,2502.71 4268.84,2469.04 4274.59,2438.44 \n  4281.31,2409.81 4286.58,2383.59 4293.32,2358.77 4298.96,2335.54 4303.37,2314.18 4309.77,2293.35 4315.67,2273.02 4320.8,2253.59 4325.18,2235.05 4328.86,2217.36 \n  4331.96,2200.53 4339.16,2180.49 4343.13,2160.62 4348.26,2138.62 4362.44,2099.18 4378.17,2035.83 4379.12,1968.65 4372.29,1908.32 4356.31,1845.42 4333.18,1786.75 \n  4310.58,1730.01 4287.52,1673.66 4263.93,1617.64 4239.79,1561.96 4215.09,1506.61 4189.8,1451.62 4163.91,1396.98 4137.42,1342.63 4110.3,1288.56 4082.53,1234.76 \n  4054.03,1181.31 4025.86,1129.68 3999.94,1082.31 3976.46,1039.51 3954.82,1000.78 3935.29,966.602 3916.97,936.017 3900.49,908.576 3886.46,883.877 3874.57,861.722 \n  3864.43,841.995 3855.61,824.628 3847.71,809.577 3840.38,796.79 3833.37,786.135 3826.37,777.665 3819,771.489 3811.18,767.419 3803.06,764.973 \n  \"/>\n<path clip-path=\"url(#clip780)\" d=\"\nM2936.66 4359.52 L5417.57 4359.52 L5417.57 3905.92 L2936.66 3905.92  Z\n  \" fill=\"#ffffff\" fill-rule=\"evenodd\" fill-opacity=\"1\"/>\n<polyline clip-path=\"url(#clip780)\" style=\"stroke:#000000; stroke-linecap:butt; stroke-linejoin:round; stroke-width:12; stroke-opacity:1; fill:none\" points=\"\n  2936.66,4359.52 5417.57,4359.52 5417.57,3905.92 2936.66,3905.92 2936.66,4359.52 \n  \"/>\n<polyline clip-path=\"url(#clip780)\" style=\"stroke:#3da44d; stroke-linecap:butt; stroke-linejoin:round; stroke-width:15; stroke-opacity:1; fill:none\" points=\"\n  3011.22,4132.72 3458.58,4132.72 \n  \"/>\n<path clip-path=\"url(#clip780)\" d=\"M3533.13 4067.92 L3615.08 4067.92 L3615.08 4082.67 L3550.67 4082.67 L3550.67 4121.04 L3612.39 4121.04 L3612.39 4135.8 L3550.67 4135.8 L3550.67 4182.76 L3616.64 4182.76 L3616.64 4197.52 L3533.13 4197.52 L3533.13 4067.92 Z\" fill=\"#000000\" fill-rule=\"evenodd\" fill-opacity=\"1\" /><path clip-path=\"url(#clip780)\" d=\"M3725.58 4100.3 L3690.43 4147.6 L3727.4 4197.52 L3708.57 4197.52 L3680.27 4159.32 L3651.97 4197.52 L3633.13 4197.52 L3670.89 4146.65 L3636.35 4100.3 L3655.18 4100.3 L3680.96 4134.93 L3706.74 4100.3 L3725.58 4100.3 Z\" fill=\"#000000\" fill-rule=\"evenodd\" fill-opacity=\"1\" /><path clip-path=\"url(#clip780)\" d=\"M3827.66 4144.91 L3827.66 4152.73 L3754.23 4152.73 Q3755.27 4169.22 3764.12 4177.9 Q3773.06 4186.49 3788.95 4186.49 Q3798.15 4186.49 3806.74 4184.24 Q3815.42 4181.98 3823.93 4177.47 L3823.93 4192.57 Q3815.34 4196.22 3806.31 4198.13 Q3797.28 4200.04 3787.99 4200.04 Q3764.73 4200.04 3751.1 4186.49 Q3737.56 4172.95 3737.56 4149.86 Q3737.56 4125.99 3750.41 4112.01 Q3763.34 4097.95 3785.22 4097.95 Q3804.83 4097.95 3816.21 4110.63 Q3827.66 4123.21 3827.66 4144.91 M3811.69 4140.23 Q3811.52 4127.12 3804.31 4119.31 Q3797.2 4111.49 3785.39 4111.49 Q3772.02 4111.49 3763.95 4119.05 Q3755.96 4126.6 3754.75 4140.31 L3811.69 4140.23 Z\" fill=\"#000000\" fill-rule=\"evenodd\" fill-opacity=\"1\" /><path clip-path=\"url(#clip780)\" d=\"M3923.84 4104.03 L3923.84 4118.96 Q3917.07 4115.23 3910.22 4113.4 Q3903.44 4111.49 3896.5 4111.49 Q3880.96 4111.49 3872.37 4121.39 Q3863.77 4131.2 3863.77 4148.99 Q3863.77 4166.79 3872.37 4176.68 Q3880.96 4186.49 3896.5 4186.49 Q3903.44 4186.49 3910.22 4184.67 Q3917.07 4182.76 3923.84 4179.03 L3923.84 4193.79 Q3917.16 4196.91 3909.96 4198.47 Q3902.84 4200.04 3894.76 4200.04 Q3872.8 4200.04 3859.87 4186.23 Q3846.93 4172.43 3846.93 4148.99 Q3846.93 4125.21 3859.96 4111.58 Q3873.06 4097.95 3895.81 4097.95 Q3903.18 4097.95 3910.22 4099.51 Q3917.25 4100.99 3923.84 4104.03 Z\" fill=\"#000000\" fill-rule=\"evenodd\" fill-opacity=\"1\" /><path clip-path=\"url(#clip780)\" d=\"M3949.97 4159.15 L3949.97 4100.3 L3965.94 4100.3 L3965.94 4158.54 Q3965.94 4172.34 3971.33 4179.29 Q3976.71 4186.15 3987.47 4186.15 Q4000.41 4186.15 4007.87 4177.9 Q4015.42 4169.65 4015.42 4155.42 L4015.42 4100.3 L4031.4 4100.3 L4031.4 4197.52 L4015.42 4197.52 L4015.42 4182.59 Q4009.61 4191.44 4001.88 4195.78 Q3994.24 4200.04 3984.09 4200.04 Q3967.33 4200.04 3958.65 4189.62 Q3949.97 4179.2 3949.97 4159.15 M3990.16 4097.95 L3990.16 4097.95 Z\" fill=\"#000000\" fill-rule=\"evenodd\" fill-opacity=\"1\" /><path clip-path=\"url(#clip780)\" d=\"M4080.09 4072.69 L4080.09 4100.3 L4112.99 4100.3 L4112.99 4112.71 L4080.09 4112.71 L4080.09 4165.49 Q4080.09 4177.38 4083.3 4180.76 Q4086.6 4184.15 4096.59 4184.15 L4112.99 4184.15 L4112.99 4197.52 L4096.59 4197.52 Q4078.1 4197.52 4071.07 4190.66 Q4064.03 4183.72 4064.03 4165.49 L4064.03 4112.71 L4052.32 4112.71 L4052.32 4100.3 L4064.03 4100.3 L4064.03 4072.69 L4080.09 4072.69 Z\" fill=\"#000000\" fill-rule=\"evenodd\" fill-opacity=\"1\" /><path clip-path=\"url(#clip780)\" d=\"M4217.16 4144.91 L4217.16 4152.73 L4143.72 4152.73 Q4144.76 4169.22 4153.62 4177.9 Q4162.56 4186.49 4178.44 4186.49 Q4187.64 4186.49 4196.24 4184.24 Q4204.92 4181.98 4213.43 4177.47 L4213.43 4192.57 Q4204.83 4196.22 4195.8 4198.13 Q4186.78 4200.04 4177.49 4200.04 Q4154.22 4200.04 4140.6 4186.49 Q4127.05 4172.95 4127.05 4149.86 Q4127.05 4125.99 4139.9 4112.01 Q4152.84 4097.95 4174.71 4097.95 Q4194.33 4097.95 4205.7 4110.63 Q4217.16 4123.21 4217.16 4144.91 M4201.19 4140.23 Q4201.01 4127.12 4193.81 4119.31 Q4186.69 4111.49 4174.88 4111.49 Q4161.52 4111.49 4153.44 4119.05 Q4145.46 4126.6 4144.24 4140.31 L4201.19 4140.23 Z\" fill=\"#000000\" fill-rule=\"evenodd\" fill-opacity=\"1\" /><path clip-path=\"url(#clip780)\" d=\"M4307.35 4115.05 L4307.35 4062.45 L4323.32 4062.45 L4323.32 4197.52 L4307.35 4197.52 L4307.35 4182.93 Q4302.31 4191.61 4294.59 4195.87 Q4286.95 4200.04 4276.19 4200.04 Q4258.56 4200.04 4247.45 4185.97 Q4236.43 4171.91 4236.43 4148.99 Q4236.43 4126.08 4247.45 4112.01 Q4258.56 4097.95 4276.19 4097.95 Q4286.95 4097.95 4294.59 4102.21 Q4302.31 4106.37 4307.35 4115.05 M4252.92 4148.99 Q4252.92 4166.62 4260.13 4176.68 Q4267.42 4186.67 4280.09 4186.67 Q4292.77 4186.67 4300.06 4176.68 Q4307.35 4166.62 4307.35 4148.99 Q4307.35 4131.37 4300.06 4121.39 Q4292.77 4111.32 4280.09 4111.32 Q4267.42 4111.32 4260.13 4121.39 Q4252.92 4131.37 4252.92 4148.99 Z\" fill=\"#000000\" fill-rule=\"evenodd\" fill-opacity=\"1\" /><path clip-path=\"url(#clip780)\" d=\"M4395.46 4067.92 L4505.09 4067.92 L4505.09 4082.67 L4459.08 4082.67 L4459.08 4197.52 L4441.46 4197.52 L4441.46 4082.67 L4395.46 4082.67 L4395.46 4067.92 Z\" fill=\"#000000\" fill-rule=\"evenodd\" fill-opacity=\"1\" /><path clip-path=\"url(#clip780)\" d=\"M4551.53 4115.23 Q4548.84 4113.66 4545.63 4112.97 Q4542.5 4112.19 4538.68 4112.19 Q4525.14 4112.19 4517.85 4121.04 Q4510.65 4129.81 4510.65 4146.3 L4510.65 4197.52 L4494.59 4197.52 L4494.59 4100.3 L4510.65 4100.3 L4510.65 4115.4 Q4515.68 4106.55 4523.75 4102.29 Q4531.83 4097.95 4543.37 4097.95 Q4545.02 4097.95 4547.02 4098.21 Q4549.01 4098.39 4551.44 4098.82 L4551.53 4115.23 Z\" fill=\"#000000\" fill-rule=\"evenodd\" fill-opacity=\"1\" /><path clip-path=\"url(#clip780)\" d=\"M4612.47 4148.65 Q4593.11 4148.65 4585.65 4153.07 Q4578.18 4157.5 4578.18 4168.18 Q4578.18 4176.68 4583.74 4181.72 Q4589.38 4186.67 4599.01 4186.67 Q4612.3 4186.67 4620.28 4177.29 Q4628.35 4167.83 4628.35 4152.21 L4628.35 4148.65 L4612.47 4148.65 M4644.33 4142.05 L4644.33 4197.52 L4628.35 4197.52 L4628.35 4182.76 Q4622.89 4191.61 4614.73 4195.87 Q4606.57 4200.04 4594.76 4200.04 Q4579.83 4200.04 4570.98 4191.7 Q4562.21 4183.28 4562.21 4169.22 Q4562.21 4152.81 4573.15 4144.48 Q4584.17 4136.15 4605.96 4136.15 L4628.35 4136.15 L4628.35 4134.58 Q4628.35 4123.56 4621.06 4117.57 Q4613.86 4111.49 4600.75 4111.49 Q4592.42 4111.49 4584.52 4113.49 Q4576.62 4115.49 4569.33 4119.48 L4569.33 4104.72 Q4578.09 4101.34 4586.34 4099.69 Q4594.59 4097.95 4602.4 4097.95 Q4623.49 4097.95 4633.91 4108.89 Q4644.33 4119.83 4644.33 4142.05 Z\" fill=\"#000000\" fill-rule=\"evenodd\" fill-opacity=\"1\" /><path clip-path=\"url(#clip780)\" d=\"M4677.23 4100.3 L4693.2 4100.3 L4693.2 4199.25 Q4693.2 4217.83 4686.08 4226.16 Q4679.05 4234.5 4663.34 4234.5 L4657.26 4234.5 L4657.26 4220.96 L4661.51 4220.96 Q4670.63 4220.96 4673.93 4216.7 Q4677.23 4212.54 4677.23 4199.25 L4677.23 4100.3 M4677.23 4062.45 L4693.2 4062.45 L4693.2 4082.67 L4677.23 4082.67 L4677.23 4062.45 Z\" fill=\"#000000\" fill-rule=\"evenodd\" fill-opacity=\"1\" /><path clip-path=\"url(#clip780)\" d=\"M4809.78 4144.91 L4809.78 4152.73 L4736.34 4152.73 Q4737.38 4169.22 4746.24 4177.9 Q4755.18 4186.49 4771.06 4186.49 Q4780.26 4186.49 4788.86 4184.24 Q4797.54 4181.98 4806.04 4177.47 L4806.04 4192.57 Q4797.45 4196.22 4788.42 4198.13 Q4779.39 4200.04 4770.11 4200.04 Q4746.84 4200.04 4733.21 4186.49 Q4719.67 4172.95 4719.67 4149.86 Q4719.67 4125.99 4732.52 4112.01 Q4745.45 4097.95 4767.33 4097.95 Q4786.95 4097.95 4798.32 4110.63 Q4809.78 4123.21 4809.78 4144.91 M4793.8 4140.23 Q4793.63 4127.12 4786.43 4119.31 Q4779.31 4111.49 4767.5 4111.49 Q4754.13 4111.49 4746.06 4119.05 Q4738.08 4126.6 4736.86 4140.31 L4793.8 4140.23 Z\" fill=\"#000000\" fill-rule=\"evenodd\" fill-opacity=\"1\" /><path clip-path=\"url(#clip780)\" d=\"M4905.96 4104.03 L4905.96 4118.96 Q4899.19 4115.23 4892.33 4113.4 Q4885.56 4111.49 4878.61 4111.49 Q4863.08 4111.49 4854.48 4121.39 Q4845.89 4131.2 4845.89 4148.99 Q4845.89 4166.79 4854.48 4176.68 Q4863.08 4186.49 4878.61 4186.49 Q4885.56 4186.49 4892.33 4184.67 Q4899.19 4182.76 4905.96 4179.03 L4905.96 4193.79 Q4899.27 4196.91 4892.07 4198.47 Q4884.95 4200.04 4876.88 4200.04 Q4854.92 4200.04 4841.98 4186.23 Q4829.05 4172.43 4829.05 4148.99 Q4829.05 4125.21 4842.07 4111.58 Q4855.18 4097.95 4877.92 4097.95 Q4885.3 4097.95 4892.33 4099.51 Q4899.36 4100.99 4905.96 4104.03 Z\" fill=\"#000000\" fill-rule=\"evenodd\" fill-opacity=\"1\" /><path clip-path=\"url(#clip780)\" d=\"M4949.53 4072.69 L4949.53 4100.3 L4982.43 4100.3 L4982.43 4112.71 L4949.53 4112.71 L4949.53 4165.49 Q4949.53 4177.38 4952.74 4180.76 Q4956.04 4184.15 4966.03 4184.15 L4982.43 4184.15 L4982.43 4197.52 L4966.03 4197.52 Q4947.54 4197.52 4940.51 4190.66 Q4933.47 4183.72 4933.47 4165.49 L4933.47 4112.71 L4921.76 4112.71 L4921.76 4100.3 L4933.47 4100.3 L4933.47 4072.69 L4949.53 4072.69 Z\" fill=\"#000000\" fill-rule=\"evenodd\" fill-opacity=\"1\" /><path clip-path=\"url(#clip780)\" d=\"M5041.11 4111.49 Q5028.27 4111.49 5020.8 4121.56 Q5013.33 4131.55 5013.33 4148.99 Q5013.33 4166.44 5020.71 4176.51 Q5028.18 4186.49 5041.11 4186.49 Q5053.87 4186.49 5061.34 4176.42 Q5068.8 4166.35 5068.8 4148.99 Q5068.8 4131.72 5061.34 4121.65 Q5053.87 4111.49 5041.11 4111.49 M5041.11 4097.95 Q5061.95 4097.95 5073.84 4111.49 Q5085.73 4125.04 5085.73 4148.99 Q5085.73 4172.87 5073.84 4186.49 Q5061.95 4200.04 5041.11 4200.04 Q5020.19 4200.04 5008.3 4186.49 Q4996.49 4172.87 4996.49 4148.99 Q4996.49 4125.04 5008.3 4111.49 Q5020.19 4097.95 5041.11 4097.95 Z\" fill=\"#000000\" fill-rule=\"evenodd\" fill-opacity=\"1\" /><path clip-path=\"url(#clip780)\" d=\"M5168.54 4115.23 Q5165.85 4113.66 5162.64 4112.97 Q5159.51 4112.19 5155.7 4112.19 Q5142.15 4112.19 5134.86 4121.04 Q5127.66 4129.81 5127.66 4146.3 L5127.66 4197.52 L5111.6 4197.52 L5111.6 4100.3 L5127.66 4100.3 L5127.66 4115.4 Q5132.69 4106.55 5140.76 4102.29 Q5148.84 4097.95 5160.38 4097.95 Q5162.03 4097.95 5164.03 4098.21 Q5166.02 4098.39 5168.46 4098.82 L5168.54 4115.23 Z\" fill=\"#000000\" fill-rule=\"evenodd\" fill-opacity=\"1\" /><path clip-path=\"url(#clip780)\" d=\"M5225.75 4206.55 Q5218.98 4223.91 5212.55 4229.2 Q5206.13 4234.5 5195.36 4234.5 L5182.6 4234.5 L5182.6 4221.13 L5191.98 4221.13 Q5198.58 4221.13 5202.22 4218 Q5205.87 4214.88 5210.3 4203.25 L5213.16 4195.96 L5173.84 4100.3 L5190.76 4100.3 L5221.15 4176.34 L5251.53 4100.3 L5268.45 4100.3 L5225.75 4206.55 Z\" fill=\"#000000\" fill-rule=\"evenodd\" fill-opacity=\"1\" /></svg>\n"
     },
     "metadata": {},
     "output_type": "display_data"
    },
    {
     "data": {
      "text/plain": [
       "true"
      ]
     },
     "execution_count": 151,
     "metadata": {},
     "output_type": "execute_result"
    }
   ],
   "source": [
    "visualize(Xexec3, obstacles=obstacles3, xlims=[-3,3], ylims=[-1,6], fps=100, save_frame=(length(Xexec3)-1, \"../results/collision_3.png\"))"
   ]
  },
  {
   "cell_type": "code",
   "execution_count": 121,
   "metadata": {},
   "outputs": [
    {
     "data": {
      "text/plain": [
       "following_stat (generic function with 1 method)"
      ]
     },
     "execution_count": 121,
     "metadata": {},
     "output_type": "execute_result"
    }
   ],
   "source": [
    "function collision_stat(num, ci; ctrl=nothing)\n",
    "    Random.seed!(127)\n",
    "    success = 0\n",
    "    phi0_vio_cnt = 0\n",
    "    infeas_cnt = 0\n",
    "    x0=[0,0,1,π/2]\n",
    "    xg=[0,5,0,π/2]\n",
    "    obj_cost = [1,1,1,0.1]\n",
    "    rp = RP(net, obj_cost, x0, xg)\n",
    "    n = 2\n",
    "    for j in 1:num\n",
    "        obstacles = [Obstacle([rand()*1-0.5, rand()*4+0.5], [0,0], obs_radius) for i in 1:n]\n",
    "        ctrl = isnothing(ctrl) ? ShootingController(100) : ctrl\n",
    "        Xtrack, Utrack, safe_sets, Xrefs, infeas = tracking(rp, ctrl, fps=10, tf=10, obstacles=obstacles, safety_index=ci, verbose=false);\n",
    "        infeas_cnt += infeas\n",
    "        vio=false\n",
    "        for obs in obstacles\n",
    "            for x in Xtrack\n",
    "                if norm(x[1:2]-obs.center) < obs.radius\n",
    "                    vio=true\n",
    "                    break\n",
    "                end \n",
    "            end\n",
    "        end\n",
    "        phi0_vio_cnt += vio\n",
    "#         success += norm(xg[1:2] - Xtrack[end][1:2]) < 0.1\n",
    "        success += 1-(vio|infeas)\n",
    "    end\n",
    "#     return success*1.0/num, phi0_vio_cnt, infeas_cnt*1.0/num\n",
    "    return success*1.0/num, phi0_vio_cnt*1.0/num, infeas_cnt*1.0/num\n",
    "end\n",
    "\n",
    "function following_stat(num, fi)\n",
    "    Random.seed!(127)\n",
    "    success = 0\n",
    "    phi0_vio_cnt = 0\n",
    "    infeas_cnt = 0\n",
    "    fps = 10\n",
    "    tf = 2\n",
    "    x0=[0,0,0,π/2]\n",
    "    xg=[0,5,0,π/2]\n",
    "    obj_cost = [1,1,0.1,0.1]\n",
    "    rp = RP(net, obj_cost, x0, xg)\n",
    "    for j in 1:num\n",
    "        targets = generate_moving_target(fps=fps, tf=tf, v_lim=0.2)\n",
    "#         obs = Obstacle([rand()*1-0.5, rand()*1+1], [0,0], obs_radius)\n",
    "#         targets = [obs for i in 1:Int(tf*fps)]\n",
    "        \n",
    "        ctrl = ShootingController(100)\n",
    "        Xtrack, Utrack, safe_sets, Xrefs, infeas = following(rp, ctrl, fps=fps, tf=tf, targets=targets, safety_index=fi, verbose=false);\n",
    "        vio = false\n",
    "        infeas_cnt += infeas\n",
    "        for obs in targets\n",
    "            for x in Xtrack\n",
    "                if norm(x[1:2]-obs.center) < fi.d_min || norm(x[1:2]-obs.center) > fi.d_max\n",
    "                    vio = true\n",
    "                    break\n",
    "                end \n",
    "            end\n",
    "        end\n",
    "        phi0_vio_cnt += vio\n",
    "        success += 1 - (vio|infeas)\n",
    "#         if j < 10\n",
    "#             visualize(Xtrack, targets=targets, xlims=[-3,3], ylims=[-1,5], fps=1000)\n",
    "#         end\n",
    "    end\n",
    "    return success*1.0/num, phi0_vio_cnt*1.0/num, infeas_cnt*1.0/num\n",
    "end"
   ]
  },
  {
   "cell_type": "code",
   "execution_count": 107,
   "metadata": {},
   "outputs": [
    {
     "data": {
      "text/plain": [
       "(0.0, 0.98, 1.0)"
      ]
     },
     "execution_count": 107,
     "metadata": {},
     "output_type": "execute_result"
    }
   ],
   "source": [
    "ctrl = ShootingController(1000)\n",
    "ci = CollisionIndex(0.1, 1e-3, 1, 0)\n",
    "collision_stat(100, ci; ctrl=ctrl)"
   ]
  },
  {
   "cell_type": "code",
   "execution_count": 108,
   "metadata": {},
   "outputs": [
    {
     "data": {
      "text/plain": [
       "(0.75, 0.17, 0.08)"
      ]
     },
     "execution_count": 108,
     "metadata": {},
     "output_type": "execute_result"
    }
   ],
   "source": [
    "ci = CollisionIndex(0.1, 1e-3, 2, 1)\n",
    "collision_stat(100, ci; ctrl=ctrl)"
   ]
  },
  {
   "cell_type": "code",
   "execution_count": 109,
   "metadata": {},
   "outputs": [
    {
     "data": {
      "text/plain": [
       "(0.82, 0.17, 0.02)"
      ]
     },
     "execution_count": 109,
     "metadata": {},
     "output_type": "execute_result"
    }
   ],
   "source": [
    "ci = CollisionIndex(0.1, 1e-3, 0.19546, 0.358787)\n",
    "collision_stat(100, ci; ctrl=ctrl)"
   ]
  },
  {
   "cell_type": "code",
   "execution_count": 102,
   "metadata": {},
   "outputs": [
    {
     "data": {
      "text/plain": [
       "ShootingController([4.0, 3.141592653589793], 100)"
      ]
     },
     "execution_count": 102,
     "metadata": {},
     "output_type": "execute_result"
    }
   ],
   "source": [
    "ctrl = ShootingController(100)"
   ]
  },
  {
   "cell_type": "code",
   "execution_count": 103,
   "metadata": {},
   "outputs": [
    {
     "data": {
      "text/plain": [
       "(0.0, 0.99, 1.0)"
      ]
     },
     "execution_count": 103,
     "metadata": {},
     "output_type": "execute_result"
    }
   ],
   "source": [
    "ci = CollisionIndex(0.1, 1e-3, 1, 0)\n",
    "collision_stat(100, ci; ctrl=ctrl)"
   ]
  },
  {
   "cell_type": "code",
   "execution_count": 104,
   "metadata": {},
   "outputs": [
    {
     "data": {
      "text/plain": [
       "(0.83, 0.07, 0.11)"
      ]
     },
     "execution_count": 104,
     "metadata": {},
     "output_type": "execute_result"
    }
   ],
   "source": [
    "ci = CollisionIndex(0.1, 1e-3, 2, 1)\n",
    "collision_stat(100, ci; ctrl=ctrl)"
   ]
  },
  {
   "cell_type": "code",
   "execution_count": 105,
   "metadata": {},
   "outputs": [
    {
     "data": {
      "text/plain": [
       "(0.8, 0.2, 0.01)"
      ]
     },
     "execution_count": 105,
     "metadata": {},
     "output_type": "execute_result"
    }
   ],
   "source": [
    "ci = CollisionIndex(0.1, 1e-3, 0.19546, 0.358787)\n",
    "collision_stat(100, ci; ctrl=ctrl)"
   ]
  },
  {
   "cell_type": "code",
   "execution_count": 42,
   "metadata": {},
   "outputs": [
    {
     "data": {
      "text/plain": [
       "(0.0, 78, 0.74)"
      ]
     },
     "execution_count": 42,
     "metadata": {},
     "output_type": "execute_result"
    }
   ],
   "source": [
    "ci = FollowingIndex(1, 2, 0.0, 1e-3, 1, 1e-9)\n",
    "following_stat(100, ci)"
   ]
  },
  {
   "cell_type": "code",
   "execution_count": 43,
   "metadata": {},
   "outputs": [
    {
     "data": {
      "text/plain": [
       "(0.23, 77, 0.0)"
      ]
     },
     "execution_count": 43,
     "metadata": {},
     "output_type": "execute_result"
    }
   ],
   "source": [
    "ci = FollowingIndex(1, 2, 0.1, 1e-3, 1, 1)\n",
    "following_stat(100, ci)"
   ]
  },
  {
   "cell_type": "code",
   "execution_count": 45,
   "metadata": {},
   "outputs": [
    {
     "data": {
      "text/plain": [
       "(0.97, 3, 0.0)"
      ]
     },
     "execution_count": 45,
     "metadata": {},
     "output_type": "execute_result"
    }
   ],
   "source": [
    "ci = FollowingIndex(1, 2, 0.4, 0.1, 1, 1)\n",
    "following_stat(100, ci)"
   ]
  },
  {
   "cell_type": "code",
   "execution_count": 22,
   "metadata": {},
   "outputs": [
    {
     "data": {
      "text/plain": [
       "(0.95, 5, 0.0)"
      ]
     },
     "execution_count": 22,
     "metadata": {},
     "output_type": "execute_result"
    }
   ],
   "source": [
    "ci = FollowingIndex(1, 2, 0.2, 0.1, 1, 1)\n",
    "following_stat(100, ci)"
   ]
  },
  {
   "cell_type": "code",
   "execution_count": 30,
   "metadata": {},
   "outputs": [
    {
     "data": {
      "text/plain": [
       "(0.0, 16, 0.93)"
      ]
     },
     "execution_count": 30,
     "metadata": {},
     "output_type": "execute_result"
    }
   ],
   "source": [
    "ci = FollowingIndex(1, 2, 0.2, 0.1, 1, 1e-9)\n",
    "following_stat(100, ci)"
   ]
  },
  {
   "cell_type": "code",
   "execution_count": 27,
   "metadata": {},
   "outputs": [
    {
     "data": {
      "text/plain": [
       "(0.75, 25, 0.0)"
      ]
     },
     "execution_count": 27,
     "metadata": {},
     "output_type": "execute_result"
    }
   ],
   "source": [
    "ci = FollowingIndex(1, 2, 0.2, 0.1, 1, 1)\n",
    "following_stat(100, ci)"
   ]
  },
  {
   "cell_type": "code",
   "execution_count": 28,
   "metadata": {},
   "outputs": [
    {
     "data": {
      "text/plain": [
       "(0.89, 11, 0.0)"
      ]
     },
     "execution_count": 28,
     "metadata": {},
     "output_type": "execute_result"
    }
   ],
   "source": [
    "ci = FollowingIndex(1, 2, 0.2, 0.1, 1, 1.5)\n",
    "following_stat(100, ci)"
   ]
  },
  {
   "cell_type": "code",
   "execution_count": 62,
   "metadata": {},
   "outputs": [
    {
     "data": {
      "text/plain": [
       "ShootingController([4.0, 3.141592653589793], 1000)"
      ]
     },
     "execution_count": 62,
     "metadata": {},
     "output_type": "execute_result"
    }
   ],
   "source": []
  },
  {
   "cell_type": "code",
   "execution_count": 64,
   "metadata": {},
   "outputs": [
    {
     "data": {
      "text/plain": [
       "(0.0, 0.0, 1.0)"
      ]
     },
     "execution_count": 64,
     "metadata": {},
     "output_type": "execute_result"
    }
   ],
   "source": []
  },
  {
   "cell_type": "code",
   "execution_count": 65,
   "metadata": {},
   "outputs": [
    {
     "data": {
      "text/plain": [
       "(0.79, 0.14, 0.07)"
      ]
     },
     "execution_count": 65,
     "metadata": {},
     "output_type": "execute_result"
    }
   ],
   "source": []
  },
  {
   "cell_type": "code",
   "execution_count": 66,
   "metadata": {},
   "outputs": [
    {
     "data": {
      "text/plain": [
       "(0.84, 0.15, 0.01)"
      ]
     },
     "execution_count": 66,
     "metadata": {},
     "output_type": "execute_result"
    }
   ],
   "source": []
  },
  {
   "cell_type": "code",
   "execution_count": 61,
   "metadata": {},
   "outputs": [
    {
     "data": {
      "text/plain": [
       "(0.85, 0.15, 0.0)"
      ]
     },
     "execution_count": 61,
     "metadata": {},
     "output_type": "execute_result"
    }
   ],
   "source": [
    "ci = CollisionIndex(0.1, 1e-3, 0.730501, 1.41146)\n",
    "collision_stat(100, ci)"
   ]
  },
  {
   "cell_type": "code",
   "execution_count": 48,
   "metadata": {},
   "outputs": [],
   "source": [
    "function collision_samples()\n",
    "    nx = 20\n",
    "    ny = 20\n",
    "    nv = 10\n",
    "    nt = 10\n",
    "    xs = range(0,stop=5,length=nx)\n",
    "    ys = range(0,stop=5,length=ny)\n",
    "    vs = range(-2,stop=2,length=nv)\n",
    "    θs = range(-π,stop=π,length=nt)\n",
    "    samples = [([x,y,v,θ],[Obstacle([0.0, 0.0],[0,0],obs_radius)]) for x in xs, y in ys, v in vs, θ in θs];\n",
    "    return samples\n",
    "end\n",
    "col_samples = collision_samples();\n",
    "\n",
    "function following_samples()\n",
    "    nx = 10\n",
    "    ny = 10\n",
    "    nv = 10\n",
    "    nt = 10\n",
    "    nov = 2\n",
    "    xs = range(0,stop=5,length=nx)\n",
    "    ys = range(0,stop=5,length=ny)\n",
    "    vs = range(-2,stop=2,length=nv)\n",
    "    θs = range(-π,stop=π,length=nt)\n",
    "    ov1s = range(-0.5,stop=0.5,length=nov)\n",
    "    ov2s = range(-0.5,stop=0.5,length=nov)\n",
    "    samples = [([x,y,v,θ],[Obstacle([0.0, 0.0],[ov1,ov2],obs_radius)]) for x in xs, y in ys, v in vs, θ in θs, ov1 in ov1s, ov2 in ov2s];\n",
    "    return samples\n",
    "end\n",
    "fol_samples = following_samples();"
   ]
  },
  {
   "cell_type": "code",
   "execution_count": 128,
   "metadata": {},
   "outputs": [
    {
     "data": {
      "text/plain": [
       "eval_following_index (generic function with 1 method)"
      ]
     },
     "execution_count": 128,
     "metadata": {},
     "output_type": "execute_result"
    }
   ],
   "source": [
    "function exists_valid_control(safety_index, ctrl::ShootingController, x, obs, net, dt)\n",
    "    safe_set = phi_safe_set(safety_index, x, obs, dt)\n",
    "    for j in 1:ctrl.num_sample\n",
    "        u_cand = rand(2) .* ctrl.u_lim * 2 - ctrl.u_lim\n",
    "        dot_x_cand = compute_output(net, [x; u_cand])\n",
    "        dot_x_cand ∈ safe_set && (return true)\n",
    "    end\n",
    "    return false\n",
    "end\n",
    "\n",
    "function eval_collision_index(coes)\n",
    "    phi_power, dot_phi_coe = coes\n",
    "    margin = 0.1\n",
    "    gamma = 1e-3\n",
    "    index = CollisionIndex(margin, gamma, phi_power, dot_phi_coe)\n",
    "    valid = 0\n",
    "    net_path = \"../nnet/unicycle-FC3-100-rk4/epoch_1000.nnet\"\n",
    "    net = read_nnet(net_path);\n",
    "    dt = 0.1\n",
    "    for sample in col_samples\n",
    "        x, obs = sample\n",
    "        if norm(x[1:2]) < 1e-8 # overlaped with the obstacle\n",
    "            valid += 1\n",
    "            continue\n",
    "        end\n",
    "        ctrl = ShootingController(1000)\n",
    "        valid += exists_valid_control(index, ctrl, x, obs, net, dt)\n",
    "    end\n",
    "    success_rate, phi0_vio_rate, infeas_rate = collision_stat(100, index)\n",
    "    infeas_cnt = length(fol_samples)-valid\n",
    "    @show coes, infeas_cnt, success_rate, phi0_vio_rate, infeas_rate\n",
    "    return Float64(length(col_samples)-valid) - success_rate\n",
    "end\n",
    "\n",
    "function eval_following_index(coes)\n",
    "    Random.seed!(1)\n",
    "    margin, gamma, phi_power, dot_phi_coe = coes\n",
    "#     gamma = 0.1\n",
    "    d_min = 1\n",
    "    d_max = 2\n",
    "    index = FollowingIndex(d_min, d_max, margin, gamma, phi_power, dot_phi_coe)\n",
    "    \n",
    "    gamma = 1e-3\n",
    "    valid = 0\n",
    "    net_path = \"../nnet/unicycle-FC3-100-rk4/epoch_1000.nnet\"\n",
    "    net = read_nnet(net_path);\n",
    "    dt = 0.1\n",
    "    for sample in fol_samples\n",
    "        x, obs = sample\n",
    "        if norm(x[1:2]) < 1e-8 # overlaped with the obstacle\n",
    "            valid += 1\n",
    "            continue\n",
    "        end\n",
    "        ctrl = ShootingController(1000)\n",
    "        valid += exists_valid_control(index, ctrl, x, obs, net, dt)\n",
    "    end\n",
    "    success_rate, phi0_vio_rate, infeas_rate  = following_stat(100, index)\n",
    "    infeas_cnt = length(fol_samples)-valid\n",
    "    @show coes, infeas_cnt, success_rate, phi0_vio_rate, infeas_rate\n",
    "    return Float64(length(fol_samples)-valid) - success_rate\n",
    "end"
   ]
  },
  {
   "cell_type": "code",
   "execution_count": null,
   "metadata": {},
   "outputs": [],
   "source": [
    "# Evolutionary.optimize(eval_collision_index, [1.0, 0.0], CMAES())\n",
    "for i = 1:10\n",
    "    println(\"=========\",i)\n",
    "    Random.seed!(i)\n",
    "    bboptimize(eval_collision_index; SearchRange = [(1e-3, 1e-2), (0.5, 3.0), (0.1, 3.0)], TraceMode=:verbose, MaxFuncEvals=20);\n",
    "end"
   ]
  },
  {
   "cell_type": "code",
   "execution_count": 111,
   "metadata": {},
   "outputs": [
    {
     "ename": "LoadError",
     "evalue": "\u001b[91mInterruptException:\u001b[39m",
     "output_type": "error",
     "traceback": [
      "\u001b[91mInterruptException:\u001b[39m",
      "",
      "Stacktrace:",
      " [1] Array at ./boot.jl:406 [inlined]",
      " [2] Array at ./boot.jl:415 [inlined]",
      " [3] Array at ./boot.jl:423 [inlined]",
      " [4] similar at ./abstractarray.jl:675 [inlined]",
      " [5] similar at ./abstractarray.jl:674 [inlined]",
      " [6] similar at ./broadcast.jl:197 [inlined]",
      " [7] similar at ./broadcast.jl:196 [inlined]",
      " [8] copy at ./broadcast.jl:862 [inlined]",
      " [9] materialize at ./broadcast.jl:837 [inlined]",
      " [10] broadcast_preserving_zero_d at ./broadcast.jl:826 [inlined]",
      " [11] +(::Array{Float64,1}, ::Array{Float64,1}) at ./arraymath.jl:47",
      " [12] affine_map(::Layer{ReLU,Float64}, ::Array{Float64,1}) at /home/wth/dev/NeuralVerification.jl/src/utils/util.jl:342",
      " [13] compute_output(::Network, ::Array{Float64,1}) at /home/wth/dev/NeuralVerification.jl/src/utils/util.jl:128",
      " [14] exists_valid_control(::FollowingIndex, ::ShootingController, ::Array{Float64,1}, ::Array{Obstacle,1}, ::Network, ::Float64) at ./In[94]:5",
      " [15] eval_following_index(::Array{Float64,1}) at ./In[94]:53",
      " [16] fitness(::Array{Float64,1}, ::FunctionBasedProblem{ScalarFitnessScheme{true},ContinuousRectSearchSpace,Nothing}) at /home/wth/.julia/packages/BlackBoxOptim/ZdVko/src/problem.jl:61",
      " [17] setup_problem(::Function, ::DictChain{Symbol,Any}) at /home/wth/.julia/packages/BlackBoxOptim/ZdVko/src/bboptimize.jl:36",
      " [18] bbsetup(::Function, ::Dict{Symbol,Any}; kwargs::Base.Iterators.Pairs{Symbol,Any,Tuple{Symbol,Symbol,Symbol},NamedTuple{(:SearchRange, :TraceMode, :MaxFuncEvals),Tuple{Array{Tuple{Float64,Float64},1},Symbol,Int64}}}) at /home/wth/.julia/packages/BlackBoxOptim/ZdVko/src/bboptimize.jl:87",
      " [19] bboptimize(::Function, ::Dict{Symbol,Any}; kwargs::Base.Iterators.Pairs{Symbol,Any,Tuple{Symbol,Symbol,Symbol},NamedTuple{(:SearchRange, :TraceMode, :MaxFuncEvals),Tuple{Array{Tuple{Float64,Float64},1},Symbol,Int64}}}) at /home/wth/.julia/packages/BlackBoxOptim/ZdVko/src/bboptimize.jl:70",
      " [20] top-level scope at In[111]:2",
      " [21] include_string(::Function, ::Module, ::String, ::String) at ./loading.jl:1091"
     ]
    }
   ],
   "source": [
    "Random.seed!(127)\n",
    "bboptimize(eval_following_index; SearchRange = [(0.1,0.5), (1e-2, 1.), (1.,1.), (0.0, 3.0)], TraceMode=:verbose, MaxFuncEvals=20);"
   ]
  },
  {
   "cell_type": "code",
   "execution_count": 112,
   "metadata": {},
   "outputs": [
    {
     "ename": "LoadError",
     "evalue": "\u001b[91mInterruptException:\u001b[39m",
     "output_type": "error",
     "traceback": [
      "\u001b[91mInterruptException:\u001b[39m",
      "",
      "Stacktrace:",
      " [1] Array at ./boot.jl:406 [inlined]",
      " [2] Array at ./boot.jl:415 [inlined]",
      " [3] Array at ./boot.jl:423 [inlined]",
      " [4] similar at ./abstractarray.jl:675 [inlined]",
      " [5] similar at ./abstractarray.jl:674 [inlined]",
      " [6] similar at ./broadcast.jl:197 [inlined]",
      " [7] similar at ./broadcast.jl:196 [inlined]",
      " [8] copy at ./broadcast.jl:862 [inlined]",
      " [9] materialize at ./broadcast.jl:837 [inlined]",
      " [10] broadcast_preserving_zero_d at ./broadcast.jl:826 [inlined]",
      " [11] +(::Array{Float64,1}, ::Array{Float64,1}) at ./arraymath.jl:47",
      " [12] affine_map(::Layer{ReLU,Float64}, ::Array{Float64,1}) at /home/wth/dev/NeuralVerification.jl/src/utils/util.jl:342",
      " [13] compute_output(::Network, ::Array{Float64,1}) at /home/wth/dev/NeuralVerification.jl/src/utils/util.jl:128",
      " [14] exists_valid_control(::FollowingIndex, ::ShootingController, ::Array{Float64,1}, ::Array{Obstacle,1}, ::Network, ::Float64) at ./In[94]:5",
      " [15] eval_following_index(::Array{Float64,1}) at ./In[94]:53",
      " [16] fitness(::Array{Float64,1}, ::FunctionBasedProblem{ScalarFitnessScheme{true},ContinuousRectSearchSpace,Nothing}) at /home/wth/.julia/packages/BlackBoxOptim/ZdVko/src/problem.jl:61",
      " [17] setup_problem(::Function, ::DictChain{Symbol,Any}) at /home/wth/.julia/packages/BlackBoxOptim/ZdVko/src/bboptimize.jl:36",
      " [18] bbsetup(::Function, ::Dict{Symbol,Any}; kwargs::Base.Iterators.Pairs{Symbol,Any,Tuple{Symbol,Symbol,Symbol},NamedTuple{(:SearchRange, :TraceMode, :MaxFuncEvals),Tuple{Array{Tuple{Float64,Float64},1},Symbol,Int64}}}) at /home/wth/.julia/packages/BlackBoxOptim/ZdVko/src/bboptimize.jl:87",
      " [19] bboptimize(::Function, ::Dict{Symbol,Any}; kwargs::Base.Iterators.Pairs{Symbol,Any,Tuple{Symbol,Symbol,Symbol},NamedTuple{(:SearchRange, :TraceMode, :MaxFuncEvals),Tuple{Array{Tuple{Float64,Float64},1},Symbol,Int64}}}) at /home/wth/.julia/packages/BlackBoxOptim/ZdVko/src/bboptimize.jl:70",
      " [20] top-level scope at In[112]:2",
      " [21] include_string(::Function, ::Module, ::String, ::String) at ./loading.jl:1091"
     ]
    }
   ],
   "source": [
    "Random.seed!(127)\n",
    "bboptimize(eval_following_index; SearchRange = [(0.1,0.5), (1e-2, 1.), (2.,2.), (0.0, 3.0)], TraceMode=:verbose, MaxFuncEvals=20);"
   ]
  },
  {
   "cell_type": "code",
   "execution_count": 54,
   "metadata": {
    "scrolled": true
   },
   "outputs": [
    {
     "name": "stdout",
     "output_type": "stream",
     "text": [
      "=========1\n"
     ]
    },
    {
     "ename": "LoadError",
     "evalue": "\u001b[91mInterruptException:\u001b[39m",
     "output_type": "error",
     "traceback": [
      "\u001b[91mInterruptException:\u001b[39m",
      "",
      "Stacktrace:",
      " [1] Array at ./boot.jl:406 [inlined]",
      " [2] Array at ./boot.jl:415 [inlined]",
      " [3] Array at ./boot.jl:423 [inlined]",
      " [4] similar at ./abstractarray.jl:675 [inlined]",
      " [5] similar at ./abstractarray.jl:674 [inlined]",
      " [6] similar at ./broadcast.jl:197 [inlined]",
      " [7] similar at ./broadcast.jl:196 [inlined]",
      " [8] copy at ./broadcast.jl:862 [inlined]",
      " [9] materialize at ./broadcast.jl:837 [inlined]",
      " [10] broadcast_preserving_zero_d at ./broadcast.jl:826 [inlined]",
      " [11] +(::Array{Float64,1}, ::Array{Float64,1}) at ./arraymath.jl:47",
      " [12] affine_map(::Layer{ReLU,Float64}, ::Array{Float64,1}) at /home/wth/dev/NeuralVerification.jl/src/utils/util.jl:342",
      " [13] compute_output(::Network, ::Array{Float64,1}) at /home/wth/dev/NeuralVerification.jl/src/utils/util.jl:128",
      " [14] exists_valid_control(::FollowingIndex, ::ShootingController, ::Array{Float64,1}, ::Array{Obstacle,1}, ::Network, ::Float64) at ./In[51]:5",
      " [15] eval_following_index(::Array{Float64,1}) at ./In[51]:53",
      " [16] fitness(::Array{Float64,1}, ::FunctionBasedProblem{ScalarFitnessScheme{true},ContinuousRectSearchSpace,Nothing}) at /home/wth/.julia/packages/BlackBoxOptim/ZdVko/src/problem.jl:61",
      " [17] setup_problem(::Function, ::DictChain{Symbol,Any}) at /home/wth/.julia/packages/BlackBoxOptim/ZdVko/src/bboptimize.jl:36",
      " [18] bbsetup(::Function, ::Dict{Symbol,Any}; kwargs::Base.Iterators.Pairs{Symbol,Any,Tuple{Symbol,Symbol,Symbol},NamedTuple{(:SearchRange, :TraceMode, :MaxFuncEvals),Tuple{Array{Tuple{Float64,Float64},1},Symbol,Int64}}}) at /home/wth/.julia/packages/BlackBoxOptim/ZdVko/src/bboptimize.jl:87",
      " [19] bboptimize(::Function, ::Dict{Symbol,Any}; kwargs::Base.Iterators.Pairs{Symbol,Any,Tuple{Symbol,Symbol,Symbol},NamedTuple{(:SearchRange, :TraceMode, :MaxFuncEvals),Tuple{Array{Tuple{Float64,Float64},1},Symbol,Int64}}}) at /home/wth/.julia/packages/BlackBoxOptim/ZdVko/src/bboptimize.jl:70",
      " [20] top-level scope at ./In[54]:5",
      " [21] include_string(::Function, ::Module, ::String, ::String) at ./loading.jl:1091"
     ]
    }
   ],
   "source": [
    "# Evolutionary.optimize(eval_collision_index, [1.0, 0.0], CMAES())\n",
    "for i in 1:10\n",
    "    println(\"=========\",i)\n",
    "    Random.seed!(i)\n",
    "    bboptimize(eval_following_index; SearchRange = [(0.1,0.5), (1e-2, 1.), (1.,1.), (0.0, 3.0)], TraceMode=:verbose, MaxFuncEvals=20);\n",
    "end"
   ]
  },
  {
   "cell_type": "code",
   "execution_count": 237,
   "metadata": {
    "scrolled": true
   },
   "outputs": [
    {
     "name": "stdout",
     "output_type": "stream",
     "text": [
      "Starting optimization with optimizer DiffEvoOpt{FitPopulation{Float64},RadiusLimitedSelector,BlackBoxOptim.AdaptiveDiffEvoRandBin{3},RandomBound{ContinuousRectSearchSpace}}\n",
      "0.00 secs, 0 evals, 0 steps\n",
      "DE modify state:\n",
      "56.04 secs, 2 evals, 1 steps, fitness=516.040000000\n",
      "DE modify state:\n",
      "110.91 secs, 4 evals, 2 steps, fitness=510.010000000\n",
      "DE modify state:\n",
      "161.22 secs, 6 evals, 3 steps, improv/step: 0.333 (last = 1.0000), fitness=510.010000000\n",
      "DE modify state:\n",
      "204.70 secs, 8 evals, 4 steps, improv/step: 0.250 (last = 0.0000), fitness=510.010000000\n",
      "DE modify state:\n",
      "288.46 secs, 10 evals, 5 steps, improv/step: 0.400 (last = 1.0000), fitness=-0.520000000\n",
      "DE modify state:\n",
      "337.14 secs, 12 evals, 6 steps, improv/step: 0.333 (last = 0.0000), fitness=-0.920000000\n",
      "DE modify state:\n",
      "387.24 secs, 14 evals, 7 steps, improv/step: 0.286 (last = 0.0000), fitness=-0.920000000\n",
      "DE modify state:\n",
      "430.21 secs, 16 evals, 8 steps, improv/step: 0.375 (last = 1.0000), fitness=-0.920000000\n",
      "DE modify state:\n",
      "463.29 secs, 18 evals, 9 steps, improv/step: 0.333 (last = 0.0000), fitness=-0.920000000\n",
      "DE modify state:\n",
      "545.92 secs, 20 evals, 10 steps, improv/step: 0.400 (last = 1.0000), fitness=-0.920000000\n",
      "DE modify state:\n",
      "\n",
      "Optimization stopped after 11 steps and 624.36 seconds\n",
      "Termination reason: Max number of function evaluations (20) reached\n",
      "Steps per second = 0.02\n",
      "Function evals per second = 0.04\n",
      "Improvements/step = Inf\n",
      "Total function evaluations = 22\n",
      "\n",
      "\n",
      "Best candidate found: [0.19546, 0.358787]\n",
      "\n",
      "Fitness: -0.920000000\n",
      "\n"
     ]
    }
   ],
   "source": [
    "# Evolutionary.optimize(eval_collision_index, [1.0, 0.0], CMAES())\n",
    "Random.seed!(127)\n",
    "bboptimize(eval_collision_index; SearchRange = [(0.0, 3.0), (0.0, 3.0)], TraceMode=:verbose, MaxFuncEvals=20);"
   ]
  },
  {
   "cell_type": "code",
   "execution_count": 239,
   "metadata": {},
   "outputs": [
    {
     "data": {
      "text/plain": [
       "(0.92, 0, 0.01)"
      ]
     },
     "execution_count": 239,
     "metadata": {},
     "output_type": "execute_result"
    }
   ],
   "source": [
    "ci = CollisionIndex(0.1, 0.19546, 0.358787)\n",
    "collision_stat(100, ci)"
   ]
  },
  {
   "cell_type": "code",
   "execution_count": 358,
   "metadata": {},
   "outputs": [
    {
     "name": "stdout",
     "output_type": "stream",
     "text": [
      "=========2\n",
      "Starting optimization with optimizer DiffEvoOpt{FitPopulation{Float64},RadiusLimitedSelector,BlackBoxOptim.AdaptiveDiffEvoRandBin{3},RandomBound{ContinuousRectSearchSpace}}\n",
      "0.00 secs, 0 evals, 0 steps\n",
      "DE modify state:\n",
      "51.01 secs, 2 evals, 1 steps, improv/step: 1.000 (last = 1.0000), fitness=478.020000000\n",
      "DE modify state:\n",
      "96.52 secs, 4 evals, 2 steps, improv/step: 1.000 (last = 1.0000), fitness=418.150000000\n",
      "DE modify state:\n",
      "163.10 secs, 6 evals, 3 steps, improv/step: 1.000 (last = 1.0000), fitness=418.150000000\n",
      "DE modify state:\n",
      "227.26 secs, 8 evals, 4 steps, improv/step: 1.000 (last = 1.0000), fitness=418.150000000\n",
      "DE modify state:\n",
      "289.04 secs, 10 evals, 5 steps, improv/step: 1.000 (last = 1.0000), fitness=418.150000000\n",
      "DE modify state:\n",
      "355.79 secs, 12 evals, 6 steps, improv/step: 0.833 (last = 0.0000), fitness=-0.730000000\n",
      "DE modify state:\n",
      "399.16 secs, 14 evals, 7 steps, improv/step: 0.714 (last = 0.0000), fitness=-0.730000000\n",
      "DE modify state:\n",
      "\n",
      "Optimization stopped after 8 steps and 446.67 seconds\n",
      "Termination reason: Max number of function evaluations (15) reached\n",
      "Steps per second = 0.02\n",
      "Function evals per second = 0.04\n",
      "Improvements/step = Inf\n",
      "Total function evaluations = 16\n",
      "\n",
      "\n",
      "Best candidate found: [0.522687, 1.80045]\n",
      "\n",
      "Fitness: -0.730000000\n",
      "\n",
      "=========3\n",
      "Starting optimization with optimizer DiffEvoOpt{FitPopulation{Float64},RadiusLimitedSelector,BlackBoxOptim.AdaptiveDiffEvoRandBin{3},RandomBound{ContinuousRectSearchSpace}}\n",
      "0.00 secs, 0 evals, 0 steps\n",
      "DE modify state:\n",
      "108.39 secs, 2 evals, 1 steps, improv/step: 1.000 (last = 1.0000), fitness=-0.350000000\n",
      "DE modify state:\n",
      "191.14 secs, 4 evals, 2 steps, improv/step: 0.500 (last = 0.0000), fitness=-0.710000000\n",
      "DE modify state:\n",
      "255.59 secs, 6 evals, 3 steps, improv/step: 0.333 (last = 0.0000), fitness=-0.710000000\n",
      "DE modify state:\n",
      "319.59 secs, 8 evals, 4 steps, improv/step: 0.250 (last = 0.0000), fitness=-0.710000000\n",
      "DE modify state:\n",
      "397.73 secs, 10 evals, 5 steps, improv/step: 0.400 (last = 1.0000), fitness=-0.710000000\n",
      "DE modify state:\n",
      "495.83 secs, 12 evals, 6 steps, improv/step: 0.500 (last = 1.0000), fitness=-0.710000000\n",
      "DE modify state:\n",
      "532.06 secs, 14 evals, 7 steps, improv/step: 0.571 (last = 1.0000), fitness=-0.710000000\n",
      "DE modify state:\n",
      "\n",
      "Optimization stopped after 8 steps and 568.90 seconds\n",
      "Termination reason: Max number of function evaluations (15) reached\n",
      "Steps per second = 0.01\n",
      "Function evals per second = 0.03\n",
      "Improvements/step = Inf\n",
      "Total function evaluations = 16\n",
      "\n",
      "\n",
      "Best candidate found: [0.0662813, 0.198151]\n",
      "\n",
      "Fitness: -0.710000000\n",
      "\n",
      "=========4\n",
      "Starting optimization with optimizer DiffEvoOpt{FitPopulation{Float64},RadiusLimitedSelector,BlackBoxOptim.AdaptiveDiffEvoRandBin{3},RandomBound{ContinuousRectSearchSpace}}\n",
      "0.00 secs, 0 evals, 0 steps\n",
      "DE modify state:\n",
      "39.19 secs, 2 evals, 1 steps, fitness=148.020000000\n",
      "DE modify state:\n",
      "132.79 secs, 4 evals, 2 steps, improv/step: 0.500 (last = 1.0000), fitness=-0.290000000\n",
      "DE modify state:\n",
      "221.62 secs, 6 evals, 3 steps, improv/step: 0.333 (last = 0.0000), fitness=-0.370000000\n",
      "DE modify state:\n",
      "266.71 secs, 8 evals, 4 steps, improv/step: 0.500 (last = 1.0000), fitness=-0.370000000\n",
      "DE modify state:\n",
      "303.51 secs, 10 evals, 5 steps, improv/step: 0.400 (last = 0.0000), fitness=-0.370000000\n",
      "DE modify state:\n",
      "351.46 secs, 12 evals, 6 steps, improv/step: 0.333 (last = 0.0000), fitness=-0.370000000\n",
      "DE modify state:\n",
      "400.76 secs, 14 evals, 7 steps, improv/step: 0.429 (last = 1.0000), fitness=-0.370000000\n",
      "DE modify state:\n",
      "\n",
      "Optimization stopped after 8 steps and 446.20 seconds\n",
      "Termination reason: Max number of function evaluations (15) reached\n",
      "Steps per second = 0.02\n",
      "Function evals per second = 0.04\n",
      "Improvements/step = Inf\n",
      "Total function evaluations = 16\n",
      "\n",
      "\n",
      "Best candidate found: [0.157589, 1.41993]\n",
      "\n",
      "Fitness: -0.370000000\n",
      "\n",
      "=========5\n",
      "Starting optimization with optimizer DiffEvoOpt{FitPopulation{Float64},RadiusLimitedSelector,BlackBoxOptim.AdaptiveDiffEvoRandBin{3},RandomBound{ContinuousRectSearchSpace}}\n",
      "0.00 secs, 0 evals, 0 steps\n",
      "DE modify state:\n",
      "51.64 secs, 2 evals, 1 steps, fitness=752.050000000\n",
      "DE modify state:\n",
      "112.43 secs, 4 evals, 2 steps, fitness=752.050000000\n",
      "DE modify state:\n",
      "190.80 secs, 6 evals, 3 steps, improv/step: 0.333 (last = 1.0000), fitness=-0.620000000\n",
      "DE modify state:\n",
      "239.12 secs, 8 evals, 4 steps, improv/step: 0.500 (last = 1.0000), fitness=-0.620000000\n",
      "DE modify state:\n",
      "314.97 secs, 10 evals, 5 steps, improv/step: 0.400 (last = 0.0000), fitness=-0.620000000\n",
      "DE modify state:\n",
      "359.88 secs, 12 evals, 6 steps, improv/step: 0.500 (last = 1.0000), fitness=-0.620000000\n",
      "DE modify state:\n",
      "409.02 secs, 14 evals, 7 steps, improv/step: 0.571 (last = 1.0000), fitness=-0.620000000\n",
      "DE modify state:\n",
      "\n",
      "Optimization stopped after 8 steps and 495.83 seconds\n",
      "Termination reason: Max number of function evaluations (15) reached\n",
      "Steps per second = 0.02\n",
      "Function evals per second = 0.03\n",
      "Improvements/step = Inf\n",
      "Total function evaluations = 16\n",
      "\n",
      "\n",
      "Best candidate found: [0.581523, 2.44591]\n",
      "\n",
      "Fitness: -0.620000000\n",
      "\n",
      "=========6\n",
      "Starting optimization with optimizer DiffEvoOpt{FitPopulation{Float64},RadiusLimitedSelector,BlackBoxOptim.AdaptiveDiffEvoRandBin{3},RandomBound{ContinuousRectSearchSpace}}\n",
      "0.00 secs, 0 evals, 0 steps\n",
      "DE modify state:\n",
      "44.84 secs, 2 evals, 1 steps, improv/step: 1.000 (last = 1.0000), fitness=-0.910000000\n",
      "DE modify state:\n",
      "83.79 secs, 4 evals, 2 steps, improv/step: 1.000 (last = 1.0000), fitness=-0.910000000\n",
      "DE modify state:\n",
      "145.52 secs, 6 evals, 3 steps, improv/step: 1.000 (last = 1.0000), fitness=-0.910000000\n",
      "DE modify state:\n",
      "201.39 secs, 8 evals, 4 steps, improv/step: 0.750 (last = 0.0000), fitness=-0.910000000\n",
      "DE modify state:\n",
      "264.69 secs, 10 evals, 5 steps, improv/step: 0.600 (last = 0.0000), fitness=-0.910000000\n",
      "DE modify state:\n",
      "287.29 secs, 12 evals, 6 steps, improv/step: 0.500 (last = 0.0000), fitness=-0.910000000\n",
      "DE modify state:\n",
      "316.47 secs, 13 evals, 7 steps, improv/step: 0.429 (last = 0.0000), fitness=-0.910000000\n",
      "DE modify state:\n",
      "368.43 secs, 15 evals, 8 steps, improv/step: 0.500 (last = 1.0000), fitness=-0.910000000\n",
      "DE modify state:\n",
      "\n",
      "Optimization stopped after 9 steps and 470.11 seconds\n",
      "Termination reason: Max number of function evaluations (15) reached\n",
      "Steps per second = 0.02\n",
      "Function evals per second = 0.04\n",
      "Improvements/step = Inf\n",
      "Total function evaluations = 17\n",
      "\n",
      "\n",
      "Best candidate found: [0.341103, 0.66293]\n",
      "\n",
      "Fitness: -0.910000000\n",
      "\n",
      "=========7\n",
      "Starting optimization with optimizer DiffEvoOpt{FitPopulation{Float64},RadiusLimitedSelector,BlackBoxOptim.AdaptiveDiffEvoRandBin{3},RandomBound{ContinuousRectSearchSpace}}\n",
      "0.00 secs, 0 evals, 0 steps\n",
      "DE modify state:\n",
      "54.84 secs, 2 evals, 1 steps, fitness=678.140000000\n",
      "DE modify state:\n",
      "124.95 secs, 4 evals, 2 steps, improv/step: 0.500 (last = 1.0000), fitness=678.140000000\n",
      "DE modify state:\n",
      "182.56 secs, 6 evals, 3 steps, improv/step: 0.667 (last = 1.0000), fitness=567.050000000\n",
      "DE modify state:\n",
      "237.91 secs, 8 evals, 4 steps, improv/step: 0.750 (last = 1.0000), fitness=333.090000000\n",
      "DE modify state:\n",
      "292.67 secs, 10 evals, 5 steps, improv/step: 0.600 (last = 0.0000), fitness=333.090000000\n",
      "DE modify state:\n",
      "324.78 secs, 12 evals, 6 steps, improv/step: 0.667 (last = 1.0000), fitness=208.000000000\n",
      "DE modify state:\n",
      "400.39 secs, 14 evals, 7 steps, improv/step: 0.571 (last = 0.0000), fitness=-0.550000000\n",
      "DE modify state:\n",
      "\n",
      "Optimization stopped after 8 steps and 445.10 seconds\n",
      "Termination reason: Max number of function evaluations (15) reached\n",
      "Steps per second = 0.02\n",
      "Function evals per second = 0.04\n",
      "Improvements/step = Inf\n",
      "Total function evaluations = 16\n",
      "\n",
      "\n",
      "Best candidate found: [0.333399, 1.49895]\n",
      "\n",
      "Fitness: -0.550000000\n",
      "\n",
      "=========8\n",
      "Starting optimization with optimizer DiffEvoOpt{FitPopulation{Float64},RadiusLimitedSelector,BlackBoxOptim.AdaptiveDiffEvoRandBin{3},RandomBound{ContinuousRectSearchSpace}}\n",
      "0.00 secs, 0 evals, 0 steps\n",
      "DE modify state:\n",
      "117.22 secs, 2 evals, 1 steps, improv/step: 1.000 (last = 1.0000), fitness=-0.520000000\n",
      "DE modify state:\n",
      "200.58 secs, 4 evals, 2 steps, improv/step: 1.000 (last = 1.0000), fitness=-0.580000000\n",
      "DE modify state:\n",
      "339.04 secs, 6 evals, 3 steps, improv/step: 1.000 (last = 1.0000), fitness=-0.580000000\n",
      "DE modify state:\n",
      "360.45 secs, 7 evals, 4 steps, improv/step: 0.750 (last = 0.0000), fitness=-0.580000000\n",
      "DE modify state:\n"
     ]
    },
    {
     "name": "stdout",
     "output_type": "stream",
     "text": [
      "459.86 secs, 9 evals, 5 steps, improv/step: 0.800 (last = 1.0000), fitness=-0.580000000\n",
      "DE modify state:\n",
      "501.82 secs, 11 evals, 6 steps, improv/step: 0.667 (last = 0.0000), fitness=-0.580000000\n",
      "DE modify state:\n",
      "569.13 secs, 13 evals, 7 steps, improv/step: 0.714 (last = 1.0000), fitness=-0.580000000\n",
      "DE modify state:\n",
      "602.72 secs, 15 evals, 8 steps, improv/step: 0.750 (last = 1.0000), fitness=-0.580000000\n",
      "DE modify state:\n",
      "\n",
      "Optimization stopped after 9 steps and 698.44 seconds\n",
      "Termination reason: Max number of function evaluations (15) reached\n",
      "Steps per second = 0.01\n",
      "Function evals per second = 0.02\n",
      "Improvements/step = Inf\n",
      "Total function evaluations = 17\n",
      "\n",
      "\n",
      "Best candidate found: [0.471815, 2.29597]\n",
      "\n",
      "Fitness: -0.580000000\n",
      "\n",
      "=========9\n",
      "Starting optimization with optimizer DiffEvoOpt{FitPopulation{Float64},RadiusLimitedSelector,BlackBoxOptim.AdaptiveDiffEvoRandBin{3},RandomBound{ContinuousRectSearchSpace}}\n",
      "0.00 secs, 0 evals, 0 steps\n",
      "DE modify state:\n",
      "46.88 secs, 2 evals, 1 steps, improv/step: 1.000 (last = 1.0000), fitness=146.090000000\n",
      "DE modify state:\n",
      "108.90 secs, 4 evals, 2 steps, improv/step: 0.500 (last = 0.0000), fitness=146.090000000\n",
      "DE modify state:\n",
      "185.68 secs, 6 evals, 3 steps, improv/step: 0.333 (last = 0.0000), fitness=131.310000000\n",
      "DE modify state:\n",
      "234.77 secs, 8 evals, 4 steps, improv/step: 0.250 (last = 0.0000), fitness=131.310000000\n",
      "DE modify state:\n",
      "290.60 secs, 10 evals, 5 steps, improv/step: 0.200 (last = 0.0000), fitness=131.310000000\n",
      "DE modify state:\n",
      "395.01 secs, 12 evals, 6 steps, improv/step: 0.333 (last = 1.0000), fitness=-0.390000000\n",
      "DE modify state:\n",
      "496.06 secs, 14 evals, 7 steps, improv/step: 0.286 (last = 0.0000), fitness=-0.390000000\n",
      "DE modify state:\n",
      "\n",
      "Optimization stopped after 8 steps and 527.67 seconds\n",
      "Termination reason: Max number of function evaluations (15) reached\n",
      "Steps per second = 0.02\n",
      "Function evals per second = 0.03\n",
      "Improvements/step = Inf\n",
      "Total function evaluations = 16\n",
      "\n",
      "\n",
      "Best candidate found: [0.418192, 2.82321]\n",
      "\n",
      "Fitness: -0.390000000\n",
      "\n",
      "=========10\n",
      "Starting optimization with optimizer DiffEvoOpt{FitPopulation{Float64},RadiusLimitedSelector,BlackBoxOptim.AdaptiveDiffEvoRandBin{3},RandomBound{ContinuousRectSearchSpace}}\n",
      "0.00 secs, 0 evals, 0 steps\n",
      "DE modify state:\n",
      "140.49 secs, 2 evals, 1 steps, fitness=-0.410000000\n",
      "DE modify state:\n",
      "226.56 secs, 4 evals, 2 steps, improv/step: 0.500 (last = 1.0000), fitness=-0.560000000\n",
      "DE modify state:\n",
      "273.97 secs, 6 evals, 3 steps, improv/step: 0.667 (last = 1.0000), fitness=-0.560000000\n",
      "DE modify state:\n",
      "347.91 secs, 8 evals, 4 steps, improv/step: 0.750 (last = 1.0000), fitness=-0.560000000\n",
      "DE modify state:\n",
      "392.90 secs, 10 evals, 5 steps, improv/step: 0.800 (last = 1.0000), fitness=-0.560000000\n",
      "DE modify state:\n",
      "425.00 secs, 12 evals, 6 steps, improv/step: 0.833 (last = 1.0000), fitness=-0.560000000\n",
      "DE modify state:\n",
      "487.63 secs, 14 evals, 7 steps, improv/step: 0.857 (last = 1.0000), fitness=-0.560000000\n",
      "DE modify state:\n",
      "\n",
      "Optimization stopped after 8 steps and 570.02 seconds\n",
      "Termination reason: Max number of function evaluations (15) reached\n",
      "Steps per second = 0.01\n",
      "Function evals per second = 0.03\n",
      "Improvements/step = Inf\n",
      "Total function evaluations = 16\n",
      "\n",
      "\n",
      "Best candidate found: [0.519811, 1.9995]\n",
      "\n",
      "Fitness: -0.560000000\n",
      "\n"
     ]
    }
   ],
   "source": [
    "for i = 2:10\n",
    "    println(\"=========\",i)\n",
    "    Random.seed!(i)\n",
    "    bboptimize(eval_collision_index; SearchRange = [(0.0, 3.0), (0.0, 3.0)], TraceMode=:verbose, MaxFuncEvals=15);\n",
    "end"
   ]
  },
  {
   "cell_type": "code",
   "execution_count": 178,
   "metadata": {},
   "outputs": [
    {
     "ename": "LoadError",
     "evalue": "\u001b[91mDomainError with -0.7:\u001b[39m\n\u001b[91mExponentiation yielding a complex result requires a complex argument.\u001b[39m\n\u001b[91mReplace x^y with (x+0im)^y, Complex(x)^y, or similar.\u001b[39m",
     "output_type": "error",
     "traceback": [
      "\u001b[91mDomainError with -0.7:\u001b[39m\n\u001b[91mExponentiation yielding a complex result requires a complex argument.\u001b[39m\n\u001b[91mReplace x^y with (x+0im)^y, Complex(x)^y, or similar.\u001b[39m",
      "",
      "Stacktrace:",
      " [1] throw_exp_domainerror(::Float64) at ./math.jl:37",
      " [2] ^(::Float64, ::Float64) at ./math.jl:888",
      " [3] phi(::FollowingIndex, ::Array{Float64,1}, ::Obstacle) at ./In[143]:15",
      " [4] phi_safe_set(::FollowingIndex, ::Array{Float64,1}, ::Array{Obstacle,1}, ::Float64) at ./In[8]:4",
      " [5] exists_valid_control(::FollowingIndex, ::ShootingController, ::Array{Float64,1}, ::Array{Obstacle,1}, ::Network, ::Float64) at ./In[169]:44",
      " [6] eval_following_index(::Array{Float64,1}) at ./In[169]:66",
      " [7] top-level scope at show.jl:641",
      " [8] include_string(::Function, ::Module, ::String, ::String) at ./loading.jl:1091"
     ]
    }
   ],
   "source": [
    "@show eval_following_index([0.730501, 2.41146])"
   ]
  },
  {
   "cell_type": "code",
   "execution_count": null,
   "metadata": {},
   "outputs": [],
   "source": [
    "bboptimize(eval_following_index; SearchRange = [(0.0, 4.0), (0.0, 10.0)], TraceMode=:verbose, MaxFuncEvals=50);"
   ]
  }
 ],
 "metadata": {
  "kernelspec": {
   "display_name": "Julia 1.5.3",
   "language": "julia",
   "name": "julia-1.5"
  },
  "language_info": {
   "file_extension": ".jl",
   "mimetype": "application/julia",
   "name": "julia",
   "version": "1.5.3"
  }
 },
 "nbformat": 4,
 "nbformat_minor": 4
}
