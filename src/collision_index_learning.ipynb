{
 "cells": [
  {
   "cell_type": "code",
   "execution_count": 35,
   "metadata": {},
   "outputs": [
    {
     "data": {
      "text/plain": [
       "grad_phi (generic function with 2 methods)"
      ]
     },
     "execution_count": 35,
     "metadata": {},
     "output_type": "execute_result"
    }
   ],
   "source": [
    "using Plots\n",
    "using LinearAlgebra\n",
    "using Revise\n",
    "using NeuralVerification\n",
    "using NeuralVerification:Network, Layer, ReLU, Id, read_nnet, compute_output\n",
    "using LazySets\n",
    "using Random\n",
    "using BlackBoxOptim\n",
    "include(\"unicycle_env.jl\")\n",
    "include(\"controller.jl\")\n",
    "include(\"problem.jl\")\n",
    "include(\"safe_set.jl\")"
   ]
  },
  {
   "cell_type": "code",
   "execution_count": 36,
   "metadata": {},
   "outputs": [
    {
     "data": {
      "text/plain": [
       "0.5"
      ]
     },
     "execution_count": 36,
     "metadata": {},
     "output_type": "execute_result"
    }
   ],
   "source": [
    "net_path = \"../nnet/unicycle-FC3-100-rk4/epoch_1000.nnet\"\n",
    "net = read_nnet(net_path);\n",
    "obs_radius = 0.5"
   ]
  },
  {
   "cell_type": "code",
   "execution_count": 37,
   "metadata": {},
   "outputs": [
    {
     "data": {
      "text/plain": [
       "tracking (generic function with 1 method)"
      ]
     },
     "execution_count": 37,
     "metadata": {},
     "output_type": "execute_result"
    }
   ],
   "source": [
    "function generate_moving_target(;fps=10, tf=2, v=nothing, v_lim=0.5)\n",
    "    T = tf*fps\n",
    "    v = isnothing(v) ? [rand(), rand()]*v_lim*2 .- v_lim : v\n",
    "    p = [0, 1.5]\n",
    "    return [Obstacle(p+v*(i/fps), v, obs_radius) for i in 0:T-1]\n",
    "end\n",
    "\n",
    "function get_Xref(x0, xg, T, dt)\n",
    "    tf = T*dt\n",
    "    dp = [xg[1]-x0[1], xg[2]-x0[2]]\n",
    "    da = xg[4]-x0[4]\n",
    "    a = atan(dp[2], dp[1])\n",
    "    v = norm(dp)/tf\n",
    "    v = max(min(v, 1),-1)\n",
    "    vx = v * cos(a)\n",
    "    vy = v * sin(a)\n",
    "    Xref = [[x0[1]+vx*k*dt, x0[2]+vy*k*dt, v, a] for k = 1:T]\n",
    "    Xref[end][3] = 0\n",
    "    return Xref\n",
    "end\n",
    "\n",
    "function tracking(rp::RP, ctrl; fps=10, tf=2, obstacles=nothing, safety_index=nothing, verbose=false)\n",
    "    T=Int(ceil(fps*tf))\n",
    "    dt=1.0/fps\n",
    "    x = rp.x0\n",
    "    X = [copy(rp.x0) for k = 1:T]\n",
    "    U = [zeros(2) for k = 1:T-1]\n",
    "    safe_sets = []\n",
    "    Xrefs = []\n",
    "    tot_time = 0\n",
    "    col_cnt = 0\n",
    "    infeas=false\n",
    "    for i in 1:T-1\n",
    "        Xref = get_Xref(x, rp.xg, fps, dt)\n",
    "        xref = Xref[1]\n",
    "        push!(Xrefs, Xref)\n",
    "        timed_result = @timed get_control(ctrl, xref, x, rp.net, rp.obj_cost, dt, obstacles=obstacles, safety_index=safety_index)\n",
    "        u, safe_set = timed_result.value\n",
    "        if isnothing(u)\n",
    "            u = i == 1 ? [0.,0.] : U[i-1]\n",
    "            infeas=true\n",
    "#             return X[1:i], U[1:i-1], safe_sets, Xrefs, true\n",
    "        end\n",
    "        push!(safe_sets, safe_set)\n",
    "        tot_time += timed_result.time\n",
    "        if verbose\n",
    "            @show x\n",
    "            @show xref\n",
    "            @show u\n",
    "            p = phi(x, obstacle)\n",
    "            @show p\n",
    "        end\n",
    "        x = forward(rp.net, x, u, dt)\n",
    "        X[i+1] = x\n",
    "        U[i] = u\n",
    "        if norm(x[1:2] - rp.xg[1:2]) < 0.1\n",
    "            return X[1:i+1], U[1:i], safe_sets[1:i], Xrefs[1:i], infeas\n",
    "        end\n",
    "    end\n",
    "    push!(Xrefs, Xrefs[end])\n",
    "    return X, U, safe_sets, Xrefs, infeas\n",
    "end"
   ]
  },
  {
   "cell_type": "code",
   "execution_count": 38,
   "metadata": {},
   "outputs": [],
   "source": [
    "function collision_samples()\n",
    "    nx = 20\n",
    "    ny = 20\n",
    "    nv = 10\n",
    "    nt = 10\n",
    "    xs = range(0,stop=5,length=nx)\n",
    "    ys = range(0,stop=5,length=ny)\n",
    "    vs = range(-2,stop=2,length=nv)\n",
    "    θs = range(-π,stop=π,length=nt)\n",
    "    samples = [([x,y,v,θ],[Obstacle([0.0, 0.0],[0,0],obs_radius)]) for x in xs, y in ys, v in vs, θ in θs];\n",
    "    return samples\n",
    "end\n",
    "col_samples = collision_samples();"
   ]
  },
  {
   "cell_type": "code",
   "execution_count": 39,
   "metadata": {},
   "outputs": [
    {
     "data": {
      "text/plain": [
       "eval_collision_index (generic function with 1 method)"
      ]
     },
     "execution_count": 39,
     "metadata": {},
     "output_type": "execute_result"
    }
   ],
   "source": [
    "function exists_valid_control(safety_index, ctrl::ShootingController, x, obs, net, dt)\n",
    "    safe_set = phi_safe_set(safety_index, x, obs, dt)\n",
    "    for j in 1:ctrl.num_sample\n",
    "        u_cand = rand(2) .* ctrl.u_lim * 2 - ctrl.u_lim\n",
    "        dot_x_cand = compute_output(net, [x; u_cand])\n",
    "        dot_x_cand ∈ safe_set && (return true)\n",
    "    end\n",
    "    return false\n",
    "end\n",
    "\n",
    "function eval_collision_index(coes)\n",
    "    margin, gamma, phi_power, dot_phi_coe = coes\n",
    "    index = CollisionIndex(margin, gamma, phi_power, dot_phi_coe)\n",
    "    valid = 0\n",
    "    net_path = \"../nnet/unicycle-FC3-100-rk4/epoch_1000.nnet\"\n",
    "    net = read_nnet(net_path);\n",
    "    dt = 0.1\n",
    "    for sample in col_samples\n",
    "        x, obs = sample\n",
    "        if norm(x[1:2]) < 1e-8 # overlaped with the obstacle\n",
    "            valid += 1\n",
    "            continue\n",
    "        end\n",
    "        ctrl = ShootingController(1000)\n",
    "        valid += exists_valid_control(index, ctrl, x, obs, net, dt)\n",
    "    end\n",
    "    return Float64(length(col_samples)-valid)\n",
    "end"
   ]
  },
  {
   "cell_type": "code",
   "execution_count": 14,
   "metadata": {},
   "outputs": [
    {
     "name": "stdout",
     "output_type": "stream",
     "text": [
      "Starting optimization with optimizer DiffEvoOpt{FitPopulation{Float64},RadiusLimitedSelector,BlackBoxOptim.AdaptiveDiffEvoRandBin{3},RandomBound{ContinuousRectSearchSpace}}\n",
      "0.00 secs, 0 evals, 0 steps\n",
      "DE modify state:\n",
      "3.69 secs, 2 evals, 1 steps, improv/step: 1.000 (last = 1.0000), fitness=0.000000000\n",
      "DE modify state:\n",
      "38.50 secs, 4 evals, 2 steps, improv/step: 1.000 (last = 1.0000), fitness=0.000000000\n",
      "DE modify state:\n",
      "\n",
      "Optimization stopped after 3 steps and 50.13 seconds\n",
      "Termination reason: Max number of function evaluations (4) reached\n",
      "Steps per second = 0.06\n",
      "Function evals per second = 0.12\n",
      "Improvements/step = Inf\n",
      "Total function evaluations = 6\n",
      "\n",
      "\n",
      "Best candidate found: [0.12037, 0.0186236, 0.157352, 0.521703]\n",
      "\n",
      "Fitness: 0.000000000\n",
      "\n"
     ]
    }
   ],
   "source": [
    "Random.seed!(0)\n",
    "res = bboptimize(eval_collision_index; SearchRange = [(0.1, 0.5), (1e-3, 2e-2), (0.1, 3.0), (0.1, 2.0)], TraceMode=:verbose, MaxFuncEvals=4);"
   ]
  },
  {
   "cell_type": "code",
   "execution_count": 82,
   "metadata": {},
   "outputs": [
    {
     "name": "stdout",
     "output_type": "stream",
     "text": [
      "Starting optimization with optimizer DiffEvoOpt{FitPopulation{Float64},RadiusLimitedSelector,BlackBoxOptim.AdaptiveDiffEvoRandBin{3},RandomBound{ContinuousRectSearchSpace}}\n",
      "0.00 secs, 0 evals, 0 steps\n",
      "DE modify state:\n",
      "23.38 secs, 2 evals, 1 steps, fitness=0.000000000\n",
      "DE modify state:\n",
      "49.63 secs, 4 evals, 2 steps, improv/step: 0.500 (last = 1.0000), fitness=0.000000000\n",
      "DE modify state:\n",
      "80.77 secs, 6 evals, 3 steps, improv/step: 0.667 (last = 1.0000), fitness=0.000000000\n",
      "DE modify state:\n",
      "114.57 secs, 8 evals, 4 steps, improv/step: 0.750 (last = 1.0000), fitness=0.000000000\n",
      "DE modify state:\n",
      "151.59 secs, 10 evals, 5 steps, improv/step: 0.800 (last = 1.0000), fitness=0.000000000\n",
      "DE modify state:\n",
      "\n",
      "Optimization stopped after 6 steps and 154.26 seconds\n",
      "Termination reason: Max number of function evaluations (10) reached\n",
      "Steps per second = 0.04\n",
      "Function evals per second = 0.08\n",
      "Improvements/step = Inf\n",
      "Total function evaluations = 12\n",
      "\n",
      "\n",
      "Best candidate found: [0.728854, 0.00915763, 0.277308, 1.05736]\n",
      "\n",
      "Fitness: 0.000000000\n",
      "\n"
     ]
    }
   ],
   "source": [
    "Random.seed!(1)\n",
    "res = bboptimize(eval_collision_index; SearchRange = [(0.1, 0.5), (1e-3, 2e-2), (0.5, 3.0), (0.1, 2.0)], TraceMode=:verbose, MaxFuncEvals=10);"
   ]
  },
  {
   "cell_type": "code",
   "execution_count": 40,
   "metadata": {},
   "outputs": [
    {
     "data": {
      "text/plain": [
       "find_infeas_states (generic function with 1 method)"
      ]
     },
     "execution_count": 40,
     "metadata": {},
     "output_type": "execute_result"
    }
   ],
   "source": [
    "function draw_heat_plot(coes)\n",
    "    margin, gamma, phi_power, dot_phi_coe = coes\n",
    "    index = CollisionIndex(margin, gamma, phi_power, dot_phi_coe)\n",
    "    valid = 0\n",
    "    net_path = \"../nnet/unicycle-FC3-100-rk4/epoch_1000.nnet\"\n",
    "    net = read_nnet(net_path);\n",
    "    dt = 0.1\n",
    "    for sample in col_samples\n",
    "        x, obs = sample\n",
    "        if norm(x[1:2]) < 1e-8 # overlaped with the obstacle\n",
    "            valid += 1\n",
    "            continue\n",
    "        end\n",
    "        ctrl = ShootingController(1000)\n",
    "        valid += exists_valid_control(index, ctrl, x, obs, net, dt)\n",
    "    end\n",
    "    return Float64(length(col_samples)-valid)\n",
    "end\n",
    "\n",
    "function find_infeas_states(coes)\n",
    "    margin, gamma, phi_power, dot_phi_coe = coes\n",
    "    index = CollisionIndex(margin, gamma, phi_power, dot_phi_coe)\n",
    "    valid = 0\n",
    "    net_path = \"../nnet/unicycle-FC3-100-rk4/epoch_1000.nnet\"\n",
    "    net = read_nnet(net_path);\n",
    "    dt = 0.1\n",
    "    infeas_states = Dict()\n",
    "    infeas_map = zeros(size(col_samples)[1:2])\n",
    "    for (idx, sample) in pairs(col_samples)\n",
    "        x, obs = sample\n",
    "        if norm(x[1:2]) < 1e-8 # overlaped with the obstacle\n",
    "            valid += 1\n",
    "            continue\n",
    "        end\n",
    "        ctrl = ShootingController(1000)\n",
    "        feas = exists_valid_control(index, ctrl, x, obs, net, dt)\n",
    "        valid += feas\n",
    "        feas && continue\n",
    "        haskey(infeas_states, (idx[1], idx[2])) || (infeas_states[(idx[1], idx[2])] = [])\n",
    "        push!(infeas_states[(idx[1], idx[2])], sample)\n",
    "        infeas_map[idx[1], idx[2]] += 1\n",
    "    end\n",
    "    return Float64(length(col_samples)-valid), infeas_states, infeas_map\n",
    "end"
   ]
  },
  {
   "cell_type": "code",
   "execution_count": 16,
   "metadata": {},
   "outputs": [
    {
     "data": {
      "text/plain": [
       "4-element Array{Float64,1}:\n",
       " 0.12037005385555011\n",
       " 0.01862356097257451\n",
       " 0.15735219089617197\n",
       " 0.5217034068882422"
      ]
     },
     "execution_count": 16,
     "metadata": {},
     "output_type": "execute_result"
    }
   ],
   "source": [
    "best_candidate(res)"
   ]
  },
  {
   "cell_type": "code",
   "execution_count": 23,
   "metadata": {},
   "outputs": [],
   "source": [
    "infeas_cnt0, infeas_states0, infeas_map0 = find_infeas_states([0.0, 1e-3, 1, 0]);"
   ]
  },
  {
   "cell_type": "code",
   "execution_count": 36,
   "metadata": {},
   "outputs": [
    {
     "name": "stdout",
     "output_type": "stream",
     "text": [
      "infeas_cnt0 = 256.0\n"
     ]
    }
   ],
   "source": [
    "@show infeas_cnt0\n",
    "infeas_map = infeas_map0[1:15, 1:15]\n",
    "heatmap((1:size(infeas_map,1))*0.25, (1:size(infeas_map,2))*0.25, infeas_map, clim=(0,50))\n",
    "savefig(\"../results/heatmap0.png\")"
   ]
  },
  {
   "cell_type": "code",
   "execution_count": 35,
   "metadata": {},
   "outputs": [
    {
     "name": "stdout",
     "output_type": "stream",
     "text": [
      "infeas_cnt1 = 477.0\n"
     ]
    }
   ],
   "source": [
    "@show infeas_cnt1\n",
    "infeas_map = infeas_map1[1:15, 1:15]\n",
    "heatmap((1:size(infeas_map,1))*0.25, (1:size(infeas_map,2))*0.25, infeas_map, clim=(0,50))\n",
    "savefig(\"../results/heatmap1.png\")"
   ]
  },
  {
   "cell_type": "code",
   "execution_count": 21,
   "metadata": {},
   "outputs": [],
   "source": [
    "infeas_cnt2, infeas_states2, infeas_map2 = find_infeas_states([0.4414972796097171, 0.009026466785366772, 0.5477213165593641, 2.8919496714508557]);"
   ]
  },
  {
   "cell_type": "code",
   "execution_count": 32,
   "metadata": {},
   "outputs": [
    {
     "name": "stdout",
     "output_type": "stream",
     "text": [
      "infeas_cnt2 = 0.0\n"
     ]
    }
   ],
   "source": [
    "@show infeas_cnt2\n",
    "infeas_map = infeas_map2[1:15, 1:15]\n",
    "heatmap((1:size(infeas_map,1))*0.25, (1:size(infeas_map,2))*0.25, infeas_map, clim=(0,50))\n",
    "savefig(\"../results/heatmap2.png\")"
   ]
  },
  {
   "cell_type": "code",
   "execution_count": 17,
   "metadata": {},
   "outputs": [
    {
     "data": {
      "text/plain": [
       "(0.0, Dict{Any,Any}(), [0.0 0.0 … 0.0 0.0; 0.0 0.0 … 0.0 0.0; … ; 0.0 0.0 … 0.0 0.0; 0.0 0.0 … 0.0 0.0])"
      ]
     },
     "execution_count": 17,
     "metadata": {},
     "output_type": "execute_result"
    }
   ],
   "source": [
    "infeas_cnt3, infeas_states3, infeas_map3 = find_infeas_states([0.12037, 0.0186236, 0.157352, 0.521703])"
   ]
  },
  {
   "cell_type": "code",
   "execution_count": 19,
   "metadata": {},
   "outputs": [
    {
     "data": {
      "image/svg+xml": [
       "<?xml version=\"1.0\" encoding=\"utf-8\"?>\n",
       "<svg xmlns=\"http://www.w3.org/2000/svg\" xmlns:xlink=\"http://www.w3.org/1999/xlink\" width=\"600\" height=\"400\" viewBox=\"0 0 2400 1600\">\n",
       "<defs>\n",
       "  <clipPath id=\"clip740\">\n",
       "    <rect x=\"0\" y=\"0\" width=\"2400\" height=\"1600\"/>\n",
       "  </clipPath>\n",
       "</defs>\n",
       "<path clip-path=\"url(#clip740)\" d=\"\n",
       "M0 1600 L2400 1600 L2400 0 L0 0  Z\n",
       "  \" fill=\"#ffffff\" fill-rule=\"evenodd\" fill-opacity=\"1\"/>\n",
       "<defs>\n",
       "  <clipPath id=\"clip741\">\n",
       "    <rect x=\"480\" y=\"0\" width=\"1681\" height=\"1600\"/>\n",
       "  </clipPath>\n",
       "</defs>\n",
       "<path clip-path=\"url(#clip740)\" d=\"\n",
       "M155.765 1486.45 L2112.76 1486.45 L2112.76 47.2441 L155.765 47.2441  Z\n",
       "  \" fill=\"#ffffff\" fill-rule=\"evenodd\" fill-opacity=\"1\"/>\n",
       "<defs>\n",
       "  <clipPath id=\"clip742\">\n",
       "    <rect x=\"155\" y=\"47\" width=\"1958\" height=\"1440\"/>\n",
       "  </clipPath>\n",
       "</defs>\n",
       "<polyline clip-path=\"url(#clip742)\" style=\"stroke:#000000; stroke-linecap:butt; stroke-linejoin:round; stroke-width:2; stroke-opacity:0.1; fill:none\" points=\"\n",
       "  351.464,1486.45 351.464,47.2441 \n",
       "  \"/>\n",
       "<polyline clip-path=\"url(#clip742)\" style=\"stroke:#000000; stroke-linecap:butt; stroke-linejoin:round; stroke-width:2; stroke-opacity:0.1; fill:none\" points=\"\n",
       "  612.396,1486.45 612.396,47.2441 \n",
       "  \"/>\n",
       "<polyline clip-path=\"url(#clip742)\" style=\"stroke:#000000; stroke-linecap:butt; stroke-linejoin:round; stroke-width:2; stroke-opacity:0.1; fill:none\" points=\"\n",
       "  873.328,1486.45 873.328,47.2441 \n",
       "  \"/>\n",
       "<polyline clip-path=\"url(#clip742)\" style=\"stroke:#000000; stroke-linecap:butt; stroke-linejoin:round; stroke-width:2; stroke-opacity:0.1; fill:none\" points=\"\n",
       "  1134.26,1486.45 1134.26,47.2441 \n",
       "  \"/>\n",
       "<polyline clip-path=\"url(#clip742)\" style=\"stroke:#000000; stroke-linecap:butt; stroke-linejoin:round; stroke-width:2; stroke-opacity:0.1; fill:none\" points=\"\n",
       "  1395.19,1486.45 1395.19,47.2441 \n",
       "  \"/>\n",
       "<polyline clip-path=\"url(#clip742)\" style=\"stroke:#000000; stroke-linecap:butt; stroke-linejoin:round; stroke-width:2; stroke-opacity:0.1; fill:none\" points=\"\n",
       "  1656.12,1486.45 1656.12,47.2441 \n",
       "  \"/>\n",
       "<polyline clip-path=\"url(#clip742)\" style=\"stroke:#000000; stroke-linecap:butt; stroke-linejoin:round; stroke-width:2; stroke-opacity:0.1; fill:none\" points=\"\n",
       "  1917.06,1486.45 1917.06,47.2441 \n",
       "  \"/>\n",
       "<polyline clip-path=\"url(#clip740)\" style=\"stroke:#000000; stroke-linecap:butt; stroke-linejoin:round; stroke-width:4; stroke-opacity:1; fill:none\" points=\"\n",
       "  155.765,1486.45 2112.76,1486.45 \n",
       "  \"/>\n",
       "<polyline clip-path=\"url(#clip740)\" style=\"stroke:#000000; stroke-linecap:butt; stroke-linejoin:round; stroke-width:4; stroke-opacity:1; fill:none\" points=\"\n",
       "  351.464,1486.45 351.464,1469.18 \n",
       "  \"/>\n",
       "<polyline clip-path=\"url(#clip740)\" style=\"stroke:#000000; stroke-linecap:butt; stroke-linejoin:round; stroke-width:4; stroke-opacity:1; fill:none\" points=\"\n",
       "  612.396,1486.45 612.396,1469.18 \n",
       "  \"/>\n",
       "<polyline clip-path=\"url(#clip740)\" style=\"stroke:#000000; stroke-linecap:butt; stroke-linejoin:round; stroke-width:4; stroke-opacity:1; fill:none\" points=\"\n",
       "  873.328,1486.45 873.328,1469.18 \n",
       "  \"/>\n",
       "<polyline clip-path=\"url(#clip740)\" style=\"stroke:#000000; stroke-linecap:butt; stroke-linejoin:round; stroke-width:4; stroke-opacity:1; fill:none\" points=\"\n",
       "  1134.26,1486.45 1134.26,1469.18 \n",
       "  \"/>\n",
       "<polyline clip-path=\"url(#clip740)\" style=\"stroke:#000000; stroke-linecap:butt; stroke-linejoin:round; stroke-width:4; stroke-opacity:1; fill:none\" points=\"\n",
       "  1395.19,1486.45 1395.19,1469.18 \n",
       "  \"/>\n",
       "<polyline clip-path=\"url(#clip740)\" style=\"stroke:#000000; stroke-linecap:butt; stroke-linejoin:round; stroke-width:4; stroke-opacity:1; fill:none\" points=\"\n",
       "  1656.12,1486.45 1656.12,1469.18 \n",
       "  \"/>\n",
       "<polyline clip-path=\"url(#clip740)\" style=\"stroke:#000000; stroke-linecap:butt; stroke-linejoin:round; stroke-width:4; stroke-opacity:1; fill:none\" points=\"\n",
       "  1917.06,1486.45 1917.06,1469.18 \n",
       "  \"/>\n",
       "<path clip-path=\"url(#clip740)\" d=\"M329.346 1515.64 Q325.735 1515.64 323.906 1519.2 Q322.101 1522.75 322.101 1529.87 Q322.101 1536.98 323.906 1540.55 Q325.735 1544.09 329.346 1544.09 Q332.98 1544.09 334.786 1540.55 Q336.615 1536.98 336.615 1529.87 Q336.615 1522.75 334.786 1519.2 Q332.98 1515.64 329.346 1515.64 M329.346 1511.93 Q335.156 1511.93 338.212 1516.54 Q341.29 1521.12 341.29 1529.87 Q341.29 1538.6 338.212 1543.21 Q335.156 1547.79 329.346 1547.79 Q323.536 1547.79 320.457 1543.21 Q317.402 1538.6 317.402 1529.87 Q317.402 1521.12 320.457 1516.54 Q323.536 1511.93 329.346 1511.93 Z\" fill=\"#000000\" fill-rule=\"evenodd\" fill-opacity=\"1\" /><path clip-path=\"url(#clip740)\" d=\"M349.508 1541.24 L354.392 1541.24 L354.392 1547.12 L349.508 1547.12 L349.508 1541.24 Z\" fill=\"#000000\" fill-rule=\"evenodd\" fill-opacity=\"1\" /><path clip-path=\"url(#clip740)\" d=\"M364.624 1512.56 L382.98 1512.56 L382.98 1516.5 L368.906 1516.5 L368.906 1524.97 Q369.925 1524.62 370.943 1524.46 Q371.962 1524.27 372.98 1524.27 Q378.767 1524.27 382.147 1527.44 Q385.526 1530.62 385.526 1536.03 Q385.526 1541.61 382.054 1544.71 Q378.582 1547.79 372.263 1547.79 Q370.087 1547.79 367.818 1547.42 Q365.573 1547.05 363.165 1546.31 L363.165 1541.61 Q365.249 1542.74 367.471 1543.3 Q369.693 1543.86 372.17 1543.86 Q376.175 1543.86 378.512 1541.75 Q380.85 1539.64 380.85 1536.03 Q380.85 1532.42 378.512 1530.31 Q376.175 1528.21 372.17 1528.21 Q370.295 1528.21 368.42 1528.62 Q366.568 1529.04 364.624 1529.92 L364.624 1512.56 Z\" fill=\"#000000\" fill-rule=\"evenodd\" fill-opacity=\"1\" /><path clip-path=\"url(#clip740)\" d=\"M579.549 1543.18 L587.188 1543.18 L587.188 1516.82 L578.878 1518.49 L578.878 1514.23 L587.142 1512.56 L591.818 1512.56 L591.818 1543.18 L599.456 1543.18 L599.456 1547.12 L579.549 1547.12 L579.549 1543.18 Z\" fill=\"#000000\" fill-rule=\"evenodd\" fill-opacity=\"1\" /><path clip-path=\"url(#clip740)\" d=\"M608.901 1541.24 L613.785 1541.24 L613.785 1547.12 L608.901 1547.12 L608.901 1541.24 Z\" fill=\"#000000\" fill-rule=\"evenodd\" fill-opacity=\"1\" /><path clip-path=\"url(#clip740)\" d=\"M633.97 1515.64 Q630.359 1515.64 628.53 1519.2 Q626.725 1522.75 626.725 1529.87 Q626.725 1536.98 628.53 1540.55 Q630.359 1544.09 633.97 1544.09 Q637.604 1544.09 639.41 1540.55 Q641.239 1536.98 641.239 1529.87 Q641.239 1522.75 639.41 1519.2 Q637.604 1515.64 633.97 1515.64 M633.97 1511.93 Q639.78 1511.93 642.836 1516.54 Q645.914 1521.12 645.914 1529.87 Q645.914 1538.6 642.836 1543.21 Q639.78 1547.79 633.97 1547.79 Q628.16 1547.79 625.081 1543.21 Q622.026 1538.6 622.026 1529.87 Q622.026 1521.12 625.081 1516.54 Q628.16 1511.93 633.97 1511.93 Z\" fill=\"#000000\" fill-rule=\"evenodd\" fill-opacity=\"1\" /><path clip-path=\"url(#clip740)\" d=\"M840.979 1543.18 L848.618 1543.18 L848.618 1516.82 L840.308 1518.49 L840.308 1514.23 L848.571 1512.56 L853.247 1512.56 L853.247 1543.18 L860.886 1543.18 L860.886 1547.12 L840.979 1547.12 L840.979 1543.18 Z\" fill=\"#000000\" fill-rule=\"evenodd\" fill-opacity=\"1\" /><path clip-path=\"url(#clip740)\" d=\"M870.331 1541.24 L875.215 1541.24 L875.215 1547.12 L870.331 1547.12 L870.331 1541.24 Z\" fill=\"#000000\" fill-rule=\"evenodd\" fill-opacity=\"1\" /><path clip-path=\"url(#clip740)\" d=\"M885.446 1512.56 L903.803 1512.56 L903.803 1516.5 L889.729 1516.5 L889.729 1524.97 Q890.747 1524.62 891.766 1524.46 Q892.784 1524.27 893.803 1524.27 Q899.59 1524.27 902.969 1527.44 Q906.349 1530.62 906.349 1536.03 Q906.349 1541.61 902.877 1544.71 Q899.405 1547.79 893.085 1547.79 Q890.909 1547.79 888.641 1547.42 Q886.395 1547.05 883.988 1546.31 L883.988 1541.61 Q886.071 1542.74 888.293 1543.3 Q890.516 1543.86 892.993 1543.86 Q896.997 1543.86 899.335 1541.75 Q901.673 1539.64 901.673 1536.03 Q901.673 1532.42 899.335 1530.31 Q896.997 1528.21 892.993 1528.21 Q891.118 1528.21 889.243 1528.62 Q887.391 1529.04 885.446 1529.92 L885.446 1512.56 Z\" fill=\"#000000\" fill-rule=\"evenodd\" fill-opacity=\"1\" /><path clip-path=\"url(#clip740)\" d=\"M1105.5 1543.18 L1121.82 1543.18 L1121.82 1547.12 L1099.87 1547.12 L1099.87 1543.18 Q1102.54 1540.43 1107.12 1535.8 Q1111.73 1531.15 1112.91 1529.81 Q1115.15 1527.28 1116.03 1525.55 Q1116.93 1523.79 1116.93 1522.1 Q1116.93 1519.34 1114.99 1517.61 Q1113.07 1515.87 1109.97 1515.87 Q1107.77 1515.87 1105.31 1516.63 Q1102.88 1517.4 1100.11 1518.95 L1100.11 1514.23 Q1102.93 1513.09 1105.38 1512.51 Q1107.84 1511.93 1109.87 1511.93 Q1115.24 1511.93 1118.44 1514.62 Q1121.63 1517.31 1121.63 1521.8 Q1121.63 1523.93 1120.82 1525.85 Q1120.04 1527.74 1117.93 1530.34 Q1117.35 1531.01 1114.25 1534.23 Q1111.15 1537.42 1105.5 1543.18 Z\" fill=\"#000000\" fill-rule=\"evenodd\" fill-opacity=\"1\" /><path clip-path=\"url(#clip740)\" d=\"M1131.63 1541.24 L1136.52 1541.24 L1136.52 1547.12 L1131.63 1547.12 L1131.63 1541.24 Z\" fill=\"#000000\" fill-rule=\"evenodd\" fill-opacity=\"1\" /><path clip-path=\"url(#clip740)\" d=\"M1156.7 1515.64 Q1153.09 1515.64 1151.26 1519.2 Q1149.46 1522.75 1149.46 1529.87 Q1149.46 1536.98 1151.26 1540.55 Q1153.09 1544.09 1156.7 1544.09 Q1160.34 1544.09 1162.14 1540.55 Q1163.97 1536.98 1163.97 1529.87 Q1163.97 1522.75 1162.14 1519.2 Q1160.34 1515.64 1156.7 1515.64 M1156.7 1511.93 Q1162.51 1511.93 1165.57 1516.54 Q1168.65 1521.12 1168.65 1529.87 Q1168.65 1538.6 1165.57 1543.21 Q1162.51 1547.79 1156.7 1547.79 Q1150.89 1547.79 1147.81 1543.21 Q1144.76 1538.6 1144.76 1529.87 Q1144.76 1521.12 1147.81 1516.54 Q1150.89 1511.93 1156.7 1511.93 Z\" fill=\"#000000\" fill-rule=\"evenodd\" fill-opacity=\"1\" /><path clip-path=\"url(#clip740)\" d=\"M1366.93 1543.18 L1383.25 1543.18 L1383.25 1547.12 L1361.3 1547.12 L1361.3 1543.18 Q1363.97 1540.43 1368.55 1535.8 Q1373.16 1531.15 1374.34 1529.81 Q1376.58 1527.28 1377.46 1525.55 Q1378.36 1523.79 1378.36 1522.1 Q1378.36 1519.34 1376.42 1517.61 Q1374.5 1515.87 1371.4 1515.87 Q1369.2 1515.87 1366.74 1516.63 Q1364.31 1517.4 1361.54 1518.95 L1361.54 1514.23 Q1364.36 1513.09 1366.81 1512.51 Q1369.27 1511.93 1371.3 1511.93 Q1376.67 1511.93 1379.87 1514.62 Q1383.06 1517.31 1383.06 1521.8 Q1383.06 1523.93 1382.25 1525.85 Q1381.47 1527.74 1379.36 1530.34 Q1378.78 1531.01 1375.68 1534.23 Q1372.58 1537.42 1366.93 1543.18 Z\" fill=\"#000000\" fill-rule=\"evenodd\" fill-opacity=\"1\" /><path clip-path=\"url(#clip740)\" d=\"M1393.06 1541.24 L1397.95 1541.24 L1397.95 1547.12 L1393.06 1547.12 L1393.06 1541.24 Z\" fill=\"#000000\" fill-rule=\"evenodd\" fill-opacity=\"1\" /><path clip-path=\"url(#clip740)\" d=\"M1408.18 1512.56 L1426.53 1512.56 L1426.53 1516.5 L1412.46 1516.5 L1412.46 1524.97 Q1413.48 1524.62 1414.5 1524.46 Q1415.52 1524.27 1416.54 1524.27 Q1422.32 1524.27 1425.7 1527.44 Q1429.08 1530.62 1429.08 1536.03 Q1429.08 1541.61 1425.61 1544.71 Q1422.14 1547.79 1415.82 1547.79 Q1413.64 1547.79 1411.37 1547.42 Q1409.13 1547.05 1406.72 1546.31 L1406.72 1541.61 Q1408.8 1542.74 1411.03 1543.3 Q1413.25 1543.86 1415.72 1543.86 Q1419.73 1543.86 1422.07 1541.75 Q1424.41 1539.64 1424.41 1536.03 Q1424.41 1532.42 1422.07 1530.31 Q1419.73 1528.21 1415.72 1528.21 Q1413.85 1528.21 1411.97 1528.62 Q1410.12 1529.04 1408.18 1529.92 L1408.18 1512.56 Z\" fill=\"#000000\" fill-rule=\"evenodd\" fill-opacity=\"1\" /><path clip-path=\"url(#clip740)\" d=\"M1637.43 1528.49 Q1640.79 1529.2 1642.66 1531.47 Q1644.56 1533.74 1644.56 1537.07 Q1644.56 1542.19 1641.04 1544.99 Q1637.53 1547.79 1631.04 1547.79 Q1628.87 1547.79 1626.55 1547.35 Q1624.26 1546.93 1621.81 1546.08 L1621.81 1541.56 Q1623.75 1542.7 1626.07 1543.28 Q1628.38 1543.86 1630.9 1543.86 Q1635.3 1543.86 1637.59 1542.12 Q1639.91 1540.38 1639.91 1537.07 Q1639.91 1534.02 1637.76 1532.31 Q1635.63 1530.57 1631.81 1530.57 L1627.78 1530.57 L1627.78 1526.73 L1631.99 1526.73 Q1635.44 1526.73 1637.27 1525.36 Q1639.1 1523.97 1639.1 1521.38 Q1639.1 1518.72 1637.2 1517.31 Q1635.33 1515.87 1631.81 1515.87 Q1629.89 1515.87 1627.69 1516.29 Q1625.49 1516.7 1622.85 1517.58 L1622.85 1513.42 Q1625.51 1512.68 1627.83 1512.31 Q1630.16 1511.93 1632.22 1511.93 Q1637.55 1511.93 1640.65 1514.37 Q1643.75 1516.77 1643.75 1520.89 Q1643.75 1523.76 1642.11 1525.75 Q1640.47 1527.72 1637.43 1528.49 Z\" fill=\"#000000\" fill-rule=\"evenodd\" fill-opacity=\"1\" /><path clip-path=\"url(#clip740)\" d=\"M1653.43 1541.24 L1658.31 1541.24 L1658.31 1547.12 L1653.43 1547.12 L1653.43 1541.24 Z\" fill=\"#000000\" fill-rule=\"evenodd\" fill-opacity=\"1\" /><path clip-path=\"url(#clip740)\" d=\"M1678.5 1515.64 Q1674.89 1515.64 1673.06 1519.2 Q1671.25 1522.75 1671.25 1529.87 Q1671.25 1536.98 1673.06 1540.55 Q1674.89 1544.09 1678.5 1544.09 Q1682.13 1544.09 1683.94 1540.55 Q1685.77 1536.98 1685.77 1529.87 Q1685.77 1522.75 1683.94 1519.2 Q1682.13 1515.64 1678.5 1515.64 M1678.5 1511.93 Q1684.31 1511.93 1687.36 1516.54 Q1690.44 1521.12 1690.44 1529.87 Q1690.44 1538.6 1687.36 1543.21 Q1684.31 1547.79 1678.5 1547.79 Q1672.69 1547.79 1669.61 1543.21 Q1666.55 1538.6 1666.55 1529.87 Q1666.55 1521.12 1669.61 1516.54 Q1672.69 1511.93 1678.5 1511.93 Z\" fill=\"#000000\" fill-rule=\"evenodd\" fill-opacity=\"1\" /><path clip-path=\"url(#clip740)\" d=\"M1898.86 1528.49 Q1902.22 1529.2 1904.09 1531.47 Q1905.99 1533.74 1905.99 1537.07 Q1905.99 1542.19 1902.47 1544.99 Q1898.96 1547.79 1892.47 1547.79 Q1890.3 1547.79 1887.98 1547.35 Q1885.69 1546.93 1883.24 1546.08 L1883.24 1541.56 Q1885.18 1542.7 1887.5 1543.28 Q1889.81 1543.86 1892.33 1543.86 Q1896.73 1543.86 1899.02 1542.12 Q1901.34 1540.38 1901.34 1537.07 Q1901.34 1534.02 1899.19 1532.31 Q1897.06 1530.57 1893.24 1530.57 L1889.21 1530.57 L1889.21 1526.73 L1893.42 1526.73 Q1896.87 1526.73 1898.7 1525.36 Q1900.53 1523.97 1900.53 1521.38 Q1900.53 1518.72 1898.63 1517.31 Q1896.76 1515.87 1893.24 1515.87 Q1891.32 1515.87 1889.12 1516.29 Q1886.92 1516.7 1884.28 1517.58 L1884.28 1513.42 Q1886.94 1512.68 1889.26 1512.31 Q1891.59 1511.93 1893.65 1511.93 Q1898.98 1511.93 1902.08 1514.37 Q1905.18 1516.77 1905.18 1520.89 Q1905.18 1523.76 1903.54 1525.75 Q1901.89 1527.72 1898.86 1528.49 Z\" fill=\"#000000\" fill-rule=\"evenodd\" fill-opacity=\"1\" /><path clip-path=\"url(#clip740)\" d=\"M1914.86 1541.24 L1919.74 1541.24 L1919.74 1547.12 L1914.86 1547.12 L1914.86 1541.24 Z\" fill=\"#000000\" fill-rule=\"evenodd\" fill-opacity=\"1\" /><path clip-path=\"url(#clip740)\" d=\"M1929.97 1512.56 L1948.33 1512.56 L1948.33 1516.5 L1934.26 1516.5 L1934.26 1524.97 Q1935.27 1524.62 1936.29 1524.46 Q1937.31 1524.27 1938.33 1524.27 Q1944.12 1524.27 1947.5 1527.44 Q1950.88 1530.62 1950.88 1536.03 Q1950.88 1541.61 1947.4 1544.71 Q1943.93 1547.79 1937.61 1547.79 Q1935.44 1547.79 1933.17 1547.42 Q1930.92 1547.05 1928.52 1546.31 L1928.52 1541.61 Q1930.6 1542.74 1932.82 1543.3 Q1935.04 1543.86 1937.52 1543.86 Q1941.52 1543.86 1943.86 1541.75 Q1946.2 1539.64 1946.2 1536.03 Q1946.2 1532.42 1943.86 1530.31 Q1941.52 1528.21 1937.52 1528.21 Q1935.64 1528.21 1933.77 1528.62 Q1931.92 1529.04 1929.97 1529.92 L1929.97 1512.56 Z\" fill=\"#000000\" fill-rule=\"evenodd\" fill-opacity=\"1\" /><polyline clip-path=\"url(#clip742)\" style=\"stroke:#000000; stroke-linecap:butt; stroke-linejoin:round; stroke-width:2; stroke-opacity:0.1; fill:none\" points=\"\n",
       "  155.765,1342.53 2112.76,1342.53 \n",
       "  \"/>\n",
       "<polyline clip-path=\"url(#clip742)\" style=\"stroke:#000000; stroke-linecap:butt; stroke-linejoin:round; stroke-width:2; stroke-opacity:0.1; fill:none\" points=\"\n",
       "  155.765,1150.63 2112.76,1150.63 \n",
       "  \"/>\n",
       "<polyline clip-path=\"url(#clip742)\" style=\"stroke:#000000; stroke-linecap:butt; stroke-linejoin:round; stroke-width:2; stroke-opacity:0.1; fill:none\" points=\"\n",
       "  155.765,958.74 2112.76,958.74 \n",
       "  \"/>\n",
       "<polyline clip-path=\"url(#clip742)\" style=\"stroke:#000000; stroke-linecap:butt; stroke-linejoin:round; stroke-width:2; stroke-opacity:0.1; fill:none\" points=\"\n",
       "  155.765,766.846 2112.76,766.846 \n",
       "  \"/>\n",
       "<polyline clip-path=\"url(#clip742)\" style=\"stroke:#000000; stroke-linecap:butt; stroke-linejoin:round; stroke-width:2; stroke-opacity:0.1; fill:none\" points=\"\n",
       "  155.765,574.952 2112.76,574.952 \n",
       "  \"/>\n",
       "<polyline clip-path=\"url(#clip742)\" style=\"stroke:#000000; stroke-linecap:butt; stroke-linejoin:round; stroke-width:2; stroke-opacity:0.1; fill:none\" points=\"\n",
       "  155.765,383.058 2112.76,383.058 \n",
       "  \"/>\n",
       "<polyline clip-path=\"url(#clip742)\" style=\"stroke:#000000; stroke-linecap:butt; stroke-linejoin:round; stroke-width:2; stroke-opacity:0.1; fill:none\" points=\"\n",
       "  155.765,191.164 2112.76,191.164 \n",
       "  \"/>\n",
       "<polyline clip-path=\"url(#clip740)\" style=\"stroke:#000000; stroke-linecap:butt; stroke-linejoin:round; stroke-width:4; stroke-opacity:1; fill:none\" points=\"\n",
       "  155.765,1486.45 155.765,47.2441 \n",
       "  \"/>\n",
       "<polyline clip-path=\"url(#clip740)\" style=\"stroke:#000000; stroke-linecap:butt; stroke-linejoin:round; stroke-width:4; stroke-opacity:1; fill:none\" points=\"\n",
       "  155.765,1342.53 179.249,1342.53 \n",
       "  \"/>\n",
       "<polyline clip-path=\"url(#clip740)\" style=\"stroke:#000000; stroke-linecap:butt; stroke-linejoin:round; stroke-width:4; stroke-opacity:1; fill:none\" points=\"\n",
       "  155.765,1150.63 179.249,1150.63 \n",
       "  \"/>\n",
       "<polyline clip-path=\"url(#clip740)\" style=\"stroke:#000000; stroke-linecap:butt; stroke-linejoin:round; stroke-width:4; stroke-opacity:1; fill:none\" points=\"\n",
       "  155.765,958.74 179.249,958.74 \n",
       "  \"/>\n",
       "<polyline clip-path=\"url(#clip740)\" style=\"stroke:#000000; stroke-linecap:butt; stroke-linejoin:round; stroke-width:4; stroke-opacity:1; fill:none\" points=\"\n",
       "  155.765,766.846 179.249,766.846 \n",
       "  \"/>\n",
       "<polyline clip-path=\"url(#clip740)\" style=\"stroke:#000000; stroke-linecap:butt; stroke-linejoin:round; stroke-width:4; stroke-opacity:1; fill:none\" points=\"\n",
       "  155.765,574.952 179.249,574.952 \n",
       "  \"/>\n",
       "<polyline clip-path=\"url(#clip740)\" style=\"stroke:#000000; stroke-linecap:butt; stroke-linejoin:round; stroke-width:4; stroke-opacity:1; fill:none\" points=\"\n",
       "  155.765,383.058 179.249,383.058 \n",
       "  \"/>\n",
       "<polyline clip-path=\"url(#clip740)\" style=\"stroke:#000000; stroke-linecap:butt; stroke-linejoin:round; stroke-width:4; stroke-opacity:1; fill:none\" points=\"\n",
       "  155.765,191.164 179.249,191.164 \n",
       "  \"/>\n",
       "<path clip-path=\"url(#clip740)\" d=\"M63.5847 1328.33 Q59.9736 1328.33 58.1449 1331.89 Q56.3393 1335.43 56.3393 1342.56 Q56.3393 1349.67 58.1449 1353.23 Q59.9736 1356.78 63.5847 1356.78 Q67.2189 1356.78 69.0244 1353.23 Q70.8531 1349.67 70.8531 1342.56 Q70.8531 1335.43 69.0244 1331.89 Q67.2189 1328.33 63.5847 1328.33 M63.5847 1324.62 Q69.3948 1324.62 72.4503 1329.23 Q75.529 1333.81 75.529 1342.56 Q75.529 1351.29 72.4503 1355.9 Q69.3948 1360.48 63.5847 1360.48 Q57.7745 1360.48 54.6958 1355.9 Q51.6403 1351.29 51.6403 1342.56 Q51.6403 1333.81 54.6958 1329.23 Q57.7745 1324.62 63.5847 1324.62 Z\" fill=\"#000000\" fill-rule=\"evenodd\" fill-opacity=\"1\" /><path clip-path=\"url(#clip740)\" d=\"M83.7466 1353.93 L88.6308 1353.93 L88.6308 1359.81 L83.7466 1359.81 L83.7466 1353.93 Z\" fill=\"#000000\" fill-rule=\"evenodd\" fill-opacity=\"1\" /><path clip-path=\"url(#clip740)\" d=\"M98.8622 1325.25 L117.219 1325.25 L117.219 1329.18 L103.145 1329.18 L103.145 1337.65 Q104.163 1337.31 105.182 1337.15 Q106.2 1336.96 107.219 1336.96 Q113.006 1336.96 116.385 1340.13 Q119.765 1343.3 119.765 1348.72 Q119.765 1354.3 116.293 1357.4 Q112.82 1360.48 106.501 1360.48 Q104.325 1360.48 102.057 1360.11 Q99.8113 1359.74 97.4039 1359 L97.4039 1354.3 Q99.4872 1355.43 101.709 1355.99 Q103.932 1356.54 106.408 1356.54 Q110.413 1356.54 112.751 1354.44 Q115.089 1352.33 115.089 1348.72 Q115.089 1345.11 112.751 1343 Q110.413 1340.9 106.408 1340.9 Q104.534 1340.9 102.659 1341.31 Q100.807 1341.73 98.8622 1342.61 L98.8622 1325.25 Z\" fill=\"#000000\" fill-rule=\"evenodd\" fill-opacity=\"1\" /><path clip-path=\"url(#clip740)\" d=\"M53.3995 1163.98 L61.0384 1163.98 L61.0384 1137.61 L52.7282 1139.28 L52.7282 1135.02 L60.9921 1133.35 L65.668 1133.35 L65.668 1163.98 L73.3068 1163.98 L73.3068 1167.91 L53.3995 1167.91 L53.3995 1163.98 Z\" fill=\"#000000\" fill-rule=\"evenodd\" fill-opacity=\"1\" /><path clip-path=\"url(#clip740)\" d=\"M82.7512 1162.03 L87.6354 1162.03 L87.6354 1167.91 L82.7512 1167.91 L82.7512 1162.03 Z\" fill=\"#000000\" fill-rule=\"evenodd\" fill-opacity=\"1\" /><path clip-path=\"url(#clip740)\" d=\"M107.821 1136.43 Q104.209 1136.43 102.381 1140 Q100.575 1143.54 100.575 1150.67 Q100.575 1157.77 102.381 1161.34 Q104.209 1164.88 107.821 1164.88 Q111.455 1164.88 113.26 1161.34 Q115.089 1157.77 115.089 1150.67 Q115.089 1143.54 113.26 1140 Q111.455 1136.43 107.821 1136.43 M107.821 1132.73 Q113.631 1132.73 116.686 1137.34 Q119.765 1141.92 119.765 1150.67 Q119.765 1159.4 116.686 1164 Q113.631 1168.58 107.821 1168.58 Q102.01 1168.58 98.9317 1164 Q95.8761 1159.4 95.8761 1150.67 Q95.8761 1141.92 98.9317 1137.34 Q102.01 1132.73 107.821 1132.73 Z\" fill=\"#000000\" fill-rule=\"evenodd\" fill-opacity=\"1\" /><path clip-path=\"url(#clip740)\" d=\"M54.3949 972.085 L62.0337 972.085 L62.0337 945.719 L53.7236 947.386 L53.7236 943.126 L61.9874 941.46 L66.6633 941.46 L66.6633 972.085 L74.3022 972.085 L74.3022 976.02 L54.3949 976.02 L54.3949 972.085 Z\" fill=\"#000000\" fill-rule=\"evenodd\" fill-opacity=\"1\" /><path clip-path=\"url(#clip740)\" d=\"M83.7466 970.14 L88.6308 970.14 L88.6308 976.02 L83.7466 976.02 L83.7466 970.14 Z\" fill=\"#000000\" fill-rule=\"evenodd\" fill-opacity=\"1\" /><path clip-path=\"url(#clip740)\" d=\"M98.8622 941.46 L117.219 941.46 L117.219 945.395 L103.145 945.395 L103.145 953.867 Q104.163 953.52 105.182 953.358 Q106.2 953.173 107.219 953.173 Q113.006 953.173 116.385 956.344 Q119.765 959.515 119.765 964.932 Q119.765 970.511 116.293 973.612 Q112.82 976.691 106.501 976.691 Q104.325 976.691 102.057 976.321 Q99.8113 975.95 97.4039 975.21 L97.4039 970.511 Q99.4872 971.645 101.709 972.2 Q103.932 972.756 106.408 972.756 Q110.413 972.756 112.751 970.649 Q115.089 968.543 115.089 964.932 Q115.089 961.321 112.751 959.214 Q110.413 957.108 106.408 957.108 Q104.534 957.108 102.659 957.525 Q100.807 957.941 98.8622 958.821 L98.8622 941.46 Z\" fill=\"#000000\" fill-rule=\"evenodd\" fill-opacity=\"1\" /><path clip-path=\"url(#clip740)\" d=\"M56.6171 780.191 L72.9365 780.191 L72.9365 784.126 L50.9921 784.126 L50.9921 780.191 Q53.6541 777.436 58.2375 772.807 Q62.8439 768.154 64.0245 766.811 Q66.2698 764.288 67.1494 762.552 Q68.0522 760.793 68.0522 759.103 Q68.0522 756.348 66.1078 754.612 Q64.1865 752.876 61.0847 752.876 Q58.8856 752.876 56.4319 753.64 Q54.0014 754.404 51.2236 755.955 L51.2236 751.233 Q54.0477 750.098 56.5014 749.52 Q58.955 748.941 60.9921 748.941 Q66.3624 748.941 69.5568 751.626 Q72.7513 754.311 72.7513 758.802 Q72.7513 760.932 71.9411 762.853 Q71.1541 764.751 69.0476 767.344 Q68.4689 768.015 65.367 771.233 Q62.2652 774.427 56.6171 780.191 Z\" fill=\"#000000\" fill-rule=\"evenodd\" fill-opacity=\"1\" /><path clip-path=\"url(#clip740)\" d=\"M82.7512 778.246 L87.6354 778.246 L87.6354 784.126 L82.7512 784.126 L82.7512 778.246 Z\" fill=\"#000000\" fill-rule=\"evenodd\" fill-opacity=\"1\" /><path clip-path=\"url(#clip740)\" d=\"M107.821 752.645 Q104.209 752.645 102.381 756.209 Q100.575 759.751 100.575 766.881 Q100.575 773.987 102.381 777.552 Q104.209 781.094 107.821 781.094 Q111.455 781.094 113.26 777.552 Q115.089 773.987 115.089 766.881 Q115.089 759.751 113.26 756.209 Q111.455 752.645 107.821 752.645 M107.821 748.941 Q113.631 748.941 116.686 753.547 Q119.765 758.131 119.765 766.881 Q119.765 775.608 116.686 780.214 Q113.631 784.797 107.821 784.797 Q102.01 784.797 98.9317 780.214 Q95.8761 775.608 95.8761 766.881 Q95.8761 758.131 98.9317 753.547 Q102.01 748.941 107.821 748.941 Z\" fill=\"#000000\" fill-rule=\"evenodd\" fill-opacity=\"1\" /><path clip-path=\"url(#clip740)\" d=\"M57.6125 588.297 L73.9318 588.297 L73.9318 592.232 L51.9875 592.232 L51.9875 588.297 Q54.6495 585.542 59.2328 580.913 Q63.8393 576.26 65.0198 574.917 Q67.2652 572.394 68.1448 570.658 Q69.0476 568.899 69.0476 567.209 Q69.0476 564.455 67.1032 562.718 Q65.1819 560.982 62.08 560.982 Q59.881 560.982 57.4273 561.746 Q54.9967 562.51 52.219 564.061 L52.219 559.339 Q55.043 558.205 57.4967 557.626 Q59.9504 557.047 61.9874 557.047 Q67.3578 557.047 70.5522 559.732 Q73.7466 562.417 73.7466 566.908 Q73.7466 569.038 72.9365 570.959 Q72.1494 572.857 70.0429 575.45 Q69.4642 576.121 66.3624 579.339 Q63.2606 582.533 57.6125 588.297 Z\" fill=\"#000000\" fill-rule=\"evenodd\" fill-opacity=\"1\" /><path clip-path=\"url(#clip740)\" d=\"M83.7466 586.353 L88.6308 586.353 L88.6308 592.232 L83.7466 592.232 L83.7466 586.353 Z\" fill=\"#000000\" fill-rule=\"evenodd\" fill-opacity=\"1\" /><path clip-path=\"url(#clip740)\" d=\"M98.8622 557.672 L117.219 557.672 L117.219 561.607 L103.145 561.607 L103.145 570.079 Q104.163 569.732 105.182 569.57 Q106.2 569.385 107.219 569.385 Q113.006 569.385 116.385 572.556 Q119.765 575.728 119.765 581.144 Q119.765 586.723 116.293 589.825 Q112.82 592.903 106.501 592.903 Q104.325 592.903 102.057 592.533 Q99.8113 592.163 97.4039 591.422 L97.4039 586.723 Q99.4872 587.857 101.709 588.413 Q103.932 588.968 106.408 588.968 Q110.413 588.968 112.751 586.862 Q115.089 584.755 115.089 581.144 Q115.089 577.533 112.751 575.427 Q110.413 573.32 106.408 573.32 Q104.534 573.32 102.659 573.737 Q100.807 574.154 98.8622 575.033 L98.8622 557.672 Z\" fill=\"#000000\" fill-rule=\"evenodd\" fill-opacity=\"1\" /><path clip-path=\"url(#clip740)\" d=\"M66.7559 381.704 Q70.1124 382.422 71.9874 384.69 Q73.8855 386.959 73.8855 390.292 Q73.8855 395.408 70.367 398.209 Q66.8485 401.01 60.3671 401.01 Q58.1912 401.01 55.8764 400.57 Q53.5847 400.153 51.131 399.297 L51.131 394.783 Q53.0754 395.917 55.3903 396.496 Q57.7051 397.074 60.2282 397.074 Q64.6263 397.074 66.918 395.338 Q69.2328 393.602 69.2328 390.292 Q69.2328 387.237 67.08 385.524 Q64.9504 383.787 61.131 383.787 L57.1032 383.787 L57.1032 379.945 L61.3161 379.945 Q64.7652 379.945 66.5939 378.579 Q68.4226 377.19 68.4226 374.598 Q68.4226 371.936 66.5245 370.524 Q64.6495 369.088 61.131 369.088 Q59.2097 369.088 57.0106 369.505 Q54.8115 369.922 52.1727 370.801 L52.1727 366.635 Q54.8347 365.894 57.1495 365.524 Q59.4875 365.153 61.5476 365.153 Q66.8717 365.153 69.9735 367.584 Q73.0753 369.991 73.0753 374.112 Q73.0753 376.982 71.4318 378.973 Q69.7883 380.94 66.7559 381.704 Z\" fill=\"#000000\" fill-rule=\"evenodd\" fill-opacity=\"1\" /><path clip-path=\"url(#clip740)\" d=\"M82.7512 394.459 L87.6354 394.459 L87.6354 400.338 L82.7512 400.338 L82.7512 394.459 Z\" fill=\"#000000\" fill-rule=\"evenodd\" fill-opacity=\"1\" /><path clip-path=\"url(#clip740)\" d=\"M107.821 368.857 Q104.209 368.857 102.381 372.422 Q100.575 375.963 100.575 383.093 Q100.575 390.199 102.381 393.764 Q104.209 397.306 107.821 397.306 Q111.455 397.306 113.26 393.764 Q115.089 390.199 115.089 383.093 Q115.089 375.963 113.26 372.422 Q111.455 368.857 107.821 368.857 M107.821 365.153 Q113.631 365.153 116.686 369.76 Q119.765 374.343 119.765 383.093 Q119.765 391.82 116.686 396.426 Q113.631 401.01 107.821 401.01 Q102.01 401.01 98.9317 396.426 Q95.8761 391.82 95.8761 383.093 Q95.8761 374.343 98.9317 369.76 Q102.01 365.153 107.821 365.153 Z\" fill=\"#000000\" fill-rule=\"evenodd\" fill-opacity=\"1\" /><path clip-path=\"url(#clip740)\" d=\"M67.7513 189.81 Q71.1078 190.528 72.9827 192.796 Q74.8809 195.065 74.8809 198.398 Q74.8809 203.514 71.3624 206.315 Q67.8439 209.116 61.3624 209.116 Q59.1865 209.116 56.8717 208.676 Q54.5801 208.259 52.1264 207.403 L52.1264 202.889 Q54.0708 204.023 56.3856 204.602 Q58.7004 205.181 61.2236 205.181 Q65.6217 205.181 67.9133 203.444 Q70.2281 201.708 70.2281 198.398 Q70.2281 195.343 68.0754 193.63 Q65.9457 191.894 62.1263 191.894 L58.0986 191.894 L58.0986 188.051 L62.3115 188.051 Q65.7606 188.051 67.5893 186.685 Q69.418 185.296 69.418 182.704 Q69.418 180.042 67.5198 178.63 Q65.6448 177.195 62.1263 177.195 Q60.205 177.195 58.006 177.611 Q55.8069 178.028 53.168 178.908 L53.168 174.741 Q55.8301 174 58.1449 173.63 Q60.4828 173.259 62.543 173.259 Q67.867 173.259 70.9689 175.69 Q74.0707 178.097 74.0707 182.218 Q74.0707 185.088 72.4272 187.079 Q70.7837 189.046 67.7513 189.81 Z\" fill=\"#000000\" fill-rule=\"evenodd\" fill-opacity=\"1\" /><path clip-path=\"url(#clip740)\" d=\"M83.7466 202.565 L88.6308 202.565 L88.6308 208.444 L83.7466 208.444 L83.7466 202.565 Z\" fill=\"#000000\" fill-rule=\"evenodd\" fill-opacity=\"1\" /><path clip-path=\"url(#clip740)\" d=\"M98.8622 173.884 L117.219 173.884 L117.219 177.82 L103.145 177.82 L103.145 186.292 Q104.163 185.945 105.182 185.783 Q106.2 185.597 107.219 185.597 Q113.006 185.597 116.385 188.769 Q119.765 191.94 119.765 197.357 Q119.765 202.935 116.293 206.037 Q112.82 209.116 106.501 209.116 Q104.325 209.116 102.057 208.745 Q99.8113 208.375 97.4039 207.634 L97.4039 202.935 Q99.4872 204.069 101.709 204.625 Q103.932 205.181 106.408 205.181 Q110.413 205.181 112.751 203.074 Q115.089 200.968 115.089 197.357 Q115.089 193.745 112.751 191.639 Q110.413 189.533 106.408 189.533 Q104.534 189.533 102.659 189.949 Q100.807 190.366 98.8622 191.245 L98.8622 173.884 Z\" fill=\"#000000\" fill-rule=\"evenodd\" fill-opacity=\"1\" /><g clip-path=\"url(#clip742)\">\n",
       "<image width=\"1957\" height=\"1439\" xlink:href=\"data:image/png;base64,\n",
       "iVBORw0KGgoAAAANSUhEUgAAB6UAAAWfCAYAAADjySM1AAAgAElEQVR4nOzZwQkAIRDAwFWu/5bP\n",
       "KoIgMxXknzXz/QMAAAAAAAAAgX07AAAAAAAAAIB3mdIAAAAAAAAAZExpAAAAAAAAADKmNAAAAAAA\n",
       "AAAZUxoAAAAAAACAjCkNAAAAAAAAQMaUBgAAAAAAACBjSgMAAAAAAACQMaUBAAAAAAAAyJjSAAAA\n",
       "AAAAAGRMaQAAAAAAAAAypjQAAAAAAAAAGVMaAAAAAAAAgIwpDQAAAAAAAEDGlAYAAAAAAAAgY0oD\n",
       "AAAAAAAAkDGlAQAAAAAAAMiY0gAAAAAAAABkTGkAAAAAAAAAMqY0AAAAAAAAABlTGgAAAAAAAICM\n",
       "KQ0AAAAAAABAxpQGAAAAAAAAIGNKAwAAAAAAAJAxpQEAAAAAAADImNIAAAAAAAAAZExpAAAAAAAA\n",
       "ADKmNAAAAAAAAAAZUxoAAAAAAACAjCkNAAAAAAAAQMaUBgAAAAAAACBjSgMAAAAAAACQMaUBAAAA\n",
       "AAAAyJjSAAAAAAAAAGRMaQAAAAAAAAAypjQAAAAAAAAAGVMaAAAAAAAAgIwpDQAAAAAAAEDGlAYA\n",
       "AAAAAAAgY0oDAAAAAAAAkDGlAQAAAAAAAMiY0gAAAAAAAABkTGkAAAAAAAAAMqY0AAAAAAAAABlT\n",
       "GgAAAAAAAICMKQ0AAAAAAABAxpQGAAAAAAAAIGNKAwAAAAAAAJAxpQEAAAAAAADImNIAAAAAAAAA\n",
       "ZExpAAAAAAAAADKmNAAAAAAAAAAZUxoAAAAAAACAjCkNAAAAAAAAQMaUBgAAAAAAACBjSgMAAAAA\n",
       "AACQMaUBAAAAAAAAyJjSAAAAAAAAAGRMaQAAAAAAAAAypjQAAAAAAAAAGVMaAAAAAAAAgIwpDQAA\n",
       "AAAAAEDGlAYAAAAAAAAgY0oDAAAAAAAAkDGlAQAAAAAAAMiY0gAAAAAAAABkTGkAAAAAAAAAMqY0\n",
       "AAAAAAAAABlTGgAAAAAAAICMKQ0AAAAAAABAxpQGAAAAAAAAIGNKAwAAAAAAAJAxpQEAAAAAAADI\n",
       "mNIAAAAAAAAAZExpAAAAAAAAADKmNAAAAAAAAAAZUxoAAAAAAACAjCkNAAAAAAAAQMaUBgAAAAAA\n",
       "ACBjSgMAAAAAAACQMaUBAAAAAAAAyJjSAAAAAAAAAGRMaQAAAAAAAAAypjQAAAAAAAAAGVMaAAAA\n",
       "AAAAgIwpDQAAAAAAAEDGlAYAAAAAAAAgY0oDAAAAAAAAkDGlAQAAAAAAAMiY0gAAAAAAAABkTGkA\n",
       "AAAAAAAAMqY0AAAAAAAAABlTGgAAAAAAAICMKQ0AAAAAAABAxpQGAAAAAAAAIGNKAwAAAAAAAJAx\n",
       "pQEAAAAAAADImNIAAAAAAAAAZExpAAAAAAAAADKmNAAAAAAAAAAZUxoAAAAAAACAjCkNAAAAAAAA\n",
       "QMaUBgAAAAAAACBjSgMAAAAAAACQMaUBAAAAAAAAyJjSAAAAAAAAAGRMaQAAAAAAAAAypjQAAAAA\n",
       "AAAAGVMaAAAAAAAAgIwpDQAAAAAAAEDGlAYAAAAAAAAgY0oDAAAAAAAAkDGlAQAAAAAAAMiY0gAA\n",
       "AAAAAABkTGkAAAAAAAAAMqY0AAAAAAAAABlTGgAAAAAAAICMKQ0AAAAAAABAxpQGAAAAAAAAIGNK\n",
       "AwAAAAAAAJAxpQEAAAAAAADImNIAAAAAAAAAZExpAAAAAAAAADKmNAAAAAAAAAAZUxoAAAAAAACA\n",
       "jCkNAAAAAAAAQMaUBgAAAAAAACBjSgMAAAAAAACQMaUBAAAAAAAAyJjSAAAAAAAAAGRMaQAAAAAA\n",
       "AAAypjQAAAAAAAAAGVMaAAAAAAAAgIwpDQAAAAAAAEDGlAYAAAAAAAAgY0oDAAAAAAAAkDGlAQAA\n",
       "AAAAAMiY0gAAAAAAAABkTGkAAAAAAAAAMqY0AAAAAAAAABlTGgAAAAAAAICMKQ0AAAAAAABAxpQG\n",
       "AAAAAAAAIGNKAwAAAAAAAJAxpQEAAAAAAADImNIAAAAAAAAAZExpAAAAAAAAADKmNAAAAAAAAAAZ\n",
       "UxoAAAAAAACAjCkNAAAAAAAAQMaUBgAAAAAAACBjSgMAAAAAAACQMaUBAAAAAAAAyJjSAAAAAAAA\n",
       "AGRMaQAAAAAAAAAypjQAAAAAAAAAGVMaAAAAAAAAgIwpDQAAAAAAAEDGlAYAAAAAAAAgY0oDAAAA\n",
       "AAAAkDGlAQAAAAAAAMiY0gAAAAAAAABkTGkAAAAAAAAAMqY0AAAAAAAAABlTGgAAAAAAAICMKQ0A\n",
       "AAAAAABAxpQGAAAAAAAAIGNKAwAAAAAAAJAxpQEAAAAAAADImNIAAAAAAAAAZExpAAAAAAAAADKm\n",
       "NAAAAAAAAAAZUxoAAAAAAACAjCkNAAAAAAAAQMaUBgAAAAAAACBjSgMAAAAAAACQMaUBAAAAAAAA\n",
       "yJjSAAAAAAAAAGRMaQAAAAAAAAAypjQAAAAAAAAAGVMaAAAAAAAAgIwpDQAAAAAAAEDGlAYAAAAA\n",
       "AAAgY0oDAAAAAAAAkDGlAQAAAAAAAMiY0gAAAAAAAABkTGkAAAAAAAAAMqY0AAAAAAAAABlTGgAA\n",
       "AAAAAICMKQ0AAAAAAABAxpQGAAAAAAAAIGNKAwAAAAAAAJAxpQEAAAAAAADImNIAAAAAAAAAZExp\n",
       "AAAAAAAAADKmNAAAAAAAAAAZUxoAAAAAAACAjCkNAAAAAAAAQMaUBgAAAAAAACBjSgMAAAAAAACQ\n",
       "MaUBAAAAAAAAyJjSAAAAAAAAAGRMaQAAAAAAAAAypjQAAAAAAAAAGVMaAAAAAAAAgIwpDQAAAAAA\n",
       "AEDGlAYAAAAAAAAgY0oDAAAAAAAAkDGlAQAAAAAAAMiY0gAAAAAAAABkTGkAAAAAAAAAMqY0AAAA\n",
       "AAAAABlTGgAAAAAAAICMKQ0AAAAAAABAxpQGAAAAAAAAIGNKAwAAAAAAAJAxpQEAAAAAAADImNIA\n",
       "AAAAAAAAZExpAAAAAAAAADKmNAAAAAAAAAAZUxoAAAAAAACAjCkNAAAAAAAAQMaUBgAAAAAAACBj\n",
       "SgMAAAAAAACQMaUBAAAAAAAAyJjSAAAAAAAAAGRMaQAAAAAAAAAypjQAAAAAAAAAGVMaAAAAAAAA\n",
       "gIwpDQAAAAAAAEDGlAYAAAAAAAAgY0oDAAAAAAAAkDGlAQAAAAAAAMiY0gAAAAAAAABkTGkAAAAA\n",
       "AAAAMqY0AAAAAAAAABlTGgAAAAAAAICMKQ0AAAAAAABAxpQGAAAAAAAAIGNKAwAAAAAAAJAxpQEA\n",
       "AAAAAADImNIAAAAAAAAAZExpAAAAAAAAADKmNAAAAAAAAAAZUxoAAAAAAACAjCkNAAAAAAAAQMaU\n",
       "BgAAAAAAACBjSgMAAAAAAACQMaUBAAAAAAAAyJjSAAAAAAAAAGRMaQAAAAAAAAAypjQAAAAAAAAA\n",
       "GVMaAAAAAAAAgIwpDQAAAAAAAEDGlAYAAAAAAAAgY0oDAAAAAAAAkDGlAQAAAAAAAMiY0gAAAAAA\n",
       "AABkTGkAAAAAAAAAMqY0AAAAAAAAABlTGgAAAAAAAICMKQ0AAAAAAABAxpQGAAAAAAAAIGNKAwAA\n",
       "AAAAAJAxpQEAAAAAAADImNIAAAAAAAAAZExpAAAAAAAAADKmNAAAAAAAAAAZUxoAAAAAAACAjCkN\n",
       "AAAAAAAAQMaUBgAAAAAAACBjSgMAAAAAAACQMaUBAAAAAAAAyJjSAAAAAAAAAGRMaQAAAAAAAAAy\n",
       "pjQAAAAAAAAAGVMaAAAAAAAAgIwpDQAAAAAAAEDGlAYAAAAAAAAgY0oDAAAAAAAAkDGlAQAAAAAA\n",
       "AMiY0gAAAAAAAABkTGkAAAAAAAAAMqY0AAAAAAAAABlTGgAAAAAAAICMKQ0AAAAAAABAxpQGAAAA\n",
       "AAAAIGNKAwAAAAAAAJAxpQEAAAAAAADImNIAAAAAAAAAZExpAAAAAAAAADKmNAAAAAAAAAAZUxoA\n",
       "AAAAAACAjCkNAAAAAAAAQMaUBgAAAAAAACBjSgMAAAAAAACQMaUBAAAAAAAAyJjSAAAAAAAAAGRM\n",
       "aQAAAAAAAAAypjQAAAAAAAAAGVMaAAAAAAAAgIwpDQAAAAAAAEDGlAYAAAAAAAAgY0oDAAAAAAAA\n",
       "kDGlAQAAAAAAAMiY0gAAAAAAAABkTGkAAAAAAAAAMqY0AAAAAAAAABlTGgAAAAAAAICMKQ0AAAAA\n",
       "AABAxpQGAAAAAAAAIGNKAwAAAAAAAJAxpQEAAAAAAADImNIAAAAAAAAAZExpAAAAAAAAADKmNAAA\n",
       "AAAAAAAZUxoAAAAAAACAjCkNAAAAAAAAQMaUBgAAAAAAACBjSgMAAAAAAACQMaUBAAAAAAAAyJjS\n",
       "AAAAAAAAAGRMaQAAAAAAAAAypjQAAAAAAAAAGVMaAAAAAAAAgIwpDQAAAAAAAEDGlAYAAAAAAAAg\n",
       "Y0oDAAAAAAAAkDGlAQAAAAAAAMiY0gAAAAAAAABkTGkAAAAAAAAAMqY0AAAAAAAAABlTGgAAAAAA\n",
       "AICMKQ0AAAAAAABAxpQGAAAAAAAAIGNKAwAAAAAAAJAxpQEAAAAAAADImNIAAAAAAAAAZExpAAAA\n",
       "AAAAADKmNAAAAAAAAAAZUxoAAAAAAACAjCkNAAAAAAAAQMaUBgAAAAAAACBjSgMAAAAAAACQMaUB\n",
       "AAAAAAAAyJjSAAAAAAAAAGRMaQAAAAAAAAAypjQAAAAAAAAAGVMaAAAAAAAAgIwpDQAAAAAAAEDG\n",
       "lAYAAAAAAAAgY0oDAAAAAAAAkDGlAQAAAAAAAMiY0gAAAAAAAABkTGkAAAAAAAAAMqY0AAAAAAAA\n",
       "ABlTGgAAAAAAAICMKQ0AAAAAAABAxpQGAAAAAAAAIGNKAwAAAAAAAJAxpQEAAAAAAADImNIAAAAA\n",
       "AAAAZExpAAAAAAAAADKmNAAAAAAAAAAZUxoAAAAAAACAjCkNAAAAAAAAQMaUBgAAAAAAACBjSgMA\n",
       "AAAAAACQMaUBAAAAAAAAyJjSAAAAAAAAAGRMaQAAAAAAAAAypjQAAAAAAAAAGVMaAAAAAAAAgIwp\n",
       "DQAAAAAAAEDGlAYAAAAAAAAgY0oDAAAAAAAAkDGlAQAAAAAAAMiY0gAAAAAAAABkTGkAAAAAAAAA\n",
       "MqY0AAAAAAAAABlTGgAAAAAAAICMKQ0AAAAAAABAxpQGAAAAAAAAIGNKAwAAAAAAAJAxpQEAAAAA\n",
       "AADImNIAAAAAAAAAZExpAAAAAAAAADKmNAAAAAAAAAAZUxoAAAAAAACAjCkNAAAAAAAAQMaUBgAA\n",
       "AAAAACBjSgMAAAAAAACQMaUBAAAAAAAAyJjSAAAAAAAAAGRMaQAAAAAAAAAypjQAAAAAAAAAGVMa\n",
       "AAAAAAAAgIwpDQAAAAAAAEDGlAYAAAAAAAAgY0oDAAAAAAAAkDGlAQAAAAAAAMiY0gAAAAAAAABk\n",
       "TGkAAAAAAAAAMqY0AAAAAAAAABlTGgAAAAAAAICMKQ0AAAAAAABAxpQGAAAAAAAAIGNKAwAAAAAA\n",
       "AJAxpQEAAAAAAADImNIAAAAAAAAAZExpAAAAAAAAADKmNAAAAAAAAAAZUxoAAAAAAACAjCkNAAAA\n",
       "AAAAQMaUBgAAAAAAACBjSgMAAAAAAACQMaUBAAAAAAAAyJjSAAAAAAAAAGRMaQAAAAAAAAAypjQA\n",
       "AAAAAAAAGVMaAAAAAAAAgIwpDQAAAAAAAEDGlAYAAAAAAAAgY0oDAAAAAAAAkDGlAQAAAAAAAMiY\n",
       "0gAAAAAAAABkTGkAAAAAAAAAMqY0AAAAAAAAABlTGgAAAAAAAICMKQ0AAAAAAABAxpQGAAAAAAAA\n",
       "IGNKAwAAAAAAAJAxpQEAAAAAAADImNIAAAAAAAAAZExpAAAAAAAAADKmNAAAAAAAAAAZUxoAAAAA\n",
       "AACAjCkNAAAAAAAAQMaUBgAAAAAAACBjSgMAAAAAAACQMaUBAAAAAAAAyJjSAAAAAAAAAGRMaQAA\n",
       "AAAAAAAypjQAAAAAAAAAGVMaAAAAAAAAgIwpDQAAAAAAAEDGlAYAAAAAAAAgY0oDAAAAAAAAkDGl\n",
       "AQAAAAAAAMiY0gAAAAAAAABkTGkAAAAAAAAAMqY0AAAAAAAAABlTGgAAAAAAAICMKQ0AAAAAAABA\n",
       "xpQGAAAAAAAAIGNKAwAAAAAAAJAxpQEAAAAAAADImNIAAAAAAAAAZExpAAAAAAAAADKmNAAAAAAA\n",
       "AAAZUxoAAAAAAACAjCkNAAAAAAAAQMaUBgAAAAAAACBjSgMAAAAAAACQMaUBAAAAAAAAyJjSAAAA\n",
       "AAAAAGRMaQAAAAAAAAAypjQAAAAAAAAAGVMaAAAAAAAAgIwpDQAAAAAAAEDGlAYAAAAAAAAgY0oD\n",
       "AAAAAAAAkDGlAQAAAAAAAMiY0gAAAAAAAABkTGkAAAAAAAAAMqY0AAAAAAAAABlTGgAAAAAAAICM\n",
       "KQ0AAAAAAABAxpQGAAAAAAAAIGNKAwAAAAAAAJAxpQEAAAAAAADImNIAAAAAAAAAZExpAAAAAAAA\n",
       "ADKmNAAAAAAAAAAZUxoAAAAAAACAjCkNAAAAAAAAQMaUBgAAAAAAACBjSgMAAAAAAACQMaUBAAAA\n",
       "AAAAyJjSAAAAAAAAAGRMaQAAAAAAAAAypjQAAAAAAAAAGVMaAAAAAAAAgIwpDQAAAAAAAEDGlAYA\n",
       "AAAAAAAgY0oDAAAAAAAAkDGlAQAAAAAAAMiY0gAAAAAAAABkTGkAAAAAAAAAMqY0AAAAAAAAABlT\n",
       "GgAAAAAAAICMKQ0AAAAAAABAxpQGAAAAAAAAIGNKAwAAAAAAAJAxpQEAAAAAAADImNIAAAAAAAAA\n",
       "ZExpAAAAAAAAADKmNAAAAAAAAAAZUxoAAAAAAACAjCkNAAAAAAAAQMaUBgAAAAAAACBjSgMAAAAA\n",
       "AACQMaUBAAAAAAAAyJjSAAAAAAAAAGRMaQAAAAAAAAAypjQAAAAAAAAAGVMaAAAAAAAAgIwpDQAA\n",
       "AAAAAEDGlAYAAAAAAAAgY0oDAAAAAAAAkDGlAQAAAAAAAMiY0gAAAAAAAABkTGkAAAAAAAAAMqY0\n",
       "AAAAAAAAABlTGgAAAAAAAICMKQ0AAAAAAABAxpQGAAAAAAAAIGNKAwCHPTsWAAAAABjkbz2KfaUR\n",
       "AAAAAABspDQAAAAAAAAAGykNAAAAAAAAwEZKAwAAAAAAALCR0gAAAAAAAABspDQAAAAAAAAAGykN\n",
       "AAAAAAAAwEZKAwAAAAAAALCR0gAAAAAAAABspDQAAAAAAAAAGykNAAAAAAAAwEZKAwAAAAAAALCR\n",
       "0gAAAAAAAABspDQAAAAAAAAAGykNAAAAAAAAwEZKAwAAAAAAALCR0gAAAAAAAABspDQAAAAAAAAA\n",
       "GykNAAAAAAAAwEZKAwAAAAAAALCR0gAAAAAAAABspDQAAAAAAAAAGykNAAAAAAAAwEZKAwAAAAAA\n",
       "ALCR0gAAAAAAAABspDQAAAAAAAAAGykNAAAAAAAAwEZKAwAAAAAAALCR0gAAAAAAAABspDQAAAAA\n",
       "AAAAGykNAAAAAAAAwEZKAwAAAAAAALCR0gAAAAAAAABspDQAAAAAAAAAGykNAAAAAAAAwEZKAwAA\n",
       "AAAAALCR0gAAAAAAAABspDQAAAAAAAAAGykNAAAAAAAAwEZKAwAAAAAAALCR0gAAAAAAAABspDQA\n",
       "AAAAAAAAGykNAAAAAAAAwEZKAwAAAAAAALCR0gAAAAAAAABspDQAAAAAAAAAGykNAAAAAAAAwEZK\n",
       "AwAAAAAAALCR0gAAAAAAAABspDQAAAAAAAAAGykNAAAAAAAAwEZKAwAAAAAAALCR0gAAAAAAAABs\n",
       "pDQAAAAAAAAAGykNAAAAAAAAwEZKAwAAAAAAALCR0gAAAAAAAABspDQAAAAAAAAAGykNAAAAAAAA\n",
       "wEZKAwAAAAAAALCR0gAAAAAAAABspDQAAAAAAAAAGykNAAAAAAAAwEZKAwAAAAAAALCR0gAAAAAA\n",
       "AABspDQAAAAAAAAAGykNAAAAAAAAwEZKAwAAAAAAALCR0gAAAAAAAABspDQAAAAAAAAAGykNAAAA\n",
       "AAAAwEZKAwAAAAAAALCR0gAAAAAAAABspDQAAAAAAAAAGykNAAAAAAAAwEZKAwAAAAAAALCR0gAA\n",
       "AAAAAABspDQAAAAAAAAAGykNAAAAAAAAwEZKAwAAAAAAALCR0gAAAAAAAABspDQAAAAAAAAAGykN\n",
       "AAAAAAAAwEZKAwAAAAAAALCR0gAAAAAAAABspDQAAAAAAAAAGykNAAAAAAAAwEZKAwAAAAAAALCR\n",
       "0gAAAAAAAABspDQAAAAAAAAAGykNAAAAAAAAwEZKAwAAAAAAALCR0gAAAAAAAABspDQAAAAAAAAA\n",
       "GykNAAAAAAAAwEZKAwAAAAAAALCR0gAAAAAAAABspDQAAAAAAAAAGykNAAAAAAAAwEZKAwAAAAAA\n",
       "ALCR0gAAAAAAAABspDQAAAAAAAAAGykNAAAAAAAAwEZKAwAAAAAAALCR0gAAAAAAAABspDQAAAAA\n",
       "AAAAGykNAAAAAAAAwEZKAwAAAAAAALCR0gAAAAAAAABspDQAAAAAAAAAGykNAAAAAAAAwEZKAwAA\n",
       "AAAAALCR0gAAAAAAAABspDQAAAAAAAAAGykNAAAAAAAAwEZKAwAAAAAAALCR0gAAAAAAAABspDQA\n",
       "AAAAAAAAGykNAAAAAAAAwEZKAwAAAAAAALCR0gAAAAAAAABspDQAAAAAAAAAGykNAAAAAAAAwEZK\n",
       "AwAAAAAAALCR0gAAAAAAAABspDQAAAAAAAAAGykNAAAAAAAAwEZKAwAAAAAAALCR0gAAAAAAAABs\n",
       "pDQAAAAAAAAAGykNAAAAAAAAwEZKAwAAAAAAALCR0gAAAAAAAABspDQAAAAAAAAAGykNAAAAAAAA\n",
       "wEZKAwAAAAAAALCR0gAAAAAAAABspDQAAAAAAAAAGykNAAAAAAAAwEZKAwAAAAAAALCR0gAAAAAA\n",
       "AABspDQAAAAAAAAAGykNAAAAAAAAwEZKAwAAAAAAALCR0gAAAAAAAABspDQAAAAAAAAAGykNAAAA\n",
       "AAAAwEZKAwAAAAAAALCR0gAAAAAAAABspDQAAAAAAAAAGykNAAAAAAAAwEZKAwAAAAAAALCR0gAA\n",
       "AAAAAABspDQAAAAAAAAAGykNAAAAAAAAwEZKAwAAAAAAALCR0gAAAAAAAABspDQAAAAAAAAAGykN\n",
       "AAAAAAAAwEZKAwAAAAAAALCR0gAAAAAAAABspDQAAAAAAAAAGykNAAAAAAAAwEZKAwAAAAAAALCR\n",
       "0gAAAAAAAABspDQAAAAAAAAAGykNAAAAAAAAwEZKAwAAAAAAALCR0gAAAAAAAABspDQAAAAAAAAA\n",
       "GykNAAAAAAAAwEZKAwAAAAAAALCR0gAAAAAAAABspDQAAAAAAAAAGykNAAAAAAAAwEZKAwAAAAAA\n",
       "ALCR0gAAAAAAAABspDQAAAAAAAAAGykNAAAAAAAAwEZKAwAAAAAAALCR0gAAAAAAAABspDQAAAAA\n",
       "AAAAGykNAAAAAAAAwEZKAwAAAAAAALCR0gAAAAAAAABspDQAAAAAAAAAGykNAAAAAAAAwEZKAwAA\n",
       "AAAAALCR0gAAAAAAAABspDQAAAAAAAAAGykNAAAAAAAAwEZKAwAAAAAAALCR0gAAAAAAAABspDQA\n",
       "AAAAAAAAGykNAAAAAAAAwEZKAwAAAAAAALCR0gAAAAAAAABspDQAAAAAAAAAGykNAAAAAAAAwEZK\n",
       "AwAAAAAAALCR0gAAAAAAAABspDQAAAAAAAAAGykNAAAAAAAAwEZKAwAAAAAAALCR0gAAAAAAAABs\n",
       "pDQAAAAAAAAAGykNAAAAAAAAwEZKAwAAAAAAALCR0gAAAAAAAABspDQAAAAAAAAAGykNAAAAAAAA\n",
       "wEZKAwAAAAAAALCR0gAAAAAAAABspDQAAAAAAAAAGykNAAAAAAAAwEZKAwAAAAAAALCR0gAAAAAA\n",
       "AABspDQAAAAAAAAAGykNAAAAAAAAwEZKAwAAAAAAALCR0gAAAAAAAABspDQAAAAAAAAAGykNAAAA\n",
       "AAAAwEZKAwAAAAAAALCR0gAAAAAAAABspDQAAAAAAAAAGykNAAAAAAAAwEZKAwAAAAAAALCR0gAA\n",
       "AAAAAABspDQAAAAAAAAAGykNAAAAAAAAwEZKAwAAAAAAALCR0gAAAAAAAABspDQAAAAAAAAAGykN\n",
       "AAAAAAAAwEZKAwAAAAAAALCR0gAAAAAAAABspDQAAAAAAAAAGykNAAAAAAAAwEZKAwAAAAAAALCR\n",
       "0gAAAAAAAABspDQAAAAAAAAAGykNAAAAAAAAwEZKAwAAAAAAALCR0gAAAAAAAABspDQAAAAAAAAA\n",
       "GykNAAAAAAAAwEZKAwAAAAAAALCR0gAAAAAAAABspDQAAAAAAAAAGykNAAAAAAAAwEZKAwAAAAAA\n",
       "ALCR0gAAAAAAAABspDQAAAAAAAAAGykNAAAAAAAAwEZKAwAAAAAAALCR0gAAAAAAAABspDQAAAAA\n",
       "AAAAGykNAAAAAAAAwEZKAwAAAAAAALCR0gAAAAAAAABspDQAAAAAAAAAGykNAAAAAAAAwEZKAwAA\n",
       "AAAAALCR0gAAAAAAAABspDQAAAAAAAAAGykNAAAAAAAAwEZKAwAAAAAAALCR0gAAAAAAAABspDQA\n",
       "AAAAAAAAGykNAAAAAAAAwEZKAwAAAAAAALCR0gAAAAAAAABspDQAAAAAAAAAGykNAAAAAAAAwEZK\n",
       "AwAAAAAAALCR0gAAAAAAAABspDQAAAAAAAAAGykNAAAAAAAAwEZKAwAAAAAAALCR0gAAAAAAAABs\n",
       "pDQAAAAAAAAAGykNAAAAAAAAwEZKAwAAAAAAALCR0gAAAAAAAABspDQAAAAAAAAAGykNAAAAAAAA\n",
       "wEZKAwAAAAAAALCR0gAAAAAAAABspDQAAAAAAAAAGykNAAAAAAAAwEZKAwAAAAAAALCR0gAAAAAA\n",
       "AABspDQAAAAAAAAAGykNAAAAAAAAwEZKAwAAAAAAALCR0gAAAAAAAABspDQAAAAAAAAAGykNAAAA\n",
       "AAAAwEZKAwAAAAAAALCR0gAAAAAAAABspGZf+NkAABdPSURBVDQAAAAAAAAAGykNAAAAAAAAwEZK\n",
       "AwAAAAAAALCR0gAAAAAAAABspDQAAAAAAAAAGykNAAAAAAAAwEZKAwAAAAAAALCR0gAAAAAAAABs\n",
       "pDQAAAAAAAAAGykNAAAAAAAAwEZKAwAAAAAAALCR0gAAAAAAAABspDQAAAAAAAAAGykNAAAAAAAA\n",
       "wEZKAwAAAAAAALCR0gAAAAAAAABspDQAAAAAAAAAGykNAAAAAAAAwEZKAwAAAAAAALCR0gAAAAAA\n",
       "AABspDQAAAAAAAAAGykNAAAAAAAAwEZKAwAAAAAAALCR0gAAAAAAAABspDQAAAAAAAAAGykNAAAA\n",
       "AAAAwEZKAwAAAAAAALCR0gAAAAAAAABspDQAAAAAAAAAGykNAAAAAAAAwEZKAwAAAAAAALCR0gAA\n",
       "AAAAAABspDQAAAAAAAAAGykNAAAAAAAAwEZKAwAAAAAAALCR0gAAAAAAAABspDQAAAAAAAAAGykN\n",
       "AAAAAAAAwEZKAwAAAAAAALCR0gAAAAAAAABspDQAAAAAAAAAGykNAAAAAAAAwEZKAwAAAAAAALCR\n",
       "0gAAAAAAAABspDQAAAAAAAAAGykNAAAAAAAAwEZKAwAAAAAAALCR0gAAAAAAAABspDQAAAAAAAAA\n",
       "GykNAAAAAAAAwEZKAwAAAAAAALCR0gAAAAAAAABspDQAAAAAAAAAGykNAAAAAAAAwEZKAwAAAAAA\n",
       "ALCR0gAAAAAAAABspDQAAAAAAAAAGykNAAAAAAAAwEZKAwAAAAAAALCR0gAAAAAAAABspDQAAAAA\n",
       "AAAAGykNAAAAAAAAwEZKAwAAAAAAALCR0gAAAAAAAABspDQAAAAAAAAAGykNAAAAAAAAwEZKAwAA\n",
       "AAAAALCR0gAAAAAAAABspDQAAAAAAAAAGykNAAAAAAAAwEZKAwAAAAAAALCR0gAAAAAAAABspDQA\n",
       "AAAAAAAAGykNAAAAAAAAwEZKAwAAAAAAALCR0gAAAAAAAABspDQAAAAAAAAAGykNAAAAAAAAwEZK\n",
       "AwAAAAAAALCR0gAAAAAAAABspDQAAAAAAAAAGykNAAAAAAAAwEZKAwAAAAAAALCR0gAAAAAAAABs\n",
       "pDQAAAAAAAAAGykNAAAAAAAAwEZKAwAAAAAAALCR0gAAAAAAAABspDQAAAAAAAAAGykNAAAAAAAA\n",
       "wEZKAwAAAAAAALCR0gAAAAAAAABspDQAAAAAAAAAGykNAAAAAAAAwEZKAwAAAAAAALCR0gAAAAAA\n",
       "AABspDQAAAAAAAAAGykNAAAAAAAAwEZKAwAAAAAAALCR0gAAAAAAAABspDQAAAAAAAAAGykNAAAA\n",
       "AAAAwEZKAwAAAAAAALCR0gAAAAAAAABspDQAAAAAAAAAGykNAAAAAAAAwEZKAwAAAAAAALCR0gAA\n",
       "AAAAAABspDQAAAAAAAAAGykNAAAAAAAAwEZKAwAAAAAAALCR0gAAAAAAAABspDQAAAAAAAAAGykN\n",
       "AAAAAAAAwEZKAwAAAAAAALCR0gAAAAAAAABspDQAAAAAAAAAGykNAAAAAAAAwEZKAwAAAAAAALCR\n",
       "0gAAAAAAAABspDQAAAAAAAAAGykNAAAAAAAAwEZKAwAAAAAAALCR0gAAAAAAAABspDQAAAAAAAAA\n",
       "GykNAAAAAAAAwEZKAwAAAAAAALCR0gAAAAAAAABspDQAAAAAAAAAGykNAAAAAAAAwEZKAwAAAAAA\n",
       "ALCR0gAAAAAAAABspDQAAAAAAAAAGykNAAAAAAAAwEZKAwAAAAAAALCR0gAAAAAAAABspDQAAAAA\n",
       "AAAAGykNAAAAAAAAwEZKAwAAAAAAALCR0gAAAAAAAABspDQAAAAAAAAAGykNAAAAAAAAwEZKAwAA\n",
       "AAAAALCR0gAAAAAAAABspDQAAAAAAAAAGykNAAAAAAAAwEZKAwAAAAAAALCR0gAAAAAAAABspDQA\n",
       "AAAAAAAAGykNAAAAAAAAwEZKAwAAAAAAALCR0gAAAAAAAABspDQAAAAAAAAAGykNAAAAAAAAwEZK\n",
       "AwAAAAAAALCR0gAAAAAAAABspDQAAAAAAAAAGykNAAAAAAAAwEZKAwAAAAAAALCR0gAAAAAAAABs\n",
       "pDQAAAAAAAAAGykNAAAAAAAAwEZKAwAAAAAAALCR0gAAAAAAAABspDQAAAAAAAAAGykNAAAAAAAA\n",
       "wEZKAwAAAAAAALCR0gAAAAAAAABspDQAAAAAAAAAGykNAAAAAAAAwEZKAwAAAAAAALCR0gAAAAAA\n",
       "AABspDQAAAAAAAAAGykNAAAAAAAAwEZKAwAAAAAAALCR0gAAAAAAAABspDQAAAAAAAAAGykNAAAA\n",
       "AAAAwEZKAwAAAAAAALCR0gAAAAAAAABspDQAAAAAAAAAGykNAAAAAAAAwEZKAwAAAAAAALCR0gAA\n",
       "AAAAAABspDQAAAAAAAAAGykNAAAAAAAAwEZKAwAAAAAAALCR0gAAAAAAAABspDQAAAAAAAAAGykN\n",
       "AAAAAAAAwEZKAwAAAAAAALCR0gAAAAAAAABspDQAAAAAAAAAGykNAAAAAAAAwEZKAwAAAAAAALCR\n",
       "0gAAAAAAAABspDQAAAAAAAAAGykNAAAAAAAAwEZKAwAAAAAAALCR0gAAAAAAAABspDQAAAAAAAAA\n",
       "GykNAAAAAAAAwEZKAwAAAAAAALCR0gAAAAAAAABspDQAAAAAAAAAGykNAAAAAAAAwEZKAwAAAAAA\n",
       "ALCR0gAAAAAAAABspDQAAAAAAAAAGykNAAAAAAAAwEZKAwAAAAAAALCR0gAAAAAAAABspDQAAAAA\n",
       "AAAAGykNAAAAAAAAwEZKAwAAAAAAALCR0gAAAAAAAABspDQAAAAAAAAAGykNAAAAAAAAwEZKAwAA\n",
       "AAAAALCR0gAAAAAAAABspDQAAAAAAAAAGykNAAAAAAAAwEZKAwAAAAAAALCR0gAAAAAAAABspDQA\n",
       "AAAAAAAAGykNAAAAAAAAwEZKAwAAAAAAALCR0gAAAAAAUHt2LAAAAAAwyN96FPtKIwBgI6UBAAAA\n",
       "AAAA2EhpAAAAAAAAADZSGgAAAAAAAICNlAYAAAAAAABgI6UBAAAAAAAA2EhpAAAAAAAAADZSGgAA\n",
       "AAAAAICNlAYAAAAAAABgI6UBAAAAAAAA2EhpAAAAAAAAADZSGgAAAAAAAICNlAYAAAAAAABgI6UB\n",
       "AAAAAAAA2EhpAAAAAAAAADZSGgAAAAAAAICNlAYAAAAAAABgI6UBAAAAAAAA2EhpAAAAAAAAADZS\n",
       "GgAAAAAAAICNlAYAAAAAAABgI6UBAAAAAAAA2EhpAAAAAAAAADZSGgAAAAAAAICNlAYAAAAAAABg\n",
       "I6UBAAAAAAAA2EhpAAAAAAAAADZSGgAAAAAAAICNlAYAAAAAAABgI6UBAAAAAAAA2EhpAAAAAAAA\n",
       "ADZSGgAAAAAAAICNlAYAAAAAAABgI6UBAAAAAAAA2EhpAAAAAAAAADZSGgAAAAAAAICNlAYAAAAA\n",
       "AABgI6UBAAAAAAAA2EhpAAAAAAAAADZSGgAAAAAAAICNlAYAAAAAAABgI6UBAAAAAAAA2EhpAAAA\n",
       "AAAAADZSGgAAAAAAAICNlAYAAAAAAABgI6UBAAAAAAAA2EhpAAAAAAAAADZSGgAAAAAAAICNlAYA\n",
       "AAAAAABgI6UBAAAAAAAA2EhpAAAAAAAAADZSGgAAAAAAAICNlAYAAAAAAABgI6UBAAAAAAAA2Ehp\n",
       "AAAAAAAAADZSGgAAAAAAAICNlAYAAAAAAABgI6UBAAAAAAAA2EhpAAAAAAAAADZSGgAAAAAAAICN\n",
       "lAYAAAAAAABgI6UBAAAAAAAA2EhpAAAAAAAAADZSGgAAAAAAAICNlAYAAAAAAABgI6UBAAAAAAAA\n",
       "2EhpAAAAAAAAADZSGgAAAAAAAICNlAYAAAAAAABgI6UBAAAAAAAA2EhpAAAAAAAAADZSGgAAAAAA\n",
       "AICNlAYAAAAAAABgI6UBAAAAAAAA2EhpAAAAAAAAADZSGgAAAAAAAICNlAYAAAAAAABgI6UBAAAA\n",
       "AAAA2EhpAAAAAAAAADZSGgAAAAAAAICNlAYAAAAAAABgI6UBAAAAAAAA2EhpAAAAAAAAADZSGgAA\n",
       "AAAAAICNlAYAAAAAAABgI6UBAAAAAAAA2EhpAAAAAAAAADZSGgAAAAAAAICNlAYAAAAAAABgI6UB\n",
       "AAAAAAAA2EhpAAAAAAAAADZSGgAAAAAAAICNlAYAAAAAAABgI6UBAAAAAAAA2EhpAAAAAAAAADZS\n",
       "GgAAAAAAAICNlAYAAAAAAABgI6UBAAAAAAAA2EhpAAAAAAAAADZSGgAAAAAAAICNlAYAAAAAAABg\n",
       "I6UBAAAAAAAA2EhpAAAAAAAAADZSGgAAAAAAAICNlAYAAAAAAABgI6UBAAAAAAAA2EhpAAAAAAAA\n",
       "ADZSGgAAAAAAAICNlAYAAAAAAABgI6UBAAAAAAAA2EhpAAAAAAAAADZSGgAAAAAAAICNlAYAAAAA\n",
       "AABgI6UBAAAAAAAA2EhpAAAAAAAAADZSGgAAAAAAAICNlAYAAAAAAABgI6UBAAAAAAAA2EhpAAAA\n",
       "AAAAADZSGgAAAAAAAICNlAYAAAAAAABgI6UBAAAAAAAA2EhpAAAAAAAAADZSGgAAAAAAAICNlAYA\n",
       "AAAAAABgI6UBAAAAAAAA2EhpAAAAAAAAADZSGgAAAAAAAICNlAYAAAAAAABgI6UBAAAAAAAA2Ehp\n",
       "AAAAAAAAADZSGgAAAAAAAICNlAYAAAAAAABgI6UBAAAAAAAA2EhpAAAAAAAAADZSGgAAAAAAAICN\n",
       "lAYAAAAAAABgI6UBAAAAAAAA2EhpAAAAAAAAADZSGgAAAAAAAICNlAYAAAAAAABgI6UBAAAAAAAA\n",
       "2EhpAAAAAAAAADZSGgAAAAAAAICNlAYAAAAAAABgI6UBAAAAAAAA2EhpAAAAAAAAADZSGgAAAAAA\n",
       "AICNlAYAAAAAAABgI6UBAAAAAAAA2EhpAAAAAAAAADZSGgAAAAAAAICNlAYAAAAAAABgI6UBAAAA\n",
       "AAAA2EhpAAAAAAAAADZSGgAAAAAAAICNlAYAAAAAAABgI6UBAAAAAAAA2EhpAAAAAAAAADZSGgAA\n",
       "AAAAAICNlAYAAAAAAABgI6UBAAAAAAAA2EhpAAAAAAAAADZSGgAAAAAAAICNlAYAAAAAAABgI6UB\n",
       "AAAAAAAA2EhpAAAAAAAAADZSGgAAAAAAAICNlAYAAAAAAABgI6UBAAAAAAAA2EhpAAAAAAAAADZS\n",
       "GgAAAAAAAICNlAYAAAAAAABgI6UBAAAAAAAA2EhpAAAAAAAAADZSGgAAAAAAAICNlAYAAAAAAABg\n",
       "I6UBAAAAAAAA2EhpAAAAAAAAADZSGgAAAAAAAICNlAYAAAAAAABgI6UBAAAAAAAA2EhpAAAAAAAA\n",
       "ADZSGgAAAAAAAICNlAYAAAAAAABgI6UBAAAAAAAA2EhpAAAAAAAAADZSGgAAAAAAAICNlAYAAAAA\n",
       "AABgI6UBAAAAAAAA2EhpAAAAAAAAADZSGgAAAAAAAICNlAYAAAAAAABgI6UBAAAAAAAA2EhpAAAA\n",
       "AAAAADZSGgAAAAAAAICNlAYAAAAAAABgI6UBAAAAAAAA2EhpAAAAAAAAADZSGgAAAAAAAICNlAYA\n",
       "AAAAAABgI6UBAAAAAAAA2EhpAAAAAAAAADZSGgAAAAAAAICNlAYAAAAAAABgI6UBAAAAAAAA2Ehp\n",
       "AAAAAAAAADZSGgAAAAAAAICNlAYAAAAAAABgI6UBAAAAAAAA2EhpAAAAAAAAADZSGgAAAAAAAICN\n",
       "lAYAAAAAAABgI6UBAAAAAAAA2EhpAAAAAAAAADZSGgAAAAAAAICNlAYAAAAAAABgI6UBAAAAAAAA\n",
       "2EhpAAAAAAAAADZSGgAAAAAAAICNlAYAAAAAAABgI6UBAAAAAAAA2EhpAAAAAAAAADZSGgAAAAAA\n",
       "AICNlAYAAAAAAABgI6UBAAAAAAAA2EhpAAAAAAAAADZSGgAAAAAAAICNlAYAAAAAAABgI6UBAAAA\n",
       "AAAA2EhpAAAAAAAAADZSGgAAAAAAAICNlAYAAAAAAABgI6UBAAAAAAAA2EhpAAAAAAAAADZSGgAA\n",
       "AAAAAICNlAYAAAAAAABgI6UBAAAAAAAA2EhpAAAAAAAAADZSGgAAAAAAAICNlAYAAAAAAABgI6UB\n",
       "AAAAAAAA2EhpAAAAAAAAADZSGgAAAAAAAICNlAYAAAAAAABgI6UBAAAAAAAA2EhpAAAAAAAAADZS\n",
       "GgAAAAAAAICNlAYAAAAAAABgI6UBAAAAAAAA2EhpAAAAAAAAADZSGgAAAAAAAICNlAYAAAAAAABg\n",
       "I6UBAAAAAAAA2EhpAAAAAAAAADZSGgAAAAAAAICNlAYAAAAAAABgI6UBAAAAAAAA2EhpAAAAAAAA\n",
       "ADZSGgAAAAAAAICNlAYAAAAAAABgI6UBAAAAAAAA2EhpAAAAAAAAADZSGgAAAAAAAICNlAYAAAAA\n",
       "AABgI6UBAAAAAAAA2EhpAAAAAAAAADZSGgAAAAAAAICNlAYAAAAAAABgI6UBAAAAAAAA2EhpAAAA\n",
       "AAAAADZSGgAAAAAAAICNlAYAAAAAAABgI6UBAAAAAAAA2EhpAAAAAAAAADZSGgAAAAAAAICNlAYA\n",
       "AAAAAABgI6UBAAAAAAAA2EhpAAAAAAAAADZSGgAAAAAAAICNlAYAAAAAAABgI6UBAAAAAAAA2Ehp\n",
       "AAAAAAAAADZSGgAAAAAAAICNlAYAAAAAAABgI6UBAAAAAAAA2EhpAAAAAAAAADZSGgAAAAAAAICN\n",
       "lAYAAAAAAABgI6UBAAAAAAAA2EhpAAAAAAAAADZSGgAAAAAAAICNlAYAAAAAAABgI6UBAAAAAAAA\n",
       "2EhpAAAAAAAAADZSGgAAAAAAAICNlAYAAAAAAABgI6UBAAAAAAAA2EhpAAAAAAAAADZSGgAAAAAA\n",
       "AICNlAYAAAAAAABgI6UBAAAAAAAA2EhpAAAAAAAAADZSGgAAAAAAAICNlAYAAAAAAABgI6UBAAAA\n",
       "AAAA2EhpAAAAAAAAADZSGgAAAAAAAICNlAYAAAAAAABgI6UBAAAAAAAA2EhpAAAAAAAAADZSGgAA\n",
       "AAAAAICNlAYAAAAAAABgI6UBAAAAAAAA2EhpAAAAAAAAADZSGgAAAAAAAICNlAYAAAAAAABgI6UB\n",
       "AAAAAAAA2EhpAAAAAAAAADZSGgAAAAAAAICNlAYAAAAAAABgI6UBAAAAAAAA2EhpAAAAAAAAADZS\n",
       "GgAAAAAAAICNlAYAAAAAAABgI6UBAAAAAAAA2EhpAAAAAAAAADZSGgAAAAAAAICNlAYAAAAAAABg\n",
       "I6UBAAAAAAAA2EhpAAAAAAAAADZSGgAAAAAAAICNlAYAAAAAAABgI6UBAAAAAAAA2EhpAAAAAAAA\n",
       "ADZSGgAAAAAAAICNlAYAAAAAAABgI6UBAAAAAAAA2EhpAAAAAAAAADZSGgAAAAAAAICNlAYAAAAA\n",
       "AABgI6UBAAAAAAAA2EhpAAAAAAAAADZSGgAAAAAAAICNlAYAAAAAAABgI6UBAAAAAAAA2EhpAAAA\n",
       "AAAAADZSGgAAAAAAAICNlAYAAAAAAABgI6UBAAAAAAAA2EhpAAAAAAAAADZSGgAAAAAAAICNlAYA\n",
       "AAAAAABgI6UBAAAAAAAA2EhpAAAAAAAAADZSGgAAAAAAAICNlAYAAAAAAABgI6UBAAAAAAAA2Ehp\n",
       "AAAAAAAAADZSGgAAAAAAAICNlAYAAAAAAABgI6UBAAAAAAAA2EhpAAAAAAAAADZSGgAAAAAAAICN\n",
       "lAYAAAAAAABgI6UBAAAAAAAA2EhpAAAAAAAAADZSGgAAAAAAAICNlAYAAAAAAABgI6UBAAAAAAAA\n",
       "2EhpAAAAAAAAADZSGgAAAAAAAICNlAYAAAAAAABgI6UBAAAAAAAA2EhpAAAAAAAAADZSGgAAAAAA\n",
       "AICNlAYAAAAAAABgI6UBAAAAAAAA2EhpAAAAAAAAADZSGgAAAAAAAICNlAYAAAAAAABgI6UBAAAA\n",
       "AAAA2EhpAAAAAAAAADYBiJUMQcLH0toAAAAASUVORK5CYII=\n",
       "\" transform=\"translate(156, 47)\"/>\n",
       "</g>\n",
       "<defs>\n",
       "  <clipPath id=\"clip743\">\n",
       "    <rect x=\"2160\" y=\"47\" width=\"73\" height=\"1440\"/>\n",
       "  </clipPath>\n",
       "</defs>\n",
       "<g clip-path=\"url(#clip743)\">\n",
       "<image width=\"72\" height=\"1439\" xlink:href=\"data:image/png;base64,\n",
       "iVBORw0KGgoAAAANSUhEUgAAAEgAAAWfCAYAAAAI7rB3AAAMWUlEQVR4nO3dwY0rRxAFwaZQ/lsh\n",
       "L6XfLQtUeSQPERYsEg8c9MyQ+/n3/v0O/+uvb/8Bv06gIFAQKAgU5r5/v/03/DQLCgIFgYJAQaAw\n",
       "7/359t/w0ywoCBQECgIFR41gQUGgIFAQKAgU5rmKrSwoCBQECgIFgcK86yq2saAgUBAoCBQcNYIF\n",
       "BYGCQEGgIFBwFQsWFAQKAgWBgvtBwYKCQEGgIFAQKMxx1FhZUBAoCBQECgIFN8yCBQWBgkBBoDDH\n",
       "DbOVBQWBgkBBoCBQmHP/+fbf8NMsKAgUBAoCBYGCxz7BgoJAQaAgUHDDLFhQECgIFAQKAgVXsWBB\n",
       "QaAgUBAouB8ULCgIFAQKAgWBwnwcNVYWFAQKAgWBgkBhzvWfWTYWFAQKAgWBgqNGsKAgUBAoCBQE\n",
       "Co4awYKCQEGgIFAQKHjDLFhQECgIFAQK83HUWFlQECgIFAQKAgXvSQcLCgIFgYJAwVEjWFAQKAgU\n",
       "BAoCBc/mgwUFgYJAQaAgUHAWCxYUBAoCBYGCo0awoCBQECgIFAQKjhrBgoJAQaAgUBAozLn323/D\n",
       "T7OgIFAQKAgUHDWCBQWBgkBBoCBQ8NgnWFAQKAgUBAo+pIMFBYGCQEGgIFCYj6caKwsKAgWBgkBB\n",
       "oOAsFiwoCBQECgIFL1AFCwoCBYGCQEGg4IZZsKAgUBAoCBTcDwoWFAQKAgWBgkDBDbNgQUGgIFAQ\n",
       "KAgUXMWCBQWBgkBBoOB788GCgkBBoCBQECg4agQLCgIFgYJAQaDgKhYsKAgUBAoCBR/SwYKCQEGg\n",
       "IFAQKLiKBQsKAgWBgkBhzvMhvbGgIFAQKAgUBAqOGsGCgkBBoCBQECi4igULCgIFgYJAwYd0sKAg\n",
       "UBAoCBQECnPu+/bf8NMsKAgUBAoCBYGCs1iwoCBQECgIFBw1ggUFgYJAQaAgUHDUCBYUBAoCBYGC\n",
       "o0awoCBQECgIFAQKc5w0VhYUBAoCBYGCQGHOcxbbWFAQKAgUBAqOGsGCgkBBoCBQECi4igULCgIF\n",
       "gYJAQaAwfohzZ0FBoCBQECg4agQLCgIFgYJAQaDgKhYsKAgUBAoChTn38+2/4adZUBAoCBQECgKF\n",
       "ec9VbGNBQaAgUBAoCBTcMAsWFAQKAgWBghtmwYKCQEGgIFAQKMy7Gm3UCQIFgYJAwVEjWFAQKAgU\n",
       "BAoChTmeza8sKAgUBAoCBYHCPGexlQUFgYJAQaAwx1ONlTpBoCBQECgIFBw1ggUFgYJAQaAgUPDY\n",
       "J1hQECgIFAQKXgMO6gSBgkBBoCBQ8J50sKAgUBAoCBQ81QgWFAQKAgWBgkBh3tNoo04QKAgUBAoC\n",
       "BTfMggUFgYJAQaDghlmwoCBQECgIFAQKc9wwW6kTBAoCBYGCQMFZLFhQECgIFAQKPqSDBQWBgkBB\n",
       "oCBQ8L35YEFBoCBQECj43nxQJwgUBAoCBYHCPEeNlQUFgYJAQaAgUPDYJ1hQECgIFAQK/jNLUCcI\n",
       "FAQKAgWBghtmwYKCQEGgIFAQKLhhFiwoCBQECgIFR41gQUGgIFAQKAgUvCcd1AkCBYGCQMFRI1hQ\n",
       "ECgIFAQKAgVPNYIFBYGCQEGgIFBwFgsWFAQKAgWBgn+fFSwoCBQECgIFgYJ/ZRzUCQIFgYJAQaDg\n",
       "hlmwoCBQECgIFDybDxYUBAoCBYGCQMFRI1hQECgIFAQKc31IrywoCBQECgIFgYLvzQd1gkBBoCBQ\n",
       "ECi4YRYsKAgUBAoCBR/SwYKCQEGgIFAQKHjDLFhQECgIFAQKjhrBgoJAQaAgUBAouIoFCwoCBYGC\n",
       "QEGg4NdfgjpBoCBQECjM9VRjZUFBoCBQECgIFNwwCxYUBAoCBYGCQMFVLFhQECgIFAQKPqSDBQWB\n",
       "gkBBoCBQ8BtmwYKCQEGgIFBw1AgWFAQKAgWBgkDBVSxYUBAoCBQECgIFX2YJ6gSBgkBBoODLLMGC\n",
       "gkBBoCBQECi4YRYsKAgUBAoCBYGCq1iwoCBQECgIFLwGHCwoCBQECgIFgYKjRrCgIFAQKAgU5h0f\n",
       "0hsLCgIFgYJAQaDghlmwoCBQECgIFAQKbpgFCwoCBYGCQMFRI1hQECgIFAQKAgVHjWBBQaAgUBAo\n",
       "CBScxYIFBYGCQEGg4KgRLCgIFAQKAgWBgqtYsKAgUBAoCBTm+jLLyoKCQEGgIFAQKDhqBAsKAgWB\n",
       "gkBBoODZfLCgIFAQKAgU5r1v/wm/zYKCQEGgIFAQKDhqBAsKAgWBgkDBD00GCwoCBYGCQEGg4KgR\n",
       "LCgIFAQKAgWBgjfMggUFgYJAQaDgyyzBgoJAQaAgUBAoeMMsWFAQKAgUBAoCBY99ggUFgYJAQaDg\n",
       "qUawoCBQECgIFAQKHvsECwoCBYGCQMH9oGBBQaAgUBAoCBQ8mw8WFAQKAgWBgkDBDbNgQUGgIFAQ\n",
       "KHg2HywoCBQECgIFgcLcb/8FP86CgkBBoCBQECg4iwULCgIFgYJAwRtmwYKCQEGgIFAQKLhhFiwo\n",
       "CBQECgIF94OCBQWBgkBBoCBQcNQIFhQECgIFgYJAwVksWFAQKAgUBAqezQcLCgIFgYJAQaAwfvxl\n",
       "Z0FBoCBQECgIFJzFggUFgYJAQaDg2XywoCBQECgIFAQKns0HCwoCBYGCQMFRI1hQECgIFAQKAgVH\n",
       "jWBBQaAgUBAoCBTmesVsZUFBoCBQECi4YRYsKAgUBAoCBYGCG2bBgoJAQaAgUHDUCBYUBAoCBYGC\n",
       "QGGepxorCwoCBYGCQEGgMPe4YbaxoCBQECgIFLxAFSwoCBQECgIFgYIfmgwWFAQKAgWBgkDBD00G\n",
       "CwoCBYGCQMGz+WBBQaAgUBAoCBS8Jx0sKAgUBAoCBd84DBYUBAoCBYGCQMFRI1hQECgIFAQKAgXv\n",
       "SQcLCgIFgYJAwWvAwYKCQEGgIFAQKDhqBAsKAgWBgkBBoOA96WBBQaAgUBAo+ImuYEFBoCBQECgI\n",
       "FNwwCxYUBAoCBYGCZ/PBgoJAQaAgUBAoOGoECwoCBYGCQEGg4CwWLCgIFAQKAgVHjWBBQaAgUBAo\n",
       "CBRcxYIFBYGCQEGgIFBwwyxYUBAoCBQECo4awYKCQEGgIFAQKDhqBAsKAgWBgkDBUSNYUBAoCBQE\n",
       "CgIFP9EVLCgIFAQKAgWBgv8vFiwoCBQECgIFN8yCBQWBgkBBoCBQmHdcxjYWFAQKAgWBgkDBWSxY\n",
       "UBAoCBQECp7NBwsKAgWBgkBBoODZfLCgIFAQKAgU3A8KFhQECgIFgYJAwbP5YEFBoCBQECgIFJzF\n",
       "ggUFgYJAQaDgJ7qCBQWBgkBBoCBQmOsVs5UFBYGCQEGg4AWqYEFBoCBQECgIFOY5aqwsKAgUBAoC\n",
       "BYGCs1iwoCBQECgIFDzVCBYUBAoCBYGCQMEbZsGCgkBBoCBQECjM9ZXMlQUFgYJAQaDghlmwoCBQ\n",
       "ECgIFAQKfv0lWFAQKAgUBApeoAoWFAQKAgWBgkDBU41gQUGgIFAQKAgU3DALFhQECgIFgcLc45bZ\n",
       "xoKCQEGgIFAQKLhhFiwoCBQECgIFgYKrWLCgIFAQKAgUPNUIFhQECgIFgYJAwWOfYEFBoCBQECjM\n",
       "/ThqbCwoCBQECgIFgYKjRrCgIFAQKAgUBArzXMVWFhQECgIFgYKjRrCgIFAQKAgUBApzP65iGwsK\n",
       "AgWBgkBBoOAsFiwoCBQECgIFTzWCBQWBgkBBoCBQcNQIFhQECgIFgYIP6WBBQaAgUBAoCBQ8mw8W\n",
       "FAQKAgWBgkBh3vnz7b/hp1lQECgIFAQKbpgFCwoCBYGCQEGg4A2zYEFBoCBQECjMfe4HbSwoCBQE\n",
       "CgIFgYKjRrCgIFAQKAgUBApzPZtfWVAQKAgUBAqOGsGCgkBBoCBQECg4agQLCgIFgYJAQaAw7zmL\n",
       "bSwoCBQECgIFN8yCBQWBgkBBoCBQ8J50sKAgUBAoCBQcNYIFBYGCQEGgIFCY56ixsqAgUBAoCBQE\n",
       "Cs5iwYKCQEGgIFCY6wWqlQUFgYJAQaAgUPCb9sGCgkBBoCBQECj4MkuwoCBQECgIFDzVCBYUBAoC\n",
       "BYGCQMFRI1hQECgIFAQKPqSDBQWBgkBBoCBQ8Gw+WFAQKAgUBAoCBWexYEFBoCBQECjM8Wx+ZUFB\n",
       "oCBQECgIFBw1ggUFgYJAQaAgUPCedLCgIFAQKAgU5jhqrCwoCBQECgIFgYI3zIIFBYGCQEGg4Nl8\n",
       "sKAgUBAoCBQECm6YBQsKAgWBgkBBoDDvvG//DT/NgoJAQaAgUHDDLFhQECgIFAQKAoU5jhorCwoC\n",
       "BYGCQOE/LrLuTX/wFc8AAAAASUVORK5CYII=\n",
       "\" transform=\"translate(2161, 47)\"/>\n",
       "</g>\n",
       "<path clip-path=\"url(#clip740)\" d=\"M2280.7 1468.62 Q2277.09 1468.62 2275.26 1472.18 Q2273.45 1475.72 2273.45 1482.85 Q2273.45 1489.96 2275.26 1493.53 Q2277.09 1497.07 2280.7 1497.07 Q2284.33 1497.07 2286.14 1493.53 Q2287.97 1489.96 2287.97 1482.85 Q2287.97 1475.72 2286.14 1472.18 Q2284.33 1468.62 2280.7 1468.62 M2280.7 1464.91 Q2286.51 1464.91 2289.57 1469.52 Q2292.64 1474.1 2292.64 1482.85 Q2292.64 1491.58 2289.57 1496.19 Q2286.51 1500.77 2280.7 1500.77 Q2274.89 1500.77 2271.81 1496.19 Q2268.76 1491.58 2268.76 1482.85 Q2268.76 1474.1 2271.81 1469.52 Q2274.89 1464.91 2280.7 1464.91 Z\" fill=\"#000000\" fill-rule=\"evenodd\" fill-opacity=\"1\" /><path clip-path=\"url(#clip740)\" d=\"M2270.21 1321.62 L2288.57 1321.62 L2288.57 1325.55 L2274.5 1325.55 L2274.5 1334.03 Q2275.52 1333.68 2276.53 1333.52 Q2277.55 1333.33 2278.57 1333.33 Q2284.36 1333.33 2287.74 1336.5 Q2291.12 1339.67 2291.12 1345.09 Q2291.12 1350.67 2287.64 1353.77 Q2284.17 1356.85 2277.85 1356.85 Q2275.68 1356.85 2273.41 1356.48 Q2271.16 1356.11 2268.76 1355.37 L2268.76 1350.67 Q2270.84 1351.8 2273.06 1352.36 Q2275.28 1352.91 2277.76 1352.91 Q2281.77 1352.91 2284.1 1350.81 Q2286.44 1348.7 2286.44 1345.09 Q2286.44 1341.48 2284.1 1339.37 Q2281.77 1337.27 2277.76 1337.27 Q2275.89 1337.27 2274.01 1337.68 Q2272.16 1338.1 2270.21 1338.98 L2270.21 1321.62 Z\" fill=\"#000000\" fill-rule=\"evenodd\" fill-opacity=\"1\" /><path clip-path=\"url(#clip740)\" d=\"M2269.43 1208.32 L2277.07 1208.32 L2277.07 1181.96 L2268.76 1183.62 L2268.76 1179.36 L2277.02 1177.7 L2281.7 1177.7 L2281.7 1208.32 L2289.33 1208.32 L2289.33 1212.26 L2269.43 1212.26 L2269.43 1208.32 Z\" fill=\"#000000\" fill-rule=\"evenodd\" fill-opacity=\"1\" /><path clip-path=\"url(#clip740)\" d=\"M2308.78 1180.78 Q2305.17 1180.78 2303.34 1184.34 Q2301.53 1187.88 2301.53 1195.01 Q2301.53 1202.12 2303.34 1205.68 Q2305.17 1209.23 2308.78 1209.23 Q2312.41 1209.23 2314.22 1205.68 Q2316.05 1202.12 2316.05 1195.01 Q2316.05 1187.88 2314.22 1184.34 Q2312.41 1180.78 2308.78 1180.78 M2308.78 1177.07 Q2314.59 1177.07 2317.64 1181.68 Q2320.72 1186.26 2320.72 1195.01 Q2320.72 1203.74 2317.64 1208.35 Q2314.59 1212.93 2308.78 1212.93 Q2302.97 1212.93 2299.89 1208.35 Q2296.83 1203.74 2296.83 1195.01 Q2296.83 1186.26 2299.89 1181.68 Q2302.97 1177.07 2308.78 1177.07 Z\" fill=\"#000000\" fill-rule=\"evenodd\" fill-opacity=\"1\" /><path clip-path=\"url(#clip740)\" d=\"M2269.43 1064.4 L2277.07 1064.4 L2277.07 1038.04 L2268.76 1039.7 L2268.76 1035.44 L2277.02 1033.78 L2281.7 1033.78 L2281.7 1064.4 L2289.33 1064.4 L2289.33 1068.34 L2269.43 1068.34 L2269.43 1064.4 Z\" fill=\"#000000\" fill-rule=\"evenodd\" fill-opacity=\"1\" /><path clip-path=\"url(#clip740)\" d=\"M2298.83 1033.78 L2317.18 1033.78 L2317.18 1037.71 L2303.11 1037.71 L2303.11 1046.19 Q2304.13 1045.84 2305.14 1045.68 Q2306.16 1045.49 2307.18 1045.49 Q2312.97 1045.49 2316.35 1048.66 Q2319.73 1051.83 2319.73 1057.25 Q2319.73 1062.83 2316.26 1065.93 Q2312.78 1069.01 2306.46 1069.01 Q2304.29 1069.01 2302.02 1068.64 Q2299.77 1068.27 2297.37 1067.53 L2297.37 1062.83 Q2299.45 1063.96 2301.67 1064.52 Q2303.89 1065.07 2306.37 1065.07 Q2310.38 1065.07 2312.71 1062.97 Q2315.05 1060.86 2315.05 1057.25 Q2315.05 1053.64 2312.71 1051.53 Q2310.38 1049.43 2306.37 1049.43 Q2304.5 1049.43 2302.62 1049.84 Q2300.77 1050.26 2298.83 1051.14 L2298.83 1033.78 Z\" fill=\"#000000\" fill-rule=\"evenodd\" fill-opacity=\"1\" /><path clip-path=\"url(#clip740)\" d=\"M2274.38 920.482 L2290.7 920.482 L2290.7 924.418 L2268.76 924.418 L2268.76 920.482 Q2271.42 917.728 2276 913.098 Q2280.61 908.445 2281.79 907.103 Q2284.03 904.58 2284.91 902.844 Q2285.82 901.084 2285.82 899.395 Q2285.82 896.64 2283.87 894.904 Q2281.95 893.168 2278.85 893.168 Q2276.65 893.168 2274.2 893.932 Q2271.77 894.695 2268.99 896.246 L2268.99 891.524 Q2271.81 890.39 2274.27 889.811 Q2276.72 889.233 2278.76 889.233 Q2284.13 889.233 2287.32 891.918 Q2290.52 894.603 2290.52 899.094 Q2290.52 901.223 2289.7 903.145 Q2288.92 905.043 2286.81 907.635 Q2286.23 908.307 2283.13 911.524 Q2280.03 914.719 2274.38 920.482 Z\" fill=\"#000000\" fill-rule=\"evenodd\" fill-opacity=\"1\" /><path clip-path=\"url(#clip740)\" d=\"M2310.51 892.936 Q2306.9 892.936 2305.08 896.501 Q2303.27 900.043 2303.27 907.172 Q2303.27 914.279 2305.08 917.844 Q2306.9 921.385 2310.51 921.385 Q2314.15 921.385 2315.95 917.844 Q2317.78 914.279 2317.78 907.172 Q2317.78 900.043 2315.95 896.501 Q2314.15 892.936 2310.51 892.936 M2310.51 889.233 Q2316.33 889.233 2319.38 893.839 Q2322.46 898.422 2322.46 907.172 Q2322.46 915.899 2319.38 920.506 Q2316.33 925.089 2310.51 925.089 Q2304.7 925.089 2301.63 920.506 Q2298.57 915.899 2298.57 907.172 Q2298.57 898.422 2301.63 893.839 Q2304.7 889.233 2310.51 889.233 Z\" fill=\"#000000\" fill-rule=\"evenodd\" fill-opacity=\"1\" /><path clip-path=\"url(#clip740)\" d=\"M2274.38 776.562 L2290.7 776.562 L2290.7 780.497 L2268.76 780.497 L2268.76 776.562 Q2271.42 773.807 2276 769.178 Q2280.61 764.525 2281.79 763.182 Q2284.03 760.659 2284.91 758.923 Q2285.82 757.164 2285.82 755.474 Q2285.82 752.72 2283.87 750.983 Q2281.95 749.247 2278.85 749.247 Q2276.65 749.247 2274.2 750.011 Q2271.77 750.775 2268.99 752.326 L2268.99 747.604 Q2271.81 746.47 2274.27 745.891 Q2276.72 745.312 2278.76 745.312 Q2284.13 745.312 2287.32 747.997 Q2290.52 750.683 2290.52 755.173 Q2290.52 757.303 2289.7 759.224 Q2288.92 761.122 2286.81 763.715 Q2286.23 764.386 2283.13 767.604 Q2280.03 770.798 2274.38 776.562 Z\" fill=\"#000000\" fill-rule=\"evenodd\" fill-opacity=\"1\" /><path clip-path=\"url(#clip740)\" d=\"M2300.56 745.937 L2318.92 745.937 L2318.92 749.872 L2304.84 749.872 L2304.84 758.345 Q2305.86 757.997 2306.88 757.835 Q2307.9 757.65 2308.92 757.65 Q2314.7 757.65 2318.08 760.821 Q2321.46 763.993 2321.46 769.409 Q2321.46 774.988 2317.99 778.09 Q2314.52 781.168 2308.2 781.168 Q2306.02 781.168 2303.76 780.798 Q2301.51 780.428 2299.1 779.687 L2299.1 774.988 Q2301.19 776.122 2303.41 776.678 Q2305.63 777.233 2308.11 777.233 Q2312.11 777.233 2314.45 775.127 Q2316.79 773.02 2316.79 769.409 Q2316.79 765.798 2314.45 763.692 Q2312.11 761.585 2308.11 761.585 Q2306.23 761.585 2304.36 762.002 Q2302.51 762.419 2300.56 763.298 L2300.56 745.937 Z\" fill=\"#000000\" fill-rule=\"evenodd\" fill-opacity=\"1\" /><path clip-path=\"url(#clip740)\" d=\"M2284.38 617.943 Q2287.74 618.66 2289.61 620.929 Q2291.51 623.197 2291.51 626.531 Q2291.51 631.646 2287.99 634.447 Q2284.47 637.248 2277.99 637.248 Q2275.82 637.248 2273.5 636.808 Q2271.21 636.392 2268.76 635.535 L2268.76 631.021 Q2270.7 632.156 2273.02 632.734 Q2275.33 633.313 2277.85 633.313 Q2282.25 633.313 2284.54 631.577 Q2286.86 629.841 2286.86 626.531 Q2286.86 623.475 2284.7 621.762 Q2282.58 620.026 2278.76 620.026 L2274.73 620.026 L2274.73 616.183 L2278.94 616.183 Q2282.39 616.183 2284.22 614.818 Q2286.05 613.429 2286.05 610.836 Q2286.05 608.174 2284.15 606.762 Q2282.27 605.327 2278.76 605.327 Q2276.83 605.327 2274.64 605.744 Q2272.44 606.16 2269.8 607.04 L2269.8 602.873 Q2272.46 602.133 2274.77 601.762 Q2277.11 601.392 2279.17 601.392 Q2284.5 601.392 2287.6 603.822 Q2290.7 606.23 2290.7 610.35 Q2290.7 613.22 2289.06 615.211 Q2287.41 617.179 2284.38 617.943 Z\" fill=\"#000000\" fill-rule=\"evenodd\" fill-opacity=\"1\" /><path clip-path=\"url(#clip740)\" d=\"M2310.38 605.095 Q2306.76 605.095 2304.94 608.66 Q2303.13 612.202 2303.13 619.332 Q2303.13 626.438 2304.94 630.003 Q2306.76 633.544 2310.38 633.544 Q2314.01 633.544 2315.82 630.003 Q2317.64 626.438 2317.64 619.332 Q2317.64 612.202 2315.82 608.66 Q2314.01 605.095 2310.38 605.095 M2310.38 601.392 Q2316.19 601.392 2319.24 605.998 Q2322.32 610.582 2322.32 619.332 Q2322.32 628.058 2319.24 632.665 Q2316.19 637.248 2310.38 637.248 Q2304.57 637.248 2301.49 632.665 Q2298.43 628.058 2298.43 619.332 Q2298.43 610.582 2301.49 605.998 Q2304.57 601.392 2310.38 601.392 Z\" fill=\"#000000\" fill-rule=\"evenodd\" fill-opacity=\"1\" /><path clip-path=\"url(#clip740)\" d=\"M2284.38 474.022 Q2287.74 474.74 2289.61 477.008 Q2291.51 479.277 2291.51 482.61 Q2291.51 487.726 2287.99 490.527 Q2284.47 493.328 2277.99 493.328 Q2275.82 493.328 2273.5 492.888 Q2271.21 492.471 2268.76 491.615 L2268.76 487.101 Q2270.7 488.235 2273.02 488.814 Q2275.33 489.393 2277.85 489.393 Q2282.25 489.393 2284.54 487.656 Q2286.86 485.92 2286.86 482.61 Q2286.86 479.555 2284.7 477.842 Q2282.58 476.106 2278.76 476.106 L2274.73 476.106 L2274.73 472.263 L2278.94 472.263 Q2282.39 472.263 2284.22 470.897 Q2286.05 469.508 2286.05 466.916 Q2286.05 464.254 2284.15 462.842 Q2282.27 461.407 2278.76 461.407 Q2276.83 461.407 2274.64 461.823 Q2272.44 462.24 2269.8 463.12 L2269.8 458.953 Q2272.46 458.212 2274.77 457.842 Q2277.11 457.471 2279.17 457.471 Q2284.5 457.471 2287.6 459.902 Q2290.7 462.309 2290.7 466.43 Q2290.7 469.3 2289.06 471.291 Q2287.41 473.258 2284.38 474.022 Z\" fill=\"#000000\" fill-rule=\"evenodd\" fill-opacity=\"1\" /><path clip-path=\"url(#clip740)\" d=\"M2300.42 458.096 L2318.78 458.096 L2318.78 462.032 L2304.7 462.032 L2304.7 470.504 Q2305.72 470.157 2306.74 469.995 Q2307.76 469.809 2308.78 469.809 Q2314.57 469.809 2317.95 472.981 Q2321.33 476.152 2321.33 481.569 Q2321.33 487.147 2317.85 490.249 Q2314.38 493.328 2308.06 493.328 Q2305.89 493.328 2303.62 492.957 Q2301.37 492.587 2298.96 491.846 L2298.96 487.147 Q2301.05 488.281 2303.27 488.837 Q2305.49 489.393 2307.97 489.393 Q2311.97 489.393 2314.31 487.286 Q2316.65 485.18 2316.65 481.569 Q2316.65 477.957 2314.31 475.851 Q2311.97 473.744 2307.97 473.744 Q2306.09 473.744 2304.22 474.161 Q2302.37 474.578 2300.42 475.457 L2300.42 458.096 Z\" fill=\"#000000\" fill-rule=\"evenodd\" fill-opacity=\"1\" /><path clip-path=\"url(#clip740)\" d=\"M2284.36 318.25 L2272.55 336.699 L2284.36 336.699 L2284.36 318.25 M2283.13 314.176 L2289.01 314.176 L2289.01 336.699 L2293.94 336.699 L2293.94 340.588 L2289.01 340.588 L2289.01 348.736 L2284.36 348.736 L2284.36 340.588 L2268.76 340.588 L2268.76 336.074 L2283.13 314.176 Z\" fill=\"#000000\" fill-rule=\"evenodd\" fill-opacity=\"1\" /><path clip-path=\"url(#clip740)\" d=\"M2311.67 317.255 Q2308.06 317.255 2306.23 320.82 Q2304.43 324.361 2304.43 331.491 Q2304.43 338.597 2306.23 342.162 Q2308.06 345.704 2311.67 345.704 Q2315.31 345.704 2317.11 342.162 Q2318.94 338.597 2318.94 331.491 Q2318.94 324.361 2317.11 320.82 Q2315.31 317.255 2311.67 317.255 M2311.67 313.551 Q2317.48 313.551 2320.54 318.158 Q2323.62 322.741 2323.62 331.491 Q2323.62 340.218 2320.54 344.824 Q2317.48 349.407 2311.67 349.407 Q2305.86 349.407 2302.78 344.824 Q2299.73 340.218 2299.73 331.491 Q2299.73 322.741 2302.78 318.158 Q2305.86 313.551 2311.67 313.551 Z\" fill=\"#000000\" fill-rule=\"evenodd\" fill-opacity=\"1\" /><path clip-path=\"url(#clip740)\" d=\"M2284.36 174.33 L2272.55 192.779 L2284.36 192.779 L2284.36 174.33 M2283.13 170.256 L2289.01 170.256 L2289.01 192.779 L2293.94 192.779 L2293.94 196.668 L2289.01 196.668 L2289.01 204.816 L2284.36 204.816 L2284.36 196.668 L2268.76 196.668 L2268.76 192.154 L2283.13 170.256 Z\" fill=\"#000000\" fill-rule=\"evenodd\" fill-opacity=\"1\" /><path clip-path=\"url(#clip740)\" d=\"M2301.72 170.256 L2320.08 170.256 L2320.08 174.191 L2306 174.191 L2306 182.663 Q2307.02 182.316 2308.04 182.154 Q2309.06 181.969 2310.08 181.969 Q2315.86 181.969 2319.24 185.14 Q2322.62 188.311 2322.62 193.728 Q2322.62 199.306 2319.15 202.408 Q2315.68 205.487 2309.36 205.487 Q2307.18 205.487 2304.91 205.117 Q2302.67 204.746 2300.26 204.005 L2300.26 199.306 Q2302.34 200.441 2304.57 200.996 Q2306.79 201.552 2309.26 201.552 Q2313.27 201.552 2315.61 199.445 Q2317.95 197.339 2317.95 193.728 Q2317.95 190.117 2315.61 188.01 Q2313.27 185.904 2309.26 185.904 Q2307.39 185.904 2305.51 186.32 Q2303.66 186.737 2301.72 187.617 L2301.72 170.256 Z\" fill=\"#000000\" fill-rule=\"evenodd\" fill-opacity=\"1\" /><path clip-path=\"url(#clip740)\" d=\"M2270.21 26.3353 L2288.57 26.3353 L2288.57 30.2705 L2274.5 30.2705 L2274.5 38.7426 Q2275.52 38.3954 2276.53 38.2334 Q2277.55 38.0482 2278.57 38.0482 Q2284.36 38.0482 2287.74 41.2195 Q2291.12 44.3908 2291.12 49.8074 Q2291.12 55.3861 2287.64 58.4879 Q2284.17 61.5666 2277.85 61.5666 Q2275.68 61.5666 2273.41 61.1962 Q2271.16 60.8259 2268.76 60.0851 L2268.76 55.3861 Q2270.84 56.5203 2273.06 57.0759 Q2275.28 57.6314 2277.76 57.6314 Q2281.77 57.6314 2284.1 55.525 Q2286.44 53.4185 2286.44 49.8074 Q2286.44 46.1963 2284.1 44.0898 Q2281.77 41.9834 2277.76 41.9834 Q2275.89 41.9834 2274.01 42.4 Q2272.16 42.8167 2270.21 43.6963 L2270.21 26.3353 Z\" fill=\"#000000\" fill-rule=\"evenodd\" fill-opacity=\"1\" /><path clip-path=\"url(#clip740)\" d=\"M2310.33 29.414 Q2306.72 29.414 2304.89 32.9788 Q2303.08 36.5204 2303.08 43.65 Q2303.08 50.7565 2304.89 54.3213 Q2306.72 57.8629 2310.33 57.8629 Q2313.96 57.8629 2315.77 54.3213 Q2317.6 50.7565 2317.6 43.65 Q2317.6 36.5204 2315.77 32.9788 Q2313.96 29.414 2310.33 29.414 M2310.33 25.7103 Q2316.14 25.7103 2319.2 30.3168 Q2322.27 34.9001 2322.27 43.65 Q2322.27 52.3768 2319.2 56.9833 Q2316.14 61.5666 2310.33 61.5666 Q2304.52 61.5666 2301.44 56.9833 Q2298.39 52.3768 2298.39 43.65 Q2298.39 34.9001 2301.44 30.3168 Q2304.52 25.7103 2310.33 25.7103 Z\" fill=\"#000000\" fill-rule=\"evenodd\" fill-opacity=\"1\" /><polyline clip-path=\"url(#clip740)\" style=\"stroke:#000000; stroke-linecap:butt; stroke-linejoin:round; stroke-width:4; stroke-opacity:1; fill:none\" points=\"\n",
       "  2232.76,1486.45 2232.76,1486.45 2256.76,1486.45 2232.76,1486.45 2232.76,1342.53 2256.76,1342.53 2232.76,1342.53 2232.76,1198.61 2256.76,1198.61 2232.76,1198.61 \n",
       "  2232.76,1054.69 2256.76,1054.69 2232.76,1054.69 2232.76,910.766 2256.76,910.766 2232.76,910.766 2232.76,766.846 2256.76,766.846 2232.76,766.846 2232.76,622.926 \n",
       "  2256.76,622.926 2232.76,622.926 2232.76,479.005 2256.76,479.005 2232.76,479.005 2232.76,335.085 2256.76,335.085 2232.76,335.085 2232.76,191.164 2256.76,191.164 \n",
       "  2232.76,191.164 2232.76,47.2441 2256.76,47.2441 2232.76,47.2441 \n",
       "  \"/>\n",
       "</svg>\n"
      ]
     },
     "execution_count": 19,
     "metadata": {},
     "output_type": "execute_result"
    }
   ],
   "source": [
    "infeas_map = infeas_map3[1:15, 1:15]\n",
    "heatmap((1:size(infeas_map,1))*0.25, (1:size(infeas_map,2))*0.25, infeas_map, clim=(0,50))"
   ]
  },
  {
   "cell_type": "code",
   "execution_count": 41,
   "metadata": {},
   "outputs": [
    {
     "data": {
      "text/plain": [
       "collision_stat (generic function with 1 method)"
      ]
     },
     "execution_count": 41,
     "metadata": {},
     "output_type": "execute_result"
    }
   ],
   "source": [
    "function collision_stat(num, ci; ctrl=nothing, verbose=false)\n",
    "    Random.seed!(127)\n",
    "    success = 0\n",
    "    phi0_vio_cnt = 0\n",
    "    infeas_cnt = 0\n",
    "    x0 = [0,-1.5,1+rand(),π/2+rand()*π/2-π/4]\n",
    "    xg = [0,5,0,-π]\n",
    "    obj_cost = [1,1,1,0.1]\n",
    "    rp = RP(net, obj_cost, x0, xg)\n",
    "    n = 2\n",
    "    for j in 1:num\n",
    "        obstacles = [Obstacle([0, rand()-0.5], [0, 0], obs_radius)]\n",
    "        ctrl = isnothing(ctrl) ? ShootingController(1000) : ctrl\n",
    "        Xtrack, Utrack, safe_sets, Xrefs, infeas = tracking(rp, ctrl, fps=10, tf=10, obstacles=obstacles, safety_index=ci, verbose=false);\n",
    "        infeas_cnt += infeas\n",
    "        vio=false\n",
    "        for obs in obstacles\n",
    "            for x in Xtrack\n",
    "                if norm(x[1:2]-obs.center) < obs.radius\n",
    "                    vio=true\n",
    "                    break\n",
    "                end \n",
    "            end\n",
    "        end\n",
    "        phi0_vio_cnt += vio\n",
    "#         success += norm(xg[1:2] - Xtrack[end][1:2]) < 0.1\n",
    "        success += 1-(vio|infeas)\n",
    "        if verbose\n",
    "            @show j, success, phi0_vio_cnt, infeas_cnt\n",
    "        end\n",
    "    end\n",
    "#     return success*1.0/num, phi0_vio_cnt, infeas_cnt*1.0/num\n",
    "    return success*1.0/num, phi0_vio_cnt*1.0/num, infeas_cnt*1.0/num\n",
    "end"
   ]
  },
  {
   "cell_type": "code",
   "execution_count": 121,
   "metadata": {},
   "outputs": [
    {
     "data": {
      "text/plain": [
       "(0.0, 1.0, 1.0)"
      ]
     },
     "execution_count": 121,
     "metadata": {},
     "output_type": "execute_result"
    }
   ],
   "source": [
    "ci = CollisionIndex(0.0, 1e-3, 1, 0)\n",
    "collision_stat(100, ci)"
   ]
  },
  {
   "cell_type": "code",
   "execution_count": 120,
   "metadata": {},
   "outputs": [
    {
     "data": {
      "text/plain": [
       "(0.72, 0.0, 0.28)"
      ]
     },
     "execution_count": 120,
     "metadata": {},
     "output_type": "execute_result"
    }
   ],
   "source": [
    "ci = CollisionIndex(0.1, 1e-3, 2, 1)\n",
    "collision_stat(100, ci)"
   ]
  },
  {
   "cell_type": "code",
   "execution_count": 118,
   "metadata": {},
   "outputs": [
    {
     "data": {
      "text/plain": [
       "(1.0, 0.0, 0.0)"
      ]
     },
     "execution_count": 118,
     "metadata": {},
     "output_type": "execute_result"
    }
   ],
   "source": [
    "ci = CollisionIndex(0.728854, 0.00915763, 0.277308, 1.05736)\n",
    "collision_stat(100, ci)"
   ]
  },
  {
   "cell_type": "code",
   "execution_count": 21,
   "metadata": {},
   "outputs": [
    {
     "data": {
      "text/plain": [
       "(0.99, 0.01, 0.0)"
      ]
     },
     "execution_count": 21,
     "metadata": {},
     "output_type": "execute_result"
    }
   ],
   "source": [
    "ci = CollisionIndex(0.12037, 0.0186236, 0.157352, 0.521703)\n",
    "collision_stat(100, ci)"
   ]
  },
  {
   "cell_type": "code",
   "execution_count": 22,
   "metadata": {},
   "outputs": [
    {
     "data": {
      "text/plain": [
       "(0.0, 1.0, 1.0)"
      ]
     },
     "execution_count": 22,
     "metadata": {},
     "output_type": "execute_result"
    }
   ],
   "source": [
    "ci = CollisionIndex(0.0, 1e-3, 1, 0)\n",
    "collision_stat(100, ci)"
   ]
  },
  {
   "cell_type": "code",
   "execution_count": 23,
   "metadata": {},
   "outputs": [
    {
     "data": {
      "text/plain": [
       "(0.72, 0.0, 0.28)"
      ]
     },
     "execution_count": 23,
     "metadata": {},
     "output_type": "execute_result"
    }
   ],
   "source": [
    "ci = CollisionIndex(0.1, 1e-3, 2, 1)\n",
    "collision_stat(100, ci)"
   ]
  },
  {
   "cell_type": "code",
   "execution_count": 42,
   "metadata": {},
   "outputs": [
    {
     "data": {
      "text/plain": [
       "gt_collision_stat (generic function with 1 method)"
      ]
     },
     "execution_count": 42,
     "metadata": {},
     "output_type": "execute_result"
    }
   ],
   "source": [
    "\n",
    "function gt_tracking(rp::RP, ctrl; fps=10, tf=2, obstacles=nothing, safety_index=nothing, verbose=false)\n",
    "    T=Int(ceil(fps*tf))\n",
    "    dt=1.0/fps\n",
    "    x = rp.x0\n",
    "    X = [copy(rp.x0) for k = 1:T]\n",
    "    U = [zeros(2) for k = 1:T-1]\n",
    "    safe_sets = []\n",
    "    Xrefs = []\n",
    "    tot_time = 0\n",
    "    col_cnt = 0\n",
    "    infeas=false\n",
    "    for i in 1:T-1\n",
    "        Xref = get_Xref(x, rp.xg, fps, dt)\n",
    "        xref = Xref[1]\n",
    "        push!(Xrefs, Xref)\n",
    "        timed_result = @timed get_control(ctrl, xref, x, rp.net, rp.obj_cost, dt, obstacles=obstacles, safety_index=safety_index)\n",
    "        u, safe_set = timed_result.value\n",
    "        if isnothing(u)\n",
    "            u = i == 1 ? [0.,0.] : U[i-1]\n",
    "            infeas=true\n",
    "#             return X[1:i], U[1:i-1], safe_sets, Xrefs, true\n",
    "        end\n",
    "        push!(safe_sets, safe_set)\n",
    "        tot_time += timed_result.time\n",
    "        if verbose\n",
    "            @show x\n",
    "            @show xref\n",
    "            @show u\n",
    "            p = phi(x, obstacle)\n",
    "            @show p\n",
    "        end\n",
    "        x = forward(x, u, dt)\n",
    "        X[i+1] = x\n",
    "        U[i] = u\n",
    "        if norm(x[1:2] - rp.xg[1:2]) < 0.1\n",
    "            return X[1:i+1], U[1:i], safe_sets[1:i], Xrefs[1:i], infeas\n",
    "        end\n",
    "    end\n",
    "    push!(Xrefs, Xrefs[end])\n",
    "    return X, U, safe_sets, Xrefs, infeas\n",
    "end\n",
    "\n",
    "function gt_collision_stat(num, ci; ctrl=nothing, verbose=false)\n",
    "    Random.seed!(127)\n",
    "    success = 0\n",
    "    phi0_vio_cnt = 0\n",
    "    infeas_cnt = 0\n",
    "    x0 = [0,-1.5,1+rand(),π/2+rand()*π/2-π/4]\n",
    "    xg = [0,5,0,-π]\n",
    "    obj_cost = [1,1,1,0.1]\n",
    "    rp = RP(net, obj_cost, x0, xg)\n",
    "    n = 2\n",
    "    for j in 1:num\n",
    "        obstacles = [Obstacle([0, rand()-0.5], [0, 0], obs_radius)]\n",
    "        ctrl = isnothing(ctrl) ? ShootingController(1000) : ctrl\n",
    "        Xtrack, Utrack, safe_sets, Xrefs, infeas = gt_tracking(rp, ctrl, fps=10, tf=10, obstacles=obstacles, safety_index=ci, verbose=false);\n",
    "        infeas_cnt += infeas\n",
    "        vio=false\n",
    "        for obs in obstacles\n",
    "            for x in Xtrack\n",
    "                if norm(x[1:2]-obs.center) < obs.radius\n",
    "                    vio=true\n",
    "                    break\n",
    "                end \n",
    "            end\n",
    "        end\n",
    "        phi0_vio_cnt += vio\n",
    "#         success += norm(xg[1:2] - Xtrack[end][1:2]) < 0.1\n",
    "        success += 1-(vio|infeas)\n",
    "        if verbose\n",
    "            @show j, success, phi0_vio_cnt, infeas_cnt\n",
    "        end\n",
    "    end\n",
    "#     return success*1.0/num, phi0_vio_cnt, infeas_cnt*1.0/num\n",
    "    return success*1.0/num, phi0_vio_cnt*1.0/num, infeas_cnt*1.0/num\n",
    "end"
   ]
  },
  {
   "cell_type": "code",
   "execution_count": 30,
   "metadata": {},
   "outputs": [
    {
     "data": {
      "text/plain": [
       "(0.0, 1.0, 1.0)"
      ]
     },
     "execution_count": 30,
     "metadata": {},
     "output_type": "execute_result"
    }
   ],
   "source": [
    "ci = CollisionIndex(0.0, 1e-3, 1, 0)\n",
    "gt_collision_stat(100, ci)"
   ]
  },
  {
   "cell_type": "code",
   "execution_count": 31,
   "metadata": {},
   "outputs": [
    {
     "data": {
      "text/plain": [
       "(0.65, 0.0, 0.35)"
      ]
     },
     "execution_count": 31,
     "metadata": {},
     "output_type": "execute_result"
    }
   ],
   "source": [
    "ci = CollisionIndex(0.1, 1e-3, 2, 1)\n",
    "gt_collision_stat(100, ci)"
   ]
  },
  {
   "cell_type": "code",
   "execution_count": 32,
   "metadata": {},
   "outputs": [
    {
     "data": {
      "text/plain": [
       "(0.79, 0.21, 0.0)"
      ]
     },
     "execution_count": 32,
     "metadata": {},
     "output_type": "execute_result"
    }
   ],
   "source": [
    "ci = CollisionIndex(0.728854, 0.00915763, 0.277308, 1.05736)\n",
    "gt_collision_stat(100, ci)"
   ]
  },
  {
   "cell_type": "code",
   "execution_count": 43,
   "metadata": {},
   "outputs": [
    {
     "data": {
      "text/plain": [
       "(0.77, 0.23, 0.0)"
      ]
     },
     "execution_count": 43,
     "metadata": {},
     "output_type": "execute_result"
    }
   ],
   "source": [
    "ci = CollisionIndex(0.743431, 0.00915763, 0.277308, 1.05736)\n",
    "gt_collision_stat(100, ci)"
   ]
  },
  {
   "cell_type": "code",
   "execution_count": 44,
   "metadata": {},
   "outputs": [
    {
     "data": {
      "text/plain": [
       "(0.79, 0.21, 0.0)"
      ]
     },
     "execution_count": 44,
     "metadata": {},
     "output_type": "execute_result"
    }
   ],
   "source": [
    "ci = CollisionIndex(0.765296, 0.00915763, 0.277308, 1.05736)\n",
    "gt_collision_stat(100, ci)"
   ]
  },
  {
   "cell_type": "code",
   "execution_count": 45,
   "metadata": {},
   "outputs": [
    {
     "data": {
      "text/plain": [
       "(0.7, 0.3, 0.0)"
      ]
     },
     "execution_count": 45,
     "metadata": {},
     "output_type": "execute_result"
    }
   ],
   "source": [
    "ci = CollisionIndex(0.85, 0.00915763, 0.277308, 1.05736)\n",
    "gt_collision_stat(100, ci)"
   ]
  },
  {
   "cell_type": "code",
   "execution_count": null,
   "metadata": {},
   "outputs": [],
   "source": [
    "ci = CollisionIndex(0.85, 0.00915763, 0.277308, 1.05736)\n",
    "gt_collision_stat(100, ci)"
   ]
  }
 ],
 "metadata": {
  "kernelspec": {
   "display_name": "Julia 1.5.3",
   "language": "julia",
   "name": "julia-1.5"
  },
  "language_info": {
   "file_extension": ".jl",
   "mimetype": "application/julia",
   "name": "julia",
   "version": "1.5.3"
  }
 },
 "nbformat": 4,
 "nbformat_minor": 4
}
