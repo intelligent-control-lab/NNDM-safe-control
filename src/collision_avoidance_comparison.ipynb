{
 "cells": [
  {
   "cell_type": "code",
   "execution_count": 1,
   "metadata": {},
   "outputs": [
    {
     "name": "stderr",
     "output_type": "stream",
     "text": [
      "┌ Info: Precompiling NeuralVerification [146f25fa-00e7-11e9-3ae5-fdbac6e12fa7]\n",
      "└ @ Base loading.jl:1278\n",
      "┌ Warning: Package NeuralVerification does not have CPLEX in its dependencies:\n",
      "│ - If you have NeuralVerification checked out for development and have\n",
      "│   added CPLEX as a dependency but haven't updated your primary\n",
      "│   environment's manifest file, try `Pkg.resolve()`.\n",
      "│ - Otherwise you may need to report an issue with NeuralVerification\n",
      "└ Loading CPLEX into NeuralVerification from project dependency, future warnings for NeuralVerification are suppressed.\n"
     ]
    },
    {
     "data": {
      "text/plain": [
       "grad_phi (generic function with 2 methods)"
      ]
     },
     "execution_count": 1,
     "metadata": {},
     "output_type": "execute_result"
    }
   ],
   "source": [
    "using Plots\n",
    "using LinearAlgebra\n",
    "using Revise\n",
    "using NeuralVerification\n",
    "using NeuralVerification:Network, Layer, ReLU, Id, read_nnet, compute_output\n",
    "using LazySets\n",
    "using Random\n",
    "using BlackBoxOptim\n",
    "using Statistics\n",
    "include(\"unicycle_env.jl\")\n",
    "include(\"controller.jl\")\n",
    "include(\"problem.jl\")\n",
    "include(\"safe_set.jl\")"
   ]
  },
  {
   "cell_type": "code",
   "execution_count": 2,
   "metadata": {},
   "outputs": [
    {
     "data": {
      "text/plain": [
       "0.5"
      ]
     },
     "execution_count": 2,
     "metadata": {},
     "output_type": "execute_result"
    }
   ],
   "source": [
    "net_path = \"../nnet/unicycle-FC3-100-rk4/epoch_1000.nnet\"\n",
    "net = read_nnet(net_path);\n",
    "obs_radius = 0.5"
   ]
  },
  {
   "cell_type": "code",
   "execution_count": 3,
   "metadata": {},
   "outputs": [
    {
     "data": {
      "text/plain": [
       "tracking (generic function with 1 method)"
      ]
     },
     "execution_count": 3,
     "metadata": {},
     "output_type": "execute_result"
    }
   ],
   "source": [
    "function generate_moving_target(;fps=10, tf=2, v=nothing, v_lim=0.5)\n",
    "    T = tf*fps\n",
    "    v = isnothing(v) ? [rand(), rand()]*v_lim*2 .- v_lim : v\n",
    "    p = [0, 1.5]\n",
    "    return [Obstacle(p+v*(i/fps), v, obs_radius) for i in 0:T-1]\n",
    "end\n",
    "\n",
    "function get_Xref(x0, xg, T, dt)\n",
    "    tf = T*dt\n",
    "    dp = [xg[1]-x0[1], xg[2]-x0[2]]\n",
    "    da = xg[4]-x0[4]\n",
    "    a = atan(dp[2], dp[1])\n",
    "    v = norm(dp)/tf\n",
    "    v = max(min(v, 1),-1)\n",
    "    vx = v * cos(a)\n",
    "    vy = v * sin(a)\n",
    "    Xref = [[x0[1]+vx*k*dt, x0[2]+vy*k*dt, v, a] for k = 1:T]\n",
    "    Xref[end][3] = 0\n",
    "    return Xref\n",
    "end\n",
    "\n",
    "function tracking(rp::RP, ctrl; fps=10, tf=2, obstacles=nothing, safety_index=nothing, verbose=false)\n",
    "    T=Int(ceil(fps*tf))\n",
    "    dt=1.0/fps\n",
    "    x = rp.x0\n",
    "    X = [copy(rp.x0) for k = 1:T]\n",
    "    U = [zeros(2) for k = 1:T-1]\n",
    "    safe_sets = []\n",
    "    Xrefs = []\n",
    "    tot_time = 0\n",
    "    col_cnt = 0\n",
    "    infeas=false\n",
    "    for i in 1:T-1\n",
    "        Xref = get_Xref(x, rp.xg, fps, dt)\n",
    "        xref = Xref[1]\n",
    "        push!(Xrefs, Xref)\n",
    "        timed_result = @timed get_control(ctrl, xref, x, rp.net, rp.obj_cost, dt, obstacles=obstacles, safety_index=safety_index)\n",
    "        u, safe_set = timed_result.value\n",
    "        if isnothing(u)\n",
    "            u = i == 1 ? [0.,0.] : U[i-1]\n",
    "            infeas=true\n",
    "#             return X[1:i], U[1:i-1], safe_sets, Xrefs, true\n",
    "        end\n",
    "        push!(safe_sets, safe_set)\n",
    "        tot_time += timed_result.time\n",
    "        if verbose\n",
    "            @show x\n",
    "            @show xref\n",
    "            @show u\n",
    "            p = phi(x, obstacle)\n",
    "            @show p\n",
    "        end\n",
    "        x = forward(rp.net, x, u, dt)\n",
    "        X[i+1] = x\n",
    "        U[i] = u\n",
    "        if norm(x[1:2] - rp.xg[1:2]) < 0.1\n",
    "            return X[1:i+1], U[1:i], safe_sets[1:i], Xrefs[1:i], infeas\n",
    "        end\n",
    "    end\n",
    "    push!(Xrefs, Xrefs[end])\n",
    "    return X, U, safe_sets, Xrefs, infeas\n",
    "end"
   ]
  },
  {
   "cell_type": "code",
   "execution_count": 4,
   "metadata": {},
   "outputs": [],
   "source": [
    "function collision_samples()\n",
    "    nx = 20\n",
    "    ny = 20\n",
    "    nv = 10\n",
    "    nt = 10\n",
    "    xs = range(0,stop=5,length=nx)\n",
    "    ys = range(0,stop=5,length=ny)\n",
    "    vs = range(-2,stop=2,length=nv)\n",
    "    θs = range(-π,stop=π,length=nt)\n",
    "    samples = [([x,y,v,θ],[Obstacle([0.0, 0.0],[0,0],obs_radius)]) for x in xs, y in ys, v in vs, θ in θs];\n",
    "    return samples\n",
    "end\n",
    "col_samples = collision_samples();"
   ]
  },
  {
   "cell_type": "code",
   "execution_count": 5,
   "metadata": {},
   "outputs": [
    {
     "data": {
      "text/plain": [
       "eval_collision_index (generic function with 1 method)"
      ]
     },
     "execution_count": 5,
     "metadata": {},
     "output_type": "execute_result"
    }
   ],
   "source": [
    "function exists_valid_control(safety_index, ctrl::ShootingController, x, obs, net, dt)\n",
    "    safe_set = phi_safe_set(safety_index, x, obs, dt)\n",
    "    for j in 1:ctrl.num_sample\n",
    "        u_cand = rand(2) .* ctrl.u_lim * 2 - ctrl.u_lim\n",
    "        dot_x_cand = compute_output(net, [x; u_cand])\n",
    "        dot_x_cand ∈ safe_set && (return true)\n",
    "    end\n",
    "    return false\n",
    "end\n",
    "\n",
    "function eval_collision_index(coes)\n",
    "    margin, gamma, phi_power, dot_phi_coe = coes\n",
    "    index = CollisionIndex(margin, gamma, phi_power, dot_phi_coe)\n",
    "    valid = 0\n",
    "    net_path = \"../nnet/unicycle-FC3-100-rk4/epoch_1000.nnet\"\n",
    "    net = read_nnet(net_path);\n",
    "    dt = 0.1\n",
    "    for sample in col_samples\n",
    "        x, obs = sample\n",
    "        if norm(x[1:2]) < 1e-8 # overlaped with the obstacle\n",
    "            valid += 1\n",
    "            continue\n",
    "        end\n",
    "        ctrl = ShootingController(1000)\n",
    "        valid += exists_valid_control(index, ctrl, x, obs, net, dt)\n",
    "    end\n",
    "    return Float64(length(col_samples)-valid)\n",
    "end"
   ]
  },
  {
   "cell_type": "code",
   "execution_count": 6,
   "metadata": {},
   "outputs": [
    {
     "data": {
      "text/plain": [
       "find_infeas_states (generic function with 1 method)"
      ]
     },
     "execution_count": 6,
     "metadata": {},
     "output_type": "execute_result"
    }
   ],
   "source": [
    "function draw_heat_plot(coes)\n",
    "    margin, gamma, phi_power, dot_phi_coe = coes\n",
    "    index = CollisionIndex(margin, gamma, phi_power, dot_phi_coe)\n",
    "    valid = 0\n",
    "    net_path = \"../nnet/unicycle-FC3-100-rk4/epoch_1000.nnet\"\n",
    "    net = read_nnet(net_path);\n",
    "    dt = 0.1\n",
    "    for sample in col_samples\n",
    "        x, obs = sample\n",
    "        if norm(x[1:2]) < 1e-8 # overlaped with the obstacle\n",
    "            valid += 1\n",
    "            continue\n",
    "        end\n",
    "        ctrl = ShootingController(1000)\n",
    "        valid += exists_valid_control(index, ctrl, x, obs, net, dt)\n",
    "    end\n",
    "    return Float64(length(col_samples)-valid)\n",
    "end\n",
    "\n",
    "function find_infeas_states(coes)\n",
    "    margin, gamma, phi_power, dot_phi_coe = coes\n",
    "    index = CollisionIndex(margin, gamma, phi_power, dot_phi_coe)\n",
    "    valid = 0\n",
    "    net_path = \"../nnet/unicycle-FC3-100-rk4/epoch_1000.nnet\"\n",
    "    net = read_nnet(net_path);\n",
    "    dt = 0.1\n",
    "    infeas_states = Dict()\n",
    "    infeas_map = zeros(size(col_samples)[1:2])\n",
    "    for (idx, sample) in pairs(col_samples)\n",
    "        x, obs = sample\n",
    "        if norm(x[1:2]) < 1e-8 # overlaped with the obstacle\n",
    "            valid += 1\n",
    "            continue\n",
    "        end\n",
    "        ctrl = ShootingController(1000)\n",
    "        feas = exists_valid_control(index, ctrl, x, obs, net, dt)\n",
    "        valid += feas\n",
    "        feas && continue\n",
    "        haskey(infeas_states, (idx[1], idx[2])) || (infeas_states[(idx[1], idx[2])] = [])\n",
    "        push!(infeas_states[(idx[1], idx[2])], sample)\n",
    "        infeas_map[idx[1], idx[2]] += 1\n",
    "    end\n",
    "    return Float64(length(col_samples)-valid), infeas_states, infeas_map\n",
    "end"
   ]
  },
  {
   "cell_type": "code",
   "execution_count": 8,
   "metadata": {},
   "outputs": [
    {
     "data": {
      "text/plain": [
       "grad_phi (generic function with 2 methods)"
      ]
     },
     "execution_count": 8,
     "metadata": {},
     "output_type": "execute_result"
    }
   ],
   "source": [
    "function ctrl_collision_stat(num, ci; ctrl=nothing, verbose=false, min_invas=false)\n",
    "    Random.seed!(127)\n",
    "    success = 0\n",
    "    phi0_vio_cnt = 0\n",
    "    infeas_cnt = 0\n",
    "    \n",
    "    n = 2\n",
    "    dt = 0.1\n",
    "    obj_cost = [1,1,1,0.1]\n",
    "\n",
    "    net_path = \"../nnet/unicycle-FC3-100-rk4/epoch_1000.nnet\"\n",
    "    net = read_nnet(net_path);\n",
    "\n",
    "    safeties = []\n",
    "    x0_safeties = []\n",
    "    objs = []\n",
    "    unsafe_cnt = 0\n",
    "    next_safe_cnt = 0\n",
    "\n",
    "    seed = 0\n",
    "    while unsafe_cnt < num\n",
    "        seed += 1\n",
    "        Random.seed!(seed)\n",
    "        \n",
    "        x0 = [0,-1.5,1+rand(),π/2+rand()*π/2-π/4]\n",
    "        # @show x0\n",
    "        u_ref = rand(2) .* ctrl.u_lim * 2 - ctrl.u_lim\n",
    "        x_ref = forward(x0, u_ref, dt)\n",
    "        \n",
    "        obstacles = [Obstacle([0, rand()-0.5], [0, 0], obs_radius)]\n",
    "\n",
    "        x0_safety = max(0, maximum([phi(ci, x0, obs) for obs in obstacles]))\n",
    "        unsafe_cnt += (x0_safety > 0)\n",
    "\n",
    "        if x0_safety <= 0\n",
    "            continue\n",
    "        end\n",
    "\n",
    "        # if unsafe_cnt != 7\n",
    "        #     continue\n",
    "        # end\n",
    "        \n",
    "        u, safe_set = get_control(ctrl, x_ref, x0, net, obj_cost, dt; obstacles=obstacles, safety_index=ci, u_ref=min_invas ? u_ref : nothing)\n",
    "        u = isnothing(u) ? (isnothing(u_ref) ? [0., 0.] : u_ref) : u\n",
    "        x = forward(x0, u, dt)\n",
    "\n",
    "        push!(objs, quad_cost(x, x_ref, obj_cost))\n",
    "        push!(x0_safeties, x0_safety)\n",
    "        push!(safeties, max(0, maximum([phi(ci, x, obs) for obs in obstacles])))\n",
    "        \n",
    "        safety = maximum([phi(ci, x, obs) for obs in obstacles])\n",
    "        # Expect: safety < x0_safety - ci.gamma * dt\n",
    "        if safety < x0_safety - ci.gamma * dt\n",
    "            next_safe_cnt += 1\n",
    "        end\n",
    "\n",
    "        if verbose\n",
    "            # @show j, success, phi0_vio_cnt, infeas_cnt\n",
    "        end\n",
    "    end\n",
    "    @show mean(objs)\n",
    "    @show mean(safeties)\n",
    "    @show mean(x0_safeties)\n",
    "    @show next_safe_cnt\n",
    "    # @show objs\n",
    "    # @show safeties\n",
    "    # @show x0_safeties\n",
    "\n",
    "end\n",
    "ci = CollisionIndex(0.1, 0.1, 2, 0.1)\n",
    "# ci = CollisionIndex(0.728854, 0.00915763, 0.277308, 1.05736)\n",
    "include(\"controller.jl\")\n",
    "include(\"safe_set.jl\")"
   ]
  },
  {
   "cell_type": "code",
   "execution_count": 9,
   "metadata": {},
   "outputs": [
    {
     "data": {
      "text/plain": [
       "0.1"
      ]
     },
     "execution_count": 9,
     "metadata": {},
     "output_type": "execute_result"
    }
   ],
   "source": [
    "ci.gamma"
   ]
  },
  {
   "cell_type": "code",
   "execution_count": 10,
   "metadata": {},
   "outputs": [
    {
     "name": "stdout",
     "output_type": "stream",
     "text": [
      "ShootingController 100\n",
      "mean(objs) = 0.03334411155613559\n",
      "mean(safeties) = 1.1701775101609142\n",
      "mean(x0_safeties) = 1.3850537013150683\n",
      "next_safe_cnt = 100\n",
      "t.time = 3.561472619\n",
      "ShootingController 1000\n",
      "mean(objs) = 0.027326816053423023\n",
      "mean(safeties) = 1.1845910940582036\n",
      "mean(x0_safeties) = 1.3850537013150683\n",
      "next_safe_cnt = 100\n",
      "t.time = 1.339102973\n",
      "ShootingController 10000\n",
      "mean(objs) = 0.02630976058295553\n",
      "mean(safeties) = 1.1849330222060155\n",
      "mean(x0_safeties) = 1.3850537013150683\n",
      "next_safe_cnt = 100\n",
      "t.time = 13.673118192\n",
      "ShootingController 100000\n",
      "mean(objs) = 0.026045426006856803\n",
      "mean(safeties) = 1.1854599788954665\n",
      "mean(x0_safeties) = 1.3850537013150683\n",
      "next_safe_cnt = 100\n",
      "t.time = 138.085298487\n"
     ]
    },
    {
     "data": {
      "text/plain": [
       "138.085298487"
      ]
     },
     "execution_count": 10,
     "metadata": {},
     "output_type": "execute_result"
    }
   ],
   "source": [
    "# println(\"AdamBA 1\")\n",
    "# t = @timed ctrl_collision_stat(100, ci, ctrl = AdamBAController(1), min_invas=true);\n",
    "# @show t.time\n",
    "println(\"ShootingController 100\")\n",
    "t = @timed ctrl_collision_stat(100, ci, ctrl = ShootingController(100), min_invas=true);\n",
    "@show t.time\n",
    "println(\"ShootingController 1000\")\n",
    "t = @timed ctrl_collision_stat(100, ci, ctrl = ShootingController(1000), min_invas=true);\n",
    "@show t.time\n",
    "println(\"ShootingController 10000\")\n",
    "t = @timed ctrl_collision_stat(100, ci, ctrl = ShootingController(10000), min_invas=true);\n",
    "@show t.time\n",
    "println(\"ShootingController 100000\")\n",
    "t = @timed ctrl_collision_stat(100, ci, ctrl = ShootingController(100000), min_invas=true);\n",
    "@show t.time"
   ]
  },
  {
   "cell_type": "code",
   "execution_count": 45,
   "metadata": {},
   "outputs": [
    {
     "name": "stdout",
     "output_type": "stream",
     "text": [
      "AdamBA 10\n",
      "mean(objs) = 0.03408957567400331\n",
      "mean(safeties) = 1.6687598766227736\n",
      "mean(x0_safeties) = 1.7831469515407297\n",
      "next_safe_cnt = 1\n",
      "objs = Any[0.03408957567400331]\n",
      "safeties = Any[1.6687598766227736]\n",
      "t.time = 0.550524278\n",
      "AdamBA 100\n",
      "mean(objs) = 0.03222553108966779\n",
      "mean(safeties) = 1.6731558938396147\n",
      "mean(x0_safeties) = 1.7831469515407297\n",
      "next_safe_cnt = 1\n",
      "objs = Any[0.03222553108966779]\n",
      "safeties = Any[1.6731558938396147]\n",
      "t.time = 0.022222433\n",
      "AdamBA 1000\n",
      "mean(objs) = 0.0324896506381907\n",
      "mean(safeties) = 1.672538556688628\n",
      "mean(x0_safeties) = 1.7831469515407297\n",
      "next_safe_cnt = 1\n",
      "objs = Any[0.0324896506381907]\n",
      "safeties = Any[1.672538556688628]\n",
      "t.time = 0.223682788\n"
     ]
    },
    {
     "data": {
      "text/plain": [
       "0.223682788"
      ]
     },
     "execution_count": 45,
     "metadata": {},
     "output_type": "execute_result"
    }
   ],
   "source": [
    "# println(\"AdamBA 1\")\n",
    "# t = @timed ctrl_collision_stat(100, ci, ctrl = AdamBAController(1), min_invas=true);\n",
    "# @show t.time\n",
    "println(\"AdamBA 10\")\n",
    "t = @timed ctrl_collision_stat(100, ci, ctrl = AdamBAController(10), min_invas=true);\n",
    "@show t.time\n",
    "println(\"AdamBA 100\")\n",
    "t = @timed ctrl_collision_stat(100, ci, ctrl = AdamBAController(100), min_invas=true);\n",
    "@show t.time\n",
    "println(\"AdamBA 1000\")\n",
    "t = @timed ctrl_collision_stat(100, ci, ctrl = AdamBAController(1000), min_invas=true);\n",
    "@show t.time"
   ]
  },
  {
   "cell_type": "code",
   "execution_count": 46,
   "metadata": {},
   "outputs": [
    {
     "name": "stdout",
     "output_type": "stream",
     "text": [
      "AdamBA 10000\n",
      "mean(objs) = 0.03244178420787575\n",
      "mean(safeties) = 1.67265058518851\n",
      "mean(x0_safeties) = 1.7831469515407297\n",
      "next_safe_cnt = 1\n",
      "objs = Any[0.03244178420787575]\n",
      "safeties = Any[1.67265058518851]\n",
      "t.time = 2.522140925\n"
     ]
    },
    {
     "data": {
      "text/plain": [
       "2.522140925"
      ]
     },
     "execution_count": 46,
     "metadata": {},
     "output_type": "execute_result"
    }
   ],
   "source": [
    "println(\"AdamBA 10000\")\n",
    "t = @timed ctrl_collision_stat(100, ci, ctrl = AdamBAController(10000), min_invas=true);\n",
    "@show t.time"
   ]
  },
  {
   "cell_type": "code",
   "execution_count": 9,
   "metadata": {},
   "outputs": [
    {
     "name": "stdout",
     "output_type": "stream",
     "text": [
      "MIND adam 0\n",
      "mean(objs) = 0.025856311489413423\n",
      "mean(safeties) = 1.1852410759975889\n",
      "mean(x0_safeties) = 1.3850537013150683\n",
      "next_safe_cnt = 100\n",
      "t.time = 60.25398101\n",
      "AdamBA 1000\n",
      "mean(objs) = 0.02588940064394062\n",
      "mean(safeties) = 1.1853327552229165\n",
      "mean(x0_safeties) = 1.3850537013150683\n",
      "next_safe_cnt = 100\n",
      "t.time = 15.70886455\n"
     ]
    },
    {
     "data": {
      "text/plain": [
       "15.70886455"
      ]
     },
     "execution_count": 9,
     "metadata": {},
     "output_type": "execute_result"
    }
   ],
   "source": [
    "# a = [0.9240933406713393, 1.1285852758920145, 0.8150766026065783, 1.1016071140982289, 0.9882358314347126, 0.9434793868219085, 1.6725906561770425, 0.6113902337221013, 1.2306118525765102, 0.9593176997918553, 1.3930823866083786, 0.7847814372365992, 0.7885262427228066, 0.8899898196912508, 1.1194212187150119, 1.5175075937045106, 0.8971530299315629, 1.34175751737654, 1.4638389283868207, 1.0820244956487364, 0.7754372657459034, 0.8114512502690528, 1.2895380433196393, 1.0988915200958749, 1.1702414723438923, 1.4616126101850966, 1.2125007576638158, 0.872865063255638, 1.9386641044227118, 0.9226131040466722, 0.7129903892540643, 1.6654108199133946, 1.5549876563056646, 1.3873588806901178, 1.4765811650973717, 0.9197246016147433, 1.1921712994871199, 1.610362010277241, 0.665582346161891, 0.9574725754060804, 1.2270736211333884, 1.039323539836434, 0.9335841640153117, 0.8912076626761317, 1.178613869187875, 1.1476460300871296, 1.3456559837339817, 1.5147620377255173, 1.0851100331088968, 2.025706615382685, 1.465786120555888, 1.5758437213836045, 1.3747507925451112, 1.514696114782711, 1.0787511849648712, 1.2778081004129165, 1.4812062607454481, 1.1940242193520108, 1.2671272964139297, 0.5528866938629824, 1.750558686933631, 1.5193468895804731, 0.8524663199861438, 1.7599165303325204, 1.3515136815318292, 1.3837036311579065, 1.5880831919948328, 1.3435958101024181, 1.2759912066889614, 0.7381259545578985, 0.73296600146397, 0.9471806825751471, 1.1131543244039788, 0.8536413717288162, 1.6115270460675597, 1.1668625527470282, 0.7722461217080746, 0.6786116331417779, 1.014032704176449, 1.358596122815872, 1.387103672062142, 1.834677994712349, 1.6149555741863828, 1.5688623233518488, 1.1785995383086505, 1.1853505150484296, 1.4665387869862792, 1.0558289795362412, 0.9108658242363759, 1.1966668778130802, 1.1988699311187603, 1.1327034142171188, 0.9207035331288589, 1.2220422733947698, 0.9239849968612689, 1.0395731859140256, 1.2074618398920438, 0.9939465429304586, 1.2783957592802166, 0.8737639118069738]\n",
    "# b = [0.9240933406713393, 1.1285852758920147, 0.8150766026065783, 1.2538944662649214, 0.9882358314347126, 1.018550753942142, 1.5821593636172415, 0.6294387898555892, 1.2306118525765102, 0.9593176997918553, 1.3288404145194104, 0.6136038541537142, 0.7885262427228066, 0.6686305915461584, 1.1194212187150119, 1.4530081392812304, 0.8971530299315629, 1.3366592038519216, 1.3957806660884235, 0.8461386480601483, 0.7754372657459035, 0.8114512502690528, 1.2895380433196393, 1.1356924946190035, 1.1702414723438923, 1.4616126101850966, 1.2824183770159372, 0.872865063255638, 1.9386641044227118, 0.9226131040466722, 0.717859369063162, 1.6654108199133946, 1.5467202978573822, 1.3873588806901178, 1.4738694729623387, 0.9535186076236677, 1.2026415959425336, 1.4440071078873638, 0.665582346161891, 0.93087211656529, 1.2778761762935165, 1.039323539836434, 0.9763474133173818, 0.8912076626761317, 1.178613869187875, 1.1476460300871296, 1.4127982217968929, 1.5147620377255173, 1.0108678654409176, 1.8370854448484004, 1.5136983710511311, 1.6934062475985836, 1.2991077529099246, 1.407705445072834, 1.0787511849648712, 1.2306197824770488, 1.4904629233928928, 1.1467840229865878, 1.2175393372545789, 0.5528866938629824, 1.750558686933631, 1.2754502148534816, 0.8524663199861438, 1.639877483262146, 1.2973048836444097, 1.3739165236067754, 1.5880831919948328, 1.2589529384552096, 1.2972915065003567, 0.7381259545578986, 0.73296600146397, 0.8942214656905456, 1.0725116854576517, 0.8536413717288162, 1.4882117957171392, 1.1476285458753828, 0.7722461217080746, 0.6786116331417779, 0.9230991404713407, 1.3251349345120993, 1.387103672062142, 1.7437013833073567, 1.5145398365241969, 1.4739654306020127, 1.1785995383086505, 1.156654024864681, 1.496170083394904, 0.9615470920650548, 0.9108658242363759, 1.279129009637253, 1.1988699311187603, 1.1252824415068956, 0.9207035331288589, 1.2220422733947698, 0.9239849968612689, 1.0395731859140256, 1.2074618398920438, 0.9939465429304586, 1.3471068598830225, 0.9251774394916732]\n",
    "# findall(a .> b)\n",
    "println(\"MIND adam 0\")\n",
    "t = @timed ctrl_collision_stat(100, ci, ctrl = AdamNvController(0), min_invas=true);\n",
    "@show t.time\n",
    "println(\"AdamBA 1000\")\n",
    "t = @timed ctrl_collision_stat(100, ci, ctrl = AdamBAController(1000), min_invas=true);\n",
    "@show t.time"
   ]
  },
  {
   "cell_type": "code",
   "execution_count": 40,
   "metadata": {},
   "outputs": [
    {
     "data": {
      "text/plain": [
       "grad_phi (generic function with 2 methods)"
      ]
     },
     "execution_count": 40,
     "metadata": {},
     "output_type": "execute_result"
    }
   ],
   "source": [
    "# ci = CollisionIndex(0.1, 1e-1, 2, 1)\n",
    "ci = CollisionIndex(0.728854, 0.00915763, 0.277308, 1.05736)\n",
    "include(\"controller.jl\")\n",
    "include(\"safe_set.jl\")"
   ]
  },
  {
   "cell_type": "code",
   "execution_count": 11,
   "metadata": {},
   "outputs": [
    {
     "name": "stdout",
     "output_type": "stream",
     "text": [
      "mean(objs) = 0.010735292224368746\n",
      "mean(safeties) = 0.618376953392255\n",
      "mean(x0_safeties) = 0.3974052085097087\n",
      "unsafe_cnt = 100\n"
     ]
    }
   ],
   "source": [
    "ctrl_collision_stat(100, ci, ctrl = NvController(), min_invas=true);"
   ]
  },
  {
   "cell_type": "code",
   "execution_count": 13,
   "metadata": {},
   "outputs": [
    {
     "data": {
      "text/plain": [
       "get_control (generic function with 5 methods)"
      ]
     },
     "execution_count": 13,
     "metadata": {},
     "output_type": "execute_result"
    }
   ],
   "source": [
    "include(\"controller.jl\")"
   ]
  },
  {
   "cell_type": "code",
   "execution_count": 25,
   "metadata": {},
   "outputs": [
    {
     "name": "stdout",
     "output_type": "stream",
     "text": [
      "MIND\n"
     ]
    },
    {
     "ename": "LoadError",
     "evalue": "\u001b[91mInterruptException:\u001b[39m",
     "output_type": "error",
     "traceback": [
      "\u001b[91mInterruptException:\u001b[39m",
      "",
      "Stacktrace:",
      " [1] get(::MathOptInterface.Utilities.CachingOptimizer{MathOptInterface.AbstractOptimizer,MathOptInterface.Utilities.UniversalFallback{MathOptInterface.Utilities.GenericModel{Float64,MathOptInterface.Utilities.ModelFunctionConstraints{Float64}}}}, ::MathOptInterface.TerminationStatus) at /home/wth/.julia/packages/MathOptInterface/YDdD3/src/Utilities/cachingoptimizer.jl:732",
      " [2] get(::Model, ::MathOptInterface.TerminationStatus) at /home/wth/.julia/packages/JuMP/Xrr7O/src/JuMP.jl:1102",
      " [3] termination_status at /home/wth/.julia/packages/JuMP/Xrr7O/src/JuMP.jl:644 [inlined]",
      " [4] solve(::NNDynTrack, ::TrackingProblem{Hyperrectangle{Float64,Array{Float64,1},Array{Float64,1}},HPolytope{Float64,Array{Float64,1}},Array{Float64,1},Array{Float64,1}}, ::Nothing; u_ref::Array{Float64,1}, xu_init::Array{Float64,1}) at /home/wth/dev/NeuralVerification.jl/src/optimization/nnDyn.jl:37",
      " [5] get_control(::NvController, ::Array{Float64,1}, ::Array{Float64,1}, ::Network, ::Array{Float64,1}, ::Float64; obstacles::Array{Obstacle,1}, safety_index::CollisionIndex, u_ref::Array{Float64,1}) at /home/wth/dev/nn-safe-control/src/controller.jl:241",
      " [6] ctrl_collision_stat(::Int64, ::CollisionIndex; ctrl::NvController, verbose::Bool, min_invas::Bool) at ./In[18]:43",
      " [7] top-level scope at ./timing.jl:310 [inlined]",
      " [8] top-level scope at ./In[25]:0",
      " [9] include_string(::Function, ::Module, ::String, ::String) at ./loading.jl:1091"
     ]
    }
   ],
   "source": [
    "println(\"MIND\")\n",
    "t = @timed ctrl_collision_stat(100, ci, ctrl = NvController(), min_invas=true);\n",
    "@show t.time"
   ]
  },
  {
   "cell_type": "code",
   "execution_count": 14,
   "metadata": {},
   "outputs": [
    {
     "name": "stdout",
     "output_type": "stream",
     "text": [
      "MIND adam 0\n",
      "mean(objs) = 0.025856311489413423\n",
      "mean(safeties) = 1.1852410759975889\n",
      "mean(x0_safeties) = 1.3850537013150683\n",
      "next_safe_cnt = 100\n",
      "t.time = 36.207394484\n"
     ]
    },
    {
     "data": {
      "text/plain": [
       "36.207394484"
      ]
     },
     "execution_count": 14,
     "metadata": {},
     "output_type": "execute_result"
    }
   ],
   "source": [
    "println(\"MIND adam 0\")\n",
    "t = @timed ctrl_collision_stat(100, ci, ctrl = AdamNvController(0), min_invas=true);\n",
    "@show t.time"
   ]
  },
  {
   "cell_type": "code",
   "execution_count": 10,
   "metadata": {},
   "outputs": [
    {
     "name": "stdout",
     "output_type": "stream",
     "text": [
      "MIND adam 0\n",
      "mean(objs) = 0.025856311489413423\n",
      "mean(safeties) = 1.1852410759975889\n",
      "mean(x0_safeties) = 1.3850537013150683\n",
      "next_safe_cnt = 100\n",
      "t.time = 35.599022046\n"
     ]
    }
   ],
   "source": [
    "println(\"MIND adam 0\")\n",
    "t = @timed ctrl_collision_stat(100, ci, ctrl = AdamNvController(0), min_invas=true);\n",
    "@show t.time"
   ]
  },
  {
   "cell_type": "code",
   "execution_count": 11,
   "metadata": {},
   "outputs": [
    {
     "name": "stdout",
     "output_type": "stream",
     "text": [
      "MIND adam 100\n",
      "mean(objs) = 0.025856311489413423\n",
      "mean(safeties) = 1.1852410759975889\n",
      "mean(x0_safeties) = 1.3850537013150683\n",
      "next_safe_cnt = 100\n",
      "t.time = 37.168160258\n",
      "MIND adam 200\n",
      "mean(objs) = 0.025856311489413423\n",
      "mean(safeties) = 1.1852410759975889\n",
      "mean(x0_safeties) = 1.3850537013150683\n",
      "next_safe_cnt = 100\n",
      "t.time = 38.560330322\n"
     ]
    },
    {
     "data": {
      "text/plain": [
       "38.560330322"
      ]
     },
     "execution_count": 11,
     "metadata": {},
     "output_type": "execute_result"
    }
   ],
   "source": [
    "println(\"MIND adam 100\")\n",
    "t = @timed ctrl_collision_stat(100, ci, ctrl = AdamNvController(100), min_invas=true);\n",
    "@show t.time\n",
    "println(\"MIND adam 200\")\n",
    "t = @timed ctrl_collision_stat(100, ci, ctrl = AdamNvController(200), min_invas=true);\n",
    "@show t.time"
   ]
  },
  {
   "cell_type": "code",
   "execution_count": 12,
   "metadata": {},
   "outputs": [
    {
     "name": "stdout",
     "output_type": "stream",
     "text": [
      "AdamBA 10\n",
      "mean(objs) = 0.02846522423901491\n",
      "mean(safeties) = 1.1887120385683168\n",
      "mean(x0_safeties) = 1.3850537013150683\n",
      "next_safe_cnt = 100\n",
      "t.time = 0.127758681\n",
      "AdamBA 100\n",
      "mean(objs) = 0.026154209072604778\n",
      "mean(safeties) = 1.186429603323412\n",
      "mean(x0_safeties) = 1.3850537013150683\n",
      "next_safe_cnt = 100\n",
      "t.time = 1.514230697\n",
      "AdamBA 1000\n",
      "mean(objs) = 0.02588940064394062\n",
      "mean(safeties) = 1.1853327552229165\n",
      "mean(x0_safeties) = 1.3850537013150683\n",
      "next_safe_cnt = 100\n",
      "t.time = 15.012741526\n"
     ]
    },
    {
     "data": {
      "text/plain": [
       "15.012741526"
      ]
     },
     "execution_count": 12,
     "metadata": {},
     "output_type": "execute_result"
    }
   ],
   "source": [
    "println(\"AdamBA 10\")\n",
    "t = @timed ctrl_collision_stat(100, ci, ctrl = AdamBAController(10), min_invas=true);\n",
    "@show t.time\n",
    "println(\"AdamBA 100\")\n",
    "t = @timed ctrl_collision_stat(100, ci, ctrl = AdamBAController(100), min_invas=true);\n",
    "@show t.time\n",
    "println(\"AdamBA 1000\")\n",
    "t = @timed ctrl_collision_stat(100, ci, ctrl = AdamBAController(1000), min_invas=true);\n",
    "@show t.time"
   ]
  },
  {
   "cell_type": "code",
   "execution_count": 15,
   "metadata": {},
   "outputs": [
    {
     "name": "stdout",
     "output_type": "stream",
     "text": [
      "AdamBA 2000\n",
      "mean(objs) = 0.02585874900476202\n",
      "mean(safeties) = 1.1852488944525295\n",
      "mean(x0_safeties) = 1.3850537013150683\n",
      "next_safe_cnt = 100\n",
      "t.time = 29.197176705\n",
      "AdamBA 10000\n",
      "mean(objs) = 0.02585715713599576\n",
      "mean(safeties) = 1.1852461068699995\n",
      "mean(x0_safeties) = 1.3850537013150683\n",
      "next_safe_cnt = 100\n",
      "t.time = 146.795303865\n"
     ]
    },
    {
     "data": {
      "text/plain": [
       "146.795303865"
      ]
     },
     "execution_count": 15,
     "metadata": {},
     "output_type": "execute_result"
    }
   ],
   "source": [
    "println(\"AdamBA 2000\")\n",
    "t = @timed ctrl_collision_stat(100, ci, ctrl = AdamBAController(2000), min_invas=true);\n",
    "@show t.time\n",
    "println(\"AdamBA 10000\")\n",
    "t = @timed ctrl_collision_stat(100, ci, ctrl = AdamBAController(10000), min_invas=true);\n",
    "@show t.time"
   ]
  },
  {
   "cell_type": "code",
   "execution_count": 2,
   "metadata": {},
   "outputs": [
    {
     "name": "stdout",
     "output_type": "stream",
     "text": [
      "shooting 1000\n"
     ]
    },
    {
     "ename": "LoadError",
     "evalue": "\u001b[91mUndefVarError: ShootingController not defined\u001b[39m",
     "output_type": "error",
     "traceback": [
      "\u001b[91mUndefVarError: ShootingController not defined\u001b[39m",
      "",
      "Stacktrace:",
      " [1] top-level scope at ./timing.jl:310 [inlined]",
      " [2] top-level scope at ./In[2]:0",
      " [3] include_string(::Function, ::Module, ::String, ::String) at ./loading.jl:1091"
     ]
    }
   ],
   "source": [
    "println(\"shooting 1000\")\n",
    "t = @timed ctrl_collision_stat(100, ci, ctrl = ShootingController(1000), min_invas=true);\n",
    "@show t.time\n",
    "println(\"shooting 10000\")\n",
    "t = @timed ctrl_collision_stat(100, ci, ctrl = ShootingController(10000), min_invas=true);\n",
    "@show t.time"
   ]
  },
  {
   "cell_type": "code",
   "execution_count": 67,
   "metadata": {},
   "outputs": [
    {
     "name": "stdout",
     "output_type": "stream",
     "text": [
      "MIND\n",
      "mean(objs) = 0.010329527241514121\n",
      "mean(safeties) = 0.6181879794934849\n",
      "mean(x0_safeties) = 0.3974052085097087\n",
      "unsafe_cnt = 100\n",
      "t.time = 42.340758727\n"
     ]
    },
    {
     "data": {
      "text/plain": [
       "42.340758727"
      ]
     },
     "execution_count": 67,
     "metadata": {},
     "output_type": "execute_result"
    }
   ],
   "source": [
    "println(\"MIND\")\n",
    "t = @timed ctrl_collision_stat(100, ci, ctrl = NvController());\n",
    "@show t.time"
   ]
  },
  {
   "cell_type": "code",
   "execution_count": 64,
   "metadata": {},
   "outputs": [
    {
     "name": "stdout",
     "output_type": "stream",
     "text": [
      "AdamBA 100\n",
      "mean(objs) = 0.00570127908050178\n",
      "mean(safeties) = 0.6232056469212774\n",
      "mean(x0_safeties) = 0.3974052085097087\n",
      "unsafe_cnt = 100\n",
      "t.time = 72.229913719\n",
      "AdamBA 200\n",
      "mean(objs) = 0.0065632473538424115\n",
      "mean(safeties) = 0.6183959154306374\n",
      "mean(x0_safeties) = 0.3974052085097087\n",
      "unsafe_cnt = 100\n",
      "t.time = 73.667533575\n",
      "AdamBA 1000\n",
      "mean(objs) = 0.010510589984142282\n",
      "mean(safeties) = 0.618204532353517\n",
      "mean(x0_safeties) = 0.3974052085097087\n",
      "unsafe_cnt = 100\n",
      "t.time = 90.217513618\n"
     ]
    },
    {
     "data": {
      "text/plain": [
       "90.217513618"
      ]
     },
     "execution_count": 64,
     "metadata": {},
     "output_type": "execute_result"
    }
   ],
   "source": [
    "include(\"controller.jl\")\n",
    "println(\"AdamBA 100\")\n",
    "t = @timed ctrl_collision_stat(100, ci, ctrl = AdamBAController(100));\n",
    "@show t.time\n",
    "println(\"AdamBA 200\")\n",
    "t = @timed ctrl_collision_stat(100, ci, ctrl = AdamBAController(200));\n",
    "@show t.time\n",
    "println(\"AdamBA 1000\")\n",
    "t = @timed ctrl_collision_stat(100, ci, ctrl = AdamBAController(1000));\n",
    "@show t.time"
   ]
  },
  {
   "cell_type": "code",
   "execution_count": 22,
   "metadata": {},
   "outputs": [
    {
     "name": "stdout",
     "output_type": "stream",
     "text": [
      "MIND adam 0\n",
      "mean(objs) = 0.025856311489413423\n",
      "mean(safeties) = 1.1852410759975889\n",
      "mean(x0_safeties) = 1.3850537013150683\n",
      "next_safe_cnt = 100\n",
      "objs = Any[0.0, 4.935195482492292e-32, 0.0, 0.0016126192021159282, 0.0, 0.00010530920551155175, 0.03246739933414052, 0.02443982791597609, 0.0, 0.0, 0.13982993918017148, 0.0009026637579596908, 0.0, 0.031611629459301765, 0.0, 0.014523527541330386, 1.232595164407831e-32, 0.00010403724347986067, 0.0642559555041486, 0.00022251532230335868, 1.232595164407831e-32, 0.0, 0.0, 0.006923130826817709, 0.0, 0.0, 0.024547211336191775, 0.0, 0.0, 0.0, 0.06743851898282306, 5.89816045468591e-34, 0.07353951477761797, 0.0, 0.20855967088408217, 0.0015022116376389948, 0.00519266629226399, 0.02537906285403969, 0.0, 0.02581463583345446, 0.05082108250841586, 0.0, 0.04062193859890905, 0.0, 4.942417719783744e-33, 0.0, 0.03984959442481309, 0.0, 0.11322472303373288, 0.03309426313738939, 0.11982988737907241, 0.0498312964115266, 0.12014053520324029, 0.09164735400024132, 0.0, 0.011944669116184619, 0.0446283662234003, 0.034241145353986716, 0.07328926162446987, 0.0, 0.0, 0.026280678032170227, 0.0, 0.04460575078341681, 0.12245317191496598, 0.041949619736706606, 0.0, 0.0031383668917986498, 0.0006077757208168927, 1.232595164407831e-32, 0.0, 0.04378874456193116, 0.07226943609864238, 0.0, 0.06265396013647548, 0.02629781058112893, 0.0, 0.0, 0.08578130771722993, 8.958293367687122e-5, 0.0, 0.15923588951994175, 0.018759806815212637, 0.007260478741062979, 0.0, 0.012987631900352993, 7.55905641684172e-6, 0.2073757711752206, 0.0, 0.02081801133307549, 0.0, 0.010925913335002256, 0.0, 0.0, 0.0, 1.2037062152420224e-35, 0.0, 3.009265538105056e-36, 0.046005028122385064, 0.00020268972696057725]\n",
      "safeties = Any[0.9240933406713393, 1.1285852758920145, 0.8150766026065783, 1.1016071140982289, 0.9882358314347126, 0.9434793868219085, 1.6725906561770425, 0.6113902337221013, 1.2306118525765102, 0.9593176997918553, 1.3930823866083786, 0.7847814372365992, 0.7885262427228066, 0.8899898196912508, 1.1194212187150119, 1.5175075937045106, 0.8971530299315629, 1.34175751737654, 1.4638389283868207, 1.0820244956487364, 0.7754372657459034, 0.8114512502690528, 1.2895380433196393, 1.0988915200958749, 1.1702414723438923, 1.4616126101850966, 1.2125007576638158, 0.872865063255638, 1.9386641044227118, 0.9226131040466722, 0.7129903892540643, 1.6654108199133946, 1.5549876563056646, 1.3873588806901178, 1.4765811650973717, 0.9197246016147433, 1.1921712994871199, 1.610362010277241, 0.665582346161891, 0.9574725754060804, 1.2270736211333884, 1.039323539836434, 0.9335841640153117, 0.8912076626761317, 1.178613869187875, 1.1476460300871296, 1.3456559837339817, 1.5147620377255173, 1.0851100331088968, 2.025706615382685, 1.465786120555888, 1.5758437213836045, 1.3747507925451112, 1.514696114782711, 1.0787511849648712, 1.2778081004129165, 1.4812062607454481, 1.1940242193520108, 1.2671272964139297, 0.5528866938629824, 1.750558686933631, 1.5193468895804731, 0.8524663199861438, 1.7599165303325204, 1.3515136815318292, 1.3837036311579065, 1.5880831919948328, 1.3435958101024181, 1.2759912066889614, 0.7381259545578985, 0.73296600146397, 0.9471806825751471, 1.1131543244039788, 0.8536413717288162, 1.6115270460675597, 1.1668625527470282, 0.7722461217080746, 0.6786116331417779, 1.014032704176449, 1.358596122815872, 1.387103672062142, 1.834677994712349, 1.6149555741863828, 1.5688623233518488, 1.1785995383086505, 1.1853505150484296, 1.4665387869862792, 1.0558289795362412, 0.9108658242363759, 1.1966668778130802, 1.1988699311187603, 1.1327034142171188, 0.9207035331288589, 1.2220422733947698, 0.9239849968612689, 1.0395731859140256, 1.2074618398920438, 0.9939465429304586, 1.2783957592802166, 0.8737639118069738]\n",
      "t.time = 35.741975151\n"
     ]
    },
    {
     "data": {
      "text/plain": [
       "35.741975151"
      ]
     },
     "execution_count": 22,
     "metadata": {},
     "output_type": "execute_result"
    }
   ],
   "source": []
  },
  {
   "cell_type": "code",
   "execution_count": 51,
   "metadata": {},
   "outputs": [
    {
     "name": "stdout",
     "output_type": "stream",
     "text": [
      "MIND adam 0\n"
     ]
    },
    {
     "ename": "LoadError",
     "evalue": "\u001b[91mInterruptException:\u001b[39m",
     "output_type": "error",
     "traceback": [
      "\u001b[91mInterruptException:\u001b[39m",
      "",
      "Stacktrace:",
      " [1] get(::MathOptInterface.Utilities.CachingOptimizer{MathOptInterface.AbstractOptimizer,MathOptInterface.Utilities.UniversalFallback{MathOptInterface.Utilities.GenericModel{Float64,MathOptInterface.Utilities.ModelFunctionConstraints{Float64}}}}, ::MathOptInterface.TerminationStatus) at /home/wth/.julia/packages/MathOptInterface/YDdD3/src/Utilities/cachingoptimizer.jl:732",
      " [2] get(::Model, ::MathOptInterface.TerminationStatus) at /home/wth/.julia/packages/JuMP/Xrr7O/src/JuMP.jl:1102",
      " [3] termination_status at /home/wth/.julia/packages/JuMP/Xrr7O/src/JuMP.jl:644 [inlined]",
      " [4] solve(::NNDynTrack, ::TrackingProblem{Hyperrectangle{Float64,Array{Float64,1},Array{Float64,1}},HPolytope{Float64,Array{Float64,1}},Array{Float64,1},Array{Float64,1}}, ::Array{Float64,1}; u_ref::Array{Float64,1}, xu_init::Array{Float64,1}) at /home/wth/dev/NeuralVerification.jl/src/optimization/nnDyn.jl:37",
      " [5] get_control(::AdamNvController, ::Array{Float64,1}, ::Array{Float64,1}, ::Network, ::Array{Float64,1}, ::Float64; obstacles::Array{Obstacle,1}, safety_index::CollisionIndex, u_ref::Array{Float64,1}) at /home/wth/dev/nn-safe-control/src/controller.jl:123",
      " [6] ctrl_collision_stat(::Int64, ::CollisionIndex; ctrl::AdamNvController, verbose::Bool, min_invas::Bool) at ./In[49]:43",
      " [7] top-level scope at ./timing.jl:310 [inlined]",
      " [8] top-level scope at ./In[51]:0",
      " [9] include_string(::Function, ::Module, ::String, ::String) at ./loading.jl:1091"
     ]
    }
   ],
   "source": [
    "println(\"MIND adam 0\")\n",
    "t = @timed ctrl_collision_stat(100, ci, ctrl = AdamNvController(0), min_invas=true);\n",
    "@show t.time\n",
    "println(\"MIND adam 100\")\n",
    "t = @timed ctrl_collision_stat(100, ci, ctrl = AdamNvController(100), min_invas=true);\n",
    "@show t.time\n",
    "println(\"MIND adam 200\")\n",
    "t = @timed ctrl_collision_stat(100, ci, ctrl = AdamNvController(200), min_invas=true);\n",
    "@show t.time"
   ]
  },
  {
   "cell_type": "code",
   "execution_count": 50,
   "metadata": {},
   "outputs": [
    {
     "name": "stdout",
     "output_type": "stream",
     "text": [
      "MIND\n",
      "mean(objs) = 0.025856311470707768\n",
      "mean(safeties) = 1.1852410759037943\n",
      "mean(x0_safeties) = 1.3850537013150683\n",
      "next_safe_cnt = 100\n",
      "t.time = 170.822197971\n",
      "MIND adam 0\n",
      "mean(objs) = 0.025856311489413423\n",
      "mean(safeties) = 1.1852410759975889\n",
      "mean(x0_safeties) = 1.3850537013150683\n",
      "next_safe_cnt = 100\n",
      "t.time = 568.808211742\n",
      "MIND adam 100\n",
      "mean(objs) = 0.025856311489413423\n",
      "mean(safeties) = 1.1852410759975889\n",
      "mean(x0_safeties) = 1.3850537013150683\n",
      "next_safe_cnt = 100\n",
      "t.time = 367.453760616\n",
      "MIND adam 200\n",
      "mean(objs) = 0.025856311489413423\n",
      "mean(safeties) = 1.1852410759975889\n",
      "mean(x0_safeties) = 1.3850537013150683\n",
      "next_safe_cnt = 100\n",
      "t.time = 548.003841854\n",
      "AdamBA 10\n",
      "mean(objs) = 0.02846522423901491\n",
      "mean(safeties) = 1.1887120385683168\n",
      "mean(x0_safeties) = 1.3850537013150683\n",
      "next_safe_cnt = 100\n",
      "t.time = 0.375107059\n",
      "AdamBA 100\n",
      "mean(objs) = 0.026154209072604778\n",
      "mean(safeties) = 1.186429603323412\n",
      "mean(x0_safeties) = 1.3850537013150683\n",
      "next_safe_cnt = 100\n",
      "t.time = 2.069699151\n",
      "AdamBA 1000\n",
      "mean(objs) = 0.02588940064394062\n",
      "mean(safeties) = 1.1853327552229165\n",
      "mean(x0_safeties) = 1.3850537013150683\n",
      "next_safe_cnt = 100\n",
      "t.time = 19.998884254\n",
      "AdamBA 10000\n",
      "mean(objs) = 0.02585715713599576\n",
      "mean(safeties) = 1.1852461068699995\n",
      "mean(x0_safeties) = 1.3850537013150683\n",
      "next_safe_cnt = 100\n",
      "t.time = 181.852283202\n"
     ]
    },
    {
     "data": {
      "text/plain": [
       "181.852283202"
      ]
     },
     "execution_count": 50,
     "metadata": {},
     "output_type": "execute_result"
    }
   ],
   "source": [
    "ci = CollisionIndex(0.728854, 0.00915763, 0.277308, 1.05736)\n",
    "include(\"controller.jl\")\n",
    "include(\"safe_set.jl\")\n",
    "println(\"MIND\")\n",
    "t = @timed ctrl_collision_stat(100, ci, ctrl = NvController(), min_invas=true);\n",
    "@show t.time\n",
    "println(\"MIND adam 0\")\n",
    "t = @timed ctrl_collision_stat(100, ci, ctrl = AdamNvController(0), min_invas=true);\n",
    "@show t.time\n",
    "println(\"MIND adam 100\")\n",
    "t = @timed ctrl_collision_stat(100, ci, ctrl = AdamNvController(100), min_invas=true);\n",
    "@show t.time\n",
    "println(\"MIND adam 200\")\n",
    "t = @timed ctrl_collision_stat(100, ci, ctrl = AdamNvController(200), min_invas=true);\n",
    "@show t.time\n",
    "println(\"AdamBA 10\")\n",
    "t = @timed ctrl_collision_stat(100, ci, ctrl = AdamBAController(10), min_invas=true);\n",
    "@show t.time\n",
    "println(\"AdamBA 100\")\n",
    "t = @timed ctrl_collision_stat(100, ci, ctrl = AdamBAController(100), min_invas=true);\n",
    "@show t.time\n",
    "println(\"AdamBA 1000\")\n",
    "t = @timed ctrl_collision_stat(100, ci, ctrl = AdamBAController(1000), min_invas=true);\n",
    "@show t.time\n",
    "println(\"AdamBA 10000\")\n",
    "t = @timed ctrl_collision_stat(100, ci, ctrl = AdamBAController(10000), min_invas=true);\n",
    "@show t.time\n"
   ]
  },
  {
   "cell_type": "code",
   "execution_count": 45,
   "metadata": {},
   "outputs": [
    {
     "name": "stdout",
     "output_type": "stream",
     "text": [
      "mean(objs) = 0.05937712629586693\n",
      "mean(safeties) = 0.6105917568928835\n",
      "mean(x0_safeties) = 0.3974052085097087\n",
      "unsafe_cnt = 100\n",
      "mean(objs) = 0.05503180988366449\n",
      "mean(safeties) = 0.6531459480595868\n",
      "mean(x0_safeties) = 0.3974052085097087\n",
      "unsafe_cnt = 100\n"
     ]
    }
   ],
   "source": [
    "include(\"controller.jl\")\n",
    "ctrl_collision_stat(100, ci, ctrl = NvController());"
   ]
  },
  {
   "cell_type": "code",
   "execution_count": 73,
   "metadata": {},
   "outputs": [
    {
     "name": "stdout",
     "output_type": "stream",
     "text": [
      "mean(objs) = 0.04996880286758243\n",
      "mean(safeties) = 0.6898609257924996\n",
      "mean(x0_safeties) = 0.3974052085097087\n",
      "unsafe_cnt = 100\n"
     ]
    }
   ],
   "source": [
    "ctrl_collision_stat(100, ci, ctrl = ShootingController(1));"
   ]
  },
  {
   "cell_type": "code",
   "execution_count": 68,
   "metadata": {},
   "outputs": [
    {
     "name": "stdout",
     "output_type": "stream",
     "text": [
      "mean(objs) = 0.06261668094248928\n",
      "mean(safeties) = 0.6185657938551002\n",
      "mean(x0_safeties) = 0.3974052085097087\n",
      "unsafe_cnt = 100\n"
     ]
    }
   ],
   "source": [
    "ctrl_collision_stat(100, ci, ctrl = ShootingController(1000));"
   ]
  },
  {
   "cell_type": "code",
   "execution_count": 71,
   "metadata": {},
   "outputs": [
    {
     "name": "stdout",
     "output_type": "stream",
     "text": [
      "mean(objs) = 0.06121764319235339\n",
      "mean(safeties) = 0.6161597976289677\n",
      "mean(x0_safeties) = 0.3974052085097087\n",
      "unsafe_cnt = 100\n"
     ]
    }
   ],
   "source": [
    "ctrl_collision_stat(100, ci, ctrl = ShootingController(10000));"
   ]
  },
  {
   "cell_type": "code",
   "execution_count": 72,
   "metadata": {},
   "outputs": [
    {
     "name": "stdout",
     "output_type": "stream",
     "text": [
      "mean(objs) = 0.059603538107113635\n",
      "mean(safeties) = 0.6106403641514753\n",
      "mean(x0_safeties) = 0.3974052085097087\n",
      "unsafe_cnt = 100\n"
     ]
    }
   ],
   "source": [
    "ctrl_collision_stat(100, ci, ctrl = ShootingController(100000));"
   ]
  },
  {
   "cell_type": "code",
   "execution_count": 24,
   "metadata": {},
   "outputs": [
    {
     "name": "stdout",
     "output_type": "stream",
     "text": [
      "mean(objs) = 0.05937712629586693\n",
      "mean(safeties) = 0.6105917568928835\n",
      "mean(x0_safeties) = 0.3974052085097087\n",
      "unsafe_cnt = 100\n"
     ]
    }
   ],
   "source": []
  },
  {
   "cell_type": "code",
   "execution_count": 25,
   "metadata": {},
   "outputs": [
    {
     "name": "stdout",
     "output_type": "stream",
     "text": [
      "mean(objs) = 0.05937712629586693\n",
      "mean(safeties) = 0.6105917568928835\n",
      "mean(x0_safeties) = 0.3974052085097087\n",
      "unsafe_cnt = 100\n"
     ]
    }
   ],
   "source": [
    "ctrl_collision_stat(100, ci, ctrl = NvController());"
   ]
  },
  {
   "cell_type": "code",
   "execution_count": 54,
   "metadata": {},
   "outputs": [
    {
     "name": "stdout",
     "output_type": "stream",
     "text": [
      "mean(objs) = 4.7075676803460393e-7\n",
      "mean(safeties) = 0.6400621345162333\n",
      "mean(x0_safeties) = 0.3974052085097087\n",
      "unsafe_cnt = 100\n"
     ]
    }
   ],
   "source": [
    "include(\"controller.jl\")\n",
    "ctrl_collision_stat(100, ci, ctrl = AdamBAController(1000)); #debug, directly return nv results"
   ]
  },
  {
   "cell_type": "code",
   "execution_count": 58,
   "metadata": {},
   "outputs": [
    {
     "name": "stdout",
     "output_type": "stream",
     "text": [
      "mean(objs) = 0.049090845068017946\n",
      "mean(safeties) = 0.6559487935929158\n",
      "mean(x0_safeties) = 0.3974052085097087\n",
      "unsafe_cnt = 100\n"
     ]
    }
   ],
   "source": [
    "include(\"controller.jl\")\n",
    "ctrl_collision_stat(100, ci, ctrl = AdamBAController(10));"
   ]
  },
  {
   "cell_type": "code",
   "execution_count": 56,
   "metadata": {},
   "outputs": [
    {
     "name": "stdout",
     "output_type": "stream",
     "text": [
      "mean(objs) = 0.06072854172087785\n",
      "mean(safeties) = 0.6162420449369568\n",
      "mean(x0_safeties) = 0.3974052085097087\n",
      "unsafe_cnt = 100\n"
     ]
    }
   ],
   "source": [
    "include(\"controller.jl\")\n",
    "ctrl_collision_stat(100, ci, ctrl = AdamBAController(1000));"
   ]
  },
  {
   "cell_type": "code",
   "execution_count": 53,
   "metadata": {},
   "outputs": [
    {
     "name": "stdout",
     "output_type": "stream",
     "text": [
      "mean(objs) = 0.05503180988366449\n",
      "mean(safeties) = 0.6531459480595868\n",
      "mean(x0_safeties) = 0.3974052085097087\n",
      "unsafe_cnt = 100\n"
     ]
    }
   ],
   "source": [
    "include(\"controller.jl\")\n",
    "ctrl_collision_stat(100, ci, ctrl = AdamBAController(1000));"
   ]
  },
  {
   "cell_type": "code",
   "execution_count": 46,
   "metadata": {},
   "outputs": [
    {
     "name": "stdout",
     "output_type": "stream",
     "text": [
      "mean(objs) = 0.04996880286758243\n",
      "mean(safeties) = 0.6898609257924996\n",
      "mean(x0_safeties) = 0.3974052085097087\n",
      "unsafe_cnt = 100\n"
     ]
    }
   ],
   "source": [
    "include(\"controller.jl\")\n",
    "ctrl_collision_stat(100, ci, ctrl = AdamBAController(1));"
   ]
  },
  {
   "cell_type": "code",
   "execution_count": 50,
   "metadata": {},
   "outputs": [
    {
     "name": "stdout",
     "output_type": "stream",
     "text": [
      "mean(objs) = 0.061268216095466954\n",
      "mean(safeties) = 0.616701011775147\n",
      "mean(x0_safeties) = 0.3974052085097087\n",
      "unsafe_cnt = 100\n"
     ]
    }
   ],
   "source": [
    "include(\"controller.jl\")\n",
    "ctrl_collision_stat(100, ci, ctrl = AdamBAController(100,10));"
   ]
  },
  {
   "cell_type": "code",
   "execution_count": 51,
   "metadata": {},
   "outputs": [
    {
     "name": "stdout",
     "output_type": "stream",
     "text": [
      "mean(objs) = 0.05975939399769758\n",
      "mean(safeties) = 0.610766868592338\n",
      "mean(x0_safeties) = 0.3974052085097087\n",
      "unsafe_cnt = 100\n"
     ]
    }
   ],
   "source": [
    "include(\"controller.jl\")\n",
    "ctrl_collision_stat(100, ci, ctrl = AdamBAController(100,100));"
   ]
  },
  {
   "cell_type": "code",
   "execution_count": 52,
   "metadata": {},
   "outputs": [
    {
     "name": "stdout",
     "output_type": "stream",
     "text": [
      "mean(objs) = 0.06077597991123765\n",
      "mean(safeties) = 0.6163473517261459\n",
      "mean(x0_safeties) = 0.3974052085097087\n",
      "unsafe_cnt = 100\n"
     ]
    }
   ],
   "source": [
    "include(\"controller.jl\")\n",
    "ctrl_collision_stat(100, ci, ctrl = AdamBAController(1000,10));"
   ]
  },
  {
   "cell_type": "code",
   "execution_count": 74,
   "metadata": {},
   "outputs": [
    {
     "name": "stdout",
     "output_type": "stream",
     "text": [
      "mean(objs) = 0.06252044997892069\n",
      "mean(safeties) = 0.6189743179365318\n",
      "mean(x0_safeties) = 0.3974052085097087\n",
      "unsafe_cnt = 100\n"
     ]
    }
   ],
   "source": [
    "ctrl_collision_stat(100, ci, ctrl = AdamBAController(1000, 10));"
   ]
  },
  {
   "cell_type": "code",
   "execution_count": 75,
   "metadata": {},
   "outputs": [
    {
     "name": "stdout",
     "output_type": "stream",
     "text": [
      "mean(objs) = 0.0542412457276126\n",
      "mean(safeties) = 0.6815785075337627\n",
      "mean(x0_safeties) = 0.3974052085097087\n",
      "unsafe_cnt = 100\n"
     ]
    }
   ],
   "source": [
    "ctrl_collision_stat(100, ci, ctrl = AdamBAController(10, 1000));"
   ]
  },
  {
   "cell_type": "code",
   "execution_count": 76,
   "metadata": {},
   "outputs": [
    {
     "name": "stdout",
     "output_type": "stream",
     "text": [
      "mean(objs) = 0.06423595835454991\n",
      "mean(safeties) = 0.6309906128520527\n",
      "mean(x0_safeties) = 0.3974052085097087\n",
      "unsafe_cnt = 100\n"
     ]
    }
   ],
   "source": [
    "ctrl_collision_stat(100, ci, ctrl = AdamBAController(100, 100));"
   ]
  },
  {
   "cell_type": "code",
   "execution_count": 13,
   "metadata": {},
   "outputs": [],
   "source": [
    "function find_max(dot_x_ref, obj_cost)\n",
    "    \n",
    "    x_lim = [0.5, 0.5, 2, π]\n",
    "    # x_lim = [0.1, 0.1, 2, π]\n",
    "    u_lim = [4, π]\n",
    "    input = Hyperrectangle(low=[-x_lim; -u_lim], high=[x_lim; u_lim])\n",
    "    output_bound = [1.,1.,1.,1.] .* 1000\n",
    "    output = Hyperrectangle(dot_x_ref, output_bound)\n",
    "    problem = TrackingProblem(net, input, output, dot_x_ref, obj_cost)\n",
    "    result, start_values = NeuralVerification.solve(NNDynTrack(), problem)\n",
    "    x = result.input\n",
    "    dot_x = compute_output(net, x)\n",
    "    return dot_x\n",
    "end\n",
    "function find_max_v_a(ctrl::NvController, net)\n",
    "    \n",
    "    v_dot_x_ref = [1000.,1000.,0.,0.]\n",
    "    v_obj_cost = [1,1,0,0]\n",
    "    a_dot_x_ref = [0.,0.,1000.,0.]\n",
    "    a_obj_cost = [0,0,1,0]\n",
    "    \n",
    "    # max positive v\n",
    "    dot_x = find_max(v_dot_x_ref, v_obj_cost)\n",
    "    max_v = norm(dot_x[1:2])\n",
    "    @show dot_x\n",
    "    @show max_v\n",
    "\n",
    "    # max positve a\n",
    "    dot_x = find_max(a_dot_x_ref, a_obj_cost)\n",
    "    max_a = dot_x[3]\n",
    "    @show dot_x\n",
    "    @show max_a\n",
    "\n",
    "    # max negative v\n",
    "    dot_x = find_max(-v_dot_x_ref, v_obj_cost)\n",
    "    max_v = norm(dot_x[1:2])\n",
    "    @show dot_x\n",
    "    @show max_v\n",
    "\n",
    "    # max negative a\n",
    "    dot_x = find_max(-a_dot_x_ref, a_obj_cost)\n",
    "    max_a = dot_x[3]\n",
    "    @show dot_x\n",
    "    @show max_a\n",
    "end\n",
    "include(\"controller.jl\")\n",
    "find_max_v_a(NvController(), net)"
   ]
  },
  {
   "cell_type": "code",
   "execution_count": null,
   "metadata": {},
   "outputs": [],
   "source": [
    "# x_lim = [0.1, 0.1, 2, π]\n",
    "# u_lim = [4, π]\n",
    "# dot_x = [1.3754507922154657, 1.5349397117512167, 3.7547234479671623, -2.871642356616455]\n",
    "# max_v = 2.0610445896479437\n",
    "# dot_x = [1.9573293306380013, 0.2828251752514743, 4.008726879784431, -3.0297639968196197]\n",
    "# max_a = 0.2828251752514743\n",
    "# dot_x = [-1.5369360276450639, -1.3430358739067063, 3.969877843788106, -3.119788462845145]\n",
    "# max_v = 2.0410579883172693\n",
    "# dot_x = [-2.041141947924824, 0.20699559707716228, -4.010629566411886, 2.4005379725253957]\n",
    "# max_a = 0.20699559707716228"
   ]
  }
 ],
 "metadata": {
  "kernelspec": {
   "display_name": "Julia 1.5.3",
   "language": "julia",
   "name": "julia-1.5"
  },
  "language_info": {
   "file_extension": ".jl",
   "mimetype": "application/julia",
   "name": "julia",
   "version": "1.5.3"
  }
 },
 "nbformat": 4,
 "nbformat_minor": 4
}
